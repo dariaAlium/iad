{
  "nbformat": 4,
  "nbformat_minor": 0,
  "metadata": {
    "kernelspec": {
      "display_name": "Python 3",
      "language": "python",
      "name": "python3"
    },
    "language_info": {
      "codemirror_mode": {
        "name": "ipython",
        "version": 3
      },
      "file_extension": ".py",
      "mimetype": "text/x-python",
      "name": "python",
      "nbconvert_exporter": "python",
      "pygments_lexer": "ipython3",
      "version": "3.7.6"
    },
    "colab": {
      "name": "Lab_2. Clustering.ipynb",
      "provenance": [],
      "toc_visible": true,
      "include_colab_link": true
    }
  },
  "cells": [
    {
      "cell_type": "markdown",
      "metadata": {
        "id": "view-in-github",
        "colab_type": "text"
      },
      "source": [
        "<a href=\"https://colab.research.google.com/github/dariaAlium/iad/blob/master/Lab_2_Clustering.ipynb\" target=\"_parent\"><img src=\"https://colab.research.google.com/assets/colab-badge.svg\" alt=\"Open In Colab\"/></a>"
      ]
    },
    {
      "cell_type": "markdown",
      "metadata": {
        "id": "c9GMzhtJ3Zfo",
        "colab_type": "text"
      },
      "source": [
        "# <center> Майнор \"Интеллектуальный анализ данных\" </center>"
      ]
    },
    {
      "cell_type": "markdown",
      "metadata": {
        "id": "lvUEvZf73Zfv",
        "colab_type": "text"
      },
      "source": [
        "# <center> Курс \"Введение в анализ данных\" </center>"
      ]
    },
    {
      "cell_type": "markdown",
      "metadata": {
        "id": "8j4whctC3Zf4",
        "colab_type": "text"
      },
      "source": [
        "# <center> Лабораторная работа №2. Кластерный анализ. </center>"
      ]
    },
    {
      "cell_type": "markdown",
      "metadata": {
        "id": "Qh_L0EHB3Zf9",
        "colab_type": "text"
      },
      "source": [
        "## Задание 1"
      ]
    },
    {
      "cell_type": "markdown",
      "metadata": {
        "id": "z1MLEvlx3ZgC",
        "colab_type": "text"
      },
      "source": [
        "В данном задании вам необходимо реализовать алгоритм кластеризации [Partition Around Medoids](http://algowiki-project.org/ru/%D0%A3%D1%87%D0%B0%D1%81%D1%82%D0%BD%D0%B8%D0%BA:Denemmy/Partitioning_Around_Medoids_%28%D0%90%D0%BB%D0%B3%D0%BE%D1%80%D0%B8%D1%82%D0%BC%29).  \n",
        "  \n",
        "Два возможных варианта реализации:  \n",
        "  \n",
        "### Функция\n",
        "  \n",
        "Нужно написать функцию, которая принимает на вход несколько параметров и возвращает также несколько значений.  \n",
        "  \n",
        "Параметры функции:\n",
        "- **data:** данные в виде dataframe или матрицы (аналогично функциям и методам, которые рассматривали на практике);\n",
        "- **k:** число центров (кластеров);\n",
        "- **metric:** расстояние между объектами (те же, что поддерживает функция `pdist()`);\n",
        "- **max_iter:** максимальное число итераций;  \n",
        "- **tol:** минимальное значение изменения целевой функции.\n",
        "\n",
        "Возвращаемые значения:  \n",
        "- **inertia:** итоговое значение целевой функции;\n",
        "- **medoids:** центры кластеров - индексы объектов данных, которые являются центрами;\n",
        "- **labels:** метки кластеров для каждого объекта.\n",
        "  \n",
        "### Класс  \n",
        "  \n",
        "По аналогии с классами в scikit-learn, нужно реализовать класс, наследуемый от [Base Estimator](https://scikit-learn.org/stable/modules/generated/sklearn.base.BaseEstimator.html).  \n",
        "Подробнее про реализацию своих моделей в scikit-learn: [here](https://scikit-learn.org/stable/developers/develop.html#rolling-your-own-estimator).\n",
        "  \n",
        "Параметры: \n",
        "- **k:** число центров (кластеров);\n",
        "- **metric:** расстояние между объектами (те же, что поддерживает функция `pdist()`);\n",
        "- **max_iter:** максимальное число итераций;  \n",
        "- **tol:** минимальное значение изменения целевой функции.  \n",
        "  \n",
        "Методы:  \n",
        "- **fit():** метод для выполнения кластеризации.  \n",
        "    Аргументы метода:  \n",
        "    - **data:** данные в виде dataframe или матрицы\n",
        "  \n",
        "Атрибуты:  \n",
        "- **inertia_:** итоговое значение целевой функции;\n",
        "- **medoids_:** центры кластеров - индексы объектов данных, которые являются центрами;\n",
        "- **labels_:** метки кластеров для каждого объекта.  \n",
        "   \n",
        "<br>  \n",
        "**Note 1:** Параметры `max_iter` и `tol` должны иметь дефолтные значения.  \n",
        "**Note 2:** Функции для вычисления расстояний самим реализовывать не нужно, используйте `pdist()`.  \n",
        "  \n",
        "<br>  \n",
        "Также необходимо написать документацию к функции/методу: описать формат входных данных (параметров) и возвращаемых значений, особенности работы функции и детали реализации алгоритма. В качестве образца можно взять документацию к функциям/методам, которые рассматривали на занятиях.  \n",
        "  \n",
        "Наивная реализация алгоритма будет работать довольно медленно - это нормально. Будет плюсом (но не является обязательным), если вы попытаетесь оптимизировать ваш код. Можете указать все ваши решения для оптимизации в документации.   "
      ]
    },
    {
      "cell_type": "markdown",
      "metadata": {
        "id": "XQBBj2Sq3ZgO",
        "colab_type": "text"
      },
      "source": [
        "# Задание 2"
      ]
    },
    {
      "cell_type": "markdown",
      "metadata": {
        "id": "gCZaCrv13Zgb",
        "colab_type": "text"
      },
      "source": [
        "В рамках данной лабораторной работы вам предлагается проанализировать набор данных по различным городам США. Каждый город характеризуется следующими признаками:"
      ]
    },
    {
      "cell_type": "code",
      "metadata": {
        "id": "rUW6uaBY3Zgq",
        "colab_type": "code",
        "colab": {}
      },
      "source": [
        "import pandas as pd\n",
        "from sklearn import preprocessing\n",
        "import matplotlib.pyplot as plt\n",
        "from sklearn.manifold import TSNE\n",
        "import seaborn as sns\n",
        "import numpy as np"
      ],
      "execution_count": 0,
      "outputs": []
    },
    {
      "cell_type": "code",
      "metadata": {
        "id": "6Qtwjosv3ZhE",
        "colab_type": "code",
        "colab": {}
      },
      "source": [
        "pd.set_option('display.max_rows', 20)\n",
        "pd.set_option('display.max_colwidth', None)"
      ],
      "execution_count": 0,
      "outputs": []
    },
    {
      "cell_type": "code",
      "metadata": {
        "id": "65IE93r33Zhm",
        "colab_type": "code",
        "outputId": "96646f8d-74f4-4630-dc34-d960f9fdb074",
        "colab": {
          "base_uri": "https://localhost:8080/",
          "height": 413
        }
      },
      "source": [
        "data_desc = pd.read_csv('Data_Description.txt', sep=':')\n",
        "data_desc"
      ],
      "execution_count": 3,
      "outputs": [
        {
          "output_type": "error",
          "ename": "FileNotFoundError",
          "evalue": "ignored",
          "traceback": [
            "\u001b[0;31m---------------------------------------------------------------------------\u001b[0m",
            "\u001b[0;31mFileNotFoundError\u001b[0m                         Traceback (most recent call last)",
            "\u001b[0;32m<ipython-input-3-93f3df9503c1>\u001b[0m in \u001b[0;36m<module>\u001b[0;34m()\u001b[0m\n\u001b[0;32m----> 1\u001b[0;31m \u001b[0mdata_desc\u001b[0m \u001b[0;34m=\u001b[0m \u001b[0mpd\u001b[0m\u001b[0;34m.\u001b[0m\u001b[0mread_csv\u001b[0m\u001b[0;34m(\u001b[0m\u001b[0;34m'Data_Description.txt'\u001b[0m\u001b[0;34m,\u001b[0m \u001b[0msep\u001b[0m\u001b[0;34m=\u001b[0m\u001b[0;34m':'\u001b[0m\u001b[0;34m)\u001b[0m\u001b[0;34m\u001b[0m\u001b[0;34m\u001b[0m\u001b[0m\n\u001b[0m\u001b[1;32m      2\u001b[0m \u001b[0mdata_desc\u001b[0m\u001b[0;34m\u001b[0m\u001b[0;34m\u001b[0m\u001b[0m\n",
            "\u001b[0;32m/usr/local/lib/python3.6/dist-packages/pandas/io/parsers.py\u001b[0m in \u001b[0;36mparser_f\u001b[0;34m(filepath_or_buffer, sep, delimiter, header, names, index_col, usecols, squeeze, prefix, mangle_dupe_cols, dtype, engine, converters, true_values, false_values, skipinitialspace, skiprows, skipfooter, nrows, na_values, keep_default_na, na_filter, verbose, skip_blank_lines, parse_dates, infer_datetime_format, keep_date_col, date_parser, dayfirst, cache_dates, iterator, chunksize, compression, thousands, decimal, lineterminator, quotechar, quoting, doublequote, escapechar, comment, encoding, dialect, error_bad_lines, warn_bad_lines, delim_whitespace, low_memory, memory_map, float_precision)\u001b[0m\n\u001b[1;32m    674\u001b[0m         )\n\u001b[1;32m    675\u001b[0m \u001b[0;34m\u001b[0m\u001b[0m\n\u001b[0;32m--> 676\u001b[0;31m         \u001b[0;32mreturn\u001b[0m \u001b[0m_read\u001b[0m\u001b[0;34m(\u001b[0m\u001b[0mfilepath_or_buffer\u001b[0m\u001b[0;34m,\u001b[0m \u001b[0mkwds\u001b[0m\u001b[0;34m)\u001b[0m\u001b[0;34m\u001b[0m\u001b[0;34m\u001b[0m\u001b[0m\n\u001b[0m\u001b[1;32m    677\u001b[0m \u001b[0;34m\u001b[0m\u001b[0m\n\u001b[1;32m    678\u001b[0m     \u001b[0mparser_f\u001b[0m\u001b[0;34m.\u001b[0m\u001b[0m__name__\u001b[0m \u001b[0;34m=\u001b[0m \u001b[0mname\u001b[0m\u001b[0;34m\u001b[0m\u001b[0;34m\u001b[0m\u001b[0m\n",
            "\u001b[0;32m/usr/local/lib/python3.6/dist-packages/pandas/io/parsers.py\u001b[0m in \u001b[0;36m_read\u001b[0;34m(filepath_or_buffer, kwds)\u001b[0m\n\u001b[1;32m    446\u001b[0m \u001b[0;34m\u001b[0m\u001b[0m\n\u001b[1;32m    447\u001b[0m     \u001b[0;31m# Create the parser.\u001b[0m\u001b[0;34m\u001b[0m\u001b[0;34m\u001b[0m\u001b[0;34m\u001b[0m\u001b[0m\n\u001b[0;32m--> 448\u001b[0;31m     \u001b[0mparser\u001b[0m \u001b[0;34m=\u001b[0m \u001b[0mTextFileReader\u001b[0m\u001b[0;34m(\u001b[0m\u001b[0mfp_or_buf\u001b[0m\u001b[0;34m,\u001b[0m \u001b[0;34m**\u001b[0m\u001b[0mkwds\u001b[0m\u001b[0;34m)\u001b[0m\u001b[0;34m\u001b[0m\u001b[0;34m\u001b[0m\u001b[0m\n\u001b[0m\u001b[1;32m    449\u001b[0m \u001b[0;34m\u001b[0m\u001b[0m\n\u001b[1;32m    450\u001b[0m     \u001b[0;32mif\u001b[0m \u001b[0mchunksize\u001b[0m \u001b[0;32mor\u001b[0m \u001b[0miterator\u001b[0m\u001b[0;34m:\u001b[0m\u001b[0;34m\u001b[0m\u001b[0;34m\u001b[0m\u001b[0m\n",
            "\u001b[0;32m/usr/local/lib/python3.6/dist-packages/pandas/io/parsers.py\u001b[0m in \u001b[0;36m__init__\u001b[0;34m(self, f, engine, **kwds)\u001b[0m\n\u001b[1;32m    878\u001b[0m             \u001b[0mself\u001b[0m\u001b[0;34m.\u001b[0m\u001b[0moptions\u001b[0m\u001b[0;34m[\u001b[0m\u001b[0;34m\"has_index_names\"\u001b[0m\u001b[0;34m]\u001b[0m \u001b[0;34m=\u001b[0m \u001b[0mkwds\u001b[0m\u001b[0;34m[\u001b[0m\u001b[0;34m\"has_index_names\"\u001b[0m\u001b[0;34m]\u001b[0m\u001b[0;34m\u001b[0m\u001b[0;34m\u001b[0m\u001b[0m\n\u001b[1;32m    879\u001b[0m \u001b[0;34m\u001b[0m\u001b[0m\n\u001b[0;32m--> 880\u001b[0;31m         \u001b[0mself\u001b[0m\u001b[0;34m.\u001b[0m\u001b[0m_make_engine\u001b[0m\u001b[0;34m(\u001b[0m\u001b[0mself\u001b[0m\u001b[0;34m.\u001b[0m\u001b[0mengine\u001b[0m\u001b[0;34m)\u001b[0m\u001b[0;34m\u001b[0m\u001b[0;34m\u001b[0m\u001b[0m\n\u001b[0m\u001b[1;32m    881\u001b[0m \u001b[0;34m\u001b[0m\u001b[0m\n\u001b[1;32m    882\u001b[0m     \u001b[0;32mdef\u001b[0m \u001b[0mclose\u001b[0m\u001b[0;34m(\u001b[0m\u001b[0mself\u001b[0m\u001b[0;34m)\u001b[0m\u001b[0;34m:\u001b[0m\u001b[0;34m\u001b[0m\u001b[0;34m\u001b[0m\u001b[0m\n",
            "\u001b[0;32m/usr/local/lib/python3.6/dist-packages/pandas/io/parsers.py\u001b[0m in \u001b[0;36m_make_engine\u001b[0;34m(self, engine)\u001b[0m\n\u001b[1;32m   1112\u001b[0m     \u001b[0;32mdef\u001b[0m \u001b[0m_make_engine\u001b[0m\u001b[0;34m(\u001b[0m\u001b[0mself\u001b[0m\u001b[0;34m,\u001b[0m \u001b[0mengine\u001b[0m\u001b[0;34m=\u001b[0m\u001b[0;34m\"c\"\u001b[0m\u001b[0;34m)\u001b[0m\u001b[0;34m:\u001b[0m\u001b[0;34m\u001b[0m\u001b[0;34m\u001b[0m\u001b[0m\n\u001b[1;32m   1113\u001b[0m         \u001b[0;32mif\u001b[0m \u001b[0mengine\u001b[0m \u001b[0;34m==\u001b[0m \u001b[0;34m\"c\"\u001b[0m\u001b[0;34m:\u001b[0m\u001b[0;34m\u001b[0m\u001b[0;34m\u001b[0m\u001b[0m\n\u001b[0;32m-> 1114\u001b[0;31m             \u001b[0mself\u001b[0m\u001b[0;34m.\u001b[0m\u001b[0m_engine\u001b[0m \u001b[0;34m=\u001b[0m \u001b[0mCParserWrapper\u001b[0m\u001b[0;34m(\u001b[0m\u001b[0mself\u001b[0m\u001b[0;34m.\u001b[0m\u001b[0mf\u001b[0m\u001b[0;34m,\u001b[0m \u001b[0;34m**\u001b[0m\u001b[0mself\u001b[0m\u001b[0;34m.\u001b[0m\u001b[0moptions\u001b[0m\u001b[0;34m)\u001b[0m\u001b[0;34m\u001b[0m\u001b[0;34m\u001b[0m\u001b[0m\n\u001b[0m\u001b[1;32m   1115\u001b[0m         \u001b[0;32melse\u001b[0m\u001b[0;34m:\u001b[0m\u001b[0;34m\u001b[0m\u001b[0;34m\u001b[0m\u001b[0m\n\u001b[1;32m   1116\u001b[0m             \u001b[0;32mif\u001b[0m \u001b[0mengine\u001b[0m \u001b[0;34m==\u001b[0m \u001b[0;34m\"python\"\u001b[0m\u001b[0;34m:\u001b[0m\u001b[0;34m\u001b[0m\u001b[0;34m\u001b[0m\u001b[0m\n",
            "\u001b[0;32m/usr/local/lib/python3.6/dist-packages/pandas/io/parsers.py\u001b[0m in \u001b[0;36m__init__\u001b[0;34m(self, src, **kwds)\u001b[0m\n\u001b[1;32m   1889\u001b[0m         \u001b[0mkwds\u001b[0m\u001b[0;34m[\u001b[0m\u001b[0;34m\"usecols\"\u001b[0m\u001b[0;34m]\u001b[0m \u001b[0;34m=\u001b[0m \u001b[0mself\u001b[0m\u001b[0;34m.\u001b[0m\u001b[0musecols\u001b[0m\u001b[0;34m\u001b[0m\u001b[0;34m\u001b[0m\u001b[0m\n\u001b[1;32m   1890\u001b[0m \u001b[0;34m\u001b[0m\u001b[0m\n\u001b[0;32m-> 1891\u001b[0;31m         \u001b[0mself\u001b[0m\u001b[0;34m.\u001b[0m\u001b[0m_reader\u001b[0m \u001b[0;34m=\u001b[0m \u001b[0mparsers\u001b[0m\u001b[0;34m.\u001b[0m\u001b[0mTextReader\u001b[0m\u001b[0;34m(\u001b[0m\u001b[0msrc\u001b[0m\u001b[0;34m,\u001b[0m \u001b[0;34m**\u001b[0m\u001b[0mkwds\u001b[0m\u001b[0;34m)\u001b[0m\u001b[0;34m\u001b[0m\u001b[0;34m\u001b[0m\u001b[0m\n\u001b[0m\u001b[1;32m   1892\u001b[0m         \u001b[0mself\u001b[0m\u001b[0;34m.\u001b[0m\u001b[0munnamed_cols\u001b[0m \u001b[0;34m=\u001b[0m \u001b[0mself\u001b[0m\u001b[0;34m.\u001b[0m\u001b[0m_reader\u001b[0m\u001b[0;34m.\u001b[0m\u001b[0munnamed_cols\u001b[0m\u001b[0;34m\u001b[0m\u001b[0;34m\u001b[0m\u001b[0m\n\u001b[1;32m   1893\u001b[0m \u001b[0;34m\u001b[0m\u001b[0m\n",
            "\u001b[0;32mpandas/_libs/parsers.pyx\u001b[0m in \u001b[0;36mpandas._libs.parsers.TextReader.__cinit__\u001b[0;34m()\u001b[0m\n",
            "\u001b[0;32mpandas/_libs/parsers.pyx\u001b[0m in \u001b[0;36mpandas._libs.parsers.TextReader._setup_parser_source\u001b[0;34m()\u001b[0m\n",
            "\u001b[0;31mFileNotFoundError\u001b[0m: [Errno 2] File Data_Description.txt does not exist: 'Data_Description.txt'"
          ]
        }
      ]
    },
    {
      "cell_type": "markdown",
      "metadata": {
        "id": "JnIPpZrl3ZiP",
        "colab_type": "text"
      },
      "source": [
        "### Notes:   \n",
        "* Для всех признаков, кроме трех, чем выше значение - тем лучше. Для признаков `Housing` и `Crime` - наоборот.\n",
        "* Признак `Population`- статистический признак, не имеющий интерпретации как “лучше-хуже”.\n",
        "* Признак `Place` - уникальный идентификатор объекта (города), он не должен использоваться при кластеризации.\n",
        "* Также в данных присутствуют географические координаты городов - `Longitude` и `Latitude`. Их также не следует использовать при кластеризации данных."
      ]
    },
    {
      "cell_type": "code",
      "metadata": {
        "id": "Amc8QJY43ZiU",
        "colab_type": "code",
        "outputId": "e17eee10-a999-4ca4-9221-fb244fa62d62",
        "colab": {
          "base_uri": "https://localhost:8080/",
          "height": 424
        }
      },
      "source": [
        "data = pd.read_csv('data.txt', sep=' ')\n",
        "data"
      ],
      "execution_count": 4,
      "outputs": [
        {
          "output_type": "execute_result",
          "data": {
            "text/html": [
              "<div>\n",
              "<style scoped>\n",
              "    .dataframe tbody tr th:only-of-type {\n",
              "        vertical-align: middle;\n",
              "    }\n",
              "\n",
              "    .dataframe tbody tr th {\n",
              "        vertical-align: top;\n",
              "    }\n",
              "\n",
              "    .dataframe thead th {\n",
              "        text-align: right;\n",
              "    }\n",
              "</style>\n",
              "<table border=\"1\" class=\"dataframe\">\n",
              "  <thead>\n",
              "    <tr style=\"text-align: right;\">\n",
              "      <th></th>\n",
              "      <th>Place</th>\n",
              "      <th>Climate</th>\n",
              "      <th>HousingCost</th>\n",
              "      <th>HlthCare</th>\n",
              "      <th>Crime</th>\n",
              "      <th>Transp</th>\n",
              "      <th>Educ</th>\n",
              "      <th>Arts</th>\n",
              "      <th>Recreat</th>\n",
              "      <th>Econ</th>\n",
              "      <th>Long</th>\n",
              "      <th>Lat</th>\n",
              "      <th>Pop</th>\n",
              "    </tr>\n",
              "  </thead>\n",
              "  <tbody>\n",
              "    <tr>\n",
              "      <th>0</th>\n",
              "      <td>Abilene,TX</td>\n",
              "      <td>521</td>\n",
              "      <td>6200</td>\n",
              "      <td>237</td>\n",
              "      <td>923</td>\n",
              "      <td>4031</td>\n",
              "      <td>2757</td>\n",
              "      <td>996</td>\n",
              "      <td>1405</td>\n",
              "      <td>7633</td>\n",
              "      <td>-99.6890</td>\n",
              "      <td>32.5590</td>\n",
              "      <td>110932</td>\n",
              "    </tr>\n",
              "    <tr>\n",
              "      <th>1</th>\n",
              "      <td>Akron,OH</td>\n",
              "      <td>575</td>\n",
              "      <td>8138</td>\n",
              "      <td>1656</td>\n",
              "      <td>886</td>\n",
              "      <td>4883</td>\n",
              "      <td>2438</td>\n",
              "      <td>5564</td>\n",
              "      <td>2632</td>\n",
              "      <td>4350</td>\n",
              "      <td>-81.5180</td>\n",
              "      <td>41.0850</td>\n",
              "      <td>660328</td>\n",
              "    </tr>\n",
              "    <tr>\n",
              "      <th>2</th>\n",
              "      <td>Albany,GA</td>\n",
              "      <td>468</td>\n",
              "      <td>7339</td>\n",
              "      <td>618</td>\n",
              "      <td>970</td>\n",
              "      <td>2531</td>\n",
              "      <td>2560</td>\n",
              "      <td>237</td>\n",
              "      <td>859</td>\n",
              "      <td>5250</td>\n",
              "      <td>-84.1580</td>\n",
              "      <td>31.5750</td>\n",
              "      <td>112402</td>\n",
              "    </tr>\n",
              "    <tr>\n",
              "      <th>3</th>\n",
              "      <td>Albany-Schenectady-Troy,NY</td>\n",
              "      <td>476</td>\n",
              "      <td>7908</td>\n",
              "      <td>1431</td>\n",
              "      <td>610</td>\n",
              "      <td>6883</td>\n",
              "      <td>3399</td>\n",
              "      <td>4655</td>\n",
              "      <td>1617</td>\n",
              "      <td>5864</td>\n",
              "      <td>-73.7983</td>\n",
              "      <td>42.7327</td>\n",
              "      <td>835880</td>\n",
              "    </tr>\n",
              "    <tr>\n",
              "      <th>4</th>\n",
              "      <td>Albuquerque,NM</td>\n",
              "      <td>659</td>\n",
              "      <td>8393</td>\n",
              "      <td>1853</td>\n",
              "      <td>1483</td>\n",
              "      <td>6558</td>\n",
              "      <td>3026</td>\n",
              "      <td>4496</td>\n",
              "      <td>2612</td>\n",
              "      <td>5727</td>\n",
              "      <td>-106.6500</td>\n",
              "      <td>35.0830</td>\n",
              "      <td>419700</td>\n",
              "    </tr>\n",
              "    <tr>\n",
              "      <th>...</th>\n",
              "      <td>...</td>\n",
              "      <td>...</td>\n",
              "      <td>...</td>\n",
              "      <td>...</td>\n",
              "      <td>...</td>\n",
              "      <td>...</td>\n",
              "      <td>...</td>\n",
              "      <td>...</td>\n",
              "      <td>...</td>\n",
              "      <td>...</td>\n",
              "      <td>...</td>\n",
              "      <td>...</td>\n",
              "      <td>...</td>\n",
              "    </tr>\n",
              "    <tr>\n",
              "      <th>324</th>\n",
              "      <td>Worcester,MA</td>\n",
              "      <td>562</td>\n",
              "      <td>8715</td>\n",
              "      <td>1805</td>\n",
              "      <td>680</td>\n",
              "      <td>3643</td>\n",
              "      <td>3299</td>\n",
              "      <td>1784</td>\n",
              "      <td>910</td>\n",
              "      <td>5040</td>\n",
              "      <td>-71.7950</td>\n",
              "      <td>42.2720</td>\n",
              "      <td>402918</td>\n",
              "    </tr>\n",
              "    <tr>\n",
              "      <th>325</th>\n",
              "      <td>Yakima,WA</td>\n",
              "      <td>535</td>\n",
              "      <td>6440</td>\n",
              "      <td>317</td>\n",
              "      <td>1106</td>\n",
              "      <td>3731</td>\n",
              "      <td>2491</td>\n",
              "      <td>996</td>\n",
              "      <td>2140</td>\n",
              "      <td>4986</td>\n",
              "      <td>-120.5130</td>\n",
              "      <td>46.5950</td>\n",
              "      <td>172508</td>\n",
              "    </tr>\n",
              "    <tr>\n",
              "      <th>326</th>\n",
              "      <td>York,PA</td>\n",
              "      <td>540</td>\n",
              "      <td>8371</td>\n",
              "      <td>713</td>\n",
              "      <td>440</td>\n",
              "      <td>2267</td>\n",
              "      <td>2903</td>\n",
              "      <td>1022</td>\n",
              "      <td>842</td>\n",
              "      <td>4946</td>\n",
              "      <td>-76.7280</td>\n",
              "      <td>39.9600</td>\n",
              "      <td>381255</td>\n",
              "    </tr>\n",
              "    <tr>\n",
              "      <th>327</th>\n",
              "      <td>Youngstown-Warren,OH</td>\n",
              "      <td>570</td>\n",
              "      <td>7021</td>\n",
              "      <td>1097</td>\n",
              "      <td>938</td>\n",
              "      <td>3374</td>\n",
              "      <td>2920</td>\n",
              "      <td>2797</td>\n",
              "      <td>1327</td>\n",
              "      <td>3894</td>\n",
              "      <td>-80.7290</td>\n",
              "      <td>41.1700</td>\n",
              "      <td>531350</td>\n",
              "    </tr>\n",
              "    <tr>\n",
              "      <th>328</th>\n",
              "      <td>Yuba-City,CA</td>\n",
              "      <td>608</td>\n",
              "      <td>7875</td>\n",
              "      <td>212</td>\n",
              "      <td>1179</td>\n",
              "      <td>2768</td>\n",
              "      <td>2387</td>\n",
              "      <td>122</td>\n",
              "      <td>918</td>\n",
              "      <td>4694</td>\n",
              "      <td>-121.6220</td>\n",
              "      <td>39.1280</td>\n",
              "      <td>101979</td>\n",
              "    </tr>\n",
              "  </tbody>\n",
              "</table>\n",
              "<p>329 rows × 13 columns</p>\n",
              "</div>"
            ],
            "text/plain": [
              "                          Place  Climate  ...      Lat     Pop\n",
              "0                    Abilene,TX      521  ...  32.5590  110932\n",
              "1                      Akron,OH      575  ...  41.0850  660328\n",
              "2                     Albany,GA      468  ...  31.5750  112402\n",
              "3    Albany-Schenectady-Troy,NY      476  ...  42.7327  835880\n",
              "4                Albuquerque,NM      659  ...  35.0830  419700\n",
              "..                          ...      ...  ...      ...     ...\n",
              "324                Worcester,MA      562  ...  42.2720  402918\n",
              "325                   Yakima,WA      535  ...  46.5950  172508\n",
              "326                     York,PA      540  ...  39.9600  381255\n",
              "327        Youngstown-Warren,OH      570  ...  41.1700  531350\n",
              "328                Yuba-City,CA      608  ...  39.1280  101979\n",
              "\n",
              "[329 rows x 13 columns]"
            ]
          },
          "metadata": {
            "tags": []
          },
          "execution_count": 4
        }
      ]
    },
    {
      "cell_type": "markdown",
      "metadata": {
        "id": "Slu9as3d3Zit",
        "colab_type": "text"
      },
      "source": [
        "<br>  \n",
        "### Задания: "
      ]
    },
    {
      "cell_type": "markdown",
      "metadata": {
        "id": "APedWYqy3Zix",
        "colab_type": "text"
      },
      "source": [
        "&nbsp;&nbsp;&nbsp;0. Выполните необходимую предобработку данных. Перед кластеризацией исключите из данных признаки `Place`, `Long` и `Lat`."
      ]
    },
    {
      "cell_type": "markdown",
      "metadata": {
        "id": "Ub84nRdp3Zi0",
        "colab_type": "text"
      },
      "source": [
        "1. Выполните кластеризацию иерархическим методом.  \n",
        "Рассмотрите различные расстояния между объектами. Определите, какие следует использовать при кластеризации.  \n",
        "Выполните кластеризацию с различными расстояниями между кластерами. Сравните результаты, сделайте выводы.  \n",
        "<br>  \n",
        "2. Выполните кластеризацию методом dbscan. Используйте расстояния между объектами, определенные в предыдущем пункте.  \n",
        "Реализуйте эвристику (см. лекции) для выбора параметров алгоритма. Подберите подходящие параметры алгоритма.  \n",
        "<br>  \n",
        "3. Выполните кластеризацию методом kmeans. Определите наилучшее (на ваш взгляд) число кластеров.  \n",
        "<br>  \n",
        "4. Выполните кластеризацию методом PAM. Используйте расстояния между объектами, определенные в пункте (1). Определите наилучшее (на ваш взгляд) число кластеров.  \n",
        "Используйте реализацию алгоритма из Задания 1.  \n",
        "<br>  \n",
        "5. (Бонусное) Выполните кластеризацию другими методами. Например, [HDBSCAN](https://hdbscan.readthedocs.io/en/latest/) или алгоритмы, [реализованные](https://scikit-learn.org/stable/modules/clustering.html) в scikit-learn.  \n",
        "<br>  \n",
        "6. В результате выполнения предыдущих пунктов вы должны получить 4 или больше разбиения объектов (по одному на каждый метод). Сравните их между собой, сделайте выводы о сходствах и различиях.  \n",
        "Оцените результаты каждой кластеризации, используя метрики, рассмотренные на занятиях (Silhouette и прочие).  \n",
        "<br>  \n",
        "7. Выберите одно разбиение, наиболее подходящее на ваш взгляд. Предложите интерпретацию полученным кластерам или покажите, что этого сделать нельзя.  \n",
        "<br>  \n",
        "8. Оцените, как полученные кластеры распределены географически. (Бонусное) [Провизуализируйте](https://python-visualization.github.io/folium/quickstart.html) распределение на карте США.  \n",
        "Оцените, как полученные кластеры распределены по штатам. Можно ли выделить какую-то зависимость (территориальную или для штатов)?"
      ]
    },
    {
      "cell_type": "code",
      "metadata": {
        "id": "NwenM3yy3Zi5",
        "colab_type": "code",
        "colab": {
          "base_uri": "https://localhost:8080/",
          "height": 424
        },
        "outputId": "10f86418-8479-4ad9-ffe1-a5bf20899c5f"
      },
      "source": [
        "#0 task\n",
        "data_nec = data.copy()\n",
        "data_nec.drop(['Place', 'Long', 'Lat'], axis=1, inplace=True) # axis=0 will do for rows\n",
        "\n",
        "from sklearn import preprocessing\n",
        "data_nec = pd.DataFrame(preprocessing.normalize(data_nec), columns=list(data_nec.columns))\n",
        "# Create the Scaler object\n",
        "scaler = preprocessing.StandardScaler()# Fit your data on the scaler object\n",
        "scaled_df = scaler.fit_transform(data_nec)\n",
        "#data_nec = pd.DataFrame(scaled_df, columns=list(data_nec.columns))\n",
        "data_nec\n"
      ],
      "execution_count": 197,
      "outputs": [
        {
          "output_type": "execute_result",
          "data": {
            "text/html": [
              "<div>\n",
              "<style scoped>\n",
              "    .dataframe tbody tr th:only-of-type {\n",
              "        vertical-align: middle;\n",
              "    }\n",
              "\n",
              "    .dataframe tbody tr th {\n",
              "        vertical-align: top;\n",
              "    }\n",
              "\n",
              "    .dataframe thead th {\n",
              "        text-align: right;\n",
              "    }\n",
              "</style>\n",
              "<table border=\"1\" class=\"dataframe\">\n",
              "  <thead>\n",
              "    <tr style=\"text-align: right;\">\n",
              "      <th></th>\n",
              "      <th>Climate</th>\n",
              "      <th>HousingCost</th>\n",
              "      <th>HlthCare</th>\n",
              "      <th>Crime</th>\n",
              "      <th>Transp</th>\n",
              "      <th>Educ</th>\n",
              "      <th>Arts</th>\n",
              "      <th>Recreat</th>\n",
              "      <th>Econ</th>\n",
              "      <th>Pop</th>\n",
              "    </tr>\n",
              "  </thead>\n",
              "  <tbody>\n",
              "    <tr>\n",
              "      <th>0</th>\n",
              "      <td>0.004673</td>\n",
              "      <td>0.055609</td>\n",
              "      <td>0.002126</td>\n",
              "      <td>0.008279</td>\n",
              "      <td>0.036155</td>\n",
              "      <td>0.024728</td>\n",
              "      <td>0.008933</td>\n",
              "      <td>0.012602</td>\n",
              "      <td>0.068462</td>\n",
              "      <td>0.994972</td>\n",
              "    </tr>\n",
              "    <tr>\n",
              "      <th>1</th>\n",
              "      <td>0.000871</td>\n",
              "      <td>0.012322</td>\n",
              "      <td>0.002507</td>\n",
              "      <td>0.001342</td>\n",
              "      <td>0.007393</td>\n",
              "      <td>0.003691</td>\n",
              "      <td>0.008425</td>\n",
              "      <td>0.003985</td>\n",
              "      <td>0.006586</td>\n",
              "      <td>0.999820</td>\n",
              "    </tr>\n",
              "    <tr>\n",
              "      <th>2</th>\n",
              "      <td>0.004148</td>\n",
              "      <td>0.065044</td>\n",
              "      <td>0.005477</td>\n",
              "      <td>0.008597</td>\n",
              "      <td>0.022432</td>\n",
              "      <td>0.022689</td>\n",
              "      <td>0.002100</td>\n",
              "      <td>0.007613</td>\n",
              "      <td>0.046530</td>\n",
              "      <td>0.996194</td>\n",
              "    </tr>\n",
              "    <tr>\n",
              "      <th>3</th>\n",
              "      <td>0.000569</td>\n",
              "      <td>0.009459</td>\n",
              "      <td>0.001712</td>\n",
              "      <td>0.000730</td>\n",
              "      <td>0.008233</td>\n",
              "      <td>0.004066</td>\n",
              "      <td>0.005568</td>\n",
              "      <td>0.001934</td>\n",
              "      <td>0.007014</td>\n",
              "      <td>0.999869</td>\n",
              "    </tr>\n",
              "    <tr>\n",
              "      <th>4</th>\n",
              "      <td>0.001569</td>\n",
              "      <td>0.019987</td>\n",
              "      <td>0.004413</td>\n",
              "      <td>0.003532</td>\n",
              "      <td>0.015617</td>\n",
              "      <td>0.007206</td>\n",
              "      <td>0.010707</td>\n",
              "      <td>0.006220</td>\n",
              "      <td>0.013638</td>\n",
              "      <td>0.999465</td>\n",
              "    </tr>\n",
              "    <tr>\n",
              "      <th>...</th>\n",
              "      <td>...</td>\n",
              "      <td>...</td>\n",
              "      <td>...</td>\n",
              "      <td>...</td>\n",
              "      <td>...</td>\n",
              "      <td>...</td>\n",
              "      <td>...</td>\n",
              "      <td>...</td>\n",
              "      <td>...</td>\n",
              "      <td>...</td>\n",
              "    </tr>\n",
              "    <tr>\n",
              "      <th>324</th>\n",
              "      <td>0.001394</td>\n",
              "      <td>0.021621</td>\n",
              "      <td>0.004478</td>\n",
              "      <td>0.001687</td>\n",
              "      <td>0.009038</td>\n",
              "      <td>0.008184</td>\n",
              "      <td>0.004426</td>\n",
              "      <td>0.002258</td>\n",
              "      <td>0.012504</td>\n",
              "      <td>0.999589</td>\n",
              "    </tr>\n",
              "    <tr>\n",
              "      <th>325</th>\n",
              "      <td>0.003096</td>\n",
              "      <td>0.037273</td>\n",
              "      <td>0.001835</td>\n",
              "      <td>0.006401</td>\n",
              "      <td>0.021594</td>\n",
              "      <td>0.014417</td>\n",
              "      <td>0.005765</td>\n",
              "      <td>0.012386</td>\n",
              "      <td>0.028858</td>\n",
              "      <td>0.998430</td>\n",
              "    </tr>\n",
              "    <tr>\n",
              "      <th>326</th>\n",
              "      <td>0.001416</td>\n",
              "      <td>0.021948</td>\n",
              "      <td>0.001869</td>\n",
              "      <td>0.001154</td>\n",
              "      <td>0.005944</td>\n",
              "      <td>0.007611</td>\n",
              "      <td>0.002680</td>\n",
              "      <td>0.002208</td>\n",
              "      <td>0.012968</td>\n",
              "      <td>0.999619</td>\n",
              "    </tr>\n",
              "    <tr>\n",
              "      <th>327</th>\n",
              "      <td>0.001073</td>\n",
              "      <td>0.013211</td>\n",
              "      <td>0.002064</td>\n",
              "      <td>0.001765</td>\n",
              "      <td>0.006349</td>\n",
              "      <td>0.005494</td>\n",
              "      <td>0.005263</td>\n",
              "      <td>0.002497</td>\n",
              "      <td>0.007327</td>\n",
              "      <td>0.999829</td>\n",
              "    </tr>\n",
              "    <tr>\n",
              "      <th>328</th>\n",
              "      <td>0.005934</td>\n",
              "      <td>0.076853</td>\n",
              "      <td>0.002069</td>\n",
              "      <td>0.011506</td>\n",
              "      <td>0.027013</td>\n",
              "      <td>0.023295</td>\n",
              "      <td>0.001191</td>\n",
              "      <td>0.008959</td>\n",
              "      <td>0.045809</td>\n",
              "      <td>0.995223</td>\n",
              "    </tr>\n",
              "  </tbody>\n",
              "</table>\n",
              "<p>329 rows × 10 columns</p>\n",
              "</div>"
            ],
            "text/plain": [
              "      Climate  HousingCost  HlthCare  ...   Recreat      Econ       Pop\n",
              "0    0.004673     0.055609  0.002126  ...  0.012602  0.068462  0.994972\n",
              "1    0.000871     0.012322  0.002507  ...  0.003985  0.006586  0.999820\n",
              "2    0.004148     0.065044  0.005477  ...  0.007613  0.046530  0.996194\n",
              "3    0.000569     0.009459  0.001712  ...  0.001934  0.007014  0.999869\n",
              "4    0.001569     0.019987  0.004413  ...  0.006220  0.013638  0.999465\n",
              "..        ...          ...       ...  ...       ...       ...       ...\n",
              "324  0.001394     0.021621  0.004478  ...  0.002258  0.012504  0.999589\n",
              "325  0.003096     0.037273  0.001835  ...  0.012386  0.028858  0.998430\n",
              "326  0.001416     0.021948  0.001869  ...  0.002208  0.012968  0.999619\n",
              "327  0.001073     0.013211  0.002064  ...  0.002497  0.007327  0.999829\n",
              "328  0.005934     0.076853  0.002069  ...  0.008959  0.045809  0.995223\n",
              "\n",
              "[329 rows x 10 columns]"
            ]
          },
          "metadata": {
            "tags": []
          },
          "execution_count": 197
        }
      ]
    },
    {
      "cell_type": "code",
      "metadata": {
        "id": "ZQyYNDA_prB7",
        "colab_type": "code",
        "colab": {
          "base_uri": "https://localhost:8080/",
          "height": 522
        },
        "outputId": "100bd43a-661c-4bd9-9e36-afb707b65c62"
      },
      "source": [
        "from scipy.cluster.hierarchy import fcluster\n",
        "from scipy.spatial.distance import pdist\n",
        "from scipy.cluster.hierarchy import linkage, is_valid_linkage, dendrogram\n",
        "import seaborn as sbs\n",
        "def ierarxy(method, metric):\n",
        "  Z = linkage(data_nec, method=method, metric=metric)\n",
        "  plt.title(method + \" \" + metric)\n",
        "  dendrogram(Z)\n",
        "  plt.show()\n",
        "\n",
        "methods = ['complete', 'average', 'weighted']\n",
        "metrics = ['braycurtis', 'canberra', 'chebyshev', 'cityblock', 'correlation', \n",
        "           'cosine', 'dice', 'euclidean', 'hamming', 'jaccard', 'jensenshannon', \n",
        "           'kulsinski', 'mahalanobis', 'matching', 'minkowski', 'rogerstanimoto', \n",
        "           'russellrao', 'seuclidean', 'sokalmichener', 'sokalsneath', \n",
        "           'sqeuclidean']\n",
        "\n",
        "for i in methods:\n",
        "  for j in metrics:\n",
        "    ierarxy(i, j)\n",
        "\n",
        "methods = [ 'centroid', 'median', 'ward']\n",
        "for i in methods:\n",
        "    ierarxy(i, 'euclidean')\n",
        "'''\n",
        "Вывод: наиболее оптимальная комбинация complete conberra\n",
        "'''"
      ],
      "execution_count": 96,
      "outputs": [
        {
          "output_type": "stream",
          "text": [
            "[[127.         297.           1.65954733   2.        ]\n",
            " [ 12.         115.           1.66840209   2.        ]\n",
            " [ 93.         110.           1.67489513   2.        ]\n",
            " ...\n",
            " [648.         650.          10.          46.        ]\n",
            " [653.         654.          10.         108.        ]\n",
            " [652.         655.          10.         329.        ]]\n"
          ],
          "name": "stdout"
        },
        {
          "output_type": "error",
          "ename": "ValueError",
          "evalue": "ignored",
          "traceback": [
            "\u001b[0;31m---------------------------------------------------------------------------\u001b[0m",
            "\u001b[0;31mValueError\u001b[0m                                Traceback (most recent call last)",
            "\u001b[0;32m<ipython-input-96-78b4c74caf27>\u001b[0m in \u001b[0;36m<module>\u001b[0;34m()\u001b[0m\n\u001b[1;32m     19\u001b[0m \u001b[0mprint\u001b[0m\u001b[0;34m(\u001b[0m\u001b[0;34m(\u001b[0m\u001b[0mZ\u001b[0m\u001b[0;34m)\u001b[0m\u001b[0;34m)\u001b[0m\u001b[0;34m\u001b[0m\u001b[0;34m\u001b[0m\u001b[0m\n\u001b[1;32m     20\u001b[0m \u001b[0mpalette\u001b[0m \u001b[0;34m=\u001b[0m \u001b[0msns\u001b[0m\u001b[0;34m.\u001b[0m\u001b[0mcolor_palette\u001b[0m\u001b[0;34m(\u001b[0m\u001b[0;34m\"bright\"\u001b[0m\u001b[0;34m,\u001b[0m \u001b[0;36m2\u001b[0m\u001b[0;34m)\u001b[0m\u001b[0;34m\u001b[0m\u001b[0;34m\u001b[0m\u001b[0m\n\u001b[0;32m---> 21\u001b[0;31m \u001b[0msns\u001b[0m\u001b[0;34m.\u001b[0m\u001b[0mscatterplot\u001b[0m\u001b[0;34m(\u001b[0m\u001b[0mZ\u001b[0m\u001b[0;34m[\u001b[0m\u001b[0;34m:\u001b[0m\u001b[0;34m,\u001b[0m\u001b[0;36m0\u001b[0m\u001b[0;34m]\u001b[0m\u001b[0;34m,\u001b[0m \u001b[0mZ\u001b[0m\u001b[0;34m[\u001b[0m\u001b[0;34m:\u001b[0m\u001b[0;34m,\u001b[0m\u001b[0;36m1\u001b[0m\u001b[0;34m]\u001b[0m\u001b[0;34m,\u001b[0m \u001b[0mlegend\u001b[0m\u001b[0;34m=\u001b[0m\u001b[0;34m'full'\u001b[0m\u001b[0;34m,\u001b[0m \u001b[0mpalette\u001b[0m\u001b[0;34m=\u001b[0m\u001b[0mpalette\u001b[0m\u001b[0;34m,\u001b[0m \u001b[0mhue\u001b[0m\u001b[0;34m=\u001b[0m\u001b[0;34m[\u001b[0m\u001b[0;36m1\u001b[0m\u001b[0;34m,\u001b[0m\u001b[0;36m2\u001b[0m\u001b[0;34m,\u001b[0m\u001b[0;36m3\u001b[0m\u001b[0;34m]\u001b[0m\u001b[0;34m)\u001b[0m\u001b[0;34m\u001b[0m\u001b[0;34m\u001b[0m\u001b[0m\n\u001b[0m\u001b[1;32m     22\u001b[0m '''\n\u001b[1;32m     23\u001b[0m \u001b[0;32mfor\u001b[0m \u001b[0mi\u001b[0m \u001b[0;32min\u001b[0m \u001b[0mmethods\u001b[0m\u001b[0;34m:\u001b[0m\u001b[0;34m\u001b[0m\u001b[0;34m\u001b[0m\u001b[0m\n",
            "\u001b[0;32m/usr/local/lib/python3.6/dist-packages/seaborn/relational.py\u001b[0m in \u001b[0;36mscatterplot\u001b[0;34m(x, y, hue, style, size, data, palette, hue_order, hue_norm, sizes, size_order, size_norm, markers, style_order, x_bins, y_bins, units, estimator, ci, n_boot, alpha, x_jitter, y_jitter, legend, ax, **kwargs)\u001b[0m\n\u001b[1;32m   1400\u001b[0m         \u001b[0mx_bins\u001b[0m\u001b[0;34m=\u001b[0m\u001b[0mx_bins\u001b[0m\u001b[0;34m,\u001b[0m \u001b[0my_bins\u001b[0m\u001b[0;34m=\u001b[0m\u001b[0my_bins\u001b[0m\u001b[0;34m,\u001b[0m\u001b[0;34m\u001b[0m\u001b[0;34m\u001b[0m\u001b[0m\n\u001b[1;32m   1401\u001b[0m         \u001b[0mestimator\u001b[0m\u001b[0;34m=\u001b[0m\u001b[0mestimator\u001b[0m\u001b[0;34m,\u001b[0m \u001b[0mci\u001b[0m\u001b[0;34m=\u001b[0m\u001b[0mci\u001b[0m\u001b[0;34m,\u001b[0m \u001b[0mn_boot\u001b[0m\u001b[0;34m=\u001b[0m\u001b[0mn_boot\u001b[0m\u001b[0;34m,\u001b[0m\u001b[0;34m\u001b[0m\u001b[0;34m\u001b[0m\u001b[0m\n\u001b[0;32m-> 1402\u001b[0;31m         \u001b[0malpha\u001b[0m\u001b[0;34m=\u001b[0m\u001b[0malpha\u001b[0m\u001b[0;34m,\u001b[0m \u001b[0mx_jitter\u001b[0m\u001b[0;34m=\u001b[0m\u001b[0mx_jitter\u001b[0m\u001b[0;34m,\u001b[0m \u001b[0my_jitter\u001b[0m\u001b[0;34m=\u001b[0m\u001b[0my_jitter\u001b[0m\u001b[0;34m,\u001b[0m \u001b[0mlegend\u001b[0m\u001b[0;34m=\u001b[0m\u001b[0mlegend\u001b[0m\u001b[0;34m,\u001b[0m\u001b[0;34m\u001b[0m\u001b[0;34m\u001b[0m\u001b[0m\n\u001b[0m\u001b[1;32m   1403\u001b[0m     )\n\u001b[1;32m   1404\u001b[0m \u001b[0;34m\u001b[0m\u001b[0m\n",
            "\u001b[0;32m/usr/local/lib/python3.6/dist-packages/seaborn/relational.py\u001b[0m in \u001b[0;36m__init__\u001b[0;34m(self, x, y, hue, size, style, data, palette, hue_order, hue_norm, sizes, size_order, size_norm, dashes, markers, style_order, x_bins, y_bins, units, estimator, ci, n_boot, alpha, x_jitter, y_jitter, legend)\u001b[0m\n\u001b[1;32m    889\u001b[0m \u001b[0;34m\u001b[0m\u001b[0m\n\u001b[1;32m    890\u001b[0m         plot_data = self.establish_variables(\n\u001b[0;32m--> 891\u001b[0;31m             \u001b[0mx\u001b[0m\u001b[0;34m,\u001b[0m \u001b[0my\u001b[0m\u001b[0;34m,\u001b[0m \u001b[0mhue\u001b[0m\u001b[0;34m,\u001b[0m \u001b[0msize\u001b[0m\u001b[0;34m,\u001b[0m \u001b[0mstyle\u001b[0m\u001b[0;34m,\u001b[0m \u001b[0munits\u001b[0m\u001b[0;34m,\u001b[0m \u001b[0mdata\u001b[0m\u001b[0;34m\u001b[0m\u001b[0;34m\u001b[0m\u001b[0m\n\u001b[0m\u001b[1;32m    892\u001b[0m         )\n\u001b[1;32m    893\u001b[0m \u001b[0;34m\u001b[0m\u001b[0m\n",
            "\u001b[0;32m/usr/local/lib/python3.6/dist-packages/seaborn/relational.py\u001b[0m in \u001b[0;36mestablish_variables\u001b[0;34m(self, x, y, hue, size, style, units, data)\u001b[0m\n\u001b[1;32m    155\u001b[0m                 \u001b[0munits\u001b[0m\u001b[0;34m=\u001b[0m\u001b[0munits\u001b[0m\u001b[0;34m\u001b[0m\u001b[0;34m\u001b[0m\u001b[0m\n\u001b[1;32m    156\u001b[0m             )\n\u001b[0;32m--> 157\u001b[0;31m             \u001b[0mplot_data\u001b[0m \u001b[0;34m=\u001b[0m \u001b[0mpd\u001b[0m\u001b[0;34m.\u001b[0m\u001b[0mDataFrame\u001b[0m\u001b[0;34m(\u001b[0m\u001b[0mplot_data\u001b[0m\u001b[0;34m)\u001b[0m\u001b[0;34m\u001b[0m\u001b[0;34m\u001b[0m\u001b[0m\n\u001b[0m\u001b[1;32m    158\u001b[0m \u001b[0;34m\u001b[0m\u001b[0m\n\u001b[1;32m    159\u001b[0m         \u001b[0;31m# Option 3:\u001b[0m\u001b[0;34m\u001b[0m\u001b[0;34m\u001b[0m\u001b[0;34m\u001b[0m\u001b[0m\n",
            "\u001b[0;32m/usr/local/lib/python3.6/dist-packages/pandas/core/frame.py\u001b[0m in \u001b[0;36m__init__\u001b[0;34m(self, data, index, columns, dtype, copy)\u001b[0m\n\u001b[1;32m    433\u001b[0m             )\n\u001b[1;32m    434\u001b[0m         \u001b[0;32melif\u001b[0m \u001b[0misinstance\u001b[0m\u001b[0;34m(\u001b[0m\u001b[0mdata\u001b[0m\u001b[0;34m,\u001b[0m \u001b[0mdict\u001b[0m\u001b[0;34m)\u001b[0m\u001b[0;34m:\u001b[0m\u001b[0;34m\u001b[0m\u001b[0;34m\u001b[0m\u001b[0m\n\u001b[0;32m--> 435\u001b[0;31m             \u001b[0mmgr\u001b[0m \u001b[0;34m=\u001b[0m \u001b[0minit_dict\u001b[0m\u001b[0;34m(\u001b[0m\u001b[0mdata\u001b[0m\u001b[0;34m,\u001b[0m \u001b[0mindex\u001b[0m\u001b[0;34m,\u001b[0m \u001b[0mcolumns\u001b[0m\u001b[0;34m,\u001b[0m \u001b[0mdtype\u001b[0m\u001b[0;34m=\u001b[0m\u001b[0mdtype\u001b[0m\u001b[0;34m)\u001b[0m\u001b[0;34m\u001b[0m\u001b[0;34m\u001b[0m\u001b[0m\n\u001b[0m\u001b[1;32m    436\u001b[0m         \u001b[0;32melif\u001b[0m \u001b[0misinstance\u001b[0m\u001b[0;34m(\u001b[0m\u001b[0mdata\u001b[0m\u001b[0;34m,\u001b[0m \u001b[0mma\u001b[0m\u001b[0;34m.\u001b[0m\u001b[0mMaskedArray\u001b[0m\u001b[0;34m)\u001b[0m\u001b[0;34m:\u001b[0m\u001b[0;34m\u001b[0m\u001b[0;34m\u001b[0m\u001b[0m\n\u001b[1;32m    437\u001b[0m             \u001b[0;32mimport\u001b[0m \u001b[0mnumpy\u001b[0m\u001b[0;34m.\u001b[0m\u001b[0mma\u001b[0m\u001b[0;34m.\u001b[0m\u001b[0mmrecords\u001b[0m \u001b[0;32mas\u001b[0m \u001b[0mmrecords\u001b[0m\u001b[0;34m\u001b[0m\u001b[0;34m\u001b[0m\u001b[0m\n",
            "\u001b[0;32m/usr/local/lib/python3.6/dist-packages/pandas/core/internals/construction.py\u001b[0m in \u001b[0;36minit_dict\u001b[0;34m(data, index, columns, dtype)\u001b[0m\n\u001b[1;32m    252\u001b[0m             \u001b[0marr\u001b[0m \u001b[0;32mif\u001b[0m \u001b[0;32mnot\u001b[0m \u001b[0mis_datetime64tz_dtype\u001b[0m\u001b[0;34m(\u001b[0m\u001b[0marr\u001b[0m\u001b[0;34m)\u001b[0m \u001b[0;32melse\u001b[0m \u001b[0marr\u001b[0m\u001b[0;34m.\u001b[0m\u001b[0mcopy\u001b[0m\u001b[0;34m(\u001b[0m\u001b[0;34m)\u001b[0m \u001b[0;32mfor\u001b[0m \u001b[0marr\u001b[0m \u001b[0;32min\u001b[0m \u001b[0marrays\u001b[0m\u001b[0;34m\u001b[0m\u001b[0;34m\u001b[0m\u001b[0m\n\u001b[1;32m    253\u001b[0m         ]\n\u001b[0;32m--> 254\u001b[0;31m     \u001b[0;32mreturn\u001b[0m \u001b[0marrays_to_mgr\u001b[0m\u001b[0;34m(\u001b[0m\u001b[0marrays\u001b[0m\u001b[0;34m,\u001b[0m \u001b[0mdata_names\u001b[0m\u001b[0;34m,\u001b[0m \u001b[0mindex\u001b[0m\u001b[0;34m,\u001b[0m \u001b[0mcolumns\u001b[0m\u001b[0;34m,\u001b[0m \u001b[0mdtype\u001b[0m\u001b[0;34m=\u001b[0m\u001b[0mdtype\u001b[0m\u001b[0;34m)\u001b[0m\u001b[0;34m\u001b[0m\u001b[0;34m\u001b[0m\u001b[0m\n\u001b[0m\u001b[1;32m    255\u001b[0m \u001b[0;34m\u001b[0m\u001b[0m\n\u001b[1;32m    256\u001b[0m \u001b[0;34m\u001b[0m\u001b[0m\n",
            "\u001b[0;32m/usr/local/lib/python3.6/dist-packages/pandas/core/internals/construction.py\u001b[0m in \u001b[0;36marrays_to_mgr\u001b[0;34m(arrays, arr_names, index, columns, dtype)\u001b[0m\n\u001b[1;32m     62\u001b[0m     \u001b[0;31m# figure out the index, if necessary\u001b[0m\u001b[0;34m\u001b[0m\u001b[0;34m\u001b[0m\u001b[0;34m\u001b[0m\u001b[0m\n\u001b[1;32m     63\u001b[0m     \u001b[0;32mif\u001b[0m \u001b[0mindex\u001b[0m \u001b[0;32mis\u001b[0m \u001b[0;32mNone\u001b[0m\u001b[0;34m:\u001b[0m\u001b[0;34m\u001b[0m\u001b[0;34m\u001b[0m\u001b[0m\n\u001b[0;32m---> 64\u001b[0;31m         \u001b[0mindex\u001b[0m \u001b[0;34m=\u001b[0m \u001b[0mextract_index\u001b[0m\u001b[0;34m(\u001b[0m\u001b[0marrays\u001b[0m\u001b[0;34m)\u001b[0m\u001b[0;34m\u001b[0m\u001b[0;34m\u001b[0m\u001b[0m\n\u001b[0m\u001b[1;32m     65\u001b[0m     \u001b[0;32melse\u001b[0m\u001b[0;34m:\u001b[0m\u001b[0;34m\u001b[0m\u001b[0;34m\u001b[0m\u001b[0m\n\u001b[1;32m     66\u001b[0m         \u001b[0mindex\u001b[0m \u001b[0;34m=\u001b[0m \u001b[0mensure_index\u001b[0m\u001b[0;34m(\u001b[0m\u001b[0mindex\u001b[0m\u001b[0;34m)\u001b[0m\u001b[0;34m\u001b[0m\u001b[0;34m\u001b[0m\u001b[0m\n",
            "\u001b[0;32m/usr/local/lib/python3.6/dist-packages/pandas/core/internals/construction.py\u001b[0m in \u001b[0;36mextract_index\u001b[0;34m(data)\u001b[0m\n\u001b[1;32m    363\u001b[0m             \u001b[0mlengths\u001b[0m \u001b[0;34m=\u001b[0m \u001b[0mlist\u001b[0m\u001b[0;34m(\u001b[0m\u001b[0mset\u001b[0m\u001b[0;34m(\u001b[0m\u001b[0mraw_lengths\u001b[0m\u001b[0;34m)\u001b[0m\u001b[0;34m)\u001b[0m\u001b[0;34m\u001b[0m\u001b[0;34m\u001b[0m\u001b[0m\n\u001b[1;32m    364\u001b[0m             \u001b[0;32mif\u001b[0m \u001b[0mlen\u001b[0m\u001b[0;34m(\u001b[0m\u001b[0mlengths\u001b[0m\u001b[0;34m)\u001b[0m \u001b[0;34m>\u001b[0m \u001b[0;36m1\u001b[0m\u001b[0;34m:\u001b[0m\u001b[0;34m\u001b[0m\u001b[0;34m\u001b[0m\u001b[0m\n\u001b[0;32m--> 365\u001b[0;31m                 \u001b[0;32mraise\u001b[0m \u001b[0mValueError\u001b[0m\u001b[0;34m(\u001b[0m\u001b[0;34m\"arrays must all be same length\"\u001b[0m\u001b[0;34m)\u001b[0m\u001b[0;34m\u001b[0m\u001b[0;34m\u001b[0m\u001b[0m\n\u001b[0m\u001b[1;32m    366\u001b[0m \u001b[0;34m\u001b[0m\u001b[0m\n\u001b[1;32m    367\u001b[0m             \u001b[0;32mif\u001b[0m \u001b[0mhave_dicts\u001b[0m\u001b[0;34m:\u001b[0m\u001b[0;34m\u001b[0m\u001b[0;34m\u001b[0m\u001b[0m\n",
            "\u001b[0;31mValueError\u001b[0m: arrays must all be same length"
          ]
        }
      ]
    },
    {
      "cell_type": "code",
      "metadata": {
        "id": "wRqxlyGsHGaj",
        "colab_type": "code",
        "colab": {
          "base_uri": "https://localhost:8080/",
          "height": 265
        },
        "outputId": "2a1a6d2c-12d2-4882-c085-4251d819630b"
      },
      "source": [
        "from sklearn.cluster import KMeans\n",
        "from sklearn.datasets.samples_generator import make_blobs\n",
        "\n",
        "\n",
        "kmeans = KMeans(n_clusters = 3, init='k-means++', max_iter=300, n_init=10, random_state=0)\n",
        "kmeans.fit(data_nec)\n",
        "data_nec['kmeans'] = kmeans.labels_\n",
        "cmap = sns.cubehelix_palette(as_cmap=True)\n",
        "centers = kmeans.cluster_centers_\n",
        "plt.scatter(data_nec.to_numpy()[:, 0], data_nec.to_numpy()[:, 1], c = data_nec['kmeans'].to_numpy(), s = 50, cmap = 'viridis')\n",
        "plt.show()\n",
        "data_nec.drop(['kmeans'], axis=1, inplace=True)"
      ],
      "execution_count": 201,
      "outputs": [
        {
          "output_type": "display_data",
          "data": {
            "image/png": "[encoded data removed]",
            "text/plain": [
              "<Figure size 432x288 with 1 Axes>"
            ]
          },
          "metadata": {
            "tags": [],
            "needs_background": "light"
          }
        }
      ]
    },
    {
      "cell_type": "code",
      "metadata": {
        "id": "rSXW9zVoGUKo",
        "colab_type": "code",
        "outputId": "483dc1cc-14ee-43d7-ac82-a8f115c5789d",
        "colab": {
          "base_uri": "https://localhost:8080/",
          "height": 1000
        }
      },
      "source": [
        "# 2 task\n",
        "from sklearn.datasets import load_iris\n",
        "from sklearn.cluster import DBSCAN\n",
        "from sklearn.metrics.pairwise import pairwise_distances\n",
        "\n",
        "d = pairwise_distances(data_nec) \n",
        "d[d==0] = np.inf  \n",
        "y = np.sort(d, axis=1)[:, :3].mean(axis=1)\n",
        "print(y)\n",
        "plt.plot(range(len(y)), y)\n",
        "plt.show()\n",
        "\n",
        "dbscan = DBSCAN(eps=0.015, min_samples=6)\n",
        "X_embedded = dbscan.fit_predict(data_nec)\n",
        "print(X_embedded)\n",
        "plt.scatter(data_nec.to_numpy()[:, 0], data_nec.to_numpy()[:, 1], c = X_embedded, s = 50, cmap = 'viridis')\n",
        "plt.figure(figsize=(12, 12))"
      ],
      "execution_count": 237,
      "outputs": [
        {
          "output_type": "stream",
          "text": [
            "[0.01618418 0.00275236 0.01110498 0.00190118 0.00275178 0.00419584\n",
            " 0.00328831 0.00333235 0.00588091 0.00897252 0.00211828 0.00932855\n",
            " 0.00798699 0.00936831 0.01355076 0.00996791 0.00307697 0.00707855\n",
            " 0.01739283 0.00174417 0.00746244 0.00534799 0.00321843 0.00357795\n",
            " 0.00418656 0.00126039 0.01591735 0.00295653 0.0058964  0.00414484\n",
            " 0.00861618 0.01842269 0.00814769 0.00376946 0.01356997 0.00732885\n",
            " 0.00622524 0.00121528 0.02431039 0.01796986 0.01373597 0.0112047\n",
            " 0.00177979 0.01403209 0.01127442 0.00552231 0.01282511 0.01042025\n",
            " 0.02286492 0.00828594 0.00720326 0.02431014 0.00225407 0.01164376\n",
            " 0.0162082  0.00422344 0.02286495 0.00594244 0.01136005 0.004024\n",
            " 0.00646002 0.00153394 0.01533154 0.00307123 0.00122201 0.00898686\n",
            " 0.0017514  0.00834616 0.00186439 0.0068004  0.01888313 0.00378652\n",
            " 0.00334118 0.00169874 0.00376636 0.01310073 0.00093608 0.03133097\n",
            " 0.00964374 0.00390716 0.00199353 0.0068427  0.00546682 0.00171543\n",
            " 0.00464572 0.001431   0.00702847 0.00826349 0.00879134 0.00728306\n",
            " 0.00988278 0.00274804 0.00549158 0.01246708 0.03721052 0.00687127\n",
            " 0.00661191 0.00289768 0.00856973 0.01227188 0.00615265 0.00847813\n",
            " 0.01713551 0.00357707 0.00991464 0.01516163 0.01755185 0.00343212\n",
            " 0.01096774 0.01126672 0.00760152 0.01330961 0.0032522  0.00235582\n",
            " 0.00373604 0.00821477 0.01172241 0.00595152 0.00253292 0.01309286\n",
            " 0.03922755 0.00246803 0.01624591 0.01330641 0.00521434 0.00143809\n",
            " 0.0028947  0.00737365 0.00306593 0.00305289 0.0029698  0.00741567\n",
            " 0.00722981 0.01236618 0.00108635 0.00415686 0.00836218 0.0018075\n",
            " 0.03256819 0.0066972  0.00414684 0.00361017 0.00907932 0.00749136\n",
            " 0.00553402 0.00387445 0.00537214 0.00590061 0.0067092  0.00846443\n",
            " 0.01118734 0.00224425 0.00149138 0.0159413  0.00792347 0.00295158\n",
            " 0.0130401  0.01517695 0.01246524 0.01448171 0.00803367 0.00690621\n",
            " 0.00604571 0.00263429 0.00404441 0.01125729 0.0181931  0.00595075\n",
            " 0.0228726  0.00505113 0.01125001 0.0137065  0.00606474 0.00724732\n",
            " 0.01287258 0.00292648 0.00625634 0.00568741 0.00113453 0.00137895\n",
            " 0.00939458 0.00996152 0.00402359 0.00227929 0.00789437 0.0118534\n",
            " 0.00559755 0.00573146 0.01280392 0.00761031 0.00091205 0.00117565\n",
            " 0.00374702 0.02415157 0.0374536  0.00109201 0.0013515  0.00308917\n",
            " 0.00771818 0.00412934 0.00842396 0.00358353 0.01225063 0.01040764\n",
            " 0.01336996 0.00204182 0.0022626  0.00772737 0.01167128 0.00786684\n",
            " 0.00632745 0.00171725 0.00314784 0.00298191 0.00821028 0.00170331\n",
            " 0.05486488 0.00186169 0.01616536 0.00784228 0.00303528 0.00540256\n",
            " 0.00331374 0.0116419  0.00332346 0.01933145 0.00685467 0.01331104\n",
            " 0.00744441 0.01059614 0.00668791 0.00399168 0.00498434 0.00106\n",
            " 0.00155978 0.01130985 0.00131525 0.01966139 0.00907163 0.00197842\n",
            " 0.00729562 0.00636956 0.00415403 0.01127605 0.00838796 0.00740615\n",
            " 0.00506721 0.00418602 0.01701881 0.01266422 0.01125175 0.00153652\n",
            " 0.00194512 0.00650794 0.02953648 0.00221006 0.00457975 0.00204384\n",
            " 0.00244693 0.00719783 0.01337947 0.00135073 0.007402   0.00785201\n",
            " 0.00971431 0.00331886 0.02294689 0.00129002 0.00194784 0.00399989\n",
            " 0.00363826 0.00907776 0.01681419 0.00896542 0.00902989 0.00918906\n",
            " 0.00291994 0.00111914 0.01119701 0.01122665 0.01344898 0.00544912\n",
            " 0.00973275 0.01405818 0.00517262 0.00395862 0.00793993 0.00377234\n",
            " 0.00732021 0.04401323 0.00746504 0.00899301 0.00480344 0.00325888\n",
            " 0.00420549 0.00699789 0.00203056 0.00844254 0.00794991 0.00214697\n",
            " 0.00554029 0.00729565 0.00321727 0.00330461 0.00582019 0.00995615\n",
            " 0.0051518  0.00400835 0.00537712 0.01854537 0.00799338 0.00437558\n",
            " 0.00907325 0.00163934 0.00688103 0.01038263 0.00803715 0.00393618\n",
            " 0.00690271 0.00398958 0.00859513 0.01163743 0.00307267 0.01593087\n",
            " 0.00407787 0.00780254 0.00515656 0.00246746 0.01333094]\n"
          ],
          "name": "stdout"
        },
        {
          "output_type": "display_data",
          "data": {
            "image/png": "[encoded data removed]",
            "text/plain": [
              "<Figure size 432x288 with 1 Axes>"
            ]
          },
          "metadata": {
            "tags": [],
            "needs_background": "light"
          }
        },
        {
          "output_type": "stream",
          "text": [
            "[-1  0  0  0  0  0  0  0  0  0  0  0  0  0 -1  0  0  0 -1  0  0  0  0  0\n",
            "  0  0 -1  0  0  0  0 -1  0  0 -1  0  0  0 -1 -1 -1  0  0  0  0  0  0  0\n",
            " -1  0  0 -1  0  0 -1  0 -1  0  0  0  0  0 -1  0  0  0  0  0  0  0 -1  0\n",
            "  0  0  0  0  0 -1  0  0  0  0  0  0  0  0  0  0  0  0  0  0  0  0 -1  0\n",
            "  0  0  0  0  0  0 -1  0  0  0 -1  0  0  0  0  0  0  0  0  0  0  0  0  0\n",
            " -1  0 -1  0  0  0  0  0  0  0  0  0  0  0  0  0  0  0 -1  0  0  0  0  0\n",
            "  0  0  0  0  0  0  0  0  0  0  0  0  0 -1  0  0  0  0  0  0  0  0 -1  0\n",
            " -1  0  0  0  0  0  0  0  0  0  0  0  0  0  0  0  0  0  0  0  0  0  0  0\n",
            "  0 -1 -1  0  0  0  0  0  0  0  0  0  0  0  0  0  0  0  0  0  0  0  0  0\n",
            " -1  0 -1  0  0  0  0  0  0 -1  0 -1  0  0  0  0  0  0  0  0  0 -1  0  0\n",
            "  0  0  0  0  0  0  0  0 -1  0  0  0  0  0 -1  0  0  0  0  0 -1  0  0  0\n",
            "  0  0 -1  0  0  0  0  0 -1  0  0  0  0  0  0  0 -1  0  0 -1  0  0  0  0\n",
            "  0 -1  0  0  0  0  0  0  0  0  0  0  0  0  0  0  0  0  0  0  0 -1  0  0\n",
            "  0  0  0  0  0  0  0  0  0  0  0 -1  0  0  0  0  0]\n"
          ],
          "name": "stdout"
        },
        {
          "output_type": "execute_result",
          "data": {
            "text/plain": [
              "<Figure size 864x864 with 0 Axes>"
            ]
          },
          "metadata": {
            "tags": []
          },
          "execution_count": 237
        },
        {
          "output_type": "display_data",
          "data": {
            "image/png": "[encoded data removed]",
            "text/plain": [
              "<Figure size 432x288 with 1 Axes>"
            ]
          },
          "metadata": {
            "tags": [],
            "needs_background": "light"
          }
        },
        {
          "output_type": "display_data",
          "data": {
            "text/plain": [
              "<Figure size 864x864 with 0 Axes>"
            ]
          },
          "metadata": {
            "tags": []
          }
        }
      ]
    },
    {
      "cell_type": "code",
      "metadata": {
        "id": "IE0HqFv3Tg_r",
        "colab_type": "code",
        "colab": {
          "base_uri": "https://localhost:8080/",
          "height": 966
        },
        "outputId": "6b249b12-1308-4142-a6ea-1353bd7a004b"
      },
      "source": [
        "import matplotlib.pyplot as plt\n",
        "from sklearn.manifold import TSNE\n",
        "import seaborn as sns\n",
        "X_embedded = TSNE(n_components=2, perplexity=600, learning_rate = 200, \n",
        "                  init = 'pca', metric='canberra', method='exact').fit_transform(data_nec)\n",
        "plt.scatter(X_embedded[:, 0], X_embedded[:, 1])\n",
        "plt.figure(figsize=(12, 12))\n",
        "palette = sns.color_palette(\"bright\", 10)\n",
        "sns.scatterplot(X_embedded[:,0], X_embedded[:,1], legend='full', palette=palette)\n"
      ],
      "execution_count": 91,
      "outputs": [
        {
          "output_type": "execute_result",
          "data": {
            "text/plain": [
              "<matplotlib.axes._subplots.AxesSubplot at 0x7fdf6b340b70>"
            ]
          },
          "metadata": {
            "tags": []
          },
          "execution_count": 91
        },
        {
          "output_type": "display_data",
          "data": {
            "image/png": "[encoded data removed]",
            "text/plain": [
              "<Figure size 432x288 with 1 Axes>"
            ]
          },
          "metadata": {
            "tags": [],
            "needs_background": "light"
          }
        },
        {
          "output_type": "display_data",
          "data": {
            "image/png": "[encoded data removed]",
            "text/plain": [
              "<Figure size 864x864 with 1 Axes>"
            ]
          },
          "metadata": {
            "tags": [],
            "needs_background": "light"
          }
        }
      ]
    }
  ]
}