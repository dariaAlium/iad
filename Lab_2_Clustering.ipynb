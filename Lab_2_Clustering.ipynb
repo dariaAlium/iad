{
  "nbformat": 4,
  "nbformat_minor": 0,
  "metadata": {
    "kernelspec": {
      "display_name": "Python 3",
      "language": "python",
      "name": "python3"
    },
    "language_info": {
      "codemirror_mode": {
        "name": "ipython",
        "version": 3
      },
      "file_extension": ".py",
      "mimetype": "text/x-python",
      "name": "python",
      "nbconvert_exporter": "python",
      "pygments_lexer": "ipython3",
      "version": "3.7.6"
    },
    "colab": {
      "name": "Lab_2. Clustering.ipynb",
      "provenance": [],
      "include_colab_link": true
    }
  },
  "cells": [
    {
      "cell_type": "markdown",
      "metadata": {
        "id": "view-in-github",
        "colab_type": "text"
      },
      "source": [
        "<a href=\"https://colab.research.google.com/github/dariaAlium/iad/blob/master/Lab_2_Clustering.ipynb\" target=\"_parent\"><img src=\"https://colab.research.google.com/assets/colab-badge.svg\" alt=\"Open In Colab\"/></a>"
      ]
    },
    {
      "cell_type": "markdown",
      "metadata": {
        "id": "c9GMzhtJ3Zfo",
        "colab_type": "text"
      },
      "source": [
        "# <center> Майнор \"Интеллектуальный анализ данных\" </center>"
      ]
    },
    {
      "cell_type": "markdown",
      "metadata": {
        "id": "lvUEvZf73Zfv",
        "colab_type": "text"
      },
      "source": [
        "# <center> Курс \"Введение в анализ данных\" </center>"
      ]
    },
    {
      "cell_type": "markdown",
      "metadata": {
        "id": "8j4whctC3Zf4",
        "colab_type": "text"
      },
      "source": [
        "# <center> Лабораторная работа №2. Кластерный анализ. </center>"
      ]
    },
    {
      "cell_type": "markdown",
      "metadata": {
        "id": "Qh_L0EHB3Zf9",
        "colab_type": "text"
      },
      "source": [
        "## Задание 1"
      ]
    },
    {
      "cell_type": "markdown",
      "metadata": {
        "id": "z1MLEvlx3ZgC",
        "colab_type": "text"
      },
      "source": [
        "В данном задании вам необходимо реализовать алгоритм кластеризации [Partition Around Medoids](http://algowiki-project.org/ru/%D0%A3%D1%87%D0%B0%D1%81%D1%82%D0%BD%D0%B8%D0%BA:Denemmy/Partitioning_Around_Medoids_%28%D0%90%D0%BB%D0%B3%D0%BE%D1%80%D0%B8%D1%82%D0%BC%29).  \n",
        "  \n",
        "Два возможных варианта реализации:  \n",
        "  \n",
        "### Функция\n",
        "  \n",
        "Нужно написать функцию, которая принимает на вход несколько параметров и возвращает также несколько значений.  \n",
        "  \n",
        "Параметры функции:\n",
        "- **data:** данные в виде dataframe или матрицы (аналогично функциям и методам, которые рассматривали на практике);\n",
        "- **k:** число центров (кластеров);\n",
        "- **metric:** расстояние между объектами (те же, что поддерживает функция `pdist()`);\n",
        "- **max_iter:** максимальное число итераций;  \n",
        "- **tol:** минимальное значение изменения целевой функции.\n",
        "\n",
        "Возвращаемые значения:  \n",
        "- **inertia:** итоговое значение целевой функции;\n",
        "- **medoids:** центры кластеров - индексы объектов данных, которые являются центрами;\n",
        "- **labels:** метки кластеров для каждого объекта.\n",
        "  \n",
        "### Класс  \n",
        "  \n",
        "По аналогии с классами в scikit-learn, нужно реализовать класс, наследуемый от [Base Estimator](https://scikit-learn.org/stable/modules/generated/sklearn.base.BaseEstimator.html).  \n",
        "Подробнее про реализацию своих моделей в scikit-learn: [here](https://scikit-learn.org/stable/developers/develop.html#rolling-your-own-estimator).\n",
        "  \n",
        "Параметры: \n",
        "- **k:** число центров (кластеров);\n",
        "- **metric:** расстояние между объектами (те же, что поддерживает функция `pdist()`);\n",
        "- **max_iter:** максимальное число итераций;  \n",
        "- **tol:** минимальное значение изменения целевой функции.  \n",
        "  \n",
        "Методы:  \n",
        "- **fit():** метод для выполнения кластеризации.  \n",
        "    Аргументы метода:  \n",
        "    - **data:** данные в виде dataframe или матрицы\n",
        "  \n",
        "Атрибуты:  \n",
        "- **inertia_:** итоговое значение целевой функции;\n",
        "- **medoids_:** центры кластеров - индексы объектов данных, которые являются центрами;\n",
        "- **labels_:** метки кластеров для каждого объекта.  \n",
        "   \n",
        "<br>  \n",
        "**Note 1:** Параметры `max_iter` и `tol` должны иметь дефолтные значения.  \n",
        "**Note 2:** Функции для вычисления расстояний самим реализовывать не нужно, используйте `pdist()`.  \n",
        "  \n",
        "<br>  \n",
        "Также необходимо написать документацию к функции/методу: описать формат входных данных (параметров) и возвращаемых значений, особенности работы функции и детали реализации алгоритма. В качестве образца можно взять документацию к функциям/методам, которые рассматривали на занятиях.  \n",
        "  \n",
        "Наивная реализация алгоритма будет работать довольно медленно - это нормально. Будет плюсом (но не является обязательным), если вы попытаетесь оптимизировать ваш код. Можете указать все ваши решения для оптимизации в документации.   "
      ]
    },
    {
      "cell_type": "markdown",
      "metadata": {
        "id": "XQBBj2Sq3ZgO",
        "colab_type": "text"
      },
      "source": [
        "# Задание 2"
      ]
    },
    {
      "cell_type": "markdown",
      "metadata": {
        "id": "gCZaCrv13Zgb",
        "colab_type": "text"
      },
      "source": [
        "В рамках данной лабораторной работы вам предлагается проанализировать набор данных по различным городам США. Каждый город характеризуется следующими признаками:"
      ]
    },
    {
      "cell_type": "code",
      "metadata": {
        "id": "rUW6uaBY3Zgq",
        "colab_type": "code",
        "colab": {}
      },
      "source": [
        "import pandas as pd"
      ],
      "execution_count": 0,
      "outputs": []
    },
    {
      "cell_type": "code",
      "metadata": {
        "id": "6Qtwjosv3ZhE",
        "colab_type": "code",
        "colab": {}
      },
      "source": [
        "pd.set_option('display.max_rows', 20)\n",
        "pd.set_option('display.max_colwidth', None)"
      ],
      "execution_count": 0,
      "outputs": []
    },
    {
      "cell_type": "code",
      "metadata": {
        "id": "65IE93r33Zhm",
        "colab_type": "code",
        "colab": {},
        "outputId": "3a4db6b9-2b00-4cea-99af-659e822ed142"
      },
      "source": [
        "data_desc = pd.read_csv('Data_Description.txt', sep=':')\n",
        "data_desc"
      ],
      "execution_count": 0,
      "outputs": [
        {
          "output_type": "execute_result",
          "data": {
            "text/html": [
              "<div>\n",
              "<style scoped>\n",
              "    .dataframe tbody tr th:only-of-type {\n",
              "        vertical-align: middle;\n",
              "    }\n",
              "\n",
              "    .dataframe tbody tr th {\n",
              "        vertical-align: top;\n",
              "    }\n",
              "\n",
              "    .dataframe thead th {\n",
              "        text-align: right;\n",
              "    }\n",
              "</style>\n",
              "<table border=\"1\" class=\"dataframe\">\n",
              "  <thead>\n",
              "    <tr style=\"text-align: right;\">\n",
              "      <th></th>\n",
              "      <th>Attribute</th>\n",
              "      <th>Description</th>\n",
              "    </tr>\n",
              "  </thead>\n",
              "  <tbody>\n",
              "    <tr>\n",
              "      <th>0</th>\n",
              "      <td>Place</td>\n",
              "      <td>City, state (postal code)</td>\n",
              "    </tr>\n",
              "    <tr>\n",
              "      <th>1</th>\n",
              "      <td>Climate &amp; Terrain</td>\n",
              "      <td>Very hot and very cold months, seasonal temperature variation, heating- and cooling-degree days, freezing days, zero-degree days, ninety-degree days.</td>\n",
              "    </tr>\n",
              "    <tr>\n",
              "      <th>2</th>\n",
              "      <td>Housing</td>\n",
              "      <td>Utility bills, property taxes, mortgage payments.</td>\n",
              "    </tr>\n",
              "    <tr>\n",
              "      <th>3</th>\n",
              "      <td>Health Care &amp; Environment</td>\n",
              "      <td>Per capita physicians, teaching hospitals, medical schools, cardiac rehabilitation centers, comprehensive cancer treatment centers, hospices, insurance/hospitalization costs index, flouridation of drinking water, air pollution.</td>\n",
              "    </tr>\n",
              "    <tr>\n",
              "      <th>4</th>\n",
              "      <td>Crime</td>\n",
              "      <td>Violent crime rate, property crime rate.</td>\n",
              "    </tr>\n",
              "    <tr>\n",
              "      <th>5</th>\n",
              "      <td>Transportation</td>\n",
              "      <td>Daily commute, public transportation, Interstate highways, air service, passenger rail service.</td>\n",
              "    </tr>\n",
              "    <tr>\n",
              "      <th>6</th>\n",
              "      <td>Education</td>\n",
              "      <td>Pupil/teacher ratio in the public K-12 system, effort index in K-12, accademic options in higher education.</td>\n",
              "    </tr>\n",
              "    <tr>\n",
              "      <th>7</th>\n",
              "      <td>The Arts</td>\n",
              "      <td>Museums, fine arts and public radio stations, public television stations, universities offering a degree or degrees in the arts, symphony orchestras, theatres, opera companies, dance companies, public libraries.</td>\n",
              "    </tr>\n",
              "    <tr>\n",
              "      <th>8</th>\n",
              "      <td>Recreation</td>\n",
              "      <td>Good restaurants, public golf courses, certified lanes for tenpin bowling, movie theatres, zoos, aquariums, family theme parks, sanctioned automobile race tracks, pari-mutuel betting attractions, major- and minor- league professional sports teams, NCAA Division I football and basketball teams, miles of ocean or Great Lakes coastline, inland water, national forests, national parks, or national wildlife refuges, Consolidated Metropolitan Statistical Area access.</td>\n",
              "    </tr>\n",
              "    <tr>\n",
              "      <th>9</th>\n",
              "      <td>Economics</td>\n",
              "      <td>Average household income adjusted for taxes and living costs, income growth, job growth.</td>\n",
              "    </tr>\n",
              "    <tr>\n",
              "      <th>10</th>\n",
              "      <td>Longitude</td>\n",
              "      <td>Longitude</td>\n",
              "    </tr>\n",
              "    <tr>\n",
              "      <th>11</th>\n",
              "      <td>Latitude</td>\n",
              "      <td>Latitude</td>\n",
              "    </tr>\n",
              "    <tr>\n",
              "      <th>12</th>\n",
              "      <td>Population</td>\n",
              "      <td>Population</td>\n",
              "    </tr>\n",
              "  </tbody>\n",
              "</table>\n",
              "</div>"
            ],
            "text/plain": [
              "                    Attribute  \\\n",
              "0                       Place   \n",
              "1           Climate & Terrain   \n",
              "2                     Housing   \n",
              "3   Health Care & Environment   \n",
              "4                       Crime   \n",
              "5              Transportation   \n",
              "6                   Education   \n",
              "7                    The Arts   \n",
              "8                  Recreation   \n",
              "9                   Economics   \n",
              "10                  Longitude   \n",
              "11                   Latitude   \n",
              "12                 Population   \n",
              "\n",
              "                                                                                                                                                                                                                                                                                                                                                                                                                                                                         Description  \n",
              "0                                                                                                                                                                                                                                                                                                                                                                                                                                                          City, state (postal code)  \n",
              "1                                                                                                                                                                                                                                                                                                                              Very hot and very cold months, seasonal temperature variation, heating- and cooling-degree days, freezing days, zero-degree days, ninety-degree days.  \n",
              "2                                                                                                                                                                                                                                                                                                                                                                                                                                  Utility bills, property taxes, mortgage payments.  \n",
              "3                                                                                                                                                                                                                                                Per capita physicians, teaching hospitals, medical schools, cardiac rehabilitation centers, comprehensive cancer treatment centers, hospices, insurance/hospitalization costs index, flouridation of drinking water, air pollution.  \n",
              "4                                                                                                                                                                                                                                                                                                                                                                                                                                           Violent crime rate, property crime rate.  \n",
              "5                                                                                                                                                                                                                                                                                                                                                                                    Daily commute, public transportation, Interstate highways, air service, passenger rail service.  \n",
              "6                                                                                                                                                                                                                                                                                                                                                                        Pupil/teacher ratio in the public K-12 system, effort index in K-12, accademic options in higher education.  \n",
              "7                                                                                                                                                                                                                                                                Museums, fine arts and public radio stations, public television stations, universities offering a degree or degrees in the arts, symphony orchestras, theatres, opera companies, dance companies, public libraries.  \n",
              "8   Good restaurants, public golf courses, certified lanes for tenpin bowling, movie theatres, zoos, aquariums, family theme parks, sanctioned automobile race tracks, pari-mutuel betting attractions, major- and minor- league professional sports teams, NCAA Division I football and basketball teams, miles of ocean or Great Lakes coastline, inland water, national forests, national parks, or national wildlife refuges, Consolidated Metropolitan Statistical Area access.  \n",
              "9                                                                                                                                                                                                                                                                                                                                                                                           Average household income adjusted for taxes and living costs, income growth, job growth.  \n",
              "10                                                                                                                                                                                                                                                                                                                                                                                                                                                                         Longitude  \n",
              "11                                                                                                                                                                                                                                                                                                                                                                                                                                                                          Latitude  \n",
              "12                                                                                                                                                                                                                                                                                                                                                                                                                                                                        Population  "
            ]
          },
          "metadata": {
            "tags": []
          },
          "execution_count": 3
        }
      ]
    },
    {
      "cell_type": "markdown",
      "metadata": {
        "id": "JnIPpZrl3ZiP",
        "colab_type": "text"
      },
      "source": [
        "### Notes:   \n",
        "* Для всех признаков, кроме трех, чем выше значение - тем лучше. Для признаков `Housing` и `Crime` - наоборот.\n",
        "* Признак `Population`- статистический признак, не имеющий интерпретации как “лучше-хуже”.\n",
        "* Признак `Place` - уникальный идентификатор объекта (города), он не должен использоваться при кластеризации.\n",
        "* Также в данных присутствуют географические координаты городов - `Longitude` и `Latitude`. Их также не следует использовать при кластеризации данных."
      ]
    },
    {
      "cell_type": "code",
      "metadata": {
        "id": "Amc8QJY43ZiU",
        "colab_type": "code",
        "colab": {},
        "outputId": "7682f425-c9de-4ffb-cf7a-d5312ab6e2d0"
      },
      "source": [
        "data = pd.read_csv('Data.txt', sep=' ')\n",
        "data"
      ],
      "execution_count": 0,
      "outputs": [
        {
          "output_type": "execute_result",
          "data": {
            "text/html": [
              "<div>\n",
              "<style scoped>\n",
              "    .dataframe tbody tr th:only-of-type {\n",
              "        vertical-align: middle;\n",
              "    }\n",
              "\n",
              "    .dataframe tbody tr th {\n",
              "        vertical-align: top;\n",
              "    }\n",
              "\n",
              "    .dataframe thead th {\n",
              "        text-align: right;\n",
              "    }\n",
              "</style>\n",
              "<table border=\"1\" class=\"dataframe\">\n",
              "  <thead>\n",
              "    <tr style=\"text-align: right;\">\n",
              "      <th></th>\n",
              "      <th>Place</th>\n",
              "      <th>Climate</th>\n",
              "      <th>HousingCost</th>\n",
              "      <th>HlthCare</th>\n",
              "      <th>Crime</th>\n",
              "      <th>Transp</th>\n",
              "      <th>Educ</th>\n",
              "      <th>Arts</th>\n",
              "      <th>Recreat</th>\n",
              "      <th>Econ</th>\n",
              "      <th>Long</th>\n",
              "      <th>Lat</th>\n",
              "      <th>Pop</th>\n",
              "    </tr>\n",
              "  </thead>\n",
              "  <tbody>\n",
              "    <tr>\n",
              "      <th>0</th>\n",
              "      <td>Abilene,TX</td>\n",
              "      <td>521</td>\n",
              "      <td>6200</td>\n",
              "      <td>237</td>\n",
              "      <td>923</td>\n",
              "      <td>4031</td>\n",
              "      <td>2757</td>\n",
              "      <td>996</td>\n",
              "      <td>1405</td>\n",
              "      <td>7633</td>\n",
              "      <td>-99.6890</td>\n",
              "      <td>32.5590</td>\n",
              "      <td>110932</td>\n",
              "    </tr>\n",
              "    <tr>\n",
              "      <th>1</th>\n",
              "      <td>Akron,OH</td>\n",
              "      <td>575</td>\n",
              "      <td>8138</td>\n",
              "      <td>1656</td>\n",
              "      <td>886</td>\n",
              "      <td>4883</td>\n",
              "      <td>2438</td>\n",
              "      <td>5564</td>\n",
              "      <td>2632</td>\n",
              "      <td>4350</td>\n",
              "      <td>-81.5180</td>\n",
              "      <td>41.0850</td>\n",
              "      <td>660328</td>\n",
              "    </tr>\n",
              "    <tr>\n",
              "      <th>2</th>\n",
              "      <td>Albany,GA</td>\n",
              "      <td>468</td>\n",
              "      <td>7339</td>\n",
              "      <td>618</td>\n",
              "      <td>970</td>\n",
              "      <td>2531</td>\n",
              "      <td>2560</td>\n",
              "      <td>237</td>\n",
              "      <td>859</td>\n",
              "      <td>5250</td>\n",
              "      <td>-84.1580</td>\n",
              "      <td>31.5750</td>\n",
              "      <td>112402</td>\n",
              "    </tr>\n",
              "    <tr>\n",
              "      <th>3</th>\n",
              "      <td>Albany-Schenectady-Troy,NY</td>\n",
              "      <td>476</td>\n",
              "      <td>7908</td>\n",
              "      <td>1431</td>\n",
              "      <td>610</td>\n",
              "      <td>6883</td>\n",
              "      <td>3399</td>\n",
              "      <td>4655</td>\n",
              "      <td>1617</td>\n",
              "      <td>5864</td>\n",
              "      <td>-73.7983</td>\n",
              "      <td>42.7327</td>\n",
              "      <td>835880</td>\n",
              "    </tr>\n",
              "    <tr>\n",
              "      <th>4</th>\n",
              "      <td>Albuquerque,NM</td>\n",
              "      <td>659</td>\n",
              "      <td>8393</td>\n",
              "      <td>1853</td>\n",
              "      <td>1483</td>\n",
              "      <td>6558</td>\n",
              "      <td>3026</td>\n",
              "      <td>4496</td>\n",
              "      <td>2612</td>\n",
              "      <td>5727</td>\n",
              "      <td>-106.6500</td>\n",
              "      <td>35.0830</td>\n",
              "      <td>419700</td>\n",
              "    </tr>\n",
              "    <tr>\n",
              "      <th>...</th>\n",
              "      <td>...</td>\n",
              "      <td>...</td>\n",
              "      <td>...</td>\n",
              "      <td>...</td>\n",
              "      <td>...</td>\n",
              "      <td>...</td>\n",
              "      <td>...</td>\n",
              "      <td>...</td>\n",
              "      <td>...</td>\n",
              "      <td>...</td>\n",
              "      <td>...</td>\n",
              "      <td>...</td>\n",
              "      <td>...</td>\n",
              "    </tr>\n",
              "    <tr>\n",
              "      <th>324</th>\n",
              "      <td>Worcester,MA</td>\n",
              "      <td>562</td>\n",
              "      <td>8715</td>\n",
              "      <td>1805</td>\n",
              "      <td>680</td>\n",
              "      <td>3643</td>\n",
              "      <td>3299</td>\n",
              "      <td>1784</td>\n",
              "      <td>910</td>\n",
              "      <td>5040</td>\n",
              "      <td>-71.7950</td>\n",
              "      <td>42.2720</td>\n",
              "      <td>402918</td>\n",
              "    </tr>\n",
              "    <tr>\n",
              "      <th>325</th>\n",
              "      <td>Yakima,WA</td>\n",
              "      <td>535</td>\n",
              "      <td>6440</td>\n",
              "      <td>317</td>\n",
              "      <td>1106</td>\n",
              "      <td>3731</td>\n",
              "      <td>2491</td>\n",
              "      <td>996</td>\n",
              "      <td>2140</td>\n",
              "      <td>4986</td>\n",
              "      <td>-120.5130</td>\n",
              "      <td>46.5950</td>\n",
              "      <td>172508</td>\n",
              "    </tr>\n",
              "    <tr>\n",
              "      <th>326</th>\n",
              "      <td>York,PA</td>\n",
              "      <td>540</td>\n",
              "      <td>8371</td>\n",
              "      <td>713</td>\n",
              "      <td>440</td>\n",
              "      <td>2267</td>\n",
              "      <td>2903</td>\n",
              "      <td>1022</td>\n",
              "      <td>842</td>\n",
              "      <td>4946</td>\n",
              "      <td>-76.7280</td>\n",
              "      <td>39.9600</td>\n",
              "      <td>381255</td>\n",
              "    </tr>\n",
              "    <tr>\n",
              "      <th>327</th>\n",
              "      <td>Youngstown-Warren,OH</td>\n",
              "      <td>570</td>\n",
              "      <td>7021</td>\n",
              "      <td>1097</td>\n",
              "      <td>938</td>\n",
              "      <td>3374</td>\n",
              "      <td>2920</td>\n",
              "      <td>2797</td>\n",
              "      <td>1327</td>\n",
              "      <td>3894</td>\n",
              "      <td>-80.7290</td>\n",
              "      <td>41.1700</td>\n",
              "      <td>531350</td>\n",
              "    </tr>\n",
              "    <tr>\n",
              "      <th>328</th>\n",
              "      <td>Yuba-City,CA</td>\n",
              "      <td>608</td>\n",
              "      <td>7875</td>\n",
              "      <td>212</td>\n",
              "      <td>1179</td>\n",
              "      <td>2768</td>\n",
              "      <td>2387</td>\n",
              "      <td>122</td>\n",
              "      <td>918</td>\n",
              "      <td>4694</td>\n",
              "      <td>-121.6220</td>\n",
              "      <td>39.1280</td>\n",
              "      <td>101979</td>\n",
              "    </tr>\n",
              "  </tbody>\n",
              "</table>\n",
              "<p>329 rows × 13 columns</p>\n",
              "</div>"
            ],
            "text/plain": [
              "                          Place  Climate  HousingCost  HlthCare  Crime  \\\n",
              "0                    Abilene,TX      521         6200       237    923   \n",
              "1                      Akron,OH      575         8138      1656    886   \n",
              "2                     Albany,GA      468         7339       618    970   \n",
              "3    Albany-Schenectady-Troy,NY      476         7908      1431    610   \n",
              "4                Albuquerque,NM      659         8393      1853   1483   \n",
              "..                          ...      ...          ...       ...    ...   \n",
              "324                Worcester,MA      562         8715      1805    680   \n",
              "325                   Yakima,WA      535         6440       317   1106   \n",
              "326                     York,PA      540         8371       713    440   \n",
              "327        Youngstown-Warren,OH      570         7021      1097    938   \n",
              "328                Yuba-City,CA      608         7875       212   1179   \n",
              "\n",
              "     Transp  Educ  Arts  Recreat  Econ      Long      Lat     Pop  \n",
              "0      4031  2757   996     1405  7633  -99.6890  32.5590  110932  \n",
              "1      4883  2438  5564     2632  4350  -81.5180  41.0850  660328  \n",
              "2      2531  2560   237      859  5250  -84.1580  31.5750  112402  \n",
              "3      6883  3399  4655     1617  5864  -73.7983  42.7327  835880  \n",
              "4      6558  3026  4496     2612  5727 -106.6500  35.0830  419700  \n",
              "..      ...   ...   ...      ...   ...       ...      ...     ...  \n",
              "324    3643  3299  1784      910  5040  -71.7950  42.2720  402918  \n",
              "325    3731  2491   996     2140  4986 -120.5130  46.5950  172508  \n",
              "326    2267  2903  1022      842  4946  -76.7280  39.9600  381255  \n",
              "327    3374  2920  2797     1327  3894  -80.7290  41.1700  531350  \n",
              "328    2768  2387   122      918  4694 -121.6220  39.1280  101979  \n",
              "\n",
              "[329 rows x 13 columns]"
            ]
          },
          "metadata": {
            "tags": []
          },
          "execution_count": 4
        }
      ]
    },
    {
      "cell_type": "markdown",
      "metadata": {
        "id": "Slu9as3d3Zit",
        "colab_type": "text"
      },
      "source": [
        "<br>  \n",
        "### Задания: "
      ]
    },
    {
      "cell_type": "markdown",
      "metadata": {
        "id": "APedWYqy3Zix",
        "colab_type": "text"
      },
      "source": [
        "&nbsp;&nbsp;&nbsp;0. Выполните необходимую предобработку данных. Перед кластеризацией исключите из данных признаки `Place`, `Long` и `Lat`."
      ]
    },
    {
      "cell_type": "markdown",
      "metadata": {
        "id": "Ub84nRdp3Zi0",
        "colab_type": "text"
      },
      "source": [
        "1. Выполните кластеризацию иерархическим методом.  \n",
        "Рассмотрите различные расстояния между объектами. Определите, какие следует использовать при кластеризации.  \n",
        "Выполните кластеризацию с различными расстояниями между кластерами. Сравните результаты, сделайте выводы.  \n",
        "<br>  \n",
        "2. Выполните кластеризацию методом dbscan. Используйте расстояния между объектами, определенные в предыдущем пункте.  \n",
        "Реализуйте эвристику (см. лекции) для выбора параметров алгоритма. Подберите подходящие параметры алгоритма.  \n",
        "<br>  \n",
        "3. Выполните кластеризацию методом kmeans. Определите наилучшее (на ваш взгляд) число кластеров.  \n",
        "<br>  \n",
        "4. Выполните кластеризацию методом PAM. Используйте расстояния между объектами, определенные в пункте (1). Определите наилучшее (на ваш взгляд) число кластеров.  \n",
        "Используйте реализацию алгоритма из Задания 1.  \n",
        "<br>  \n",
        "5. (Бонусное) Выполните кластеризацию другими методами. Например, [HDBSCAN](https://hdbscan.readthedocs.io/en/latest/) или алгоритмы, [реализованные](https://scikit-learn.org/stable/modules/clustering.html) в scikit-learn.  \n",
        "<br>  \n",
        "6. В результате выполнения предыдущих пунктов вы должны получить 4 или больше разбиения объектов (по одному на каждый метод). Сравните их между собой, сделайте выводы о сходствах и различиях.  \n",
        "Оцените результаты каждой кластеризации, используя метрики, рассмотренные на занятиях (Silhouette и прочие).  \n",
        "<br>  \n",
        "7. Выберите одно разбиение, наиболее подходящее на ваш взгляд. Предложите интерпретацию полученным кластерам или покажите, что этого сделать нельзя.  \n",
        "<br>  \n",
        "8. Оцените, как полученные кластеры распределены географически. (Бонусное) [Провизуализируйте](https://python-visualization.github.io/folium/quickstart.html) распределение на карте США.  \n",
        "Оцените, как полученные кластеры распределены по штатам. Можно ли выделить какую-то зависимость (территориальную или для штатов)?"
      ]
    },
    {
      "cell_type": "code",
      "metadata": {
        "id": "NwenM3yy3Zi5",
        "colab_type": "code",
        "colab": {}
      },
      "source": [
        ""
      ],
      "execution_count": 0,
      "outputs": []
    }
  ]
}