{
  "nbformat": 4,
  "nbformat_minor": 0,
  "metadata": {
    "kernelspec": {
      "display_name": "Python 3",
      "language": "python",
      "name": "python3"
    },
    "language_info": {
      "codemirror_mode": {
        "name": "ipython",
        "version": 3
      },
      "file_extension": ".py",
      "mimetype": "text/x-python",
      "name": "python",
      "nbconvert_exporter": "python",
      "pygments_lexer": "ipython3",
      "version": "3.7.6"
    },
    "colab": {
      "name": "Lab_3.Supervised_Learning.ipynb",
      "provenance": [],
      "include_colab_link": true
    }
  },
  "cells": [
    {
      "cell_type": "markdown",
      "metadata": {
        "id": "view-in-github",
        "colab_type": "text"
      },
      "source": [
        "<a href=\"https://colab.research.google.com/github/dariaAlium/iad/blob/master/Lab_3_Supervised_Learning.ipynb\" target=\"_parent\"><img src=\"https://colab.research.google.com/assets/colab-badge.svg\" alt=\"Open In Colab\"/></a>"
      ]
    },
    {
      "cell_type": "markdown",
      "metadata": {
        "id": "iU03GCTdkoOV",
        "colab_type": "text"
      },
      "source": [
        "# <center>Майнор \"Интеллектуальный анализ данных\"</center>"
      ]
    },
    {
      "cell_type": "markdown",
      "metadata": {
        "id": "kwUn0dnhkoOW",
        "colab_type": "text"
      },
      "source": [
        "# <center>Курс \"Введение в анализ данных\"</center>"
      ]
    },
    {
      "cell_type": "markdown",
      "metadata": {
        "id": "sQKK_SPBkoOX",
        "colab_type": "text"
      },
      "source": [
        "# <center>Лабораторная работа №3. Supervised Learning</center>"
      ]
    },
    {
      "cell_type": "markdown",
      "metadata": {
        "id": "G4brmgUCkoOX",
        "colab_type": "text"
      },
      "source": [
        "## Данные"
      ]
    },
    {
      "cell_type": "markdown",
      "metadata": {
        "id": "hB938TDxkoOY",
        "colab_type": "text"
      },
      "source": [
        "В рамках данной лабораторной работы вам предлагается проанализировать набор данных о студентах двух школ в Португалии.  \n",
        "В файле `students_data.csv` представлена информация о студентах, посещающих два курса - математику (`Math`) и поргутальский язык (`Por`). Некоторые студенты представлены в обоих курсах, некоторые - только в одном. Для каждого студента известны три оценки по курсу: оценка за первое полугодие (`G1`), оценка за второе полугодие (`G2`) и итоговая оценка за год (`G3`)."
      ]
    },
    {
      "cell_type": "code",
      "metadata": {
        "id": "KZTsRHpVkoOY",
        "colab_type": "code",
        "colab": {}
      },
      "source": [
        "import pandas as pd\n",
        "import numpy as np\n",
        "import matplotlib.pyplot as plt\n",
        "import seaborn as sns\n",
        "from  sklearn import preprocessing \n",
        "from scipy.stats.stats import pearsonr\n",
        "from sklearn.model_selection import train_test_split\n",
        "from sklearn import linear_model\n",
        "from sklearn import metrics\n",
        "from sklearn.preprocessing import PolynomialFeatures\n",
        "from sklearn.metrics import mean_squared_error\n",
        "from sklearn.model_selection import train_test_split\n",
        "from sklearn.neighbors import KNeighborsRegressor\n",
        "from sklearn.model_selection import cross_val_score\n",
        "from sklearn.model_selection import GridSearchCV\n",
        "from sklearn.neighbors import RadiusNeighborsRegressor"
      ],
      "execution_count": 0,
      "outputs": []
    },
    {
      "cell_type": "code",
      "metadata": {
        "id": "_p5hYSJ_gaic",
        "colab_type": "code",
        "outputId": "2a7893dd-cdfd-4baf-a0b6-4092a61f3214",
        "colab": {
          "base_uri": "https://localhost:8080/",
          "height": 35
        }
      },
      "source": [
        "pd.set_option('display.max_columns', 40)\n",
        "pd.set_option('display.max_colwidth', None)\n",
        "data = pd.read_csv(\"students_data.csv\")\n",
        "\n",
        "data.shape"
      ],
      "execution_count": 106,
      "outputs": [
        {
          "output_type": "execute_result",
          "data": {
            "text/plain": [
              "(1044, 36)"
            ]
          },
          "metadata": {
            "tags": []
          },
          "execution_count": 106
        }
      ]
    },
    {
      "cell_type": "code",
      "metadata": {
        "id": "EM0rsFTXV0H_",
        "colab_type": "code",
        "colab": {
          "base_uri": "https://localhost:8080/",
          "height": 1000
        },
        "outputId": "c0708d3a-cd11-49d5-b050-c98c3f2bd22a"
      },
      "source": [
        "data.loc[data['G3'] == 0]"
      ],
      "execution_count": 107,
      "outputs": [
        {
          "output_type": "execute_result",
          "data": {
            "text/html": [
              "<div>\n",
              "<style scoped>\n",
              "    .dataframe tbody tr th:only-of-type {\n",
              "        vertical-align: middle;\n",
              "    }\n",
              "\n",
              "    .dataframe tbody tr th {\n",
              "        vertical-align: top;\n",
              "    }\n",
              "\n",
              "    .dataframe thead th {\n",
              "        text-align: right;\n",
              "    }\n",
              "</style>\n",
              "<table border=\"1\" class=\"dataframe\">\n",
              "  <thead>\n",
              "    <tr style=\"text-align: right;\">\n",
              "      <th></th>\n",
              "      <th>ID</th>\n",
              "      <th>Subject</th>\n",
              "      <th>school</th>\n",
              "      <th>sex</th>\n",
              "      <th>age</th>\n",
              "      <th>address</th>\n",
              "      <th>famsize</th>\n",
              "      <th>Pstatus</th>\n",
              "      <th>Medu</th>\n",
              "      <th>Fedu</th>\n",
              "      <th>Mjob</th>\n",
              "      <th>Fjob</th>\n",
              "      <th>reason</th>\n",
              "      <th>guardian</th>\n",
              "      <th>traveltime</th>\n",
              "      <th>studytime</th>\n",
              "      <th>failures</th>\n",
              "      <th>schoolsup</th>\n",
              "      <th>famsup</th>\n",
              "      <th>paid</th>\n",
              "      <th>activities</th>\n",
              "      <th>nursery</th>\n",
              "      <th>higher</th>\n",
              "      <th>internet</th>\n",
              "      <th>romantic</th>\n",
              "      <th>famrel</th>\n",
              "      <th>freetime</th>\n",
              "      <th>goout</th>\n",
              "      <th>Dalc</th>\n",
              "      <th>Walc</th>\n",
              "      <th>health</th>\n",
              "      <th>absences</th>\n",
              "      <th>cheating</th>\n",
              "      <th>G1</th>\n",
              "      <th>G2</th>\n",
              "      <th>G3</th>\n",
              "    </tr>\n",
              "  </thead>\n",
              "  <tbody>\n",
              "    <tr>\n",
              "      <th>71</th>\n",
              "      <td>156109</td>\n",
              "      <td>Por</td>\n",
              "      <td>MS</td>\n",
              "      <td>M</td>\n",
              "      <td>18</td>\n",
              "      <td>R</td>\n",
              "      <td>GT3</td>\n",
              "      <td>T</td>\n",
              "      <td>4</td>\n",
              "      <td>2</td>\n",
              "      <td>other</td>\n",
              "      <td>other</td>\n",
              "      <td>home</td>\n",
              "      <td>father</td>\n",
              "      <td>2</td>\n",
              "      <td>1</td>\n",
              "      <td>1</td>\n",
              "      <td>no</td>\n",
              "      <td>no</td>\n",
              "      <td>yes</td>\n",
              "      <td>no</td>\n",
              "      <td>yes</td>\n",
              "      <td>yes</td>\n",
              "      <td>no</td>\n",
              "      <td>no</td>\n",
              "      <td>5.0</td>\n",
              "      <td>4</td>\n",
              "      <td>3</td>\n",
              "      <td>4.0</td>\n",
              "      <td>3.0</td>\n",
              "      <td>3</td>\n",
              "      <td>0</td>\n",
              "      <td>NaN</td>\n",
              "      <td>7</td>\n",
              "      <td>7</td>\n",
              "      <td>0</td>\n",
              "    </tr>\n",
              "    <tr>\n",
              "      <th>83</th>\n",
              "      <td>163217</td>\n",
              "      <td>Por</td>\n",
              "      <td>MS</td>\n",
              "      <td>F</td>\n",
              "      <td>19</td>\n",
              "      <td>R</td>\n",
              "      <td>GT3</td>\n",
              "      <td>A</td>\n",
              "      <td>1</td>\n",
              "      <td>1</td>\n",
              "      <td>at_home</td>\n",
              "      <td>at_home</td>\n",
              "      <td>course</td>\n",
              "      <td>other</td>\n",
              "      <td>2</td>\n",
              "      <td>2</td>\n",
              "      <td>3</td>\n",
              "      <td>no</td>\n",
              "      <td>yes</td>\n",
              "      <td>no</td>\n",
              "      <td>yes</td>\n",
              "      <td>yes</td>\n",
              "      <td>no</td>\n",
              "      <td>no</td>\n",
              "      <td>yes</td>\n",
              "      <td>3.0</td>\n",
              "      <td>5</td>\n",
              "      <td>4</td>\n",
              "      <td>1.0</td>\n",
              "      <td>4.0</td>\n",
              "      <td>1</td>\n",
              "      <td>0</td>\n",
              "      <td>yes</td>\n",
              "      <td>8</td>\n",
              "      <td>0</td>\n",
              "      <td>0</td>\n",
              "    </tr>\n",
              "    <tr>\n",
              "      <th>152</th>\n",
              "      <td>218048</td>\n",
              "      <td>Math</td>\n",
              "      <td>GP</td>\n",
              "      <td>M</td>\n",
              "      <td>18</td>\n",
              "      <td>R</td>\n",
              "      <td>GT3</td>\n",
              "      <td>T</td>\n",
              "      <td>2</td>\n",
              "      <td>2</td>\n",
              "      <td>services</td>\n",
              "      <td>other</td>\n",
              "      <td>reputation</td>\n",
              "      <td>mother</td>\n",
              "      <td>1</td>\n",
              "      <td>1</td>\n",
              "      <td>2</td>\n",
              "      <td>no</td>\n",
              "      <td>yes</td>\n",
              "      <td>no</td>\n",
              "      <td>yes</td>\n",
              "      <td>yes</td>\n",
              "      <td>yes</td>\n",
              "      <td>yes</td>\n",
              "      <td>no</td>\n",
              "      <td>3.0</td>\n",
              "      <td>3</td>\n",
              "      <td>3</td>\n",
              "      <td>1.0</td>\n",
              "      <td>2.0</td>\n",
              "      <td>4</td>\n",
              "      <td>0</td>\n",
              "      <td>NaN</td>\n",
              "      <td>7</td>\n",
              "      <td>4</td>\n",
              "      <td>0</td>\n",
              "    </tr>\n",
              "    <tr>\n",
              "      <th>178</th>\n",
              "      <td>243472</td>\n",
              "      <td>Math</td>\n",
              "      <td>GP</td>\n",
              "      <td>F</td>\n",
              "      <td>18</td>\n",
              "      <td>R</td>\n",
              "      <td>GT3</td>\n",
              "      <td>T</td>\n",
              "      <td>2</td>\n",
              "      <td>2</td>\n",
              "      <td>at_home</td>\n",
              "      <td>other</td>\n",
              "      <td>course</td>\n",
              "      <td>mother</td>\n",
              "      <td>2</td>\n",
              "      <td>4</td>\n",
              "      <td>0</td>\n",
              "      <td>no</td>\n",
              "      <td>no</td>\n",
              "      <td>no</td>\n",
              "      <td>yes</td>\n",
              "      <td>yes</td>\n",
              "      <td>yes</td>\n",
              "      <td>no</td>\n",
              "      <td>no</td>\n",
              "      <td>4.0</td>\n",
              "      <td>4</td>\n",
              "      <td>4</td>\n",
              "      <td>1.0</td>\n",
              "      <td>1.0</td>\n",
              "      <td>4</td>\n",
              "      <td>0</td>\n",
              "      <td>NaN</td>\n",
              "      <td>10</td>\n",
              "      <td>9</td>\n",
              "      <td>0</td>\n",
              "    </tr>\n",
              "    <tr>\n",
              "      <th>184</th>\n",
              "      <td>247347</td>\n",
              "      <td>Math</td>\n",
              "      <td>GP</td>\n",
              "      <td>M</td>\n",
              "      <td>16</td>\n",
              "      <td>U</td>\n",
              "      <td>GT3</td>\n",
              "      <td>T</td>\n",
              "      <td>3</td>\n",
              "      <td>4</td>\n",
              "      <td>other</td>\n",
              "      <td>other</td>\n",
              "      <td>course</td>\n",
              "      <td>father</td>\n",
              "      <td>3</td>\n",
              "      <td>1</td>\n",
              "      <td>2</td>\n",
              "      <td>no</td>\n",
              "      <td>yes</td>\n",
              "      <td>no</td>\n",
              "      <td>yes</td>\n",
              "      <td>no</td>\n",
              "      <td>yes</td>\n",
              "      <td>yes</td>\n",
              "      <td>no</td>\n",
              "      <td>3.0</td>\n",
              "      <td>4</td>\n",
              "      <td>5</td>\n",
              "      <td>2.0</td>\n",
              "      <td>4.0</td>\n",
              "      <td>2</td>\n",
              "      <td>0</td>\n",
              "      <td>yes</td>\n",
              "      <td>6</td>\n",
              "      <td>5</td>\n",
              "      <td>0</td>\n",
              "    </tr>\n",
              "    <tr>\n",
              "      <th>229</th>\n",
              "      <td>285793</td>\n",
              "      <td>Math</td>\n",
              "      <td>GP</td>\n",
              "      <td>F</td>\n",
              "      <td>15</td>\n",
              "      <td>R</td>\n",
              "      <td>GT3</td>\n",
              "      <td>T</td>\n",
              "      <td>3</td>\n",
              "      <td>4</td>\n",
              "      <td>services</td>\n",
              "      <td>teacher</td>\n",
              "      <td>course</td>\n",
              "      <td>father</td>\n",
              "      <td>2</td>\n",
              "      <td>3</td>\n",
              "      <td>2</td>\n",
              "      <td>no</td>\n",
              "      <td>yes</td>\n",
              "      <td>no</td>\n",
              "      <td>no</td>\n",
              "      <td>yes</td>\n",
              "      <td>yes</td>\n",
              "      <td>yes</td>\n",
              "      <td>yes</td>\n",
              "      <td>4.0</td>\n",
              "      <td>2</td>\n",
              "      <td>2</td>\n",
              "      <td>2.0</td>\n",
              "      <td>2.0</td>\n",
              "      <td>5</td>\n",
              "      <td>0</td>\n",
              "      <td>no</td>\n",
              "      <td>12</td>\n",
              "      <td>0</td>\n",
              "      <td>0</td>\n",
              "    </tr>\n",
              "    <tr>\n",
              "      <th>241</th>\n",
              "      <td>298547</td>\n",
              "      <td>Math</td>\n",
              "      <td>GP</td>\n",
              "      <td>M</td>\n",
              "      <td>18</td>\n",
              "      <td>U</td>\n",
              "      <td>GT3</td>\n",
              "      <td>T</td>\n",
              "      <td>4</td>\n",
              "      <td>4</td>\n",
              "      <td>teacher</td>\n",
              "      <td>services</td>\n",
              "      <td>home</td>\n",
              "      <td>father</td>\n",
              "      <td>1</td>\n",
              "      <td>2</td>\n",
              "      <td>1</td>\n",
              "      <td>no</td>\n",
              "      <td>yes</td>\n",
              "      <td>no</td>\n",
              "      <td>yes</td>\n",
              "      <td>yes</td>\n",
              "      <td>yes</td>\n",
              "      <td>yes</td>\n",
              "      <td>no</td>\n",
              "      <td>4.0</td>\n",
              "      <td>3</td>\n",
              "      <td>3</td>\n",
              "      <td>2.0</td>\n",
              "      <td>2.0</td>\n",
              "      <td>2</td>\n",
              "      <td>0</td>\n",
              "      <td>NaN</td>\n",
              "      <td>10</td>\n",
              "      <td>10</td>\n",
              "      <td>0</td>\n",
              "    </tr>\n",
              "    <tr>\n",
              "      <th>265</th>\n",
              "      <td>325702</td>\n",
              "      <td>Por</td>\n",
              "      <td>MS</td>\n",
              "      <td>M</td>\n",
              "      <td>16</td>\n",
              "      <td>R</td>\n",
              "      <td>GT3</td>\n",
              "      <td>T</td>\n",
              "      <td>2</td>\n",
              "      <td>1</td>\n",
              "      <td>other</td>\n",
              "      <td>services</td>\n",
              "      <td>reputation</td>\n",
              "      <td>mother</td>\n",
              "      <td>2</td>\n",
              "      <td>2</td>\n",
              "      <td>0</td>\n",
              "      <td>no</td>\n",
              "      <td>no</td>\n",
              "      <td>no</td>\n",
              "      <td>yes</td>\n",
              "      <td>yes</td>\n",
              "      <td>yes</td>\n",
              "      <td>yes</td>\n",
              "      <td>no</td>\n",
              "      <td>5.0</td>\n",
              "      <td>2</td>\n",
              "      <td>1</td>\n",
              "      <td>1.0</td>\n",
              "      <td>1.0</td>\n",
              "      <td>2</td>\n",
              "      <td>0</td>\n",
              "      <td>NaN</td>\n",
              "      <td>8</td>\n",
              "      <td>7</td>\n",
              "      <td>0</td>\n",
              "    </tr>\n",
              "    <tr>\n",
              "      <th>278</th>\n",
              "      <td>337797</td>\n",
              "      <td>Por</td>\n",
              "      <td>MS</td>\n",
              "      <td>F</td>\n",
              "      <td>18</td>\n",
              "      <td>R</td>\n",
              "      <td>GT3</td>\n",
              "      <td>T</td>\n",
              "      <td>4</td>\n",
              "      <td>4</td>\n",
              "      <td>other</td>\n",
              "      <td>teacher</td>\n",
              "      <td>other</td>\n",
              "      <td>father</td>\n",
              "      <td>3</td>\n",
              "      <td>2</td>\n",
              "      <td>0</td>\n",
              "      <td>no</td>\n",
              "      <td>yes</td>\n",
              "      <td>no</td>\n",
              "      <td>no</td>\n",
              "      <td>no</td>\n",
              "      <td>yes</td>\n",
              "      <td>yes</td>\n",
              "      <td>yes</td>\n",
              "      <td>3.0</td>\n",
              "      <td>2</td>\n",
              "      <td>2</td>\n",
              "      <td>4.0</td>\n",
              "      <td>2.0</td>\n",
              "      <td>5</td>\n",
              "      <td>0</td>\n",
              "      <td>yes</td>\n",
              "      <td>7</td>\n",
              "      <td>5</td>\n",
              "      <td>0</td>\n",
              "    </tr>\n",
              "    <tr>\n",
              "      <th>292</th>\n",
              "      <td>348379</td>\n",
              "      <td>Math</td>\n",
              "      <td>GP</td>\n",
              "      <td>M</td>\n",
              "      <td>16</td>\n",
              "      <td>U</td>\n",
              "      <td>LE3</td>\n",
              "      <td>T</td>\n",
              "      <td>1</td>\n",
              "      <td>2</td>\n",
              "      <td>other</td>\n",
              "      <td>other</td>\n",
              "      <td>course</td>\n",
              "      <td>mother</td>\n",
              "      <td>2</td>\n",
              "      <td>1</td>\n",
              "      <td>1</td>\n",
              "      <td>no</td>\n",
              "      <td>no</td>\n",
              "      <td>no</td>\n",
              "      <td>yes</td>\n",
              "      <td>yes</td>\n",
              "      <td>yes</td>\n",
              "      <td>no</td>\n",
              "      <td>no</td>\n",
              "      <td>4.0</td>\n",
              "      <td>4</td>\n",
              "      <td>4</td>\n",
              "      <td>2.0</td>\n",
              "      <td>4.0</td>\n",
              "      <td>5</td>\n",
              "      <td>0</td>\n",
              "      <td>NaN</td>\n",
              "      <td>7</td>\n",
              "      <td>0</td>\n",
              "      <td>0</td>\n",
              "    </tr>\n",
              "    <tr>\n",
              "      <th>326</th>\n",
              "      <td>373767</td>\n",
              "      <td>Por</td>\n",
              "      <td>MS</td>\n",
              "      <td>F</td>\n",
              "      <td>17</td>\n",
              "      <td>U</td>\n",
              "      <td>GT3</td>\n",
              "      <td>T</td>\n",
              "      <td>4</td>\n",
              "      <td>2</td>\n",
              "      <td>teacher</td>\n",
              "      <td>services</td>\n",
              "      <td>home</td>\n",
              "      <td>mother</td>\n",
              "      <td>1</td>\n",
              "      <td>2</td>\n",
              "      <td>0</td>\n",
              "      <td>yes</td>\n",
              "      <td>yes</td>\n",
              "      <td>no</td>\n",
              "      <td>yes</td>\n",
              "      <td>yes</td>\n",
              "      <td>yes</td>\n",
              "      <td>yes</td>\n",
              "      <td>NaN</td>\n",
              "      <td>5.0</td>\n",
              "      <td>5</td>\n",
              "      <td>5</td>\n",
              "      <td>1.0</td>\n",
              "      <td>3.0</td>\n",
              "      <td>5</td>\n",
              "      <td>0</td>\n",
              "      <td>no</td>\n",
              "      <td>8</td>\n",
              "      <td>8</td>\n",
              "      <td>0</td>\n",
              "    </tr>\n",
              "    <tr>\n",
              "      <th>332</th>\n",
              "      <td>384016</td>\n",
              "      <td>Math</td>\n",
              "      <td>GP</td>\n",
              "      <td>F</td>\n",
              "      <td>16</td>\n",
              "      <td>U</td>\n",
              "      <td>GT3</td>\n",
              "      <td>T</td>\n",
              "      <td>2</td>\n",
              "      <td>2</td>\n",
              "      <td>other</td>\n",
              "      <td>other</td>\n",
              "      <td>home</td>\n",
              "      <td>mother</td>\n",
              "      <td>1</td>\n",
              "      <td>2</td>\n",
              "      <td>0</td>\n",
              "      <td>no</td>\n",
              "      <td>yes</td>\n",
              "      <td>yes</td>\n",
              "      <td>no</td>\n",
              "      <td>no</td>\n",
              "      <td>yes</td>\n",
              "      <td>yes</td>\n",
              "      <td>no</td>\n",
              "      <td>5.0</td>\n",
              "      <td>1</td>\n",
              "      <td>5</td>\n",
              "      <td>1.0</td>\n",
              "      <td>1.0</td>\n",
              "      <td>4</td>\n",
              "      <td>0</td>\n",
              "      <td>NaN</td>\n",
              "      <td>6</td>\n",
              "      <td>7</td>\n",
              "      <td>0</td>\n",
              "    </tr>\n",
              "    <tr>\n",
              "      <th>336</th>\n",
              "      <td>389098</td>\n",
              "      <td>Math</td>\n",
              "      <td>GP</td>\n",
              "      <td>F</td>\n",
              "      <td>15</td>\n",
              "      <td>U</td>\n",
              "      <td>GT3</td>\n",
              "      <td>T</td>\n",
              "      <td>4</td>\n",
              "      <td>4</td>\n",
              "      <td>services</td>\n",
              "      <td>at_home</td>\n",
              "      <td>course</td>\n",
              "      <td>mother</td>\n",
              "      <td>1</td>\n",
              "      <td>3</td>\n",
              "      <td>0</td>\n",
              "      <td>no</td>\n",
              "      <td>yes</td>\n",
              "      <td>no</td>\n",
              "      <td>yes</td>\n",
              "      <td>yes</td>\n",
              "      <td>yes</td>\n",
              "      <td>yes</td>\n",
              "      <td>yes</td>\n",
              "      <td>4.0</td>\n",
              "      <td>3</td>\n",
              "      <td>3</td>\n",
              "      <td>1.0</td>\n",
              "      <td>1.0</td>\n",
              "      <td>5</td>\n",
              "      <td>0</td>\n",
              "      <td>NaN</td>\n",
              "      <td>11</td>\n",
              "      <td>0</td>\n",
              "      <td>0</td>\n",
              "    </tr>\n",
              "    <tr>\n",
              "      <th>350</th>\n",
              "      <td>395320</td>\n",
              "      <td>Math</td>\n",
              "      <td>GP</td>\n",
              "      <td>M</td>\n",
              "      <td>15</td>\n",
              "      <td>R</td>\n",
              "      <td>GT3</td>\n",
              "      <td>T</td>\n",
              "      <td>3</td>\n",
              "      <td>4</td>\n",
              "      <td>at_home</td>\n",
              "      <td>teacher</td>\n",
              "      <td>course</td>\n",
              "      <td>mother</td>\n",
              "      <td>4</td>\n",
              "      <td>2</td>\n",
              "      <td>0</td>\n",
              "      <td>no</td>\n",
              "      <td>yes</td>\n",
              "      <td>no</td>\n",
              "      <td>no</td>\n",
              "      <td>yes</td>\n",
              "      <td>yes</td>\n",
              "      <td>no</td>\n",
              "      <td>yes</td>\n",
              "      <td>5.0</td>\n",
              "      <td>3</td>\n",
              "      <td>3</td>\n",
              "      <td>1.0</td>\n",
              "      <td>1.0</td>\n",
              "      <td>5</td>\n",
              "      <td>0</td>\n",
              "      <td>NaN</td>\n",
              "      <td>9</td>\n",
              "      <td>0</td>\n",
              "      <td>0</td>\n",
              "    </tr>\n",
              "    <tr>\n",
              "      <th>352</th>\n",
              "      <td>396378</td>\n",
              "      <td>Por</td>\n",
              "      <td>MS</td>\n",
              "      <td>M</td>\n",
              "      <td>19</td>\n",
              "      <td>R</td>\n",
              "      <td>GT3</td>\n",
              "      <td>T</td>\n",
              "      <td>1</td>\n",
              "      <td>1</td>\n",
              "      <td>other</td>\n",
              "      <td>services</td>\n",
              "      <td>other</td>\n",
              "      <td>mother</td>\n",
              "      <td>2</td>\n",
              "      <td>1</td>\n",
              "      <td>1</td>\n",
              "      <td>no</td>\n",
              "      <td>no</td>\n",
              "      <td>no</td>\n",
              "      <td>no</td>\n",
              "      <td>yes</td>\n",
              "      <td>yes</td>\n",
              "      <td>no</td>\n",
              "      <td>no</td>\n",
              "      <td>4.0</td>\n",
              "      <td>3</td>\n",
              "      <td>2</td>\n",
              "      <td>1.0</td>\n",
              "      <td>3.0</td>\n",
              "      <td>5</td>\n",
              "      <td>0</td>\n",
              "      <td>no</td>\n",
              "      <td>5</td>\n",
              "      <td>8</td>\n",
              "      <td>0</td>\n",
              "    </tr>\n",
              "    <tr>\n",
              "      <th>367</th>\n",
              "      <td>416298</td>\n",
              "      <td>Por</td>\n",
              "      <td>MS</td>\n",
              "      <td>M</td>\n",
              "      <td>18</td>\n",
              "      <td>R</td>\n",
              "      <td>GT3</td>\n",
              "      <td>T</td>\n",
              "      <td>3</td>\n",
              "      <td>2</td>\n",
              "      <td>services</td>\n",
              "      <td>other</td>\n",
              "      <td>course</td>\n",
              "      <td>mother</td>\n",
              "      <td>1</td>\n",
              "      <td>1</td>\n",
              "      <td>1</td>\n",
              "      <td>no</td>\n",
              "      <td>no</td>\n",
              "      <td>no</td>\n",
              "      <td>no</td>\n",
              "      <td>yes</td>\n",
              "      <td>no</td>\n",
              "      <td>yes</td>\n",
              "      <td>NaN</td>\n",
              "      <td>2.0</td>\n",
              "      <td>3</td>\n",
              "      <td>1</td>\n",
              "      <td>2.0</td>\n",
              "      <td>2.0</td>\n",
              "      <td>5</td>\n",
              "      <td>0</td>\n",
              "      <td>NaN</td>\n",
              "      <td>4</td>\n",
              "      <td>0</td>\n",
              "      <td>0</td>\n",
              "    </tr>\n",
              "    <tr>\n",
              "      <th>387</th>\n",
              "      <td>429690</td>\n",
              "      <td>Math</td>\n",
              "      <td>GP</td>\n",
              "      <td>F</td>\n",
              "      <td>17</td>\n",
              "      <td>U</td>\n",
              "      <td>GT3</td>\n",
              "      <td>t</td>\n",
              "      <td>3</td>\n",
              "      <td>2</td>\n",
              "      <td>other</td>\n",
              "      <td>other</td>\n",
              "      <td>home</td>\n",
              "      <td>mother</td>\n",
              "      <td>1</td>\n",
              "      <td>2</td>\n",
              "      <td>0</td>\n",
              "      <td>no</td>\n",
              "      <td>yes</td>\n",
              "      <td>yes</td>\n",
              "      <td>no</td>\n",
              "      <td>yes</td>\n",
              "      <td>yes</td>\n",
              "      <td>yes</td>\n",
              "      <td>yes</td>\n",
              "      <td>4.0</td>\n",
              "      <td>3</td>\n",
              "      <td>2</td>\n",
              "      <td>2.0</td>\n",
              "      <td>3.0</td>\n",
              "      <td>2</td>\n",
              "      <td>0</td>\n",
              "      <td>yes</td>\n",
              "      <td>7</td>\n",
              "      <td>8</td>\n",
              "      <td>0</td>\n",
              "    </tr>\n",
              "    <tr>\n",
              "      <th>391</th>\n",
              "      <td>433047</td>\n",
              "      <td>Math</td>\n",
              "      <td>GP</td>\n",
              "      <td>M</td>\n",
              "      <td>16</td>\n",
              "      <td>U</td>\n",
              "      <td>LE3</td>\n",
              "      <td>T</td>\n",
              "      <td>4</td>\n",
              "      <td>3</td>\n",
              "      <td>teacher</td>\n",
              "      <td>other</td>\n",
              "      <td>course</td>\n",
              "      <td>mother</td>\n",
              "      <td>1</td>\n",
              "      <td>1</td>\n",
              "      <td>0</td>\n",
              "      <td>no</td>\n",
              "      <td>no</td>\n",
              "      <td>no</td>\n",
              "      <td>yes</td>\n",
              "      <td>no</td>\n",
              "      <td>yes</td>\n",
              "      <td>yes</td>\n",
              "      <td>no</td>\n",
              "      <td>5.0</td>\n",
              "      <td>4</td>\n",
              "      <td>5</td>\n",
              "      <td>1.0</td>\n",
              "      <td>1.0</td>\n",
              "      <td>3</td>\n",
              "      <td>0</td>\n",
              "      <td>NaN</td>\n",
              "      <td>6</td>\n",
              "      <td>0</td>\n",
              "      <td>0</td>\n",
              "    </tr>\n",
              "    <tr>\n",
              "      <th>410</th>\n",
              "      <td>450164</td>\n",
              "      <td>Por</td>\n",
              "      <td>MS</td>\n",
              "      <td>F</td>\n",
              "      <td>18</td>\n",
              "      <td>R</td>\n",
              "      <td>LE3</td>\n",
              "      <td>A</td>\n",
              "      <td>4</td>\n",
              "      <td>2</td>\n",
              "      <td>teacher</td>\n",
              "      <td>other</td>\n",
              "      <td>reputation</td>\n",
              "      <td>mother</td>\n",
              "      <td>1</td>\n",
              "      <td>2</td>\n",
              "      <td>0</td>\n",
              "      <td>no</td>\n",
              "      <td>no</td>\n",
              "      <td>no</td>\n",
              "      <td>yes</td>\n",
              "      <td>yes</td>\n",
              "      <td>yes</td>\n",
              "      <td>yes</td>\n",
              "      <td>yes</td>\n",
              "      <td>5.0</td>\n",
              "      <td>3</td>\n",
              "      <td>1</td>\n",
              "      <td>1.0</td>\n",
              "      <td>1.0</td>\n",
              "      <td>5</td>\n",
              "      <td>0</td>\n",
              "      <td>NaN</td>\n",
              "      <td>5</td>\n",
              "      <td>0</td>\n",
              "      <td>0</td>\n",
              "    </tr>\n",
              "    <tr>\n",
              "      <th>419</th>\n",
              "      <td>455088</td>\n",
              "      <td>Por</td>\n",
              "      <td>MS</td>\n",
              "      <td>M</td>\n",
              "      <td>18</td>\n",
              "      <td>R</td>\n",
              "      <td>GT3</td>\n",
              "      <td>T</td>\n",
              "      <td>2</td>\n",
              "      <td>1</td>\n",
              "      <td>other</td>\n",
              "      <td>other</td>\n",
              "      <td>other</td>\n",
              "      <td>mother</td>\n",
              "      <td>2</td>\n",
              "      <td>1</td>\n",
              "      <td>0</td>\n",
              "      <td>no</td>\n",
              "      <td>no</td>\n",
              "      <td>no</td>\n",
              "      <td>yes</td>\n",
              "      <td>no</td>\n",
              "      <td>yes</td>\n",
              "      <td>yes</td>\n",
              "      <td>yes</td>\n",
              "      <td>4.0</td>\n",
              "      <td>4</td>\n",
              "      <td>3</td>\n",
              "      <td>1.0</td>\n",
              "      <td>3.0</td>\n",
              "      <td>5</td>\n",
              "      <td>0</td>\n",
              "      <td>NaN</td>\n",
              "      <td>7</td>\n",
              "      <td>7</td>\n",
              "      <td>0</td>\n",
              "    </tr>\n",
              "    <tr>\n",
              "      <th>420</th>\n",
              "      <td>455906</td>\n",
              "      <td>Math</td>\n",
              "      <td>GP</td>\n",
              "      <td>M</td>\n",
              "      <td>17</td>\n",
              "      <td>R</td>\n",
              "      <td>LE3</td>\n",
              "      <td>T</td>\n",
              "      <td>2</td>\n",
              "      <td>1</td>\n",
              "      <td>at_home</td>\n",
              "      <td>other</td>\n",
              "      <td>course</td>\n",
              "      <td>mother</td>\n",
              "      <td>2</td>\n",
              "      <td>1</td>\n",
              "      <td>2</td>\n",
              "      <td>no</td>\n",
              "      <td>no</td>\n",
              "      <td>no</td>\n",
              "      <td>yes</td>\n",
              "      <td>yes</td>\n",
              "      <td>no</td>\n",
              "      <td>yes</td>\n",
              "      <td>yes</td>\n",
              "      <td>3.0</td>\n",
              "      <td>3</td>\n",
              "      <td>2</td>\n",
              "      <td>2.0</td>\n",
              "      <td>2.0</td>\n",
              "      <td>5</td>\n",
              "      <td>0</td>\n",
              "      <td>NaN</td>\n",
              "      <td>7</td>\n",
              "      <td>6</td>\n",
              "      <td>0</td>\n",
              "    </tr>\n",
              "    <tr>\n",
              "      <th>438</th>\n",
              "      <td>473711</td>\n",
              "      <td>Math</td>\n",
              "      <td>GP</td>\n",
              "      <td>F</td>\n",
              "      <td>18</td>\n",
              "      <td>R</td>\n",
              "      <td>GT3</td>\n",
              "      <td>T</td>\n",
              "      <td>2</td>\n",
              "      <td>1</td>\n",
              "      <td>other</td>\n",
              "      <td>other</td>\n",
              "      <td>reputation</td>\n",
              "      <td>mother</td>\n",
              "      <td>2</td>\n",
              "      <td>2</td>\n",
              "      <td>0</td>\n",
              "      <td>no</td>\n",
              "      <td>yes</td>\n",
              "      <td>no</td>\n",
              "      <td>no</td>\n",
              "      <td>yes</td>\n",
              "      <td>no</td>\n",
              "      <td>yes</td>\n",
              "      <td>yes</td>\n",
              "      <td>4.0</td>\n",
              "      <td>3</td>\n",
              "      <td>5</td>\n",
              "      <td>1.0</td>\n",
              "      <td>2.0</td>\n",
              "      <td>3</td>\n",
              "      <td>0</td>\n",
              "      <td>NaN</td>\n",
              "      <td>6</td>\n",
              "      <td>0</td>\n",
              "      <td>0</td>\n",
              "    </tr>\n",
              "    <tr>\n",
              "      <th>474</th>\n",
              "      <td>501710</td>\n",
              "      <td>Por</td>\n",
              "      <td>MS</td>\n",
              "      <td>M</td>\n",
              "      <td>16</td>\n",
              "      <td>U</td>\n",
              "      <td>GT3</td>\n",
              "      <td>T</td>\n",
              "      <td>1</td>\n",
              "      <td>1</td>\n",
              "      <td>at_home</td>\n",
              "      <td>services</td>\n",
              "      <td>home</td>\n",
              "      <td>mother</td>\n",
              "      <td>2</td>\n",
              "      <td>2</td>\n",
              "      <td>0</td>\n",
              "      <td>no</td>\n",
              "      <td>yes</td>\n",
              "      <td>no</td>\n",
              "      <td>yes</td>\n",
              "      <td>yes</td>\n",
              "      <td>yes</td>\n",
              "      <td>no</td>\n",
              "      <td>yes</td>\n",
              "      <td>5.0</td>\n",
              "      <td>4</td>\n",
              "      <td>5</td>\n",
              "      <td>4.0</td>\n",
              "      <td>5.0</td>\n",
              "      <td>3</td>\n",
              "      <td>0</td>\n",
              "      <td>NaN</td>\n",
              "      <td>7</td>\n",
              "      <td>0</td>\n",
              "      <td>0</td>\n",
              "    </tr>\n",
              "    <tr>\n",
              "      <th>477</th>\n",
              "      <td>504065</td>\n",
              "      <td>Math</td>\n",
              "      <td>MS</td>\n",
              "      <td>F</td>\n",
              "      <td>19</td>\n",
              "      <td>R</td>\n",
              "      <td>GT3</td>\n",
              "      <td>T</td>\n",
              "      <td>2</td>\n",
              "      <td>3</td>\n",
              "      <td>services</td>\n",
              "      <td>other</td>\n",
              "      <td>course</td>\n",
              "      <td>mother</td>\n",
              "      <td>1</td>\n",
              "      <td>3</td>\n",
              "      <td>1</td>\n",
              "      <td>no</td>\n",
              "      <td>no</td>\n",
              "      <td>no</td>\n",
              "      <td>yes</td>\n",
              "      <td>no</td>\n",
              "      <td>yes</td>\n",
              "      <td>yes</td>\n",
              "      <td>no</td>\n",
              "      <td>5.0</td>\n",
              "      <td>4</td>\n",
              "      <td>2</td>\n",
              "      <td>1.0</td>\n",
              "      <td>2.0</td>\n",
              "      <td>5</td>\n",
              "      <td>0</td>\n",
              "      <td>NaN</td>\n",
              "      <td>7</td>\n",
              "      <td>5</td>\n",
              "      <td>0</td>\n",
              "    </tr>\n",
              "    <tr>\n",
              "      <th>482</th>\n",
              "      <td>509393</td>\n",
              "      <td>Math</td>\n",
              "      <td>GP</td>\n",
              "      <td>F</td>\n",
              "      <td>18</td>\n",
              "      <td>U</td>\n",
              "      <td>GT3</td>\n",
              "      <td>T</td>\n",
              "      <td>2</td>\n",
              "      <td>1</td>\n",
              "      <td>services</td>\n",
              "      <td>other</td>\n",
              "      <td>course</td>\n",
              "      <td>mother</td>\n",
              "      <td>2</td>\n",
              "      <td>2</td>\n",
              "      <td>0</td>\n",
              "      <td>no</td>\n",
              "      <td>yes</td>\n",
              "      <td>yes</td>\n",
              "      <td>yes</td>\n",
              "      <td>yes</td>\n",
              "      <td>yes</td>\n",
              "      <td>yes</td>\n",
              "      <td>no</td>\n",
              "      <td>5.0</td>\n",
              "      <td>3</td>\n",
              "      <td>3</td>\n",
              "      <td>1.0</td>\n",
              "      <td>2.0</td>\n",
              "      <td>1</td>\n",
              "      <td>0</td>\n",
              "      <td>yes</td>\n",
              "      <td>8</td>\n",
              "      <td>8</td>\n",
              "      <td>0</td>\n",
              "    </tr>\n",
              "    <tr>\n",
              "      <th>495</th>\n",
              "      <td>519638</td>\n",
              "      <td>Math</td>\n",
              "      <td>GP</td>\n",
              "      <td>M</td>\n",
              "      <td>18</td>\n",
              "      <td>U</td>\n",
              "      <td>GT3</td>\n",
              "      <td>T</td>\n",
              "      <td>2</td>\n",
              "      <td>2</td>\n",
              "      <td>other</td>\n",
              "      <td>services</td>\n",
              "      <td>reputation</td>\n",
              "      <td>father</td>\n",
              "      <td>1</td>\n",
              "      <td>2</td>\n",
              "      <td>1</td>\n",
              "      <td>no</td>\n",
              "      <td>no</td>\n",
              "      <td>no</td>\n",
              "      <td>no</td>\n",
              "      <td>yes</td>\n",
              "      <td>no</td>\n",
              "      <td>yes</td>\n",
              "      <td>no</td>\n",
              "      <td>5.0</td>\n",
              "      <td>5</td>\n",
              "      <td>4</td>\n",
              "      <td>3.0</td>\n",
              "      <td>5.0</td>\n",
              "      <td>2</td>\n",
              "      <td>0</td>\n",
              "      <td>NaN</td>\n",
              "      <td>7</td>\n",
              "      <td>7</td>\n",
              "      <td>0</td>\n",
              "    </tr>\n",
              "    <tr>\n",
              "      <th>497</th>\n",
              "      <td>520300</td>\n",
              "      <td>Math</td>\n",
              "      <td>GP</td>\n",
              "      <td>F</td>\n",
              "      <td>18</td>\n",
              "      <td>U</td>\n",
              "      <td>GT3</td>\n",
              "      <td>T</td>\n",
              "      <td>3</td>\n",
              "      <td>3</td>\n",
              "      <td>services</td>\n",
              "      <td>services</td>\n",
              "      <td>home</td>\n",
              "      <td>mother</td>\n",
              "      <td>1</td>\n",
              "      <td>2</td>\n",
              "      <td>0</td>\n",
              "      <td>no</td>\n",
              "      <td>no</td>\n",
              "      <td>no</td>\n",
              "      <td>yes</td>\n",
              "      <td>yes</td>\n",
              "      <td>yes</td>\n",
              "      <td>yes</td>\n",
              "      <td>no</td>\n",
              "      <td>5.0</td>\n",
              "      <td>3</td>\n",
              "      <td>4</td>\n",
              "      <td>1.0</td>\n",
              "      <td>1.0</td>\n",
              "      <td>4</td>\n",
              "      <td>0</td>\n",
              "      <td>NaN</td>\n",
              "      <td>7</td>\n",
              "      <td>0</td>\n",
              "      <td>0</td>\n",
              "    </tr>\n",
              "    <tr>\n",
              "      <th>509</th>\n",
              "      <td>531503</td>\n",
              "      <td>Math</td>\n",
              "      <td>GP</td>\n",
              "      <td>M</td>\n",
              "      <td>18</td>\n",
              "      <td>U</td>\n",
              "      <td>LE3</td>\n",
              "      <td>T</td>\n",
              "      <td>1</td>\n",
              "      <td>1</td>\n",
              "      <td>other</td>\n",
              "      <td>other</td>\n",
              "      <td>course</td>\n",
              "      <td>mother</td>\n",
              "      <td>1</td>\n",
              "      <td>1</td>\n",
              "      <td>3</td>\n",
              "      <td>no</td>\n",
              "      <td>no</td>\n",
              "      <td>no</td>\n",
              "      <td>no</td>\n",
              "      <td>yes</td>\n",
              "      <td>no</td>\n",
              "      <td>yes</td>\n",
              "      <td>yes</td>\n",
              "      <td>2.0</td>\n",
              "      <td>3</td>\n",
              "      <td>5</td>\n",
              "      <td>2.0</td>\n",
              "      <td>5.0</td>\n",
              "      <td>4</td>\n",
              "      <td>0</td>\n",
              "      <td>NaN</td>\n",
              "      <td>6</td>\n",
              "      <td>5</td>\n",
              "      <td>0</td>\n",
              "    </tr>\n",
              "    <tr>\n",
              "      <th>519</th>\n",
              "      <td>552788</td>\n",
              "      <td>Math</td>\n",
              "      <td>GP</td>\n",
              "      <td>F</td>\n",
              "      <td>17</td>\n",
              "      <td>U</td>\n",
              "      <td>LE3</td>\n",
              "      <td>T</td>\n",
              "      <td>2</td>\n",
              "      <td>2</td>\n",
              "      <td>services</td>\n",
              "      <td>services</td>\n",
              "      <td>course</td>\n",
              "      <td>father</td>\n",
              "      <td>1</td>\n",
              "      <td>4</td>\n",
              "      <td>0</td>\n",
              "      <td>no</td>\n",
              "      <td>no</td>\n",
              "      <td>yes</td>\n",
              "      <td>yes</td>\n",
              "      <td>yes</td>\n",
              "      <td>yes</td>\n",
              "      <td>yes</td>\n",
              "      <td>yes</td>\n",
              "      <td>3.0</td>\n",
              "      <td>4</td>\n",
              "      <td>1</td>\n",
              "      <td>1.0</td>\n",
              "      <td>1.0</td>\n",
              "      <td>2</td>\n",
              "      <td>0</td>\n",
              "      <td>NaN</td>\n",
              "      <td>10</td>\n",
              "      <td>9</td>\n",
              "      <td>0</td>\n",
              "    </tr>\n",
              "    <tr>\n",
              "      <th>581</th>\n",
              "      <td>602318</td>\n",
              "      <td>Math</td>\n",
              "      <td>GP</td>\n",
              "      <td>F</td>\n",
              "      <td>19</td>\n",
              "      <td>U</td>\n",
              "      <td>GT3</td>\n",
              "      <td>T</td>\n",
              "      <td>4</td>\n",
              "      <td>4</td>\n",
              "      <td>health</td>\n",
              "      <td>other</td>\n",
              "      <td>reputation</td>\n",
              "      <td>other</td>\n",
              "      <td>2</td>\n",
              "      <td>2</td>\n",
              "      <td>0</td>\n",
              "      <td>no</td>\n",
              "      <td>yes</td>\n",
              "      <td>yes</td>\n",
              "      <td>yes</td>\n",
              "      <td>yes</td>\n",
              "      <td>yes</td>\n",
              "      <td>yes</td>\n",
              "      <td>no</td>\n",
              "      <td>2.0</td>\n",
              "      <td>3</td>\n",
              "      <td>4</td>\n",
              "      <td>2.0</td>\n",
              "      <td>3.0</td>\n",
              "      <td>2</td>\n",
              "      <td>0</td>\n",
              "      <td>NaN</td>\n",
              "      <td>10</td>\n",
              "      <td>9</td>\n",
              "      <td>0</td>\n",
              "    </tr>\n",
              "    <tr>\n",
              "      <th>592</th>\n",
              "      <td>614297</td>\n",
              "      <td>Math</td>\n",
              "      <td>GP</td>\n",
              "      <td>F</td>\n",
              "      <td>16</td>\n",
              "      <td>U</td>\n",
              "      <td>GT3</td>\n",
              "      <td>A</td>\n",
              "      <td>3</td>\n",
              "      <td>3</td>\n",
              "      <td>other</td>\n",
              "      <td>other</td>\n",
              "      <td>course</td>\n",
              "      <td>other</td>\n",
              "      <td>2</td>\n",
              "      <td>1</td>\n",
              "      <td>2</td>\n",
              "      <td>no</td>\n",
              "      <td>yes</td>\n",
              "      <td>no</td>\n",
              "      <td>yes</td>\n",
              "      <td>no</td>\n",
              "      <td>yes</td>\n",
              "      <td>yes</td>\n",
              "      <td>yes</td>\n",
              "      <td>4.0</td>\n",
              "      <td>3</td>\n",
              "      <td>2</td>\n",
              "      <td>1.0</td>\n",
              "      <td>1.0</td>\n",
              "      <td>5</td>\n",
              "      <td>0</td>\n",
              "      <td>yes</td>\n",
              "      <td>4</td>\n",
              "      <td>0</td>\n",
              "      <td>0</td>\n",
              "    </tr>\n",
              "    <tr>\n",
              "      <th>603</th>\n",
              "      <td>624907</td>\n",
              "      <td>Math</td>\n",
              "      <td>MS</td>\n",
              "      <td>M</td>\n",
              "      <td>19</td>\n",
              "      <td>R</td>\n",
              "      <td>GT3</td>\n",
              "      <td>T</td>\n",
              "      <td>1</td>\n",
              "      <td>1</td>\n",
              "      <td>other</td>\n",
              "      <td>services</td>\n",
              "      <td>other</td>\n",
              "      <td>mother</td>\n",
              "      <td>2</td>\n",
              "      <td>1</td>\n",
              "      <td>1</td>\n",
              "      <td>no</td>\n",
              "      <td>no</td>\n",
              "      <td>no</td>\n",
              "      <td>no</td>\n",
              "      <td>yes</td>\n",
              "      <td>yes</td>\n",
              "      <td>no</td>\n",
              "      <td>no</td>\n",
              "      <td>4.0</td>\n",
              "      <td>3</td>\n",
              "      <td>2</td>\n",
              "      <td>1.0</td>\n",
              "      <td>3.0</td>\n",
              "      <td>5</td>\n",
              "      <td>0</td>\n",
              "      <td>NaN</td>\n",
              "      <td>6</td>\n",
              "      <td>5</td>\n",
              "      <td>0</td>\n",
              "    </tr>\n",
              "    <tr>\n",
              "      <th>624</th>\n",
              "      <td>635152</td>\n",
              "      <td>Math</td>\n",
              "      <td>GP</td>\n",
              "      <td>F</td>\n",
              "      <td>18</td>\n",
              "      <td>U</td>\n",
              "      <td>GT3</td>\n",
              "      <td>T</td>\n",
              "      <td>2</td>\n",
              "      <td>2</td>\n",
              "      <td>at_home</td>\n",
              "      <td>services</td>\n",
              "      <td>home</td>\n",
              "      <td>mother</td>\n",
              "      <td>1</td>\n",
              "      <td>3</td>\n",
              "      <td>0</td>\n",
              "      <td>no</td>\n",
              "      <td>yes</td>\n",
              "      <td>yes</td>\n",
              "      <td>yes</td>\n",
              "      <td>yes</td>\n",
              "      <td>yes</td>\n",
              "      <td>yes</td>\n",
              "      <td>yes</td>\n",
              "      <td>4.0</td>\n",
              "      <td>3</td>\n",
              "      <td>3</td>\n",
              "      <td>1.0</td>\n",
              "      <td>1.0</td>\n",
              "      <td>3</td>\n",
              "      <td>0</td>\n",
              "      <td>yes</td>\n",
              "      <td>9</td>\n",
              "      <td>10</td>\n",
              "      <td>0</td>\n",
              "    </tr>\n",
              "    <tr>\n",
              "      <th>625</th>\n",
              "      <td>635426</td>\n",
              "      <td>Math</td>\n",
              "      <td>GP</td>\n",
              "      <td>F</td>\n",
              "      <td>15</td>\n",
              "      <td>U</td>\n",
              "      <td>GT3</td>\n",
              "      <td>T</td>\n",
              "      <td>3</td>\n",
              "      <td>2</td>\n",
              "      <td>health</td>\n",
              "      <td>services</td>\n",
              "      <td>home</td>\n",
              "      <td>father</td>\n",
              "      <td>1</td>\n",
              "      <td>2</td>\n",
              "      <td>3</td>\n",
              "      <td>no</td>\n",
              "      <td>yes</td>\n",
              "      <td>no</td>\n",
              "      <td>no</td>\n",
              "      <td>yes</td>\n",
              "      <td>yes</td>\n",
              "      <td>yes</td>\n",
              "      <td>no</td>\n",
              "      <td>3.0</td>\n",
              "      <td>3</td>\n",
              "      <td>2</td>\n",
              "      <td>1.0</td>\n",
              "      <td>1.0</td>\n",
              "      <td>3</td>\n",
              "      <td>0</td>\n",
              "      <td>NaN</td>\n",
              "      <td>6</td>\n",
              "      <td>7</td>\n",
              "      <td>0</td>\n",
              "    </tr>\n",
              "    <tr>\n",
              "      <th>651</th>\n",
              "      <td>654333</td>\n",
              "      <td>Por</td>\n",
              "      <td>MS</td>\n",
              "      <td>F</td>\n",
              "      <td>18</td>\n",
              "      <td>R</td>\n",
              "      <td>GT3</td>\n",
              "      <td>T</td>\n",
              "      <td>2</td>\n",
              "      <td>2</td>\n",
              "      <td>other</td>\n",
              "      <td>other</td>\n",
              "      <td>other</td>\n",
              "      <td>mother</td>\n",
              "      <td>2</td>\n",
              "      <td>1</td>\n",
              "      <td>1</td>\n",
              "      <td>no</td>\n",
              "      <td>no</td>\n",
              "      <td>no</td>\n",
              "      <td>no</td>\n",
              "      <td>yes</td>\n",
              "      <td>no</td>\n",
              "      <td>yes</td>\n",
              "      <td>yes</td>\n",
              "      <td>5.0</td>\n",
              "      <td>5</td>\n",
              "      <td>5</td>\n",
              "      <td>1.0</td>\n",
              "      <td>1.0</td>\n",
              "      <td>3</td>\n",
              "      <td>0</td>\n",
              "      <td>no</td>\n",
              "      <td>8</td>\n",
              "      <td>6</td>\n",
              "      <td>0</td>\n",
              "    </tr>\n",
              "    <tr>\n",
              "      <th>684</th>\n",
              "      <td>684399</td>\n",
              "      <td>Math</td>\n",
              "      <td>GP</td>\n",
              "      <td>M</td>\n",
              "      <td>17</td>\n",
              "      <td>R</td>\n",
              "      <td>GT3</td>\n",
              "      <td>T</td>\n",
              "      <td>3</td>\n",
              "      <td>4</td>\n",
              "      <td>at_home</td>\n",
              "      <td>other</td>\n",
              "      <td>course</td>\n",
              "      <td>mother</td>\n",
              "      <td>3</td>\n",
              "      <td>2</td>\n",
              "      <td>0</td>\n",
              "      <td>no</td>\n",
              "      <td>no</td>\n",
              "      <td>no</td>\n",
              "      <td>no</td>\n",
              "      <td>yes</td>\n",
              "      <td>yes</td>\n",
              "      <td>no</td>\n",
              "      <td>no</td>\n",
              "      <td>5.0</td>\n",
              "      <td>4</td>\n",
              "      <td>5</td>\n",
              "      <td>2.0</td>\n",
              "      <td>4.0</td>\n",
              "      <td>5</td>\n",
              "      <td>0</td>\n",
              "      <td>NaN</td>\n",
              "      <td>10</td>\n",
              "      <td>0</td>\n",
              "      <td>0</td>\n",
              "    </tr>\n",
              "    <tr>\n",
              "      <th>710</th>\n",
              "      <td>714060</td>\n",
              "      <td>Math</td>\n",
              "      <td>GP</td>\n",
              "      <td>F</td>\n",
              "      <td>15</td>\n",
              "      <td>U</td>\n",
              "      <td>GT3</td>\n",
              "      <td>T</td>\n",
              "      <td>1</td>\n",
              "      <td>1</td>\n",
              "      <td>at_home</td>\n",
              "      <td>other</td>\n",
              "      <td>course</td>\n",
              "      <td>mother</td>\n",
              "      <td>3</td>\n",
              "      <td>1</td>\n",
              "      <td>0</td>\n",
              "      <td>no</td>\n",
              "      <td>yes</td>\n",
              "      <td>no</td>\n",
              "      <td>yes</td>\n",
              "      <td>no</td>\n",
              "      <td>yes</td>\n",
              "      <td>yes</td>\n",
              "      <td>yes</td>\n",
              "      <td>4.0</td>\n",
              "      <td>3</td>\n",
              "      <td>3</td>\n",
              "      <td>1.0</td>\n",
              "      <td>2.0</td>\n",
              "      <td>4</td>\n",
              "      <td>0</td>\n",
              "      <td>no</td>\n",
              "      <td>8</td>\n",
              "      <td>0</td>\n",
              "      <td>0</td>\n",
              "    </tr>\n",
              "    <tr>\n",
              "      <th>725</th>\n",
              "      <td>726849</td>\n",
              "      <td>Math</td>\n",
              "      <td>GP</td>\n",
              "      <td>M</td>\n",
              "      <td>15</td>\n",
              "      <td>U</td>\n",
              "      <td>GT3</td>\n",
              "      <td>T</td>\n",
              "      <td>4</td>\n",
              "      <td>3</td>\n",
              "      <td>teacher</td>\n",
              "      <td>services</td>\n",
              "      <td>course</td>\n",
              "      <td>father</td>\n",
              "      <td>2</td>\n",
              "      <td>4</td>\n",
              "      <td>0</td>\n",
              "      <td>yes</td>\n",
              "      <td>yes</td>\n",
              "      <td>no</td>\n",
              "      <td>no</td>\n",
              "      <td>yes</td>\n",
              "      <td>yes</td>\n",
              "      <td>yes</td>\n",
              "      <td>no</td>\n",
              "      <td>2.0</td>\n",
              "      <td>2</td>\n",
              "      <td>2</td>\n",
              "      <td>1.0</td>\n",
              "      <td>1.0</td>\n",
              "      <td>3</td>\n",
              "      <td>0</td>\n",
              "      <td>NaN</td>\n",
              "      <td>7</td>\n",
              "      <td>9</td>\n",
              "      <td>0</td>\n",
              "    </tr>\n",
              "    <tr>\n",
              "      <th>745</th>\n",
              "      <td>740165</td>\n",
              "      <td>Math</td>\n",
              "      <td>GP</td>\n",
              "      <td>M</td>\n",
              "      <td>19</td>\n",
              "      <td>U</td>\n",
              "      <td>GT3</td>\n",
              "      <td>T</td>\n",
              "      <td>3</td>\n",
              "      <td>2</td>\n",
              "      <td>services</td>\n",
              "      <td>at_home</td>\n",
              "      <td>home</td>\n",
              "      <td>mother</td>\n",
              "      <td>1</td>\n",
              "      <td>1</td>\n",
              "      <td>3</td>\n",
              "      <td>no</td>\n",
              "      <td>yes</td>\n",
              "      <td>no</td>\n",
              "      <td>no</td>\n",
              "      <td>yes</td>\n",
              "      <td>no</td>\n",
              "      <td>yes</td>\n",
              "      <td>yes</td>\n",
              "      <td>4.0</td>\n",
              "      <td>5</td>\n",
              "      <td>4</td>\n",
              "      <td>1.0</td>\n",
              "      <td>1.0</td>\n",
              "      <td>4</td>\n",
              "      <td>0</td>\n",
              "      <td>NaN</td>\n",
              "      <td>5</td>\n",
              "      <td>0</td>\n",
              "      <td>0</td>\n",
              "    </tr>\n",
              "    <tr>\n",
              "      <th>786</th>\n",
              "      <td>778154</td>\n",
              "      <td>Por</td>\n",
              "      <td>MS</td>\n",
              "      <td>M</td>\n",
              "      <td>17</td>\n",
              "      <td>U</td>\n",
              "      <td>GT3</td>\n",
              "      <td>T</td>\n",
              "      <td>2</td>\n",
              "      <td>2</td>\n",
              "      <td>other</td>\n",
              "      <td>other</td>\n",
              "      <td>course</td>\n",
              "      <td>mother</td>\n",
              "      <td>1</td>\n",
              "      <td>1</td>\n",
              "      <td>1</td>\n",
              "      <td>no</td>\n",
              "      <td>no</td>\n",
              "      <td>no</td>\n",
              "      <td>yes</td>\n",
              "      <td>yes</td>\n",
              "      <td>yes</td>\n",
              "      <td>no</td>\n",
              "      <td>yes</td>\n",
              "      <td>1.0</td>\n",
              "      <td>2</td>\n",
              "      <td>1</td>\n",
              "      <td>2.0</td>\n",
              "      <td>3.0</td>\n",
              "      <td>5</td>\n",
              "      <td>0</td>\n",
              "      <td>yes</td>\n",
              "      <td>7</td>\n",
              "      <td>0</td>\n",
              "      <td>0</td>\n",
              "    </tr>\n",
              "    <tr>\n",
              "      <th>788</th>\n",
              "      <td>778538</td>\n",
              "      <td>Math</td>\n",
              "      <td>GP</td>\n",
              "      <td>M</td>\n",
              "      <td>17</td>\n",
              "      <td>U</td>\n",
              "      <td>GT3</td>\n",
              "      <td>T</td>\n",
              "      <td>2</td>\n",
              "      <td>1</td>\n",
              "      <td>other</td>\n",
              "      <td>other</td>\n",
              "      <td>home</td>\n",
              "      <td>mother</td>\n",
              "      <td>1</td>\n",
              "      <td>1</td>\n",
              "      <td>3</td>\n",
              "      <td>no</td>\n",
              "      <td>yes</td>\n",
              "      <td>no</td>\n",
              "      <td>no</td>\n",
              "      <td>yes</td>\n",
              "      <td>yes</td>\n",
              "      <td>yes</td>\n",
              "      <td>no</td>\n",
              "      <td>5.0</td>\n",
              "      <td>4</td>\n",
              "      <td>5</td>\n",
              "      <td>1.0</td>\n",
              "      <td>2.0</td>\n",
              "      <td>5</td>\n",
              "      <td>0</td>\n",
              "      <td>no</td>\n",
              "      <td>5</td>\n",
              "      <td>0</td>\n",
              "      <td>0</td>\n",
              "    </tr>\n",
              "    <tr>\n",
              "      <th>804</th>\n",
              "      <td>795902</td>\n",
              "      <td>Math</td>\n",
              "      <td>GP</td>\n",
              "      <td>F</td>\n",
              "      <td>19</td>\n",
              "      <td>U</td>\n",
              "      <td>LE3</td>\n",
              "      <td>T</td>\n",
              "      <td>1</td>\n",
              "      <td>2</td>\n",
              "      <td>services</td>\n",
              "      <td>services</td>\n",
              "      <td>home</td>\n",
              "      <td>other</td>\n",
              "      <td>1</td>\n",
              "      <td>2</td>\n",
              "      <td>1</td>\n",
              "      <td>no</td>\n",
              "      <td>no</td>\n",
              "      <td>no</td>\n",
              "      <td>yes</td>\n",
              "      <td>no</td>\n",
              "      <td>yes</td>\n",
              "      <td>no</td>\n",
              "      <td>yes</td>\n",
              "      <td>4.0</td>\n",
              "      <td>2</td>\n",
              "      <td>4</td>\n",
              "      <td>2.0</td>\n",
              "      <td>2.0</td>\n",
              "      <td>3</td>\n",
              "      <td>0</td>\n",
              "      <td>NaN</td>\n",
              "      <td>9</td>\n",
              "      <td>9</td>\n",
              "      <td>0</td>\n",
              "    </tr>\n",
              "    <tr>\n",
              "      <th>818</th>\n",
              "      <td>804712</td>\n",
              "      <td>Math</td>\n",
              "      <td>GP</td>\n",
              "      <td>M</td>\n",
              "      <td>16</td>\n",
              "      <td>U</td>\n",
              "      <td>GT3</td>\n",
              "      <td>T</td>\n",
              "      <td>4</td>\n",
              "      <td>4</td>\n",
              "      <td>teacher</td>\n",
              "      <td>teacher</td>\n",
              "      <td>course</td>\n",
              "      <td>mother</td>\n",
              "      <td>1</td>\n",
              "      <td>1</td>\n",
              "      <td>0</td>\n",
              "      <td>no</td>\n",
              "      <td>yes</td>\n",
              "      <td>no</td>\n",
              "      <td>no</td>\n",
              "      <td>yes</td>\n",
              "      <td>no</td>\n",
              "      <td>yes</td>\n",
              "      <td>yes</td>\n",
              "      <td>3.0</td>\n",
              "      <td>3</td>\n",
              "      <td>2</td>\n",
              "      <td>2.0</td>\n",
              "      <td>1.0</td>\n",
              "      <td>5</td>\n",
              "      <td>0</td>\n",
              "      <td>NaN</td>\n",
              "      <td>7</td>\n",
              "      <td>6</td>\n",
              "      <td>0</td>\n",
              "    </tr>\n",
              "    <tr>\n",
              "      <th>898</th>\n",
              "      <td>872590</td>\n",
              "      <td>Math</td>\n",
              "      <td>GP</td>\n",
              "      <td>F</td>\n",
              "      <td>17</td>\n",
              "      <td>U</td>\n",
              "      <td>GT3</td>\n",
              "      <td>A</td>\n",
              "      <td>2</td>\n",
              "      <td>2</td>\n",
              "      <td>at_home</td>\n",
              "      <td>at_home</td>\n",
              "      <td>home</td>\n",
              "      <td>father</td>\n",
              "      <td>1</td>\n",
              "      <td>2</td>\n",
              "      <td>1</td>\n",
              "      <td>no</td>\n",
              "      <td>yes</td>\n",
              "      <td>no</td>\n",
              "      <td>no</td>\n",
              "      <td>yes</td>\n",
              "      <td>yes</td>\n",
              "      <td>yes</td>\n",
              "      <td>yes</td>\n",
              "      <td>3.0</td>\n",
              "      <td>3</td>\n",
              "      <td>1</td>\n",
              "      <td>1.0</td>\n",
              "      <td>2.0</td>\n",
              "      <td>4</td>\n",
              "      <td>0</td>\n",
              "      <td>NaN</td>\n",
              "      <td>9</td>\n",
              "      <td>8</td>\n",
              "      <td>0</td>\n",
              "    </tr>\n",
              "    <tr>\n",
              "      <th>905</th>\n",
              "      <td>883052</td>\n",
              "      <td>Math</td>\n",
              "      <td>GP</td>\n",
              "      <td>F</td>\n",
              "      <td>16</td>\n",
              "      <td>U</td>\n",
              "      <td>GT3</td>\n",
              "      <td>T</td>\n",
              "      <td>1</td>\n",
              "      <td>3</td>\n",
              "      <td>at_home</td>\n",
              "      <td>services</td>\n",
              "      <td>home</td>\n",
              "      <td>mother</td>\n",
              "      <td>1</td>\n",
              "      <td>2</td>\n",
              "      <td>3</td>\n",
              "      <td>no</td>\n",
              "      <td>no</td>\n",
              "      <td>no</td>\n",
              "      <td>yes</td>\n",
              "      <td>no</td>\n",
              "      <td>yes</td>\n",
              "      <td>yes</td>\n",
              "      <td>yes</td>\n",
              "      <td>4.0</td>\n",
              "      <td>3</td>\n",
              "      <td>5</td>\n",
              "      <td>1.0</td>\n",
              "      <td>1.0</td>\n",
              "      <td>3</td>\n",
              "      <td>0</td>\n",
              "      <td>NaN</td>\n",
              "      <td>8</td>\n",
              "      <td>7</td>\n",
              "      <td>0</td>\n",
              "    </tr>\n",
              "    <tr>\n",
              "      <th>952</th>\n",
              "      <td>928755</td>\n",
              "      <td>Math</td>\n",
              "      <td>MS</td>\n",
              "      <td>F</td>\n",
              "      <td>18</td>\n",
              "      <td>U</td>\n",
              "      <td>GT3</td>\n",
              "      <td>T</td>\n",
              "      <td>1</td>\n",
              "      <td>1</td>\n",
              "      <td>other</td>\n",
              "      <td>other</td>\n",
              "      <td>course</td>\n",
              "      <td>mother</td>\n",
              "      <td>2</td>\n",
              "      <td>2</td>\n",
              "      <td>1</td>\n",
              "      <td>no</td>\n",
              "      <td>no</td>\n",
              "      <td>no</td>\n",
              "      <td>yes</td>\n",
              "      <td>yes</td>\n",
              "      <td>yes</td>\n",
              "      <td>no</td>\n",
              "      <td>no</td>\n",
              "      <td>1.0</td>\n",
              "      <td>1</td>\n",
              "      <td>1</td>\n",
              "      <td>1.0</td>\n",
              "      <td>1.0</td>\n",
              "      <td>5</td>\n",
              "      <td>0</td>\n",
              "      <td>yes</td>\n",
              "      <td>6</td>\n",
              "      <td>5</td>\n",
              "      <td>0</td>\n",
              "    </tr>\n",
              "    <tr>\n",
              "      <th>961</th>\n",
              "      <td>934315</td>\n",
              "      <td>Math</td>\n",
              "      <td>GP</td>\n",
              "      <td>F</td>\n",
              "      <td>18</td>\n",
              "      <td>U</td>\n",
              "      <td>GT3</td>\n",
              "      <td>T</td>\n",
              "      <td>2</td>\n",
              "      <td>1</td>\n",
              "      <td>other</td>\n",
              "      <td>other</td>\n",
              "      <td>course</td>\n",
              "      <td>other</td>\n",
              "      <td>2</td>\n",
              "      <td>3</td>\n",
              "      <td>0</td>\n",
              "      <td>no</td>\n",
              "      <td>yes</td>\n",
              "      <td>yes</td>\n",
              "      <td>no</td>\n",
              "      <td>no</td>\n",
              "      <td>yes</td>\n",
              "      <td>yes</td>\n",
              "      <td>yes</td>\n",
              "      <td>4.0</td>\n",
              "      <td>4</td>\n",
              "      <td>4</td>\n",
              "      <td>1.0</td>\n",
              "      <td>1.0</td>\n",
              "      <td>3</td>\n",
              "      <td>0</td>\n",
              "      <td>NaN</td>\n",
              "      <td>7</td>\n",
              "      <td>0</td>\n",
              "      <td>0</td>\n",
              "    </tr>\n",
              "    <tr>\n",
              "      <th>966</th>\n",
              "      <td>938433</td>\n",
              "      <td>Math</td>\n",
              "      <td>GP</td>\n",
              "      <td>F</td>\n",
              "      <td>17</td>\n",
              "      <td>U</td>\n",
              "      <td>GT3</td>\n",
              "      <td>T</td>\n",
              "      <td>1</td>\n",
              "      <td>1</td>\n",
              "      <td>at_home</td>\n",
              "      <td>other</td>\n",
              "      <td>reputation</td>\n",
              "      <td>mother</td>\n",
              "      <td>1</td>\n",
              "      <td>3</td>\n",
              "      <td>1</td>\n",
              "      <td>no</td>\n",
              "      <td>yes</td>\n",
              "      <td>no</td>\n",
              "      <td>yes</td>\n",
              "      <td>yes</td>\n",
              "      <td>yes</td>\n",
              "      <td>no</td>\n",
              "      <td>yes</td>\n",
              "      <td>4.0</td>\n",
              "      <td>3</td>\n",
              "      <td>4</td>\n",
              "      <td>1.0</td>\n",
              "      <td>1.0</td>\n",
              "      <td>5</td>\n",
              "      <td>0</td>\n",
              "      <td>NaN</td>\n",
              "      <td>6</td>\n",
              "      <td>5</td>\n",
              "      <td>0</td>\n",
              "    </tr>\n",
              "    <tr>\n",
              "      <th>978</th>\n",
              "      <td>951372</td>\n",
              "      <td>Por</td>\n",
              "      <td>MS</td>\n",
              "      <td>F</td>\n",
              "      <td>18</td>\n",
              "      <td>R</td>\n",
              "      <td>GT3</td>\n",
              "      <td>T</td>\n",
              "      <td>2</td>\n",
              "      <td>2</td>\n",
              "      <td>at_home</td>\n",
              "      <td>other</td>\n",
              "      <td>course</td>\n",
              "      <td>mother</td>\n",
              "      <td>3</td>\n",
              "      <td>2</td>\n",
              "      <td>1</td>\n",
              "      <td>no</td>\n",
              "      <td>no</td>\n",
              "      <td>no</td>\n",
              "      <td>yes</td>\n",
              "      <td>yes</td>\n",
              "      <td>yes</td>\n",
              "      <td>no</td>\n",
              "      <td>yes</td>\n",
              "      <td>4.0</td>\n",
              "      <td>3</td>\n",
              "      <td>3</td>\n",
              "      <td>1.0</td>\n",
              "      <td>1.0</td>\n",
              "      <td>4</td>\n",
              "      <td>0</td>\n",
              "      <td>no</td>\n",
              "      <td>9</td>\n",
              "      <td>0</td>\n",
              "      <td>0</td>\n",
              "    </tr>\n",
              "    <tr>\n",
              "      <th>1019</th>\n",
              "      <td>983594</td>\n",
              "      <td>Math</td>\n",
              "      <td>GP</td>\n",
              "      <td>F</td>\n",
              "      <td>18</td>\n",
              "      <td>U</td>\n",
              "      <td>LE3</td>\n",
              "      <td>T</td>\n",
              "      <td>2</td>\n",
              "      <td>2</td>\n",
              "      <td>other</td>\n",
              "      <td>other</td>\n",
              "      <td>home</td>\n",
              "      <td>other</td>\n",
              "      <td>1</td>\n",
              "      <td>2</td>\n",
              "      <td>0</td>\n",
              "      <td>no</td>\n",
              "      <td>no</td>\n",
              "      <td>no</td>\n",
              "      <td>yes</td>\n",
              "      <td>no</td>\n",
              "      <td>yes</td>\n",
              "      <td>yes</td>\n",
              "      <td>yes</td>\n",
              "      <td>4.0</td>\n",
              "      <td>3</td>\n",
              "      <td>3</td>\n",
              "      <td>1.0</td>\n",
              "      <td>1.0</td>\n",
              "      <td>2</td>\n",
              "      <td>0</td>\n",
              "      <td>yes</td>\n",
              "      <td>8</td>\n",
              "      <td>8</td>\n",
              "      <td>0</td>\n",
              "    </tr>\n",
              "    <tr>\n",
              "      <th>1022</th>\n",
              "      <td>985067</td>\n",
              "      <td>Math</td>\n",
              "      <td>MS</td>\n",
              "      <td>F</td>\n",
              "      <td>17</td>\n",
              "      <td>R</td>\n",
              "      <td>GT3</td>\n",
              "      <td>T</td>\n",
              "      <td>1</td>\n",
              "      <td>1</td>\n",
              "      <td>other</td>\n",
              "      <td>services</td>\n",
              "      <td>reputation</td>\n",
              "      <td>mother</td>\n",
              "      <td>3</td>\n",
              "      <td>1</td>\n",
              "      <td>1</td>\n",
              "      <td>no</td>\n",
              "      <td>yes</td>\n",
              "      <td>yes</td>\n",
              "      <td>no</td>\n",
              "      <td>yes</td>\n",
              "      <td>yes</td>\n",
              "      <td>yes</td>\n",
              "      <td>yes</td>\n",
              "      <td>5.0</td>\n",
              "      <td>2</td>\n",
              "      <td>1</td>\n",
              "      <td>1.0</td>\n",
              "      <td>2.0</td>\n",
              "      <td>1</td>\n",
              "      <td>0</td>\n",
              "      <td>NaN</td>\n",
              "      <td>7</td>\n",
              "      <td>6</td>\n",
              "      <td>0</td>\n",
              "    </tr>\n",
              "    <tr>\n",
              "      <th>1026</th>\n",
              "      <td>987119</td>\n",
              "      <td>Por</td>\n",
              "      <td>MS</td>\n",
              "      <td>F</td>\n",
              "      <td>19</td>\n",
              "      <td>U</td>\n",
              "      <td>GT3</td>\n",
              "      <td>T</td>\n",
              "      <td>1</td>\n",
              "      <td>1</td>\n",
              "      <td>at_home</td>\n",
              "      <td>services</td>\n",
              "      <td>other</td>\n",
              "      <td>father</td>\n",
              "      <td>2</td>\n",
              "      <td>1</td>\n",
              "      <td>1</td>\n",
              "      <td>no</td>\n",
              "      <td>no</td>\n",
              "      <td>no</td>\n",
              "      <td>no</td>\n",
              "      <td>yes</td>\n",
              "      <td>no</td>\n",
              "      <td>no</td>\n",
              "      <td>no</td>\n",
              "      <td>5.0</td>\n",
              "      <td>5</td>\n",
              "      <td>5</td>\n",
              "      <td>2.0</td>\n",
              "      <td>3.0</td>\n",
              "      <td>2</td>\n",
              "      <td>0</td>\n",
              "      <td>NaN</td>\n",
              "      <td>5</td>\n",
              "      <td>0</td>\n",
              "      <td>0</td>\n",
              "    </tr>\n",
              "    <tr>\n",
              "      <th>1027</th>\n",
              "      <td>988296</td>\n",
              "      <td>Por</td>\n",
              "      <td>GP</td>\n",
              "      <td>M</td>\n",
              "      <td>18</td>\n",
              "      <td>U</td>\n",
              "      <td>LE3</td>\n",
              "      <td>T</td>\n",
              "      <td>1</td>\n",
              "      <td>1</td>\n",
              "      <td>other</td>\n",
              "      <td>other</td>\n",
              "      <td>course</td>\n",
              "      <td>mother</td>\n",
              "      <td>1</td>\n",
              "      <td>1</td>\n",
              "      <td>2</td>\n",
              "      <td>no</td>\n",
              "      <td>no</td>\n",
              "      <td>no</td>\n",
              "      <td>no</td>\n",
              "      <td>yes</td>\n",
              "      <td>no</td>\n",
              "      <td>yes</td>\n",
              "      <td>yes</td>\n",
              "      <td>2.0</td>\n",
              "      <td>3</td>\n",
              "      <td>5</td>\n",
              "      <td>2.0</td>\n",
              "      <td>5.0</td>\n",
              "      <td>4</td>\n",
              "      <td>0</td>\n",
              "      <td>NaN</td>\n",
              "      <td>11</td>\n",
              "      <td>9</td>\n",
              "      <td>0</td>\n",
              "    </tr>\n",
              "  </tbody>\n",
              "</table>\n",
              "</div>"
            ],
            "text/plain": [
              "          ID Subject school sex  age address famsize Pstatus Medu Fedu  \\\n",
              "71    156109     Por     MS   M   18       R     GT3       T    4    2   \n",
              "83    163217     Por     MS   F   19       R     GT3       A    1    1   \n",
              "152   218048    Math     GP   M   18       R     GT3       T    2    2   \n",
              "178   243472    Math     GP   F   18       R     GT3       T    2    2   \n",
              "184   247347    Math     GP   M   16       U     GT3       T    3    4   \n",
              "229   285793    Math     GP   F   15       R     GT3       T    3    4   \n",
              "241   298547    Math     GP   M   18       U     GT3       T    4    4   \n",
              "265   325702     Por     MS   M   16       R     GT3       T    2    1   \n",
              "278   337797     Por     MS   F   18       R     GT3       T    4    4   \n",
              "292   348379    Math     GP   M   16       U     LE3       T    1    2   \n",
              "326   373767     Por     MS   F   17       U     GT3       T    4    2   \n",
              "332   384016    Math     GP   F   16       U     GT3       T    2    2   \n",
              "336   389098    Math     GP   F   15       U     GT3       T    4    4   \n",
              "350   395320    Math     GP   M   15       R     GT3       T    3    4   \n",
              "352   396378     Por     MS   M   19       R     GT3       T    1    1   \n",
              "367   416298     Por     MS   M   18       R     GT3       T    3    2   \n",
              "387   429690    Math     GP   F   17       U     GT3       t    3    2   \n",
              "391   433047    Math     GP   M   16       U     LE3       T    4    3   \n",
              "410   450164     Por     MS   F   18       R     LE3       A    4    2   \n",
              "419   455088     Por     MS   M   18       R     GT3       T    2    1   \n",
              "420   455906    Math     GP   M   17       R     LE3       T    2    1   \n",
              "438   473711    Math     GP   F   18       R     GT3       T    2    1   \n",
              "474   501710     Por     MS   M   16       U     GT3       T    1    1   \n",
              "477   504065    Math     MS   F   19       R     GT3       T    2    3   \n",
              "482   509393    Math     GP   F   18       U     GT3       T    2    1   \n",
              "495   519638    Math     GP   M   18       U     GT3       T    2    2   \n",
              "497   520300    Math     GP   F   18       U     GT3       T    3    3   \n",
              "509   531503    Math     GP   M   18       U     LE3       T    1    1   \n",
              "519   552788    Math     GP   F   17       U     LE3       T    2    2   \n",
              "581   602318    Math     GP   F   19       U     GT3       T    4    4   \n",
              "592   614297    Math     GP   F   16       U     GT3       A    3    3   \n",
              "603   624907    Math     MS   M   19       R     GT3       T    1    1   \n",
              "624   635152    Math     GP   F   18       U     GT3       T    2    2   \n",
              "625   635426    Math     GP   F   15       U     GT3       T    3    2   \n",
              "651   654333     Por     MS   F   18       R     GT3       T    2    2   \n",
              "684   684399    Math     GP   M   17       R     GT3       T    3    4   \n",
              "710   714060    Math     GP   F   15       U     GT3       T    1    1   \n",
              "725   726849    Math     GP   M   15       U     GT3       T    4    3   \n",
              "745   740165    Math     GP   M   19       U     GT3       T    3    2   \n",
              "786   778154     Por     MS   M   17       U     GT3       T    2    2   \n",
              "788   778538    Math     GP   M   17       U     GT3       T    2    1   \n",
              "804   795902    Math     GP   F   19       U     LE3       T    1    2   \n",
              "818   804712    Math     GP   M   16       U     GT3       T    4    4   \n",
              "898   872590    Math     GP   F   17       U     GT3       A    2    2   \n",
              "905   883052    Math     GP   F   16       U     GT3       T    1    3   \n",
              "952   928755    Math     MS   F   18       U     GT3       T    1    1   \n",
              "961   934315    Math     GP   F   18       U     GT3       T    2    1   \n",
              "966   938433    Math     GP   F   17       U     GT3       T    1    1   \n",
              "978   951372     Por     MS   F   18       R     GT3       T    2    2   \n",
              "1019  983594    Math     GP   F   18       U     LE3       T    2    2   \n",
              "1022  985067    Math     MS   F   17       R     GT3       T    1    1   \n",
              "1026  987119     Por     MS   F   19       U     GT3       T    1    1   \n",
              "1027  988296     Por     GP   M   18       U     LE3       T    1    1   \n",
              "\n",
              "          Mjob      Fjob      reason guardian  traveltime  studytime  \\\n",
              "71       other     other        home   father           2          1   \n",
              "83     at_home   at_home      course    other           2          2   \n",
              "152   services     other  reputation   mother           1          1   \n",
              "178    at_home     other      course   mother           2          4   \n",
              "184      other     other      course   father           3          1   \n",
              "229   services   teacher      course   father           2          3   \n",
              "241    teacher  services        home   father           1          2   \n",
              "265      other  services  reputation   mother           2          2   \n",
              "278      other   teacher       other   father           3          2   \n",
              "292      other     other      course   mother           2          1   \n",
              "326    teacher  services        home   mother           1          2   \n",
              "332      other     other        home   mother           1          2   \n",
              "336   services   at_home      course   mother           1          3   \n",
              "350    at_home   teacher      course   mother           4          2   \n",
              "352      other  services       other   mother           2          1   \n",
              "367   services     other      course   mother           1          1   \n",
              "387      other     other        home   mother           1          2   \n",
              "391    teacher     other      course   mother           1          1   \n",
              "410    teacher     other  reputation   mother           1          2   \n",
              "419      other     other       other   mother           2          1   \n",
              "420    at_home     other      course   mother           2          1   \n",
              "438      other     other  reputation   mother           2          2   \n",
              "474    at_home  services        home   mother           2          2   \n",
              "477   services     other      course   mother           1          3   \n",
              "482   services     other      course   mother           2          2   \n",
              "495      other  services  reputation   father           1          2   \n",
              "497   services  services        home   mother           1          2   \n",
              "509      other     other      course   mother           1          1   \n",
              "519   services  services      course   father           1          4   \n",
              "581     health     other  reputation    other           2          2   \n",
              "592      other     other      course    other           2          1   \n",
              "603      other  services       other   mother           2          1   \n",
              "624    at_home  services        home   mother           1          3   \n",
              "625     health  services        home   father           1          2   \n",
              "651      other     other       other   mother           2          1   \n",
              "684    at_home     other      course   mother           3          2   \n",
              "710    at_home     other      course   mother           3          1   \n",
              "725    teacher  services      course   father           2          4   \n",
              "745   services   at_home        home   mother           1          1   \n",
              "786      other     other      course   mother           1          1   \n",
              "788      other     other        home   mother           1          1   \n",
              "804   services  services        home    other           1          2   \n",
              "818    teacher   teacher      course   mother           1          1   \n",
              "898    at_home   at_home        home   father           1          2   \n",
              "905    at_home  services        home   mother           1          2   \n",
              "952      other     other      course   mother           2          2   \n",
              "961      other     other      course    other           2          3   \n",
              "966    at_home     other  reputation   mother           1          3   \n",
              "978    at_home     other      course   mother           3          2   \n",
              "1019     other     other        home    other           1          2   \n",
              "1022     other  services  reputation   mother           3          1   \n",
              "1026   at_home  services       other   father           2          1   \n",
              "1027     other     other      course   mother           1          1   \n",
              "\n",
              "      failures schoolsup famsup paid activities nursery higher internet  \\\n",
              "71           1        no     no  yes         no     yes    yes       no   \n",
              "83           3        no    yes   no        yes     yes     no       no   \n",
              "152          2        no    yes   no        yes     yes    yes      yes   \n",
              "178          0        no     no   no        yes     yes    yes       no   \n",
              "184          2        no    yes   no        yes      no    yes      yes   \n",
              "229          2        no    yes   no         no     yes    yes      yes   \n",
              "241          1        no    yes   no        yes     yes    yes      yes   \n",
              "265          0        no     no   no        yes     yes    yes      yes   \n",
              "278          0        no    yes   no         no      no    yes      yes   \n",
              "292          1        no     no   no        yes     yes    yes       no   \n",
              "326          0       yes    yes   no        yes     yes    yes      yes   \n",
              "332          0        no    yes  yes         no      no    yes      yes   \n",
              "336          0        no    yes   no        yes     yes    yes      yes   \n",
              "350          0        no    yes   no         no     yes    yes       no   \n",
              "352          1        no     no   no         no     yes    yes       no   \n",
              "367          1        no     no   no         no     yes     no      yes   \n",
              "387          0        no    yes  yes         no     yes    yes      yes   \n",
              "391          0        no     no   no        yes      no    yes      yes   \n",
              "410          0        no     no   no        yes     yes    yes      yes   \n",
              "419          0        no     no   no        yes      no    yes      yes   \n",
              "420          2        no     no   no        yes     yes     no      yes   \n",
              "438          0        no    yes   no         no     yes     no      yes   \n",
              "474          0        no    yes   no        yes     yes    yes       no   \n",
              "477          1        no     no   no        yes      no    yes      yes   \n",
              "482          0        no    yes  yes        yes     yes    yes      yes   \n",
              "495          1        no     no   no         no     yes     no      yes   \n",
              "497          0        no     no   no        yes     yes    yes      yes   \n",
              "509          3        no     no   no         no     yes     no      yes   \n",
              "519          0        no     no  yes        yes     yes    yes      yes   \n",
              "581          0        no    yes  yes        yes     yes    yes      yes   \n",
              "592          2        no    yes   no        yes      no    yes      yes   \n",
              "603          1        no     no   no         no     yes    yes       no   \n",
              "624          0        no    yes  yes        yes     yes    yes      yes   \n",
              "625          3        no    yes   no         no     yes    yes      yes   \n",
              "651          1        no     no   no         no     yes     no      yes   \n",
              "684          0        no     no   no         no     yes    yes       no   \n",
              "710          0        no    yes   no        yes      no    yes      yes   \n",
              "725          0       yes    yes   no         no     yes    yes      yes   \n",
              "745          3        no    yes   no         no     yes     no      yes   \n",
              "786          1        no     no   no        yes     yes    yes       no   \n",
              "788          3        no    yes   no         no     yes    yes      yes   \n",
              "804          1        no     no   no        yes      no    yes       no   \n",
              "818          0        no    yes   no         no     yes     no      yes   \n",
              "898          1        no    yes   no         no     yes    yes      yes   \n",
              "905          3        no     no   no        yes      no    yes      yes   \n",
              "952          1        no     no   no        yes     yes    yes       no   \n",
              "961          0        no    yes  yes         no      no    yes      yes   \n",
              "966          1        no    yes   no        yes     yes    yes       no   \n",
              "978          1        no     no   no        yes     yes    yes       no   \n",
              "1019         0        no     no   no        yes      no    yes      yes   \n",
              "1022         1        no    yes  yes         no     yes    yes      yes   \n",
              "1026         1        no     no   no         no     yes     no       no   \n",
              "1027         2        no     no   no         no     yes     no      yes   \n",
              "\n",
              "     romantic  famrel  freetime  goout  Dalc  Walc  health  absences cheating  \\\n",
              "71         no     5.0         4      3   4.0   3.0       3         0      NaN   \n",
              "83        yes     3.0         5      4   1.0   4.0       1         0      yes   \n",
              "152        no     3.0         3      3   1.0   2.0       4         0      NaN   \n",
              "178        no     4.0         4      4   1.0   1.0       4         0      NaN   \n",
              "184        no     3.0         4      5   2.0   4.0       2         0      yes   \n",
              "229       yes     4.0         2      2   2.0   2.0       5         0       no   \n",
              "241        no     4.0         3      3   2.0   2.0       2         0      NaN   \n",
              "265        no     5.0         2      1   1.0   1.0       2         0      NaN   \n",
              "278       yes     3.0         2      2   4.0   2.0       5         0      yes   \n",
              "292        no     4.0         4      4   2.0   4.0       5         0      NaN   \n",
              "326       NaN     5.0         5      5   1.0   3.0       5         0       no   \n",
              "332        no     5.0         1      5   1.0   1.0       4         0      NaN   \n",
              "336       yes     4.0         3      3   1.0   1.0       5         0      NaN   \n",
              "350       yes     5.0         3      3   1.0   1.0       5         0      NaN   \n",
              "352        no     4.0         3      2   1.0   3.0       5         0       no   \n",
              "367       NaN     2.0         3      1   2.0   2.0       5         0      NaN   \n",
              "387       yes     4.0         3      2   2.0   3.0       2         0      yes   \n",
              "391        no     5.0         4      5   1.0   1.0       3         0      NaN   \n",
              "410       yes     5.0         3      1   1.0   1.0       5         0      NaN   \n",
              "419       yes     4.0         4      3   1.0   3.0       5         0      NaN   \n",
              "420       yes     3.0         3      2   2.0   2.0       5         0      NaN   \n",
              "438       yes     4.0         3      5   1.0   2.0       3         0      NaN   \n",
              "474       yes     5.0         4      5   4.0   5.0       3         0      NaN   \n",
              "477        no     5.0         4      2   1.0   2.0       5         0      NaN   \n",
              "482        no     5.0         3      3   1.0   2.0       1         0      yes   \n",
              "495        no     5.0         5      4   3.0   5.0       2         0      NaN   \n",
              "497        no     5.0         3      4   1.0   1.0       4         0      NaN   \n",
              "509       yes     2.0         3      5   2.0   5.0       4         0      NaN   \n",
              "519       yes     3.0         4      1   1.0   1.0       2         0      NaN   \n",
              "581        no     2.0         3      4   2.0   3.0       2         0      NaN   \n",
              "592       yes     4.0         3      2   1.0   1.0       5         0      yes   \n",
              "603        no     4.0         3      2   1.0   3.0       5         0      NaN   \n",
              "624       yes     4.0         3      3   1.0   1.0       3         0      yes   \n",
              "625        no     3.0         3      2   1.0   1.0       3         0      NaN   \n",
              "651       yes     5.0         5      5   1.0   1.0       3         0       no   \n",
              "684        no     5.0         4      5   2.0   4.0       5         0      NaN   \n",
              "710       yes     4.0         3      3   1.0   2.0       4         0       no   \n",
              "725        no     2.0         2      2   1.0   1.0       3         0      NaN   \n",
              "745       yes     4.0         5      4   1.0   1.0       4         0      NaN   \n",
              "786       yes     1.0         2      1   2.0   3.0       5         0      yes   \n",
              "788        no     5.0         4      5   1.0   2.0       5         0       no   \n",
              "804       yes     4.0         2      4   2.0   2.0       3         0      NaN   \n",
              "818       yes     3.0         3      2   2.0   1.0       5         0      NaN   \n",
              "898       yes     3.0         3      1   1.0   2.0       4         0      NaN   \n",
              "905       yes     4.0         3      5   1.0   1.0       3         0      NaN   \n",
              "952        no     1.0         1      1   1.0   1.0       5         0      yes   \n",
              "961       yes     4.0         4      4   1.0   1.0       3         0      NaN   \n",
              "966       yes     4.0         3      4   1.0   1.0       5         0      NaN   \n",
              "978       yes     4.0         3      3   1.0   1.0       4         0       no   \n",
              "1019      yes     4.0         3      3   1.0   1.0       2         0      yes   \n",
              "1022      yes     5.0         2      1   1.0   2.0       1         0      NaN   \n",
              "1026       no     5.0         5      5   2.0   3.0       2         0      NaN   \n",
              "1027      yes     2.0         3      5   2.0   5.0       4         0      NaN   \n",
              "\n",
              "      G1  G2  G3  \n",
              "71     7   7   0  \n",
              "83     8   0   0  \n",
              "152    7   4   0  \n",
              "178   10   9   0  \n",
              "184    6   5   0  \n",
              "229   12   0   0  \n",
              "241   10  10   0  \n",
              "265    8   7   0  \n",
              "278    7   5   0  \n",
              "292    7   0   0  \n",
              "326    8   8   0  \n",
              "332    6   7   0  \n",
              "336   11   0   0  \n",
              "350    9   0   0  \n",
              "352    5   8   0  \n",
              "367    4   0   0  \n",
              "387    7   8   0  \n",
              "391    6   0   0  \n",
              "410    5   0   0  \n",
              "419    7   7   0  \n",
              "420    7   6   0  \n",
              "438    6   0   0  \n",
              "474    7   0   0  \n",
              "477    7   5   0  \n",
              "482    8   8   0  \n",
              "495    7   7   0  \n",
              "497    7   0   0  \n",
              "509    6   5   0  \n",
              "519   10   9   0  \n",
              "581   10   9   0  \n",
              "592    4   0   0  \n",
              "603    6   5   0  \n",
              "624    9  10   0  \n",
              "625    6   7   0  \n",
              "651    8   6   0  \n",
              "684   10   0   0  \n",
              "710    8   0   0  \n",
              "725    7   9   0  \n",
              "745    5   0   0  \n",
              "786    7   0   0  \n",
              "788    5   0   0  \n",
              "804    9   9   0  \n",
              "818    7   6   0  \n",
              "898    9   8   0  \n",
              "905    8   7   0  \n",
              "952    6   5   0  \n",
              "961    7   0   0  \n",
              "966    6   5   0  \n",
              "978    9   0   0  \n",
              "1019   8   8   0  \n",
              "1022   7   6   0  \n",
              "1026   5   0   0  \n",
              "1027  11   9   0  "
            ]
          },
          "metadata": {
            "tags": []
          },
          "execution_count": 107
        }
      ]
    },
    {
      "cell_type": "code",
      "metadata": {
        "id": "BMqieXCSkoOc",
        "colab_type": "code",
        "outputId": "c7e699a5-5e5b-4043-ec1b-34c8012f9f34",
        "colab": {
          "base_uri": "https://localhost:8080/",
          "height": 507
        }
      },
      "source": [
        "data.head(15)"
      ],
      "execution_count": 108,
      "outputs": [
        {
          "output_type": "execute_result",
          "data": {
            "text/html": [
              "<div>\n",
              "<style scoped>\n",
              "    .dataframe tbody tr th:only-of-type {\n",
              "        vertical-align: middle;\n",
              "    }\n",
              "\n",
              "    .dataframe tbody tr th {\n",
              "        vertical-align: top;\n",
              "    }\n",
              "\n",
              "    .dataframe thead th {\n",
              "        text-align: right;\n",
              "    }\n",
              "</style>\n",
              "<table border=\"1\" class=\"dataframe\">\n",
              "  <thead>\n",
              "    <tr style=\"text-align: right;\">\n",
              "      <th></th>\n",
              "      <th>ID</th>\n",
              "      <th>Subject</th>\n",
              "      <th>school</th>\n",
              "      <th>sex</th>\n",
              "      <th>age</th>\n",
              "      <th>address</th>\n",
              "      <th>famsize</th>\n",
              "      <th>Pstatus</th>\n",
              "      <th>Medu</th>\n",
              "      <th>Fedu</th>\n",
              "      <th>Mjob</th>\n",
              "      <th>Fjob</th>\n",
              "      <th>reason</th>\n",
              "      <th>guardian</th>\n",
              "      <th>traveltime</th>\n",
              "      <th>studytime</th>\n",
              "      <th>failures</th>\n",
              "      <th>schoolsup</th>\n",
              "      <th>famsup</th>\n",
              "      <th>paid</th>\n",
              "      <th>activities</th>\n",
              "      <th>nursery</th>\n",
              "      <th>higher</th>\n",
              "      <th>internet</th>\n",
              "      <th>romantic</th>\n",
              "      <th>famrel</th>\n",
              "      <th>freetime</th>\n",
              "      <th>goout</th>\n",
              "      <th>Dalc</th>\n",
              "      <th>Walc</th>\n",
              "      <th>health</th>\n",
              "      <th>absences</th>\n",
              "      <th>cheating</th>\n",
              "      <th>G1</th>\n",
              "      <th>G2</th>\n",
              "      <th>G3</th>\n",
              "    </tr>\n",
              "  </thead>\n",
              "  <tbody>\n",
              "    <tr>\n",
              "      <th>0</th>\n",
              "      <td>100097</td>\n",
              "      <td>Por</td>\n",
              "      <td>GP</td>\n",
              "      <td>F</td>\n",
              "      <td>16</td>\n",
              "      <td>U</td>\n",
              "      <td>GT3</td>\n",
              "      <td>A</td>\n",
              "      <td>3</td>\n",
              "      <td>4</td>\n",
              "      <td>services</td>\n",
              "      <td>other</td>\n",
              "      <td>course</td>\n",
              "      <td>father</td>\n",
              "      <td>1</td>\n",
              "      <td>1</td>\n",
              "      <td>0</td>\n",
              "      <td>no</td>\n",
              "      <td>no</td>\n",
              "      <td>no</td>\n",
              "      <td>no</td>\n",
              "      <td>yes</td>\n",
              "      <td>yes</td>\n",
              "      <td>yes</td>\n",
              "      <td>no</td>\n",
              "      <td>3.0</td>\n",
              "      <td>2</td>\n",
              "      <td>1</td>\n",
              "      <td>1.0</td>\n",
              "      <td>4.0</td>\n",
              "      <td>5</td>\n",
              "      <td>12</td>\n",
              "      <td>NaN</td>\n",
              "      <td>15</td>\n",
              "      <td>13</td>\n",
              "      <td>14</td>\n",
              "    </tr>\n",
              "    <tr>\n",
              "      <th>1</th>\n",
              "      <td>101021</td>\n",
              "      <td>Por</td>\n",
              "      <td>GP</td>\n",
              "      <td>F</td>\n",
              "      <td>17</td>\n",
              "      <td>U</td>\n",
              "      <td>GT3</td>\n",
              "      <td>T</td>\n",
              "      <td>3</td>\n",
              "      <td>2</td>\n",
              "      <td>other</td>\n",
              "      <td>other</td>\n",
              "      <td>course</td>\n",
              "      <td>mother</td>\n",
              "      <td>1</td>\n",
              "      <td>2</td>\n",
              "      <td>0</td>\n",
              "      <td>no</td>\n",
              "      <td>no</td>\n",
              "      <td>no</td>\n",
              "      <td>yes</td>\n",
              "      <td>no</td>\n",
              "      <td>yes</td>\n",
              "      <td>yes</td>\n",
              "      <td>no</td>\n",
              "      <td>5.0</td>\n",
              "      <td>3</td>\n",
              "      <td>4</td>\n",
              "      <td>1.0</td>\n",
              "      <td>3.0</td>\n",
              "      <td>3</td>\n",
              "      <td>2</td>\n",
              "      <td>NaN</td>\n",
              "      <td>17</td>\n",
              "      <td>18</td>\n",
              "      <td>17</td>\n",
              "    </tr>\n",
              "    <tr>\n",
              "      <th>2</th>\n",
              "      <td>102965</td>\n",
              "      <td>Por</td>\n",
              "      <td>GP</td>\n",
              "      <td>M</td>\n",
              "      <td>16</td>\n",
              "      <td>U</td>\n",
              "      <td>LE3</td>\n",
              "      <td>T</td>\n",
              "      <td>1</td>\n",
              "      <td>2</td>\n",
              "      <td>health</td>\n",
              "      <td>services</td>\n",
              "      <td>course</td>\n",
              "      <td>mother</td>\n",
              "      <td>2</td>\n",
              "      <td>1</td>\n",
              "      <td>2</td>\n",
              "      <td>no</td>\n",
              "      <td>no</td>\n",
              "      <td>no</td>\n",
              "      <td>no</td>\n",
              "      <td>no</td>\n",
              "      <td>yes</td>\n",
              "      <td>yes</td>\n",
              "      <td>no</td>\n",
              "      <td>4.0</td>\n",
              "      <td>4</td>\n",
              "      <td>5</td>\n",
              "      <td>3.0</td>\n",
              "      <td>5.0</td>\n",
              "      <td>5</td>\n",
              "      <td>0</td>\n",
              "      <td>yes</td>\n",
              "      <td>9</td>\n",
              "      <td>8</td>\n",
              "      <td>10</td>\n",
              "    </tr>\n",
              "    <tr>\n",
              "      <th>3</th>\n",
              "      <td>102989</td>\n",
              "      <td>Por</td>\n",
              "      <td>MS</td>\n",
              "      <td>M</td>\n",
              "      <td>17</td>\n",
              "      <td>U</td>\n",
              "      <td>GT3</td>\n",
              "      <td>T</td>\n",
              "      <td>2</td>\n",
              "      <td>3</td>\n",
              "      <td>other</td>\n",
              "      <td>services</td>\n",
              "      <td>home</td>\n",
              "      <td>father</td>\n",
              "      <td>2</td>\n",
              "      <td>2</td>\n",
              "      <td>0</td>\n",
              "      <td>no</td>\n",
              "      <td>no</td>\n",
              "      <td>no</td>\n",
              "      <td>yes</td>\n",
              "      <td>yes</td>\n",
              "      <td>yes</td>\n",
              "      <td>yes</td>\n",
              "      <td>no</td>\n",
              "      <td>4.0</td>\n",
              "      <td>4</td>\n",
              "      <td>3</td>\n",
              "      <td>1.0</td>\n",
              "      <td>1.0</td>\n",
              "      <td>3</td>\n",
              "      <td>4</td>\n",
              "      <td>no</td>\n",
              "      <td>14</td>\n",
              "      <td>15</td>\n",
              "      <td>16</td>\n",
              "    </tr>\n",
              "    <tr>\n",
              "      <th>4</th>\n",
              "      <td>103131</td>\n",
              "      <td>Por</td>\n",
              "      <td>GP</td>\n",
              "      <td>F</td>\n",
              "      <td>16</td>\n",
              "      <td>U</td>\n",
              "      <td>GT3</td>\n",
              "      <td>T</td>\n",
              "      <td>1</td>\n",
              "      <td>1</td>\n",
              "      <td>at_home</td>\n",
              "      <td>other</td>\n",
              "      <td>home</td>\n",
              "      <td>mother</td>\n",
              "      <td>2</td>\n",
              "      <td>1</td>\n",
              "      <td>0</td>\n",
              "      <td>no</td>\n",
              "      <td>yes</td>\n",
              "      <td>no</td>\n",
              "      <td>no</td>\n",
              "      <td>yes</td>\n",
              "      <td>yes</td>\n",
              "      <td>no</td>\n",
              "      <td>NaN</td>\n",
              "      <td>4.0</td>\n",
              "      <td>3</td>\n",
              "      <td>2</td>\n",
              "      <td>1.0</td>\n",
              "      <td>4.0</td>\n",
              "      <td>5</td>\n",
              "      <td>2</td>\n",
              "      <td>yes</td>\n",
              "      <td>12</td>\n",
              "      <td>13</td>\n",
              "      <td>13</td>\n",
              "    </tr>\n",
              "    <tr>\n",
              "      <th>5</th>\n",
              "      <td>103144</td>\n",
              "      <td>Por</td>\n",
              "      <td>GP</td>\n",
              "      <td>M</td>\n",
              "      <td>18</td>\n",
              "      <td>U</td>\n",
              "      <td>LE3</td>\n",
              "      <td>T</td>\n",
              "      <td>3</td>\n",
              "      <td>1</td>\n",
              "      <td>services</td>\n",
              "      <td>services</td>\n",
              "      <td>course</td>\n",
              "      <td>mother</td>\n",
              "      <td>2</td>\n",
              "      <td>1</td>\n",
              "      <td>0</td>\n",
              "      <td>no</td>\n",
              "      <td>no</td>\n",
              "      <td>no</td>\n",
              "      <td>yes</td>\n",
              "      <td>yes</td>\n",
              "      <td>yes</td>\n",
              "      <td>yes</td>\n",
              "      <td>yes</td>\n",
              "      <td>3.0</td>\n",
              "      <td>3</td>\n",
              "      <td>4</td>\n",
              "      <td>4.0</td>\n",
              "      <td>5.0</td>\n",
              "      <td>4</td>\n",
              "      <td>2</td>\n",
              "      <td>NaN</td>\n",
              "      <td>11</td>\n",
              "      <td>11</td>\n",
              "      <td>12</td>\n",
              "    </tr>\n",
              "    <tr>\n",
              "      <th>6</th>\n",
              "      <td>105257</td>\n",
              "      <td>Por</td>\n",
              "      <td>MS</td>\n",
              "      <td>F</td>\n",
              "      <td>18</td>\n",
              "      <td>U</td>\n",
              "      <td>GT3</td>\n",
              "      <td>T</td>\n",
              "      <td>1</td>\n",
              "      <td>1</td>\n",
              "      <td>other</td>\n",
              "      <td>other</td>\n",
              "      <td>course</td>\n",
              "      <td>mother</td>\n",
              "      <td>2</td>\n",
              "      <td>2</td>\n",
              "      <td>0</td>\n",
              "      <td>no</td>\n",
              "      <td>no</td>\n",
              "      <td>no</td>\n",
              "      <td>yes</td>\n",
              "      <td>yes</td>\n",
              "      <td>yes</td>\n",
              "      <td>no</td>\n",
              "      <td>no</td>\n",
              "      <td>1.0</td>\n",
              "      <td>1</td>\n",
              "      <td>1</td>\n",
              "      <td>1.0</td>\n",
              "      <td>1.0</td>\n",
              "      <td>5</td>\n",
              "      <td>6</td>\n",
              "      <td>NaN</td>\n",
              "      <td>11</td>\n",
              "      <td>12</td>\n",
              "      <td>9</td>\n",
              "    </tr>\n",
              "    <tr>\n",
              "      <th>7</th>\n",
              "      <td>107639</td>\n",
              "      <td>Por</td>\n",
              "      <td>MS</td>\n",
              "      <td>F</td>\n",
              "      <td>15</td>\n",
              "      <td>R</td>\n",
              "      <td>GT3</td>\n",
              "      <td>T</td>\n",
              "      <td>4</td>\n",
              "      <td>4</td>\n",
              "      <td>teacher</td>\n",
              "      <td>other</td>\n",
              "      <td>course</td>\n",
              "      <td>mother</td>\n",
              "      <td>2</td>\n",
              "      <td>1</td>\n",
              "      <td>0</td>\n",
              "      <td>no</td>\n",
              "      <td>no</td>\n",
              "      <td>no</td>\n",
              "      <td>no</td>\n",
              "      <td>yes</td>\n",
              "      <td>yes</td>\n",
              "      <td>yes</td>\n",
              "      <td>yes</td>\n",
              "      <td>1.0</td>\n",
              "      <td>5</td>\n",
              "      <td>1</td>\n",
              "      <td>3.0</td>\n",
              "      <td>5.0</td>\n",
              "      <td>5</td>\n",
              "      <td>0</td>\n",
              "      <td>NaN</td>\n",
              "      <td>13</td>\n",
              "      <td>14</td>\n",
              "      <td>14</td>\n",
              "    </tr>\n",
              "    <tr>\n",
              "      <th>8</th>\n",
              "      <td>107914</td>\n",
              "      <td>Math</td>\n",
              "      <td>GP</td>\n",
              "      <td>F</td>\n",
              "      <td>15</td>\n",
              "      <td>U</td>\n",
              "      <td>LE3</td>\n",
              "      <td>T</td>\n",
              "      <td>3</td>\n",
              "      <td>2</td>\n",
              "      <td>services</td>\n",
              "      <td>other</td>\n",
              "      <td>reputation</td>\n",
              "      <td>mother</td>\n",
              "      <td>1</td>\n",
              "      <td>2</td>\n",
              "      <td>0</td>\n",
              "      <td>no</td>\n",
              "      <td>yes</td>\n",
              "      <td>yes</td>\n",
              "      <td>no</td>\n",
              "      <td>yes</td>\n",
              "      <td>yes</td>\n",
              "      <td>yes</td>\n",
              "      <td>no</td>\n",
              "      <td>4.0</td>\n",
              "      <td>4</td>\n",
              "      <td>4</td>\n",
              "      <td>1.0</td>\n",
              "      <td>1.0</td>\n",
              "      <td>5</td>\n",
              "      <td>10</td>\n",
              "      <td>no</td>\n",
              "      <td>7</td>\n",
              "      <td>6</td>\n",
              "      <td>6</td>\n",
              "    </tr>\n",
              "    <tr>\n",
              "      <th>9</th>\n",
              "      <td>108089</td>\n",
              "      <td>Por</td>\n",
              "      <td>MS</td>\n",
              "      <td>M</td>\n",
              "      <td>16</td>\n",
              "      <td>R</td>\n",
              "      <td>GT3</td>\n",
              "      <td>T</td>\n",
              "      <td>3</td>\n",
              "      <td>4</td>\n",
              "      <td>other</td>\n",
              "      <td>health</td>\n",
              "      <td>other</td>\n",
              "      <td>mother</td>\n",
              "      <td>3</td>\n",
              "      <td>2</td>\n",
              "      <td>0</td>\n",
              "      <td>no</td>\n",
              "      <td>no</td>\n",
              "      <td>no</td>\n",
              "      <td>no</td>\n",
              "      <td>no</td>\n",
              "      <td>yes</td>\n",
              "      <td>no</td>\n",
              "      <td>no</td>\n",
              "      <td>3.0</td>\n",
              "      <td>4</td>\n",
              "      <td>5</td>\n",
              "      <td>1.0</td>\n",
              "      <td>2.0</td>\n",
              "      <td>5</td>\n",
              "      <td>4</td>\n",
              "      <td>NaN</td>\n",
              "      <td>9</td>\n",
              "      <td>10</td>\n",
              "      <td>11</td>\n",
              "    </tr>\n",
              "    <tr>\n",
              "      <th>10</th>\n",
              "      <td>108254</td>\n",
              "      <td>Por</td>\n",
              "      <td>GP</td>\n",
              "      <td>M</td>\n",
              "      <td>15</td>\n",
              "      <td>U</td>\n",
              "      <td>LE3</td>\n",
              "      <td>T</td>\n",
              "      <td>4</td>\n",
              "      <td>4</td>\n",
              "      <td>health</td>\n",
              "      <td>services</td>\n",
              "      <td>course</td>\n",
              "      <td>father</td>\n",
              "      <td>1</td>\n",
              "      <td>1</td>\n",
              "      <td>0</td>\n",
              "      <td>no</td>\n",
              "      <td>yes</td>\n",
              "      <td>no</td>\n",
              "      <td>yes</td>\n",
              "      <td>yes</td>\n",
              "      <td>yes</td>\n",
              "      <td>yes</td>\n",
              "      <td>no</td>\n",
              "      <td>4.0</td>\n",
              "      <td>3</td>\n",
              "      <td>3</td>\n",
              "      <td>1.0</td>\n",
              "      <td>3.0</td>\n",
              "      <td>5</td>\n",
              "      <td>0</td>\n",
              "      <td>NaN</td>\n",
              "      <td>12</td>\n",
              "      <td>13</td>\n",
              "      <td>12</td>\n",
              "    </tr>\n",
              "    <tr>\n",
              "      <th>11</th>\n",
              "      <td>108296</td>\n",
              "      <td>Por</td>\n",
              "      <td>GP</td>\n",
              "      <td>M</td>\n",
              "      <td>18</td>\n",
              "      <td>U</td>\n",
              "      <td>LE3</td>\n",
              "      <td>T</td>\n",
              "      <td>3</td>\n",
              "      <td>4</td>\n",
              "      <td>services</td>\n",
              "      <td>other</td>\n",
              "      <td>home</td>\n",
              "      <td>mother</td>\n",
              "      <td>1</td>\n",
              "      <td>2</td>\n",
              "      <td>0</td>\n",
              "      <td>no</td>\n",
              "      <td>no</td>\n",
              "      <td>no</td>\n",
              "      <td>yes</td>\n",
              "      <td>yes</td>\n",
              "      <td>yes</td>\n",
              "      <td>yes</td>\n",
              "      <td>yes</td>\n",
              "      <td>4.0</td>\n",
              "      <td>3</td>\n",
              "      <td>3</td>\n",
              "      <td>1.0</td>\n",
              "      <td>3.0</td>\n",
              "      <td>5</td>\n",
              "      <td>6</td>\n",
              "      <td>no</td>\n",
              "      <td>16</td>\n",
              "      <td>16</td>\n",
              "      <td>17</td>\n",
              "    </tr>\n",
              "    <tr>\n",
              "      <th>12</th>\n",
              "      <td>108753</td>\n",
              "      <td>Math</td>\n",
              "      <td>MS</td>\n",
              "      <td>F</td>\n",
              "      <td>18</td>\n",
              "      <td>R</td>\n",
              "      <td>GT3</td>\n",
              "      <td>T</td>\n",
              "      <td>4</td>\n",
              "      <td>4</td>\n",
              "      <td>teacher</td>\n",
              "      <td>at-home</td>\n",
              "      <td>reputation</td>\n",
              "      <td>mother</td>\n",
              "      <td>3</td>\n",
              "      <td>1</td>\n",
              "      <td>0</td>\n",
              "      <td>no</td>\n",
              "      <td>yes</td>\n",
              "      <td>yes</td>\n",
              "      <td>yes</td>\n",
              "      <td>yes</td>\n",
              "      <td>yes</td>\n",
              "      <td>yes</td>\n",
              "      <td>yes</td>\n",
              "      <td>4.0</td>\n",
              "      <td>4</td>\n",
              "      <td>3</td>\n",
              "      <td>2.0</td>\n",
              "      <td>2.0</td>\n",
              "      <td>5</td>\n",
              "      <td>7</td>\n",
              "      <td>NaN</td>\n",
              "      <td>6</td>\n",
              "      <td>5</td>\n",
              "      <td>6</td>\n",
              "    </tr>\n",
              "    <tr>\n",
              "      <th>13</th>\n",
              "      <td>108825</td>\n",
              "      <td>Por</td>\n",
              "      <td>GP</td>\n",
              "      <td>M</td>\n",
              "      <td>15</td>\n",
              "      <td>U</td>\n",
              "      <td>GT3</td>\n",
              "      <td>T</td>\n",
              "      <td>4</td>\n",
              "      <td>3</td>\n",
              "      <td>teacher</td>\n",
              "      <td>other</td>\n",
              "      <td>home</td>\n",
              "      <td>mother</td>\n",
              "      <td>1</td>\n",
              "      <td>2</td>\n",
              "      <td>0</td>\n",
              "      <td>no</td>\n",
              "      <td>yes</td>\n",
              "      <td>no</td>\n",
              "      <td>yes</td>\n",
              "      <td>yes</td>\n",
              "      <td>yes</td>\n",
              "      <td>yes</td>\n",
              "      <td>no</td>\n",
              "      <td>4.0</td>\n",
              "      <td>3</td>\n",
              "      <td>3</td>\n",
              "      <td>2.0</td>\n",
              "      <td>3.0</td>\n",
              "      <td>5</td>\n",
              "      <td>0</td>\n",
              "      <td>yes</td>\n",
              "      <td>11</td>\n",
              "      <td>11</td>\n",
              "      <td>11</td>\n",
              "    </tr>\n",
              "    <tr>\n",
              "      <th>14</th>\n",
              "      <td>114462</td>\n",
              "      <td>Math</td>\n",
              "      <td>GP</td>\n",
              "      <td>F</td>\n",
              "      <td>16</td>\n",
              "      <td>U</td>\n",
              "      <td>LE3</td>\n",
              "      <td>T</td>\n",
              "      <td>2</td>\n",
              "      <td>2</td>\n",
              "      <td>at_home</td>\n",
              "      <td>other</td>\n",
              "      <td>course</td>\n",
              "      <td>mother</td>\n",
              "      <td>1</td>\n",
              "      <td>2</td>\n",
              "      <td>0</td>\n",
              "      <td>no</td>\n",
              "      <td>yes</td>\n",
              "      <td>no</td>\n",
              "      <td>no</td>\n",
              "      <td>yes</td>\n",
              "      <td>yes</td>\n",
              "      <td>no</td>\n",
              "      <td>no</td>\n",
              "      <td>4.0</td>\n",
              "      <td>3</td>\n",
              "      <td>4</td>\n",
              "      <td>1.0</td>\n",
              "      <td>2.0</td>\n",
              "      <td>2</td>\n",
              "      <td>4</td>\n",
              "      <td>yes</td>\n",
              "      <td>8</td>\n",
              "      <td>7</td>\n",
              "      <td>6</td>\n",
              "    </tr>\n",
              "  </tbody>\n",
              "</table>\n",
              "</div>"
            ],
            "text/plain": [
              "        ID Subject school sex  age address famsize Pstatus Medu Fedu  \\\n",
              "0   100097     Por     GP   F   16       U     GT3       A    3    4   \n",
              "1   101021     Por     GP   F   17       U     GT3       T    3    2   \n",
              "2   102965     Por     GP   M   16       U     LE3       T    1    2   \n",
              "3   102989     Por     MS   M   17       U     GT3       T    2    3   \n",
              "4   103131     Por     GP   F   16       U     GT3       T    1    1   \n",
              "5   103144     Por     GP   M   18       U     LE3       T    3    1   \n",
              "6   105257     Por     MS   F   18       U     GT3       T    1    1   \n",
              "7   107639     Por     MS   F   15       R     GT3       T    4    4   \n",
              "8   107914    Math     GP   F   15       U     LE3       T    3    2   \n",
              "9   108089     Por     MS   M   16       R     GT3       T    3    4   \n",
              "10  108254     Por     GP   M   15       U     LE3       T    4    4   \n",
              "11  108296     Por     GP   M   18       U     LE3       T    3    4   \n",
              "12  108753    Math     MS   F   18       R     GT3       T    4    4   \n",
              "13  108825     Por     GP   M   15       U     GT3       T    4    3   \n",
              "14  114462    Math     GP   F   16       U     LE3       T    2    2   \n",
              "\n",
              "        Mjob      Fjob      reason guardian  traveltime  studytime  failures  \\\n",
              "0   services     other      course   father           1          1         0   \n",
              "1      other     other      course   mother           1          2         0   \n",
              "2     health  services      course   mother           2          1         2   \n",
              "3      other  services        home   father           2          2         0   \n",
              "4    at_home     other        home   mother           2          1         0   \n",
              "5   services  services      course   mother           2          1         0   \n",
              "6      other     other      course   mother           2          2         0   \n",
              "7    teacher     other      course   mother           2          1         0   \n",
              "8   services     other  reputation   mother           1          2         0   \n",
              "9      other    health       other   mother           3          2         0   \n",
              "10    health  services      course   father           1          1         0   \n",
              "11  services     other        home   mother           1          2         0   \n",
              "12   teacher   at-home  reputation   mother           3          1         0   \n",
              "13   teacher     other        home   mother           1          2         0   \n",
              "14   at_home     other      course   mother           1          2         0   \n",
              "\n",
              "   schoolsup famsup paid activities nursery higher internet romantic  famrel  \\\n",
              "0         no     no   no         no     yes    yes      yes       no     3.0   \n",
              "1         no     no   no        yes      no    yes      yes       no     5.0   \n",
              "2         no     no   no         no      no    yes      yes       no     4.0   \n",
              "3         no     no   no        yes     yes    yes      yes       no     4.0   \n",
              "4         no    yes   no         no     yes    yes       no      NaN     4.0   \n",
              "5         no     no   no        yes     yes    yes      yes      yes     3.0   \n",
              "6         no     no   no        yes     yes    yes       no       no     1.0   \n",
              "7         no     no   no         no     yes    yes      yes      yes     1.0   \n",
              "8         no    yes  yes         no     yes    yes      yes       no     4.0   \n",
              "9         no     no   no         no      no    yes       no       no     3.0   \n",
              "10        no    yes   no        yes     yes    yes      yes       no     4.0   \n",
              "11        no     no   no        yes     yes    yes      yes      yes     4.0   \n",
              "12        no    yes  yes        yes     yes    yes      yes      yes     4.0   \n",
              "13        no    yes   no        yes     yes    yes      yes       no     4.0   \n",
              "14        no    yes   no         no     yes    yes       no       no     4.0   \n",
              "\n",
              "    freetime  goout  Dalc  Walc  health  absences cheating  G1  G2  G3  \n",
              "0          2      1   1.0   4.0       5        12      NaN  15  13  14  \n",
              "1          3      4   1.0   3.0       3         2      NaN  17  18  17  \n",
              "2          4      5   3.0   5.0       5         0      yes   9   8  10  \n",
              "3          4      3   1.0   1.0       3         4       no  14  15  16  \n",
              "4          3      2   1.0   4.0       5         2      yes  12  13  13  \n",
              "5          3      4   4.0   5.0       4         2      NaN  11  11  12  \n",
              "6          1      1   1.0   1.0       5         6      NaN  11  12   9  \n",
              "7          5      1   3.0   5.0       5         0      NaN  13  14  14  \n",
              "8          4      4   1.0   1.0       5        10       no   7   6   6  \n",
              "9          4      5   1.0   2.0       5         4      NaN   9  10  11  \n",
              "10         3      3   1.0   3.0       5         0      NaN  12  13  12  \n",
              "11         3      3   1.0   3.0       5         6       no  16  16  17  \n",
              "12         4      3   2.0   2.0       5         7      NaN   6   5   6  \n",
              "13         3      3   2.0   3.0       5         0      yes  11  11  11  \n",
              "14         3      4   1.0   2.0       2         4      yes   8   7   6  "
            ]
          },
          "metadata": {
            "tags": []
          },
          "execution_count": 108
        }
      ]
    },
    {
      "cell_type": "code",
      "metadata": {
        "id": "zdnvCgHEkoOf",
        "colab_type": "code",
        "outputId": "93b1b4c3-0fe5-4e69-cd33-2946cf087148",
        "colab": {
          "base_uri": "https://localhost:8080/",
          "height": 1000
        }
      },
      "source": [
        "pd.read_csv('students_data_features.csv',\n",
        "            delimiter=';',\n",
        "            encoding='windows-1251')"
      ],
      "execution_count": 109,
      "outputs": [
        {
          "output_type": "execute_result",
          "data": {
            "text/html": [
              "<div>\n",
              "<style scoped>\n",
              "    .dataframe tbody tr th:only-of-type {\n",
              "        vertical-align: middle;\n",
              "    }\n",
              "\n",
              "    .dataframe tbody tr th {\n",
              "        vertical-align: top;\n",
              "    }\n",
              "\n",
              "    .dataframe thead th {\n",
              "        text-align: right;\n",
              "    }\n",
              "</style>\n",
              "<table border=\"1\" class=\"dataframe\">\n",
              "  <thead>\n",
              "    <tr style=\"text-align: right;\">\n",
              "      <th></th>\n",
              "      <th>Признак</th>\n",
              "      <th>Описание</th>\n",
              "    </tr>\n",
              "  </thead>\n",
              "  <tbody>\n",
              "    <tr>\n",
              "      <th>0</th>\n",
              "      <td>ID</td>\n",
              "      <td>Уникальный номер наблюдения</td>\n",
              "    </tr>\n",
              "    <tr>\n",
              "      <th>1</th>\n",
              "      <td>Subject</td>\n",
              "      <td>Предмет: 'Math' - математика, 'Por' - португальский язык</td>\n",
              "    </tr>\n",
              "    <tr>\n",
              "      <th>2</th>\n",
              "      <td>school</td>\n",
              "      <td>Школа: 'GP' - Gabriel Pereira, 'MS' - Mousinho da Silveira</td>\n",
              "    </tr>\n",
              "    <tr>\n",
              "      <th>3</th>\n",
              "      <td>sex</td>\n",
              "      <td>Пол студента: 'F' - женский, 'M' - мужской</td>\n",
              "    </tr>\n",
              "    <tr>\n",
              "      <th>4</th>\n",
              "      <td>age</td>\n",
              "      <td>Возраст студента</td>\n",
              "    </tr>\n",
              "    <tr>\n",
              "      <th>5</th>\n",
              "      <td>address</td>\n",
              "      <td>Место проживания студента: 'U' - в городе, 'R' - за городом</td>\n",
              "    </tr>\n",
              "    <tr>\n",
              "      <th>6</th>\n",
              "      <td>famsize</td>\n",
              "      <td>Число членов семьи: 'LE3' - если &lt;= 3, 'GT3' - если &gt; 3</td>\n",
              "    </tr>\n",
              "    <tr>\n",
              "      <th>7</th>\n",
              "      <td>Pstatus</td>\n",
              "      <td>Отношения родителей: 'T' - живут вместе, 'A' - живут раздельно</td>\n",
              "    </tr>\n",
              "    <tr>\n",
              "      <th>8</th>\n",
              "      <td>Medu</td>\n",
              "      <td>Образование матери: 0 - без образования, 1 - начальная школа, 2 – от 5 до 9 классов, 3 – среднее образование, 4 – высшее образование</td>\n",
              "    </tr>\n",
              "    <tr>\n",
              "      <th>9</th>\n",
              "      <td>Fedu</td>\n",
              "      <td>Образование отца: 0 - без образования, 1 - начальная школа, 2 – от 5 до 9 классов, 3 – среднее образование, 4 – высшее образование</td>\n",
              "    </tr>\n",
              "    <tr>\n",
              "      <th>10</th>\n",
              "      <td>Mjob</td>\n",
              "      <td>Работа матери: 'teacher' - связана с преподаванием, 'health'  - связана с здравоохранением, 'services' - администрация и полиция, 'at_home' - домашняя занятость, 'other' - другое</td>\n",
              "    </tr>\n",
              "    <tr>\n",
              "      <th>11</th>\n",
              "      <td>Fjob</td>\n",
              "      <td>Работа отца: 'teacher' - связана с преподаванием, 'health'  - связана с здравоохранением, 'services' - администрация и полиция, 'at_home' - домашняя занятость, 'other' - другое</td>\n",
              "    </tr>\n",
              "    <tr>\n",
              "      <th>12</th>\n",
              "      <td>reason</td>\n",
              "      <td>Причина, по которой студент выбрал данную школу: 'home' - рядом с домом, 'reputation' - репутация школы, 'course' - читаемые курсы, 'other' - другое</td>\n",
              "    </tr>\n",
              "    <tr>\n",
              "      <th>13</th>\n",
              "      <td>guardian</td>\n",
              "      <td>Опекун студента (student's guardian): 'mother', 'father' или 'other'</td>\n",
              "    </tr>\n",
              "    <tr>\n",
              "      <th>14</th>\n",
              "      <td>traveltime</td>\n",
              "      <td>Время в пути от дома до школы: 1 - &lt; 15 мин, 2 - от 15 до 30 мин, 3 - от 30 мин до 1 часа, 4 - &gt; 1 часа</td>\n",
              "    </tr>\n",
              "    <tr>\n",
              "      <th>15</th>\n",
              "      <td>studytime</td>\n",
              "      <td>Количество часов на учебу в неделю: 1 - &lt; 2 часов, 2 - от 2 до 5 часов, 3 - от 5 до 10 часов, 4 - &gt; 10 часов</td>\n",
              "    </tr>\n",
              "    <tr>\n",
              "      <th>16</th>\n",
              "      <td>failures</td>\n",
              "      <td>Число завалов студента по предыдущим курсам:  n если 1&lt;=n&lt;3, иначе 4</td>\n",
              "    </tr>\n",
              "    <tr>\n",
              "      <th>17</th>\n",
              "      <td>schoolsup</td>\n",
              "      <td>Дополнительная помощь в учебе: yes или no</td>\n",
              "    </tr>\n",
              "    <tr>\n",
              "      <th>18</th>\n",
              "      <td>famsup</td>\n",
              "      <td>Дополнительная помощь в учебе от членов семьи: yes или no</td>\n",
              "    </tr>\n",
              "    <tr>\n",
              "      <th>19</th>\n",
              "      <td>paid</td>\n",
              "      <td>Платные дополнительные занятия по соответствущему курсу ('Math' или 'Por'): yes или no</td>\n",
              "    </tr>\n",
              "    <tr>\n",
              "      <th>20</th>\n",
              "      <td>activities</td>\n",
              "      <td>Внеучебные активности: yes или no</td>\n",
              "    </tr>\n",
              "    <tr>\n",
              "      <th>21</th>\n",
              "      <td>nursery</td>\n",
              "      <td>Ходил в детстве в детский сад: yes или no</td>\n",
              "    </tr>\n",
              "    <tr>\n",
              "      <th>22</th>\n",
              "      <td>higher</td>\n",
              "      <td>Собирается получать высшее образование: yes или no</td>\n",
              "    </tr>\n",
              "    <tr>\n",
              "      <th>23</th>\n",
              "      <td>internet</td>\n",
              "      <td>Есть доступ к всемирной сети из дома: yes или no</td>\n",
              "    </tr>\n",
              "    <tr>\n",
              "      <th>24</th>\n",
              "      <td>romantic</td>\n",
              "      <td>Состоит в романтических отношениях: yes или no</td>\n",
              "    </tr>\n",
              "    <tr>\n",
              "      <th>25</th>\n",
              "      <td>famrel</td>\n",
              "      <td>Отношения в семье: от 1 - очень плохие, до 5 - прекрасные</td>\n",
              "    </tr>\n",
              "    <tr>\n",
              "      <th>26</th>\n",
              "      <td>freetime</td>\n",
              "      <td>Свободное время после занятий: от 1 - очень мало, до 5 - очень много</td>\n",
              "    </tr>\n",
              "    <tr>\n",
              "      <th>27</th>\n",
              "      <td>goout</td>\n",
              "      <td>Проводит время с друзьями: от 1 - очень редко/мало, до 5 - очень часто/много</td>\n",
              "    </tr>\n",
              "    <tr>\n",
              "      <th>28</th>\n",
              "      <td>Dalc</td>\n",
              "      <td>Потребление алкоголя в будни: от 1 - очень мало, до 5 - очень много</td>\n",
              "    </tr>\n",
              "    <tr>\n",
              "      <th>29</th>\n",
              "      <td>Walc</td>\n",
              "      <td>Потребление алкоголя в выходные: от 1 - очень мало, до 5 - очень много</td>\n",
              "    </tr>\n",
              "    <tr>\n",
              "      <th>30</th>\n",
              "      <td>health</td>\n",
              "      <td>Состояние здоровья: от 1 - очень плохое, до 5  - очень хорошее</td>\n",
              "    </tr>\n",
              "    <tr>\n",
              "      <th>31</th>\n",
              "      <td>absences</td>\n",
              "      <td>Число пропусков: сколько раз пропустил занятия в школе</td>\n",
              "    </tr>\n",
              "    <tr>\n",
              "      <th>32</th>\n",
              "      <td>cheating</td>\n",
              "      <td>Списывает ли на тестах: yes или no</td>\n",
              "    </tr>\n",
              "    <tr>\n",
              "      <th>33</th>\n",
              "      <td>G1</td>\n",
              "      <td>Оценка за первое полугодние: от 0 до 20</td>\n",
              "    </tr>\n",
              "    <tr>\n",
              "      <th>34</th>\n",
              "      <td>G2</td>\n",
              "      <td>Оценка за второе полугодие: от 0 до 20</td>\n",
              "    </tr>\n",
              "    <tr>\n",
              "      <th>35</th>\n",
              "      <td>G3</td>\n",
              "      <td>Итоговая оценка: от 0 до 20</td>\n",
              "    </tr>\n",
              "  </tbody>\n",
              "</table>\n",
              "</div>"
            ],
            "text/plain": [
              "       Признак  \\\n",
              "0           ID   \n",
              "1      Subject   \n",
              "2       school   \n",
              "3          sex   \n",
              "4          age   \n",
              "5      address   \n",
              "6      famsize   \n",
              "7      Pstatus   \n",
              "8         Medu   \n",
              "9         Fedu   \n",
              "10        Mjob   \n",
              "11        Fjob   \n",
              "12      reason   \n",
              "13    guardian   \n",
              "14  traveltime   \n",
              "15   studytime   \n",
              "16    failures   \n",
              "17   schoolsup   \n",
              "18      famsup   \n",
              "19        paid   \n",
              "20  activities   \n",
              "21     nursery   \n",
              "22      higher   \n",
              "23    internet   \n",
              "24    romantic   \n",
              "25      famrel   \n",
              "26    freetime   \n",
              "27       goout   \n",
              "28        Dalc   \n",
              "29        Walc   \n",
              "30      health   \n",
              "31    absences   \n",
              "32    cheating   \n",
              "33          G1   \n",
              "34          G2   \n",
              "35          G3   \n",
              "\n",
              "                                                                                                                                                                              Описание  \n",
              "0                                                                                                                                                          Уникальный номер наблюдения  \n",
              "1                                                                                                                             Предмет: 'Math' - математика, 'Por' - португальский язык  \n",
              "2                                                                                                                           Школа: 'GP' - Gabriel Pereira, 'MS' - Mousinho da Silveira  \n",
              "3                                                                                                                                           Пол студента: 'F' - женский, 'M' - мужской  \n",
              "4                                                                                                                                                                     Возраст студента  \n",
              "5                                                                                                                          Место проживания студента: 'U' - в городе, 'R' - за городом  \n",
              "6                                                                                                                              Число членов семьи: 'LE3' - если <= 3, 'GT3' - если > 3  \n",
              "7                                                                                                                       Отношения родителей: 'T' - живут вместе, 'A' - живут раздельно  \n",
              "8                                                 Образование матери: 0 - без образования, 1 - начальная школа, 2 – от 5 до 9 классов, 3 – среднее образование, 4 – высшее образование  \n",
              "9                                                   Образование отца: 0 - без образования, 1 - начальная школа, 2 – от 5 до 9 классов, 3 – среднее образование, 4 – высшее образование  \n",
              "10  Работа матери: 'teacher' - связана с преподаванием, 'health'  - связана с здравоохранением, 'services' - администрация и полиция, 'at_home' - домашняя занятость, 'other' - другое  \n",
              "11    Работа отца: 'teacher' - связана с преподаванием, 'health'  - связана с здравоохранением, 'services' - администрация и полиция, 'at_home' - домашняя занятость, 'other' - другое  \n",
              "12                                Причина, по которой студент выбрал данную школу: 'home' - рядом с домом, 'reputation' - репутация школы, 'course' - читаемые курсы, 'other' - другое  \n",
              "13                                                                                                                Опекун студента (student's guardian): 'mother', 'father' или 'other'  \n",
              "14                                                                             Время в пути от дома до школы: 1 - < 15 мин, 2 - от 15 до 30 мин, 3 - от 30 мин до 1 часа, 4 - > 1 часа  \n",
              "15                                                                        Количество часов на учебу в неделю: 1 - < 2 часов, 2 - от 2 до 5 часов, 3 - от 5 до 10 часов, 4 - > 10 часов  \n",
              "16                                                                                                                Число завалов студента по предыдущим курсам:  n если 1<=n<3, иначе 4  \n",
              "17                                                                                                                                           Дополнительная помощь в учебе: yes или no  \n",
              "18                                                                                                                           Дополнительная помощь в учебе от членов семьи: yes или no  \n",
              "19                                                                                              Платные дополнительные занятия по соответствущему курсу ('Math' или 'Por'): yes или no  \n",
              "20                                                                                                                                                   Внеучебные активности: yes или no  \n",
              "21                                                                                                                                           Ходил в детстве в детский сад: yes или no  \n",
              "22                                                                                                                                  Собирается получать высшее образование: yes или no  \n",
              "23                                                                                                                                    Есть доступ к всемирной сети из дома: yes или no  \n",
              "24                                                                                                                                      Состоит в романтических отношениях: yes или no  \n",
              "25                                                                                                                           Отношения в семье: от 1 - очень плохие, до 5 - прекрасные  \n",
              "26                                                                                                                Свободное время после занятий: от 1 - очень мало, до 5 - очень много  \n",
              "27                                                                                                        Проводит время с друзьями: от 1 - очень редко/мало, до 5 - очень часто/много  \n",
              "28                                                                                                                 Потребление алкоголя в будни: от 1 - очень мало, до 5 - очень много  \n",
              "29                                                                                                              Потребление алкоголя в выходные: от 1 - очень мало, до 5 - очень много  \n",
              "30                                                                                                                      Состояние здоровья: от 1 - очень плохое, до 5  - очень хорошее  \n",
              "31                                                                                                                              Число пропусков: сколько раз пропустил занятия в школе  \n",
              "32                                                                                                                                                  Списывает ли на тестах: yes или no  \n",
              "33                                                                                                                                             Оценка за первое полугодние: от 0 до 20  \n",
              "34                                                                                                                                              Оценка за второе полугодие: от 0 до 20  \n",
              "35                                                                                                                                                         Итоговая оценка: от 0 до 20  "
            ]
          },
          "metadata": {
            "tags": []
          },
          "execution_count": 109
        }
      ]
    },
    {
      "cell_type": "markdown",
      "metadata": {
        "id": "ANlZxeF5koOq",
        "colab_type": "text"
      },
      "source": [
        "## Часть 1. Предобработка данных"
      ]
    },
    {
      "cell_type": "markdown",
      "metadata": {
        "id": "TMsRwrgSkoOr",
        "colab_type": "text"
      },
      "source": [
        "* Выполните необходимые преобразования данных: исправление ошибок, удаление выбросов и пропусков, приведение признаков к числовому виду.  \n",
        "* Оцените значимость признаков для определения итоговой оценки за курс. Исключите из выборки незначимые на ваш взгляд признаки, обоснуйте свое решение. \n",
        "* (Опционально) Feature engineering: создайте новые признаки (значимые) на основе уже имеющихся.\n",
        "  \n",
        "**Tip:** Используйте свои наработки из Лабораторной работы №1."
      ]
    },
    {
      "cell_type": "markdown",
      "metadata": {
        "id": "ewEdroVkiA6J",
        "colab_type": "text"
      },
      "source": [
        "### Пропущенные данные"
      ]
    },
    {
      "cell_type": "code",
      "metadata": {
        "id": "q1eSDMespTiv",
        "colab_type": "code",
        "outputId": "834cd809-9740-49d0-f0c5-a1a60af9c29a",
        "colab": {
          "base_uri": "https://localhost:8080/",
          "height": 0
        }
      },
      "source": [
        "A = data.isnull()\n",
        "print('Missing values by features:', A.sum(), sep='\\n')\n",
        "print('Missing values :', A.sum().sum(),)\n",
        "\n",
        "data.drop(['cheating'], axis='columns', inplace=True)"
      ],
      "execution_count": 110,
      "outputs": [
        {
          "output_type": "stream",
          "text": [
            "Missing values by features:\n",
            "ID              0\n",
            "Subject         0\n",
            "school          0\n",
            "sex             0\n",
            "age             0\n",
            "address         0\n",
            "famsize         0\n",
            "Pstatus         0\n",
            "Medu            0\n",
            "Fedu            0\n",
            "Mjob            0\n",
            "Fjob            0\n",
            "reason          0\n",
            "guardian        0\n",
            "traveltime      0\n",
            "studytime       0\n",
            "failures        0\n",
            "schoolsup       0\n",
            "famsup          0\n",
            "paid            0\n",
            "activities      0\n",
            "nursery         0\n",
            "higher          0\n",
            "internet        0\n",
            "romantic       10\n",
            "famrel         10\n",
            "freetime        0\n",
            "goout           0\n",
            "Dalc           10\n",
            "Walc           10\n",
            "health          0\n",
            "absences        0\n",
            "cheating      700\n",
            "G1              0\n",
            "G2              0\n",
            "G3              0\n",
            "dtype: int64\n",
            "Missing values : 740\n"
          ],
          "name": "stdout"
        }
      ]
    },
    {
      "cell_type": "markdown",
      "metadata": {
        "id": "9eP1Z6vViImi",
        "colab_type": "text"
      },
      "source": [
        "таким образом видим, что колонка списовальщиков заполнена меньше всего. удалили ее."
      ]
    },
    {
      "cell_type": "code",
      "metadata": {
        "id": "ahcfA33Mscjy",
        "colab_type": "code",
        "outputId": "552206b3-c616-44ae-a3e5-0d73db6d6eeb",
        "colab": {
          "base_uri": "https://localhost:8080/",
          "height": 0
        }
      },
      "source": [
        "data.loc[(data['Dalc'].isnull()) & (data['Walc'].isnull())]"
      ],
      "execution_count": 111,
      "outputs": [
        {
          "output_type": "execute_result",
          "data": {
            "text/html": [
              "<div>\n",
              "<style scoped>\n",
              "    .dataframe tbody tr th:only-of-type {\n",
              "        vertical-align: middle;\n",
              "    }\n",
              "\n",
              "    .dataframe tbody tr th {\n",
              "        vertical-align: top;\n",
              "    }\n",
              "\n",
              "    .dataframe thead th {\n",
              "        text-align: right;\n",
              "    }\n",
              "</style>\n",
              "<table border=\"1\" class=\"dataframe\">\n",
              "  <thead>\n",
              "    <tr style=\"text-align: right;\">\n",
              "      <th></th>\n",
              "      <th>ID</th>\n",
              "      <th>Subject</th>\n",
              "      <th>school</th>\n",
              "      <th>sex</th>\n",
              "      <th>age</th>\n",
              "      <th>address</th>\n",
              "      <th>famsize</th>\n",
              "      <th>Pstatus</th>\n",
              "      <th>Medu</th>\n",
              "      <th>Fedu</th>\n",
              "      <th>Mjob</th>\n",
              "      <th>Fjob</th>\n",
              "      <th>reason</th>\n",
              "      <th>guardian</th>\n",
              "      <th>traveltime</th>\n",
              "      <th>studytime</th>\n",
              "      <th>failures</th>\n",
              "      <th>schoolsup</th>\n",
              "      <th>famsup</th>\n",
              "      <th>paid</th>\n",
              "      <th>activities</th>\n",
              "      <th>nursery</th>\n",
              "      <th>higher</th>\n",
              "      <th>internet</th>\n",
              "      <th>romantic</th>\n",
              "      <th>famrel</th>\n",
              "      <th>freetime</th>\n",
              "      <th>goout</th>\n",
              "      <th>Dalc</th>\n",
              "      <th>Walc</th>\n",
              "      <th>health</th>\n",
              "      <th>absences</th>\n",
              "      <th>G1</th>\n",
              "      <th>G2</th>\n",
              "      <th>G3</th>\n",
              "    </tr>\n",
              "  </thead>\n",
              "  <tbody>\n",
              "  </tbody>\n",
              "</table>\n",
              "</div>"
            ],
            "text/plain": [
              "Empty DataFrame\n",
              "Columns: [ID, Subject, school, sex, age, address, famsize, Pstatus, Medu, Fedu, Mjob, Fjob, reason, guardian, traveltime, studytime, failures, schoolsup, famsup, paid, activities, nursery, higher, internet, romantic, famrel, freetime, goout, Dalc, Walc, health, absences, G1, G2, G3]\n",
              "Index: []"
            ]
          },
          "metadata": {
            "tags": []
          },
          "execution_count": 111
        }
      ]
    },
    {
      "cell_type": "markdown",
      "metadata": {
        "id": "3bH_UpxtiQj5",
        "colab_type": "text"
      },
      "source": [
        "спойлер из прошлой работы: алкоголь по выходным и алкоголь в будни сильно кореллируют\n",
        "и нет строк,  там где прощенно и то и то \n",
        "поэтому поставим вместо значения компаньена"
      ]
    },
    {
      "cell_type": "code",
      "metadata": {
        "id": "x2LwWeSj5dCl",
        "colab_type": "code",
        "colab": {}
      },
      "source": [
        "data['Dalc'] = data['Dalc'].fillna(data['Walc'])\n",
        "data['Walc'] = data['Walc'].fillna(data['Dalc'])"
      ],
      "execution_count": 0,
      "outputs": []
    },
    {
      "cell_type": "markdown",
      "metadata": {
        "id": "hWvN20rUiVdg",
        "colab_type": "text"
      },
      "source": [
        "спойлер: романтические отношения не сильно влиют на оценку за семестр, поставим \n",
        "там 0, а вот отношения\n",
        "в семье напротив, поэтому если ребенок употребялет по выходным больше 1.0, \n",
        "то ставим отношения 1.0 а если 1.0 то наоборот поставим 3.0 (если бы отношения были\n",
        "прекрасные, то не было бы нужды ставить nan, согласитесь!)"
      ]
    },
    {
      "cell_type": "code",
      "metadata": {
        "id": "iIxtDW6wxKu0",
        "colab_type": "code",
        "outputId": "eb600605-4544-4dca-cb39-b01d79d0b4ad",
        "colab": {
          "base_uri": "https://localhost:8080/",
          "height": 0
        }
      },
      "source": [
        "data['romantic'] = data['romantic'].fillna('no')\n",
        "data.loc[(data['famrel'].isnull())]"
      ],
      "execution_count": 113,
      "outputs": [
        {
          "output_type": "execute_result",
          "data": {
            "text/html": [
              "<div>\n",
              "<style scoped>\n",
              "    .dataframe tbody tr th:only-of-type {\n",
              "        vertical-align: middle;\n",
              "    }\n",
              "\n",
              "    .dataframe tbody tr th {\n",
              "        vertical-align: top;\n",
              "    }\n",
              "\n",
              "    .dataframe thead th {\n",
              "        text-align: right;\n",
              "    }\n",
              "</style>\n",
              "<table border=\"1\" class=\"dataframe\">\n",
              "  <thead>\n",
              "    <tr style=\"text-align: right;\">\n",
              "      <th></th>\n",
              "      <th>ID</th>\n",
              "      <th>Subject</th>\n",
              "      <th>school</th>\n",
              "      <th>sex</th>\n",
              "      <th>age</th>\n",
              "      <th>address</th>\n",
              "      <th>famsize</th>\n",
              "      <th>Pstatus</th>\n",
              "      <th>Medu</th>\n",
              "      <th>Fedu</th>\n",
              "      <th>Mjob</th>\n",
              "      <th>Fjob</th>\n",
              "      <th>reason</th>\n",
              "      <th>guardian</th>\n",
              "      <th>traveltime</th>\n",
              "      <th>studytime</th>\n",
              "      <th>failures</th>\n",
              "      <th>schoolsup</th>\n",
              "      <th>famsup</th>\n",
              "      <th>paid</th>\n",
              "      <th>activities</th>\n",
              "      <th>nursery</th>\n",
              "      <th>higher</th>\n",
              "      <th>internet</th>\n",
              "      <th>romantic</th>\n",
              "      <th>famrel</th>\n",
              "      <th>freetime</th>\n",
              "      <th>goout</th>\n",
              "      <th>Dalc</th>\n",
              "      <th>Walc</th>\n",
              "      <th>health</th>\n",
              "      <th>absences</th>\n",
              "      <th>G1</th>\n",
              "      <th>G2</th>\n",
              "      <th>G3</th>\n",
              "    </tr>\n",
              "  </thead>\n",
              "  <tbody>\n",
              "    <tr>\n",
              "      <th>85</th>\n",
              "      <td>164833</td>\n",
              "      <td>Por</td>\n",
              "      <td>GP</td>\n",
              "      <td>F</td>\n",
              "      <td>16</td>\n",
              "      <td>U</td>\n",
              "      <td>GT3</td>\n",
              "      <td>T</td>\n",
              "      <td>2</td>\n",
              "      <td>2</td>\n",
              "      <td>services</td>\n",
              "      <td>other</td>\n",
              "      <td>reputation</td>\n",
              "      <td>mother</td>\n",
              "      <td>2</td>\n",
              "      <td>2</td>\n",
              "      <td>0</td>\n",
              "      <td>no</td>\n",
              "      <td>no</td>\n",
              "      <td>no</td>\n",
              "      <td>yes</td>\n",
              "      <td>no</td>\n",
              "      <td>yes</td>\n",
              "      <td>yes</td>\n",
              "      <td>no</td>\n",
              "      <td>NaN</td>\n",
              "      <td>4</td>\n",
              "      <td>4</td>\n",
              "      <td>1.0</td>\n",
              "      <td>4.0</td>\n",
              "      <td>5</td>\n",
              "      <td>0</td>\n",
              "      <td>13</td>\n",
              "      <td>12</td>\n",
              "      <td>14</td>\n",
              "    </tr>\n",
              "    <tr>\n",
              "      <th>116</th>\n",
              "      <td>189712</td>\n",
              "      <td>Math</td>\n",
              "      <td>GP</td>\n",
              "      <td>M</td>\n",
              "      <td>16</td>\n",
              "      <td>U</td>\n",
              "      <td>LE3</td>\n",
              "      <td>A</td>\n",
              "      <td>3</td>\n",
              "      <td>4</td>\n",
              "      <td>services</td>\n",
              "      <td>other</td>\n",
              "      <td>home</td>\n",
              "      <td>mother</td>\n",
              "      <td>1</td>\n",
              "      <td>2</td>\n",
              "      <td>0</td>\n",
              "      <td>yes</td>\n",
              "      <td>yes</td>\n",
              "      <td>no</td>\n",
              "      <td>yes</td>\n",
              "      <td>yes</td>\n",
              "      <td>yes</td>\n",
              "      <td>yes</td>\n",
              "      <td>no</td>\n",
              "      <td>NaN</td>\n",
              "      <td>3</td>\n",
              "      <td>3</td>\n",
              "      <td>1.0</td>\n",
              "      <td>1.0</td>\n",
              "      <td>5</td>\n",
              "      <td>4</td>\n",
              "      <td>11</td>\n",
              "      <td>11</td>\n",
              "      <td>11</td>\n",
              "    </tr>\n",
              "    <tr>\n",
              "      <th>146</th>\n",
              "      <td>212614</td>\n",
              "      <td>Math</td>\n",
              "      <td>GP</td>\n",
              "      <td>F</td>\n",
              "      <td>19</td>\n",
              "      <td>U</td>\n",
              "      <td>LE3</td>\n",
              "      <td>T</td>\n",
              "      <td>1</td>\n",
              "      <td>1</td>\n",
              "      <td>at_home</td>\n",
              "      <td>other</td>\n",
              "      <td>reputation</td>\n",
              "      <td>other</td>\n",
              "      <td>1</td>\n",
              "      <td>2</td>\n",
              "      <td>1</td>\n",
              "      <td>yes</td>\n",
              "      <td>yes</td>\n",
              "      <td>no</td>\n",
              "      <td>yes</td>\n",
              "      <td>no</td>\n",
              "      <td>yes</td>\n",
              "      <td>yes</td>\n",
              "      <td>no</td>\n",
              "      <td>NaN</td>\n",
              "      <td>4</td>\n",
              "      <td>3</td>\n",
              "      <td>1.0</td>\n",
              "      <td>3.0</td>\n",
              "      <td>3</td>\n",
              "      <td>18</td>\n",
              "      <td>12</td>\n",
              "      <td>10</td>\n",
              "      <td>10</td>\n",
              "    </tr>\n",
              "    <tr>\n",
              "      <th>159</th>\n",
              "      <td>224690</td>\n",
              "      <td>Por</td>\n",
              "      <td>GP</td>\n",
              "      <td>M</td>\n",
              "      <td>17</td>\n",
              "      <td>U</td>\n",
              "      <td>LE3</td>\n",
              "      <td>T</td>\n",
              "      <td>2</td>\n",
              "      <td>3</td>\n",
              "      <td>services</td>\n",
              "      <td>services</td>\n",
              "      <td>reputation</td>\n",
              "      <td>father</td>\n",
              "      <td>1</td>\n",
              "      <td>2</td>\n",
              "      <td>0</td>\n",
              "      <td>no</td>\n",
              "      <td>yes</td>\n",
              "      <td>no</td>\n",
              "      <td>no</td>\n",
              "      <td>no</td>\n",
              "      <td>yes</td>\n",
              "      <td>yes</td>\n",
              "      <td>no</td>\n",
              "      <td>NaN</td>\n",
              "      <td>3</td>\n",
              "      <td>3</td>\n",
              "      <td>1.0</td>\n",
              "      <td>3.0</td>\n",
              "      <td>3</td>\n",
              "      <td>0</td>\n",
              "      <td>10</td>\n",
              "      <td>11</td>\n",
              "      <td>11</td>\n",
              "    </tr>\n",
              "    <tr>\n",
              "      <th>398</th>\n",
              "      <td>434990</td>\n",
              "      <td>Por</td>\n",
              "      <td>GP</td>\n",
              "      <td>M</td>\n",
              "      <td>16</td>\n",
              "      <td>U</td>\n",
              "      <td>GT3</td>\n",
              "      <td>T</td>\n",
              "      <td>4</td>\n",
              "      <td>4</td>\n",
              "      <td>health</td>\n",
              "      <td>other</td>\n",
              "      <td>course</td>\n",
              "      <td>mother</td>\n",
              "      <td>1</td>\n",
              "      <td>1</td>\n",
              "      <td>0</td>\n",
              "      <td>no</td>\n",
              "      <td>yes</td>\n",
              "      <td>no</td>\n",
              "      <td>yes</td>\n",
              "      <td>yes</td>\n",
              "      <td>yes</td>\n",
              "      <td>yes</td>\n",
              "      <td>no</td>\n",
              "      <td>NaN</td>\n",
              "      <td>4</td>\n",
              "      <td>4</td>\n",
              "      <td>1.0</td>\n",
              "      <td>4.0</td>\n",
              "      <td>5</td>\n",
              "      <td>4</td>\n",
              "      <td>12</td>\n",
              "      <td>13</td>\n",
              "      <td>13</td>\n",
              "    </tr>\n",
              "    <tr>\n",
              "      <th>434</th>\n",
              "      <td>469435</td>\n",
              "      <td>Math</td>\n",
              "      <td>MS</td>\n",
              "      <td>M</td>\n",
              "      <td>19</td>\n",
              "      <td>R</td>\n",
              "      <td>GT3</td>\n",
              "      <td>T</td>\n",
              "      <td>1</td>\n",
              "      <td>1</td>\n",
              "      <td>other</td>\n",
              "      <td>other</td>\n",
              "      <td>home</td>\n",
              "      <td>other</td>\n",
              "      <td>3</td>\n",
              "      <td>1</td>\n",
              "      <td>1</td>\n",
              "      <td>no</td>\n",
              "      <td>yes</td>\n",
              "      <td>no</td>\n",
              "      <td>no</td>\n",
              "      <td>yes</td>\n",
              "      <td>yes</td>\n",
              "      <td>yes</td>\n",
              "      <td>no</td>\n",
              "      <td>NaN</td>\n",
              "      <td>4</td>\n",
              "      <td>4</td>\n",
              "      <td>3.0</td>\n",
              "      <td>3.0</td>\n",
              "      <td>5</td>\n",
              "      <td>4</td>\n",
              "      <td>8</td>\n",
              "      <td>8</td>\n",
              "      <td>8</td>\n",
              "    </tr>\n",
              "    <tr>\n",
              "      <th>455</th>\n",
              "      <td>486246</td>\n",
              "      <td>Por</td>\n",
              "      <td>GP</td>\n",
              "      <td>F</td>\n",
              "      <td>15</td>\n",
              "      <td>U</td>\n",
              "      <td>GT3</td>\n",
              "      <td>T</td>\n",
              "      <td>4</td>\n",
              "      <td>4</td>\n",
              "      <td>services</td>\n",
              "      <td>teacher</td>\n",
              "      <td>other</td>\n",
              "      <td>father</td>\n",
              "      <td>1</td>\n",
              "      <td>2</td>\n",
              "      <td>0</td>\n",
              "      <td>yes</td>\n",
              "      <td>yes</td>\n",
              "      <td>no</td>\n",
              "      <td>yes</td>\n",
              "      <td>no</td>\n",
              "      <td>yes</td>\n",
              "      <td>yes</td>\n",
              "      <td>no</td>\n",
              "      <td>NaN</td>\n",
              "      <td>4</td>\n",
              "      <td>4</td>\n",
              "      <td>1.0</td>\n",
              "      <td>1.0</td>\n",
              "      <td>3</td>\n",
              "      <td>2</td>\n",
              "      <td>13</td>\n",
              "      <td>12</td>\n",
              "      <td>12</td>\n",
              "    </tr>\n",
              "    <tr>\n",
              "      <th>478</th>\n",
              "      <td>504919</td>\n",
              "      <td>Por</td>\n",
              "      <td>GP</td>\n",
              "      <td>F</td>\n",
              "      <td>19</td>\n",
              "      <td>U</td>\n",
              "      <td>LE3</td>\n",
              "      <td>A</td>\n",
              "      <td>2</td>\n",
              "      <td>3</td>\n",
              "      <td>at_home</td>\n",
              "      <td>other</td>\n",
              "      <td>home</td>\n",
              "      <td>other</td>\n",
              "      <td>2</td>\n",
              "      <td>1</td>\n",
              "      <td>1</td>\n",
              "      <td>no</td>\n",
              "      <td>no</td>\n",
              "      <td>no</td>\n",
              "      <td>no</td>\n",
              "      <td>yes</td>\n",
              "      <td>no</td>\n",
              "      <td>yes</td>\n",
              "      <td>no</td>\n",
              "      <td>NaN</td>\n",
              "      <td>2</td>\n",
              "      <td>3</td>\n",
              "      <td>3.0</td>\n",
              "      <td>4.0</td>\n",
              "      <td>5</td>\n",
              "      <td>16</td>\n",
              "      <td>10</td>\n",
              "      <td>11</td>\n",
              "      <td>11</td>\n",
              "    </tr>\n",
              "    <tr>\n",
              "      <th>602</th>\n",
              "      <td>624719</td>\n",
              "      <td>Por</td>\n",
              "      <td>GP</td>\n",
              "      <td>M</td>\n",
              "      <td>18</td>\n",
              "      <td>R</td>\n",
              "      <td>LE3</td>\n",
              "      <td>T</td>\n",
              "      <td>3</td>\n",
              "      <td>2</td>\n",
              "      <td>services</td>\n",
              "      <td>other</td>\n",
              "      <td>reputation</td>\n",
              "      <td>mother</td>\n",
              "      <td>2</td>\n",
              "      <td>3</td>\n",
              "      <td>0</td>\n",
              "      <td>no</td>\n",
              "      <td>yes</td>\n",
              "      <td>no</td>\n",
              "      <td>yes</td>\n",
              "      <td>yes</td>\n",
              "      <td>yes</td>\n",
              "      <td>yes</td>\n",
              "      <td>no</td>\n",
              "      <td>NaN</td>\n",
              "      <td>4</td>\n",
              "      <td>2</td>\n",
              "      <td>1.0</td>\n",
              "      <td>1.0</td>\n",
              "      <td>4</td>\n",
              "      <td>0</td>\n",
              "      <td>14</td>\n",
              "      <td>15</td>\n",
              "      <td>15</td>\n",
              "    </tr>\n",
              "    <tr>\n",
              "      <th>820</th>\n",
              "      <td>807503</td>\n",
              "      <td>Math</td>\n",
              "      <td>GP</td>\n",
              "      <td>M</td>\n",
              "      <td>15</td>\n",
              "      <td>U</td>\n",
              "      <td>GT3</td>\n",
              "      <td>T</td>\n",
              "      <td>4</td>\n",
              "      <td>3</td>\n",
              "      <td>teacher</td>\n",
              "      <td>other</td>\n",
              "      <td>reputation</td>\n",
              "      <td>mother</td>\n",
              "      <td>1</td>\n",
              "      <td>2</td>\n",
              "      <td>0</td>\n",
              "      <td>no</td>\n",
              "      <td>no</td>\n",
              "      <td>no</td>\n",
              "      <td>no</td>\n",
              "      <td>yes</td>\n",
              "      <td>yes</td>\n",
              "      <td>yes</td>\n",
              "      <td>no</td>\n",
              "      <td>NaN</td>\n",
              "      <td>4</td>\n",
              "      <td>1</td>\n",
              "      <td>1.0</td>\n",
              "      <td>1.0</td>\n",
              "      <td>1</td>\n",
              "      <td>0</td>\n",
              "      <td>13</td>\n",
              "      <td>14</td>\n",
              "      <td>15</td>\n",
              "    </tr>\n",
              "  </tbody>\n",
              "</table>\n",
              "</div>"
            ],
            "text/plain": [
              "         ID Subject school sex  age address famsize Pstatus Medu Fedu  \\\n",
              "85   164833     Por     GP   F   16       U     GT3       T    2    2   \n",
              "116  189712    Math     GP   M   16       U     LE3       A    3    4   \n",
              "146  212614    Math     GP   F   19       U     LE3       T    1    1   \n",
              "159  224690     Por     GP   M   17       U     LE3       T    2    3   \n",
              "398  434990     Por     GP   M   16       U     GT3       T    4    4   \n",
              "434  469435    Math     MS   M   19       R     GT3       T    1    1   \n",
              "455  486246     Por     GP   F   15       U     GT3       T    4    4   \n",
              "478  504919     Por     GP   F   19       U     LE3       A    2    3   \n",
              "602  624719     Por     GP   M   18       R     LE3       T    3    2   \n",
              "820  807503    Math     GP   M   15       U     GT3       T    4    3   \n",
              "\n",
              "         Mjob      Fjob      reason guardian  traveltime  studytime  failures  \\\n",
              "85   services     other  reputation   mother           2          2         0   \n",
              "116  services     other        home   mother           1          2         0   \n",
              "146   at_home     other  reputation    other           1          2         1   \n",
              "159  services  services  reputation   father           1          2         0   \n",
              "398    health     other      course   mother           1          1         0   \n",
              "434     other     other        home    other           3          1         1   \n",
              "455  services   teacher       other   father           1          2         0   \n",
              "478   at_home     other        home    other           2          1         1   \n",
              "602  services     other  reputation   mother           2          3         0   \n",
              "820   teacher     other  reputation   mother           1          2         0   \n",
              "\n",
              "    schoolsup famsup paid activities nursery higher internet romantic  famrel  \\\n",
              "85         no     no   no        yes      no    yes      yes       no     NaN   \n",
              "116       yes    yes   no        yes     yes    yes      yes       no     NaN   \n",
              "146       yes    yes   no        yes      no    yes      yes       no     NaN   \n",
              "159        no    yes   no         no      no    yes      yes       no     NaN   \n",
              "398        no    yes   no        yes     yes    yes      yes       no     NaN   \n",
              "434        no    yes   no         no     yes    yes      yes       no     NaN   \n",
              "455       yes    yes   no        yes      no    yes      yes       no     NaN   \n",
              "478        no     no   no         no     yes     no      yes       no     NaN   \n",
              "602        no    yes   no        yes     yes    yes      yes       no     NaN   \n",
              "820        no     no   no         no     yes    yes      yes       no     NaN   \n",
              "\n",
              "     freetime  goout  Dalc  Walc  health  absences  G1  G2  G3  \n",
              "85          4      4   1.0   4.0       5         0  13  12  14  \n",
              "116         3      3   1.0   1.0       5         4  11  11  11  \n",
              "146         4      3   1.0   3.0       3        18  12  10  10  \n",
              "159         3      3   1.0   3.0       3         0  10  11  11  \n",
              "398         4      4   1.0   4.0       5         4  12  13  13  \n",
              "434         4      4   3.0   3.0       5         4   8   8   8  \n",
              "455         4      4   1.0   1.0       3         2  13  12  12  \n",
              "478         2      3   3.0   4.0       5        16  10  11  11  \n",
              "602         4      2   1.0   1.0       4         0  14  15  15  \n",
              "820         4      1   1.0   1.0       1         0  13  14  15  "
            ]
          },
          "metadata": {
            "tags": []
          },
          "execution_count": 113
        }
      ]
    },
    {
      "cell_type": "markdown",
      "metadata": {
        "id": "3KVTcmZ9ibYY",
        "colab_type": "text"
      },
      "source": [
        "можно вернуться на код с проверкой нулевых значений и посмотреть что пропущенных значений нет\n",
        "а можно поверить мне на слово"
      ]
    },
    {
      "cell_type": "code",
      "metadata": {
        "id": "CeRkbNYmjkZV",
        "colab_type": "code",
        "outputId": "0665d074-a7e4-4e3f-989a-01bbe9f61e95",
        "colab": {
          "base_uri": "https://localhost:8080/",
          "height": 0
        }
      },
      "source": [
        "data['famrel'].loc[(data['Walc'] > 1)] = data['famrel'].loc[(data['Walc'] > 1)].fillna(3.0)\n",
        "data['famrel'].loc[(data['Walc'] == 1)] = data['famrel'].loc[(data['Walc'] == 1)].fillna(3.0)\n",
        "data.loc[(data['famrel'].isnull())]"
      ],
      "execution_count": 114,
      "outputs": [
        {
          "output_type": "stream",
          "text": [
            "/usr/local/lib/python3.6/dist-packages/pandas/core/indexing.py:671: SettingWithCopyWarning: \n",
            "A value is trying to be set on a copy of a slice from a DataFrame\n",
            "\n",
            "See the caveats in the documentation: https://pandas.pydata.org/pandas-docs/stable/user_guide/indexing.html#returning-a-view-versus-a-copy\n",
            "  self._setitem_with_indexer(indexer, value)\n"
          ],
          "name": "stderr"
        },
        {
          "output_type": "execute_result",
          "data": {
            "text/html": [
              "<div>\n",
              "<style scoped>\n",
              "    .dataframe tbody tr th:only-of-type {\n",
              "        vertical-align: middle;\n",
              "    }\n",
              "\n",
              "    .dataframe tbody tr th {\n",
              "        vertical-align: top;\n",
              "    }\n",
              "\n",
              "    .dataframe thead th {\n",
              "        text-align: right;\n",
              "    }\n",
              "</style>\n",
              "<table border=\"1\" class=\"dataframe\">\n",
              "  <thead>\n",
              "    <tr style=\"text-align: right;\">\n",
              "      <th></th>\n",
              "      <th>ID</th>\n",
              "      <th>Subject</th>\n",
              "      <th>school</th>\n",
              "      <th>sex</th>\n",
              "      <th>age</th>\n",
              "      <th>address</th>\n",
              "      <th>famsize</th>\n",
              "      <th>Pstatus</th>\n",
              "      <th>Medu</th>\n",
              "      <th>Fedu</th>\n",
              "      <th>Mjob</th>\n",
              "      <th>Fjob</th>\n",
              "      <th>reason</th>\n",
              "      <th>guardian</th>\n",
              "      <th>traveltime</th>\n",
              "      <th>studytime</th>\n",
              "      <th>failures</th>\n",
              "      <th>schoolsup</th>\n",
              "      <th>famsup</th>\n",
              "      <th>paid</th>\n",
              "      <th>activities</th>\n",
              "      <th>nursery</th>\n",
              "      <th>higher</th>\n",
              "      <th>internet</th>\n",
              "      <th>romantic</th>\n",
              "      <th>famrel</th>\n",
              "      <th>freetime</th>\n",
              "      <th>goout</th>\n",
              "      <th>Dalc</th>\n",
              "      <th>Walc</th>\n",
              "      <th>health</th>\n",
              "      <th>absences</th>\n",
              "      <th>G1</th>\n",
              "      <th>G2</th>\n",
              "      <th>G3</th>\n",
              "    </tr>\n",
              "  </thead>\n",
              "  <tbody>\n",
              "  </tbody>\n",
              "</table>\n",
              "</div>"
            ],
            "text/plain": [
              "Empty DataFrame\n",
              "Columns: [ID, Subject, school, sex, age, address, famsize, Pstatus, Medu, Fedu, Mjob, Fjob, reason, guardian, traveltime, studytime, failures, schoolsup, famsup, paid, activities, nursery, higher, internet, romantic, famrel, freetime, goout, Dalc, Walc, health, absences, G1, G2, G3]\n",
              "Index: []"
            ]
          },
          "metadata": {
            "tags": []
          },
          "execution_count": 114
        }
      ]
    },
    {
      "cell_type": "markdown",
      "metadata": {
        "id": "Ng1n87l2imFo",
        "colab_type": "text"
      },
      "source": [
        "### Из категориальных в численные"
      ]
    },
    {
      "cell_type": "markdown",
      "metadata": {
        "id": "gjOdGZ_xigzA",
        "colab_type": "text"
      },
      "source": [
        "я буду руками изменять значения категориальных признаков на числовые, чтобы потом\n",
        "знать какая цифра что обозначает \n",
        "Также, я ставила наибольшую цифру таму параметру, который вероятно имеют ученики \n",
        "с наибольшим баллом"
      ]
    },
    {
      "cell_type": "code",
      "metadata": {
        "id": "0c1Ti3vOADC0",
        "colab_type": "code",
        "outputId": "ff4d3b1a-200d-4e3d-aa1a-a0ee150119cb",
        "colab": {
          "base_uri": "https://localhost:8080/",
          "height": 419
        }
      },
      "source": [
        "list_of_names = {'Subject': {'Por': 1, 'Math': 0}, 'school': {'GP': 1, 'MS':0},\n",
        "                 'sex': {'F': 1, 'M': 0, 'm': 0}, 'address': {'U': 1, 'R': 0}, 'famsize': \n",
        "                 {'GT3': 0, 'LE3': 1}, 'Pstatus': {'A': 0, 'T': 1, 't': 1}, 'Mjob': \n",
        "                 {'services': 2, 'other': 0, 'health': 1, 'at_home': 3, 'teacher': 4, 'at-home':3}, \n",
        "                 'Fjob': {'services': 2, 'other': 0, 'health': 1, 'at_home': 3, 'at-home':3,\n",
        "                          'teacher': 4}, 'reason': {'course': 2, 'home': 0, 'reputation': 1, 'other': 0},\n",
        "                 'guardian': {'father': 1, 'mother': 2, 'other':0, 'futher': 1}, 'schoolsup': \n",
        "                 {'no': 0, 'yes': 1}, 'famsup': {'no': 0, 'yes': 1}, 'paid':\n",
        "                 {'no': 1, 'yes': 0}, 'activities': {'no': 0, 'yes': 1}, 'nursery':\n",
        "                 {'no': 0, 'yes': 1}, 'higher': {'no': 0, 'yes': 1}, 'internet':\n",
        "                 {'no': 0, 'yes': 1}, 'romantic': {'no': 1, 'yes': 0}, 'Medu': {\n",
        "                  '0':0,'1':1, '2':2, '3':3, '4':4, 'o': 0}, 'Fedu': { '0':1,'1':1, '2':2, '3':3, '4':4, 'o': 0}\n",
        "                 }\n",
        "for i in data.columns.tolist():\n",
        "  if i in list_of_names:\n",
        "    data[i] = data[i].map(list_of_names[i])\n",
        "data"
      ],
      "execution_count": 115,
      "outputs": [
        {
          "output_type": "execute_result",
          "data": {
            "text/html": [
              "<div>\n",
              "<style scoped>\n",
              "    .dataframe tbody tr th:only-of-type {\n",
              "        vertical-align: middle;\n",
              "    }\n",
              "\n",
              "    .dataframe tbody tr th {\n",
              "        vertical-align: top;\n",
              "    }\n",
              "\n",
              "    .dataframe thead th {\n",
              "        text-align: right;\n",
              "    }\n",
              "</style>\n",
              "<table border=\"1\" class=\"dataframe\">\n",
              "  <thead>\n",
              "    <tr style=\"text-align: right;\">\n",
              "      <th></th>\n",
              "      <th>ID</th>\n",
              "      <th>Subject</th>\n",
              "      <th>school</th>\n",
              "      <th>sex</th>\n",
              "      <th>age</th>\n",
              "      <th>address</th>\n",
              "      <th>famsize</th>\n",
              "      <th>Pstatus</th>\n",
              "      <th>Medu</th>\n",
              "      <th>Fedu</th>\n",
              "      <th>Mjob</th>\n",
              "      <th>Fjob</th>\n",
              "      <th>reason</th>\n",
              "      <th>guardian</th>\n",
              "      <th>traveltime</th>\n",
              "      <th>studytime</th>\n",
              "      <th>failures</th>\n",
              "      <th>schoolsup</th>\n",
              "      <th>famsup</th>\n",
              "      <th>paid</th>\n",
              "      <th>activities</th>\n",
              "      <th>nursery</th>\n",
              "      <th>higher</th>\n",
              "      <th>internet</th>\n",
              "      <th>romantic</th>\n",
              "      <th>famrel</th>\n",
              "      <th>freetime</th>\n",
              "      <th>goout</th>\n",
              "      <th>Dalc</th>\n",
              "      <th>Walc</th>\n",
              "      <th>health</th>\n",
              "      <th>absences</th>\n",
              "      <th>G1</th>\n",
              "      <th>G2</th>\n",
              "      <th>G3</th>\n",
              "    </tr>\n",
              "  </thead>\n",
              "  <tbody>\n",
              "    <tr>\n",
              "      <th>0</th>\n",
              "      <td>100097</td>\n",
              "      <td>1</td>\n",
              "      <td>1</td>\n",
              "      <td>1</td>\n",
              "      <td>16</td>\n",
              "      <td>1</td>\n",
              "      <td>0</td>\n",
              "      <td>0</td>\n",
              "      <td>3</td>\n",
              "      <td>4</td>\n",
              "      <td>2</td>\n",
              "      <td>0</td>\n",
              "      <td>2</td>\n",
              "      <td>1</td>\n",
              "      <td>1</td>\n",
              "      <td>1</td>\n",
              "      <td>0</td>\n",
              "      <td>0</td>\n",
              "      <td>0</td>\n",
              "      <td>1</td>\n",
              "      <td>0</td>\n",
              "      <td>1</td>\n",
              "      <td>1</td>\n",
              "      <td>1</td>\n",
              "      <td>1</td>\n",
              "      <td>3.0</td>\n",
              "      <td>2</td>\n",
              "      <td>1</td>\n",
              "      <td>1.0</td>\n",
              "      <td>4.0</td>\n",
              "      <td>5</td>\n",
              "      <td>12</td>\n",
              "      <td>15</td>\n",
              "      <td>13</td>\n",
              "      <td>14</td>\n",
              "    </tr>\n",
              "    <tr>\n",
              "      <th>1</th>\n",
              "      <td>101021</td>\n",
              "      <td>1</td>\n",
              "      <td>1</td>\n",
              "      <td>1</td>\n",
              "      <td>17</td>\n",
              "      <td>1</td>\n",
              "      <td>0</td>\n",
              "      <td>1</td>\n",
              "      <td>3</td>\n",
              "      <td>2</td>\n",
              "      <td>0</td>\n",
              "      <td>0</td>\n",
              "      <td>2</td>\n",
              "      <td>2</td>\n",
              "      <td>1</td>\n",
              "      <td>2</td>\n",
              "      <td>0</td>\n",
              "      <td>0</td>\n",
              "      <td>0</td>\n",
              "      <td>1</td>\n",
              "      <td>1</td>\n",
              "      <td>0</td>\n",
              "      <td>1</td>\n",
              "      <td>1</td>\n",
              "      <td>1</td>\n",
              "      <td>5.0</td>\n",
              "      <td>3</td>\n",
              "      <td>4</td>\n",
              "      <td>1.0</td>\n",
              "      <td>3.0</td>\n",
              "      <td>3</td>\n",
              "      <td>2</td>\n",
              "      <td>17</td>\n",
              "      <td>18</td>\n",
              "      <td>17</td>\n",
              "    </tr>\n",
              "    <tr>\n",
              "      <th>2</th>\n",
              "      <td>102965</td>\n",
              "      <td>1</td>\n",
              "      <td>1</td>\n",
              "      <td>0</td>\n",
              "      <td>16</td>\n",
              "      <td>1</td>\n",
              "      <td>1</td>\n",
              "      <td>1</td>\n",
              "      <td>1</td>\n",
              "      <td>2</td>\n",
              "      <td>1</td>\n",
              "      <td>2</td>\n",
              "      <td>2</td>\n",
              "      <td>2</td>\n",
              "      <td>2</td>\n",
              "      <td>1</td>\n",
              "      <td>2</td>\n",
              "      <td>0</td>\n",
              "      <td>0</td>\n",
              "      <td>1</td>\n",
              "      <td>0</td>\n",
              "      <td>0</td>\n",
              "      <td>1</td>\n",
              "      <td>1</td>\n",
              "      <td>1</td>\n",
              "      <td>4.0</td>\n",
              "      <td>4</td>\n",
              "      <td>5</td>\n",
              "      <td>3.0</td>\n",
              "      <td>5.0</td>\n",
              "      <td>5</td>\n",
              "      <td>0</td>\n",
              "      <td>9</td>\n",
              "      <td>8</td>\n",
              "      <td>10</td>\n",
              "    </tr>\n",
              "    <tr>\n",
              "      <th>3</th>\n",
              "      <td>102989</td>\n",
              "      <td>1</td>\n",
              "      <td>0</td>\n",
              "      <td>0</td>\n",
              "      <td>17</td>\n",
              "      <td>1</td>\n",
              "      <td>0</td>\n",
              "      <td>1</td>\n",
              "      <td>2</td>\n",
              "      <td>3</td>\n",
              "      <td>0</td>\n",
              "      <td>2</td>\n",
              "      <td>0</td>\n",
              "      <td>1</td>\n",
              "      <td>2</td>\n",
              "      <td>2</td>\n",
              "      <td>0</td>\n",
              "      <td>0</td>\n",
              "      <td>0</td>\n",
              "      <td>1</td>\n",
              "      <td>1</td>\n",
              "      <td>1</td>\n",
              "      <td>1</td>\n",
              "      <td>1</td>\n",
              "      <td>1</td>\n",
              "      <td>4.0</td>\n",
              "      <td>4</td>\n",
              "      <td>3</td>\n",
              "      <td>1.0</td>\n",
              "      <td>1.0</td>\n",
              "      <td>3</td>\n",
              "      <td>4</td>\n",
              "      <td>14</td>\n",
              "      <td>15</td>\n",
              "      <td>16</td>\n",
              "    </tr>\n",
              "    <tr>\n",
              "      <th>4</th>\n",
              "      <td>103131</td>\n",
              "      <td>1</td>\n",
              "      <td>1</td>\n",
              "      <td>1</td>\n",
              "      <td>16</td>\n",
              "      <td>1</td>\n",
              "      <td>0</td>\n",
              "      <td>1</td>\n",
              "      <td>1</td>\n",
              "      <td>1</td>\n",
              "      <td>3</td>\n",
              "      <td>0</td>\n",
              "      <td>0</td>\n",
              "      <td>2</td>\n",
              "      <td>2</td>\n",
              "      <td>1</td>\n",
              "      <td>0</td>\n",
              "      <td>0</td>\n",
              "      <td>1</td>\n",
              "      <td>1</td>\n",
              "      <td>0</td>\n",
              "      <td>1</td>\n",
              "      <td>1</td>\n",
              "      <td>0</td>\n",
              "      <td>1</td>\n",
              "      <td>4.0</td>\n",
              "      <td>3</td>\n",
              "      <td>2</td>\n",
              "      <td>1.0</td>\n",
              "      <td>4.0</td>\n",
              "      <td>5</td>\n",
              "      <td>2</td>\n",
              "      <td>12</td>\n",
              "      <td>13</td>\n",
              "      <td>13</td>\n",
              "    </tr>\n",
              "    <tr>\n",
              "      <th>...</th>\n",
              "      <td>...</td>\n",
              "      <td>...</td>\n",
              "      <td>...</td>\n",
              "      <td>...</td>\n",
              "      <td>...</td>\n",
              "      <td>...</td>\n",
              "      <td>...</td>\n",
              "      <td>...</td>\n",
              "      <td>...</td>\n",
              "      <td>...</td>\n",
              "      <td>...</td>\n",
              "      <td>...</td>\n",
              "      <td>...</td>\n",
              "      <td>...</td>\n",
              "      <td>...</td>\n",
              "      <td>...</td>\n",
              "      <td>...</td>\n",
              "      <td>...</td>\n",
              "      <td>...</td>\n",
              "      <td>...</td>\n",
              "      <td>...</td>\n",
              "      <td>...</td>\n",
              "      <td>...</td>\n",
              "      <td>...</td>\n",
              "      <td>...</td>\n",
              "      <td>...</td>\n",
              "      <td>...</td>\n",
              "      <td>...</td>\n",
              "      <td>...</td>\n",
              "      <td>...</td>\n",
              "      <td>...</td>\n",
              "      <td>...</td>\n",
              "      <td>...</td>\n",
              "      <td>...</td>\n",
              "      <td>...</td>\n",
              "    </tr>\n",
              "    <tr>\n",
              "      <th>1039</th>\n",
              "      <td>997832</td>\n",
              "      <td>0</td>\n",
              "      <td>1</td>\n",
              "      <td>1</td>\n",
              "      <td>15</td>\n",
              "      <td>0</td>\n",
              "      <td>0</td>\n",
              "      <td>1</td>\n",
              "      <td>3</td>\n",
              "      <td>3</td>\n",
              "      <td>2</td>\n",
              "      <td>2</td>\n",
              "      <td>1</td>\n",
              "      <td>0</td>\n",
              "      <td>2</td>\n",
              "      <td>3</td>\n",
              "      <td>2</td>\n",
              "      <td>0</td>\n",
              "      <td>1</td>\n",
              "      <td>0</td>\n",
              "      <td>1</td>\n",
              "      <td>1</td>\n",
              "      <td>1</td>\n",
              "      <td>1</td>\n",
              "      <td>0</td>\n",
              "      <td>4.0</td>\n",
              "      <td>2</td>\n",
              "      <td>1</td>\n",
              "      <td>2.0</td>\n",
              "      <td>3.0</td>\n",
              "      <td>3</td>\n",
              "      <td>8</td>\n",
              "      <td>10</td>\n",
              "      <td>10</td>\n",
              "      <td>10</td>\n",
              "    </tr>\n",
              "    <tr>\n",
              "      <th>1040</th>\n",
              "      <td>997897</td>\n",
              "      <td>1</td>\n",
              "      <td>1</td>\n",
              "      <td>0</td>\n",
              "      <td>15</td>\n",
              "      <td>0</td>\n",
              "      <td>0</td>\n",
              "      <td>1</td>\n",
              "      <td>2</td>\n",
              "      <td>1</td>\n",
              "      <td>1</td>\n",
              "      <td>2</td>\n",
              "      <td>1</td>\n",
              "      <td>2</td>\n",
              "      <td>1</td>\n",
              "      <td>2</td>\n",
              "      <td>0</td>\n",
              "      <td>0</td>\n",
              "      <td>0</td>\n",
              "      <td>1</td>\n",
              "      <td>1</td>\n",
              "      <td>1</td>\n",
              "      <td>1</td>\n",
              "      <td>1</td>\n",
              "      <td>0</td>\n",
              "      <td>5.0</td>\n",
              "      <td>4</td>\n",
              "      <td>2</td>\n",
              "      <td>1.0</td>\n",
              "      <td>1.0</td>\n",
              "      <td>5</td>\n",
              "      <td>4</td>\n",
              "      <td>10</td>\n",
              "      <td>9</td>\n",
              "      <td>10</td>\n",
              "    </tr>\n",
              "    <tr>\n",
              "      <th>1041</th>\n",
              "      <td>998425</td>\n",
              "      <td>1</td>\n",
              "      <td>0</td>\n",
              "      <td>1</td>\n",
              "      <td>16</td>\n",
              "      <td>0</td>\n",
              "      <td>1</td>\n",
              "      <td>1</td>\n",
              "      <td>1</td>\n",
              "      <td>1</td>\n",
              "      <td>3</td>\n",
              "      <td>0</td>\n",
              "      <td>2</td>\n",
              "      <td>1</td>\n",
              "      <td>3</td>\n",
              "      <td>2</td>\n",
              "      <td>0</td>\n",
              "      <td>0</td>\n",
              "      <td>1</td>\n",
              "      <td>1</td>\n",
              "      <td>0</td>\n",
              "      <td>1</td>\n",
              "      <td>1</td>\n",
              "      <td>0</td>\n",
              "      <td>1</td>\n",
              "      <td>5.0</td>\n",
              "      <td>3</td>\n",
              "      <td>2</td>\n",
              "      <td>1.0</td>\n",
              "      <td>1.0</td>\n",
              "      <td>1</td>\n",
              "      <td>0</td>\n",
              "      <td>16</td>\n",
              "      <td>17</td>\n",
              "      <td>18</td>\n",
              "    </tr>\n",
              "    <tr>\n",
              "      <th>1042</th>\n",
              "      <td>999143</td>\n",
              "      <td>1</td>\n",
              "      <td>1</td>\n",
              "      <td>0</td>\n",
              "      <td>16</td>\n",
              "      <td>1</td>\n",
              "      <td>0</td>\n",
              "      <td>1</td>\n",
              "      <td>2</td>\n",
              "      <td>1</td>\n",
              "      <td>3</td>\n",
              "      <td>0</td>\n",
              "      <td>2</td>\n",
              "      <td>2</td>\n",
              "      <td>4</td>\n",
              "      <td>1</td>\n",
              "      <td>0</td>\n",
              "      <td>0</td>\n",
              "      <td>0</td>\n",
              "      <td>1</td>\n",
              "      <td>0</td>\n",
              "      <td>1</td>\n",
              "      <td>1</td>\n",
              "      <td>0</td>\n",
              "      <td>1</td>\n",
              "      <td>3.0</td>\n",
              "      <td>2</td>\n",
              "      <td>1</td>\n",
              "      <td>1.0</td>\n",
              "      <td>1.0</td>\n",
              "      <td>2</td>\n",
              "      <td>4</td>\n",
              "      <td>9</td>\n",
              "      <td>9</td>\n",
              "      <td>11</td>\n",
              "    </tr>\n",
              "    <tr>\n",
              "      <th>1043</th>\n",
              "      <td>999194</td>\n",
              "      <td>1</td>\n",
              "      <td>1</td>\n",
              "      <td>0</td>\n",
              "      <td>17</td>\n",
              "      <td>0</td>\n",
              "      <td>0</td>\n",
              "      <td>1</td>\n",
              "      <td>1</td>\n",
              "      <td>3</td>\n",
              "      <td>0</td>\n",
              "      <td>0</td>\n",
              "      <td>2</td>\n",
              "      <td>1</td>\n",
              "      <td>3</td>\n",
              "      <td>2</td>\n",
              "      <td>1</td>\n",
              "      <td>0</td>\n",
              "      <td>1</td>\n",
              "      <td>1</td>\n",
              "      <td>1</td>\n",
              "      <td>1</td>\n",
              "      <td>1</td>\n",
              "      <td>1</td>\n",
              "      <td>1</td>\n",
              "      <td>5.0</td>\n",
              "      <td>2</td>\n",
              "      <td>4</td>\n",
              "      <td>4.0</td>\n",
              "      <td>4.0</td>\n",
              "      <td>5</td>\n",
              "      <td>14</td>\n",
              "      <td>12</td>\n",
              "      <td>11</td>\n",
              "      <td>11</td>\n",
              "    </tr>\n",
              "  </tbody>\n",
              "</table>\n",
              "<p>1044 rows × 35 columns</p>\n",
              "</div>"
            ],
            "text/plain": [
              "          ID  Subject  school  sex  age  address  famsize  Pstatus  Medu  \\\n",
              "0     100097        1       1    1   16        1        0        0     3   \n",
              "1     101021        1       1    1   17        1        0        1     3   \n",
              "2     102965        1       1    0   16        1        1        1     1   \n",
              "3     102989        1       0    0   17        1        0        1     2   \n",
              "4     103131        1       1    1   16        1        0        1     1   \n",
              "...      ...      ...     ...  ...  ...      ...      ...      ...   ...   \n",
              "1039  997832        0       1    1   15        0        0        1     3   \n",
              "1040  997897        1       1    0   15        0        0        1     2   \n",
              "1041  998425        1       0    1   16        0        1        1     1   \n",
              "1042  999143        1       1    0   16        1        0        1     2   \n",
              "1043  999194        1       1    0   17        0        0        1     1   \n",
              "\n",
              "      Fedu  Mjob  Fjob  reason  guardian  traveltime  studytime  failures  \\\n",
              "0        4     2     0       2         1           1          1         0   \n",
              "1        2     0     0       2         2           1          2         0   \n",
              "2        2     1     2       2         2           2          1         2   \n",
              "3        3     0     2       0         1           2          2         0   \n",
              "4        1     3     0       0         2           2          1         0   \n",
              "...    ...   ...   ...     ...       ...         ...        ...       ...   \n",
              "1039     3     2     2       1         0           2          3         2   \n",
              "1040     1     1     2       1         2           1          2         0   \n",
              "1041     1     3     0       2         1           3          2         0   \n",
              "1042     1     3     0       2         2           4          1         0   \n",
              "1043     3     0     0       2         1           3          2         1   \n",
              "\n",
              "      schoolsup  famsup  paid  activities  nursery  higher  internet  \\\n",
              "0             0       0     1           0        1       1         1   \n",
              "1             0       0     1           1        0       1         1   \n",
              "2             0       0     1           0        0       1         1   \n",
              "3             0       0     1           1        1       1         1   \n",
              "4             0       1     1           0        1       1         0   \n",
              "...         ...     ...   ...         ...      ...     ...       ...   \n",
              "1039          0       1     0           1        1       1         1   \n",
              "1040          0       0     1           1        1       1         1   \n",
              "1041          0       1     1           0        1       1         0   \n",
              "1042          0       0     1           0        1       1         0   \n",
              "1043          0       1     1           1        1       1         1   \n",
              "\n",
              "      romantic  famrel  freetime  goout  Dalc  Walc  health  absences  G1  G2  \\\n",
              "0            1     3.0         2      1   1.0   4.0       5        12  15  13   \n",
              "1            1     5.0         3      4   1.0   3.0       3         2  17  18   \n",
              "2            1     4.0         4      5   3.0   5.0       5         0   9   8   \n",
              "3            1     4.0         4      3   1.0   1.0       3         4  14  15   \n",
              "4            1     4.0         3      2   1.0   4.0       5         2  12  13   \n",
              "...        ...     ...       ...    ...   ...   ...     ...       ...  ..  ..   \n",
              "1039         0     4.0         2      1   2.0   3.0       3         8  10  10   \n",
              "1040         0     5.0         4      2   1.0   1.0       5         4  10   9   \n",
              "1041         1     5.0         3      2   1.0   1.0       1         0  16  17   \n",
              "1042         1     3.0         2      1   1.0   1.0       2         4   9   9   \n",
              "1043         1     5.0         2      4   4.0   4.0       5        14  12  11   \n",
              "\n",
              "      G3  \n",
              "0     14  \n",
              "1     17  \n",
              "2     10  \n",
              "3     16  \n",
              "4     13  \n",
              "...   ..  \n",
              "1039  10  \n",
              "1040  10  \n",
              "1041  18  \n",
              "1042  11  \n",
              "1043  11  \n",
              "\n",
              "[1044 rows x 35 columns]"
            ]
          },
          "metadata": {
            "tags": []
          },
          "execution_count": 115
        }
      ]
    },
    {
      "cell_type": "markdown",
      "metadata": {
        "id": "mSGGOLU7irQJ",
        "colab_type": "text"
      },
      "source": [
        "тут я поняла что в образовании матери и отца есть клетка с о "
      ]
    },
    {
      "cell_type": "code",
      "metadata": {
        "id": "ozpaAkVY06v9",
        "colab_type": "code",
        "outputId": "c4e2fcc8-54c6-4c91-a2eb-918efbbb2bb3",
        "colab": {
          "base_uri": "https://localhost:8080/",
          "height": 1000
        }
      },
      "source": [
        "for i in data.columns.tolist():\n",
        "  print(i)\n",
        "  sns.boxplot(data=data[i])\n",
        "  plt.show()"
      ],
      "execution_count": 116,
      "outputs": [
        {
          "output_type": "stream",
          "text": [
            "ID\n"
          ],
          "name": "stdout"
        },
        {
          "output_type": "display_data",
          "data": {
            "image/png": "[encoded data removed]",
            "text/plain": [
              "<Figure size 432x288 with 1 Axes>"
            ]
          },
          "metadata": {
            "tags": [],
            "needs_background": "light"
          }
        },
        {
          "output_type": "stream",
          "text": [
            "Subject\n"
          ],
          "name": "stdout"
        },
        {
          "output_type": "display_data",
          "data": {
            "image/png": "[encoded data removed]",
            "text/plain": [
              "<Figure size 432x288 with 1 Axes>"
            ]
          },
          "metadata": {
            "tags": [],
            "needs_background": "light"
          }
        },
        {
          "output_type": "stream",
          "text": [
            "school\n"
          ],
          "name": "stdout"
        },
        {
          "output_type": "display_data",
          "data": {
            "image/png": "[encoded data removed]",
            "text/plain": [
              "<Figure size 432x288 with 1 Axes>"
            ]
          },
          "metadata": {
            "tags": [],
            "needs_background": "light"
          }
        },
        {
          "output_type": "stream",
          "text": [
            "sex\n"
          ],
          "name": "stdout"
        },
        {
          "output_type": "display_data",
          "data": {
            "image/png": "[encoded data removed]",
            "text/plain": [
              "<Figure size 432x288 with 1 Axes>"
            ]
          },
          "metadata": {
            "tags": [],
            "needs_background": "light"
          }
        },
        {
          "output_type": "stream",
          "text": [
            "age\n"
          ],
          "name": "stdout"
        },
        {
          "output_type": "display_data",
          "data": {
            "image/png": "[encoded data removed]",
            "text/plain": [
              "<Figure size 432x288 with 1 Axes>"
            ]
          },
          "metadata": {
            "tags": [],
            "needs_background": "light"
          }
        },
        {
          "output_type": "stream",
          "text": [
            "address\n"
          ],
          "name": "stdout"
        },
        {
          "output_type": "display_data",
          "data": {
            "image/png": "[encoded data removed]",
            "text/plain": [
              "<Figure size 432x288 with 1 Axes>"
            ]
          },
          "metadata": {
            "tags": [],
            "needs_background": "light"
          }
        },
        {
          "output_type": "stream",
          "text": [
            "famsize\n"
          ],
          "name": "stdout"
        },
        {
          "output_type": "display_data",
          "data": {
            "image/png": "[encoded data removed]",
            "text/plain": [
              "<Figure size 432x288 with 1 Axes>"
            ]
          },
          "metadata": {
            "tags": [],
            "needs_background": "light"
          }
        },
        {
          "output_type": "stream",
          "text": [
            "Pstatus\n"
          ],
          "name": "stdout"
        },
        {
          "output_type": "display_data",
          "data": {
            "image/png": "[encoded data removed]",
            "text/plain": [
              "<Figure size 432x288 with 1 Axes>"
            ]
          },
          "metadata": {
            "tags": [],
            "needs_background": "light"
          }
        },
        {
          "output_type": "stream",
          "text": [
            "Medu\n"
          ],
          "name": "stdout"
        },
        {
          "output_type": "display_data",
          "data": {
            "image/png": "[encoded data removed]",
            "text/plain": [
              "<Figure size 432x288 with 1 Axes>"
            ]
          },
          "metadata": {
            "tags": [],
            "needs_background": "light"
          }
        },
        {
          "output_type": "stream",
          "text": [
            "Fedu\n"
          ],
          "name": "stdout"
        },
        {
          "output_type": "display_data",
          "data": {
            "image/png": "[encoded data removed]",
            "text/plain": [
              "<Figure size 432x288 with 1 Axes>"
            ]
          },
          "metadata": {
            "tags": [],
            "needs_background": "light"
          }
        },
        {
          "output_type": "stream",
          "text": [
            "Mjob\n"
          ],
          "name": "stdout"
        },
        {
          "output_type": "display_data",
          "data": {
            "image/png": "[encoded data removed]",
            "text/plain": [
              "<Figure size 432x288 with 1 Axes>"
            ]
          },
          "metadata": {
            "tags": [],
            "needs_background": "light"
          }
        },
        {
          "output_type": "stream",
          "text": [
            "Fjob\n"
          ],
          "name": "stdout"
        },
        {
          "output_type": "display_data",
          "data": {
            "image/png": "[encoded data removed]",
            "text/plain": [
              "<Figure size 432x288 with 1 Axes>"
            ]
          },
          "metadata": {
            "tags": [],
            "needs_background": "light"
          }
        },
        {
          "output_type": "stream",
          "text": [
            "reason\n"
          ],
          "name": "stdout"
        },
        {
          "output_type": "display_data",
          "data": {
            "image/png": "[encoded data removed]",
            "text/plain": [
              "<Figure size 432x288 with 1 Axes>"
            ]
          },
          "metadata": {
            "tags": [],
            "needs_background": "light"
          }
        },
        {
          "output_type": "stream",
          "text": [
            "guardian\n"
          ],
          "name": "stdout"
        },
        {
          "output_type": "display_data",
          "data": {
            "image/png": "[encoded data removed]",
            "text/plain": [
              "<Figure size 432x288 with 1 Axes>"
            ]
          },
          "metadata": {
            "tags": [],
            "needs_background": "light"
          }
        },
        {
          "output_type": "stream",
          "text": [
            "traveltime\n"
          ],
          "name": "stdout"
        },
        {
          "output_type": "display_data",
          "data": {
            "image/png": "[encoded data removed]",
            "text/plain": [
              "<Figure size 432x288 with 1 Axes>"
            ]
          },
          "metadata": {
            "tags": [],
            "needs_background": "light"
          }
        },
        {
          "output_type": "stream",
          "text": [
            "studytime\n"
          ],
          "name": "stdout"
        },
        {
          "output_type": "display_data",
          "data": {
            "image/png": "[encoded data removed]",
            "text/plain": [
              "<Figure size 432x288 with 1 Axes>"
            ]
          },
          "metadata": {
            "tags": [],
            "needs_background": "light"
          }
        },
        {
          "output_type": "stream",
          "text": [
            "failures\n"
          ],
          "name": "stdout"
        },
        {
          "output_type": "display_data",
          "data": {
            "image/png": "[encoded data removed]",
            "text/plain": [
              "<Figure size 432x288 with 1 Axes>"
            ]
          },
          "metadata": {
            "tags": [],
            "needs_background": "light"
          }
        },
        {
          "output_type": "stream",
          "text": [
            "schoolsup\n"
          ],
          "name": "stdout"
        },
        {
          "output_type": "display_data",
          "data": {
            "image/png": "[encoded data removed]",
            "text/plain": [
              "<Figure size 432x288 with 1 Axes>"
            ]
          },
          "metadata": {
            "tags": [],
            "needs_background": "light"
          }
        },
        {
          "output_type": "stream",
          "text": [
            "famsup\n"
          ],
          "name": "stdout"
        },
        {
          "output_type": "display_data",
          "data": {
            "image/png": "[encoded data removed]",
            "text/plain": [
              "<Figure size 432x288 with 1 Axes>"
            ]
          },
          "metadata": {
            "tags": [],
            "needs_background": "light"
          }
        },
        {
          "output_type": "stream",
          "text": [
            "paid\n"
          ],
          "name": "stdout"
        },
        {
          "output_type": "display_data",
          "data": {
            "image/png": "[encoded data removed]",
            "text/plain": [
              "<Figure size 432x288 with 1 Axes>"
            ]
          },
          "metadata": {
            "tags": [],
            "needs_background": "light"
          }
        },
        {
          "output_type": "stream",
          "text": [
            "activities\n"
          ],
          "name": "stdout"
        },
        {
          "output_type": "display_data",
          "data": {
            "image/png": "[encoded data removed]",
            "text/plain": [
              "<Figure size 432x288 with 1 Axes>"
            ]
          },
          "metadata": {
            "tags": [],
            "needs_background": "light"
          }
        },
        {
          "output_type": "stream",
          "text": [
            "nursery\n"
          ],
          "name": "stdout"
        },
        {
          "output_type": "display_data",
          "data": {
            "image/png": "[encoded data removed]",
            "text/plain": [
              "<Figure size 432x288 with 1 Axes>"
            ]
          },
          "metadata": {
            "tags": [],
            "needs_background": "light"
          }
        },
        {
          "output_type": "stream",
          "text": [
            "higher\n"
          ],
          "name": "stdout"
        },
        {
          "output_type": "display_data",
          "data": {
            "image/png": "[encoded data removed]",
            "text/plain": [
              "<Figure size 432x288 with 1 Axes>"
            ]
          },
          "metadata": {
            "tags": [],
            "needs_background": "light"
          }
        },
        {
          "output_type": "stream",
          "text": [
            "internet\n"
          ],
          "name": "stdout"
        },
        {
          "output_type": "display_data",
          "data": {
            "image/png": "[encoded data removed]",
            "text/plain": [
              "<Figure size 432x288 with 1 Axes>"
            ]
          },
          "metadata": {
            "tags": [],
            "needs_background": "light"
          }
        },
        {
          "output_type": "stream",
          "text": [
            "romantic\n"
          ],
          "name": "stdout"
        },
        {
          "output_type": "display_data",
          "data": {
            "image/png": "[encoded data removed]",
            "text/plain": [
              "<Figure size 432x288 with 1 Axes>"
            ]
          },
          "metadata": {
            "tags": [],
            "needs_background": "light"
          }
        },
        {
          "output_type": "stream",
          "text": [
            "famrel\n"
          ],
          "name": "stdout"
        },
        {
          "output_type": "display_data",
          "data": {
            "image/png": "[encoded data removed]",
            "text/plain": [
              "<Figure size 432x288 with 1 Axes>"
            ]
          },
          "metadata": {
            "tags": [],
            "needs_background": "light"
          }
        },
        {
          "output_type": "stream",
          "text": [
            "freetime\n"
          ],
          "name": "stdout"
        },
        {
          "output_type": "display_data",
          "data": {
            "image/png": "[encoded data removed]",
            "text/plain": [
              "<Figure size 432x288 with 1 Axes>"
            ]
          },
          "metadata": {
            "tags": [],
            "needs_background": "light"
          }
        },
        {
          "output_type": "stream",
          "text": [
            "goout\n"
          ],
          "name": "stdout"
        },
        {
          "output_type": "display_data",
          "data": {
            "image/png": "[encoded data removed]",
            "text/plain": [
              "<Figure size 432x288 with 1 Axes>"
            ]
          },
          "metadata": {
            "tags": [],
            "needs_background": "light"
          }
        },
        {
          "output_type": "stream",
          "text": [
            "Dalc\n"
          ],
          "name": "stdout"
        },
        {
          "output_type": "display_data",
          "data": {
            "image/png": "[encoded data removed]",
            "text/plain": [
              "<Figure size 432x288 with 1 Axes>"
            ]
          },
          "metadata": {
            "tags": [],
            "needs_background": "light"
          }
        },
        {
          "output_type": "stream",
          "text": [
            "Walc\n"
          ],
          "name": "stdout"
        },
        {
          "output_type": "display_data",
          "data": {
            "image/png": "[encoded data removed]",
            "text/plain": [
              "<Figure size 432x288 with 1 Axes>"
            ]
          },
          "metadata": {
            "tags": [],
            "needs_background": "light"
          }
        },
        {
          "output_type": "stream",
          "text": [
            "health\n"
          ],
          "name": "stdout"
        },
        {
          "output_type": "display_data",
          "data": {
            "image/png": "[encoded data removed]",
            "text/plain": [
              "<Figure size 432x288 with 1 Axes>"
            ]
          },
          "metadata": {
            "tags": [],
            "needs_background": "light"
          }
        },
        {
          "output_type": "stream",
          "text": [
            "absences\n"
          ],
          "name": "stdout"
        },
        {
          "output_type": "display_data",
          "data": {
            "image/png": "[encoded data removed]",
            "text/plain": [
              "<Figure size 432x288 with 1 Axes>"
            ]
          },
          "metadata": {
            "tags": [],
            "needs_background": "light"
          }
        },
        {
          "output_type": "stream",
          "text": [
            "G1\n"
          ],
          "name": "stdout"
        },
        {
          "output_type": "display_data",
          "data": {
            "image/png": "[encoded data removed]",
            "text/plain": [
              "<Figure size 432x288 with 1 Axes>"
            ]
          },
          "metadata": {
            "tags": [],
            "needs_background": "light"
          }
        },
        {
          "output_type": "stream",
          "text": [
            "G2\n"
          ],
          "name": "stdout"
        },
        {
          "output_type": "display_data",
          "data": {
            "image/png": "[encoded data removed]",
            "text/plain": [
              "<Figure size 432x288 with 1 Axes>"
            ]
          },
          "metadata": {
            "tags": [],
            "needs_background": "light"
          }
        },
        {
          "output_type": "stream",
          "text": [
            "G3\n"
          ],
          "name": "stdout"
        },
        {
          "output_type": "display_data",
          "data": {
            "image/png": "[encoded data removed]",
            "text/plain": [
              "<Figure size 432x288 with 1 Axes>"
            ]
          },
          "metadata": {
            "tags": [],
            "needs_background": "light"
          }
        }
      ]
    },
    {
      "cell_type": "markdown",
      "metadata": {
        "id": "taRXfr-ri1V7",
        "colab_type": "text"
      },
      "source": [
        "из интересных фактов, которые мы узнали по ящикам с усами: \n",
        "в школе учится студет которому 22, но это скорее второгодник, \n",
        "чем вброс данных\n",
        "надо дропнуть айди"
      ]
    },
    {
      "cell_type": "code",
      "metadata": {
        "id": "X-oz3pVAPHSU",
        "colab_type": "code",
        "colab": {}
      },
      "source": [
        "data.drop(['ID'], axis='columns', inplace=True)"
      ],
      "execution_count": 0,
      "outputs": []
    },
    {
      "cell_type": "markdown",
      "metadata": {
        "id": "HVJCBwzki640",
        "colab_type": "text"
      },
      "source": [
        "### Нормализация данных\n",
        "Именно нормализация, а не стандартизация, так как нам необходимо уменьшить расстояние, и отрицательные значения тут не к месту"
      ]
    },
    {
      "cell_type": "markdown",
      "metadata": {
        "id": "kRm_2fQdi5LU",
        "colab_type": "text"
      },
      "source": [
        "сделаем нормализацию данных\n",
        "тут я поняла что в некоторых других столбцах есть некоректные данные\n",
        "так же объединим алкоголь в один столбец\n",
        "и создадим столбец благополучия в семье  \n",
        "так же оставим бинарным признакам их бинарность"
      ]
    },
    {
      "cell_type": "code",
      "metadata": {
        "id": "8TkgAuvEjMJ3",
        "colab_type": "code",
        "colab": {}
      },
      "source": [
        "def drop_bin(frame, norm):\n",
        "  for seria in frame.columns.tolist():\n",
        "    if (frame[seria].max() == 1) & (frame[seria].min() == 0):\n",
        "      norm.drop([seria], axis='columns', inplace=True)"
      ],
      "execution_count": 0,
      "outputs": []
    },
    {
      "cell_type": "code",
      "metadata": {
        "id": "nlKPg_pjUFtW",
        "colab_type": "code",
        "outputId": "5d48554b-ad9f-4d21-c4a5-0bc30a45217c",
        "colab": {
          "base_uri": "https://localhost:8080/",
          "height": 239
        }
      },
      "source": [
        "data_norm = pd.DataFrame(preprocessing.normalize(data), columns=list(data.columns))\n",
        "data_norm['Alco'] = data_norm['Dalc'] + data_norm['Walc']\n",
        "data_norm.drop(['Dalc'], axis='columns', inplace=True)\n",
        "data_norm.drop(['Walc'], axis='columns', inplace=True)\n",
        "data_norm.drop(['G2'], axis='columns', inplace=True)\n",
        "\n",
        "drop_bin(data, data_norm)\n",
        "\n",
        "data_norm "
      ],
      "execution_count": 272,
      "outputs": [
        {
          "output_type": "error",
          "ename": "NameError",
          "evalue": "ignored",
          "traceback": [
            "\u001b[0;31m---------------------------------------------------------------------------\u001b[0m",
            "\u001b[0;31mNameError\u001b[0m                                 Traceback (most recent call last)",
            "\u001b[0;32m<ipython-input-272-a8ae1941fd6c>\u001b[0m in \u001b[0;36m<module>\u001b[0;34m()\u001b[0m\n\u001b[1;32m      5\u001b[0m \u001b[0mdata_norm\u001b[0m\u001b[0;34m.\u001b[0m\u001b[0mdrop\u001b[0m\u001b[0;34m(\u001b[0m\u001b[0;34m[\u001b[0m\u001b[0;34m'G2'\u001b[0m\u001b[0;34m]\u001b[0m\u001b[0;34m,\u001b[0m \u001b[0maxis\u001b[0m\u001b[0;34m=\u001b[0m\u001b[0;34m'columns'\u001b[0m\u001b[0;34m,\u001b[0m \u001b[0minplace\u001b[0m\u001b[0;34m=\u001b[0m\u001b[0;32mTrue\u001b[0m\u001b[0;34m)\u001b[0m\u001b[0;34m\u001b[0m\u001b[0;34m\u001b[0m\u001b[0m\n\u001b[1;32m      6\u001b[0m \u001b[0;34m\u001b[0m\u001b[0m\n\u001b[0;32m----> 7\u001b[0;31m \u001b[0mdrop_bin\u001b[0m\u001b[0;34m(\u001b[0m\u001b[0mdata\u001b[0m\u001b[0;34m,\u001b[0m \u001b[0mdata_norm\u001b[0m\u001b[0;34m)\u001b[0m\u001b[0;34m\u001b[0m\u001b[0;34m\u001b[0m\u001b[0m\n\u001b[0m\u001b[1;32m      8\u001b[0m \u001b[0;34m\u001b[0m\u001b[0m\n\u001b[1;32m      9\u001b[0m \u001b[0mdata_norm\u001b[0m\u001b[0;34m\u001b[0m\u001b[0;34m\u001b[0m\u001b[0m\n",
            "\u001b[0;31mNameError\u001b[0m: name 'drop_bin' is not defined"
          ]
        }
      ]
    },
    {
      "cell_type": "markdown",
      "metadata": {
        "id": "QhMgC9B_jQmI",
        "colab_type": "text"
      },
      "source": [
        "### Корреляция"
      ]
    },
    {
      "cell_type": "markdown",
      "metadata": {
        "id": "OaL_qWqnjUhP",
        "colab_type": "text"
      },
      "source": [
        "теперь посмотрим корреляцию наших данных\n",
        "\n",
        "\n",
        "заменим малозначащие данные и данные между одинаковыми столбцами на один \n",
        "цвет, чтобы яркие зависимости были хорошо видны"
      ]
    },
    {
      "cell_type": "code",
      "metadata": {
        "id": "MQYDDPf3P7s1",
        "colab_type": "code",
        "outputId": "e97b767a-8909-461e-efb3-7f5ccb8dd8e0",
        "colab": {
          "base_uri": "https://localhost:8080/",
          "height": 684
        }
      },
      "source": [
        "corr = data_norm.corr() \n",
        "fig, ax = plt.subplots(figsize=(10,10))    \n",
        "\n",
        "for i in corr.columns.tolist():\n",
        "  for j in corr.columns.tolist():\n",
        "    if (-0.2 < corr[i][j] < 0.2) | (corr[i][j] == 1):\n",
        "      corr[i][j] = 0.2\n",
        "sns.heatmap(corr, xticklabels=corr.columns.values, \n",
        "           yticklabels=corr.columns.values)"
      ],
      "execution_count": 120,
      "outputs": [
        {
          "output_type": "execute_result",
          "data": {
            "text/plain": [
              "<matplotlib.axes._subplots.AxesSubplot at 0x7f13693f9c88>"
            ]
          },
          "metadata": {
            "tags": []
          },
          "execution_count": 120
        },
        {
          "output_type": "display_data",
          "data": {
            "image/png": "[encoded data removed]",
            "text/plain": [
              "<Figure size 720x720 with 2 Axes>"
            ]
          },
          "metadata": {
            "tags": [],
            "needs_background": "light"
          }
        }
      ]
    },
    {
      "cell_type": "markdown",
      "metadata": {
        "id": "x7fSbaYKkoOr",
        "colab_type": "text"
      },
      "source": [
        "# Часть 2. Регрессия"
      ]
    },
    {
      "cell_type": "markdown",
      "metadata": {
        "id": "3yrYiTnskoOs",
        "colab_type": "text"
      },
      "source": [
        "* Решите задачу регрессии: постройте модель, предсказывающую итоговую оценку, которую получит студент по предмету (`G3`). При решении задачи **нельзя** использовать признак `G2`.  \n",
        "<br>  \n",
        "* При решении задачи используйте различные методы, которые рассматривались на занятиях:  \n",
        "  * Линейная регрессия + регуляризации;  \n",
        "  * Полиномиальная регрессия;  \n",
        "  * KNN и  Radius Neighbors;  \n",
        "  * Деревья решений.  \n",
        "  \n",
        "  На кросс-валидации подберите оптимальные значения гиперпараметров алгоритмов.  \n",
        "<br>    \n",
        "* Оцените качество каждой модели, используйте различные метрики. Сравните модели и сделайте вывод о качестве решения задачи.  \n",
        "<br>    \n",
        "* Задачу необходимо решить в двух вариантах: с использованием признака `G1`  и без него. Сравните качество решений в двух случаях.  \n",
        "<br>    \n",
        "* В регрессионных моделях попробуйте дать интерпретацию весам признаков. "
      ]
    },
    {
      "cell_type": "markdown",
      "metadata": {
        "id": "NvlBTvXaef6d",
        "colab_type": "text"
      },
      "source": [
        "### Подготовка"
      ]
    },
    {
      "cell_type": "markdown",
      "metadata": {
        "id": "K4I-Hi2UekyN",
        "colab_type": "text"
      },
      "source": [
        "Разделяем данные "
      ]
    },
    {
      "cell_type": "code",
      "metadata": {
        "id": "Tatfsb2PRvDl",
        "colab_type": "code",
        "colab": {
          "base_uri": "https://localhost:8080/",
          "height": 399
        },
        "outputId": "3c83b07c-4de9-411d-c49e-200737448202"
      },
      "source": [
        "(trainD, testD, trainV, testV) = train_test_split(data_norm.drop('G3', axis=1),\n",
        "                                            data_norm['G3'],\n",
        "                                            test_size=0.3, \n",
        "                                            random_state=5)\n",
        "(trainD1, testD1, trainV1, testV1) = train_test_split(data_norm.drop('G3', axis=1).drop('G1', axis=1),\n",
        "                                            data_norm['G3'],\n",
        "                                            test_size=0.3, \n",
        "                                            random_state=5)\n",
        "trainD"
      ],
      "execution_count": 223,
      "outputs": [
        {
          "output_type": "execute_result",
          "data": {
            "text/html": [
              "<div>\n",
              "<style scoped>\n",
              "    .dataframe tbody tr th:only-of-type {\n",
              "        vertical-align: middle;\n",
              "    }\n",
              "\n",
              "    .dataframe tbody tr th {\n",
              "        vertical-align: top;\n",
              "    }\n",
              "\n",
              "    .dataframe thead th {\n",
              "        text-align: right;\n",
              "    }\n",
              "</style>\n",
              "<table border=\"1\" class=\"dataframe\">\n",
              "  <thead>\n",
              "    <tr style=\"text-align: right;\">\n",
              "      <th></th>\n",
              "      <th>age</th>\n",
              "      <th>Medu</th>\n",
              "      <th>Fedu</th>\n",
              "      <th>Mjob</th>\n",
              "      <th>Fjob</th>\n",
              "      <th>reason</th>\n",
              "      <th>guardian</th>\n",
              "      <th>traveltime</th>\n",
              "      <th>studytime</th>\n",
              "      <th>failures</th>\n",
              "      <th>famrel</th>\n",
              "      <th>freetime</th>\n",
              "      <th>goout</th>\n",
              "      <th>health</th>\n",
              "      <th>absences</th>\n",
              "      <th>G1</th>\n",
              "      <th>Alco</th>\n",
              "    </tr>\n",
              "  </thead>\n",
              "  <tbody>\n",
              "    <tr>\n",
              "      <th>842</th>\n",
              "      <td>0.693481</td>\n",
              "      <td>0.132092</td>\n",
              "      <td>0.132092</td>\n",
              "      <td>0.000000</td>\n",
              "      <td>0.000000</td>\n",
              "      <td>0.033023</td>\n",
              "      <td>0.000000</td>\n",
              "      <td>0.033023</td>\n",
              "      <td>0.099069</td>\n",
              "      <td>0.066046</td>\n",
              "      <td>0.099069</td>\n",
              "      <td>0.099069</td>\n",
              "      <td>0.066046</td>\n",
              "      <td>0.165115</td>\n",
              "      <td>0.000000</td>\n",
              "      <td>0.297206</td>\n",
              "      <td>0.066046</td>\n",
              "    </tr>\n",
              "    <tr>\n",
              "      <th>179</th>\n",
              "      <td>0.612223</td>\n",
              "      <td>0.076528</td>\n",
              "      <td>0.076528</td>\n",
              "      <td>0.000000</td>\n",
              "      <td>0.000000</td>\n",
              "      <td>0.076528</td>\n",
              "      <td>0.038264</td>\n",
              "      <td>0.038264</td>\n",
              "      <td>0.076528</td>\n",
              "      <td>0.000000</td>\n",
              "      <td>0.153056</td>\n",
              "      <td>0.114792</td>\n",
              "      <td>0.191320</td>\n",
              "      <td>0.153056</td>\n",
              "      <td>0.153056</td>\n",
              "      <td>0.382639</td>\n",
              "      <td>0.229584</td>\n",
              "    </tr>\n",
              "    <tr>\n",
              "      <th>880</th>\n",
              "      <td>0.500580</td>\n",
              "      <td>0.055620</td>\n",
              "      <td>0.055620</td>\n",
              "      <td>0.055620</td>\n",
              "      <td>0.000000</td>\n",
              "      <td>0.027810</td>\n",
              "      <td>0.055620</td>\n",
              "      <td>0.055620</td>\n",
              "      <td>0.055620</td>\n",
              "      <td>0.000000</td>\n",
              "      <td>0.111240</td>\n",
              "      <td>0.027810</td>\n",
              "      <td>0.111240</td>\n",
              "      <td>0.111240</td>\n",
              "      <td>0.278100</td>\n",
              "      <td>0.389340</td>\n",
              "      <td>0.111240</td>\n",
              "    </tr>\n",
              "    <tr>\n",
              "      <th>42</th>\n",
              "      <td>0.610257</td>\n",
              "      <td>0.033903</td>\n",
              "      <td>0.000000</td>\n",
              "      <td>0.101710</td>\n",
              "      <td>0.101710</td>\n",
              "      <td>0.067806</td>\n",
              "      <td>0.000000</td>\n",
              "      <td>0.101710</td>\n",
              "      <td>0.033903</td>\n",
              "      <td>0.033903</td>\n",
              "      <td>0.135613</td>\n",
              "      <td>0.101710</td>\n",
              "      <td>0.067806</td>\n",
              "      <td>0.135613</td>\n",
              "      <td>0.000000</td>\n",
              "      <td>0.406838</td>\n",
              "      <td>0.067806</td>\n",
              "    </tr>\n",
              "    <tr>\n",
              "      <th>540</th>\n",
              "      <td>0.543036</td>\n",
              "      <td>0.036202</td>\n",
              "      <td>0.036202</td>\n",
              "      <td>0.000000</td>\n",
              "      <td>0.000000</td>\n",
              "      <td>0.000000</td>\n",
              "      <td>0.036202</td>\n",
              "      <td>0.036202</td>\n",
              "      <td>0.072405</td>\n",
              "      <td>0.000000</td>\n",
              "      <td>0.144810</td>\n",
              "      <td>0.108607</td>\n",
              "      <td>0.072405</td>\n",
              "      <td>0.144810</td>\n",
              "      <td>0.072405</td>\n",
              "      <td>0.470632</td>\n",
              "      <td>0.181012</td>\n",
              "    </tr>\n",
              "    <tr>\n",
              "      <th>...</th>\n",
              "      <td>...</td>\n",
              "      <td>...</td>\n",
              "      <td>...</td>\n",
              "      <td>...</td>\n",
              "      <td>...</td>\n",
              "      <td>...</td>\n",
              "      <td>...</td>\n",
              "      <td>...</td>\n",
              "      <td>...</td>\n",
              "      <td>...</td>\n",
              "      <td>...</td>\n",
              "      <td>...</td>\n",
              "      <td>...</td>\n",
              "      <td>...</td>\n",
              "      <td>...</td>\n",
              "      <td>...</td>\n",
              "      <td>...</td>\n",
              "    </tr>\n",
              "    <tr>\n",
              "      <th>1032</th>\n",
              "      <td>0.531858</td>\n",
              "      <td>0.066482</td>\n",
              "      <td>0.066482</td>\n",
              "      <td>0.000000</td>\n",
              "      <td>0.099723</td>\n",
              "      <td>0.066482</td>\n",
              "      <td>0.033241</td>\n",
              "      <td>0.066482</td>\n",
              "      <td>0.066482</td>\n",
              "      <td>0.033241</td>\n",
              "      <td>0.132964</td>\n",
              "      <td>0.099723</td>\n",
              "      <td>0.099723</td>\n",
              "      <td>0.166206</td>\n",
              "      <td>0.465376</td>\n",
              "      <td>0.332411</td>\n",
              "      <td>0.132964</td>\n",
              "    </tr>\n",
              "    <tr>\n",
              "      <th>73</th>\n",
              "      <td>0.517477</td>\n",
              "      <td>0.097027</td>\n",
              "      <td>0.064685</td>\n",
              "      <td>0.000000</td>\n",
              "      <td>0.000000</td>\n",
              "      <td>0.032342</td>\n",
              "      <td>0.064685</td>\n",
              "      <td>0.032342</td>\n",
              "      <td>0.064685</td>\n",
              "      <td>0.000000</td>\n",
              "      <td>0.032342</td>\n",
              "      <td>0.064685</td>\n",
              "      <td>0.064685</td>\n",
              "      <td>0.032342</td>\n",
              "      <td>0.452792</td>\n",
              "      <td>0.388108</td>\n",
              "      <td>0.097027</td>\n",
              "    </tr>\n",
              "    <tr>\n",
              "      <th>998</th>\n",
              "      <td>0.466628</td>\n",
              "      <td>0.103695</td>\n",
              "      <td>0.103695</td>\n",
              "      <td>0.000000</td>\n",
              "      <td>0.000000</td>\n",
              "      <td>0.025924</td>\n",
              "      <td>0.051848</td>\n",
              "      <td>0.051848</td>\n",
              "      <td>0.077771</td>\n",
              "      <td>0.000000</td>\n",
              "      <td>0.129619</td>\n",
              "      <td>0.103695</td>\n",
              "      <td>0.103695</td>\n",
              "      <td>0.025924</td>\n",
              "      <td>0.000000</td>\n",
              "      <td>0.492552</td>\n",
              "      <td>0.051848</td>\n",
              "    </tr>\n",
              "    <tr>\n",
              "      <th>206</th>\n",
              "      <td>0.780013</td>\n",
              "      <td>0.045883</td>\n",
              "      <td>0.045883</td>\n",
              "      <td>0.137649</td>\n",
              "      <td>0.000000</td>\n",
              "      <td>0.091766</td>\n",
              "      <td>0.045883</td>\n",
              "      <td>0.045883</td>\n",
              "      <td>0.091766</td>\n",
              "      <td>0.000000</td>\n",
              "      <td>0.229416</td>\n",
              "      <td>0.137649</td>\n",
              "      <td>0.137649</td>\n",
              "      <td>0.137649</td>\n",
              "      <td>0.183533</td>\n",
              "      <td>0.229416</td>\n",
              "      <td>0.091766</td>\n",
              "    </tr>\n",
              "    <tr>\n",
              "      <th>867</th>\n",
              "      <td>0.537776</td>\n",
              "      <td>0.143407</td>\n",
              "      <td>0.143407</td>\n",
              "      <td>0.000000</td>\n",
              "      <td>0.071703</td>\n",
              "      <td>0.035852</td>\n",
              "      <td>0.071703</td>\n",
              "      <td>0.035852</td>\n",
              "      <td>0.143407</td>\n",
              "      <td>0.000000</td>\n",
              "      <td>0.035852</td>\n",
              "      <td>0.107555</td>\n",
              "      <td>0.107555</td>\n",
              "      <td>0.107555</td>\n",
              "      <td>0.000000</td>\n",
              "      <td>0.394369</td>\n",
              "      <td>0.358517</td>\n",
              "    </tr>\n",
              "  </tbody>\n",
              "</table>\n",
              "<p>730 rows × 17 columns</p>\n",
              "</div>"
            ],
            "text/plain": [
              "           age      Medu      Fedu      Mjob      Fjob    reason  guardian  \\\n",
              "842   0.693481  0.132092  0.132092  0.000000  0.000000  0.033023  0.000000   \n",
              "179   0.612223  0.076528  0.076528  0.000000  0.000000  0.076528  0.038264   \n",
              "880   0.500580  0.055620  0.055620  0.055620  0.000000  0.027810  0.055620   \n",
              "42    0.610257  0.033903  0.000000  0.101710  0.101710  0.067806  0.000000   \n",
              "540   0.543036  0.036202  0.036202  0.000000  0.000000  0.000000  0.036202   \n",
              "...        ...       ...       ...       ...       ...       ...       ...   \n",
              "1032  0.531858  0.066482  0.066482  0.000000  0.099723  0.066482  0.033241   \n",
              "73    0.517477  0.097027  0.064685  0.000000  0.000000  0.032342  0.064685   \n",
              "998   0.466628  0.103695  0.103695  0.000000  0.000000  0.025924  0.051848   \n",
              "206   0.780013  0.045883  0.045883  0.137649  0.000000  0.091766  0.045883   \n",
              "867   0.537776  0.143407  0.143407  0.000000  0.071703  0.035852  0.071703   \n",
              "\n",
              "      traveltime  studytime  failures    famrel  freetime     goout    health  \\\n",
              "842     0.033023   0.099069  0.066046  0.099069  0.099069  0.066046  0.165115   \n",
              "179     0.038264   0.076528  0.000000  0.153056  0.114792  0.191320  0.153056   \n",
              "880     0.055620   0.055620  0.000000  0.111240  0.027810  0.111240  0.111240   \n",
              "42      0.101710   0.033903  0.033903  0.135613  0.101710  0.067806  0.135613   \n",
              "540     0.036202   0.072405  0.000000  0.144810  0.108607  0.072405  0.144810   \n",
              "...          ...        ...       ...       ...       ...       ...       ...   \n",
              "1032    0.066482   0.066482  0.033241  0.132964  0.099723  0.099723  0.166206   \n",
              "73      0.032342   0.064685  0.000000  0.032342  0.064685  0.064685  0.032342   \n",
              "998     0.051848   0.077771  0.000000  0.129619  0.103695  0.103695  0.025924   \n",
              "206     0.045883   0.091766  0.000000  0.229416  0.137649  0.137649  0.137649   \n",
              "867     0.035852   0.143407  0.000000  0.035852  0.107555  0.107555  0.107555   \n",
              "\n",
              "      absences        G1      Alco  \n",
              "842   0.000000  0.297206  0.066046  \n",
              "179   0.153056  0.382639  0.229584  \n",
              "880   0.278100  0.389340  0.111240  \n",
              "42    0.000000  0.406838  0.067806  \n",
              "540   0.072405  0.470632  0.181012  \n",
              "...        ...       ...       ...  \n",
              "1032  0.465376  0.332411  0.132964  \n",
              "73    0.452792  0.388108  0.097027  \n",
              "998   0.000000  0.492552  0.051848  \n",
              "206   0.183533  0.229416  0.091766  \n",
              "867   0.000000  0.394369  0.358517  \n",
              "\n",
              "[730 rows x 17 columns]"
            ]
          },
          "metadata": {
            "tags": []
          },
          "execution_count": 223
        }
      ]
    },
    {
      "cell_type": "markdown",
      "metadata": {
        "id": "uT9plKKHeZwD",
        "colab_type": "text"
      },
      "source": [
        "напишем функцию считающую необходимые нам метрики "
      ]
    },
    {
      "cell_type": "code",
      "metadata": {
        "id": "qB6zX3aaR5nn",
        "colab_type": "code",
        "colab": {}
      },
      "source": [
        "def calc_metrics(true, pred):\n",
        "    mse = metrics.mean_squared_error(true, pred)\n",
        "    rmse = np.sqrt(mse)\n",
        "    mae = metrics.mean_absolute_error(true, pred)\n",
        "    medae = metrics.median_absolute_error(true, pred)\n",
        "    R2 = metrics.r2_score(true, pred)\n",
        "    print(\"MSE:   {}\\nRMSE:  {}\\nR2:    {}\\nMAE:   {}\\nMedAE: {}\".format(mse, rmse, R2, mae, medae))"
      ],
      "execution_count": 0,
      "outputs": []
    },
    {
      "cell_type": "markdown",
      "metadata": {
        "id": "UMx-U78GeuF0",
        "colab_type": "text"
      },
      "source": [
        "Напишем функцию выполняющую визуализацию"
      ]
    },
    {
      "cell_type": "code",
      "metadata": {
        "id": "jhIpFoHLe0UT",
        "colab_type": "code",
        "colab": {}
      },
      "source": [
        "def show_me(predictedV):\n",
        "  sns.distplot(trainV, bins=100, hist=False, label='train')\n",
        "  sns.distplot(testV, bins=100, hist=False, label='test')\n",
        "  sns.distplot(predictedV, bins=100, hist=False, label='pred')\n",
        "  plt.legend()\n",
        "  plt.show()\n",
        "def show_error(predictedV):\n",
        "  error = testV - predictedV\n",
        "  error = error.loc[error!=0]\n",
        "  sns.distplot(error, bins=100, kde=False)\n",
        "  plt.show()"
      ],
      "execution_count": 0,
      "outputs": []
    },
    {
      "cell_type": "markdown",
      "metadata": {
        "id": "5XrLBnZaCCIg",
        "colab_type": "text"
      },
      "source": [
        "## Линейная регрессия"
      ]
    },
    {
      "cell_type": "markdown",
      "metadata": {
        "id": "Rade-D1LSs2B",
        "colab_type": "text"
      },
      "source": [
        "Начнем с Гребневой регрессии"
      ]
    },
    {
      "cell_type": "code",
      "metadata": {
        "id": "hw6MnPuqSXta",
        "colab_type": "code",
        "colab": {}
      },
      "source": [
        "ridgeModel = linear_model.RidgeCV(alphas=np.arange(0, 100, 0.1), \n",
        "                                  cv=5,\n",
        "                                  scoring='neg_mean_squared_error')\n",
        "ridgeModel.fit(trainD, trainV)\n",
        "predictedV = ridgeModel.predict(testD)"
      ],
      "execution_count": 0,
      "outputs": []
    },
    {
      "cell_type": "markdown",
      "metadata": {
        "id": "f5iSDvavVOHB",
        "colab_type": "text"
      },
      "source": [
        "визуализируем предсказание"
      ]
    },
    {
      "cell_type": "code",
      "metadata": {
        "id": "5fzqmMiLVHVK",
        "colab_type": "code",
        "colab": {
          "base_uri": "https://localhost:8080/",
          "height": 279
        },
        "outputId": "891cb719-8cff-4a04-a343-39e77a427a03"
      },
      "source": [
        "show_me(predictedV)"
      ],
      "execution_count": 225,
      "outputs": [
        {
          "output_type": "display_data",
          "data": {
            "image/png": "[encoded data removed]",
            "text/plain": [
              "<Figure size 432x288 with 1 Axes>"
            ]
          },
          "metadata": {
            "tags": [],
            "needs_background": "light"
          }
        }
      ]
    },
    {
      "cell_type": "markdown",
      "metadata": {
        "id": "P5Nqt9UDVTb_",
        "colab_type": "text"
      },
      "source": [
        "Визуализируем ошибку"
      ]
    },
    {
      "cell_type": "code",
      "metadata": {
        "id": "dIE-jhReVVn5",
        "colab_type": "code",
        "colab": {
          "base_uri": "https://localhost:8080/",
          "height": 439
        },
        "outputId": "5a32e840-ce10-4f37-d2a7-e7c3cbf85a5a"
      },
      "source": [
        "show_error(predictedV)"
      ],
      "execution_count": 242,
      "outputs": [
        {
          "output_type": "stream",
          "text": [
            "count    314.000000\n",
            "mean      -0.011408\n",
            "std        0.051298\n",
            "min       -0.319522\n",
            "25%       -0.023468\n",
            "50%       -0.001698\n",
            "75%        0.015446\n",
            "max        0.080594\n",
            "Name: G3, dtype: float64\n"
          ],
          "name": "stdout"
        },
        {
          "output_type": "display_data",
          "data": {
            "image/png": "[encoded data removed]",
            "text/plain": [
              "<Figure size 432x288 with 1 Axes>"
            ]
          },
          "metadata": {
            "tags": [],
            "needs_background": "light"
          }
        }
      ]
    },
    {
      "cell_type": "markdown",
      "metadata": {
        "id": "6WTLp17aVXAJ",
        "colab_type": "text"
      },
      "source": [
        "Выведем показатили тренировки и тестов"
      ]
    },
    {
      "cell_type": "code",
      "metadata": {
        "id": "J1d-ZWhWVatb",
        "colab_type": "code",
        "colab": {
          "base_uri": "https://localhost:8080/",
          "height": 230
        },
        "outputId": "7629f319-54a8-44fd-823a-e979fdbfcf3b"
      },
      "source": [
        "print('Testing')\n",
        "calc_metrics(testV, predictedV)\n",
        "print('Training')\n",
        "calc_metrics(trainV, ridgeModel.predict(trainD))"
      ],
      "execution_count": 127,
      "outputs": [
        {
          "output_type": "stream",
          "text": [
            "Testing\n",
            "MSE:   0.004900397067904377\n",
            "RMSE:  0.07000283614186198\n",
            "R2:    0.584695623654987\n",
            "MAE:   0.044695508188403926\n",
            "MedAE: 0.029327986438180687\n",
            "Training\n",
            "MSE:   0.004676286062013644\n",
            "RMSE:  0.06838337562605143\n",
            "R2:    0.6225958377587097\n",
            "MAE:   0.044020031795285484\n",
            "MedAE: 0.03029977986758081\n"
          ],
          "name": "stdout"
        }
      ]
    },
    {
      "cell_type": "markdown",
      "metadata": {
        "id": "cPKZHypRUV4n",
        "colab_type": "text"
      },
      "source": [
        "Лассо регрессия"
      ]
    },
    {
      "cell_type": "code",
      "metadata": {
        "id": "Q5G4XZme6y_m",
        "colab_type": "code",
        "outputId": "a6fb0e6c-4b30-4d9a-b187-7be636e7987f",
        "colab": {
          "base_uri": "https://localhost:8080/",
          "height": 144
        }
      },
      "source": [
        "lassoModel = linear_model.Lasso(alpha=0)\n",
        "lassoModel.fit(trainD, trainV)\n",
        "predictedV = lassoModel.predict(testD)"
      ],
      "execution_count": 128,
      "outputs": [
        {
          "output_type": "stream",
          "text": [
            "/usr/local/lib/python3.6/dist-packages/ipykernel_launcher.py:2: UserWarning: With alpha=0, this algorithm does not converge well. You are advised to use the LinearRegression estimator\n",
            "  \n",
            "/usr/local/lib/python3.6/dist-packages/sklearn/linear_model/_coordinate_descent.py:476: UserWarning: Coordinate descent with no regularization may lead to unexpected results and is discouraged.\n",
            "  positive)\n",
            "/usr/local/lib/python3.6/dist-packages/sklearn/linear_model/_coordinate_descent.py:476: ConvergenceWarning: Objective did not converge. You might want to increase the number of iterations. Duality gap: 1.684329299379026, tolerance: 0.0009045180649299376\n",
            "  positive)\n"
          ],
          "name": "stderr"
        }
      ]
    },
    {
      "cell_type": "markdown",
      "metadata": {
        "id": "0m_X9XItV3Rp",
        "colab_type": "text"
      },
      "source": [
        "Визуализируем предсказание"
      ]
    },
    {
      "cell_type": "code",
      "metadata": {
        "id": "Y_pKbRDDV5IG",
        "colab_type": "code",
        "colab": {
          "base_uri": "https://localhost:8080/",
          "height": 279
        },
        "outputId": "86bb17f8-5fd2-49ba-cc2a-860c86bd27cc"
      },
      "source": [
        "show_me(predictedV)"
      ],
      "execution_count": 129,
      "outputs": [
        {
          "output_type": "display_data",
          "data": {
            "image/png": "[encoded data removed]",
            "text/plain": [
              "<Figure size 432x288 with 1 Axes>"
            ]
          },
          "metadata": {
            "tags": [],
            "needs_background": "light"
          }
        }
      ]
    },
    {
      "cell_type": "markdown",
      "metadata": {
        "id": "Hm9HLMozV_Ag",
        "colab_type": "text"
      },
      "source": [
        "Визуализируем ошибку"
      ]
    },
    {
      "cell_type": "code",
      "metadata": {
        "id": "syvMM2flWCxl",
        "colab_type": "code",
        "colab": {
          "base_uri": "https://localhost:8080/",
          "height": 492
        },
        "outputId": "713961a9-4400-4625-e9bf-61367b03f4ff"
      },
      "source": [
        "show_error(predictedV)"
      ],
      "execution_count": 240,
      "outputs": [
        {
          "output_type": "stream",
          "text": [
            "938    -0.040114\n",
            "447     0.011029\n",
            "903    -0.006716\n",
            "564    -0.026367\n",
            "1037   -0.020682\n",
            "          ...   \n",
            "973    -0.006369\n",
            "959     0.007979\n",
            "525     0.006321\n",
            "495    -0.147142\n",
            "927     0.026640\n",
            "Name: G3, Length: 314, dtype: float64\n"
          ],
          "name": "stdout"
        },
        {
          "output_type": "display_data",
          "data": {
            "image/png": "[encoded data removed]",
            "text/plain": [
              "<Figure size 432x288 with 1 Axes>"
            ]
          },
          "metadata": {
            "tags": [],
            "needs_background": "light"
          }
        }
      ]
    },
    {
      "cell_type": "markdown",
      "metadata": {
        "id": "SeE1mzHoVsQd",
        "colab_type": "text"
      },
      "source": [
        "Выведем показатили тренировки и тестов"
      ]
    },
    {
      "cell_type": "code",
      "metadata": {
        "id": "6y_pbHrlVu8-",
        "colab_type": "code",
        "colab": {
          "base_uri": "https://localhost:8080/",
          "height": 230
        },
        "outputId": "efaffad7-6839-49a6-b12c-07eef75fbc2f"
      },
      "source": [
        "print('Testing')\n",
        "calc_metrics(testV, predictedV)\n",
        "print('Training')\n",
        "calc_metrics(trainV, ridgeModel.predict(trainD))"
      ],
      "execution_count": 131,
      "outputs": [
        {
          "output_type": "stream",
          "text": [
            "Testing\n",
            "MSE:   0.0049457483362221446\n",
            "RMSE:  0.07032601464765471\n",
            "R2:    0.5808521432299976\n",
            "MAE:   0.045960783391873795\n",
            "MedAE: 0.03189893597050608\n",
            "Training\n",
            "MSE:   0.004676286062013644\n",
            "RMSE:  0.06838337562605143\n",
            "R2:    0.6225958377587097\n",
            "MAE:   0.044020031795285484\n",
            "MedAE: 0.03029977986758081\n"
          ],
          "name": "stdout"
        }
      ]
    },
    {
      "cell_type": "markdown",
      "metadata": {
        "id": "8EdWAGxSXL82",
        "colab_type": "text"
      },
      "source": [
        "Выводы:\n",
        "1. Обе регулиризации дали одинаковые результаты\n",
        "2. линейный алгоритм плохо определяет 0 результаты\n",
        "3. слишком равномерное предсказание\n",
        "4. результаты плохие, нет смысла проверять без G1 (самого коррелирующего фактора для G3)"
      ]
    },
    {
      "cell_type": "markdown",
      "metadata": {
        "id": "uir60pK9CO14",
        "colab_type": "text"
      },
      "source": [
        "## Полиномиальная регрессия"
      ]
    },
    {
      "cell_type": "markdown",
      "metadata": {
        "id": "bf0pnznea6-N",
        "colab_type": "text"
      },
      "source": [
        "Применим кросс валидацию для обнаружения лучшей степени \n",
        "\n",
        "\n",
        "\n",
        "Не будем брать слишком большую а то колаб ругается"
      ]
    },
    {
      "cell_type": "code",
      "metadata": {
        "id": "sSCliN7TF63o",
        "colab_type": "code",
        "colab": {
          "base_uri": "https://localhost:8080/",
          "height": 0
        },
        "outputId": "c9399d18-f667-495a-a620-d3bec69a5416"
      },
      "source": [
        "rmses = []\n",
        "degrees = np.arange(1, 6)\n",
        "min_rmse, min_deg = 1e10, 0\n",
        "\n",
        "for deg in degrees:\n",
        "\n",
        "    poly_features = PolynomialFeatures(degree=deg, include_bias=False)\n",
        "    d_poly_train = poly_features.fit_transform(trainD)\n",
        "\n",
        "    poly_reg = linear_model.LinearRegression()\n",
        "    poly_reg.fit(d_poly_train, trainV)\n",
        "\n",
        "    # Compare with test data\n",
        "    d_poly_test = poly_features.fit_transform(testD)\n",
        "    poly_predict = poly_reg.predict(d_poly_test)\n",
        "    poly_mse = mean_squared_error(testV, poly_predict)\n",
        "    poly_rmse = np.sqrt(poly_mse)\n",
        "    rmses.append(poly_rmse)\n",
        "\n",
        "    # Cross-validation of degree\n",
        "    if min_rmse > poly_rmse:\n",
        "        min_rmse = poly_rmse\n",
        "        min_deg = deg\n",
        "\n",
        "# Plot and present results\n",
        "print('Best degree {} with RMSE {}'.format(min_deg, min_rmse))\n"
      ],
      "execution_count": 132,
      "outputs": [
        {
          "output_type": "stream",
          "text": [
            "Best degree 5 with RMSE 0.0656836488080072\n"
          ],
          "name": "stdout"
        }
      ]
    },
    {
      "cell_type": "markdown",
      "metadata": {
        "id": "5PyqQa6qbfd9",
        "colab_type": "text"
      },
      "source": [
        "отразим результаты на графике"
      ]
    },
    {
      "cell_type": "code",
      "metadata": {
        "id": "Q6Al_ULEgz2m",
        "colab_type": "code",
        "colab": {
          "base_uri": "https://localhost:8080/",
          "height": 0
        },
        "outputId": "7ce8db6a-f192-41cb-bc62-38b3ed3e0650"
      },
      "source": [
        "fig = plt.figure()\n",
        "ax = fig.add_subplot(111)\n",
        "ax.plot(degrees, rmses)\n",
        "ax.set_yscale('log')\n",
        "ax.set_xlabel('Degree')\n",
        "ax.set_ylabel('RMSE')"
      ],
      "execution_count": 133,
      "outputs": [
        {
          "output_type": "execute_result",
          "data": {
            "text/plain": [
              "Text(0, 0.5, 'RMSE')"
            ]
          },
          "metadata": {
            "tags": []
          },
          "execution_count": 133
        },
        {
          "output_type": "display_data",
          "data": {
            "image/png": "[encoded data removed]",
            "text/plain": [
              "<Figure size 432x288 with 1 Axes>"
            ]
          },
          "metadata": {
            "tags": [],
            "needs_background": "light"
          }
        }
      ]
    },
    {
      "cell_type": "markdown",
      "metadata": {
        "id": "P8wsiy2TcHPn",
        "colab_type": "text"
      },
      "source": [
        "Рассчитаем показатели для степени 5"
      ]
    },
    {
      "cell_type": "code",
      "metadata": {
        "id": "7LN5kD23cMMb",
        "colab_type": "code",
        "colab": {
          "base_uri": "https://localhost:8080/",
          "height": 0
        },
        "outputId": "8ec30c06-97d5-4574-e935-ab114e811b87"
      },
      "source": [
        "poly_features = PolynomialFeatures(degree=5, include_bias=False)\n",
        "d_poly_train = poly_features.fit_transform(trainD)\n",
        "\n",
        "poly_reg = linear_model.LinearRegression()\n",
        "poly_reg.fit(d_poly_train, trainV)\n",
        "\n",
        "d_poly_test = poly_features.fit_transform(testD)\n",
        "poly_predict = poly_reg.predict(d_poly_test)\n",
        "\n",
        "print('Testing')\n",
        "calc_metrics(testV, poly_predict)"
      ],
      "execution_count": 134,
      "outputs": [
        {
          "output_type": "stream",
          "text": [
            "Testing\n",
            "MSE:   0.004314341720733625\n",
            "RMSE:  0.0656836488080072\n",
            "R2:    0.6343633030466274\n",
            "MAE:   0.045718764312770346\n",
            "MedAE: 0.03108046345359433\n"
          ],
          "name": "stdout"
        }
      ]
    },
    {
      "cell_type": "code",
      "metadata": {
        "id": "KlwBQuZHfW-g",
        "colab_type": "code",
        "colab": {
          "base_uri": "https://localhost:8080/",
          "height": 0
        },
        "outputId": "45650c15-873a-4bc1-914b-f9b10ea3578a"
      },
      "source": [
        "show_me(poly_predict)"
      ],
      "execution_count": 135,
      "outputs": [
        {
          "output_type": "display_data",
          "data": {
            "image/png": "[encoded data removed]",
            "text/plain": [
              "<Figure size 432x288 with 1 Axes>"
            ]
          },
          "metadata": {
            "tags": [],
            "needs_background": "light"
          }
        }
      ]
    },
    {
      "cell_type": "markdown",
      "metadata": {
        "id": "r7GC8LALc5ns",
        "colab_type": "text"
      },
      "source": [
        "И конечно же визуализируем ошибку"
      ]
    },
    {
      "cell_type": "code",
      "metadata": {
        "id": "wxKi4XRCc8wQ",
        "colab_type": "code",
        "colab": {
          "base_uri": "https://localhost:8080/",
          "height": 0
        },
        "outputId": "ae06790c-2607-47bd-9641-8fb4812aed79"
      },
      "source": [
        "show_error(poly_predict)"
      ],
      "execution_count": 136,
      "outputs": [
        {
          "output_type": "display_data",
          "data": {
            "image/png": "[encoded data removed]",
            "text/plain": [
              "<Figure size 432x288 with 1 Axes>"
            ]
          },
          "metadata": {
            "tags": [],
            "needs_background": "light"
          }
        }
      ]
    },
    {
      "cell_type": "markdown",
      "metadata": {
        "id": "I39G8450RFlA",
        "colab_type": "text"
      },
      "source": [
        "Как мы видим, в целом данные предсказываются довольно неплохо, \n",
        "Так что здесь уже представляет интерес проверить, как будет работать алгоритм на тренеровочных данных без G1"
      ]
    },
    {
      "cell_type": "code",
      "metadata": {
        "id": "qyRiqNNQRZxm",
        "colab_type": "code",
        "colab": {}
      },
      "source": [
        "poly_features = PolynomialFeatures(degree=5, include_bias=False)\n",
        "d_poly_train = poly_features.fit_transform(trainD1)\n",
        "\n",
        "poly_reg = linear_model.LinearRegression()\n",
        "poly_reg.fit(d_poly_train, trainV1)\n",
        "\n",
        "d_poly_test = poly_features.fit_transform(testD1)\n",
        "poly_predict = poly_reg.predict(d_poly_test)\n"
      ],
      "execution_count": 0,
      "outputs": []
    },
    {
      "cell_type": "code",
      "metadata": {
        "id": "CEpwJsnhRg7I",
        "colab_type": "code",
        "colab": {
          "base_uri": "https://localhost:8080/",
          "height": 0
        },
        "outputId": "88d0b16e-30ed-4a04-d7df-b83b499fbcbf"
      },
      "source": [
        "show_me(poly_predict)"
      ],
      "execution_count": 138,
      "outputs": [
        {
          "output_type": "display_data",
          "data": {
            "image/png": "[encoded data removed]",
            "text/plain": [
              "<Figure size 432x288 with 1 Axes>"
            ]
          },
          "metadata": {
            "tags": [],
            "needs_background": "light"
          }
        }
      ]
    },
    {
      "cell_type": "code",
      "metadata": {
        "id": "8Gm2v6mqRorX",
        "colab_type": "code",
        "colab": {
          "base_uri": "https://localhost:8080/",
          "height": 0
        },
        "outputId": "284f319e-2997-4b2b-a695-2b63f924e00b"
      },
      "source": [
        "show_error(poly_predict)"
      ],
      "execution_count": 139,
      "outputs": [
        {
          "output_type": "display_data",
          "data": {
            "image/png": "[encoded data removed]",
            "text/plain": [
              "<Figure size 432x288 with 1 Axes>"
            ]
          },
          "metadata": {
            "tags": [],
            "needs_background": "light"
          }
        }
      ]
    },
    {
      "cell_type": "code",
      "metadata": {
        "id": "elSJhFKARkU3",
        "colab_type": "code",
        "colab": {
          "base_uri": "https://localhost:8080/",
          "height": 0
        },
        "outputId": "28583b8b-28cf-4cfa-9769-839273187f2c"
      },
      "source": [
        "print('Testing')\n",
        "calc_metrics(testV1, poly_predict)"
      ],
      "execution_count": 140,
      "outputs": [
        {
          "output_type": "stream",
          "text": [
            "Testing\n",
            "MSE:   0.007107341272593831\n",
            "RMSE:  0.08430504891519743\n",
            "R2:    0.3976590276697657\n",
            "MAE:   0.06267323187350038\n",
            "MedAE: 0.04800671080087096\n"
          ],
          "name": "stdout"
        }
      ]
    },
    {
      "cell_type": "markdown",
      "metadata": {
        "id": "DcljCMByVAXT",
        "colab_type": "text"
      },
      "source": [
        "Получили вполне ожидаемые результаты:\n",
        "1. Полиномиальная регрессия большой степени предсказывает данные лучше, чем линейная\n",
        "2. Мы взяли степень недостаточно большую, чтобы модель переучивалась \n",
        "3. При исключении признака G1, ошибка предсказания возрастает\n",
        "4. Для Полиномиальной регрессии так же трудно определить кто завалил итоговый экзамен "
      ]
    },
    {
      "cell_type": "markdown",
      "metadata": {
        "id": "-YKQtStDCU9m",
        "colab_type": "text"
      },
      "source": [
        "## К соседей"
      ]
    },
    {
      "cell_type": "markdown",
      "metadata": {
        "id": "KMWRWAftcaFB",
        "colab_type": "text"
      },
      "source": [
        "### С G1"
      ]
    },
    {
      "cell_type": "markdown",
      "metadata": {
        "id": "JLhlTyCMb7z-",
        "colab_type": "text"
      },
      "source": [
        "Начнем кросс валидацию"
      ]
    },
    {
      "cell_type": "code",
      "metadata": {
        "id": "RFs7VHkhJdDn",
        "colab_type": "code",
        "colab": {
          "base_uri": "https://localhost:8080/",
          "height": 35
        },
        "outputId": "08e2a2b2-a2b2-4f51-e39e-749502d07e6e"
      },
      "source": [
        "knn2 = KNeighborsRegressor()\n",
        "\n",
        "param_grid = {'n_neighbors': np.arange(1, 25)}\n",
        "\n",
        "knn_gscv = GridSearchCV(knn2, param_grid, cv=5,scoring='explained_variance')\n",
        "\n",
        "knn_gscv.fit(trainD, trainV)\n",
        "knn_gscv.best_params_"
      ],
      "execution_count": 229,
      "outputs": [
        {
          "output_type": "execute_result",
          "data": {
            "text/plain": [
              "{'n_neighbors': 8}"
            ]
          },
          "metadata": {
            "tags": []
          },
          "execution_count": 229
        }
      ]
    },
    {
      "cell_type": "markdown",
      "metadata": {
        "id": "7o6ahQ9gdiF6",
        "colab_type": "text"
      },
      "source": [
        "вычислили лучшие параметры, теперь можно и посмотреть а что там с данными "
      ]
    },
    {
      "cell_type": "code",
      "metadata": {
        "id": "7mKpHgyPAsHC",
        "colab_type": "code",
        "colab": {}
      },
      "source": [
        "knn = KNeighborsRegressor(n_neighbors=8)\n",
        "knn.fit(trainD, trainV)\n",
        "predictedV = knn.predict(testD)"
      ],
      "execution_count": 0,
      "outputs": []
    },
    {
      "cell_type": "markdown",
      "metadata": {
        "id": "Wq1a98KmeTV5",
        "colab_type": "text"
      },
      "source": [
        "Визуализация!"
      ]
    },
    {
      "cell_type": "code",
      "metadata": {
        "id": "rzh1lalieVQB",
        "colab_type": "code",
        "colab": {
          "base_uri": "https://localhost:8080/",
          "height": 279
        },
        "outputId": "d2e753a1-fc0c-4b58-e05a-6676a54d0e48"
      },
      "source": [
        "show_me(predictedV)"
      ],
      "execution_count": 235,
      "outputs": [
        {
          "output_type": "display_data",
          "data": {
            "image/png": "[encoded data removed]",
            "text/plain": [
              "<Figure size 432x288 with 1 Axes>"
            ]
          },
          "metadata": {
            "tags": [],
            "needs_background": "light"
          }
        }
      ]
    },
    {
      "cell_type": "code",
      "metadata": {
        "id": "u0gzcwQkfpkF",
        "colab_type": "code",
        "colab": {
          "base_uri": "https://localhost:8080/",
          "height": 279
        },
        "outputId": "91f17cd0-480d-4ade-bcb3-96f9dcf22568"
      },
      "source": [
        "show_error(predictedV)"
      ],
      "execution_count": 233,
      "outputs": [
        {
          "output_type": "display_data",
          "data": {
            "image/png": "[encoded data removed]",
            "text/plain": [
              "<Figure size 432x288 with 1 Axes>"
            ]
          },
          "metadata": {
            "tags": [],
            "needs_background": "light"
          }
        }
      ]
    },
    {
      "cell_type": "code",
      "metadata": {
        "id": "w_v86Agffy6O",
        "colab_type": "code",
        "colab": {
          "base_uri": "https://localhost:8080/",
          "height": 230
        },
        "outputId": "3d6d1002-6bff-4047-a2c7-c6435c899e2c"
      },
      "source": [
        "print('Testing')\n",
        "calc_metrics(testV, predictedV)"
      ],
      "execution_count": 145,
      "outputs": [
        {
          "output_type": "stream",
          "text": [
            "Testing\n",
            "MSE:   0.009323723345051516\n",
            "RMSE:  0.09655942908412164\n",
            "R2:    0.20982258062488546\n",
            "MAE:   0.06099348160320172\n",
            "MedAE: 0.03636535536717536\n",
            "Testing17\n",
            "MSE:   0.007885848116780062\n",
            "RMSE:  0.08880229792511038\n",
            "R2:    0.3316812518028496\n",
            "MAE:   0.05467199244708233\n",
            "MedAE: 0.034860477493157516\n"
          ],
          "name": "stdout"
        }
      ]
    },
    {
      "cell_type": "markdown",
      "metadata": {
        "id": "SVuePLUFcd7X",
        "colab_type": "text"
      },
      "source": [
        "### Без G1"
      ]
    },
    {
      "cell_type": "code",
      "metadata": {
        "id": "314-IDRZcSgf",
        "colab_type": "code",
        "colab": {
          "base_uri": "https://localhost:8080/",
          "height": 0
        },
        "outputId": "1af1a9be-199e-4474-e2be-f8b156efbd7e"
      },
      "source": [
        "knn2 = KNeighborsRegressor()\n",
        "\n",
        "param_grid = {'n_neighbors': np.arange(1, 25)}\n",
        "\n",
        "knn_gscv = GridSearchCV(knn2, param_grid, cv=5, scoring='explained_variance')\n",
        "\n",
        "knn_gscv.fit(trainD1, trainV1)\n",
        "knn_gscv.best_params_"
      ],
      "execution_count": 146,
      "outputs": [
        {
          "output_type": "execute_result",
          "data": {
            "text/plain": [
              "{'n_neighbors': 15}"
            ]
          },
          "metadata": {
            "tags": []
          },
          "execution_count": 146
        }
      ]
    },
    {
      "cell_type": "code",
      "metadata": {
        "id": "9mDPXDkceHst",
        "colab_type": "code",
        "colab": {}
      },
      "source": [
        "knn = KNeighborsRegressor(n_neighbors=2)\n",
        "knn.fit(trainD1, trainV1)\n",
        "predictedV = knn.predict(testD1)"
      ],
      "execution_count": 0,
      "outputs": []
    },
    {
      "cell_type": "code",
      "metadata": {
        "id": "W6S7vZZDeLrH",
        "colab_type": "code",
        "colab": {
          "base_uri": "https://localhost:8080/",
          "height": 0
        },
        "outputId": "ba7c8b2a-85d2-4acd-84c7-3d0cb9033083"
      },
      "source": [
        "show_me(predictedV)"
      ],
      "execution_count": 148,
      "outputs": [
        {
          "output_type": "display_data",
          "data": {
            "image/png": "[encoded data removed]",
            "text/plain": [
              "<Figure size 432x288 with 1 Axes>"
            ]
          },
          "metadata": {
            "tags": [],
            "needs_background": "light"
          }
        }
      ]
    },
    {
      "cell_type": "code",
      "metadata": {
        "id": "YOEdLFIPeNMW",
        "colab_type": "code",
        "colab": {
          "base_uri": "https://localhost:8080/",
          "height": 0
        },
        "outputId": "4c506b6f-e6f8-4283-b28a-f5e147ad20b6"
      },
      "source": [
        "show_error(predictedV)"
      ],
      "execution_count": 149,
      "outputs": [
        {
          "output_type": "display_data",
          "data": {
            "image/png": "[encoded data removed]",
            "text/plain": [
              "<Figure size 432x288 with 1 Axes>"
            ]
          },
          "metadata": {
            "tags": [],
            "needs_background": "light"
          }
        }
      ]
    },
    {
      "cell_type": "code",
      "metadata": {
        "id": "eP9ihZx3eOYn",
        "colab_type": "code",
        "colab": {
          "base_uri": "https://localhost:8080/",
          "height": 0
        },
        "outputId": "6b9085d9-354d-4769-984a-731a18390b3c"
      },
      "source": [
        "print('Testing')\n",
        "calc_metrics(testV, predictedV)"
      ],
      "execution_count": 150,
      "outputs": [
        {
          "output_type": "stream",
          "text": [
            "Testing\n",
            "MSE:   0.009214372754989965\n",
            "RMSE:  0.0959915243914272\n",
            "R2:    0.21908994773395374\n",
            "MAE:   0.06043681006246816\n",
            "MedAE: 0.03588886707391406\n"
          ],
          "name": "stdout"
        }
      ]
    },
    {
      "cell_type": "markdown",
      "metadata": {
        "id": "pNB7H963YX2C",
        "colab_type": "text"
      },
      "source": [
        ""
      ]
    },
    {
      "cell_type": "markdown",
      "metadata": {
        "id": "zus-7kA_QofW",
        "colab_type": "text"
      },
      "source": [
        "## радиус"
      ]
    },
    {
      "cell_type": "markdown",
      "metadata": {
        "id": "hV6zLTA8MP9Q",
        "colab_type": "text"
      },
      "source": [
        "Кросс валидация"
      ]
    },
    {
      "cell_type": "code",
      "metadata": {
        "id": "GV5SF59DCmDQ",
        "colab_type": "code",
        "colab": {
          "base_uri": "https://localhost:8080/",
          "height": 35
        },
        "outputId": "ac1cf889-f17c-4c56-8347-9324e2265a36"
      },
      "source": [
        "rnr = RadiusNeighborsRegressor()\n",
        "param_grid = {'radius': np.arange(0.3,1.1, 0.01)}\n",
        "rnr_gscv = GridSearchCV(rnr, param_grid, cv=5)\n",
        "rnr_gscv.fit(trainD, trainV)\n",
        "rnr_gscv.best_params_"
      ],
      "execution_count": 260,
      "outputs": [
        {
          "output_type": "execute_result",
          "data": {
            "text/plain": [
              "{'radius': 0.3}"
            ]
          },
          "metadata": {
            "tags": []
          },
          "execution_count": 260
        }
      ]
    },
    {
      "cell_type": "markdown",
      "metadata": {
        "id": "_ILT8eMyMUIP",
        "colab_type": "text"
      },
      "source": [
        "Предсказание"
      ]
    },
    {
      "cell_type": "code",
      "metadata": {
        "id": "wRgMjhGRMVa3",
        "colab_type": "code",
        "colab": {}
      },
      "source": [
        "rnr = RadiusNeighborsRegressor(radius = rnr_gscv.best_params_['radius'])\n",
        "rnr.fit(trainD, trainV)\n",
        "predictedV = rnr.predict(testD)"
      ],
      "execution_count": 0,
      "outputs": []
    },
    {
      "cell_type": "markdown",
      "metadata": {
        "id": "6zxDkGe6MVmf",
        "colab_type": "text"
      },
      "source": [
        "Визуалия"
      ]
    },
    {
      "cell_type": "code",
      "metadata": {
        "id": "JOoqMP4jQdm6",
        "colab_type": "code",
        "colab": {
          "base_uri": "https://localhost:8080/",
          "height": 279
        },
        "outputId": "2453db51-aeac-4e54-8be3-399dd9d08bef"
      },
      "source": [
        "show_me(predictedV)"
      ],
      "execution_count": 265,
      "outputs": [
        {
          "output_type": "display_data",
          "data": {
            "image/png": "[encoded data removed]",
            "text/plain": [
              "<Figure size 432x288 with 1 Axes>"
            ]
          },
          "metadata": {
            "tags": [],
            "needs_background": "light"
          }
        }
      ]
    },
    {
      "cell_type": "code",
      "metadata": {
        "id": "6bpoBajUQeFA",
        "colab_type": "code",
        "colab": {
          "base_uri": "https://localhost:8080/",
          "height": 279
        },
        "outputId": "2d5d9114-1d10-4740-f37f-973989467bff"
      },
      "source": [
        "show_error(predictedV)"
      ],
      "execution_count": 154,
      "outputs": [
        {
          "output_type": "display_data",
          "data": {
            "image/png": "[encoded data removed]",
            "text/plain": [
              "<Figure size 432x288 with 1 Axes>"
            ]
          },
          "metadata": {
            "tags": [],
            "needs_background": "light"
          }
        }
      ]
    },
    {
      "cell_type": "code",
      "metadata": {
        "id": "EYjvxTejQjuE",
        "colab_type": "code",
        "colab": {
          "base_uri": "https://localhost:8080/",
          "height": 124
        },
        "outputId": "a43a2f5f-7a72-44f2-d04e-326bad4fe818"
      },
      "source": [
        "print('Testing')\n",
        "calc_metrics(testV, predictedV)"
      ],
      "execution_count": 155,
      "outputs": [
        {
          "output_type": "stream",
          "text": [
            "Testing\n",
            "MSE:   0.009907078299261025\n",
            "RMSE:  0.0995343071471391\n",
            "R2:    0.16038375718085818\n",
            "MAE:   0.06203491295739711\n",
            "MedAE: 0.04367330859068849\n"
          ],
          "name": "stdout"
        }
      ]
    },
    {
      "cell_type": "markdown",
      "metadata": {
        "id": "pRtgeteqb4tF",
        "colab_type": "text"
      },
      "source": [
        "Как видно невооруженным глазом, метрика просто ужасно предсказала значения\n",
        "\n",
        "\n",
        "Пробовать без G1 бессмысленно "
      ]
    },
    {
      "cell_type": "markdown",
      "metadata": {
        "id": "jFNqZaEZQ0V5",
        "colab_type": "text"
      },
      "source": [
        "## деревья решений"
      ]
    },
    {
      "cell_type": "markdown",
      "metadata": {
        "id": "uDI6nb3cjOra",
        "colab_type": "text"
      },
      "source": [
        "### C G1"
      ]
    },
    {
      "cell_type": "markdown",
      "metadata": {
        "id": "gVpMlUe8Mrvn",
        "colab_type": "text"
      },
      "source": [
        "Кросс валидация"
      ]
    },
    {
      "cell_type": "code",
      "metadata": {
        "id": "1NRhn3yHMwVe",
        "colab_type": "code",
        "colab": {
          "base_uri": "https://localhost:8080/",
          "height": 0
        },
        "outputId": "bf847b36-0770-4f33-9519-f58e392a8507"
      },
      "source": [
        "from sklearn.tree import DecisionTreeRegressor\n",
        "reg_tree = DecisionTreeRegressor()\n",
        "\n",
        "param_grid = {'max_depth': np.arange(1, 100)}\n",
        "\n",
        "reg_tree_gscv = GridSearchCV(reg_tree, param_grid, cv=5)\n",
        "\n",
        "reg_tree_gscv.fit(trainD, trainV)\n",
        "reg_tree_gscv.best_params_"
      ],
      "execution_count": 266,
      "outputs": [
        {
          "output_type": "execute_result",
          "data": {
            "text/plain": [
              "{'max_depth': 83}"
            ]
          },
          "metadata": {
            "tags": []
          },
          "execution_count": 266
        }
      ]
    },
    {
      "cell_type": "markdown",
      "metadata": {
        "id": "X82Y7X-QMuF3",
        "colab_type": "text"
      },
      "source": [
        "Предсказание"
      ]
    },
    {
      "cell_type": "code",
      "metadata": {
        "id": "5aAK7DFbMwtH",
        "colab_type": "code",
        "colab": {}
      },
      "source": [
        "reg_tree = DecisionTreeRegressor(max_depth = reg_tree_gscv.best_params_['max_depth'])\n",
        "reg_tree.fit(trainD, trainV)\n",
        "predictedV = reg_tree.predict(testD)"
      ],
      "execution_count": 0,
      "outputs": []
    },
    {
      "cell_type": "markdown",
      "metadata": {
        "id": "7Q70yqeSMvIR",
        "colab_type": "text"
      },
      "source": [
        "Визуал"
      ]
    },
    {
      "cell_type": "code",
      "metadata": {
        "id": "5EzZECIfMxOQ",
        "colab_type": "code",
        "colab": {
          "base_uri": "https://localhost:8080/",
          "height": 279
        },
        "outputId": "c315afba-419f-46b3-dc1e-a9d7c596009e"
      },
      "source": [
        "show_me(predictedV)"
      ],
      "execution_count": 158,
      "outputs": [
        {
          "output_type": "display_data",
          "data": {
            "image/png": "[encoded data removed]",
            "text/plain": [
              "<Figure size 432x288 with 1 Axes>"
            ]
          },
          "metadata": {
            "tags": [],
            "needs_background": "light"
          }
        }
      ]
    },
    {
      "cell_type": "code",
      "metadata": {
        "id": "ixHe271fjkEF",
        "colab_type": "code",
        "colab": {
          "base_uri": "https://localhost:8080/",
          "height": 279
        },
        "outputId": "41639244-67b7-42f7-ff83-580d6c716101"
      },
      "source": [
        "show_error(predictedV)"
      ],
      "execution_count": 159,
      "outputs": [
        {
          "output_type": "display_data",
          "data": {
            "image/png": "[encoded data removed]",
            "text/plain": [
              "<Figure size 432x288 with 1 Axes>"
            ]
          },
          "metadata": {
            "tags": [],
            "needs_background": "light"
          }
        }
      ]
    },
    {
      "cell_type": "code",
      "metadata": {
        "id": "julglYE6jm5P",
        "colab_type": "code",
        "colab": {
          "base_uri": "https://localhost:8080/",
          "height": 124
        },
        "outputId": "243d2f12-e995-402b-abfb-04d9d6c1d660"
      },
      "source": [
        "print('Testing')\n",
        "calc_metrics(testV, predictedV)"
      ],
      "execution_count": 160,
      "outputs": [
        {
          "output_type": "stream",
          "text": [
            "Testing\n",
            "MSE:   0.0028240040612679943\n",
            "RMSE:  0.05314135923429127\n",
            "R2:    0.7606681194995005\n",
            "MAE:   0.032462140929748695\n",
            "MedAE: 0.025006895035048243\n"
          ],
          "name": "stdout"
        }
      ]
    },
    {
      "cell_type": "markdown",
      "metadata": {
        "id": "mrbcJdkjlC69",
        "colab_type": "text"
      },
      "source": [
        "### Без G1"
      ]
    },
    {
      "cell_type": "code",
      "metadata": {
        "id": "eZOUPwlWlKP9",
        "colab_type": "code",
        "colab": {
          "base_uri": "https://localhost:8080/",
          "height": 0
        },
        "outputId": "2e6abd3f-5e9d-44bb-8b41-41e892fbd079"
      },
      "source": [
        "from sklearn.tree import DecisionTreeRegressor\n",
        "reg_tree = DecisionTreeRegressor()\n",
        "\n",
        "param_grid = {'max_depth': np.arange(1, 100)}\n",
        "\n",
        "reg_tree_gscv = GridSearchCV(reg_tree, param_grid, cv=5)\n",
        "\n",
        "reg_tree_gscv.fit(trainD1, trainV1)\n",
        "reg_tree_gscv.best_params_"
      ],
      "execution_count": 161,
      "outputs": [
        {
          "output_type": "execute_result",
          "data": {
            "text/plain": [
              "{'max_depth': 44}"
            ]
          },
          "metadata": {
            "tags": []
          },
          "execution_count": 161
        }
      ]
    },
    {
      "cell_type": "code",
      "metadata": {
        "id": "a074fPALlVUt",
        "colab_type": "code",
        "colab": {}
      },
      "source": [
        "reg_tree = DecisionTreeRegressor(max_depth = reg_tree_gscv.best_params_['max_depth'])\n",
        "reg_tree.fit(trainD1, trainV1)\n",
        "predictedV = reg_tree.predict(testD1)"
      ],
      "execution_count": 0,
      "outputs": []
    },
    {
      "cell_type": "code",
      "metadata": {
        "id": "kehQtPSblYld",
        "colab_type": "code",
        "colab": {
          "base_uri": "https://localhost:8080/",
          "height": 0
        },
        "outputId": "19bd0dbc-1610-43a9-a310-e3cb77e0eddb"
      },
      "source": [
        "show_me(predictedV)"
      ],
      "execution_count": 163,
      "outputs": [
        {
          "output_type": "display_data",
          "data": {
            "image/png": "[encoded data removed]",
            "text/plain": [
              "<Figure size 432x288 with 1 Axes>"
            ]
          },
          "metadata": {
            "tags": [],
            "needs_background": "light"
          }
        }
      ]
    },
    {
      "cell_type": "code",
      "metadata": {
        "id": "LKRoST7PlbW1",
        "colab_type": "code",
        "colab": {
          "base_uri": "https://localhost:8080/",
          "height": 0
        },
        "outputId": "b0215297-0f8c-494a-b72b-4cb7ca0741c6"
      },
      "source": [
        "show_error(predictedV)"
      ],
      "execution_count": 164,
      "outputs": [
        {
          "output_type": "display_data",
          "data": {
            "image/png": "[encoded data removed]",
            "text/plain": [
              "<Figure size 432x288 with 1 Axes>"
            ]
          },
          "metadata": {
            "tags": [],
            "needs_background": "light"
          }
        }
      ]
    },
    {
      "cell_type": "code",
      "metadata": {
        "id": "9J_ESA6_lcnl",
        "colab_type": "code",
        "colab": {
          "base_uri": "https://localhost:8080/",
          "height": 0
        },
        "outputId": "59f6ff8b-189c-42ec-cfee-77d9453bfb12"
      },
      "source": [
        "print('Testing')\n",
        "calc_metrics(testV, predictedV)"
      ],
      "execution_count": 165,
      "outputs": [
        {
          "output_type": "stream",
          "text": [
            "Testing\n",
            "MSE:   0.004520230128215768\n",
            "RMSE:  0.0672326567094873\n",
            "R2:    0.6169144401318094\n",
            "MAE:   0.03630581064826763\n",
            "MedAE: 0.022888629698421536\n"
          ],
          "name": "stdout"
        }
      ]
    },
    {
      "cell_type": "markdown",
      "metadata": {
        "id": "p1DQafmhjot-",
        "colab_type": "text"
      },
      "source": [
        "Выводы:\n",
        "1. Как же хорошо Деревья Решений апроксимируют значения!!!\n",
        "2. Конечно, камнем преткновения до сих пор остаются 0 \n",
        "3. Результат без G1 конечно хуже, но совсем ненамного!!!"
      ]
    },
    {
      "cell_type": "markdown",
      "metadata": {
        "id": "sMDzBYXXkoOs",
        "colab_type": "text"
      },
      "source": [
        "# Часть 3. Классификация"
      ]
    },
    {
      "cell_type": "markdown",
      "metadata": {
        "id": "UFmwao4jkoOt",
        "colab_type": "text"
      },
      "source": [
        "### Бинарная классификация\n",
        "  \n",
        "* Решите задачу бинарной классификации: постройте модель, предсказывающую, сдаст студент предмет (`G3` >= 8) или не сдаст (`G3` < 8). <br>При решении задачи **нельзя** использовать признаки `G1` и `G2`.  \n",
        "  \n",
        "\n",
        "* При решении задачи рассмотрите различные модели:  \n",
        "  * KNN и  Radius Neighbors;  \n",
        "  * Логистическая регрессия;  \n",
        "  * Деревья решений.  \n",
        "  \n",
        "  На кросс-валидации подберите оптимальные значения гиперпараметров алгоритмов.  \n",
        "\n",
        "\n",
        "* Оцените качество моделей, используйте различные подходы: confusion matrix и производные метрики, roc-кривая и roc auc. <br>Сделайте вывод о качестве решения задачи.  \n",
        "  \n",
        "  \n",
        "* Постройте дерево решений глубины 5 (остальные параметры по умолчанию), оцените качество на 5-fold валидации.\n",
        "  * Для одного из деревьев (т.е. обученного на одной из итераций кросс-валидации) выведите само дерево - постройте график или выведите в текстовом виде. По структуре дерева сформулируйте правила, по которым принимается решение.\n",
        "  * Сравните между собой деревья решений, полученные на различных итерациях 5-fold валидации. Сделайте вывод, насколько сильно они похожи или различаются между собой. \n"
      ]
    },
    {
      "cell_type": "markdown",
      "metadata": {
        "id": "yY5hFmTfmX1h",
        "colab_type": "text"
      },
      "source": [
        "## Бинарная классификация"
      ]
    },
    {
      "cell_type": "markdown",
      "metadata": {
        "id": "qekdBL0x4pDb",
        "colab_type": "text"
      },
      "source": [
        "### Подготовка данных"
      ]
    },
    {
      "cell_type": "code",
      "metadata": {
        "id": "DGF4ljA-pXA6",
        "colab_type": "code",
        "colab": {}
      },
      "source": [
        "def leave_bin(frame, norm):\n",
        "  for seria in frame.columns.tolist():\n",
        "    if (frame[seria].max() == 1) & (frame[seria].min() == 0):\n",
        "      norm[seria] = frame[seria]"
      ],
      "execution_count": 0,
      "outputs": []
    },
    {
      "cell_type": "code",
      "metadata": {
        "id": "wEqRmS9o4sCB",
        "colab_type": "code",
        "colab": {
          "base_uri": "https://localhost:8080/",
          "height": 419
        },
        "outputId": "4a362a55-8c61-4518-8c5a-11aacd64ea57"
      },
      "source": [
        "data_bin = data_norm.copy()\n",
        "data_bin.drop(['G1'], axis='columns', inplace=True)\n",
        "data_bin.drop(['G3'], axis='columns', inplace=True)\n",
        "data_bin['Pass'] = np.where((data['G3'] > 8),1,0)\n",
        "#leave_bin(data, data_bin)\n",
        "#data_norm['is anybody home'] = np.where((data['Mjob'] == 3)|(data['Fjob'] == 3),1,0)\n",
        "data_bin"
      ],
      "execution_count": 273,
      "outputs": [
        {
          "output_type": "execute_result",
          "data": {
            "text/html": [
              "<div>\n",
              "<style scoped>\n",
              "    .dataframe tbody tr th:only-of-type {\n",
              "        vertical-align: middle;\n",
              "    }\n",
              "\n",
              "    .dataframe tbody tr th {\n",
              "        vertical-align: top;\n",
              "    }\n",
              "\n",
              "    .dataframe thead th {\n",
              "        text-align: right;\n",
              "    }\n",
              "</style>\n",
              "<table border=\"1\" class=\"dataframe\">\n",
              "  <thead>\n",
              "    <tr style=\"text-align: right;\">\n",
              "      <th></th>\n",
              "      <th>Subject</th>\n",
              "      <th>school</th>\n",
              "      <th>sex</th>\n",
              "      <th>age</th>\n",
              "      <th>address</th>\n",
              "      <th>famsize</th>\n",
              "      <th>Pstatus</th>\n",
              "      <th>Medu</th>\n",
              "      <th>Fedu</th>\n",
              "      <th>Mjob</th>\n",
              "      <th>Fjob</th>\n",
              "      <th>reason</th>\n",
              "      <th>guardian</th>\n",
              "      <th>traveltime</th>\n",
              "      <th>studytime</th>\n",
              "      <th>failures</th>\n",
              "      <th>schoolsup</th>\n",
              "      <th>famsup</th>\n",
              "      <th>paid</th>\n",
              "      <th>activities</th>\n",
              "      <th>nursery</th>\n",
              "      <th>higher</th>\n",
              "      <th>internet</th>\n",
              "      <th>romantic</th>\n",
              "      <th>famrel</th>\n",
              "      <th>freetime</th>\n",
              "      <th>goout</th>\n",
              "      <th>health</th>\n",
              "      <th>absences</th>\n",
              "      <th>Alco</th>\n",
              "      <th>Pass</th>\n",
              "    </tr>\n",
              "  </thead>\n",
              "  <tbody>\n",
              "    <tr>\n",
              "      <th>0</th>\n",
              "      <td>0.030275</td>\n",
              "      <td>0.030275</td>\n",
              "      <td>0.030275</td>\n",
              "      <td>0.484404</td>\n",
              "      <td>0.030275</td>\n",
              "      <td>0.000000</td>\n",
              "      <td>0.000000</td>\n",
              "      <td>0.090826</td>\n",
              "      <td>0.121101</td>\n",
              "      <td>0.060550</td>\n",
              "      <td>0.000000</td>\n",
              "      <td>0.060550</td>\n",
              "      <td>0.030275</td>\n",
              "      <td>0.030275</td>\n",
              "      <td>0.030275</td>\n",
              "      <td>0.000000</td>\n",
              "      <td>0.0</td>\n",
              "      <td>0.000000</td>\n",
              "      <td>0.030275</td>\n",
              "      <td>0.000000</td>\n",
              "      <td>0.030275</td>\n",
              "      <td>0.030275</td>\n",
              "      <td>0.030275</td>\n",
              "      <td>0.030275</td>\n",
              "      <td>0.090826</td>\n",
              "      <td>0.060550</td>\n",
              "      <td>0.030275</td>\n",
              "      <td>0.151376</td>\n",
              "      <td>0.363303</td>\n",
              "      <td>0.151376</td>\n",
              "      <td>1</td>\n",
              "    </tr>\n",
              "    <tr>\n",
              "      <th>1</th>\n",
              "      <td>0.027735</td>\n",
              "      <td>0.027735</td>\n",
              "      <td>0.027735</td>\n",
              "      <td>0.471495</td>\n",
              "      <td>0.027735</td>\n",
              "      <td>0.000000</td>\n",
              "      <td>0.027735</td>\n",
              "      <td>0.083205</td>\n",
              "      <td>0.055470</td>\n",
              "      <td>0.000000</td>\n",
              "      <td>0.000000</td>\n",
              "      <td>0.055470</td>\n",
              "      <td>0.055470</td>\n",
              "      <td>0.027735</td>\n",
              "      <td>0.055470</td>\n",
              "      <td>0.000000</td>\n",
              "      <td>0.0</td>\n",
              "      <td>0.000000</td>\n",
              "      <td>0.027735</td>\n",
              "      <td>0.027735</td>\n",
              "      <td>0.000000</td>\n",
              "      <td>0.027735</td>\n",
              "      <td>0.027735</td>\n",
              "      <td>0.027735</td>\n",
              "      <td>0.138675</td>\n",
              "      <td>0.083205</td>\n",
              "      <td>0.110940</td>\n",
              "      <td>0.083205</td>\n",
              "      <td>0.055470</td>\n",
              "      <td>0.110940</td>\n",
              "      <td>1</td>\n",
              "    </tr>\n",
              "    <tr>\n",
              "      <th>2</th>\n",
              "      <td>0.039133</td>\n",
              "      <td>0.039133</td>\n",
              "      <td>0.000000</td>\n",
              "      <td>0.626128</td>\n",
              "      <td>0.039133</td>\n",
              "      <td>0.039133</td>\n",
              "      <td>0.039133</td>\n",
              "      <td>0.039133</td>\n",
              "      <td>0.078266</td>\n",
              "      <td>0.039133</td>\n",
              "      <td>0.078266</td>\n",
              "      <td>0.078266</td>\n",
              "      <td>0.078266</td>\n",
              "      <td>0.078266</td>\n",
              "      <td>0.039133</td>\n",
              "      <td>0.078266</td>\n",
              "      <td>0.0</td>\n",
              "      <td>0.000000</td>\n",
              "      <td>0.039133</td>\n",
              "      <td>0.000000</td>\n",
              "      <td>0.000000</td>\n",
              "      <td>0.039133</td>\n",
              "      <td>0.039133</td>\n",
              "      <td>0.039133</td>\n",
              "      <td>0.156532</td>\n",
              "      <td>0.156532</td>\n",
              "      <td>0.195665</td>\n",
              "      <td>0.195665</td>\n",
              "      <td>0.000000</td>\n",
              "      <td>0.313064</td>\n",
              "      <td>1</td>\n",
              "    </tr>\n",
              "    <tr>\n",
              "      <th>3</th>\n",
              "      <td>0.030585</td>\n",
              "      <td>0.000000</td>\n",
              "      <td>0.000000</td>\n",
              "      <td>0.519948</td>\n",
              "      <td>0.030585</td>\n",
              "      <td>0.000000</td>\n",
              "      <td>0.030585</td>\n",
              "      <td>0.061170</td>\n",
              "      <td>0.091756</td>\n",
              "      <td>0.000000</td>\n",
              "      <td>0.061170</td>\n",
              "      <td>0.000000</td>\n",
              "      <td>0.030585</td>\n",
              "      <td>0.061170</td>\n",
              "      <td>0.061170</td>\n",
              "      <td>0.000000</td>\n",
              "      <td>0.0</td>\n",
              "      <td>0.000000</td>\n",
              "      <td>0.030585</td>\n",
              "      <td>0.030585</td>\n",
              "      <td>0.030585</td>\n",
              "      <td>0.030585</td>\n",
              "      <td>0.030585</td>\n",
              "      <td>0.030585</td>\n",
              "      <td>0.122341</td>\n",
              "      <td>0.122341</td>\n",
              "      <td>0.091756</td>\n",
              "      <td>0.091756</td>\n",
              "      <td>0.122341</td>\n",
              "      <td>0.061170</td>\n",
              "      <td>1</td>\n",
              "    </tr>\n",
              "    <tr>\n",
              "      <th>4</th>\n",
              "      <td>0.034442</td>\n",
              "      <td>0.034442</td>\n",
              "      <td>0.034442</td>\n",
              "      <td>0.551069</td>\n",
              "      <td>0.034442</td>\n",
              "      <td>0.000000</td>\n",
              "      <td>0.034442</td>\n",
              "      <td>0.034442</td>\n",
              "      <td>0.034442</td>\n",
              "      <td>0.103325</td>\n",
              "      <td>0.000000</td>\n",
              "      <td>0.000000</td>\n",
              "      <td>0.068884</td>\n",
              "      <td>0.068884</td>\n",
              "      <td>0.034442</td>\n",
              "      <td>0.000000</td>\n",
              "      <td>0.0</td>\n",
              "      <td>0.034442</td>\n",
              "      <td>0.034442</td>\n",
              "      <td>0.000000</td>\n",
              "      <td>0.034442</td>\n",
              "      <td>0.034442</td>\n",
              "      <td>0.000000</td>\n",
              "      <td>0.034442</td>\n",
              "      <td>0.137767</td>\n",
              "      <td>0.103325</td>\n",
              "      <td>0.068884</td>\n",
              "      <td>0.172209</td>\n",
              "      <td>0.068884</td>\n",
              "      <td>0.172209</td>\n",
              "      <td>1</td>\n",
              "    </tr>\n",
              "    <tr>\n",
              "      <th>...</th>\n",
              "      <td>...</td>\n",
              "      <td>...</td>\n",
              "      <td>...</td>\n",
              "      <td>...</td>\n",
              "      <td>...</td>\n",
              "      <td>...</td>\n",
              "      <td>...</td>\n",
              "      <td>...</td>\n",
              "      <td>...</td>\n",
              "      <td>...</td>\n",
              "      <td>...</td>\n",
              "      <td>...</td>\n",
              "      <td>...</td>\n",
              "      <td>...</td>\n",
              "      <td>...</td>\n",
              "      <td>...</td>\n",
              "      <td>...</td>\n",
              "      <td>...</td>\n",
              "      <td>...</td>\n",
              "      <td>...</td>\n",
              "      <td>...</td>\n",
              "      <td>...</td>\n",
              "      <td>...</td>\n",
              "      <td>...</td>\n",
              "      <td>...</td>\n",
              "      <td>...</td>\n",
              "      <td>...</td>\n",
              "      <td>...</td>\n",
              "      <td>...</td>\n",
              "      <td>...</td>\n",
              "      <td>...</td>\n",
              "    </tr>\n",
              "    <tr>\n",
              "      <th>1039</th>\n",
              "      <td>0.000000</td>\n",
              "      <td>0.038236</td>\n",
              "      <td>0.038236</td>\n",
              "      <td>0.573539</td>\n",
              "      <td>0.000000</td>\n",
              "      <td>0.000000</td>\n",
              "      <td>0.038236</td>\n",
              "      <td>0.114708</td>\n",
              "      <td>0.114708</td>\n",
              "      <td>0.076472</td>\n",
              "      <td>0.076472</td>\n",
              "      <td>0.038236</td>\n",
              "      <td>0.000000</td>\n",
              "      <td>0.076472</td>\n",
              "      <td>0.114708</td>\n",
              "      <td>0.076472</td>\n",
              "      <td>0.0</td>\n",
              "      <td>0.038236</td>\n",
              "      <td>0.000000</td>\n",
              "      <td>0.038236</td>\n",
              "      <td>0.038236</td>\n",
              "      <td>0.038236</td>\n",
              "      <td>0.038236</td>\n",
              "      <td>0.000000</td>\n",
              "      <td>0.152944</td>\n",
              "      <td>0.076472</td>\n",
              "      <td>0.038236</td>\n",
              "      <td>0.114708</td>\n",
              "      <td>0.305888</td>\n",
              "      <td>0.191180</td>\n",
              "      <td>1</td>\n",
              "    </tr>\n",
              "    <tr>\n",
              "      <th>1040</th>\n",
              "      <td>0.040096</td>\n",
              "      <td>0.040096</td>\n",
              "      <td>0.000000</td>\n",
              "      <td>0.601445</td>\n",
              "      <td>0.000000</td>\n",
              "      <td>0.000000</td>\n",
              "      <td>0.040096</td>\n",
              "      <td>0.080193</td>\n",
              "      <td>0.040096</td>\n",
              "      <td>0.040096</td>\n",
              "      <td>0.080193</td>\n",
              "      <td>0.040096</td>\n",
              "      <td>0.080193</td>\n",
              "      <td>0.040096</td>\n",
              "      <td>0.080193</td>\n",
              "      <td>0.000000</td>\n",
              "      <td>0.0</td>\n",
              "      <td>0.000000</td>\n",
              "      <td>0.040096</td>\n",
              "      <td>0.040096</td>\n",
              "      <td>0.040096</td>\n",
              "      <td>0.040096</td>\n",
              "      <td>0.040096</td>\n",
              "      <td>0.000000</td>\n",
              "      <td>0.200482</td>\n",
              "      <td>0.160385</td>\n",
              "      <td>0.080193</td>\n",
              "      <td>0.200482</td>\n",
              "      <td>0.160385</td>\n",
              "      <td>0.080193</td>\n",
              "      <td>1</td>\n",
              "    </tr>\n",
              "    <tr>\n",
              "      <th>1041</th>\n",
              "      <td>0.028820</td>\n",
              "      <td>0.000000</td>\n",
              "      <td>0.028820</td>\n",
              "      <td>0.461112</td>\n",
              "      <td>0.000000</td>\n",
              "      <td>0.028820</td>\n",
              "      <td>0.028820</td>\n",
              "      <td>0.028820</td>\n",
              "      <td>0.028820</td>\n",
              "      <td>0.086459</td>\n",
              "      <td>0.000000</td>\n",
              "      <td>0.057639</td>\n",
              "      <td>0.028820</td>\n",
              "      <td>0.086459</td>\n",
              "      <td>0.057639</td>\n",
              "      <td>0.000000</td>\n",
              "      <td>0.0</td>\n",
              "      <td>0.028820</td>\n",
              "      <td>0.028820</td>\n",
              "      <td>0.000000</td>\n",
              "      <td>0.028820</td>\n",
              "      <td>0.028820</td>\n",
              "      <td>0.000000</td>\n",
              "      <td>0.028820</td>\n",
              "      <td>0.144098</td>\n",
              "      <td>0.086459</td>\n",
              "      <td>0.057639</td>\n",
              "      <td>0.028820</td>\n",
              "      <td>0.000000</td>\n",
              "      <td>0.057639</td>\n",
              "      <td>1</td>\n",
              "    </tr>\n",
              "    <tr>\n",
              "      <th>1042</th>\n",
              "      <td>0.040096</td>\n",
              "      <td>0.040096</td>\n",
              "      <td>0.000000</td>\n",
              "      <td>0.641542</td>\n",
              "      <td>0.040096</td>\n",
              "      <td>0.000000</td>\n",
              "      <td>0.040096</td>\n",
              "      <td>0.080193</td>\n",
              "      <td>0.040096</td>\n",
              "      <td>0.120289</td>\n",
              "      <td>0.000000</td>\n",
              "      <td>0.080193</td>\n",
              "      <td>0.080193</td>\n",
              "      <td>0.160385</td>\n",
              "      <td>0.040096</td>\n",
              "      <td>0.000000</td>\n",
              "      <td>0.0</td>\n",
              "      <td>0.000000</td>\n",
              "      <td>0.040096</td>\n",
              "      <td>0.000000</td>\n",
              "      <td>0.040096</td>\n",
              "      <td>0.040096</td>\n",
              "      <td>0.000000</td>\n",
              "      <td>0.040096</td>\n",
              "      <td>0.120289</td>\n",
              "      <td>0.080193</td>\n",
              "      <td>0.040096</td>\n",
              "      <td>0.080193</td>\n",
              "      <td>0.160385</td>\n",
              "      <td>0.080193</td>\n",
              "      <td>1</td>\n",
              "    </tr>\n",
              "    <tr>\n",
              "      <th>1043</th>\n",
              "      <td>0.031435</td>\n",
              "      <td>0.031435</td>\n",
              "      <td>0.000000</td>\n",
              "      <td>0.534390</td>\n",
              "      <td>0.000000</td>\n",
              "      <td>0.000000</td>\n",
              "      <td>0.031435</td>\n",
              "      <td>0.031435</td>\n",
              "      <td>0.094304</td>\n",
              "      <td>0.000000</td>\n",
              "      <td>0.000000</td>\n",
              "      <td>0.062869</td>\n",
              "      <td>0.031435</td>\n",
              "      <td>0.094304</td>\n",
              "      <td>0.062869</td>\n",
              "      <td>0.031435</td>\n",
              "      <td>0.0</td>\n",
              "      <td>0.031435</td>\n",
              "      <td>0.031435</td>\n",
              "      <td>0.031435</td>\n",
              "      <td>0.031435</td>\n",
              "      <td>0.031435</td>\n",
              "      <td>0.031435</td>\n",
              "      <td>0.031435</td>\n",
              "      <td>0.157174</td>\n",
              "      <td>0.062869</td>\n",
              "      <td>0.125739</td>\n",
              "      <td>0.157174</td>\n",
              "      <td>0.440086</td>\n",
              "      <td>0.251478</td>\n",
              "      <td>1</td>\n",
              "    </tr>\n",
              "  </tbody>\n",
              "</table>\n",
              "<p>1044 rows × 31 columns</p>\n",
              "</div>"
            ],
            "text/plain": [
              "       Subject    school       sex       age   address   famsize   Pstatus  \\\n",
              "0     0.030275  0.030275  0.030275  0.484404  0.030275  0.000000  0.000000   \n",
              "1     0.027735  0.027735  0.027735  0.471495  0.027735  0.000000  0.027735   \n",
              "2     0.039133  0.039133  0.000000  0.626128  0.039133  0.039133  0.039133   \n",
              "3     0.030585  0.000000  0.000000  0.519948  0.030585  0.000000  0.030585   \n",
              "4     0.034442  0.034442  0.034442  0.551069  0.034442  0.000000  0.034442   \n",
              "...        ...       ...       ...       ...       ...       ...       ...   \n",
              "1039  0.000000  0.038236  0.038236  0.573539  0.000000  0.000000  0.038236   \n",
              "1040  0.040096  0.040096  0.000000  0.601445  0.000000  0.000000  0.040096   \n",
              "1041  0.028820  0.000000  0.028820  0.461112  0.000000  0.028820  0.028820   \n",
              "1042  0.040096  0.040096  0.000000  0.641542  0.040096  0.000000  0.040096   \n",
              "1043  0.031435  0.031435  0.000000  0.534390  0.000000  0.000000  0.031435   \n",
              "\n",
              "          Medu      Fedu      Mjob      Fjob    reason  guardian  traveltime  \\\n",
              "0     0.090826  0.121101  0.060550  0.000000  0.060550  0.030275    0.030275   \n",
              "1     0.083205  0.055470  0.000000  0.000000  0.055470  0.055470    0.027735   \n",
              "2     0.039133  0.078266  0.039133  0.078266  0.078266  0.078266    0.078266   \n",
              "3     0.061170  0.091756  0.000000  0.061170  0.000000  0.030585    0.061170   \n",
              "4     0.034442  0.034442  0.103325  0.000000  0.000000  0.068884    0.068884   \n",
              "...        ...       ...       ...       ...       ...       ...         ...   \n",
              "1039  0.114708  0.114708  0.076472  0.076472  0.038236  0.000000    0.076472   \n",
              "1040  0.080193  0.040096  0.040096  0.080193  0.040096  0.080193    0.040096   \n",
              "1041  0.028820  0.028820  0.086459  0.000000  0.057639  0.028820    0.086459   \n",
              "1042  0.080193  0.040096  0.120289  0.000000  0.080193  0.080193    0.160385   \n",
              "1043  0.031435  0.094304  0.000000  0.000000  0.062869  0.031435    0.094304   \n",
              "\n",
              "      studytime  failures  schoolsup    famsup      paid  activities  \\\n",
              "0      0.030275  0.000000        0.0  0.000000  0.030275    0.000000   \n",
              "1      0.055470  0.000000        0.0  0.000000  0.027735    0.027735   \n",
              "2      0.039133  0.078266        0.0  0.000000  0.039133    0.000000   \n",
              "3      0.061170  0.000000        0.0  0.000000  0.030585    0.030585   \n",
              "4      0.034442  0.000000        0.0  0.034442  0.034442    0.000000   \n",
              "...         ...       ...        ...       ...       ...         ...   \n",
              "1039   0.114708  0.076472        0.0  0.038236  0.000000    0.038236   \n",
              "1040   0.080193  0.000000        0.0  0.000000  0.040096    0.040096   \n",
              "1041   0.057639  0.000000        0.0  0.028820  0.028820    0.000000   \n",
              "1042   0.040096  0.000000        0.0  0.000000  0.040096    0.000000   \n",
              "1043   0.062869  0.031435        0.0  0.031435  0.031435    0.031435   \n",
              "\n",
              "       nursery    higher  internet  romantic    famrel  freetime     goout  \\\n",
              "0     0.030275  0.030275  0.030275  0.030275  0.090826  0.060550  0.030275   \n",
              "1     0.000000  0.027735  0.027735  0.027735  0.138675  0.083205  0.110940   \n",
              "2     0.000000  0.039133  0.039133  0.039133  0.156532  0.156532  0.195665   \n",
              "3     0.030585  0.030585  0.030585  0.030585  0.122341  0.122341  0.091756   \n",
              "4     0.034442  0.034442  0.000000  0.034442  0.137767  0.103325  0.068884   \n",
              "...        ...       ...       ...       ...       ...       ...       ...   \n",
              "1039  0.038236  0.038236  0.038236  0.000000  0.152944  0.076472  0.038236   \n",
              "1040  0.040096  0.040096  0.040096  0.000000  0.200482  0.160385  0.080193   \n",
              "1041  0.028820  0.028820  0.000000  0.028820  0.144098  0.086459  0.057639   \n",
              "1042  0.040096  0.040096  0.000000  0.040096  0.120289  0.080193  0.040096   \n",
              "1043  0.031435  0.031435  0.031435  0.031435  0.157174  0.062869  0.125739   \n",
              "\n",
              "        health  absences      Alco  Pass  \n",
              "0     0.151376  0.363303  0.151376     1  \n",
              "1     0.083205  0.055470  0.110940     1  \n",
              "2     0.195665  0.000000  0.313064     1  \n",
              "3     0.091756  0.122341  0.061170     1  \n",
              "4     0.172209  0.068884  0.172209     1  \n",
              "...        ...       ...       ...   ...  \n",
              "1039  0.114708  0.305888  0.191180     1  \n",
              "1040  0.200482  0.160385  0.080193     1  \n",
              "1041  0.028820  0.000000  0.057639     1  \n",
              "1042  0.080193  0.160385  0.080193     1  \n",
              "1043  0.157174  0.440086  0.251478     1  \n",
              "\n",
              "[1044 rows x 31 columns]"
            ]
          },
          "metadata": {
            "tags": []
          },
          "execution_count": 273
        }
      ]
    },
    {
      "cell_type": "code",
      "metadata": {
        "id": "HXMRCg4LFUH6",
        "colab_type": "code",
        "colab": {}
      },
      "source": [
        "(trainD, testD, trainV, testV) = train_test_split(data_bin.drop('Pass', axis=1),\n",
        "                                            data_bin['Pass'],\n",
        "                                            test_size=0.3, \n",
        "                                            random_state=5)"
      ],
      "execution_count": 0,
      "outputs": []
    },
    {
      "cell_type": "code",
      "metadata": {
        "id": "1sneeC7rc6ev",
        "colab_type": "code",
        "colab": {}
      },
      "source": [
        "def show_class(data, cluster, x, y):\n",
        "  sns.pairplot(x_vars=x, \n",
        "             y_vars=y, \n",
        "             hue=cluster,\n",
        "             data=data, \n",
        "             size=6)\n",
        "  plt.gca().set(xlabel=x, ylabel=y)\n",
        "  plt.show()"
      ],
      "execution_count": 0,
      "outputs": []
    },
    {
      "cell_type": "markdown",
      "metadata": {
        "id": "Zi1S-633mdT1",
        "colab_type": "text"
      },
      "source": [
        "### KNN "
      ]
    },
    {
      "cell_type": "markdown",
      "metadata": {
        "id": "1_hwCQG9MrHY",
        "colab_type": "text"
      },
      "source": [
        "Бежим кросс"
      ]
    },
    {
      "cell_type": "code",
      "metadata": {
        "id": "gZa1vKZymn21",
        "colab_type": "code",
        "colab": {
          "base_uri": "https://localhost:8080/",
          "height": 35
        },
        "outputId": "7d0e5fd0-d30f-4a00-f33a-34b0dc1e4318"
      },
      "source": [
        "from sklearn.neighbors import KNeighborsClassifier\n",
        "knn = KNeighborsClassifier()\n",
        "\n",
        "param_grid = {'n_neighbors': np.arange(1, 25)}\n",
        "\n",
        "knn_gscv = GridSearchCV(knn, param_grid, cv=5,scoring='explained_variance')\n",
        "\n",
        "knn_gscv.fit(trainD, trainV)\n",
        "knn_gscv.best_params_\n",
        "testD"
      ],
      "execution_count": 178,
      "outputs": [
        {
          "output_type": "execute_result",
          "data": {
            "text/plain": [
              "{'n_neighbors': 11}"
            ]
          },
          "metadata": {
            "tags": []
          },
          "execution_count": 178
        }
      ]
    },
    {
      "cell_type": "markdown",
      "metadata": {
        "id": "YPMPnmtxMtu3",
        "colab_type": "text"
      },
      "source": [
        "Тренируем"
      ]
    },
    {
      "cell_type": "code",
      "metadata": {
        "id": "AXPt-mtmMviU",
        "colab_type": "code",
        "colab": {}
      },
      "source": [
        "knn = KNeighborsClassifier(n_neighbors=knn_gscv.best_params_['n_neighbors']-5)\n",
        "knn.fit(trainD, trainV)\n",
        "predictedV = knn.predict(testD)\n",
        "testD['knn'] = predictedV"
      ],
      "execution_count": 0,
      "outputs": []
    },
    {
      "cell_type": "markdown",
      "metadata": {
        "id": "xg8D1wBAMwDN",
        "colab_type": "text"
      },
      "source": [
        "Визуализируем"
      ]
    },
    {
      "cell_type": "markdown",
      "metadata": {
        "id": "y_wmuquAmiPV",
        "colab_type": "text"
      },
      "source": [
        "### Radius Neighbors"
      ]
    },
    {
      "cell_type": "markdown",
      "metadata": {
        "id": "IsIwDb0-TOwD",
        "colab_type": "text"
      },
      "source": [
        "Кроссим"
      ]
    },
    {
      "cell_type": "code",
      "metadata": {
        "id": "PDD50lNTmotc",
        "colab_type": "code",
        "colab": {
          "base_uri": "https://localhost:8080/",
          "height": 35
        },
        "outputId": "8a12a887-a44c-47e7-8ef6-a6f2329e866a"
      },
      "source": [
        "from sklearn.neighbors import RadiusNeighborsClassifier\n",
        "rnr = RadiusNeighborsClassifier()\n",
        "param_grid = {'radius': np.arange(2.1,3.0, 0.01)}\n",
        "rnr_gscv = GridSearchCV(rnr, param_grid, cv=5)\n",
        "rnr_gscv.fit(trainD, trainV)\n",
        "rnr_gscv.best_params_"
      ],
      "execution_count": 206,
      "outputs": [
        {
          "output_type": "execute_result",
          "data": {
            "text/plain": [
              "{'radius': 2.2499999999999956}"
            ]
          },
          "metadata": {
            "tags": []
          },
          "execution_count": 206
        }
      ]
    },
    {
      "cell_type": "markdown",
      "metadata": {
        "id": "lP_SZKgDTUnW",
        "colab_type": "text"
      },
      "source": [
        "тестим"
      ]
    },
    {
      "cell_type": "code",
      "metadata": {
        "id": "MNykeoSL2f80",
        "colab_type": "code",
        "colab": {}
      },
      "source": [
        ""
      ],
      "execution_count": 0,
      "outputs": []
    },
    {
      "cell_type": "markdown",
      "metadata": {
        "id": "-VRphq3PTaac",
        "colab_type": "text"
      },
      "source": [
        "смотрим"
      ]
    },
    {
      "cell_type": "markdown",
      "metadata": {
        "id": "dt5wpdXYmqEF",
        "colab_type": "text"
      },
      "source": [
        "### Логистическая регрессия"
      ]
    },
    {
      "cell_type": "code",
      "metadata": {
        "id": "kL2Nmrmwmrdl",
        "colab_type": "code",
        "colab": {
          "base_uri": "https://localhost:8080/",
          "height": 441
        },
        "outputId": "fdfe09fa-140a-423e-fb57-5d3458d3a942"
      },
      "source": [
        "from sklearn.linear_model import LogisticRegression\n",
        "logistic = LogisticRegression()\n",
        "param_grid = {'С': np.arange(1.0, 1.2, 0.1)}\n",
        "\n",
        "logistic_gscv = GridSearchCV(logistic, param_grid, cv=5,scoring='accuracy')\n",
        "\n",
        "logistic_gscv.fit(trainD, trainV)\n",
        "logistic_gscv.best_params_"
      ],
      "execution_count": 282,
      "outputs": [
        {
          "output_type": "error",
          "ename": "ValueError",
          "evalue": "ignored",
          "traceback": [
            "\u001b[0;31m---------------------------------------------------------------------------\u001b[0m",
            "\u001b[0;31mValueError\u001b[0m                                Traceback (most recent call last)",
            "\u001b[0;32m<ipython-input-282-0218bfc39ef6>\u001b[0m in \u001b[0;36m<module>\u001b[0;34m()\u001b[0m\n\u001b[1;32m      5\u001b[0m \u001b[0mlogistic_gscv\u001b[0m \u001b[0;34m=\u001b[0m \u001b[0mGridSearchCV\u001b[0m\u001b[0;34m(\u001b[0m\u001b[0mlogistic\u001b[0m\u001b[0;34m,\u001b[0m \u001b[0mparam_grid\u001b[0m\u001b[0;34m,\u001b[0m \u001b[0mcv\u001b[0m\u001b[0;34m=\u001b[0m\u001b[0;36m5\u001b[0m\u001b[0;34m,\u001b[0m\u001b[0mscoring\u001b[0m\u001b[0;34m=\u001b[0m\u001b[0;34m'accuracy'\u001b[0m\u001b[0;34m)\u001b[0m\u001b[0;34m\u001b[0m\u001b[0;34m\u001b[0m\u001b[0m\n\u001b[1;32m      6\u001b[0m \u001b[0;34m\u001b[0m\u001b[0m\n\u001b[0;32m----> 7\u001b[0;31m \u001b[0mlogistic_gscv\u001b[0m\u001b[0;34m.\u001b[0m\u001b[0mfit\u001b[0m\u001b[0;34m(\u001b[0m\u001b[0mtrainD\u001b[0m\u001b[0;34m,\u001b[0m \u001b[0mtrainV\u001b[0m\u001b[0;34m)\u001b[0m\u001b[0;34m\u001b[0m\u001b[0;34m\u001b[0m\u001b[0m\n\u001b[0m\u001b[1;32m      8\u001b[0m \u001b[0mlogistic_gscv\u001b[0m\u001b[0;34m.\u001b[0m\u001b[0mbest_params_\u001b[0m\u001b[0;34m\u001b[0m\u001b[0;34m\u001b[0m\u001b[0m\n",
            "\u001b[0;32m/usr/local/lib/python3.6/dist-packages/sklearn/model_selection/_search.py\u001b[0m in \u001b[0;36mfit\u001b[0;34m(self, X, y, groups, **fit_params)\u001b[0m\n\u001b[1;32m    708\u001b[0m                 \u001b[0;32mreturn\u001b[0m \u001b[0mresults\u001b[0m\u001b[0;34m\u001b[0m\u001b[0;34m\u001b[0m\u001b[0m\n\u001b[1;32m    709\u001b[0m \u001b[0;34m\u001b[0m\u001b[0m\n\u001b[0;32m--> 710\u001b[0;31m             \u001b[0mself\u001b[0m\u001b[0;34m.\u001b[0m\u001b[0m_run_search\u001b[0m\u001b[0;34m(\u001b[0m\u001b[0mevaluate_candidates\u001b[0m\u001b[0;34m)\u001b[0m\u001b[0;34m\u001b[0m\u001b[0;34m\u001b[0m\u001b[0m\n\u001b[0m\u001b[1;32m    711\u001b[0m \u001b[0;34m\u001b[0m\u001b[0m\n\u001b[1;32m    712\u001b[0m         \u001b[0;31m# For multi-metric evaluation, store the best_index_, best_params_ and\u001b[0m\u001b[0;34m\u001b[0m\u001b[0;34m\u001b[0m\u001b[0;34m\u001b[0m\u001b[0m\n",
            "\u001b[0;32m/usr/local/lib/python3.6/dist-packages/sklearn/model_selection/_search.py\u001b[0m in \u001b[0;36m_run_search\u001b[0;34m(self, evaluate_candidates)\u001b[0m\n\u001b[1;32m   1149\u001b[0m     \u001b[0;32mdef\u001b[0m \u001b[0m_run_search\u001b[0m\u001b[0;34m(\u001b[0m\u001b[0mself\u001b[0m\u001b[0;34m,\u001b[0m \u001b[0mevaluate_candidates\u001b[0m\u001b[0;34m)\u001b[0m\u001b[0;34m:\u001b[0m\u001b[0;34m\u001b[0m\u001b[0;34m\u001b[0m\u001b[0m\n\u001b[1;32m   1150\u001b[0m         \u001b[0;34m\"\"\"Search all candidates in param_grid\"\"\"\u001b[0m\u001b[0;34m\u001b[0m\u001b[0;34m\u001b[0m\u001b[0m\n\u001b[0;32m-> 1151\u001b[0;31m         \u001b[0mevaluate_candidates\u001b[0m\u001b[0;34m(\u001b[0m\u001b[0mParameterGrid\u001b[0m\u001b[0;34m(\u001b[0m\u001b[0mself\u001b[0m\u001b[0;34m.\u001b[0m\u001b[0mparam_grid\u001b[0m\u001b[0;34m)\u001b[0m\u001b[0;34m)\u001b[0m\u001b[0;34m\u001b[0m\u001b[0;34m\u001b[0m\u001b[0m\n\u001b[0m\u001b[1;32m   1152\u001b[0m \u001b[0;34m\u001b[0m\u001b[0m\n\u001b[1;32m   1153\u001b[0m \u001b[0;34m\u001b[0m\u001b[0m\n",
            "\u001b[0;32m/usr/local/lib/python3.6/dist-packages/sklearn/model_selection/_search.py\u001b[0m in \u001b[0;36mevaluate_candidates\u001b[0;34m(candidate_params)\u001b[0m\n\u001b[1;32m    687\u001b[0m                                \u001b[0;32mfor\u001b[0m \u001b[0mparameters\u001b[0m\u001b[0;34m,\u001b[0m \u001b[0;34m(\u001b[0m\u001b[0mtrain\u001b[0m\u001b[0;34m,\u001b[0m \u001b[0mtest\u001b[0m\u001b[0;34m)\u001b[0m\u001b[0;34m\u001b[0m\u001b[0;34m\u001b[0m\u001b[0m\n\u001b[1;32m    688\u001b[0m                                in product(candidate_params,\n\u001b[0;32m--> 689\u001b[0;31m                                           cv.split(X, y, groups)))\n\u001b[0m\u001b[1;32m    690\u001b[0m \u001b[0;34m\u001b[0m\u001b[0m\n\u001b[1;32m    691\u001b[0m                 \u001b[0;32mif\u001b[0m \u001b[0mlen\u001b[0m\u001b[0;34m(\u001b[0m\u001b[0mout\u001b[0m\u001b[0;34m)\u001b[0m \u001b[0;34m<\u001b[0m \u001b[0;36m1\u001b[0m\u001b[0;34m:\u001b[0m\u001b[0;34m\u001b[0m\u001b[0;34m\u001b[0m\u001b[0m\n",
            "\u001b[0;32m/usr/local/lib/python3.6/dist-packages/joblib/parallel.py\u001b[0m in \u001b[0;36m__call__\u001b[0;34m(self, iterable)\u001b[0m\n\u001b[1;32m   1027\u001b[0m             \u001b[0;31m# remaining jobs.\u001b[0m\u001b[0;34m\u001b[0m\u001b[0;34m\u001b[0m\u001b[0;34m\u001b[0m\u001b[0m\n\u001b[1;32m   1028\u001b[0m             \u001b[0mself\u001b[0m\u001b[0;34m.\u001b[0m\u001b[0m_iterating\u001b[0m \u001b[0;34m=\u001b[0m \u001b[0;32mFalse\u001b[0m\u001b[0;34m\u001b[0m\u001b[0;34m\u001b[0m\u001b[0m\n\u001b[0;32m-> 1029\u001b[0;31m             \u001b[0;32mif\u001b[0m \u001b[0mself\u001b[0m\u001b[0;34m.\u001b[0m\u001b[0mdispatch_one_batch\u001b[0m\u001b[0;34m(\u001b[0m\u001b[0miterator\u001b[0m\u001b[0;34m)\u001b[0m\u001b[0;34m:\u001b[0m\u001b[0;34m\u001b[0m\u001b[0;34m\u001b[0m\u001b[0m\n\u001b[0m\u001b[1;32m   1030\u001b[0m                 \u001b[0mself\u001b[0m\u001b[0;34m.\u001b[0m\u001b[0m_iterating\u001b[0m \u001b[0;34m=\u001b[0m \u001b[0mself\u001b[0m\u001b[0;34m.\u001b[0m\u001b[0m_original_iterator\u001b[0m \u001b[0;32mis\u001b[0m \u001b[0;32mnot\u001b[0m \u001b[0;32mNone\u001b[0m\u001b[0;34m\u001b[0m\u001b[0;34m\u001b[0m\u001b[0m\n\u001b[1;32m   1031\u001b[0m \u001b[0;34m\u001b[0m\u001b[0m\n",
            "\u001b[0;32m/usr/local/lib/python3.6/dist-packages/joblib/parallel.py\u001b[0m in \u001b[0;36mdispatch_one_batch\u001b[0;34m(self, iterator)\u001b[0m\n\u001b[1;32m    845\u001b[0m                 \u001b[0;32mreturn\u001b[0m \u001b[0;32mFalse\u001b[0m\u001b[0;34m\u001b[0m\u001b[0;34m\u001b[0m\u001b[0m\n\u001b[1;32m    846\u001b[0m             \u001b[0;32melse\u001b[0m\u001b[0;34m:\u001b[0m\u001b[0;34m\u001b[0m\u001b[0;34m\u001b[0m\u001b[0m\n\u001b[0;32m--> 847\u001b[0;31m                 \u001b[0mself\u001b[0m\u001b[0;34m.\u001b[0m\u001b[0m_dispatch\u001b[0m\u001b[0;34m(\u001b[0m\u001b[0mtasks\u001b[0m\u001b[0;34m)\u001b[0m\u001b[0;34m\u001b[0m\u001b[0;34m\u001b[0m\u001b[0m\n\u001b[0m\u001b[1;32m    848\u001b[0m                 \u001b[0;32mreturn\u001b[0m \u001b[0;32mTrue\u001b[0m\u001b[0;34m\u001b[0m\u001b[0;34m\u001b[0m\u001b[0m\n\u001b[1;32m    849\u001b[0m \u001b[0;34m\u001b[0m\u001b[0m\n",
            "\u001b[0;32m/usr/local/lib/python3.6/dist-packages/joblib/parallel.py\u001b[0m in \u001b[0;36m_dispatch\u001b[0;34m(self, batch)\u001b[0m\n\u001b[1;32m    763\u001b[0m         \u001b[0;32mwith\u001b[0m \u001b[0mself\u001b[0m\u001b[0;34m.\u001b[0m\u001b[0m_lock\u001b[0m\u001b[0;34m:\u001b[0m\u001b[0;34m\u001b[0m\u001b[0;34m\u001b[0m\u001b[0m\n\u001b[1;32m    764\u001b[0m             \u001b[0mjob_idx\u001b[0m \u001b[0;34m=\u001b[0m \u001b[0mlen\u001b[0m\u001b[0;34m(\u001b[0m\u001b[0mself\u001b[0m\u001b[0;34m.\u001b[0m\u001b[0m_jobs\u001b[0m\u001b[0;34m)\u001b[0m\u001b[0;34m\u001b[0m\u001b[0;34m\u001b[0m\u001b[0m\n\u001b[0;32m--> 765\u001b[0;31m             \u001b[0mjob\u001b[0m \u001b[0;34m=\u001b[0m \u001b[0mself\u001b[0m\u001b[0;34m.\u001b[0m\u001b[0m_backend\u001b[0m\u001b[0;34m.\u001b[0m\u001b[0mapply_async\u001b[0m\u001b[0;34m(\u001b[0m\u001b[0mbatch\u001b[0m\u001b[0;34m,\u001b[0m \u001b[0mcallback\u001b[0m\u001b[0;34m=\u001b[0m\u001b[0mcb\u001b[0m\u001b[0;34m)\u001b[0m\u001b[0;34m\u001b[0m\u001b[0;34m\u001b[0m\u001b[0m\n\u001b[0m\u001b[1;32m    766\u001b[0m             \u001b[0;31m# A job can complete so quickly than its callback is\u001b[0m\u001b[0;34m\u001b[0m\u001b[0;34m\u001b[0m\u001b[0;34m\u001b[0m\u001b[0m\n\u001b[1;32m    767\u001b[0m             \u001b[0;31m# called before we get here, causing self._jobs to\u001b[0m\u001b[0;34m\u001b[0m\u001b[0;34m\u001b[0m\u001b[0;34m\u001b[0m\u001b[0m\n",
            "\u001b[0;32m/usr/local/lib/python3.6/dist-packages/joblib/_parallel_backends.py\u001b[0m in \u001b[0;36mapply_async\u001b[0;34m(self, func, callback)\u001b[0m\n\u001b[1;32m    204\u001b[0m     \u001b[0;32mdef\u001b[0m \u001b[0mapply_async\u001b[0m\u001b[0;34m(\u001b[0m\u001b[0mself\u001b[0m\u001b[0;34m,\u001b[0m \u001b[0mfunc\u001b[0m\u001b[0;34m,\u001b[0m \u001b[0mcallback\u001b[0m\u001b[0;34m=\u001b[0m\u001b[0;32mNone\u001b[0m\u001b[0;34m)\u001b[0m\u001b[0;34m:\u001b[0m\u001b[0;34m\u001b[0m\u001b[0;34m\u001b[0m\u001b[0m\n\u001b[1;32m    205\u001b[0m         \u001b[0;34m\"\"\"Schedule a func to be run\"\"\"\u001b[0m\u001b[0;34m\u001b[0m\u001b[0;34m\u001b[0m\u001b[0m\n\u001b[0;32m--> 206\u001b[0;31m         \u001b[0mresult\u001b[0m \u001b[0;34m=\u001b[0m \u001b[0mImmediateResult\u001b[0m\u001b[0;34m(\u001b[0m\u001b[0mfunc\u001b[0m\u001b[0;34m)\u001b[0m\u001b[0;34m\u001b[0m\u001b[0;34m\u001b[0m\u001b[0m\n\u001b[0m\u001b[1;32m    207\u001b[0m         \u001b[0;32mif\u001b[0m \u001b[0mcallback\u001b[0m\u001b[0;34m:\u001b[0m\u001b[0;34m\u001b[0m\u001b[0;34m\u001b[0m\u001b[0m\n\u001b[1;32m    208\u001b[0m             \u001b[0mcallback\u001b[0m\u001b[0;34m(\u001b[0m\u001b[0mresult\u001b[0m\u001b[0;34m)\u001b[0m\u001b[0;34m\u001b[0m\u001b[0;34m\u001b[0m\u001b[0m\n",
            "\u001b[0;32m/usr/local/lib/python3.6/dist-packages/joblib/_parallel_backends.py\u001b[0m in \u001b[0;36m__init__\u001b[0;34m(self, batch)\u001b[0m\n\u001b[1;32m    568\u001b[0m         \u001b[0;31m# Don't delay the application, to avoid keeping the input\u001b[0m\u001b[0;34m\u001b[0m\u001b[0;34m\u001b[0m\u001b[0;34m\u001b[0m\u001b[0m\n\u001b[1;32m    569\u001b[0m         \u001b[0;31m# arguments in memory\u001b[0m\u001b[0;34m\u001b[0m\u001b[0;34m\u001b[0m\u001b[0;34m\u001b[0m\u001b[0m\n\u001b[0;32m--> 570\u001b[0;31m         \u001b[0mself\u001b[0m\u001b[0;34m.\u001b[0m\u001b[0mresults\u001b[0m \u001b[0;34m=\u001b[0m \u001b[0mbatch\u001b[0m\u001b[0;34m(\u001b[0m\u001b[0;34m)\u001b[0m\u001b[0;34m\u001b[0m\u001b[0;34m\u001b[0m\u001b[0m\n\u001b[0m\u001b[1;32m    571\u001b[0m \u001b[0;34m\u001b[0m\u001b[0m\n\u001b[1;32m    572\u001b[0m     \u001b[0;32mdef\u001b[0m \u001b[0mget\u001b[0m\u001b[0;34m(\u001b[0m\u001b[0mself\u001b[0m\u001b[0;34m)\u001b[0m\u001b[0;34m:\u001b[0m\u001b[0;34m\u001b[0m\u001b[0;34m\u001b[0m\u001b[0m\n",
            "\u001b[0;32m/usr/local/lib/python3.6/dist-packages/joblib/parallel.py\u001b[0m in \u001b[0;36m__call__\u001b[0;34m(self)\u001b[0m\n\u001b[1;32m    251\u001b[0m         \u001b[0;32mwith\u001b[0m \u001b[0mparallel_backend\u001b[0m\u001b[0;34m(\u001b[0m\u001b[0mself\u001b[0m\u001b[0;34m.\u001b[0m\u001b[0m_backend\u001b[0m\u001b[0;34m,\u001b[0m \u001b[0mn_jobs\u001b[0m\u001b[0;34m=\u001b[0m\u001b[0mself\u001b[0m\u001b[0;34m.\u001b[0m\u001b[0m_n_jobs\u001b[0m\u001b[0;34m)\u001b[0m\u001b[0;34m:\u001b[0m\u001b[0;34m\u001b[0m\u001b[0;34m\u001b[0m\u001b[0m\n\u001b[1;32m    252\u001b[0m             return [func(*args, **kwargs)\n\u001b[0;32m--> 253\u001b[0;31m                     for func, args, kwargs in self.items]\n\u001b[0m\u001b[1;32m    254\u001b[0m \u001b[0;34m\u001b[0m\u001b[0m\n\u001b[1;32m    255\u001b[0m     \u001b[0;32mdef\u001b[0m \u001b[0m__reduce__\u001b[0m\u001b[0;34m(\u001b[0m\u001b[0mself\u001b[0m\u001b[0;34m)\u001b[0m\u001b[0;34m:\u001b[0m\u001b[0;34m\u001b[0m\u001b[0;34m\u001b[0m\u001b[0m\n",
            "\u001b[0;32m/usr/local/lib/python3.6/dist-packages/joblib/parallel.py\u001b[0m in \u001b[0;36m<listcomp>\u001b[0;34m(.0)\u001b[0m\n\u001b[1;32m    251\u001b[0m         \u001b[0;32mwith\u001b[0m \u001b[0mparallel_backend\u001b[0m\u001b[0;34m(\u001b[0m\u001b[0mself\u001b[0m\u001b[0;34m.\u001b[0m\u001b[0m_backend\u001b[0m\u001b[0;34m,\u001b[0m \u001b[0mn_jobs\u001b[0m\u001b[0;34m=\u001b[0m\u001b[0mself\u001b[0m\u001b[0;34m.\u001b[0m\u001b[0m_n_jobs\u001b[0m\u001b[0;34m)\u001b[0m\u001b[0;34m:\u001b[0m\u001b[0;34m\u001b[0m\u001b[0;34m\u001b[0m\u001b[0m\n\u001b[1;32m    252\u001b[0m             return [func(*args, **kwargs)\n\u001b[0;32m--> 253\u001b[0;31m                     for func, args, kwargs in self.items]\n\u001b[0m\u001b[1;32m    254\u001b[0m \u001b[0;34m\u001b[0m\u001b[0m\n\u001b[1;32m    255\u001b[0m     \u001b[0;32mdef\u001b[0m \u001b[0m__reduce__\u001b[0m\u001b[0;34m(\u001b[0m\u001b[0mself\u001b[0m\u001b[0;34m)\u001b[0m\u001b[0;34m:\u001b[0m\u001b[0;34m\u001b[0m\u001b[0;34m\u001b[0m\u001b[0m\n",
            "\u001b[0;32m/usr/local/lib/python3.6/dist-packages/sklearn/model_selection/_validation.py\u001b[0m in \u001b[0;36m_fit_and_score\u001b[0;34m(estimator, X, y, scorer, train, test, verbose, parameters, fit_params, return_train_score, return_parameters, return_n_test_samples, return_times, return_estimator, error_score)\u001b[0m\n\u001b[1;32m    502\u001b[0m             \u001b[0mcloned_parameters\u001b[0m\u001b[0;34m[\u001b[0m\u001b[0mk\u001b[0m\u001b[0;34m]\u001b[0m \u001b[0;34m=\u001b[0m \u001b[0mclone\u001b[0m\u001b[0;34m(\u001b[0m\u001b[0mv\u001b[0m\u001b[0;34m,\u001b[0m \u001b[0msafe\u001b[0m\u001b[0;34m=\u001b[0m\u001b[0;32mFalse\u001b[0m\u001b[0;34m)\u001b[0m\u001b[0;34m\u001b[0m\u001b[0;34m\u001b[0m\u001b[0m\n\u001b[1;32m    503\u001b[0m \u001b[0;34m\u001b[0m\u001b[0m\n\u001b[0;32m--> 504\u001b[0;31m         \u001b[0mestimator\u001b[0m \u001b[0;34m=\u001b[0m \u001b[0mestimator\u001b[0m\u001b[0;34m.\u001b[0m\u001b[0mset_params\u001b[0m\u001b[0;34m(\u001b[0m\u001b[0;34m**\u001b[0m\u001b[0mcloned_parameters\u001b[0m\u001b[0;34m)\u001b[0m\u001b[0;34m\u001b[0m\u001b[0;34m\u001b[0m\u001b[0m\n\u001b[0m\u001b[1;32m    505\u001b[0m \u001b[0;34m\u001b[0m\u001b[0m\n\u001b[1;32m    506\u001b[0m     \u001b[0mstart_time\u001b[0m \u001b[0;34m=\u001b[0m \u001b[0mtime\u001b[0m\u001b[0;34m.\u001b[0m\u001b[0mtime\u001b[0m\u001b[0;34m(\u001b[0m\u001b[0;34m)\u001b[0m\u001b[0;34m\u001b[0m\u001b[0;34m\u001b[0m\u001b[0m\n",
            "\u001b[0;32m/usr/local/lib/python3.6/dist-packages/sklearn/base.py\u001b[0m in \u001b[0;36mset_params\u001b[0;34m(self, **params)\u001b[0m\n\u001b[1;32m    234\u001b[0m                                  \u001b[0;34m'Check the list of available parameters '\u001b[0m\u001b[0;34m\u001b[0m\u001b[0;34m\u001b[0m\u001b[0m\n\u001b[1;32m    235\u001b[0m                                  \u001b[0;34m'with `estimator.get_params().keys()`.'\u001b[0m \u001b[0;34m%\u001b[0m\u001b[0;34m\u001b[0m\u001b[0;34m\u001b[0m\u001b[0m\n\u001b[0;32m--> 236\u001b[0;31m                                  (key, self))\n\u001b[0m\u001b[1;32m    237\u001b[0m \u001b[0;34m\u001b[0m\u001b[0m\n\u001b[1;32m    238\u001b[0m             \u001b[0;32mif\u001b[0m \u001b[0mdelim\u001b[0m\u001b[0;34m:\u001b[0m\u001b[0;34m\u001b[0m\u001b[0;34m\u001b[0m\u001b[0m\n",
            "\u001b[0;31mValueError\u001b[0m: Invalid parameter С for estimator LogisticRegression(C=1.0, class_weight=None, dual=False, fit_intercept=True,\n                   intercept_scaling=1, l1_ratio=None, max_iter=100,\n                   multi_class='auto', n_jobs=None, penalty='l2',\n                   random_state=None, solver='lbfgs', tol=0.0001, verbose=0,\n                   warm_start=False). Check the list of available parameters with `estimator.get_params().keys()`."
          ]
        }
      ]
    },
    {
      "cell_type": "markdown",
      "metadata": {
        "id": "ad00kUNCmt2d",
        "colab_type": "text"
      },
      "source": [
        "### Деревья решений"
      ]
    },
    {
      "cell_type": "code",
      "metadata": {
        "id": "F4pzOGhUmvQO",
        "colab_type": "code",
        "colab": {}
      },
      "source": [
        ""
      ],
      "execution_count": 0,
      "outputs": []
    },
    {
      "cell_type": "markdown",
      "metadata": {
        "id": "D8UBhA4m3rEg",
        "colab_type": "text"
      },
      "source": [
        "### Построение дерева"
      ]
    },
    {
      "cell_type": "code",
      "metadata": {
        "id": "zz85ZgI530u-",
        "colab_type": "code",
        "colab": {}
      },
      "source": [
        ""
      ],
      "execution_count": 0,
      "outputs": []
    },
    {
      "cell_type": "markdown",
      "metadata": {
        "id": "vpV4v4-VkoOt",
        "colab_type": "text"
      },
      "source": [
        "## Многоклассовая классификация\n",
        "  \n",
        "* Решите задачу многоклассовой классификации: постройте модель, пресдказывающую оценку студента по предмету по 4 балльной шкале\n",
        "    - Отлично: 18 <= `G3` <= 20\n",
        "    - Хорошо: 14 <= `G3` <= 17\n",
        "    - Удовлетворительно: 8 <= `G3` <= 13\n",
        "    - Неудовлетворительно: `G3` < 8  \n",
        "  \n",
        "  При решении задачи **нельзя** использовать признаки `G1` и `G2`.  \n",
        "  \n",
        "  \n",
        "* При решении задачи рассмотрите различные модели:  \n",
        "  * KNN и  Radius Neighbors;  \n",
        "  * Логистическая регрессия;  \n",
        "  * Деревья решений.  \n",
        "  \n",
        "  На кросс-валидации подберите оптимальные значения гиперпараметров алгоритмов.  \n",
        "  \n",
        "  \n",
        "* Оцените качество моделей, сделайте вывод.  \n",
        "  \n",
        "\n",
        "* На кросс-валидации оцените, как зависит качество прогноза Дерева решений от максимальной глубины дерева. Результаты провизуализируйте, дайте содержательный комментарий.  "
      ]
    },
    {
      "cell_type": "markdown",
      "metadata": {
        "id": "coK5CqtN4XM2",
        "colab_type": "text"
      },
      "source": [
        "### KNN "
      ]
    },
    {
      "cell_type": "code",
      "metadata": {
        "id": "xQQ0MdmC4UlO",
        "colab_type": "code",
        "colab": {}
      },
      "source": [
        ""
      ],
      "execution_count": 0,
      "outputs": []
    },
    {
      "cell_type": "markdown",
      "metadata": {
        "id": "ncYuXcC64Yhf",
        "colab_type": "text"
      },
      "source": [
        "### Radius Neighbors"
      ]
    },
    {
      "cell_type": "code",
      "metadata": {
        "id": "GxdLVcbA4aeZ",
        "colab_type": "code",
        "colab": {}
      },
      "source": [
        ""
      ],
      "execution_count": 0,
      "outputs": []
    },
    {
      "cell_type": "markdown",
      "metadata": {
        "id": "aTAB7k2o4eIR",
        "colab_type": "text"
      },
      "source": [
        "### Логистическая регрессия"
      ]
    },
    {
      "cell_type": "code",
      "metadata": {
        "id": "FoXuRYsS4eri",
        "colab_type": "code",
        "colab": {}
      },
      "source": [
        ""
      ],
      "execution_count": 0,
      "outputs": []
    },
    {
      "cell_type": "markdown",
      "metadata": {
        "id": "d1MrXcsI4kZf",
        "colab_type": "text"
      },
      "source": [
        "### Деревья решений"
      ]
    },
    {
      "cell_type": "code",
      "metadata": {
        "id": "rj8F1n6S4k9T",
        "colab_type": "code",
        "colab": {}
      },
      "source": [
        ""
      ],
      "execution_count": 0,
      "outputs": []
    },
    {
      "cell_type": "markdown",
      "metadata": {
        "id": "AAD1OjMskoOu",
        "colab_type": "text"
      },
      "source": [
        "## Notes  \n",
        "  \n",
        "* Для оценки качества моделей используйте соответствующие задаче метрики, которые рассматривались на занятиях. Для кросс-валидации выберите ту метрику, которая кажется вам наиболее подходящей и аргументируйте свой выбор.  \n",
        "  \n",
        "  \n",
        "* __Tip:__ Возможно, будет полезно решать задачи и строить модели отдельно для каждого предмета, а не для целого датасета.  \n",
        "  \n",
        "  \n",
        "* __Бонусное задание:__ Попробуйте применить другие модели для решения задачи регресии или классификации. Например, Random Forest."
      ]
    }
  ]
}