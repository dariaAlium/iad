{
  "nbformat": 4,
  "nbformat_minor": 0,
  "metadata": {
    "kernelspec": {
      "display_name": "Python 3",
      "language": "python",
      "name": "python3"
    },
    "language_info": {
      "codemirror_mode": {
        "name": "ipython",
        "version": 3
      },
      "file_extension": ".py",
      "mimetype": "text/x-python",
      "name": "python",
      "nbconvert_exporter": "python",
      "pygments_lexer": "ipython3",
      "version": "3.7.6"
    },
    "colab": {
      "name": "Lab_3.Supervised_Learning.ipynb",
      "provenance": [],
      "include_colab_link": true
    }
  },
  "cells": [
    {
      "cell_type": "markdown",
      "metadata": {
        "id": "view-in-github",
        "colab_type": "text"
      },
      "source": [
        "<a href=\"https://colab.research.google.com/github/dariaAlium/iad/blob/master/Lab_3_Supervised_Learning.ipynb\" target=\"_parent\"><img src=\"https://colab.research.google.com/assets/colab-badge.svg\" alt=\"Open In Colab\"/></a>"
      ]
    },
    {
      "cell_type": "markdown",
      "metadata": {
        "id": "iU03GCTdkoOV",
        "colab_type": "text"
      },
      "source": [
        "# <center>Майнор \"Интеллектуальный анализ данных\"</center>"
      ]
    },
    {
      "cell_type": "markdown",
      "metadata": {
        "id": "kwUn0dnhkoOW",
        "colab_type": "text"
      },
      "source": [
        "# <center>Курс \"Введение в анализ данных\"</center>"
      ]
    },
    {
      "cell_type": "markdown",
      "metadata": {
        "id": "sQKK_SPBkoOX",
        "colab_type": "text"
      },
      "source": [
        "# <center>Лабораторная работа №3. Supervised Learning</center>"
      ]
    },
    {
      "cell_type": "markdown",
      "metadata": {
        "id": "G4brmgUCkoOX",
        "colab_type": "text"
      },
      "source": [
        "## Данные"
      ]
    },
    {
      "cell_type": "markdown",
      "metadata": {
        "id": "hB938TDxkoOY",
        "colab_type": "text"
      },
      "source": [
        "В рамках данной лабораторной работы вам предлагается проанализировать набор данных о студентах двух школ в Португалии.  \n",
        "В файле `students_data.csv` представлена информация о студентах, посещающих два курса - математику (`Math`) и поргутальский язык (`Por`). Некоторые студенты представлены в обоих курсах, некоторые - только в одном. Для каждого студента известны три оценки по курсу: оценка за первое полугодие (`G1`), оценка за второе полугодие (`G2`) и итоговая оценка за год (`G3`)."
      ]
    },
    {
      "cell_type": "code",
      "metadata": {
        "id": "KZTsRHpVkoOY",
        "colab_type": "code",
        "colab": {}
      },
      "source": [
        "import pandas as pd\n",
        "import numpy as np\n",
        "import matplotlib.pyplot as plt\n",
        "import seaborn as sns\n",
        "from  sklearn import preprocessing \n",
        "from scipy.stats.stats import pearsonr\n",
        "from sklearn.model_selection import train_test_split\n",
        "from sklearn import linear_model\n",
        "from sklearn import metrics\n",
        "from sklearn.preprocessing import PolynomialFeatures\n",
        "from sklearn.metrics import mean_squared_error\n",
        "from sklearn.model_selection import train_test_split\n",
        "from sklearn.neighbors import KNeighborsRegressor\n",
        "from sklearn.model_selection import cross_val_score\n",
        "from sklearn.model_selection import GridSearchCV\n",
        "from sklearn.neighbors import RadiusNeighborsRegressor"
      ],
      "execution_count": 0,
      "outputs": []
    },
    {
      "cell_type": "code",
      "metadata": {
        "id": "_p5hYSJ_gaic",
        "colab_type": "code",
        "outputId": "5259f8a2-a2e8-4c22-becb-09b43bbc820e",
        "colab": {
          "base_uri": "https://localhost:8080/",
          "height": 33
        }
      },
      "source": [
        "pd.set_option('display.max_columns', 40)\n",
        "pd.set_option('display.max_colwidth', None)\n",
        "data = pd.read_csv(\"students_data.csv\")\n",
        "\n",
        "data.shape"
      ],
      "execution_count": 5,
      "outputs": [
        {
          "output_type": "execute_result",
          "data": {
            "text/plain": [
              "(1044, 36)"
            ]
          },
          "metadata": {
            "tags": []
          },
          "execution_count": 5
        }
      ]
    },
    {
      "cell_type": "code",
      "metadata": {
        "id": "EM0rsFTXV0H_",
        "colab_type": "code",
        "colab": {
          "base_uri": "https://localhost:8080/",
          "height": 1000
        },
        "outputId": "608bae12-0e31-492a-e625-6aabef9f3dda"
      },
      "source": [
        "data.loc[data['G3'] == 0]"
      ],
      "execution_count": 6,
      "outputs": [
        {
          "output_type": "execute_result",
          "data": {
            "text/html": [
              "<div>\n",
              "<style scoped>\n",
              "    .dataframe tbody tr th:only-of-type {\n",
              "        vertical-align: middle;\n",
              "    }\n",
              "\n",
              "    .dataframe tbody tr th {\n",
              "        vertical-align: top;\n",
              "    }\n",
              "\n",
              "    .dataframe thead th {\n",
              "        text-align: right;\n",
              "    }\n",
              "</style>\n",
              "<table border=\"1\" class=\"dataframe\">\n",
              "  <thead>\n",
              "    <tr style=\"text-align: right;\">\n",
              "      <th></th>\n",
              "      <th>ID</th>\n",
              "      <th>Subject</th>\n",
              "      <th>school</th>\n",
              "      <th>sex</th>\n",
              "      <th>age</th>\n",
              "      <th>address</th>\n",
              "      <th>famsize</th>\n",
              "      <th>Pstatus</th>\n",
              "      <th>Medu</th>\n",
              "      <th>Fedu</th>\n",
              "      <th>Mjob</th>\n",
              "      <th>Fjob</th>\n",
              "      <th>reason</th>\n",
              "      <th>guardian</th>\n",
              "      <th>traveltime</th>\n",
              "      <th>studytime</th>\n",
              "      <th>failures</th>\n",
              "      <th>schoolsup</th>\n",
              "      <th>famsup</th>\n",
              "      <th>paid</th>\n",
              "      <th>activities</th>\n",
              "      <th>nursery</th>\n",
              "      <th>higher</th>\n",
              "      <th>internet</th>\n",
              "      <th>romantic</th>\n",
              "      <th>famrel</th>\n",
              "      <th>freetime</th>\n",
              "      <th>goout</th>\n",
              "      <th>Dalc</th>\n",
              "      <th>Walc</th>\n",
              "      <th>health</th>\n",
              "      <th>absences</th>\n",
              "      <th>cheating</th>\n",
              "      <th>G1</th>\n",
              "      <th>G2</th>\n",
              "      <th>G3</th>\n",
              "    </tr>\n",
              "  </thead>\n",
              "  <tbody>\n",
              "    <tr>\n",
              "      <th>71</th>\n",
              "      <td>156109</td>\n",
              "      <td>Por</td>\n",
              "      <td>MS</td>\n",
              "      <td>M</td>\n",
              "      <td>18</td>\n",
              "      <td>R</td>\n",
              "      <td>GT3</td>\n",
              "      <td>T</td>\n",
              "      <td>4</td>\n",
              "      <td>2</td>\n",
              "      <td>other</td>\n",
              "      <td>other</td>\n",
              "      <td>home</td>\n",
              "      <td>father</td>\n",
              "      <td>2</td>\n",
              "      <td>1</td>\n",
              "      <td>1</td>\n",
              "      <td>no</td>\n",
              "      <td>no</td>\n",
              "      <td>yes</td>\n",
              "      <td>no</td>\n",
              "      <td>yes</td>\n",
              "      <td>yes</td>\n",
              "      <td>no</td>\n",
              "      <td>no</td>\n",
              "      <td>5.0</td>\n",
              "      <td>4</td>\n",
              "      <td>3</td>\n",
              "      <td>4.0</td>\n",
              "      <td>3.0</td>\n",
              "      <td>3</td>\n",
              "      <td>0</td>\n",
              "      <td>NaN</td>\n",
              "      <td>7</td>\n",
              "      <td>7</td>\n",
              "      <td>0</td>\n",
              "    </tr>\n",
              "    <tr>\n",
              "      <th>83</th>\n",
              "      <td>163217</td>\n",
              "      <td>Por</td>\n",
              "      <td>MS</td>\n",
              "      <td>F</td>\n",
              "      <td>19</td>\n",
              "      <td>R</td>\n",
              "      <td>GT3</td>\n",
              "      <td>A</td>\n",
              "      <td>1</td>\n",
              "      <td>1</td>\n",
              "      <td>at_home</td>\n",
              "      <td>at_home</td>\n",
              "      <td>course</td>\n",
              "      <td>other</td>\n",
              "      <td>2</td>\n",
              "      <td>2</td>\n",
              "      <td>3</td>\n",
              "      <td>no</td>\n",
              "      <td>yes</td>\n",
              "      <td>no</td>\n",
              "      <td>yes</td>\n",
              "      <td>yes</td>\n",
              "      <td>no</td>\n",
              "      <td>no</td>\n",
              "      <td>yes</td>\n",
              "      <td>3.0</td>\n",
              "      <td>5</td>\n",
              "      <td>4</td>\n",
              "      <td>1.0</td>\n",
              "      <td>4.0</td>\n",
              "      <td>1</td>\n",
              "      <td>0</td>\n",
              "      <td>yes</td>\n",
              "      <td>8</td>\n",
              "      <td>0</td>\n",
              "      <td>0</td>\n",
              "    </tr>\n",
              "    <tr>\n",
              "      <th>152</th>\n",
              "      <td>218048</td>\n",
              "      <td>Math</td>\n",
              "      <td>GP</td>\n",
              "      <td>M</td>\n",
              "      <td>18</td>\n",
              "      <td>R</td>\n",
              "      <td>GT3</td>\n",
              "      <td>T</td>\n",
              "      <td>2</td>\n",
              "      <td>2</td>\n",
              "      <td>services</td>\n",
              "      <td>other</td>\n",
              "      <td>reputation</td>\n",
              "      <td>mother</td>\n",
              "      <td>1</td>\n",
              "      <td>1</td>\n",
              "      <td>2</td>\n",
              "      <td>no</td>\n",
              "      <td>yes</td>\n",
              "      <td>no</td>\n",
              "      <td>yes</td>\n",
              "      <td>yes</td>\n",
              "      <td>yes</td>\n",
              "      <td>yes</td>\n",
              "      <td>no</td>\n",
              "      <td>3.0</td>\n",
              "      <td>3</td>\n",
              "      <td>3</td>\n",
              "      <td>1.0</td>\n",
              "      <td>2.0</td>\n",
              "      <td>4</td>\n",
              "      <td>0</td>\n",
              "      <td>NaN</td>\n",
              "      <td>7</td>\n",
              "      <td>4</td>\n",
              "      <td>0</td>\n",
              "    </tr>\n",
              "    <tr>\n",
              "      <th>178</th>\n",
              "      <td>243472</td>\n",
              "      <td>Math</td>\n",
              "      <td>GP</td>\n",
              "      <td>F</td>\n",
              "      <td>18</td>\n",
              "      <td>R</td>\n",
              "      <td>GT3</td>\n",
              "      <td>T</td>\n",
              "      <td>2</td>\n",
              "      <td>2</td>\n",
              "      <td>at_home</td>\n",
              "      <td>other</td>\n",
              "      <td>course</td>\n",
              "      <td>mother</td>\n",
              "      <td>2</td>\n",
              "      <td>4</td>\n",
              "      <td>0</td>\n",
              "      <td>no</td>\n",
              "      <td>no</td>\n",
              "      <td>no</td>\n",
              "      <td>yes</td>\n",
              "      <td>yes</td>\n",
              "      <td>yes</td>\n",
              "      <td>no</td>\n",
              "      <td>no</td>\n",
              "      <td>4.0</td>\n",
              "      <td>4</td>\n",
              "      <td>4</td>\n",
              "      <td>1.0</td>\n",
              "      <td>1.0</td>\n",
              "      <td>4</td>\n",
              "      <td>0</td>\n",
              "      <td>NaN</td>\n",
              "      <td>10</td>\n",
              "      <td>9</td>\n",
              "      <td>0</td>\n",
              "    </tr>\n",
              "    <tr>\n",
              "      <th>184</th>\n",
              "      <td>247347</td>\n",
              "      <td>Math</td>\n",
              "      <td>GP</td>\n",
              "      <td>M</td>\n",
              "      <td>16</td>\n",
              "      <td>U</td>\n",
              "      <td>GT3</td>\n",
              "      <td>T</td>\n",
              "      <td>3</td>\n",
              "      <td>4</td>\n",
              "      <td>other</td>\n",
              "      <td>other</td>\n",
              "      <td>course</td>\n",
              "      <td>father</td>\n",
              "      <td>3</td>\n",
              "      <td>1</td>\n",
              "      <td>2</td>\n",
              "      <td>no</td>\n",
              "      <td>yes</td>\n",
              "      <td>no</td>\n",
              "      <td>yes</td>\n",
              "      <td>no</td>\n",
              "      <td>yes</td>\n",
              "      <td>yes</td>\n",
              "      <td>no</td>\n",
              "      <td>3.0</td>\n",
              "      <td>4</td>\n",
              "      <td>5</td>\n",
              "      <td>2.0</td>\n",
              "      <td>4.0</td>\n",
              "      <td>2</td>\n",
              "      <td>0</td>\n",
              "      <td>yes</td>\n",
              "      <td>6</td>\n",
              "      <td>5</td>\n",
              "      <td>0</td>\n",
              "    </tr>\n",
              "    <tr>\n",
              "      <th>229</th>\n",
              "      <td>285793</td>\n",
              "      <td>Math</td>\n",
              "      <td>GP</td>\n",
              "      <td>F</td>\n",
              "      <td>15</td>\n",
              "      <td>R</td>\n",
              "      <td>GT3</td>\n",
              "      <td>T</td>\n",
              "      <td>3</td>\n",
              "      <td>4</td>\n",
              "      <td>services</td>\n",
              "      <td>teacher</td>\n",
              "      <td>course</td>\n",
              "      <td>father</td>\n",
              "      <td>2</td>\n",
              "      <td>3</td>\n",
              "      <td>2</td>\n",
              "      <td>no</td>\n",
              "      <td>yes</td>\n",
              "      <td>no</td>\n",
              "      <td>no</td>\n",
              "      <td>yes</td>\n",
              "      <td>yes</td>\n",
              "      <td>yes</td>\n",
              "      <td>yes</td>\n",
              "      <td>4.0</td>\n",
              "      <td>2</td>\n",
              "      <td>2</td>\n",
              "      <td>2.0</td>\n",
              "      <td>2.0</td>\n",
              "      <td>5</td>\n",
              "      <td>0</td>\n",
              "      <td>no</td>\n",
              "      <td>12</td>\n",
              "      <td>0</td>\n",
              "      <td>0</td>\n",
              "    </tr>\n",
              "    <tr>\n",
              "      <th>241</th>\n",
              "      <td>298547</td>\n",
              "      <td>Math</td>\n",
              "      <td>GP</td>\n",
              "      <td>M</td>\n",
              "      <td>18</td>\n",
              "      <td>U</td>\n",
              "      <td>GT3</td>\n",
              "      <td>T</td>\n",
              "      <td>4</td>\n",
              "      <td>4</td>\n",
              "      <td>teacher</td>\n",
              "      <td>services</td>\n",
              "      <td>home</td>\n",
              "      <td>father</td>\n",
              "      <td>1</td>\n",
              "      <td>2</td>\n",
              "      <td>1</td>\n",
              "      <td>no</td>\n",
              "      <td>yes</td>\n",
              "      <td>no</td>\n",
              "      <td>yes</td>\n",
              "      <td>yes</td>\n",
              "      <td>yes</td>\n",
              "      <td>yes</td>\n",
              "      <td>no</td>\n",
              "      <td>4.0</td>\n",
              "      <td>3</td>\n",
              "      <td>3</td>\n",
              "      <td>2.0</td>\n",
              "      <td>2.0</td>\n",
              "      <td>2</td>\n",
              "      <td>0</td>\n",
              "      <td>NaN</td>\n",
              "      <td>10</td>\n",
              "      <td>10</td>\n",
              "      <td>0</td>\n",
              "    </tr>\n",
              "    <tr>\n",
              "      <th>265</th>\n",
              "      <td>325702</td>\n",
              "      <td>Por</td>\n",
              "      <td>MS</td>\n",
              "      <td>M</td>\n",
              "      <td>16</td>\n",
              "      <td>R</td>\n",
              "      <td>GT3</td>\n",
              "      <td>T</td>\n",
              "      <td>2</td>\n",
              "      <td>1</td>\n",
              "      <td>other</td>\n",
              "      <td>services</td>\n",
              "      <td>reputation</td>\n",
              "      <td>mother</td>\n",
              "      <td>2</td>\n",
              "      <td>2</td>\n",
              "      <td>0</td>\n",
              "      <td>no</td>\n",
              "      <td>no</td>\n",
              "      <td>no</td>\n",
              "      <td>yes</td>\n",
              "      <td>yes</td>\n",
              "      <td>yes</td>\n",
              "      <td>yes</td>\n",
              "      <td>no</td>\n",
              "      <td>5.0</td>\n",
              "      <td>2</td>\n",
              "      <td>1</td>\n",
              "      <td>1.0</td>\n",
              "      <td>1.0</td>\n",
              "      <td>2</td>\n",
              "      <td>0</td>\n",
              "      <td>NaN</td>\n",
              "      <td>8</td>\n",
              "      <td>7</td>\n",
              "      <td>0</td>\n",
              "    </tr>\n",
              "    <tr>\n",
              "      <th>278</th>\n",
              "      <td>337797</td>\n",
              "      <td>Por</td>\n",
              "      <td>MS</td>\n",
              "      <td>F</td>\n",
              "      <td>18</td>\n",
              "      <td>R</td>\n",
              "      <td>GT3</td>\n",
              "      <td>T</td>\n",
              "      <td>4</td>\n",
              "      <td>4</td>\n",
              "      <td>other</td>\n",
              "      <td>teacher</td>\n",
              "      <td>other</td>\n",
              "      <td>father</td>\n",
              "      <td>3</td>\n",
              "      <td>2</td>\n",
              "      <td>0</td>\n",
              "      <td>no</td>\n",
              "      <td>yes</td>\n",
              "      <td>no</td>\n",
              "      <td>no</td>\n",
              "      <td>no</td>\n",
              "      <td>yes</td>\n",
              "      <td>yes</td>\n",
              "      <td>yes</td>\n",
              "      <td>3.0</td>\n",
              "      <td>2</td>\n",
              "      <td>2</td>\n",
              "      <td>4.0</td>\n",
              "      <td>2.0</td>\n",
              "      <td>5</td>\n",
              "      <td>0</td>\n",
              "      <td>yes</td>\n",
              "      <td>7</td>\n",
              "      <td>5</td>\n",
              "      <td>0</td>\n",
              "    </tr>\n",
              "    <tr>\n",
              "      <th>292</th>\n",
              "      <td>348379</td>\n",
              "      <td>Math</td>\n",
              "      <td>GP</td>\n",
              "      <td>M</td>\n",
              "      <td>16</td>\n",
              "      <td>U</td>\n",
              "      <td>LE3</td>\n",
              "      <td>T</td>\n",
              "      <td>1</td>\n",
              "      <td>2</td>\n",
              "      <td>other</td>\n",
              "      <td>other</td>\n",
              "      <td>course</td>\n",
              "      <td>mother</td>\n",
              "      <td>2</td>\n",
              "      <td>1</td>\n",
              "      <td>1</td>\n",
              "      <td>no</td>\n",
              "      <td>no</td>\n",
              "      <td>no</td>\n",
              "      <td>yes</td>\n",
              "      <td>yes</td>\n",
              "      <td>yes</td>\n",
              "      <td>no</td>\n",
              "      <td>no</td>\n",
              "      <td>4.0</td>\n",
              "      <td>4</td>\n",
              "      <td>4</td>\n",
              "      <td>2.0</td>\n",
              "      <td>4.0</td>\n",
              "      <td>5</td>\n",
              "      <td>0</td>\n",
              "      <td>NaN</td>\n",
              "      <td>7</td>\n",
              "      <td>0</td>\n",
              "      <td>0</td>\n",
              "    </tr>\n",
              "    <tr>\n",
              "      <th>326</th>\n",
              "      <td>373767</td>\n",
              "      <td>Por</td>\n",
              "      <td>MS</td>\n",
              "      <td>F</td>\n",
              "      <td>17</td>\n",
              "      <td>U</td>\n",
              "      <td>GT3</td>\n",
              "      <td>T</td>\n",
              "      <td>4</td>\n",
              "      <td>2</td>\n",
              "      <td>teacher</td>\n",
              "      <td>services</td>\n",
              "      <td>home</td>\n",
              "      <td>mother</td>\n",
              "      <td>1</td>\n",
              "      <td>2</td>\n",
              "      <td>0</td>\n",
              "      <td>yes</td>\n",
              "      <td>yes</td>\n",
              "      <td>no</td>\n",
              "      <td>yes</td>\n",
              "      <td>yes</td>\n",
              "      <td>yes</td>\n",
              "      <td>yes</td>\n",
              "      <td>NaN</td>\n",
              "      <td>5.0</td>\n",
              "      <td>5</td>\n",
              "      <td>5</td>\n",
              "      <td>1.0</td>\n",
              "      <td>3.0</td>\n",
              "      <td>5</td>\n",
              "      <td>0</td>\n",
              "      <td>no</td>\n",
              "      <td>8</td>\n",
              "      <td>8</td>\n",
              "      <td>0</td>\n",
              "    </tr>\n",
              "    <tr>\n",
              "      <th>332</th>\n",
              "      <td>384016</td>\n",
              "      <td>Math</td>\n",
              "      <td>GP</td>\n",
              "      <td>F</td>\n",
              "      <td>16</td>\n",
              "      <td>U</td>\n",
              "      <td>GT3</td>\n",
              "      <td>T</td>\n",
              "      <td>2</td>\n",
              "      <td>2</td>\n",
              "      <td>other</td>\n",
              "      <td>other</td>\n",
              "      <td>home</td>\n",
              "      <td>mother</td>\n",
              "      <td>1</td>\n",
              "      <td>2</td>\n",
              "      <td>0</td>\n",
              "      <td>no</td>\n",
              "      <td>yes</td>\n",
              "      <td>yes</td>\n",
              "      <td>no</td>\n",
              "      <td>no</td>\n",
              "      <td>yes</td>\n",
              "      <td>yes</td>\n",
              "      <td>no</td>\n",
              "      <td>5.0</td>\n",
              "      <td>1</td>\n",
              "      <td>5</td>\n",
              "      <td>1.0</td>\n",
              "      <td>1.0</td>\n",
              "      <td>4</td>\n",
              "      <td>0</td>\n",
              "      <td>NaN</td>\n",
              "      <td>6</td>\n",
              "      <td>7</td>\n",
              "      <td>0</td>\n",
              "    </tr>\n",
              "    <tr>\n",
              "      <th>336</th>\n",
              "      <td>389098</td>\n",
              "      <td>Math</td>\n",
              "      <td>GP</td>\n",
              "      <td>F</td>\n",
              "      <td>15</td>\n",
              "      <td>U</td>\n",
              "      <td>GT3</td>\n",
              "      <td>T</td>\n",
              "      <td>4</td>\n",
              "      <td>4</td>\n",
              "      <td>services</td>\n",
              "      <td>at_home</td>\n",
              "      <td>course</td>\n",
              "      <td>mother</td>\n",
              "      <td>1</td>\n",
              "      <td>3</td>\n",
              "      <td>0</td>\n",
              "      <td>no</td>\n",
              "      <td>yes</td>\n",
              "      <td>no</td>\n",
              "      <td>yes</td>\n",
              "      <td>yes</td>\n",
              "      <td>yes</td>\n",
              "      <td>yes</td>\n",
              "      <td>yes</td>\n",
              "      <td>4.0</td>\n",
              "      <td>3</td>\n",
              "      <td>3</td>\n",
              "      <td>1.0</td>\n",
              "      <td>1.0</td>\n",
              "      <td>5</td>\n",
              "      <td>0</td>\n",
              "      <td>NaN</td>\n",
              "      <td>11</td>\n",
              "      <td>0</td>\n",
              "      <td>0</td>\n",
              "    </tr>\n",
              "    <tr>\n",
              "      <th>350</th>\n",
              "      <td>395320</td>\n",
              "      <td>Math</td>\n",
              "      <td>GP</td>\n",
              "      <td>M</td>\n",
              "      <td>15</td>\n",
              "      <td>R</td>\n",
              "      <td>GT3</td>\n",
              "      <td>T</td>\n",
              "      <td>3</td>\n",
              "      <td>4</td>\n",
              "      <td>at_home</td>\n",
              "      <td>teacher</td>\n",
              "      <td>course</td>\n",
              "      <td>mother</td>\n",
              "      <td>4</td>\n",
              "      <td>2</td>\n",
              "      <td>0</td>\n",
              "      <td>no</td>\n",
              "      <td>yes</td>\n",
              "      <td>no</td>\n",
              "      <td>no</td>\n",
              "      <td>yes</td>\n",
              "      <td>yes</td>\n",
              "      <td>no</td>\n",
              "      <td>yes</td>\n",
              "      <td>5.0</td>\n",
              "      <td>3</td>\n",
              "      <td>3</td>\n",
              "      <td>1.0</td>\n",
              "      <td>1.0</td>\n",
              "      <td>5</td>\n",
              "      <td>0</td>\n",
              "      <td>NaN</td>\n",
              "      <td>9</td>\n",
              "      <td>0</td>\n",
              "      <td>0</td>\n",
              "    </tr>\n",
              "    <tr>\n",
              "      <th>352</th>\n",
              "      <td>396378</td>\n",
              "      <td>Por</td>\n",
              "      <td>MS</td>\n",
              "      <td>M</td>\n",
              "      <td>19</td>\n",
              "      <td>R</td>\n",
              "      <td>GT3</td>\n",
              "      <td>T</td>\n",
              "      <td>1</td>\n",
              "      <td>1</td>\n",
              "      <td>other</td>\n",
              "      <td>services</td>\n",
              "      <td>other</td>\n",
              "      <td>mother</td>\n",
              "      <td>2</td>\n",
              "      <td>1</td>\n",
              "      <td>1</td>\n",
              "      <td>no</td>\n",
              "      <td>no</td>\n",
              "      <td>no</td>\n",
              "      <td>no</td>\n",
              "      <td>yes</td>\n",
              "      <td>yes</td>\n",
              "      <td>no</td>\n",
              "      <td>no</td>\n",
              "      <td>4.0</td>\n",
              "      <td>3</td>\n",
              "      <td>2</td>\n",
              "      <td>1.0</td>\n",
              "      <td>3.0</td>\n",
              "      <td>5</td>\n",
              "      <td>0</td>\n",
              "      <td>no</td>\n",
              "      <td>5</td>\n",
              "      <td>8</td>\n",
              "      <td>0</td>\n",
              "    </tr>\n",
              "    <tr>\n",
              "      <th>367</th>\n",
              "      <td>416298</td>\n",
              "      <td>Por</td>\n",
              "      <td>MS</td>\n",
              "      <td>M</td>\n",
              "      <td>18</td>\n",
              "      <td>R</td>\n",
              "      <td>GT3</td>\n",
              "      <td>T</td>\n",
              "      <td>3</td>\n",
              "      <td>2</td>\n",
              "      <td>services</td>\n",
              "      <td>other</td>\n",
              "      <td>course</td>\n",
              "      <td>mother</td>\n",
              "      <td>1</td>\n",
              "      <td>1</td>\n",
              "      <td>1</td>\n",
              "      <td>no</td>\n",
              "      <td>no</td>\n",
              "      <td>no</td>\n",
              "      <td>no</td>\n",
              "      <td>yes</td>\n",
              "      <td>no</td>\n",
              "      <td>yes</td>\n",
              "      <td>NaN</td>\n",
              "      <td>2.0</td>\n",
              "      <td>3</td>\n",
              "      <td>1</td>\n",
              "      <td>2.0</td>\n",
              "      <td>2.0</td>\n",
              "      <td>5</td>\n",
              "      <td>0</td>\n",
              "      <td>NaN</td>\n",
              "      <td>4</td>\n",
              "      <td>0</td>\n",
              "      <td>0</td>\n",
              "    </tr>\n",
              "    <tr>\n",
              "      <th>387</th>\n",
              "      <td>429690</td>\n",
              "      <td>Math</td>\n",
              "      <td>GP</td>\n",
              "      <td>F</td>\n",
              "      <td>17</td>\n",
              "      <td>U</td>\n",
              "      <td>GT3</td>\n",
              "      <td>t</td>\n",
              "      <td>3</td>\n",
              "      <td>2</td>\n",
              "      <td>other</td>\n",
              "      <td>other</td>\n",
              "      <td>home</td>\n",
              "      <td>mother</td>\n",
              "      <td>1</td>\n",
              "      <td>2</td>\n",
              "      <td>0</td>\n",
              "      <td>no</td>\n",
              "      <td>yes</td>\n",
              "      <td>yes</td>\n",
              "      <td>no</td>\n",
              "      <td>yes</td>\n",
              "      <td>yes</td>\n",
              "      <td>yes</td>\n",
              "      <td>yes</td>\n",
              "      <td>4.0</td>\n",
              "      <td>3</td>\n",
              "      <td>2</td>\n",
              "      <td>2.0</td>\n",
              "      <td>3.0</td>\n",
              "      <td>2</td>\n",
              "      <td>0</td>\n",
              "      <td>yes</td>\n",
              "      <td>7</td>\n",
              "      <td>8</td>\n",
              "      <td>0</td>\n",
              "    </tr>\n",
              "    <tr>\n",
              "      <th>391</th>\n",
              "      <td>433047</td>\n",
              "      <td>Math</td>\n",
              "      <td>GP</td>\n",
              "      <td>M</td>\n",
              "      <td>16</td>\n",
              "      <td>U</td>\n",
              "      <td>LE3</td>\n",
              "      <td>T</td>\n",
              "      <td>4</td>\n",
              "      <td>3</td>\n",
              "      <td>teacher</td>\n",
              "      <td>other</td>\n",
              "      <td>course</td>\n",
              "      <td>mother</td>\n",
              "      <td>1</td>\n",
              "      <td>1</td>\n",
              "      <td>0</td>\n",
              "      <td>no</td>\n",
              "      <td>no</td>\n",
              "      <td>no</td>\n",
              "      <td>yes</td>\n",
              "      <td>no</td>\n",
              "      <td>yes</td>\n",
              "      <td>yes</td>\n",
              "      <td>no</td>\n",
              "      <td>5.0</td>\n",
              "      <td>4</td>\n",
              "      <td>5</td>\n",
              "      <td>1.0</td>\n",
              "      <td>1.0</td>\n",
              "      <td>3</td>\n",
              "      <td>0</td>\n",
              "      <td>NaN</td>\n",
              "      <td>6</td>\n",
              "      <td>0</td>\n",
              "      <td>0</td>\n",
              "    </tr>\n",
              "    <tr>\n",
              "      <th>410</th>\n",
              "      <td>450164</td>\n",
              "      <td>Por</td>\n",
              "      <td>MS</td>\n",
              "      <td>F</td>\n",
              "      <td>18</td>\n",
              "      <td>R</td>\n",
              "      <td>LE3</td>\n",
              "      <td>A</td>\n",
              "      <td>4</td>\n",
              "      <td>2</td>\n",
              "      <td>teacher</td>\n",
              "      <td>other</td>\n",
              "      <td>reputation</td>\n",
              "      <td>mother</td>\n",
              "      <td>1</td>\n",
              "      <td>2</td>\n",
              "      <td>0</td>\n",
              "      <td>no</td>\n",
              "      <td>no</td>\n",
              "      <td>no</td>\n",
              "      <td>yes</td>\n",
              "      <td>yes</td>\n",
              "      <td>yes</td>\n",
              "      <td>yes</td>\n",
              "      <td>yes</td>\n",
              "      <td>5.0</td>\n",
              "      <td>3</td>\n",
              "      <td>1</td>\n",
              "      <td>1.0</td>\n",
              "      <td>1.0</td>\n",
              "      <td>5</td>\n",
              "      <td>0</td>\n",
              "      <td>NaN</td>\n",
              "      <td>5</td>\n",
              "      <td>0</td>\n",
              "      <td>0</td>\n",
              "    </tr>\n",
              "    <tr>\n",
              "      <th>419</th>\n",
              "      <td>455088</td>\n",
              "      <td>Por</td>\n",
              "      <td>MS</td>\n",
              "      <td>M</td>\n",
              "      <td>18</td>\n",
              "      <td>R</td>\n",
              "      <td>GT3</td>\n",
              "      <td>T</td>\n",
              "      <td>2</td>\n",
              "      <td>1</td>\n",
              "      <td>other</td>\n",
              "      <td>other</td>\n",
              "      <td>other</td>\n",
              "      <td>mother</td>\n",
              "      <td>2</td>\n",
              "      <td>1</td>\n",
              "      <td>0</td>\n",
              "      <td>no</td>\n",
              "      <td>no</td>\n",
              "      <td>no</td>\n",
              "      <td>yes</td>\n",
              "      <td>no</td>\n",
              "      <td>yes</td>\n",
              "      <td>yes</td>\n",
              "      <td>yes</td>\n",
              "      <td>4.0</td>\n",
              "      <td>4</td>\n",
              "      <td>3</td>\n",
              "      <td>1.0</td>\n",
              "      <td>3.0</td>\n",
              "      <td>5</td>\n",
              "      <td>0</td>\n",
              "      <td>NaN</td>\n",
              "      <td>7</td>\n",
              "      <td>7</td>\n",
              "      <td>0</td>\n",
              "    </tr>\n",
              "    <tr>\n",
              "      <th>420</th>\n",
              "      <td>455906</td>\n",
              "      <td>Math</td>\n",
              "      <td>GP</td>\n",
              "      <td>M</td>\n",
              "      <td>17</td>\n",
              "      <td>R</td>\n",
              "      <td>LE3</td>\n",
              "      <td>T</td>\n",
              "      <td>2</td>\n",
              "      <td>1</td>\n",
              "      <td>at_home</td>\n",
              "      <td>other</td>\n",
              "      <td>course</td>\n",
              "      <td>mother</td>\n",
              "      <td>2</td>\n",
              "      <td>1</td>\n",
              "      <td>2</td>\n",
              "      <td>no</td>\n",
              "      <td>no</td>\n",
              "      <td>no</td>\n",
              "      <td>yes</td>\n",
              "      <td>yes</td>\n",
              "      <td>no</td>\n",
              "      <td>yes</td>\n",
              "      <td>yes</td>\n",
              "      <td>3.0</td>\n",
              "      <td>3</td>\n",
              "      <td>2</td>\n",
              "      <td>2.0</td>\n",
              "      <td>2.0</td>\n",
              "      <td>5</td>\n",
              "      <td>0</td>\n",
              "      <td>NaN</td>\n",
              "      <td>7</td>\n",
              "      <td>6</td>\n",
              "      <td>0</td>\n",
              "    </tr>\n",
              "    <tr>\n",
              "      <th>438</th>\n",
              "      <td>473711</td>\n",
              "      <td>Math</td>\n",
              "      <td>GP</td>\n",
              "      <td>F</td>\n",
              "      <td>18</td>\n",
              "      <td>R</td>\n",
              "      <td>GT3</td>\n",
              "      <td>T</td>\n",
              "      <td>2</td>\n",
              "      <td>1</td>\n",
              "      <td>other</td>\n",
              "      <td>other</td>\n",
              "      <td>reputation</td>\n",
              "      <td>mother</td>\n",
              "      <td>2</td>\n",
              "      <td>2</td>\n",
              "      <td>0</td>\n",
              "      <td>no</td>\n",
              "      <td>yes</td>\n",
              "      <td>no</td>\n",
              "      <td>no</td>\n",
              "      <td>yes</td>\n",
              "      <td>no</td>\n",
              "      <td>yes</td>\n",
              "      <td>yes</td>\n",
              "      <td>4.0</td>\n",
              "      <td>3</td>\n",
              "      <td>5</td>\n",
              "      <td>1.0</td>\n",
              "      <td>2.0</td>\n",
              "      <td>3</td>\n",
              "      <td>0</td>\n",
              "      <td>NaN</td>\n",
              "      <td>6</td>\n",
              "      <td>0</td>\n",
              "      <td>0</td>\n",
              "    </tr>\n",
              "    <tr>\n",
              "      <th>474</th>\n",
              "      <td>501710</td>\n",
              "      <td>Por</td>\n",
              "      <td>MS</td>\n",
              "      <td>M</td>\n",
              "      <td>16</td>\n",
              "      <td>U</td>\n",
              "      <td>GT3</td>\n",
              "      <td>T</td>\n",
              "      <td>1</td>\n",
              "      <td>1</td>\n",
              "      <td>at_home</td>\n",
              "      <td>services</td>\n",
              "      <td>home</td>\n",
              "      <td>mother</td>\n",
              "      <td>2</td>\n",
              "      <td>2</td>\n",
              "      <td>0</td>\n",
              "      <td>no</td>\n",
              "      <td>yes</td>\n",
              "      <td>no</td>\n",
              "      <td>yes</td>\n",
              "      <td>yes</td>\n",
              "      <td>yes</td>\n",
              "      <td>no</td>\n",
              "      <td>yes</td>\n",
              "      <td>5.0</td>\n",
              "      <td>4</td>\n",
              "      <td>5</td>\n",
              "      <td>4.0</td>\n",
              "      <td>5.0</td>\n",
              "      <td>3</td>\n",
              "      <td>0</td>\n",
              "      <td>NaN</td>\n",
              "      <td>7</td>\n",
              "      <td>0</td>\n",
              "      <td>0</td>\n",
              "    </tr>\n",
              "    <tr>\n",
              "      <th>477</th>\n",
              "      <td>504065</td>\n",
              "      <td>Math</td>\n",
              "      <td>MS</td>\n",
              "      <td>F</td>\n",
              "      <td>19</td>\n",
              "      <td>R</td>\n",
              "      <td>GT3</td>\n",
              "      <td>T</td>\n",
              "      <td>2</td>\n",
              "      <td>3</td>\n",
              "      <td>services</td>\n",
              "      <td>other</td>\n",
              "      <td>course</td>\n",
              "      <td>mother</td>\n",
              "      <td>1</td>\n",
              "      <td>3</td>\n",
              "      <td>1</td>\n",
              "      <td>no</td>\n",
              "      <td>no</td>\n",
              "      <td>no</td>\n",
              "      <td>yes</td>\n",
              "      <td>no</td>\n",
              "      <td>yes</td>\n",
              "      <td>yes</td>\n",
              "      <td>no</td>\n",
              "      <td>5.0</td>\n",
              "      <td>4</td>\n",
              "      <td>2</td>\n",
              "      <td>1.0</td>\n",
              "      <td>2.0</td>\n",
              "      <td>5</td>\n",
              "      <td>0</td>\n",
              "      <td>NaN</td>\n",
              "      <td>7</td>\n",
              "      <td>5</td>\n",
              "      <td>0</td>\n",
              "    </tr>\n",
              "    <tr>\n",
              "      <th>482</th>\n",
              "      <td>509393</td>\n",
              "      <td>Math</td>\n",
              "      <td>GP</td>\n",
              "      <td>F</td>\n",
              "      <td>18</td>\n",
              "      <td>U</td>\n",
              "      <td>GT3</td>\n",
              "      <td>T</td>\n",
              "      <td>2</td>\n",
              "      <td>1</td>\n",
              "      <td>services</td>\n",
              "      <td>other</td>\n",
              "      <td>course</td>\n",
              "      <td>mother</td>\n",
              "      <td>2</td>\n",
              "      <td>2</td>\n",
              "      <td>0</td>\n",
              "      <td>no</td>\n",
              "      <td>yes</td>\n",
              "      <td>yes</td>\n",
              "      <td>yes</td>\n",
              "      <td>yes</td>\n",
              "      <td>yes</td>\n",
              "      <td>yes</td>\n",
              "      <td>no</td>\n",
              "      <td>5.0</td>\n",
              "      <td>3</td>\n",
              "      <td>3</td>\n",
              "      <td>1.0</td>\n",
              "      <td>2.0</td>\n",
              "      <td>1</td>\n",
              "      <td>0</td>\n",
              "      <td>yes</td>\n",
              "      <td>8</td>\n",
              "      <td>8</td>\n",
              "      <td>0</td>\n",
              "    </tr>\n",
              "    <tr>\n",
              "      <th>495</th>\n",
              "      <td>519638</td>\n",
              "      <td>Math</td>\n",
              "      <td>GP</td>\n",
              "      <td>M</td>\n",
              "      <td>18</td>\n",
              "      <td>U</td>\n",
              "      <td>GT3</td>\n",
              "      <td>T</td>\n",
              "      <td>2</td>\n",
              "      <td>2</td>\n",
              "      <td>other</td>\n",
              "      <td>services</td>\n",
              "      <td>reputation</td>\n",
              "      <td>father</td>\n",
              "      <td>1</td>\n",
              "      <td>2</td>\n",
              "      <td>1</td>\n",
              "      <td>no</td>\n",
              "      <td>no</td>\n",
              "      <td>no</td>\n",
              "      <td>no</td>\n",
              "      <td>yes</td>\n",
              "      <td>no</td>\n",
              "      <td>yes</td>\n",
              "      <td>no</td>\n",
              "      <td>5.0</td>\n",
              "      <td>5</td>\n",
              "      <td>4</td>\n",
              "      <td>3.0</td>\n",
              "      <td>5.0</td>\n",
              "      <td>2</td>\n",
              "      <td>0</td>\n",
              "      <td>NaN</td>\n",
              "      <td>7</td>\n",
              "      <td>7</td>\n",
              "      <td>0</td>\n",
              "    </tr>\n",
              "    <tr>\n",
              "      <th>497</th>\n",
              "      <td>520300</td>\n",
              "      <td>Math</td>\n",
              "      <td>GP</td>\n",
              "      <td>F</td>\n",
              "      <td>18</td>\n",
              "      <td>U</td>\n",
              "      <td>GT3</td>\n",
              "      <td>T</td>\n",
              "      <td>3</td>\n",
              "      <td>3</td>\n",
              "      <td>services</td>\n",
              "      <td>services</td>\n",
              "      <td>home</td>\n",
              "      <td>mother</td>\n",
              "      <td>1</td>\n",
              "      <td>2</td>\n",
              "      <td>0</td>\n",
              "      <td>no</td>\n",
              "      <td>no</td>\n",
              "      <td>no</td>\n",
              "      <td>yes</td>\n",
              "      <td>yes</td>\n",
              "      <td>yes</td>\n",
              "      <td>yes</td>\n",
              "      <td>no</td>\n",
              "      <td>5.0</td>\n",
              "      <td>3</td>\n",
              "      <td>4</td>\n",
              "      <td>1.0</td>\n",
              "      <td>1.0</td>\n",
              "      <td>4</td>\n",
              "      <td>0</td>\n",
              "      <td>NaN</td>\n",
              "      <td>7</td>\n",
              "      <td>0</td>\n",
              "      <td>0</td>\n",
              "    </tr>\n",
              "    <tr>\n",
              "      <th>509</th>\n",
              "      <td>531503</td>\n",
              "      <td>Math</td>\n",
              "      <td>GP</td>\n",
              "      <td>M</td>\n",
              "      <td>18</td>\n",
              "      <td>U</td>\n",
              "      <td>LE3</td>\n",
              "      <td>T</td>\n",
              "      <td>1</td>\n",
              "      <td>1</td>\n",
              "      <td>other</td>\n",
              "      <td>other</td>\n",
              "      <td>course</td>\n",
              "      <td>mother</td>\n",
              "      <td>1</td>\n",
              "      <td>1</td>\n",
              "      <td>3</td>\n",
              "      <td>no</td>\n",
              "      <td>no</td>\n",
              "      <td>no</td>\n",
              "      <td>no</td>\n",
              "      <td>yes</td>\n",
              "      <td>no</td>\n",
              "      <td>yes</td>\n",
              "      <td>yes</td>\n",
              "      <td>2.0</td>\n",
              "      <td>3</td>\n",
              "      <td>5</td>\n",
              "      <td>2.0</td>\n",
              "      <td>5.0</td>\n",
              "      <td>4</td>\n",
              "      <td>0</td>\n",
              "      <td>NaN</td>\n",
              "      <td>6</td>\n",
              "      <td>5</td>\n",
              "      <td>0</td>\n",
              "    </tr>\n",
              "    <tr>\n",
              "      <th>519</th>\n",
              "      <td>552788</td>\n",
              "      <td>Math</td>\n",
              "      <td>GP</td>\n",
              "      <td>F</td>\n",
              "      <td>17</td>\n",
              "      <td>U</td>\n",
              "      <td>LE3</td>\n",
              "      <td>T</td>\n",
              "      <td>2</td>\n",
              "      <td>2</td>\n",
              "      <td>services</td>\n",
              "      <td>services</td>\n",
              "      <td>course</td>\n",
              "      <td>father</td>\n",
              "      <td>1</td>\n",
              "      <td>4</td>\n",
              "      <td>0</td>\n",
              "      <td>no</td>\n",
              "      <td>no</td>\n",
              "      <td>yes</td>\n",
              "      <td>yes</td>\n",
              "      <td>yes</td>\n",
              "      <td>yes</td>\n",
              "      <td>yes</td>\n",
              "      <td>yes</td>\n",
              "      <td>3.0</td>\n",
              "      <td>4</td>\n",
              "      <td>1</td>\n",
              "      <td>1.0</td>\n",
              "      <td>1.0</td>\n",
              "      <td>2</td>\n",
              "      <td>0</td>\n",
              "      <td>NaN</td>\n",
              "      <td>10</td>\n",
              "      <td>9</td>\n",
              "      <td>0</td>\n",
              "    </tr>\n",
              "    <tr>\n",
              "      <th>581</th>\n",
              "      <td>602318</td>\n",
              "      <td>Math</td>\n",
              "      <td>GP</td>\n",
              "      <td>F</td>\n",
              "      <td>19</td>\n",
              "      <td>U</td>\n",
              "      <td>GT3</td>\n",
              "      <td>T</td>\n",
              "      <td>4</td>\n",
              "      <td>4</td>\n",
              "      <td>health</td>\n",
              "      <td>other</td>\n",
              "      <td>reputation</td>\n",
              "      <td>other</td>\n",
              "      <td>2</td>\n",
              "      <td>2</td>\n",
              "      <td>0</td>\n",
              "      <td>no</td>\n",
              "      <td>yes</td>\n",
              "      <td>yes</td>\n",
              "      <td>yes</td>\n",
              "      <td>yes</td>\n",
              "      <td>yes</td>\n",
              "      <td>yes</td>\n",
              "      <td>no</td>\n",
              "      <td>2.0</td>\n",
              "      <td>3</td>\n",
              "      <td>4</td>\n",
              "      <td>2.0</td>\n",
              "      <td>3.0</td>\n",
              "      <td>2</td>\n",
              "      <td>0</td>\n",
              "      <td>NaN</td>\n",
              "      <td>10</td>\n",
              "      <td>9</td>\n",
              "      <td>0</td>\n",
              "    </tr>\n",
              "    <tr>\n",
              "      <th>592</th>\n",
              "      <td>614297</td>\n",
              "      <td>Math</td>\n",
              "      <td>GP</td>\n",
              "      <td>F</td>\n",
              "      <td>16</td>\n",
              "      <td>U</td>\n",
              "      <td>GT3</td>\n",
              "      <td>A</td>\n",
              "      <td>3</td>\n",
              "      <td>3</td>\n",
              "      <td>other</td>\n",
              "      <td>other</td>\n",
              "      <td>course</td>\n",
              "      <td>other</td>\n",
              "      <td>2</td>\n",
              "      <td>1</td>\n",
              "      <td>2</td>\n",
              "      <td>no</td>\n",
              "      <td>yes</td>\n",
              "      <td>no</td>\n",
              "      <td>yes</td>\n",
              "      <td>no</td>\n",
              "      <td>yes</td>\n",
              "      <td>yes</td>\n",
              "      <td>yes</td>\n",
              "      <td>4.0</td>\n",
              "      <td>3</td>\n",
              "      <td>2</td>\n",
              "      <td>1.0</td>\n",
              "      <td>1.0</td>\n",
              "      <td>5</td>\n",
              "      <td>0</td>\n",
              "      <td>yes</td>\n",
              "      <td>4</td>\n",
              "      <td>0</td>\n",
              "      <td>0</td>\n",
              "    </tr>\n",
              "    <tr>\n",
              "      <th>603</th>\n",
              "      <td>624907</td>\n",
              "      <td>Math</td>\n",
              "      <td>MS</td>\n",
              "      <td>M</td>\n",
              "      <td>19</td>\n",
              "      <td>R</td>\n",
              "      <td>GT3</td>\n",
              "      <td>T</td>\n",
              "      <td>1</td>\n",
              "      <td>1</td>\n",
              "      <td>other</td>\n",
              "      <td>services</td>\n",
              "      <td>other</td>\n",
              "      <td>mother</td>\n",
              "      <td>2</td>\n",
              "      <td>1</td>\n",
              "      <td>1</td>\n",
              "      <td>no</td>\n",
              "      <td>no</td>\n",
              "      <td>no</td>\n",
              "      <td>no</td>\n",
              "      <td>yes</td>\n",
              "      <td>yes</td>\n",
              "      <td>no</td>\n",
              "      <td>no</td>\n",
              "      <td>4.0</td>\n",
              "      <td>3</td>\n",
              "      <td>2</td>\n",
              "      <td>1.0</td>\n",
              "      <td>3.0</td>\n",
              "      <td>5</td>\n",
              "      <td>0</td>\n",
              "      <td>NaN</td>\n",
              "      <td>6</td>\n",
              "      <td>5</td>\n",
              "      <td>0</td>\n",
              "    </tr>\n",
              "    <tr>\n",
              "      <th>624</th>\n",
              "      <td>635152</td>\n",
              "      <td>Math</td>\n",
              "      <td>GP</td>\n",
              "      <td>F</td>\n",
              "      <td>18</td>\n",
              "      <td>U</td>\n",
              "      <td>GT3</td>\n",
              "      <td>T</td>\n",
              "      <td>2</td>\n",
              "      <td>2</td>\n",
              "      <td>at_home</td>\n",
              "      <td>services</td>\n",
              "      <td>home</td>\n",
              "      <td>mother</td>\n",
              "      <td>1</td>\n",
              "      <td>3</td>\n",
              "      <td>0</td>\n",
              "      <td>no</td>\n",
              "      <td>yes</td>\n",
              "      <td>yes</td>\n",
              "      <td>yes</td>\n",
              "      <td>yes</td>\n",
              "      <td>yes</td>\n",
              "      <td>yes</td>\n",
              "      <td>yes</td>\n",
              "      <td>4.0</td>\n",
              "      <td>3</td>\n",
              "      <td>3</td>\n",
              "      <td>1.0</td>\n",
              "      <td>1.0</td>\n",
              "      <td>3</td>\n",
              "      <td>0</td>\n",
              "      <td>yes</td>\n",
              "      <td>9</td>\n",
              "      <td>10</td>\n",
              "      <td>0</td>\n",
              "    </tr>\n",
              "    <tr>\n",
              "      <th>625</th>\n",
              "      <td>635426</td>\n",
              "      <td>Math</td>\n",
              "      <td>GP</td>\n",
              "      <td>F</td>\n",
              "      <td>15</td>\n",
              "      <td>U</td>\n",
              "      <td>GT3</td>\n",
              "      <td>T</td>\n",
              "      <td>3</td>\n",
              "      <td>2</td>\n",
              "      <td>health</td>\n",
              "      <td>services</td>\n",
              "      <td>home</td>\n",
              "      <td>father</td>\n",
              "      <td>1</td>\n",
              "      <td>2</td>\n",
              "      <td>3</td>\n",
              "      <td>no</td>\n",
              "      <td>yes</td>\n",
              "      <td>no</td>\n",
              "      <td>no</td>\n",
              "      <td>yes</td>\n",
              "      <td>yes</td>\n",
              "      <td>yes</td>\n",
              "      <td>no</td>\n",
              "      <td>3.0</td>\n",
              "      <td>3</td>\n",
              "      <td>2</td>\n",
              "      <td>1.0</td>\n",
              "      <td>1.0</td>\n",
              "      <td>3</td>\n",
              "      <td>0</td>\n",
              "      <td>NaN</td>\n",
              "      <td>6</td>\n",
              "      <td>7</td>\n",
              "      <td>0</td>\n",
              "    </tr>\n",
              "    <tr>\n",
              "      <th>651</th>\n",
              "      <td>654333</td>\n",
              "      <td>Por</td>\n",
              "      <td>MS</td>\n",
              "      <td>F</td>\n",
              "      <td>18</td>\n",
              "      <td>R</td>\n",
              "      <td>GT3</td>\n",
              "      <td>T</td>\n",
              "      <td>2</td>\n",
              "      <td>2</td>\n",
              "      <td>other</td>\n",
              "      <td>other</td>\n",
              "      <td>other</td>\n",
              "      <td>mother</td>\n",
              "      <td>2</td>\n",
              "      <td>1</td>\n",
              "      <td>1</td>\n",
              "      <td>no</td>\n",
              "      <td>no</td>\n",
              "      <td>no</td>\n",
              "      <td>no</td>\n",
              "      <td>yes</td>\n",
              "      <td>no</td>\n",
              "      <td>yes</td>\n",
              "      <td>yes</td>\n",
              "      <td>5.0</td>\n",
              "      <td>5</td>\n",
              "      <td>5</td>\n",
              "      <td>1.0</td>\n",
              "      <td>1.0</td>\n",
              "      <td>3</td>\n",
              "      <td>0</td>\n",
              "      <td>no</td>\n",
              "      <td>8</td>\n",
              "      <td>6</td>\n",
              "      <td>0</td>\n",
              "    </tr>\n",
              "    <tr>\n",
              "      <th>684</th>\n",
              "      <td>684399</td>\n",
              "      <td>Math</td>\n",
              "      <td>GP</td>\n",
              "      <td>M</td>\n",
              "      <td>17</td>\n",
              "      <td>R</td>\n",
              "      <td>GT3</td>\n",
              "      <td>T</td>\n",
              "      <td>3</td>\n",
              "      <td>4</td>\n",
              "      <td>at_home</td>\n",
              "      <td>other</td>\n",
              "      <td>course</td>\n",
              "      <td>mother</td>\n",
              "      <td>3</td>\n",
              "      <td>2</td>\n",
              "      <td>0</td>\n",
              "      <td>no</td>\n",
              "      <td>no</td>\n",
              "      <td>no</td>\n",
              "      <td>no</td>\n",
              "      <td>yes</td>\n",
              "      <td>yes</td>\n",
              "      <td>no</td>\n",
              "      <td>no</td>\n",
              "      <td>5.0</td>\n",
              "      <td>4</td>\n",
              "      <td>5</td>\n",
              "      <td>2.0</td>\n",
              "      <td>4.0</td>\n",
              "      <td>5</td>\n",
              "      <td>0</td>\n",
              "      <td>NaN</td>\n",
              "      <td>10</td>\n",
              "      <td>0</td>\n",
              "      <td>0</td>\n",
              "    </tr>\n",
              "    <tr>\n",
              "      <th>710</th>\n",
              "      <td>714060</td>\n",
              "      <td>Math</td>\n",
              "      <td>GP</td>\n",
              "      <td>F</td>\n",
              "      <td>15</td>\n",
              "      <td>U</td>\n",
              "      <td>GT3</td>\n",
              "      <td>T</td>\n",
              "      <td>1</td>\n",
              "      <td>1</td>\n",
              "      <td>at_home</td>\n",
              "      <td>other</td>\n",
              "      <td>course</td>\n",
              "      <td>mother</td>\n",
              "      <td>3</td>\n",
              "      <td>1</td>\n",
              "      <td>0</td>\n",
              "      <td>no</td>\n",
              "      <td>yes</td>\n",
              "      <td>no</td>\n",
              "      <td>yes</td>\n",
              "      <td>no</td>\n",
              "      <td>yes</td>\n",
              "      <td>yes</td>\n",
              "      <td>yes</td>\n",
              "      <td>4.0</td>\n",
              "      <td>3</td>\n",
              "      <td>3</td>\n",
              "      <td>1.0</td>\n",
              "      <td>2.0</td>\n",
              "      <td>4</td>\n",
              "      <td>0</td>\n",
              "      <td>no</td>\n",
              "      <td>8</td>\n",
              "      <td>0</td>\n",
              "      <td>0</td>\n",
              "    </tr>\n",
              "    <tr>\n",
              "      <th>725</th>\n",
              "      <td>726849</td>\n",
              "      <td>Math</td>\n",
              "      <td>GP</td>\n",
              "      <td>M</td>\n",
              "      <td>15</td>\n",
              "      <td>U</td>\n",
              "      <td>GT3</td>\n",
              "      <td>T</td>\n",
              "      <td>4</td>\n",
              "      <td>3</td>\n",
              "      <td>teacher</td>\n",
              "      <td>services</td>\n",
              "      <td>course</td>\n",
              "      <td>father</td>\n",
              "      <td>2</td>\n",
              "      <td>4</td>\n",
              "      <td>0</td>\n",
              "      <td>yes</td>\n",
              "      <td>yes</td>\n",
              "      <td>no</td>\n",
              "      <td>no</td>\n",
              "      <td>yes</td>\n",
              "      <td>yes</td>\n",
              "      <td>yes</td>\n",
              "      <td>no</td>\n",
              "      <td>2.0</td>\n",
              "      <td>2</td>\n",
              "      <td>2</td>\n",
              "      <td>1.0</td>\n",
              "      <td>1.0</td>\n",
              "      <td>3</td>\n",
              "      <td>0</td>\n",
              "      <td>NaN</td>\n",
              "      <td>7</td>\n",
              "      <td>9</td>\n",
              "      <td>0</td>\n",
              "    </tr>\n",
              "    <tr>\n",
              "      <th>745</th>\n",
              "      <td>740165</td>\n",
              "      <td>Math</td>\n",
              "      <td>GP</td>\n",
              "      <td>M</td>\n",
              "      <td>19</td>\n",
              "      <td>U</td>\n",
              "      <td>GT3</td>\n",
              "      <td>T</td>\n",
              "      <td>3</td>\n",
              "      <td>2</td>\n",
              "      <td>services</td>\n",
              "      <td>at_home</td>\n",
              "      <td>home</td>\n",
              "      <td>mother</td>\n",
              "      <td>1</td>\n",
              "      <td>1</td>\n",
              "      <td>3</td>\n",
              "      <td>no</td>\n",
              "      <td>yes</td>\n",
              "      <td>no</td>\n",
              "      <td>no</td>\n",
              "      <td>yes</td>\n",
              "      <td>no</td>\n",
              "      <td>yes</td>\n",
              "      <td>yes</td>\n",
              "      <td>4.0</td>\n",
              "      <td>5</td>\n",
              "      <td>4</td>\n",
              "      <td>1.0</td>\n",
              "      <td>1.0</td>\n",
              "      <td>4</td>\n",
              "      <td>0</td>\n",
              "      <td>NaN</td>\n",
              "      <td>5</td>\n",
              "      <td>0</td>\n",
              "      <td>0</td>\n",
              "    </tr>\n",
              "    <tr>\n",
              "      <th>786</th>\n",
              "      <td>778154</td>\n",
              "      <td>Por</td>\n",
              "      <td>MS</td>\n",
              "      <td>M</td>\n",
              "      <td>17</td>\n",
              "      <td>U</td>\n",
              "      <td>GT3</td>\n",
              "      <td>T</td>\n",
              "      <td>2</td>\n",
              "      <td>2</td>\n",
              "      <td>other</td>\n",
              "      <td>other</td>\n",
              "      <td>course</td>\n",
              "      <td>mother</td>\n",
              "      <td>1</td>\n",
              "      <td>1</td>\n",
              "      <td>1</td>\n",
              "      <td>no</td>\n",
              "      <td>no</td>\n",
              "      <td>no</td>\n",
              "      <td>yes</td>\n",
              "      <td>yes</td>\n",
              "      <td>yes</td>\n",
              "      <td>no</td>\n",
              "      <td>yes</td>\n",
              "      <td>1.0</td>\n",
              "      <td>2</td>\n",
              "      <td>1</td>\n",
              "      <td>2.0</td>\n",
              "      <td>3.0</td>\n",
              "      <td>5</td>\n",
              "      <td>0</td>\n",
              "      <td>yes</td>\n",
              "      <td>7</td>\n",
              "      <td>0</td>\n",
              "      <td>0</td>\n",
              "    </tr>\n",
              "    <tr>\n",
              "      <th>788</th>\n",
              "      <td>778538</td>\n",
              "      <td>Math</td>\n",
              "      <td>GP</td>\n",
              "      <td>M</td>\n",
              "      <td>17</td>\n",
              "      <td>U</td>\n",
              "      <td>GT3</td>\n",
              "      <td>T</td>\n",
              "      <td>2</td>\n",
              "      <td>1</td>\n",
              "      <td>other</td>\n",
              "      <td>other</td>\n",
              "      <td>home</td>\n",
              "      <td>mother</td>\n",
              "      <td>1</td>\n",
              "      <td>1</td>\n",
              "      <td>3</td>\n",
              "      <td>no</td>\n",
              "      <td>yes</td>\n",
              "      <td>no</td>\n",
              "      <td>no</td>\n",
              "      <td>yes</td>\n",
              "      <td>yes</td>\n",
              "      <td>yes</td>\n",
              "      <td>no</td>\n",
              "      <td>5.0</td>\n",
              "      <td>4</td>\n",
              "      <td>5</td>\n",
              "      <td>1.0</td>\n",
              "      <td>2.0</td>\n",
              "      <td>5</td>\n",
              "      <td>0</td>\n",
              "      <td>no</td>\n",
              "      <td>5</td>\n",
              "      <td>0</td>\n",
              "      <td>0</td>\n",
              "    </tr>\n",
              "    <tr>\n",
              "      <th>804</th>\n",
              "      <td>795902</td>\n",
              "      <td>Math</td>\n",
              "      <td>GP</td>\n",
              "      <td>F</td>\n",
              "      <td>19</td>\n",
              "      <td>U</td>\n",
              "      <td>LE3</td>\n",
              "      <td>T</td>\n",
              "      <td>1</td>\n",
              "      <td>2</td>\n",
              "      <td>services</td>\n",
              "      <td>services</td>\n",
              "      <td>home</td>\n",
              "      <td>other</td>\n",
              "      <td>1</td>\n",
              "      <td>2</td>\n",
              "      <td>1</td>\n",
              "      <td>no</td>\n",
              "      <td>no</td>\n",
              "      <td>no</td>\n",
              "      <td>yes</td>\n",
              "      <td>no</td>\n",
              "      <td>yes</td>\n",
              "      <td>no</td>\n",
              "      <td>yes</td>\n",
              "      <td>4.0</td>\n",
              "      <td>2</td>\n",
              "      <td>4</td>\n",
              "      <td>2.0</td>\n",
              "      <td>2.0</td>\n",
              "      <td>3</td>\n",
              "      <td>0</td>\n",
              "      <td>NaN</td>\n",
              "      <td>9</td>\n",
              "      <td>9</td>\n",
              "      <td>0</td>\n",
              "    </tr>\n",
              "    <tr>\n",
              "      <th>818</th>\n",
              "      <td>804712</td>\n",
              "      <td>Math</td>\n",
              "      <td>GP</td>\n",
              "      <td>M</td>\n",
              "      <td>16</td>\n",
              "      <td>U</td>\n",
              "      <td>GT3</td>\n",
              "      <td>T</td>\n",
              "      <td>4</td>\n",
              "      <td>4</td>\n",
              "      <td>teacher</td>\n",
              "      <td>teacher</td>\n",
              "      <td>course</td>\n",
              "      <td>mother</td>\n",
              "      <td>1</td>\n",
              "      <td>1</td>\n",
              "      <td>0</td>\n",
              "      <td>no</td>\n",
              "      <td>yes</td>\n",
              "      <td>no</td>\n",
              "      <td>no</td>\n",
              "      <td>yes</td>\n",
              "      <td>no</td>\n",
              "      <td>yes</td>\n",
              "      <td>yes</td>\n",
              "      <td>3.0</td>\n",
              "      <td>3</td>\n",
              "      <td>2</td>\n",
              "      <td>2.0</td>\n",
              "      <td>1.0</td>\n",
              "      <td>5</td>\n",
              "      <td>0</td>\n",
              "      <td>NaN</td>\n",
              "      <td>7</td>\n",
              "      <td>6</td>\n",
              "      <td>0</td>\n",
              "    </tr>\n",
              "    <tr>\n",
              "      <th>898</th>\n",
              "      <td>872590</td>\n",
              "      <td>Math</td>\n",
              "      <td>GP</td>\n",
              "      <td>F</td>\n",
              "      <td>17</td>\n",
              "      <td>U</td>\n",
              "      <td>GT3</td>\n",
              "      <td>A</td>\n",
              "      <td>2</td>\n",
              "      <td>2</td>\n",
              "      <td>at_home</td>\n",
              "      <td>at_home</td>\n",
              "      <td>home</td>\n",
              "      <td>father</td>\n",
              "      <td>1</td>\n",
              "      <td>2</td>\n",
              "      <td>1</td>\n",
              "      <td>no</td>\n",
              "      <td>yes</td>\n",
              "      <td>no</td>\n",
              "      <td>no</td>\n",
              "      <td>yes</td>\n",
              "      <td>yes</td>\n",
              "      <td>yes</td>\n",
              "      <td>yes</td>\n",
              "      <td>3.0</td>\n",
              "      <td>3</td>\n",
              "      <td>1</td>\n",
              "      <td>1.0</td>\n",
              "      <td>2.0</td>\n",
              "      <td>4</td>\n",
              "      <td>0</td>\n",
              "      <td>NaN</td>\n",
              "      <td>9</td>\n",
              "      <td>8</td>\n",
              "      <td>0</td>\n",
              "    </tr>\n",
              "    <tr>\n",
              "      <th>905</th>\n",
              "      <td>883052</td>\n",
              "      <td>Math</td>\n",
              "      <td>GP</td>\n",
              "      <td>F</td>\n",
              "      <td>16</td>\n",
              "      <td>U</td>\n",
              "      <td>GT3</td>\n",
              "      <td>T</td>\n",
              "      <td>1</td>\n",
              "      <td>3</td>\n",
              "      <td>at_home</td>\n",
              "      <td>services</td>\n",
              "      <td>home</td>\n",
              "      <td>mother</td>\n",
              "      <td>1</td>\n",
              "      <td>2</td>\n",
              "      <td>3</td>\n",
              "      <td>no</td>\n",
              "      <td>no</td>\n",
              "      <td>no</td>\n",
              "      <td>yes</td>\n",
              "      <td>no</td>\n",
              "      <td>yes</td>\n",
              "      <td>yes</td>\n",
              "      <td>yes</td>\n",
              "      <td>4.0</td>\n",
              "      <td>3</td>\n",
              "      <td>5</td>\n",
              "      <td>1.0</td>\n",
              "      <td>1.0</td>\n",
              "      <td>3</td>\n",
              "      <td>0</td>\n",
              "      <td>NaN</td>\n",
              "      <td>8</td>\n",
              "      <td>7</td>\n",
              "      <td>0</td>\n",
              "    </tr>\n",
              "    <tr>\n",
              "      <th>952</th>\n",
              "      <td>928755</td>\n",
              "      <td>Math</td>\n",
              "      <td>MS</td>\n",
              "      <td>F</td>\n",
              "      <td>18</td>\n",
              "      <td>U</td>\n",
              "      <td>GT3</td>\n",
              "      <td>T</td>\n",
              "      <td>1</td>\n",
              "      <td>1</td>\n",
              "      <td>other</td>\n",
              "      <td>other</td>\n",
              "      <td>course</td>\n",
              "      <td>mother</td>\n",
              "      <td>2</td>\n",
              "      <td>2</td>\n",
              "      <td>1</td>\n",
              "      <td>no</td>\n",
              "      <td>no</td>\n",
              "      <td>no</td>\n",
              "      <td>yes</td>\n",
              "      <td>yes</td>\n",
              "      <td>yes</td>\n",
              "      <td>no</td>\n",
              "      <td>no</td>\n",
              "      <td>1.0</td>\n",
              "      <td>1</td>\n",
              "      <td>1</td>\n",
              "      <td>1.0</td>\n",
              "      <td>1.0</td>\n",
              "      <td>5</td>\n",
              "      <td>0</td>\n",
              "      <td>yes</td>\n",
              "      <td>6</td>\n",
              "      <td>5</td>\n",
              "      <td>0</td>\n",
              "    </tr>\n",
              "    <tr>\n",
              "      <th>961</th>\n",
              "      <td>934315</td>\n",
              "      <td>Math</td>\n",
              "      <td>GP</td>\n",
              "      <td>F</td>\n",
              "      <td>18</td>\n",
              "      <td>U</td>\n",
              "      <td>GT3</td>\n",
              "      <td>T</td>\n",
              "      <td>2</td>\n",
              "      <td>1</td>\n",
              "      <td>other</td>\n",
              "      <td>other</td>\n",
              "      <td>course</td>\n",
              "      <td>other</td>\n",
              "      <td>2</td>\n",
              "      <td>3</td>\n",
              "      <td>0</td>\n",
              "      <td>no</td>\n",
              "      <td>yes</td>\n",
              "      <td>yes</td>\n",
              "      <td>no</td>\n",
              "      <td>no</td>\n",
              "      <td>yes</td>\n",
              "      <td>yes</td>\n",
              "      <td>yes</td>\n",
              "      <td>4.0</td>\n",
              "      <td>4</td>\n",
              "      <td>4</td>\n",
              "      <td>1.0</td>\n",
              "      <td>1.0</td>\n",
              "      <td>3</td>\n",
              "      <td>0</td>\n",
              "      <td>NaN</td>\n",
              "      <td>7</td>\n",
              "      <td>0</td>\n",
              "      <td>0</td>\n",
              "    </tr>\n",
              "    <tr>\n",
              "      <th>966</th>\n",
              "      <td>938433</td>\n",
              "      <td>Math</td>\n",
              "      <td>GP</td>\n",
              "      <td>F</td>\n",
              "      <td>17</td>\n",
              "      <td>U</td>\n",
              "      <td>GT3</td>\n",
              "      <td>T</td>\n",
              "      <td>1</td>\n",
              "      <td>1</td>\n",
              "      <td>at_home</td>\n",
              "      <td>other</td>\n",
              "      <td>reputation</td>\n",
              "      <td>mother</td>\n",
              "      <td>1</td>\n",
              "      <td>3</td>\n",
              "      <td>1</td>\n",
              "      <td>no</td>\n",
              "      <td>yes</td>\n",
              "      <td>no</td>\n",
              "      <td>yes</td>\n",
              "      <td>yes</td>\n",
              "      <td>yes</td>\n",
              "      <td>no</td>\n",
              "      <td>yes</td>\n",
              "      <td>4.0</td>\n",
              "      <td>3</td>\n",
              "      <td>4</td>\n",
              "      <td>1.0</td>\n",
              "      <td>1.0</td>\n",
              "      <td>5</td>\n",
              "      <td>0</td>\n",
              "      <td>NaN</td>\n",
              "      <td>6</td>\n",
              "      <td>5</td>\n",
              "      <td>0</td>\n",
              "    </tr>\n",
              "    <tr>\n",
              "      <th>978</th>\n",
              "      <td>951372</td>\n",
              "      <td>Por</td>\n",
              "      <td>MS</td>\n",
              "      <td>F</td>\n",
              "      <td>18</td>\n",
              "      <td>R</td>\n",
              "      <td>GT3</td>\n",
              "      <td>T</td>\n",
              "      <td>2</td>\n",
              "      <td>2</td>\n",
              "      <td>at_home</td>\n",
              "      <td>other</td>\n",
              "      <td>course</td>\n",
              "      <td>mother</td>\n",
              "      <td>3</td>\n",
              "      <td>2</td>\n",
              "      <td>1</td>\n",
              "      <td>no</td>\n",
              "      <td>no</td>\n",
              "      <td>no</td>\n",
              "      <td>yes</td>\n",
              "      <td>yes</td>\n",
              "      <td>yes</td>\n",
              "      <td>no</td>\n",
              "      <td>yes</td>\n",
              "      <td>4.0</td>\n",
              "      <td>3</td>\n",
              "      <td>3</td>\n",
              "      <td>1.0</td>\n",
              "      <td>1.0</td>\n",
              "      <td>4</td>\n",
              "      <td>0</td>\n",
              "      <td>no</td>\n",
              "      <td>9</td>\n",
              "      <td>0</td>\n",
              "      <td>0</td>\n",
              "    </tr>\n",
              "    <tr>\n",
              "      <th>1019</th>\n",
              "      <td>983594</td>\n",
              "      <td>Math</td>\n",
              "      <td>GP</td>\n",
              "      <td>F</td>\n",
              "      <td>18</td>\n",
              "      <td>U</td>\n",
              "      <td>LE3</td>\n",
              "      <td>T</td>\n",
              "      <td>2</td>\n",
              "      <td>2</td>\n",
              "      <td>other</td>\n",
              "      <td>other</td>\n",
              "      <td>home</td>\n",
              "      <td>other</td>\n",
              "      <td>1</td>\n",
              "      <td>2</td>\n",
              "      <td>0</td>\n",
              "      <td>no</td>\n",
              "      <td>no</td>\n",
              "      <td>no</td>\n",
              "      <td>yes</td>\n",
              "      <td>no</td>\n",
              "      <td>yes</td>\n",
              "      <td>yes</td>\n",
              "      <td>yes</td>\n",
              "      <td>4.0</td>\n",
              "      <td>3</td>\n",
              "      <td>3</td>\n",
              "      <td>1.0</td>\n",
              "      <td>1.0</td>\n",
              "      <td>2</td>\n",
              "      <td>0</td>\n",
              "      <td>yes</td>\n",
              "      <td>8</td>\n",
              "      <td>8</td>\n",
              "      <td>0</td>\n",
              "    </tr>\n",
              "    <tr>\n",
              "      <th>1022</th>\n",
              "      <td>985067</td>\n",
              "      <td>Math</td>\n",
              "      <td>MS</td>\n",
              "      <td>F</td>\n",
              "      <td>17</td>\n",
              "      <td>R</td>\n",
              "      <td>GT3</td>\n",
              "      <td>T</td>\n",
              "      <td>1</td>\n",
              "      <td>1</td>\n",
              "      <td>other</td>\n",
              "      <td>services</td>\n",
              "      <td>reputation</td>\n",
              "      <td>mother</td>\n",
              "      <td>3</td>\n",
              "      <td>1</td>\n",
              "      <td>1</td>\n",
              "      <td>no</td>\n",
              "      <td>yes</td>\n",
              "      <td>yes</td>\n",
              "      <td>no</td>\n",
              "      <td>yes</td>\n",
              "      <td>yes</td>\n",
              "      <td>yes</td>\n",
              "      <td>yes</td>\n",
              "      <td>5.0</td>\n",
              "      <td>2</td>\n",
              "      <td>1</td>\n",
              "      <td>1.0</td>\n",
              "      <td>2.0</td>\n",
              "      <td>1</td>\n",
              "      <td>0</td>\n",
              "      <td>NaN</td>\n",
              "      <td>7</td>\n",
              "      <td>6</td>\n",
              "      <td>0</td>\n",
              "    </tr>\n",
              "    <tr>\n",
              "      <th>1026</th>\n",
              "      <td>987119</td>\n",
              "      <td>Por</td>\n",
              "      <td>MS</td>\n",
              "      <td>F</td>\n",
              "      <td>19</td>\n",
              "      <td>U</td>\n",
              "      <td>GT3</td>\n",
              "      <td>T</td>\n",
              "      <td>1</td>\n",
              "      <td>1</td>\n",
              "      <td>at_home</td>\n",
              "      <td>services</td>\n",
              "      <td>other</td>\n",
              "      <td>father</td>\n",
              "      <td>2</td>\n",
              "      <td>1</td>\n",
              "      <td>1</td>\n",
              "      <td>no</td>\n",
              "      <td>no</td>\n",
              "      <td>no</td>\n",
              "      <td>no</td>\n",
              "      <td>yes</td>\n",
              "      <td>no</td>\n",
              "      <td>no</td>\n",
              "      <td>no</td>\n",
              "      <td>5.0</td>\n",
              "      <td>5</td>\n",
              "      <td>5</td>\n",
              "      <td>2.0</td>\n",
              "      <td>3.0</td>\n",
              "      <td>2</td>\n",
              "      <td>0</td>\n",
              "      <td>NaN</td>\n",
              "      <td>5</td>\n",
              "      <td>0</td>\n",
              "      <td>0</td>\n",
              "    </tr>\n",
              "    <tr>\n",
              "      <th>1027</th>\n",
              "      <td>988296</td>\n",
              "      <td>Por</td>\n",
              "      <td>GP</td>\n",
              "      <td>M</td>\n",
              "      <td>18</td>\n",
              "      <td>U</td>\n",
              "      <td>LE3</td>\n",
              "      <td>T</td>\n",
              "      <td>1</td>\n",
              "      <td>1</td>\n",
              "      <td>other</td>\n",
              "      <td>other</td>\n",
              "      <td>course</td>\n",
              "      <td>mother</td>\n",
              "      <td>1</td>\n",
              "      <td>1</td>\n",
              "      <td>2</td>\n",
              "      <td>no</td>\n",
              "      <td>no</td>\n",
              "      <td>no</td>\n",
              "      <td>no</td>\n",
              "      <td>yes</td>\n",
              "      <td>no</td>\n",
              "      <td>yes</td>\n",
              "      <td>yes</td>\n",
              "      <td>2.0</td>\n",
              "      <td>3</td>\n",
              "      <td>5</td>\n",
              "      <td>2.0</td>\n",
              "      <td>5.0</td>\n",
              "      <td>4</td>\n",
              "      <td>0</td>\n",
              "      <td>NaN</td>\n",
              "      <td>11</td>\n",
              "      <td>9</td>\n",
              "      <td>0</td>\n",
              "    </tr>\n",
              "  </tbody>\n",
              "</table>\n",
              "</div>"
            ],
            "text/plain": [
              "          ID Subject school sex  age address famsize Pstatus Medu Fedu  \\\n",
              "71    156109     Por     MS   M   18       R     GT3       T    4    2   \n",
              "83    163217     Por     MS   F   19       R     GT3       A    1    1   \n",
              "152   218048    Math     GP   M   18       R     GT3       T    2    2   \n",
              "178   243472    Math     GP   F   18       R     GT3       T    2    2   \n",
              "184   247347    Math     GP   M   16       U     GT3       T    3    4   \n",
              "229   285793    Math     GP   F   15       R     GT3       T    3    4   \n",
              "241   298547    Math     GP   M   18       U     GT3       T    4    4   \n",
              "265   325702     Por     MS   M   16       R     GT3       T    2    1   \n",
              "278   337797     Por     MS   F   18       R     GT3       T    4    4   \n",
              "292   348379    Math     GP   M   16       U     LE3       T    1    2   \n",
              "326   373767     Por     MS   F   17       U     GT3       T    4    2   \n",
              "332   384016    Math     GP   F   16       U     GT3       T    2    2   \n",
              "336   389098    Math     GP   F   15       U     GT3       T    4    4   \n",
              "350   395320    Math     GP   M   15       R     GT3       T    3    4   \n",
              "352   396378     Por     MS   M   19       R     GT3       T    1    1   \n",
              "367   416298     Por     MS   M   18       R     GT3       T    3    2   \n",
              "387   429690    Math     GP   F   17       U     GT3       t    3    2   \n",
              "391   433047    Math     GP   M   16       U     LE3       T    4    3   \n",
              "410   450164     Por     MS   F   18       R     LE3       A    4    2   \n",
              "419   455088     Por     MS   M   18       R     GT3       T    2    1   \n",
              "420   455906    Math     GP   M   17       R     LE3       T    2    1   \n",
              "438   473711    Math     GP   F   18       R     GT3       T    2    1   \n",
              "474   501710     Por     MS   M   16       U     GT3       T    1    1   \n",
              "477   504065    Math     MS   F   19       R     GT3       T    2    3   \n",
              "482   509393    Math     GP   F   18       U     GT3       T    2    1   \n",
              "495   519638    Math     GP   M   18       U     GT3       T    2    2   \n",
              "497   520300    Math     GP   F   18       U     GT3       T    3    3   \n",
              "509   531503    Math     GP   M   18       U     LE3       T    1    1   \n",
              "519   552788    Math     GP   F   17       U     LE3       T    2    2   \n",
              "581   602318    Math     GP   F   19       U     GT3       T    4    4   \n",
              "592   614297    Math     GP   F   16       U     GT3       A    3    3   \n",
              "603   624907    Math     MS   M   19       R     GT3       T    1    1   \n",
              "624   635152    Math     GP   F   18       U     GT3       T    2    2   \n",
              "625   635426    Math     GP   F   15       U     GT3       T    3    2   \n",
              "651   654333     Por     MS   F   18       R     GT3       T    2    2   \n",
              "684   684399    Math     GP   M   17       R     GT3       T    3    4   \n",
              "710   714060    Math     GP   F   15       U     GT3       T    1    1   \n",
              "725   726849    Math     GP   M   15       U     GT3       T    4    3   \n",
              "745   740165    Math     GP   M   19       U     GT3       T    3    2   \n",
              "786   778154     Por     MS   M   17       U     GT3       T    2    2   \n",
              "788   778538    Math     GP   M   17       U     GT3       T    2    1   \n",
              "804   795902    Math     GP   F   19       U     LE3       T    1    2   \n",
              "818   804712    Math     GP   M   16       U     GT3       T    4    4   \n",
              "898   872590    Math     GP   F   17       U     GT3       A    2    2   \n",
              "905   883052    Math     GP   F   16       U     GT3       T    1    3   \n",
              "952   928755    Math     MS   F   18       U     GT3       T    1    1   \n",
              "961   934315    Math     GP   F   18       U     GT3       T    2    1   \n",
              "966   938433    Math     GP   F   17       U     GT3       T    1    1   \n",
              "978   951372     Por     MS   F   18       R     GT3       T    2    2   \n",
              "1019  983594    Math     GP   F   18       U     LE3       T    2    2   \n",
              "1022  985067    Math     MS   F   17       R     GT3       T    1    1   \n",
              "1026  987119     Por     MS   F   19       U     GT3       T    1    1   \n",
              "1027  988296     Por     GP   M   18       U     LE3       T    1    1   \n",
              "\n",
              "          Mjob      Fjob      reason guardian  traveltime  studytime  \\\n",
              "71       other     other        home   father           2          1   \n",
              "83     at_home   at_home      course    other           2          2   \n",
              "152   services     other  reputation   mother           1          1   \n",
              "178    at_home     other      course   mother           2          4   \n",
              "184      other     other      course   father           3          1   \n",
              "229   services   teacher      course   father           2          3   \n",
              "241    teacher  services        home   father           1          2   \n",
              "265      other  services  reputation   mother           2          2   \n",
              "278      other   teacher       other   father           3          2   \n",
              "292      other     other      course   mother           2          1   \n",
              "326    teacher  services        home   mother           1          2   \n",
              "332      other     other        home   mother           1          2   \n",
              "336   services   at_home      course   mother           1          3   \n",
              "350    at_home   teacher      course   mother           4          2   \n",
              "352      other  services       other   mother           2          1   \n",
              "367   services     other      course   mother           1          1   \n",
              "387      other     other        home   mother           1          2   \n",
              "391    teacher     other      course   mother           1          1   \n",
              "410    teacher     other  reputation   mother           1          2   \n",
              "419      other     other       other   mother           2          1   \n",
              "420    at_home     other      course   mother           2          1   \n",
              "438      other     other  reputation   mother           2          2   \n",
              "474    at_home  services        home   mother           2          2   \n",
              "477   services     other      course   mother           1          3   \n",
              "482   services     other      course   mother           2          2   \n",
              "495      other  services  reputation   father           1          2   \n",
              "497   services  services        home   mother           1          2   \n",
              "509      other     other      course   mother           1          1   \n",
              "519   services  services      course   father           1          4   \n",
              "581     health     other  reputation    other           2          2   \n",
              "592      other     other      course    other           2          1   \n",
              "603      other  services       other   mother           2          1   \n",
              "624    at_home  services        home   mother           1          3   \n",
              "625     health  services        home   father           1          2   \n",
              "651      other     other       other   mother           2          1   \n",
              "684    at_home     other      course   mother           3          2   \n",
              "710    at_home     other      course   mother           3          1   \n",
              "725    teacher  services      course   father           2          4   \n",
              "745   services   at_home        home   mother           1          1   \n",
              "786      other     other      course   mother           1          1   \n",
              "788      other     other        home   mother           1          1   \n",
              "804   services  services        home    other           1          2   \n",
              "818    teacher   teacher      course   mother           1          1   \n",
              "898    at_home   at_home        home   father           1          2   \n",
              "905    at_home  services        home   mother           1          2   \n",
              "952      other     other      course   mother           2          2   \n",
              "961      other     other      course    other           2          3   \n",
              "966    at_home     other  reputation   mother           1          3   \n",
              "978    at_home     other      course   mother           3          2   \n",
              "1019     other     other        home    other           1          2   \n",
              "1022     other  services  reputation   mother           3          1   \n",
              "1026   at_home  services       other   father           2          1   \n",
              "1027     other     other      course   mother           1          1   \n",
              "\n",
              "      failures schoolsup famsup paid activities nursery higher internet  \\\n",
              "71           1        no     no  yes         no     yes    yes       no   \n",
              "83           3        no    yes   no        yes     yes     no       no   \n",
              "152          2        no    yes   no        yes     yes    yes      yes   \n",
              "178          0        no     no   no        yes     yes    yes       no   \n",
              "184          2        no    yes   no        yes      no    yes      yes   \n",
              "229          2        no    yes   no         no     yes    yes      yes   \n",
              "241          1        no    yes   no        yes     yes    yes      yes   \n",
              "265          0        no     no   no        yes     yes    yes      yes   \n",
              "278          0        no    yes   no         no      no    yes      yes   \n",
              "292          1        no     no   no        yes     yes    yes       no   \n",
              "326          0       yes    yes   no        yes     yes    yes      yes   \n",
              "332          0        no    yes  yes         no      no    yes      yes   \n",
              "336          0        no    yes   no        yes     yes    yes      yes   \n",
              "350          0        no    yes   no         no     yes    yes       no   \n",
              "352          1        no     no   no         no     yes    yes       no   \n",
              "367          1        no     no   no         no     yes     no      yes   \n",
              "387          0        no    yes  yes         no     yes    yes      yes   \n",
              "391          0        no     no   no        yes      no    yes      yes   \n",
              "410          0        no     no   no        yes     yes    yes      yes   \n",
              "419          0        no     no   no        yes      no    yes      yes   \n",
              "420          2        no     no   no        yes     yes     no      yes   \n",
              "438          0        no    yes   no         no     yes     no      yes   \n",
              "474          0        no    yes   no        yes     yes    yes       no   \n",
              "477          1        no     no   no        yes      no    yes      yes   \n",
              "482          0        no    yes  yes        yes     yes    yes      yes   \n",
              "495          1        no     no   no         no     yes     no      yes   \n",
              "497          0        no     no   no        yes     yes    yes      yes   \n",
              "509          3        no     no   no         no     yes     no      yes   \n",
              "519          0        no     no  yes        yes     yes    yes      yes   \n",
              "581          0        no    yes  yes        yes     yes    yes      yes   \n",
              "592          2        no    yes   no        yes      no    yes      yes   \n",
              "603          1        no     no   no         no     yes    yes       no   \n",
              "624          0        no    yes  yes        yes     yes    yes      yes   \n",
              "625          3        no    yes   no         no     yes    yes      yes   \n",
              "651          1        no     no   no         no     yes     no      yes   \n",
              "684          0        no     no   no         no     yes    yes       no   \n",
              "710          0        no    yes   no        yes      no    yes      yes   \n",
              "725          0       yes    yes   no         no     yes    yes      yes   \n",
              "745          3        no    yes   no         no     yes     no      yes   \n",
              "786          1        no     no   no        yes     yes    yes       no   \n",
              "788          3        no    yes   no         no     yes    yes      yes   \n",
              "804          1        no     no   no        yes      no    yes       no   \n",
              "818          0        no    yes   no         no     yes     no      yes   \n",
              "898          1        no    yes   no         no     yes    yes      yes   \n",
              "905          3        no     no   no        yes      no    yes      yes   \n",
              "952          1        no     no   no        yes     yes    yes       no   \n",
              "961          0        no    yes  yes         no      no    yes      yes   \n",
              "966          1        no    yes   no        yes     yes    yes       no   \n",
              "978          1        no     no   no        yes     yes    yes       no   \n",
              "1019         0        no     no   no        yes      no    yes      yes   \n",
              "1022         1        no    yes  yes         no     yes    yes      yes   \n",
              "1026         1        no     no   no         no     yes     no       no   \n",
              "1027         2        no     no   no         no     yes     no      yes   \n",
              "\n",
              "     romantic  famrel  freetime  goout  Dalc  Walc  health  absences cheating  \\\n",
              "71         no     5.0         4      3   4.0   3.0       3         0      NaN   \n",
              "83        yes     3.0         5      4   1.0   4.0       1         0      yes   \n",
              "152        no     3.0         3      3   1.0   2.0       4         0      NaN   \n",
              "178        no     4.0         4      4   1.0   1.0       4         0      NaN   \n",
              "184        no     3.0         4      5   2.0   4.0       2         0      yes   \n",
              "229       yes     4.0         2      2   2.0   2.0       5         0       no   \n",
              "241        no     4.0         3      3   2.0   2.0       2         0      NaN   \n",
              "265        no     5.0         2      1   1.0   1.0       2         0      NaN   \n",
              "278       yes     3.0         2      2   4.0   2.0       5         0      yes   \n",
              "292        no     4.0         4      4   2.0   4.0       5         0      NaN   \n",
              "326       NaN     5.0         5      5   1.0   3.0       5         0       no   \n",
              "332        no     5.0         1      5   1.0   1.0       4         0      NaN   \n",
              "336       yes     4.0         3      3   1.0   1.0       5         0      NaN   \n",
              "350       yes     5.0         3      3   1.0   1.0       5         0      NaN   \n",
              "352        no     4.0         3      2   1.0   3.0       5         0       no   \n",
              "367       NaN     2.0         3      1   2.0   2.0       5         0      NaN   \n",
              "387       yes     4.0         3      2   2.0   3.0       2         0      yes   \n",
              "391        no     5.0         4      5   1.0   1.0       3         0      NaN   \n",
              "410       yes     5.0         3      1   1.0   1.0       5         0      NaN   \n",
              "419       yes     4.0         4      3   1.0   3.0       5         0      NaN   \n",
              "420       yes     3.0         3      2   2.0   2.0       5         0      NaN   \n",
              "438       yes     4.0         3      5   1.0   2.0       3         0      NaN   \n",
              "474       yes     5.0         4      5   4.0   5.0       3         0      NaN   \n",
              "477        no     5.0         4      2   1.0   2.0       5         0      NaN   \n",
              "482        no     5.0         3      3   1.0   2.0       1         0      yes   \n",
              "495        no     5.0         5      4   3.0   5.0       2         0      NaN   \n",
              "497        no     5.0         3      4   1.0   1.0       4         0      NaN   \n",
              "509       yes     2.0         3      5   2.0   5.0       4         0      NaN   \n",
              "519       yes     3.0         4      1   1.0   1.0       2         0      NaN   \n",
              "581        no     2.0         3      4   2.0   3.0       2         0      NaN   \n",
              "592       yes     4.0         3      2   1.0   1.0       5         0      yes   \n",
              "603        no     4.0         3      2   1.0   3.0       5         0      NaN   \n",
              "624       yes     4.0         3      3   1.0   1.0       3         0      yes   \n",
              "625        no     3.0         3      2   1.0   1.0       3         0      NaN   \n",
              "651       yes     5.0         5      5   1.0   1.0       3         0       no   \n",
              "684        no     5.0         4      5   2.0   4.0       5         0      NaN   \n",
              "710       yes     4.0         3      3   1.0   2.0       4         0       no   \n",
              "725        no     2.0         2      2   1.0   1.0       3         0      NaN   \n",
              "745       yes     4.0         5      4   1.0   1.0       4         0      NaN   \n",
              "786       yes     1.0         2      1   2.0   3.0       5         0      yes   \n",
              "788        no     5.0         4      5   1.0   2.0       5         0       no   \n",
              "804       yes     4.0         2      4   2.0   2.0       3         0      NaN   \n",
              "818       yes     3.0         3      2   2.0   1.0       5         0      NaN   \n",
              "898       yes     3.0         3      1   1.0   2.0       4         0      NaN   \n",
              "905       yes     4.0         3      5   1.0   1.0       3         0      NaN   \n",
              "952        no     1.0         1      1   1.0   1.0       5         0      yes   \n",
              "961       yes     4.0         4      4   1.0   1.0       3         0      NaN   \n",
              "966       yes     4.0         3      4   1.0   1.0       5         0      NaN   \n",
              "978       yes     4.0         3      3   1.0   1.0       4         0       no   \n",
              "1019      yes     4.0         3      3   1.0   1.0       2         0      yes   \n",
              "1022      yes     5.0         2      1   1.0   2.0       1         0      NaN   \n",
              "1026       no     5.0         5      5   2.0   3.0       2         0      NaN   \n",
              "1027      yes     2.0         3      5   2.0   5.0       4         0      NaN   \n",
              "\n",
              "      G1  G2  G3  \n",
              "71     7   7   0  \n",
              "83     8   0   0  \n",
              "152    7   4   0  \n",
              "178   10   9   0  \n",
              "184    6   5   0  \n",
              "229   12   0   0  \n",
              "241   10  10   0  \n",
              "265    8   7   0  \n",
              "278    7   5   0  \n",
              "292    7   0   0  \n",
              "326    8   8   0  \n",
              "332    6   7   0  \n",
              "336   11   0   0  \n",
              "350    9   0   0  \n",
              "352    5   8   0  \n",
              "367    4   0   0  \n",
              "387    7   8   0  \n",
              "391    6   0   0  \n",
              "410    5   0   0  \n",
              "419    7   7   0  \n",
              "420    7   6   0  \n",
              "438    6   0   0  \n",
              "474    7   0   0  \n",
              "477    7   5   0  \n",
              "482    8   8   0  \n",
              "495    7   7   0  \n",
              "497    7   0   0  \n",
              "509    6   5   0  \n",
              "519   10   9   0  \n",
              "581   10   9   0  \n",
              "592    4   0   0  \n",
              "603    6   5   0  \n",
              "624    9  10   0  \n",
              "625    6   7   0  \n",
              "651    8   6   0  \n",
              "684   10   0   0  \n",
              "710    8   0   0  \n",
              "725    7   9   0  \n",
              "745    5   0   0  \n",
              "786    7   0   0  \n",
              "788    5   0   0  \n",
              "804    9   9   0  \n",
              "818    7   6   0  \n",
              "898    9   8   0  \n",
              "905    8   7   0  \n",
              "952    6   5   0  \n",
              "961    7   0   0  \n",
              "966    6   5   0  \n",
              "978    9   0   0  \n",
              "1019   8   8   0  \n",
              "1022   7   6   0  \n",
              "1026   5   0   0  \n",
              "1027  11   9   0  "
            ]
          },
          "metadata": {
            "tags": []
          },
          "execution_count": 6
        }
      ]
    },
    {
      "cell_type": "code",
      "metadata": {
        "id": "BMqieXCSkoOc",
        "colab_type": "code",
        "outputId": "9647c0e0-4764-4f4a-e981-9d8f46c2651d",
        "colab": {
          "base_uri": "https://localhost:8080/",
          "height": 517
        }
      },
      "source": [
        "data.head(15)"
      ],
      "execution_count": 7,
      "outputs": [
        {
          "output_type": "execute_result",
          "data": {
            "text/html": [
              "<div>\n",
              "<style scoped>\n",
              "    .dataframe tbody tr th:only-of-type {\n",
              "        vertical-align: middle;\n",
              "    }\n",
              "\n",
              "    .dataframe tbody tr th {\n",
              "        vertical-align: top;\n",
              "    }\n",
              "\n",
              "    .dataframe thead th {\n",
              "        text-align: right;\n",
              "    }\n",
              "</style>\n",
              "<table border=\"1\" class=\"dataframe\">\n",
              "  <thead>\n",
              "    <tr style=\"text-align: right;\">\n",
              "      <th></th>\n",
              "      <th>ID</th>\n",
              "      <th>Subject</th>\n",
              "      <th>school</th>\n",
              "      <th>sex</th>\n",
              "      <th>age</th>\n",
              "      <th>address</th>\n",
              "      <th>famsize</th>\n",
              "      <th>Pstatus</th>\n",
              "      <th>Medu</th>\n",
              "      <th>Fedu</th>\n",
              "      <th>Mjob</th>\n",
              "      <th>Fjob</th>\n",
              "      <th>reason</th>\n",
              "      <th>guardian</th>\n",
              "      <th>traveltime</th>\n",
              "      <th>studytime</th>\n",
              "      <th>failures</th>\n",
              "      <th>schoolsup</th>\n",
              "      <th>famsup</th>\n",
              "      <th>paid</th>\n",
              "      <th>activities</th>\n",
              "      <th>nursery</th>\n",
              "      <th>higher</th>\n",
              "      <th>internet</th>\n",
              "      <th>romantic</th>\n",
              "      <th>famrel</th>\n",
              "      <th>freetime</th>\n",
              "      <th>goout</th>\n",
              "      <th>Dalc</th>\n",
              "      <th>Walc</th>\n",
              "      <th>health</th>\n",
              "      <th>absences</th>\n",
              "      <th>cheating</th>\n",
              "      <th>G1</th>\n",
              "      <th>G2</th>\n",
              "      <th>G3</th>\n",
              "    </tr>\n",
              "  </thead>\n",
              "  <tbody>\n",
              "    <tr>\n",
              "      <th>0</th>\n",
              "      <td>100097</td>\n",
              "      <td>Por</td>\n",
              "      <td>GP</td>\n",
              "      <td>F</td>\n",
              "      <td>16</td>\n",
              "      <td>U</td>\n",
              "      <td>GT3</td>\n",
              "      <td>A</td>\n",
              "      <td>3</td>\n",
              "      <td>4</td>\n",
              "      <td>services</td>\n",
              "      <td>other</td>\n",
              "      <td>course</td>\n",
              "      <td>father</td>\n",
              "      <td>1</td>\n",
              "      <td>1</td>\n",
              "      <td>0</td>\n",
              "      <td>no</td>\n",
              "      <td>no</td>\n",
              "      <td>no</td>\n",
              "      <td>no</td>\n",
              "      <td>yes</td>\n",
              "      <td>yes</td>\n",
              "      <td>yes</td>\n",
              "      <td>no</td>\n",
              "      <td>3.0</td>\n",
              "      <td>2</td>\n",
              "      <td>1</td>\n",
              "      <td>1.0</td>\n",
              "      <td>4.0</td>\n",
              "      <td>5</td>\n",
              "      <td>12</td>\n",
              "      <td>NaN</td>\n",
              "      <td>15</td>\n",
              "      <td>13</td>\n",
              "      <td>14</td>\n",
              "    </tr>\n",
              "    <tr>\n",
              "      <th>1</th>\n",
              "      <td>101021</td>\n",
              "      <td>Por</td>\n",
              "      <td>GP</td>\n",
              "      <td>F</td>\n",
              "      <td>17</td>\n",
              "      <td>U</td>\n",
              "      <td>GT3</td>\n",
              "      <td>T</td>\n",
              "      <td>3</td>\n",
              "      <td>2</td>\n",
              "      <td>other</td>\n",
              "      <td>other</td>\n",
              "      <td>course</td>\n",
              "      <td>mother</td>\n",
              "      <td>1</td>\n",
              "      <td>2</td>\n",
              "      <td>0</td>\n",
              "      <td>no</td>\n",
              "      <td>no</td>\n",
              "      <td>no</td>\n",
              "      <td>yes</td>\n",
              "      <td>no</td>\n",
              "      <td>yes</td>\n",
              "      <td>yes</td>\n",
              "      <td>no</td>\n",
              "      <td>5.0</td>\n",
              "      <td>3</td>\n",
              "      <td>4</td>\n",
              "      <td>1.0</td>\n",
              "      <td>3.0</td>\n",
              "      <td>3</td>\n",
              "      <td>2</td>\n",
              "      <td>NaN</td>\n",
              "      <td>17</td>\n",
              "      <td>18</td>\n",
              "      <td>17</td>\n",
              "    </tr>\n",
              "    <tr>\n",
              "      <th>2</th>\n",
              "      <td>102965</td>\n",
              "      <td>Por</td>\n",
              "      <td>GP</td>\n",
              "      <td>M</td>\n",
              "      <td>16</td>\n",
              "      <td>U</td>\n",
              "      <td>LE3</td>\n",
              "      <td>T</td>\n",
              "      <td>1</td>\n",
              "      <td>2</td>\n",
              "      <td>health</td>\n",
              "      <td>services</td>\n",
              "      <td>course</td>\n",
              "      <td>mother</td>\n",
              "      <td>2</td>\n",
              "      <td>1</td>\n",
              "      <td>2</td>\n",
              "      <td>no</td>\n",
              "      <td>no</td>\n",
              "      <td>no</td>\n",
              "      <td>no</td>\n",
              "      <td>no</td>\n",
              "      <td>yes</td>\n",
              "      <td>yes</td>\n",
              "      <td>no</td>\n",
              "      <td>4.0</td>\n",
              "      <td>4</td>\n",
              "      <td>5</td>\n",
              "      <td>3.0</td>\n",
              "      <td>5.0</td>\n",
              "      <td>5</td>\n",
              "      <td>0</td>\n",
              "      <td>yes</td>\n",
              "      <td>9</td>\n",
              "      <td>8</td>\n",
              "      <td>10</td>\n",
              "    </tr>\n",
              "    <tr>\n",
              "      <th>3</th>\n",
              "      <td>102989</td>\n",
              "      <td>Por</td>\n",
              "      <td>MS</td>\n",
              "      <td>M</td>\n",
              "      <td>17</td>\n",
              "      <td>U</td>\n",
              "      <td>GT3</td>\n",
              "      <td>T</td>\n",
              "      <td>2</td>\n",
              "      <td>3</td>\n",
              "      <td>other</td>\n",
              "      <td>services</td>\n",
              "      <td>home</td>\n",
              "      <td>father</td>\n",
              "      <td>2</td>\n",
              "      <td>2</td>\n",
              "      <td>0</td>\n",
              "      <td>no</td>\n",
              "      <td>no</td>\n",
              "      <td>no</td>\n",
              "      <td>yes</td>\n",
              "      <td>yes</td>\n",
              "      <td>yes</td>\n",
              "      <td>yes</td>\n",
              "      <td>no</td>\n",
              "      <td>4.0</td>\n",
              "      <td>4</td>\n",
              "      <td>3</td>\n",
              "      <td>1.0</td>\n",
              "      <td>1.0</td>\n",
              "      <td>3</td>\n",
              "      <td>4</td>\n",
              "      <td>no</td>\n",
              "      <td>14</td>\n",
              "      <td>15</td>\n",
              "      <td>16</td>\n",
              "    </tr>\n",
              "    <tr>\n",
              "      <th>4</th>\n",
              "      <td>103131</td>\n",
              "      <td>Por</td>\n",
              "      <td>GP</td>\n",
              "      <td>F</td>\n",
              "      <td>16</td>\n",
              "      <td>U</td>\n",
              "      <td>GT3</td>\n",
              "      <td>T</td>\n",
              "      <td>1</td>\n",
              "      <td>1</td>\n",
              "      <td>at_home</td>\n",
              "      <td>other</td>\n",
              "      <td>home</td>\n",
              "      <td>mother</td>\n",
              "      <td>2</td>\n",
              "      <td>1</td>\n",
              "      <td>0</td>\n",
              "      <td>no</td>\n",
              "      <td>yes</td>\n",
              "      <td>no</td>\n",
              "      <td>no</td>\n",
              "      <td>yes</td>\n",
              "      <td>yes</td>\n",
              "      <td>no</td>\n",
              "      <td>NaN</td>\n",
              "      <td>4.0</td>\n",
              "      <td>3</td>\n",
              "      <td>2</td>\n",
              "      <td>1.0</td>\n",
              "      <td>4.0</td>\n",
              "      <td>5</td>\n",
              "      <td>2</td>\n",
              "      <td>yes</td>\n",
              "      <td>12</td>\n",
              "      <td>13</td>\n",
              "      <td>13</td>\n",
              "    </tr>\n",
              "    <tr>\n",
              "      <th>5</th>\n",
              "      <td>103144</td>\n",
              "      <td>Por</td>\n",
              "      <td>GP</td>\n",
              "      <td>M</td>\n",
              "      <td>18</td>\n",
              "      <td>U</td>\n",
              "      <td>LE3</td>\n",
              "      <td>T</td>\n",
              "      <td>3</td>\n",
              "      <td>1</td>\n",
              "      <td>services</td>\n",
              "      <td>services</td>\n",
              "      <td>course</td>\n",
              "      <td>mother</td>\n",
              "      <td>2</td>\n",
              "      <td>1</td>\n",
              "      <td>0</td>\n",
              "      <td>no</td>\n",
              "      <td>no</td>\n",
              "      <td>no</td>\n",
              "      <td>yes</td>\n",
              "      <td>yes</td>\n",
              "      <td>yes</td>\n",
              "      <td>yes</td>\n",
              "      <td>yes</td>\n",
              "      <td>3.0</td>\n",
              "      <td>3</td>\n",
              "      <td>4</td>\n",
              "      <td>4.0</td>\n",
              "      <td>5.0</td>\n",
              "      <td>4</td>\n",
              "      <td>2</td>\n",
              "      <td>NaN</td>\n",
              "      <td>11</td>\n",
              "      <td>11</td>\n",
              "      <td>12</td>\n",
              "    </tr>\n",
              "    <tr>\n",
              "      <th>6</th>\n",
              "      <td>105257</td>\n",
              "      <td>Por</td>\n",
              "      <td>MS</td>\n",
              "      <td>F</td>\n",
              "      <td>18</td>\n",
              "      <td>U</td>\n",
              "      <td>GT3</td>\n",
              "      <td>T</td>\n",
              "      <td>1</td>\n",
              "      <td>1</td>\n",
              "      <td>other</td>\n",
              "      <td>other</td>\n",
              "      <td>course</td>\n",
              "      <td>mother</td>\n",
              "      <td>2</td>\n",
              "      <td>2</td>\n",
              "      <td>0</td>\n",
              "      <td>no</td>\n",
              "      <td>no</td>\n",
              "      <td>no</td>\n",
              "      <td>yes</td>\n",
              "      <td>yes</td>\n",
              "      <td>yes</td>\n",
              "      <td>no</td>\n",
              "      <td>no</td>\n",
              "      <td>1.0</td>\n",
              "      <td>1</td>\n",
              "      <td>1</td>\n",
              "      <td>1.0</td>\n",
              "      <td>1.0</td>\n",
              "      <td>5</td>\n",
              "      <td>6</td>\n",
              "      <td>NaN</td>\n",
              "      <td>11</td>\n",
              "      <td>12</td>\n",
              "      <td>9</td>\n",
              "    </tr>\n",
              "    <tr>\n",
              "      <th>7</th>\n",
              "      <td>107639</td>\n",
              "      <td>Por</td>\n",
              "      <td>MS</td>\n",
              "      <td>F</td>\n",
              "      <td>15</td>\n",
              "      <td>R</td>\n",
              "      <td>GT3</td>\n",
              "      <td>T</td>\n",
              "      <td>4</td>\n",
              "      <td>4</td>\n",
              "      <td>teacher</td>\n",
              "      <td>other</td>\n",
              "      <td>course</td>\n",
              "      <td>mother</td>\n",
              "      <td>2</td>\n",
              "      <td>1</td>\n",
              "      <td>0</td>\n",
              "      <td>no</td>\n",
              "      <td>no</td>\n",
              "      <td>no</td>\n",
              "      <td>no</td>\n",
              "      <td>yes</td>\n",
              "      <td>yes</td>\n",
              "      <td>yes</td>\n",
              "      <td>yes</td>\n",
              "      <td>1.0</td>\n",
              "      <td>5</td>\n",
              "      <td>1</td>\n",
              "      <td>3.0</td>\n",
              "      <td>5.0</td>\n",
              "      <td>5</td>\n",
              "      <td>0</td>\n",
              "      <td>NaN</td>\n",
              "      <td>13</td>\n",
              "      <td>14</td>\n",
              "      <td>14</td>\n",
              "    </tr>\n",
              "    <tr>\n",
              "      <th>8</th>\n",
              "      <td>107914</td>\n",
              "      <td>Math</td>\n",
              "      <td>GP</td>\n",
              "      <td>F</td>\n",
              "      <td>15</td>\n",
              "      <td>U</td>\n",
              "      <td>LE3</td>\n",
              "      <td>T</td>\n",
              "      <td>3</td>\n",
              "      <td>2</td>\n",
              "      <td>services</td>\n",
              "      <td>other</td>\n",
              "      <td>reputation</td>\n",
              "      <td>mother</td>\n",
              "      <td>1</td>\n",
              "      <td>2</td>\n",
              "      <td>0</td>\n",
              "      <td>no</td>\n",
              "      <td>yes</td>\n",
              "      <td>yes</td>\n",
              "      <td>no</td>\n",
              "      <td>yes</td>\n",
              "      <td>yes</td>\n",
              "      <td>yes</td>\n",
              "      <td>no</td>\n",
              "      <td>4.0</td>\n",
              "      <td>4</td>\n",
              "      <td>4</td>\n",
              "      <td>1.0</td>\n",
              "      <td>1.0</td>\n",
              "      <td>5</td>\n",
              "      <td>10</td>\n",
              "      <td>no</td>\n",
              "      <td>7</td>\n",
              "      <td>6</td>\n",
              "      <td>6</td>\n",
              "    </tr>\n",
              "    <tr>\n",
              "      <th>9</th>\n",
              "      <td>108089</td>\n",
              "      <td>Por</td>\n",
              "      <td>MS</td>\n",
              "      <td>M</td>\n",
              "      <td>16</td>\n",
              "      <td>R</td>\n",
              "      <td>GT3</td>\n",
              "      <td>T</td>\n",
              "      <td>3</td>\n",
              "      <td>4</td>\n",
              "      <td>other</td>\n",
              "      <td>health</td>\n",
              "      <td>other</td>\n",
              "      <td>mother</td>\n",
              "      <td>3</td>\n",
              "      <td>2</td>\n",
              "      <td>0</td>\n",
              "      <td>no</td>\n",
              "      <td>no</td>\n",
              "      <td>no</td>\n",
              "      <td>no</td>\n",
              "      <td>no</td>\n",
              "      <td>yes</td>\n",
              "      <td>no</td>\n",
              "      <td>no</td>\n",
              "      <td>3.0</td>\n",
              "      <td>4</td>\n",
              "      <td>5</td>\n",
              "      <td>1.0</td>\n",
              "      <td>2.0</td>\n",
              "      <td>5</td>\n",
              "      <td>4</td>\n",
              "      <td>NaN</td>\n",
              "      <td>9</td>\n",
              "      <td>10</td>\n",
              "      <td>11</td>\n",
              "    </tr>\n",
              "    <tr>\n",
              "      <th>10</th>\n",
              "      <td>108254</td>\n",
              "      <td>Por</td>\n",
              "      <td>GP</td>\n",
              "      <td>M</td>\n",
              "      <td>15</td>\n",
              "      <td>U</td>\n",
              "      <td>LE3</td>\n",
              "      <td>T</td>\n",
              "      <td>4</td>\n",
              "      <td>4</td>\n",
              "      <td>health</td>\n",
              "      <td>services</td>\n",
              "      <td>course</td>\n",
              "      <td>father</td>\n",
              "      <td>1</td>\n",
              "      <td>1</td>\n",
              "      <td>0</td>\n",
              "      <td>no</td>\n",
              "      <td>yes</td>\n",
              "      <td>no</td>\n",
              "      <td>yes</td>\n",
              "      <td>yes</td>\n",
              "      <td>yes</td>\n",
              "      <td>yes</td>\n",
              "      <td>no</td>\n",
              "      <td>4.0</td>\n",
              "      <td>3</td>\n",
              "      <td>3</td>\n",
              "      <td>1.0</td>\n",
              "      <td>3.0</td>\n",
              "      <td>5</td>\n",
              "      <td>0</td>\n",
              "      <td>NaN</td>\n",
              "      <td>12</td>\n",
              "      <td>13</td>\n",
              "      <td>12</td>\n",
              "    </tr>\n",
              "    <tr>\n",
              "      <th>11</th>\n",
              "      <td>108296</td>\n",
              "      <td>Por</td>\n",
              "      <td>GP</td>\n",
              "      <td>M</td>\n",
              "      <td>18</td>\n",
              "      <td>U</td>\n",
              "      <td>LE3</td>\n",
              "      <td>T</td>\n",
              "      <td>3</td>\n",
              "      <td>4</td>\n",
              "      <td>services</td>\n",
              "      <td>other</td>\n",
              "      <td>home</td>\n",
              "      <td>mother</td>\n",
              "      <td>1</td>\n",
              "      <td>2</td>\n",
              "      <td>0</td>\n",
              "      <td>no</td>\n",
              "      <td>no</td>\n",
              "      <td>no</td>\n",
              "      <td>yes</td>\n",
              "      <td>yes</td>\n",
              "      <td>yes</td>\n",
              "      <td>yes</td>\n",
              "      <td>yes</td>\n",
              "      <td>4.0</td>\n",
              "      <td>3</td>\n",
              "      <td>3</td>\n",
              "      <td>1.0</td>\n",
              "      <td>3.0</td>\n",
              "      <td>5</td>\n",
              "      <td>6</td>\n",
              "      <td>no</td>\n",
              "      <td>16</td>\n",
              "      <td>16</td>\n",
              "      <td>17</td>\n",
              "    </tr>\n",
              "    <tr>\n",
              "      <th>12</th>\n",
              "      <td>108753</td>\n",
              "      <td>Math</td>\n",
              "      <td>MS</td>\n",
              "      <td>F</td>\n",
              "      <td>18</td>\n",
              "      <td>R</td>\n",
              "      <td>GT3</td>\n",
              "      <td>T</td>\n",
              "      <td>4</td>\n",
              "      <td>4</td>\n",
              "      <td>teacher</td>\n",
              "      <td>at-home</td>\n",
              "      <td>reputation</td>\n",
              "      <td>mother</td>\n",
              "      <td>3</td>\n",
              "      <td>1</td>\n",
              "      <td>0</td>\n",
              "      <td>no</td>\n",
              "      <td>yes</td>\n",
              "      <td>yes</td>\n",
              "      <td>yes</td>\n",
              "      <td>yes</td>\n",
              "      <td>yes</td>\n",
              "      <td>yes</td>\n",
              "      <td>yes</td>\n",
              "      <td>4.0</td>\n",
              "      <td>4</td>\n",
              "      <td>3</td>\n",
              "      <td>2.0</td>\n",
              "      <td>2.0</td>\n",
              "      <td>5</td>\n",
              "      <td>7</td>\n",
              "      <td>NaN</td>\n",
              "      <td>6</td>\n",
              "      <td>5</td>\n",
              "      <td>6</td>\n",
              "    </tr>\n",
              "    <tr>\n",
              "      <th>13</th>\n",
              "      <td>108825</td>\n",
              "      <td>Por</td>\n",
              "      <td>GP</td>\n",
              "      <td>M</td>\n",
              "      <td>15</td>\n",
              "      <td>U</td>\n",
              "      <td>GT3</td>\n",
              "      <td>T</td>\n",
              "      <td>4</td>\n",
              "      <td>3</td>\n",
              "      <td>teacher</td>\n",
              "      <td>other</td>\n",
              "      <td>home</td>\n",
              "      <td>mother</td>\n",
              "      <td>1</td>\n",
              "      <td>2</td>\n",
              "      <td>0</td>\n",
              "      <td>no</td>\n",
              "      <td>yes</td>\n",
              "      <td>no</td>\n",
              "      <td>yes</td>\n",
              "      <td>yes</td>\n",
              "      <td>yes</td>\n",
              "      <td>yes</td>\n",
              "      <td>no</td>\n",
              "      <td>4.0</td>\n",
              "      <td>3</td>\n",
              "      <td>3</td>\n",
              "      <td>2.0</td>\n",
              "      <td>3.0</td>\n",
              "      <td>5</td>\n",
              "      <td>0</td>\n",
              "      <td>yes</td>\n",
              "      <td>11</td>\n",
              "      <td>11</td>\n",
              "      <td>11</td>\n",
              "    </tr>\n",
              "    <tr>\n",
              "      <th>14</th>\n",
              "      <td>114462</td>\n",
              "      <td>Math</td>\n",
              "      <td>GP</td>\n",
              "      <td>F</td>\n",
              "      <td>16</td>\n",
              "      <td>U</td>\n",
              "      <td>LE3</td>\n",
              "      <td>T</td>\n",
              "      <td>2</td>\n",
              "      <td>2</td>\n",
              "      <td>at_home</td>\n",
              "      <td>other</td>\n",
              "      <td>course</td>\n",
              "      <td>mother</td>\n",
              "      <td>1</td>\n",
              "      <td>2</td>\n",
              "      <td>0</td>\n",
              "      <td>no</td>\n",
              "      <td>yes</td>\n",
              "      <td>no</td>\n",
              "      <td>no</td>\n",
              "      <td>yes</td>\n",
              "      <td>yes</td>\n",
              "      <td>no</td>\n",
              "      <td>no</td>\n",
              "      <td>4.0</td>\n",
              "      <td>3</td>\n",
              "      <td>4</td>\n",
              "      <td>1.0</td>\n",
              "      <td>2.0</td>\n",
              "      <td>2</td>\n",
              "      <td>4</td>\n",
              "      <td>yes</td>\n",
              "      <td>8</td>\n",
              "      <td>7</td>\n",
              "      <td>6</td>\n",
              "    </tr>\n",
              "  </tbody>\n",
              "</table>\n",
              "</div>"
            ],
            "text/plain": [
              "        ID Subject school sex  age address famsize Pstatus Medu Fedu  \\\n",
              "0   100097     Por     GP   F   16       U     GT3       A    3    4   \n",
              "1   101021     Por     GP   F   17       U     GT3       T    3    2   \n",
              "2   102965     Por     GP   M   16       U     LE3       T    1    2   \n",
              "3   102989     Por     MS   M   17       U     GT3       T    2    3   \n",
              "4   103131     Por     GP   F   16       U     GT3       T    1    1   \n",
              "5   103144     Por     GP   M   18       U     LE3       T    3    1   \n",
              "6   105257     Por     MS   F   18       U     GT3       T    1    1   \n",
              "7   107639     Por     MS   F   15       R     GT3       T    4    4   \n",
              "8   107914    Math     GP   F   15       U     LE3       T    3    2   \n",
              "9   108089     Por     MS   M   16       R     GT3       T    3    4   \n",
              "10  108254     Por     GP   M   15       U     LE3       T    4    4   \n",
              "11  108296     Por     GP   M   18       U     LE3       T    3    4   \n",
              "12  108753    Math     MS   F   18       R     GT3       T    4    4   \n",
              "13  108825     Por     GP   M   15       U     GT3       T    4    3   \n",
              "14  114462    Math     GP   F   16       U     LE3       T    2    2   \n",
              "\n",
              "        Mjob      Fjob      reason guardian  traveltime  studytime  failures  \\\n",
              "0   services     other      course   father           1          1         0   \n",
              "1      other     other      course   mother           1          2         0   \n",
              "2     health  services      course   mother           2          1         2   \n",
              "3      other  services        home   father           2          2         0   \n",
              "4    at_home     other        home   mother           2          1         0   \n",
              "5   services  services      course   mother           2          1         0   \n",
              "6      other     other      course   mother           2          2         0   \n",
              "7    teacher     other      course   mother           2          1         0   \n",
              "8   services     other  reputation   mother           1          2         0   \n",
              "9      other    health       other   mother           3          2         0   \n",
              "10    health  services      course   father           1          1         0   \n",
              "11  services     other        home   mother           1          2         0   \n",
              "12   teacher   at-home  reputation   mother           3          1         0   \n",
              "13   teacher     other        home   mother           1          2         0   \n",
              "14   at_home     other      course   mother           1          2         0   \n",
              "\n",
              "   schoolsup famsup paid activities nursery higher internet romantic  famrel  \\\n",
              "0         no     no   no         no     yes    yes      yes       no     3.0   \n",
              "1         no     no   no        yes      no    yes      yes       no     5.0   \n",
              "2         no     no   no         no      no    yes      yes       no     4.0   \n",
              "3         no     no   no        yes     yes    yes      yes       no     4.0   \n",
              "4         no    yes   no         no     yes    yes       no      NaN     4.0   \n",
              "5         no     no   no        yes     yes    yes      yes      yes     3.0   \n",
              "6         no     no   no        yes     yes    yes       no       no     1.0   \n",
              "7         no     no   no         no     yes    yes      yes      yes     1.0   \n",
              "8         no    yes  yes         no     yes    yes      yes       no     4.0   \n",
              "9         no     no   no         no      no    yes       no       no     3.0   \n",
              "10        no    yes   no        yes     yes    yes      yes       no     4.0   \n",
              "11        no     no   no        yes     yes    yes      yes      yes     4.0   \n",
              "12        no    yes  yes        yes     yes    yes      yes      yes     4.0   \n",
              "13        no    yes   no        yes     yes    yes      yes       no     4.0   \n",
              "14        no    yes   no         no     yes    yes       no       no     4.0   \n",
              "\n",
              "    freetime  goout  Dalc  Walc  health  absences cheating  G1  G2  G3  \n",
              "0          2      1   1.0   4.0       5        12      NaN  15  13  14  \n",
              "1          3      4   1.0   3.0       3         2      NaN  17  18  17  \n",
              "2          4      5   3.0   5.0       5         0      yes   9   8  10  \n",
              "3          4      3   1.0   1.0       3         4       no  14  15  16  \n",
              "4          3      2   1.0   4.0       5         2      yes  12  13  13  \n",
              "5          3      4   4.0   5.0       4         2      NaN  11  11  12  \n",
              "6          1      1   1.0   1.0       5         6      NaN  11  12   9  \n",
              "7          5      1   3.0   5.0       5         0      NaN  13  14  14  \n",
              "8          4      4   1.0   1.0       5        10       no   7   6   6  \n",
              "9          4      5   1.0   2.0       5         4      NaN   9  10  11  \n",
              "10         3      3   1.0   3.0       5         0      NaN  12  13  12  \n",
              "11         3      3   1.0   3.0       5         6       no  16  16  17  \n",
              "12         4      3   2.0   2.0       5         7      NaN   6   5   6  \n",
              "13         3      3   2.0   3.0       5         0      yes  11  11  11  \n",
              "14         3      4   1.0   2.0       2         4      yes   8   7   6  "
            ]
          },
          "metadata": {
            "tags": []
          },
          "execution_count": 7
        }
      ]
    },
    {
      "cell_type": "code",
      "metadata": {
        "id": "zdnvCgHEkoOf",
        "colab_type": "code",
        "outputId": "6fe62ef8-cd3b-42a8-f6c5-768524df1b1c",
        "colab": {
          "base_uri": "https://localhost:8080/",
          "height": 1000
        }
      },
      "source": [
        "pd.read_csv('students_data_features.csv',\n",
        "            delimiter=';',\n",
        "            encoding='windows-1251')"
      ],
      "execution_count": 8,
      "outputs": [
        {
          "output_type": "execute_result",
          "data": {
            "text/html": [
              "<div>\n",
              "<style scoped>\n",
              "    .dataframe tbody tr th:only-of-type {\n",
              "        vertical-align: middle;\n",
              "    }\n",
              "\n",
              "    .dataframe tbody tr th {\n",
              "        vertical-align: top;\n",
              "    }\n",
              "\n",
              "    .dataframe thead th {\n",
              "        text-align: right;\n",
              "    }\n",
              "</style>\n",
              "<table border=\"1\" class=\"dataframe\">\n",
              "  <thead>\n",
              "    <tr style=\"text-align: right;\">\n",
              "      <th></th>\n",
              "      <th>Признак</th>\n",
              "      <th>Описание</th>\n",
              "    </tr>\n",
              "  </thead>\n",
              "  <tbody>\n",
              "    <tr>\n",
              "      <th>0</th>\n",
              "      <td>ID</td>\n",
              "      <td>Уникальный номер наблюдения</td>\n",
              "    </tr>\n",
              "    <tr>\n",
              "      <th>1</th>\n",
              "      <td>Subject</td>\n",
              "      <td>Предмет: 'Math' - математика, 'Por' - португальский язык</td>\n",
              "    </tr>\n",
              "    <tr>\n",
              "      <th>2</th>\n",
              "      <td>school</td>\n",
              "      <td>Школа: 'GP' - Gabriel Pereira, 'MS' - Mousinho da Silveira</td>\n",
              "    </tr>\n",
              "    <tr>\n",
              "      <th>3</th>\n",
              "      <td>sex</td>\n",
              "      <td>Пол студента: 'F' - женский, 'M' - мужской</td>\n",
              "    </tr>\n",
              "    <tr>\n",
              "      <th>4</th>\n",
              "      <td>age</td>\n",
              "      <td>Возраст студента</td>\n",
              "    </tr>\n",
              "    <tr>\n",
              "      <th>5</th>\n",
              "      <td>address</td>\n",
              "      <td>Место проживания студента: 'U' - в городе, 'R' - за городом</td>\n",
              "    </tr>\n",
              "    <tr>\n",
              "      <th>6</th>\n",
              "      <td>famsize</td>\n",
              "      <td>Число членов семьи: 'LE3' - если &lt;= 3, 'GT3' - если &gt; 3</td>\n",
              "    </tr>\n",
              "    <tr>\n",
              "      <th>7</th>\n",
              "      <td>Pstatus</td>\n",
              "      <td>Отношения родителей: 'T' - живут вместе, 'A' - живут раздельно</td>\n",
              "    </tr>\n",
              "    <tr>\n",
              "      <th>8</th>\n",
              "      <td>Medu</td>\n",
              "      <td>Образование матери: 0 - без образования, 1 - начальная школа, 2 – от 5 до 9 классов, 3 – среднее образование, 4 – высшее образование</td>\n",
              "    </tr>\n",
              "    <tr>\n",
              "      <th>9</th>\n",
              "      <td>Fedu</td>\n",
              "      <td>Образование отца: 0 - без образования, 1 - начальная школа, 2 – от 5 до 9 классов, 3 – среднее образование, 4 – высшее образование</td>\n",
              "    </tr>\n",
              "    <tr>\n",
              "      <th>10</th>\n",
              "      <td>Mjob</td>\n",
              "      <td>Работа матери: 'teacher' - связана с преподаванием, 'health'  - связана с здравоохранением, 'services' - администрация и полиция, 'at_home' - домашняя занятость, 'other' - другое</td>\n",
              "    </tr>\n",
              "    <tr>\n",
              "      <th>11</th>\n",
              "      <td>Fjob</td>\n",
              "      <td>Работа отца: 'teacher' - связана с преподаванием, 'health'  - связана с здравоохранением, 'services' - администрация и полиция, 'at_home' - домашняя занятость, 'other' - другое</td>\n",
              "    </tr>\n",
              "    <tr>\n",
              "      <th>12</th>\n",
              "      <td>reason</td>\n",
              "      <td>Причина, по которой студент выбрал данную школу: 'home' - рядом с домом, 'reputation' - репутация школы, 'course' - читаемые курсы, 'other' - другое</td>\n",
              "    </tr>\n",
              "    <tr>\n",
              "      <th>13</th>\n",
              "      <td>guardian</td>\n",
              "      <td>Опекун студента (student's guardian): 'mother', 'father' или 'other'</td>\n",
              "    </tr>\n",
              "    <tr>\n",
              "      <th>14</th>\n",
              "      <td>traveltime</td>\n",
              "      <td>Время в пути от дома до школы: 1 - &lt; 15 мин, 2 - от 15 до 30 мин, 3 - от 30 мин до 1 часа, 4 - &gt; 1 часа</td>\n",
              "    </tr>\n",
              "    <tr>\n",
              "      <th>15</th>\n",
              "      <td>studytime</td>\n",
              "      <td>Количество часов на учебу в неделю: 1 - &lt; 2 часов, 2 - от 2 до 5 часов, 3 - от 5 до 10 часов, 4 - &gt; 10 часов</td>\n",
              "    </tr>\n",
              "    <tr>\n",
              "      <th>16</th>\n",
              "      <td>failures</td>\n",
              "      <td>Число завалов студента по предыдущим курсам:  n если 1&lt;=n&lt;3, иначе 4</td>\n",
              "    </tr>\n",
              "    <tr>\n",
              "      <th>17</th>\n",
              "      <td>schoolsup</td>\n",
              "      <td>Дополнительная помощь в учебе: yes или no</td>\n",
              "    </tr>\n",
              "    <tr>\n",
              "      <th>18</th>\n",
              "      <td>famsup</td>\n",
              "      <td>Дополнительная помощь в учебе от членов семьи: yes или no</td>\n",
              "    </tr>\n",
              "    <tr>\n",
              "      <th>19</th>\n",
              "      <td>paid</td>\n",
              "      <td>Платные дополнительные занятия по соответствущему курсу ('Math' или 'Por'): yes или no</td>\n",
              "    </tr>\n",
              "    <tr>\n",
              "      <th>20</th>\n",
              "      <td>activities</td>\n",
              "      <td>Внеучебные активности: yes или no</td>\n",
              "    </tr>\n",
              "    <tr>\n",
              "      <th>21</th>\n",
              "      <td>nursery</td>\n",
              "      <td>Ходил в детстве в детский сад: yes или no</td>\n",
              "    </tr>\n",
              "    <tr>\n",
              "      <th>22</th>\n",
              "      <td>higher</td>\n",
              "      <td>Собирается получать высшее образование: yes или no</td>\n",
              "    </tr>\n",
              "    <tr>\n",
              "      <th>23</th>\n",
              "      <td>internet</td>\n",
              "      <td>Есть доступ к всемирной сети из дома: yes или no</td>\n",
              "    </tr>\n",
              "    <tr>\n",
              "      <th>24</th>\n",
              "      <td>romantic</td>\n",
              "      <td>Состоит в романтических отношениях: yes или no</td>\n",
              "    </tr>\n",
              "    <tr>\n",
              "      <th>25</th>\n",
              "      <td>famrel</td>\n",
              "      <td>Отношения в семье: от 1 - очень плохие, до 5 - прекрасные</td>\n",
              "    </tr>\n",
              "    <tr>\n",
              "      <th>26</th>\n",
              "      <td>freetime</td>\n",
              "      <td>Свободное время после занятий: от 1 - очень мало, до 5 - очень много</td>\n",
              "    </tr>\n",
              "    <tr>\n",
              "      <th>27</th>\n",
              "      <td>goout</td>\n",
              "      <td>Проводит время с друзьями: от 1 - очень редко/мало, до 5 - очень часто/много</td>\n",
              "    </tr>\n",
              "    <tr>\n",
              "      <th>28</th>\n",
              "      <td>Dalc</td>\n",
              "      <td>Потребление алкоголя в будни: от 1 - очень мало, до 5 - очень много</td>\n",
              "    </tr>\n",
              "    <tr>\n",
              "      <th>29</th>\n",
              "      <td>Walc</td>\n",
              "      <td>Потребление алкоголя в выходные: от 1 - очень мало, до 5 - очень много</td>\n",
              "    </tr>\n",
              "    <tr>\n",
              "      <th>30</th>\n",
              "      <td>health</td>\n",
              "      <td>Состояние здоровья: от 1 - очень плохое, до 5  - очень хорошее</td>\n",
              "    </tr>\n",
              "    <tr>\n",
              "      <th>31</th>\n",
              "      <td>absences</td>\n",
              "      <td>Число пропусков: сколько раз пропустил занятия в школе</td>\n",
              "    </tr>\n",
              "    <tr>\n",
              "      <th>32</th>\n",
              "      <td>cheating</td>\n",
              "      <td>Списывает ли на тестах: yes или no</td>\n",
              "    </tr>\n",
              "    <tr>\n",
              "      <th>33</th>\n",
              "      <td>G1</td>\n",
              "      <td>Оценка за первое полугодние: от 0 до 20</td>\n",
              "    </tr>\n",
              "    <tr>\n",
              "      <th>34</th>\n",
              "      <td>G2</td>\n",
              "      <td>Оценка за второе полугодие: от 0 до 20</td>\n",
              "    </tr>\n",
              "    <tr>\n",
              "      <th>35</th>\n",
              "      <td>G3</td>\n",
              "      <td>Итоговая оценка: от 0 до 20</td>\n",
              "    </tr>\n",
              "  </tbody>\n",
              "</table>\n",
              "</div>"
            ],
            "text/plain": [
              "       Признак  \\\n",
              "0           ID   \n",
              "1      Subject   \n",
              "2       school   \n",
              "3          sex   \n",
              "4          age   \n",
              "5      address   \n",
              "6      famsize   \n",
              "7      Pstatus   \n",
              "8         Medu   \n",
              "9         Fedu   \n",
              "10        Mjob   \n",
              "11        Fjob   \n",
              "12      reason   \n",
              "13    guardian   \n",
              "14  traveltime   \n",
              "15   studytime   \n",
              "16    failures   \n",
              "17   schoolsup   \n",
              "18      famsup   \n",
              "19        paid   \n",
              "20  activities   \n",
              "21     nursery   \n",
              "22      higher   \n",
              "23    internet   \n",
              "24    romantic   \n",
              "25      famrel   \n",
              "26    freetime   \n",
              "27       goout   \n",
              "28        Dalc   \n",
              "29        Walc   \n",
              "30      health   \n",
              "31    absences   \n",
              "32    cheating   \n",
              "33          G1   \n",
              "34          G2   \n",
              "35          G3   \n",
              "\n",
              "                                                                                                                                                                              Описание  \n",
              "0                                                                                                                                                          Уникальный номер наблюдения  \n",
              "1                                                                                                                             Предмет: 'Math' - математика, 'Por' - португальский язык  \n",
              "2                                                                                                                           Школа: 'GP' - Gabriel Pereira, 'MS' - Mousinho da Silveira  \n",
              "3                                                                                                                                           Пол студента: 'F' - женский, 'M' - мужской  \n",
              "4                                                                                                                                                                     Возраст студента  \n",
              "5                                                                                                                          Место проживания студента: 'U' - в городе, 'R' - за городом  \n",
              "6                                                                                                                              Число членов семьи: 'LE3' - если <= 3, 'GT3' - если > 3  \n",
              "7                                                                                                                       Отношения родителей: 'T' - живут вместе, 'A' - живут раздельно  \n",
              "8                                                 Образование матери: 0 - без образования, 1 - начальная школа, 2 – от 5 до 9 классов, 3 – среднее образование, 4 – высшее образование  \n",
              "9                                                   Образование отца: 0 - без образования, 1 - начальная школа, 2 – от 5 до 9 классов, 3 – среднее образование, 4 – высшее образование  \n",
              "10  Работа матери: 'teacher' - связана с преподаванием, 'health'  - связана с здравоохранением, 'services' - администрация и полиция, 'at_home' - домашняя занятость, 'other' - другое  \n",
              "11    Работа отца: 'teacher' - связана с преподаванием, 'health'  - связана с здравоохранением, 'services' - администрация и полиция, 'at_home' - домашняя занятость, 'other' - другое  \n",
              "12                                Причина, по которой студент выбрал данную школу: 'home' - рядом с домом, 'reputation' - репутация школы, 'course' - читаемые курсы, 'other' - другое  \n",
              "13                                                                                                                Опекун студента (student's guardian): 'mother', 'father' или 'other'  \n",
              "14                                                                             Время в пути от дома до школы: 1 - < 15 мин, 2 - от 15 до 30 мин, 3 - от 30 мин до 1 часа, 4 - > 1 часа  \n",
              "15                                                                        Количество часов на учебу в неделю: 1 - < 2 часов, 2 - от 2 до 5 часов, 3 - от 5 до 10 часов, 4 - > 10 часов  \n",
              "16                                                                                                                Число завалов студента по предыдущим курсам:  n если 1<=n<3, иначе 4  \n",
              "17                                                                                                                                           Дополнительная помощь в учебе: yes или no  \n",
              "18                                                                                                                           Дополнительная помощь в учебе от членов семьи: yes или no  \n",
              "19                                                                                              Платные дополнительные занятия по соответствущему курсу ('Math' или 'Por'): yes или no  \n",
              "20                                                                                                                                                   Внеучебные активности: yes или no  \n",
              "21                                                                                                                                           Ходил в детстве в детский сад: yes или no  \n",
              "22                                                                                                                                  Собирается получать высшее образование: yes или no  \n",
              "23                                                                                                                                    Есть доступ к всемирной сети из дома: yes или no  \n",
              "24                                                                                                                                      Состоит в романтических отношениях: yes или no  \n",
              "25                                                                                                                           Отношения в семье: от 1 - очень плохие, до 5 - прекрасные  \n",
              "26                                                                                                                Свободное время после занятий: от 1 - очень мало, до 5 - очень много  \n",
              "27                                                                                                        Проводит время с друзьями: от 1 - очень редко/мало, до 5 - очень часто/много  \n",
              "28                                                                                                                 Потребление алкоголя в будни: от 1 - очень мало, до 5 - очень много  \n",
              "29                                                                                                              Потребление алкоголя в выходные: от 1 - очень мало, до 5 - очень много  \n",
              "30                                                                                                                      Состояние здоровья: от 1 - очень плохое, до 5  - очень хорошее  \n",
              "31                                                                                                                              Число пропусков: сколько раз пропустил занятия в школе  \n",
              "32                                                                                                                                                  Списывает ли на тестах: yes или no  \n",
              "33                                                                                                                                             Оценка за первое полугодние: от 0 до 20  \n",
              "34                                                                                                                                              Оценка за второе полугодие: от 0 до 20  \n",
              "35                                                                                                                                                         Итоговая оценка: от 0 до 20  "
            ]
          },
          "metadata": {
            "tags": []
          },
          "execution_count": 8
        }
      ]
    },
    {
      "cell_type": "markdown",
      "metadata": {
        "id": "ANlZxeF5koOq",
        "colab_type": "text"
      },
      "source": [
        "## Часть 1. Предобработка данных"
      ]
    },
    {
      "cell_type": "markdown",
      "metadata": {
        "id": "TMsRwrgSkoOr",
        "colab_type": "text"
      },
      "source": [
        "* Выполните необходимые преобразования данных: исправление ошибок, удаление выбросов и пропусков, приведение признаков к числовому виду.  \n",
        "* Оцените значимость признаков для определения итоговой оценки за курс. Исключите из выборки незначимые на ваш взгляд признаки, обоснуйте свое решение. \n",
        "* (Опционально) Feature engineering: создайте новые признаки (значимые) на основе уже имеющихся.\n",
        "  \n",
        "**Tip:** Используйте свои наработки из Лабораторной работы №1."
      ]
    },
    {
      "cell_type": "markdown",
      "metadata": {
        "id": "ewEdroVkiA6J",
        "colab_type": "text"
      },
      "source": [
        "### Пропущенные данные"
      ]
    },
    {
      "cell_type": "code",
      "metadata": {
        "id": "q1eSDMespTiv",
        "colab_type": "code",
        "outputId": "3524f6e6-2857-4d63-e0fd-534d8f6442cf",
        "colab": {
          "base_uri": "https://localhost:8080/",
          "height": 667
        }
      },
      "source": [
        "A = data.isnull()\n",
        "print('Missing values by features:', A.sum(), sep='\\n')\n",
        "print('Missing values :', A.sum().sum(),)\n",
        "\n",
        "data.drop(['cheating'], axis='columns', inplace=True)"
      ],
      "execution_count": 9,
      "outputs": [
        {
          "output_type": "stream",
          "text": [
            "Missing values by features:\n",
            "ID              0\n",
            "Subject         0\n",
            "school          0\n",
            "sex             0\n",
            "age             0\n",
            "address         0\n",
            "famsize         0\n",
            "Pstatus         0\n",
            "Medu            0\n",
            "Fedu            0\n",
            "Mjob            0\n",
            "Fjob            0\n",
            "reason          0\n",
            "guardian        0\n",
            "traveltime      0\n",
            "studytime       0\n",
            "failures        0\n",
            "schoolsup       0\n",
            "famsup          0\n",
            "paid            0\n",
            "activities      0\n",
            "nursery         0\n",
            "higher          0\n",
            "internet        0\n",
            "romantic       10\n",
            "famrel         10\n",
            "freetime        0\n",
            "goout           0\n",
            "Dalc           10\n",
            "Walc           10\n",
            "health          0\n",
            "absences        0\n",
            "cheating      700\n",
            "G1              0\n",
            "G2              0\n",
            "G3              0\n",
            "dtype: int64\n",
            "Missing values : 740\n"
          ],
          "name": "stdout"
        }
      ]
    },
    {
      "cell_type": "markdown",
      "metadata": {
        "id": "9eP1Z6vViImi",
        "colab_type": "text"
      },
      "source": [
        "таким образом видим, что колонка списовальщиков заполнена меньше всего. удалили ее."
      ]
    },
    {
      "cell_type": "code",
      "metadata": {
        "id": "ahcfA33Mscjy",
        "colab_type": "code",
        "outputId": "895c3a56-004a-48e4-acfe-25c167530fb9",
        "colab": {
          "base_uri": "https://localhost:8080/",
          "height": 67
        }
      },
      "source": [
        "data.loc[(data['Dalc'].isnull()) & (data['Walc'].isnull())]"
      ],
      "execution_count": 10,
      "outputs": [
        {
          "output_type": "execute_result",
          "data": {
            "text/html": [
              "<div>\n",
              "<style scoped>\n",
              "    .dataframe tbody tr th:only-of-type {\n",
              "        vertical-align: middle;\n",
              "    }\n",
              "\n",
              "    .dataframe tbody tr th {\n",
              "        vertical-align: top;\n",
              "    }\n",
              "\n",
              "    .dataframe thead th {\n",
              "        text-align: right;\n",
              "    }\n",
              "</style>\n",
              "<table border=\"1\" class=\"dataframe\">\n",
              "  <thead>\n",
              "    <tr style=\"text-align: right;\">\n",
              "      <th></th>\n",
              "      <th>ID</th>\n",
              "      <th>Subject</th>\n",
              "      <th>school</th>\n",
              "      <th>sex</th>\n",
              "      <th>age</th>\n",
              "      <th>address</th>\n",
              "      <th>famsize</th>\n",
              "      <th>Pstatus</th>\n",
              "      <th>Medu</th>\n",
              "      <th>Fedu</th>\n",
              "      <th>Mjob</th>\n",
              "      <th>Fjob</th>\n",
              "      <th>reason</th>\n",
              "      <th>guardian</th>\n",
              "      <th>traveltime</th>\n",
              "      <th>studytime</th>\n",
              "      <th>failures</th>\n",
              "      <th>schoolsup</th>\n",
              "      <th>famsup</th>\n",
              "      <th>paid</th>\n",
              "      <th>activities</th>\n",
              "      <th>nursery</th>\n",
              "      <th>higher</th>\n",
              "      <th>internet</th>\n",
              "      <th>romantic</th>\n",
              "      <th>famrel</th>\n",
              "      <th>freetime</th>\n",
              "      <th>goout</th>\n",
              "      <th>Dalc</th>\n",
              "      <th>Walc</th>\n",
              "      <th>health</th>\n",
              "      <th>absences</th>\n",
              "      <th>G1</th>\n",
              "      <th>G2</th>\n",
              "      <th>G3</th>\n",
              "    </tr>\n",
              "  </thead>\n",
              "  <tbody>\n",
              "  </tbody>\n",
              "</table>\n",
              "</div>"
            ],
            "text/plain": [
              "Empty DataFrame\n",
              "Columns: [ID, Subject, school, sex, age, address, famsize, Pstatus, Medu, Fedu, Mjob, Fjob, reason, guardian, traveltime, studytime, failures, schoolsup, famsup, paid, activities, nursery, higher, internet, romantic, famrel, freetime, goout, Dalc, Walc, health, absences, G1, G2, G3]\n",
              "Index: []"
            ]
          },
          "metadata": {
            "tags": []
          },
          "execution_count": 10
        }
      ]
    },
    {
      "cell_type": "markdown",
      "metadata": {
        "id": "3bH_UpxtiQj5",
        "colab_type": "text"
      },
      "source": [
        "спойлер из прошлой работы: алкоголь по выходным и алкоголь в будни сильно кореллируют\n",
        "и нет строк,  там где прощенно и то и то \n",
        "поэтому поставим вместо значения компаньена"
      ]
    },
    {
      "cell_type": "code",
      "metadata": {
        "id": "x2LwWeSj5dCl",
        "colab_type": "code",
        "colab": {}
      },
      "source": [
        "data['Dalc'] = data['Dalc'].fillna(data['Walc'])\n",
        "data['Walc'] = data['Walc'].fillna(data['Dalc'])"
      ],
      "execution_count": 0,
      "outputs": []
    },
    {
      "cell_type": "markdown",
      "metadata": {
        "id": "hWvN20rUiVdg",
        "colab_type": "text"
      },
      "source": [
        "спойлер: романтические отношения не сильно влиют на оценку за семестр, поставим \n",
        "там 0, а вот отношения\n",
        "в семье напротив, поэтому если ребенок употребялет по выходным больше 1.0, \n",
        "то ставим отношения 1.0 а если 1.0 то наоборот поставим 3.0 (если бы отношения были\n",
        "прекрасные, то не было бы нужды ставить NaN, согласитесь!)"
      ]
    },
    {
      "cell_type": "code",
      "metadata": {
        "id": "iIxtDW6wxKu0",
        "colab_type": "code",
        "outputId": "5a05f667-6f8c-4bcb-b28d-b75487bd655c",
        "colab": {
          "base_uri": "https://localhost:8080/",
          "height": 367
        }
      },
      "source": [
        "data['romantic'] = data['romantic'].fillna('no')\n",
        "data.loc[(data['famrel'].isnull())]"
      ],
      "execution_count": 12,
      "outputs": [
        {
          "output_type": "execute_result",
          "data": {
            "text/html": [
              "<div>\n",
              "<style scoped>\n",
              "    .dataframe tbody tr th:only-of-type {\n",
              "        vertical-align: middle;\n",
              "    }\n",
              "\n",
              "    .dataframe tbody tr th {\n",
              "        vertical-align: top;\n",
              "    }\n",
              "\n",
              "    .dataframe thead th {\n",
              "        text-align: right;\n",
              "    }\n",
              "</style>\n",
              "<table border=\"1\" class=\"dataframe\">\n",
              "  <thead>\n",
              "    <tr style=\"text-align: right;\">\n",
              "      <th></th>\n",
              "      <th>ID</th>\n",
              "      <th>Subject</th>\n",
              "      <th>school</th>\n",
              "      <th>sex</th>\n",
              "      <th>age</th>\n",
              "      <th>address</th>\n",
              "      <th>famsize</th>\n",
              "      <th>Pstatus</th>\n",
              "      <th>Medu</th>\n",
              "      <th>Fedu</th>\n",
              "      <th>Mjob</th>\n",
              "      <th>Fjob</th>\n",
              "      <th>reason</th>\n",
              "      <th>guardian</th>\n",
              "      <th>traveltime</th>\n",
              "      <th>studytime</th>\n",
              "      <th>failures</th>\n",
              "      <th>schoolsup</th>\n",
              "      <th>famsup</th>\n",
              "      <th>paid</th>\n",
              "      <th>activities</th>\n",
              "      <th>nursery</th>\n",
              "      <th>higher</th>\n",
              "      <th>internet</th>\n",
              "      <th>romantic</th>\n",
              "      <th>famrel</th>\n",
              "      <th>freetime</th>\n",
              "      <th>goout</th>\n",
              "      <th>Dalc</th>\n",
              "      <th>Walc</th>\n",
              "      <th>health</th>\n",
              "      <th>absences</th>\n",
              "      <th>G1</th>\n",
              "      <th>G2</th>\n",
              "      <th>G3</th>\n",
              "    </tr>\n",
              "  </thead>\n",
              "  <tbody>\n",
              "    <tr>\n",
              "      <th>85</th>\n",
              "      <td>164833</td>\n",
              "      <td>Por</td>\n",
              "      <td>GP</td>\n",
              "      <td>F</td>\n",
              "      <td>16</td>\n",
              "      <td>U</td>\n",
              "      <td>GT3</td>\n",
              "      <td>T</td>\n",
              "      <td>2</td>\n",
              "      <td>2</td>\n",
              "      <td>services</td>\n",
              "      <td>other</td>\n",
              "      <td>reputation</td>\n",
              "      <td>mother</td>\n",
              "      <td>2</td>\n",
              "      <td>2</td>\n",
              "      <td>0</td>\n",
              "      <td>no</td>\n",
              "      <td>no</td>\n",
              "      <td>no</td>\n",
              "      <td>yes</td>\n",
              "      <td>no</td>\n",
              "      <td>yes</td>\n",
              "      <td>yes</td>\n",
              "      <td>no</td>\n",
              "      <td>NaN</td>\n",
              "      <td>4</td>\n",
              "      <td>4</td>\n",
              "      <td>1.0</td>\n",
              "      <td>4.0</td>\n",
              "      <td>5</td>\n",
              "      <td>0</td>\n",
              "      <td>13</td>\n",
              "      <td>12</td>\n",
              "      <td>14</td>\n",
              "    </tr>\n",
              "    <tr>\n",
              "      <th>116</th>\n",
              "      <td>189712</td>\n",
              "      <td>Math</td>\n",
              "      <td>GP</td>\n",
              "      <td>M</td>\n",
              "      <td>16</td>\n",
              "      <td>U</td>\n",
              "      <td>LE3</td>\n",
              "      <td>A</td>\n",
              "      <td>3</td>\n",
              "      <td>4</td>\n",
              "      <td>services</td>\n",
              "      <td>other</td>\n",
              "      <td>home</td>\n",
              "      <td>mother</td>\n",
              "      <td>1</td>\n",
              "      <td>2</td>\n",
              "      <td>0</td>\n",
              "      <td>yes</td>\n",
              "      <td>yes</td>\n",
              "      <td>no</td>\n",
              "      <td>yes</td>\n",
              "      <td>yes</td>\n",
              "      <td>yes</td>\n",
              "      <td>yes</td>\n",
              "      <td>no</td>\n",
              "      <td>NaN</td>\n",
              "      <td>3</td>\n",
              "      <td>3</td>\n",
              "      <td>1.0</td>\n",
              "      <td>1.0</td>\n",
              "      <td>5</td>\n",
              "      <td>4</td>\n",
              "      <td>11</td>\n",
              "      <td>11</td>\n",
              "      <td>11</td>\n",
              "    </tr>\n",
              "    <tr>\n",
              "      <th>146</th>\n",
              "      <td>212614</td>\n",
              "      <td>Math</td>\n",
              "      <td>GP</td>\n",
              "      <td>F</td>\n",
              "      <td>19</td>\n",
              "      <td>U</td>\n",
              "      <td>LE3</td>\n",
              "      <td>T</td>\n",
              "      <td>1</td>\n",
              "      <td>1</td>\n",
              "      <td>at_home</td>\n",
              "      <td>other</td>\n",
              "      <td>reputation</td>\n",
              "      <td>other</td>\n",
              "      <td>1</td>\n",
              "      <td>2</td>\n",
              "      <td>1</td>\n",
              "      <td>yes</td>\n",
              "      <td>yes</td>\n",
              "      <td>no</td>\n",
              "      <td>yes</td>\n",
              "      <td>no</td>\n",
              "      <td>yes</td>\n",
              "      <td>yes</td>\n",
              "      <td>no</td>\n",
              "      <td>NaN</td>\n",
              "      <td>4</td>\n",
              "      <td>3</td>\n",
              "      <td>1.0</td>\n",
              "      <td>3.0</td>\n",
              "      <td>3</td>\n",
              "      <td>18</td>\n",
              "      <td>12</td>\n",
              "      <td>10</td>\n",
              "      <td>10</td>\n",
              "    </tr>\n",
              "    <tr>\n",
              "      <th>159</th>\n",
              "      <td>224690</td>\n",
              "      <td>Por</td>\n",
              "      <td>GP</td>\n",
              "      <td>M</td>\n",
              "      <td>17</td>\n",
              "      <td>U</td>\n",
              "      <td>LE3</td>\n",
              "      <td>T</td>\n",
              "      <td>2</td>\n",
              "      <td>3</td>\n",
              "      <td>services</td>\n",
              "      <td>services</td>\n",
              "      <td>reputation</td>\n",
              "      <td>father</td>\n",
              "      <td>1</td>\n",
              "      <td>2</td>\n",
              "      <td>0</td>\n",
              "      <td>no</td>\n",
              "      <td>yes</td>\n",
              "      <td>no</td>\n",
              "      <td>no</td>\n",
              "      <td>no</td>\n",
              "      <td>yes</td>\n",
              "      <td>yes</td>\n",
              "      <td>no</td>\n",
              "      <td>NaN</td>\n",
              "      <td>3</td>\n",
              "      <td>3</td>\n",
              "      <td>1.0</td>\n",
              "      <td>3.0</td>\n",
              "      <td>3</td>\n",
              "      <td>0</td>\n",
              "      <td>10</td>\n",
              "      <td>11</td>\n",
              "      <td>11</td>\n",
              "    </tr>\n",
              "    <tr>\n",
              "      <th>398</th>\n",
              "      <td>434990</td>\n",
              "      <td>Por</td>\n",
              "      <td>GP</td>\n",
              "      <td>M</td>\n",
              "      <td>16</td>\n",
              "      <td>U</td>\n",
              "      <td>GT3</td>\n",
              "      <td>T</td>\n",
              "      <td>4</td>\n",
              "      <td>4</td>\n",
              "      <td>health</td>\n",
              "      <td>other</td>\n",
              "      <td>course</td>\n",
              "      <td>mother</td>\n",
              "      <td>1</td>\n",
              "      <td>1</td>\n",
              "      <td>0</td>\n",
              "      <td>no</td>\n",
              "      <td>yes</td>\n",
              "      <td>no</td>\n",
              "      <td>yes</td>\n",
              "      <td>yes</td>\n",
              "      <td>yes</td>\n",
              "      <td>yes</td>\n",
              "      <td>no</td>\n",
              "      <td>NaN</td>\n",
              "      <td>4</td>\n",
              "      <td>4</td>\n",
              "      <td>1.0</td>\n",
              "      <td>4.0</td>\n",
              "      <td>5</td>\n",
              "      <td>4</td>\n",
              "      <td>12</td>\n",
              "      <td>13</td>\n",
              "      <td>13</td>\n",
              "    </tr>\n",
              "    <tr>\n",
              "      <th>434</th>\n",
              "      <td>469435</td>\n",
              "      <td>Math</td>\n",
              "      <td>MS</td>\n",
              "      <td>M</td>\n",
              "      <td>19</td>\n",
              "      <td>R</td>\n",
              "      <td>GT3</td>\n",
              "      <td>T</td>\n",
              "      <td>1</td>\n",
              "      <td>1</td>\n",
              "      <td>other</td>\n",
              "      <td>other</td>\n",
              "      <td>home</td>\n",
              "      <td>other</td>\n",
              "      <td>3</td>\n",
              "      <td>1</td>\n",
              "      <td>1</td>\n",
              "      <td>no</td>\n",
              "      <td>yes</td>\n",
              "      <td>no</td>\n",
              "      <td>no</td>\n",
              "      <td>yes</td>\n",
              "      <td>yes</td>\n",
              "      <td>yes</td>\n",
              "      <td>no</td>\n",
              "      <td>NaN</td>\n",
              "      <td>4</td>\n",
              "      <td>4</td>\n",
              "      <td>3.0</td>\n",
              "      <td>3.0</td>\n",
              "      <td>5</td>\n",
              "      <td>4</td>\n",
              "      <td>8</td>\n",
              "      <td>8</td>\n",
              "      <td>8</td>\n",
              "    </tr>\n",
              "    <tr>\n",
              "      <th>455</th>\n",
              "      <td>486246</td>\n",
              "      <td>Por</td>\n",
              "      <td>GP</td>\n",
              "      <td>F</td>\n",
              "      <td>15</td>\n",
              "      <td>U</td>\n",
              "      <td>GT3</td>\n",
              "      <td>T</td>\n",
              "      <td>4</td>\n",
              "      <td>4</td>\n",
              "      <td>services</td>\n",
              "      <td>teacher</td>\n",
              "      <td>other</td>\n",
              "      <td>father</td>\n",
              "      <td>1</td>\n",
              "      <td>2</td>\n",
              "      <td>0</td>\n",
              "      <td>yes</td>\n",
              "      <td>yes</td>\n",
              "      <td>no</td>\n",
              "      <td>yes</td>\n",
              "      <td>no</td>\n",
              "      <td>yes</td>\n",
              "      <td>yes</td>\n",
              "      <td>no</td>\n",
              "      <td>NaN</td>\n",
              "      <td>4</td>\n",
              "      <td>4</td>\n",
              "      <td>1.0</td>\n",
              "      <td>1.0</td>\n",
              "      <td>3</td>\n",
              "      <td>2</td>\n",
              "      <td>13</td>\n",
              "      <td>12</td>\n",
              "      <td>12</td>\n",
              "    </tr>\n",
              "    <tr>\n",
              "      <th>478</th>\n",
              "      <td>504919</td>\n",
              "      <td>Por</td>\n",
              "      <td>GP</td>\n",
              "      <td>F</td>\n",
              "      <td>19</td>\n",
              "      <td>U</td>\n",
              "      <td>LE3</td>\n",
              "      <td>A</td>\n",
              "      <td>2</td>\n",
              "      <td>3</td>\n",
              "      <td>at_home</td>\n",
              "      <td>other</td>\n",
              "      <td>home</td>\n",
              "      <td>other</td>\n",
              "      <td>2</td>\n",
              "      <td>1</td>\n",
              "      <td>1</td>\n",
              "      <td>no</td>\n",
              "      <td>no</td>\n",
              "      <td>no</td>\n",
              "      <td>no</td>\n",
              "      <td>yes</td>\n",
              "      <td>no</td>\n",
              "      <td>yes</td>\n",
              "      <td>no</td>\n",
              "      <td>NaN</td>\n",
              "      <td>2</td>\n",
              "      <td>3</td>\n",
              "      <td>3.0</td>\n",
              "      <td>4.0</td>\n",
              "      <td>5</td>\n",
              "      <td>16</td>\n",
              "      <td>10</td>\n",
              "      <td>11</td>\n",
              "      <td>11</td>\n",
              "    </tr>\n",
              "    <tr>\n",
              "      <th>602</th>\n",
              "      <td>624719</td>\n",
              "      <td>Por</td>\n",
              "      <td>GP</td>\n",
              "      <td>M</td>\n",
              "      <td>18</td>\n",
              "      <td>R</td>\n",
              "      <td>LE3</td>\n",
              "      <td>T</td>\n",
              "      <td>3</td>\n",
              "      <td>2</td>\n",
              "      <td>services</td>\n",
              "      <td>other</td>\n",
              "      <td>reputation</td>\n",
              "      <td>mother</td>\n",
              "      <td>2</td>\n",
              "      <td>3</td>\n",
              "      <td>0</td>\n",
              "      <td>no</td>\n",
              "      <td>yes</td>\n",
              "      <td>no</td>\n",
              "      <td>yes</td>\n",
              "      <td>yes</td>\n",
              "      <td>yes</td>\n",
              "      <td>yes</td>\n",
              "      <td>no</td>\n",
              "      <td>NaN</td>\n",
              "      <td>4</td>\n",
              "      <td>2</td>\n",
              "      <td>1.0</td>\n",
              "      <td>1.0</td>\n",
              "      <td>4</td>\n",
              "      <td>0</td>\n",
              "      <td>14</td>\n",
              "      <td>15</td>\n",
              "      <td>15</td>\n",
              "    </tr>\n",
              "    <tr>\n",
              "      <th>820</th>\n",
              "      <td>807503</td>\n",
              "      <td>Math</td>\n",
              "      <td>GP</td>\n",
              "      <td>M</td>\n",
              "      <td>15</td>\n",
              "      <td>U</td>\n",
              "      <td>GT3</td>\n",
              "      <td>T</td>\n",
              "      <td>4</td>\n",
              "      <td>3</td>\n",
              "      <td>teacher</td>\n",
              "      <td>other</td>\n",
              "      <td>reputation</td>\n",
              "      <td>mother</td>\n",
              "      <td>1</td>\n",
              "      <td>2</td>\n",
              "      <td>0</td>\n",
              "      <td>no</td>\n",
              "      <td>no</td>\n",
              "      <td>no</td>\n",
              "      <td>no</td>\n",
              "      <td>yes</td>\n",
              "      <td>yes</td>\n",
              "      <td>yes</td>\n",
              "      <td>no</td>\n",
              "      <td>NaN</td>\n",
              "      <td>4</td>\n",
              "      <td>1</td>\n",
              "      <td>1.0</td>\n",
              "      <td>1.0</td>\n",
              "      <td>1</td>\n",
              "      <td>0</td>\n",
              "      <td>13</td>\n",
              "      <td>14</td>\n",
              "      <td>15</td>\n",
              "    </tr>\n",
              "  </tbody>\n",
              "</table>\n",
              "</div>"
            ],
            "text/plain": [
              "         ID Subject school sex  age address famsize Pstatus Medu Fedu  \\\n",
              "85   164833     Por     GP   F   16       U     GT3       T    2    2   \n",
              "116  189712    Math     GP   M   16       U     LE3       A    3    4   \n",
              "146  212614    Math     GP   F   19       U     LE3       T    1    1   \n",
              "159  224690     Por     GP   M   17       U     LE3       T    2    3   \n",
              "398  434990     Por     GP   M   16       U     GT3       T    4    4   \n",
              "434  469435    Math     MS   M   19       R     GT3       T    1    1   \n",
              "455  486246     Por     GP   F   15       U     GT3       T    4    4   \n",
              "478  504919     Por     GP   F   19       U     LE3       A    2    3   \n",
              "602  624719     Por     GP   M   18       R     LE3       T    3    2   \n",
              "820  807503    Math     GP   M   15       U     GT3       T    4    3   \n",
              "\n",
              "         Mjob      Fjob      reason guardian  traveltime  studytime  failures  \\\n",
              "85   services     other  reputation   mother           2          2         0   \n",
              "116  services     other        home   mother           1          2         0   \n",
              "146   at_home     other  reputation    other           1          2         1   \n",
              "159  services  services  reputation   father           1          2         0   \n",
              "398    health     other      course   mother           1          1         0   \n",
              "434     other     other        home    other           3          1         1   \n",
              "455  services   teacher       other   father           1          2         0   \n",
              "478   at_home     other        home    other           2          1         1   \n",
              "602  services     other  reputation   mother           2          3         0   \n",
              "820   teacher     other  reputation   mother           1          2         0   \n",
              "\n",
              "    schoolsup famsup paid activities nursery higher internet romantic  famrel  \\\n",
              "85         no     no   no        yes      no    yes      yes       no     NaN   \n",
              "116       yes    yes   no        yes     yes    yes      yes       no     NaN   \n",
              "146       yes    yes   no        yes      no    yes      yes       no     NaN   \n",
              "159        no    yes   no         no      no    yes      yes       no     NaN   \n",
              "398        no    yes   no        yes     yes    yes      yes       no     NaN   \n",
              "434        no    yes   no         no     yes    yes      yes       no     NaN   \n",
              "455       yes    yes   no        yes      no    yes      yes       no     NaN   \n",
              "478        no     no   no         no     yes     no      yes       no     NaN   \n",
              "602        no    yes   no        yes     yes    yes      yes       no     NaN   \n",
              "820        no     no   no         no     yes    yes      yes       no     NaN   \n",
              "\n",
              "     freetime  goout  Dalc  Walc  health  absences  G1  G2  G3  \n",
              "85          4      4   1.0   4.0       5         0  13  12  14  \n",
              "116         3      3   1.0   1.0       5         4  11  11  11  \n",
              "146         4      3   1.0   3.0       3        18  12  10  10  \n",
              "159         3      3   1.0   3.0       3         0  10  11  11  \n",
              "398         4      4   1.0   4.0       5         4  12  13  13  \n",
              "434         4      4   3.0   3.0       5         4   8   8   8  \n",
              "455         4      4   1.0   1.0       3         2  13  12  12  \n",
              "478         2      3   3.0   4.0       5        16  10  11  11  \n",
              "602         4      2   1.0   1.0       4         0  14  15  15  \n",
              "820         4      1   1.0   1.0       1         0  13  14  15  "
            ]
          },
          "metadata": {
            "tags": []
          },
          "execution_count": 12
        }
      ]
    },
    {
      "cell_type": "markdown",
      "metadata": {
        "id": "3KVTcmZ9ibYY",
        "colab_type": "text"
      },
      "source": [
        "можно вернуться на код с проверкой нулевых значений и посмотреть что пропущенных значений нет\n",
        "а можно поверить мне на слово"
      ]
    },
    {
      "cell_type": "code",
      "metadata": {
        "id": "CeRkbNYmjkZV",
        "colab_type": "code",
        "outputId": "192a2f0f-33ab-40ec-eda6-9ce3cfda9807",
        "colab": {
          "base_uri": "https://localhost:8080/",
          "height": 151
        }
      },
      "source": [
        "data['famrel'].loc[(data['Walc'] > 1)] = data['famrel'].loc[(data['Walc'] > 1)].fillna(3.0)\n",
        "data['famrel'].loc[(data['Walc'] == 1)] = data['famrel'].loc[(data['Walc'] == 1)].fillna(3.0)\n",
        "data.loc[(data['famrel'].isnull())]"
      ],
      "execution_count": 13,
      "outputs": [
        {
          "output_type": "stream",
          "text": [
            "/usr/local/lib/python3.6/dist-packages/pandas/core/indexing.py:671: SettingWithCopyWarning: \n",
            "A value is trying to be set on a copy of a slice from a DataFrame\n",
            "\n",
            "See the caveats in the documentation: https://pandas.pydata.org/pandas-docs/stable/user_guide/indexing.html#returning-a-view-versus-a-copy\n",
            "  self._setitem_with_indexer(indexer, value)\n"
          ],
          "name": "stderr"
        },
        {
          "output_type": "execute_result",
          "data": {
            "text/html": [
              "<div>\n",
              "<style scoped>\n",
              "    .dataframe tbody tr th:only-of-type {\n",
              "        vertical-align: middle;\n",
              "    }\n",
              "\n",
              "    .dataframe tbody tr th {\n",
              "        vertical-align: top;\n",
              "    }\n",
              "\n",
              "    .dataframe thead th {\n",
              "        text-align: right;\n",
              "    }\n",
              "</style>\n",
              "<table border=\"1\" class=\"dataframe\">\n",
              "  <thead>\n",
              "    <tr style=\"text-align: right;\">\n",
              "      <th></th>\n",
              "      <th>ID</th>\n",
              "      <th>Subject</th>\n",
              "      <th>school</th>\n",
              "      <th>sex</th>\n",
              "      <th>age</th>\n",
              "      <th>address</th>\n",
              "      <th>famsize</th>\n",
              "      <th>Pstatus</th>\n",
              "      <th>Medu</th>\n",
              "      <th>Fedu</th>\n",
              "      <th>Mjob</th>\n",
              "      <th>Fjob</th>\n",
              "      <th>reason</th>\n",
              "      <th>guardian</th>\n",
              "      <th>traveltime</th>\n",
              "      <th>studytime</th>\n",
              "      <th>failures</th>\n",
              "      <th>schoolsup</th>\n",
              "      <th>famsup</th>\n",
              "      <th>paid</th>\n",
              "      <th>activities</th>\n",
              "      <th>nursery</th>\n",
              "      <th>higher</th>\n",
              "      <th>internet</th>\n",
              "      <th>romantic</th>\n",
              "      <th>famrel</th>\n",
              "      <th>freetime</th>\n",
              "      <th>goout</th>\n",
              "      <th>Dalc</th>\n",
              "      <th>Walc</th>\n",
              "      <th>health</th>\n",
              "      <th>absences</th>\n",
              "      <th>G1</th>\n",
              "      <th>G2</th>\n",
              "      <th>G3</th>\n",
              "    </tr>\n",
              "  </thead>\n",
              "  <tbody>\n",
              "  </tbody>\n",
              "</table>\n",
              "</div>"
            ],
            "text/plain": [
              "Empty DataFrame\n",
              "Columns: [ID, Subject, school, sex, age, address, famsize, Pstatus, Medu, Fedu, Mjob, Fjob, reason, guardian, traveltime, studytime, failures, schoolsup, famsup, paid, activities, nursery, higher, internet, romantic, famrel, freetime, goout, Dalc, Walc, health, absences, G1, G2, G3]\n",
              "Index: []"
            ]
          },
          "metadata": {
            "tags": []
          },
          "execution_count": 13
        }
      ]
    },
    {
      "cell_type": "markdown",
      "metadata": {
        "id": "Ng1n87l2imFo",
        "colab_type": "text"
      },
      "source": [
        "### Из категориальных в численные"
      ]
    },
    {
      "cell_type": "markdown",
      "metadata": {
        "id": "gjOdGZ_xigzA",
        "colab_type": "text"
      },
      "source": [
        "я буду руками изменять значения категориальных признаков на числовые, чтобы потом\n",
        "знать какая цифра что обозначает \n",
        "\n",
        "\n",
        "Также, я ставила наибольшую цифру таму параметру, который вероятно имеют ученики \n",
        "с наибольшим баллом\n",
        "\n",
        "В некоторых случаях цифра ставилась рандомно"
      ]
    },
    {
      "cell_type": "markdown",
      "metadata": {
        "id": "ITwOQi-h5sto",
        "colab_type": "text"
      },
      "source": [
        ""
      ]
    },
    {
      "cell_type": "code",
      "metadata": {
        "id": "0c1Ti3vOADC0",
        "colab_type": "code",
        "outputId": "a747edbf-2645-4d53-883e-247162b3efd8",
        "colab": {
          "base_uri": "https://localhost:8080/",
          "height": 427
        }
      },
      "source": [
        "list_of_names = {'Subject': {'Por': 1, 'Math': 0}, 'school': {'GP': 1, 'MS':0},\n",
        "                 'sex': {'F': 1, 'M': 0, 'm': 0}, 'address': {'U': 1, 'R': 0}, 'famsize': \n",
        "                 {'GT3': 0, 'LE3': 1}, 'Pstatus': {'A': 0, 'T': 1, 't': 1}, 'Mjob': \n",
        "                 {'services': 2, 'other': 0, 'health': 1, 'at_home': 3, 'teacher': 4, 'at-home':3}, \n",
        "                 'Fjob': {'services': 2, 'other': 0, 'health': 1, 'at_home': 3, 'at-home':3,\n",
        "                          'teacher': 4}, 'reason': {'course': 2, 'home': 0, 'reputation': 1, 'other': 0},\n",
        "                 'guardian': {'father': 1, 'mother': 2, 'other':0, 'futher': 1}, 'schoolsup': \n",
        "                 {'no': 0, 'yes': 1}, 'famsup': {'no': 0, 'yes': 1}, 'paid':\n",
        "                 {'no': 1, 'yes': 0}, 'activities': {'no': 0, 'yes': 1}, 'nursery':\n",
        "                 {'no': 0, 'yes': 1}, 'higher': {'no': 0, 'yes': 1}, 'internet':\n",
        "                 {'no': 0, 'yes': 1}, 'romantic': {'no': 1, 'yes': 0}, 'Medu': {\n",
        "                  '0':0,'1':1, '2':2, '3':3, '4':4, 'o': 0}, 'Fedu': { '0':1,'1':1, '2':2, '3':3, '4':4, 'o': 0}\n",
        "                 }\n",
        "for i in data.columns.tolist():\n",
        "  if i in list_of_names:\n",
        "    data[i] = data[i].map(list_of_names[i])\n",
        "data"
      ],
      "execution_count": 14,
      "outputs": [
        {
          "output_type": "execute_result",
          "data": {
            "text/html": [
              "<div>\n",
              "<style scoped>\n",
              "    .dataframe tbody tr th:only-of-type {\n",
              "        vertical-align: middle;\n",
              "    }\n",
              "\n",
              "    .dataframe tbody tr th {\n",
              "        vertical-align: top;\n",
              "    }\n",
              "\n",
              "    .dataframe thead th {\n",
              "        text-align: right;\n",
              "    }\n",
              "</style>\n",
              "<table border=\"1\" class=\"dataframe\">\n",
              "  <thead>\n",
              "    <tr style=\"text-align: right;\">\n",
              "      <th></th>\n",
              "      <th>ID</th>\n",
              "      <th>Subject</th>\n",
              "      <th>school</th>\n",
              "      <th>sex</th>\n",
              "      <th>age</th>\n",
              "      <th>address</th>\n",
              "      <th>famsize</th>\n",
              "      <th>Pstatus</th>\n",
              "      <th>Medu</th>\n",
              "      <th>Fedu</th>\n",
              "      <th>Mjob</th>\n",
              "      <th>Fjob</th>\n",
              "      <th>reason</th>\n",
              "      <th>guardian</th>\n",
              "      <th>traveltime</th>\n",
              "      <th>studytime</th>\n",
              "      <th>failures</th>\n",
              "      <th>schoolsup</th>\n",
              "      <th>famsup</th>\n",
              "      <th>paid</th>\n",
              "      <th>activities</th>\n",
              "      <th>nursery</th>\n",
              "      <th>higher</th>\n",
              "      <th>internet</th>\n",
              "      <th>romantic</th>\n",
              "      <th>famrel</th>\n",
              "      <th>freetime</th>\n",
              "      <th>goout</th>\n",
              "      <th>Dalc</th>\n",
              "      <th>Walc</th>\n",
              "      <th>health</th>\n",
              "      <th>absences</th>\n",
              "      <th>G1</th>\n",
              "      <th>G2</th>\n",
              "      <th>G3</th>\n",
              "    </tr>\n",
              "  </thead>\n",
              "  <tbody>\n",
              "    <tr>\n",
              "      <th>0</th>\n",
              "      <td>100097</td>\n",
              "      <td>1</td>\n",
              "      <td>1</td>\n",
              "      <td>1</td>\n",
              "      <td>16</td>\n",
              "      <td>1</td>\n",
              "      <td>0</td>\n",
              "      <td>0</td>\n",
              "      <td>3</td>\n",
              "      <td>4</td>\n",
              "      <td>2</td>\n",
              "      <td>0</td>\n",
              "      <td>2</td>\n",
              "      <td>1</td>\n",
              "      <td>1</td>\n",
              "      <td>1</td>\n",
              "      <td>0</td>\n",
              "      <td>0</td>\n",
              "      <td>0</td>\n",
              "      <td>1</td>\n",
              "      <td>0</td>\n",
              "      <td>1</td>\n",
              "      <td>1</td>\n",
              "      <td>1</td>\n",
              "      <td>1</td>\n",
              "      <td>3.0</td>\n",
              "      <td>2</td>\n",
              "      <td>1</td>\n",
              "      <td>1.0</td>\n",
              "      <td>4.0</td>\n",
              "      <td>5</td>\n",
              "      <td>12</td>\n",
              "      <td>15</td>\n",
              "      <td>13</td>\n",
              "      <td>14</td>\n",
              "    </tr>\n",
              "    <tr>\n",
              "      <th>1</th>\n",
              "      <td>101021</td>\n",
              "      <td>1</td>\n",
              "      <td>1</td>\n",
              "      <td>1</td>\n",
              "      <td>17</td>\n",
              "      <td>1</td>\n",
              "      <td>0</td>\n",
              "      <td>1</td>\n",
              "      <td>3</td>\n",
              "      <td>2</td>\n",
              "      <td>0</td>\n",
              "      <td>0</td>\n",
              "      <td>2</td>\n",
              "      <td>2</td>\n",
              "      <td>1</td>\n",
              "      <td>2</td>\n",
              "      <td>0</td>\n",
              "      <td>0</td>\n",
              "      <td>0</td>\n",
              "      <td>1</td>\n",
              "      <td>1</td>\n",
              "      <td>0</td>\n",
              "      <td>1</td>\n",
              "      <td>1</td>\n",
              "      <td>1</td>\n",
              "      <td>5.0</td>\n",
              "      <td>3</td>\n",
              "      <td>4</td>\n",
              "      <td>1.0</td>\n",
              "      <td>3.0</td>\n",
              "      <td>3</td>\n",
              "      <td>2</td>\n",
              "      <td>17</td>\n",
              "      <td>18</td>\n",
              "      <td>17</td>\n",
              "    </tr>\n",
              "    <tr>\n",
              "      <th>2</th>\n",
              "      <td>102965</td>\n",
              "      <td>1</td>\n",
              "      <td>1</td>\n",
              "      <td>0</td>\n",
              "      <td>16</td>\n",
              "      <td>1</td>\n",
              "      <td>1</td>\n",
              "      <td>1</td>\n",
              "      <td>1</td>\n",
              "      <td>2</td>\n",
              "      <td>1</td>\n",
              "      <td>2</td>\n",
              "      <td>2</td>\n",
              "      <td>2</td>\n",
              "      <td>2</td>\n",
              "      <td>1</td>\n",
              "      <td>2</td>\n",
              "      <td>0</td>\n",
              "      <td>0</td>\n",
              "      <td>1</td>\n",
              "      <td>0</td>\n",
              "      <td>0</td>\n",
              "      <td>1</td>\n",
              "      <td>1</td>\n",
              "      <td>1</td>\n",
              "      <td>4.0</td>\n",
              "      <td>4</td>\n",
              "      <td>5</td>\n",
              "      <td>3.0</td>\n",
              "      <td>5.0</td>\n",
              "      <td>5</td>\n",
              "      <td>0</td>\n",
              "      <td>9</td>\n",
              "      <td>8</td>\n",
              "      <td>10</td>\n",
              "    </tr>\n",
              "    <tr>\n",
              "      <th>3</th>\n",
              "      <td>102989</td>\n",
              "      <td>1</td>\n",
              "      <td>0</td>\n",
              "      <td>0</td>\n",
              "      <td>17</td>\n",
              "      <td>1</td>\n",
              "      <td>0</td>\n",
              "      <td>1</td>\n",
              "      <td>2</td>\n",
              "      <td>3</td>\n",
              "      <td>0</td>\n",
              "      <td>2</td>\n",
              "      <td>0</td>\n",
              "      <td>1</td>\n",
              "      <td>2</td>\n",
              "      <td>2</td>\n",
              "      <td>0</td>\n",
              "      <td>0</td>\n",
              "      <td>0</td>\n",
              "      <td>1</td>\n",
              "      <td>1</td>\n",
              "      <td>1</td>\n",
              "      <td>1</td>\n",
              "      <td>1</td>\n",
              "      <td>1</td>\n",
              "      <td>4.0</td>\n",
              "      <td>4</td>\n",
              "      <td>3</td>\n",
              "      <td>1.0</td>\n",
              "      <td>1.0</td>\n",
              "      <td>3</td>\n",
              "      <td>4</td>\n",
              "      <td>14</td>\n",
              "      <td>15</td>\n",
              "      <td>16</td>\n",
              "    </tr>\n",
              "    <tr>\n",
              "      <th>4</th>\n",
              "      <td>103131</td>\n",
              "      <td>1</td>\n",
              "      <td>1</td>\n",
              "      <td>1</td>\n",
              "      <td>16</td>\n",
              "      <td>1</td>\n",
              "      <td>0</td>\n",
              "      <td>1</td>\n",
              "      <td>1</td>\n",
              "      <td>1</td>\n",
              "      <td>3</td>\n",
              "      <td>0</td>\n",
              "      <td>0</td>\n",
              "      <td>2</td>\n",
              "      <td>2</td>\n",
              "      <td>1</td>\n",
              "      <td>0</td>\n",
              "      <td>0</td>\n",
              "      <td>1</td>\n",
              "      <td>1</td>\n",
              "      <td>0</td>\n",
              "      <td>1</td>\n",
              "      <td>1</td>\n",
              "      <td>0</td>\n",
              "      <td>1</td>\n",
              "      <td>4.0</td>\n",
              "      <td>3</td>\n",
              "      <td>2</td>\n",
              "      <td>1.0</td>\n",
              "      <td>4.0</td>\n",
              "      <td>5</td>\n",
              "      <td>2</td>\n",
              "      <td>12</td>\n",
              "      <td>13</td>\n",
              "      <td>13</td>\n",
              "    </tr>\n",
              "    <tr>\n",
              "      <th>...</th>\n",
              "      <td>...</td>\n",
              "      <td>...</td>\n",
              "      <td>...</td>\n",
              "      <td>...</td>\n",
              "      <td>...</td>\n",
              "      <td>...</td>\n",
              "      <td>...</td>\n",
              "      <td>...</td>\n",
              "      <td>...</td>\n",
              "      <td>...</td>\n",
              "      <td>...</td>\n",
              "      <td>...</td>\n",
              "      <td>...</td>\n",
              "      <td>...</td>\n",
              "      <td>...</td>\n",
              "      <td>...</td>\n",
              "      <td>...</td>\n",
              "      <td>...</td>\n",
              "      <td>...</td>\n",
              "      <td>...</td>\n",
              "      <td>...</td>\n",
              "      <td>...</td>\n",
              "      <td>...</td>\n",
              "      <td>...</td>\n",
              "      <td>...</td>\n",
              "      <td>...</td>\n",
              "      <td>...</td>\n",
              "      <td>...</td>\n",
              "      <td>...</td>\n",
              "      <td>...</td>\n",
              "      <td>...</td>\n",
              "      <td>...</td>\n",
              "      <td>...</td>\n",
              "      <td>...</td>\n",
              "      <td>...</td>\n",
              "    </tr>\n",
              "    <tr>\n",
              "      <th>1039</th>\n",
              "      <td>997832</td>\n",
              "      <td>0</td>\n",
              "      <td>1</td>\n",
              "      <td>1</td>\n",
              "      <td>15</td>\n",
              "      <td>0</td>\n",
              "      <td>0</td>\n",
              "      <td>1</td>\n",
              "      <td>3</td>\n",
              "      <td>3</td>\n",
              "      <td>2</td>\n",
              "      <td>2</td>\n",
              "      <td>1</td>\n",
              "      <td>0</td>\n",
              "      <td>2</td>\n",
              "      <td>3</td>\n",
              "      <td>2</td>\n",
              "      <td>0</td>\n",
              "      <td>1</td>\n",
              "      <td>0</td>\n",
              "      <td>1</td>\n",
              "      <td>1</td>\n",
              "      <td>1</td>\n",
              "      <td>1</td>\n",
              "      <td>0</td>\n",
              "      <td>4.0</td>\n",
              "      <td>2</td>\n",
              "      <td>1</td>\n",
              "      <td>2.0</td>\n",
              "      <td>3.0</td>\n",
              "      <td>3</td>\n",
              "      <td>8</td>\n",
              "      <td>10</td>\n",
              "      <td>10</td>\n",
              "      <td>10</td>\n",
              "    </tr>\n",
              "    <tr>\n",
              "      <th>1040</th>\n",
              "      <td>997897</td>\n",
              "      <td>1</td>\n",
              "      <td>1</td>\n",
              "      <td>0</td>\n",
              "      <td>15</td>\n",
              "      <td>0</td>\n",
              "      <td>0</td>\n",
              "      <td>1</td>\n",
              "      <td>2</td>\n",
              "      <td>1</td>\n",
              "      <td>1</td>\n",
              "      <td>2</td>\n",
              "      <td>1</td>\n",
              "      <td>2</td>\n",
              "      <td>1</td>\n",
              "      <td>2</td>\n",
              "      <td>0</td>\n",
              "      <td>0</td>\n",
              "      <td>0</td>\n",
              "      <td>1</td>\n",
              "      <td>1</td>\n",
              "      <td>1</td>\n",
              "      <td>1</td>\n",
              "      <td>1</td>\n",
              "      <td>0</td>\n",
              "      <td>5.0</td>\n",
              "      <td>4</td>\n",
              "      <td>2</td>\n",
              "      <td>1.0</td>\n",
              "      <td>1.0</td>\n",
              "      <td>5</td>\n",
              "      <td>4</td>\n",
              "      <td>10</td>\n",
              "      <td>9</td>\n",
              "      <td>10</td>\n",
              "    </tr>\n",
              "    <tr>\n",
              "      <th>1041</th>\n",
              "      <td>998425</td>\n",
              "      <td>1</td>\n",
              "      <td>0</td>\n",
              "      <td>1</td>\n",
              "      <td>16</td>\n",
              "      <td>0</td>\n",
              "      <td>1</td>\n",
              "      <td>1</td>\n",
              "      <td>1</td>\n",
              "      <td>1</td>\n",
              "      <td>3</td>\n",
              "      <td>0</td>\n",
              "      <td>2</td>\n",
              "      <td>1</td>\n",
              "      <td>3</td>\n",
              "      <td>2</td>\n",
              "      <td>0</td>\n",
              "      <td>0</td>\n",
              "      <td>1</td>\n",
              "      <td>1</td>\n",
              "      <td>0</td>\n",
              "      <td>1</td>\n",
              "      <td>1</td>\n",
              "      <td>0</td>\n",
              "      <td>1</td>\n",
              "      <td>5.0</td>\n",
              "      <td>3</td>\n",
              "      <td>2</td>\n",
              "      <td>1.0</td>\n",
              "      <td>1.0</td>\n",
              "      <td>1</td>\n",
              "      <td>0</td>\n",
              "      <td>16</td>\n",
              "      <td>17</td>\n",
              "      <td>18</td>\n",
              "    </tr>\n",
              "    <tr>\n",
              "      <th>1042</th>\n",
              "      <td>999143</td>\n",
              "      <td>1</td>\n",
              "      <td>1</td>\n",
              "      <td>0</td>\n",
              "      <td>16</td>\n",
              "      <td>1</td>\n",
              "      <td>0</td>\n",
              "      <td>1</td>\n",
              "      <td>2</td>\n",
              "      <td>1</td>\n",
              "      <td>3</td>\n",
              "      <td>0</td>\n",
              "      <td>2</td>\n",
              "      <td>2</td>\n",
              "      <td>4</td>\n",
              "      <td>1</td>\n",
              "      <td>0</td>\n",
              "      <td>0</td>\n",
              "      <td>0</td>\n",
              "      <td>1</td>\n",
              "      <td>0</td>\n",
              "      <td>1</td>\n",
              "      <td>1</td>\n",
              "      <td>0</td>\n",
              "      <td>1</td>\n",
              "      <td>3.0</td>\n",
              "      <td>2</td>\n",
              "      <td>1</td>\n",
              "      <td>1.0</td>\n",
              "      <td>1.0</td>\n",
              "      <td>2</td>\n",
              "      <td>4</td>\n",
              "      <td>9</td>\n",
              "      <td>9</td>\n",
              "      <td>11</td>\n",
              "    </tr>\n",
              "    <tr>\n",
              "      <th>1043</th>\n",
              "      <td>999194</td>\n",
              "      <td>1</td>\n",
              "      <td>1</td>\n",
              "      <td>0</td>\n",
              "      <td>17</td>\n",
              "      <td>0</td>\n",
              "      <td>0</td>\n",
              "      <td>1</td>\n",
              "      <td>1</td>\n",
              "      <td>3</td>\n",
              "      <td>0</td>\n",
              "      <td>0</td>\n",
              "      <td>2</td>\n",
              "      <td>1</td>\n",
              "      <td>3</td>\n",
              "      <td>2</td>\n",
              "      <td>1</td>\n",
              "      <td>0</td>\n",
              "      <td>1</td>\n",
              "      <td>1</td>\n",
              "      <td>1</td>\n",
              "      <td>1</td>\n",
              "      <td>1</td>\n",
              "      <td>1</td>\n",
              "      <td>1</td>\n",
              "      <td>5.0</td>\n",
              "      <td>2</td>\n",
              "      <td>4</td>\n",
              "      <td>4.0</td>\n",
              "      <td>4.0</td>\n",
              "      <td>5</td>\n",
              "      <td>14</td>\n",
              "      <td>12</td>\n",
              "      <td>11</td>\n",
              "      <td>11</td>\n",
              "    </tr>\n",
              "  </tbody>\n",
              "</table>\n",
              "<p>1044 rows × 35 columns</p>\n",
              "</div>"
            ],
            "text/plain": [
              "          ID  Subject  school  sex  age  address  famsize  Pstatus  Medu  \\\n",
              "0     100097        1       1    1   16        1        0        0     3   \n",
              "1     101021        1       1    1   17        1        0        1     3   \n",
              "2     102965        1       1    0   16        1        1        1     1   \n",
              "3     102989        1       0    0   17        1        0        1     2   \n",
              "4     103131        1       1    1   16        1        0        1     1   \n",
              "...      ...      ...     ...  ...  ...      ...      ...      ...   ...   \n",
              "1039  997832        0       1    1   15        0        0        1     3   \n",
              "1040  997897        1       1    0   15        0        0        1     2   \n",
              "1041  998425        1       0    1   16        0        1        1     1   \n",
              "1042  999143        1       1    0   16        1        0        1     2   \n",
              "1043  999194        1       1    0   17        0        0        1     1   \n",
              "\n",
              "      Fedu  Mjob  Fjob  reason  guardian  traveltime  studytime  failures  \\\n",
              "0        4     2     0       2         1           1          1         0   \n",
              "1        2     0     0       2         2           1          2         0   \n",
              "2        2     1     2       2         2           2          1         2   \n",
              "3        3     0     2       0         1           2          2         0   \n",
              "4        1     3     0       0         2           2          1         0   \n",
              "...    ...   ...   ...     ...       ...         ...        ...       ...   \n",
              "1039     3     2     2       1         0           2          3         2   \n",
              "1040     1     1     2       1         2           1          2         0   \n",
              "1041     1     3     0       2         1           3          2         0   \n",
              "1042     1     3     0       2         2           4          1         0   \n",
              "1043     3     0     0       2         1           3          2         1   \n",
              "\n",
              "      schoolsup  famsup  paid  activities  nursery  higher  internet  \\\n",
              "0             0       0     1           0        1       1         1   \n",
              "1             0       0     1           1        0       1         1   \n",
              "2             0       0     1           0        0       1         1   \n",
              "3             0       0     1           1        1       1         1   \n",
              "4             0       1     1           0        1       1         0   \n",
              "...         ...     ...   ...         ...      ...     ...       ...   \n",
              "1039          0       1     0           1        1       1         1   \n",
              "1040          0       0     1           1        1       1         1   \n",
              "1041          0       1     1           0        1       1         0   \n",
              "1042          0       0     1           0        1       1         0   \n",
              "1043          0       1     1           1        1       1         1   \n",
              "\n",
              "      romantic  famrel  freetime  goout  Dalc  Walc  health  absences  G1  G2  \\\n",
              "0            1     3.0         2      1   1.0   4.0       5        12  15  13   \n",
              "1            1     5.0         3      4   1.0   3.0       3         2  17  18   \n",
              "2            1     4.0         4      5   3.0   5.0       5         0   9   8   \n",
              "3            1     4.0         4      3   1.0   1.0       3         4  14  15   \n",
              "4            1     4.0         3      2   1.0   4.0       5         2  12  13   \n",
              "...        ...     ...       ...    ...   ...   ...     ...       ...  ..  ..   \n",
              "1039         0     4.0         2      1   2.0   3.0       3         8  10  10   \n",
              "1040         0     5.0         4      2   1.0   1.0       5         4  10   9   \n",
              "1041         1     5.0         3      2   1.0   1.0       1         0  16  17   \n",
              "1042         1     3.0         2      1   1.0   1.0       2         4   9   9   \n",
              "1043         1     5.0         2      4   4.0   4.0       5        14  12  11   \n",
              "\n",
              "      G3  \n",
              "0     14  \n",
              "1     17  \n",
              "2     10  \n",
              "3     16  \n",
              "4     13  \n",
              "...   ..  \n",
              "1039  10  \n",
              "1040  10  \n",
              "1041  18  \n",
              "1042  11  \n",
              "1043  11  \n",
              "\n",
              "[1044 rows x 35 columns]"
            ]
          },
          "metadata": {
            "tags": []
          },
          "execution_count": 14
        }
      ]
    },
    {
      "cell_type": "markdown",
      "metadata": {
        "id": "mSGGOLU7irQJ",
        "colab_type": "text"
      },
      "source": [
        "тут я поняла что в образовании матери и отца есть клетка с о "
      ]
    },
    {
      "cell_type": "code",
      "metadata": {
        "id": "ozpaAkVY06v9",
        "colab_type": "code",
        "outputId": "364ddf65-d06a-4374-cadf-461f2bfa389d",
        "colab": {
          "base_uri": "https://localhost:8080/",
          "height": 1000
        }
      },
      "source": [
        "for i in data.columns.tolist():\n",
        "  print(i)\n",
        "  sns.boxplot(data=data[i])\n",
        "  plt.show()"
      ],
      "execution_count": 15,
      "outputs": [
        {
          "output_type": "stream",
          "text": [
            "ID\n"
          ],
          "name": "stdout"
        },
        {
          "output_type": "display_data",
          "data": {
            "image/png": "[encoded data removed]",
            "text/plain": [
              "<Figure size 432x288 with 1 Axes>"
            ]
          },
          "metadata": {
            "tags": [],
            "needs_background": "light"
          }
        },
        {
          "output_type": "stream",
          "text": [
            "Subject\n"
          ],
          "name": "stdout"
        },
        {
          "output_type": "display_data",
          "data": {
            "image/png": "[encoded data removed]",
            "text/plain": [
              "<Figure size 432x288 with 1 Axes>"
            ]
          },
          "metadata": {
            "tags": [],
            "needs_background": "light"
          }
        },
        {
          "output_type": "stream",
          "text": [
            "school\n"
          ],
          "name": "stdout"
        },
        {
          "output_type": "display_data",
          "data": {
            "image/png": "[encoded data removed]",
            "text/plain": [
              "<Figure size 432x288 with 1 Axes>"
            ]
          },
          "metadata": {
            "tags": [],
            "needs_background": "light"
          }
        },
        {
          "output_type": "stream",
          "text": [
            "sex\n"
          ],
          "name": "stdout"
        },
        {
          "output_type": "display_data",
          "data": {
            "image/png": "[encoded data removed]",
            "text/plain": [
              "<Figure size 432x288 with 1 Axes>"
            ]
          },
          "metadata": {
            "tags": [],
            "needs_background": "light"
          }
        },
        {
          "output_type": "stream",
          "text": [
            "age\n"
          ],
          "name": "stdout"
        },
        {
          "output_type": "display_data",
          "data": {
            "image/png": "[encoded data removed]",
            "text/plain": [
              "<Figure size 432x288 with 1 Axes>"
            ]
          },
          "metadata": {
            "tags": [],
            "needs_background": "light"
          }
        },
        {
          "output_type": "stream",
          "text": [
            "address\n"
          ],
          "name": "stdout"
        },
        {
          "output_type": "display_data",
          "data": {
            "image/png": "[encoded data removed]",
            "text/plain": [
              "<Figure size 432x288 with 1 Axes>"
            ]
          },
          "metadata": {
            "tags": [],
            "needs_background": "light"
          }
        },
        {
          "output_type": "stream",
          "text": [
            "famsize\n"
          ],
          "name": "stdout"
        },
        {
          "output_type": "display_data",
          "data": {
            "image/png": "[encoded data removed]",
            "text/plain": [
              "<Figure size 432x288 with 1 Axes>"
            ]
          },
          "metadata": {
            "tags": [],
            "needs_background": "light"
          }
        },
        {
          "output_type": "stream",
          "text": [
            "Pstatus\n"
          ],
          "name": "stdout"
        },
        {
          "output_type": "display_data",
          "data": {
            "image/png": "[encoded data removed]",
            "text/plain": [
              "<Figure size 432x288 with 1 Axes>"
            ]
          },
          "metadata": {
            "tags": [],
            "needs_background": "light"
          }
        },
        {
          "output_type": "stream",
          "text": [
            "Medu\n"
          ],
          "name": "stdout"
        },
        {
          "output_type": "display_data",
          "data": {
            "image/png": "[encoded data removed]",
            "text/plain": [
              "<Figure size 432x288 with 1 Axes>"
            ]
          },
          "metadata": {
            "tags": [],
            "needs_background": "light"
          }
        },
        {
          "output_type": "stream",
          "text": [
            "Fedu\n"
          ],
          "name": "stdout"
        },
        {
          "output_type": "display_data",
          "data": {
            "image/png": "[encoded data removed]",
            "text/plain": [
              "<Figure size 432x288 with 1 Axes>"
            ]
          },
          "metadata": {
            "tags": [],
            "needs_background": "light"
          }
        },
        {
          "output_type": "stream",
          "text": [
            "Mjob\n"
          ],
          "name": "stdout"
        },
        {
          "output_type": "display_data",
          "data": {
            "image/png": "[encoded data removed]",
            "text/plain": [
              "<Figure size 432x288 with 1 Axes>"
            ]
          },
          "metadata": {
            "tags": [],
            "needs_background": "light"
          }
        },
        {
          "output_type": "stream",
          "text": [
            "Fjob\n"
          ],
          "name": "stdout"
        },
        {
          "output_type": "display_data",
          "data": {
            "image/png": "[encoded data removed]",
            "text/plain": [
              "<Figure size 432x288 with 1 Axes>"
            ]
          },
          "metadata": {
            "tags": [],
            "needs_background": "light"
          }
        },
        {
          "output_type": "stream",
          "text": [
            "reason\n"
          ],
          "name": "stdout"
        },
        {
          "output_type": "display_data",
          "data": {
            "image/png": "[encoded data removed]",
            "text/plain": [
              "<Figure size 432x288 with 1 Axes>"
            ]
          },
          "metadata": {
            "tags": [],
            "needs_background": "light"
          }
        },
        {
          "output_type": "stream",
          "text": [
            "guardian\n"
          ],
          "name": "stdout"
        },
        {
          "output_type": "display_data",
          "data": {
            "image/png": "[encoded data removed]",
            "text/plain": [
              "<Figure size 432x288 with 1 Axes>"
            ]
          },
          "metadata": {
            "tags": [],
            "needs_background": "light"
          }
        },
        {
          "output_type": "stream",
          "text": [
            "traveltime\n"
          ],
          "name": "stdout"
        },
        {
          "output_type": "display_data",
          "data": {
            "image/png": "[encoded data removed]",
            "text/plain": [
              "<Figure size 432x288 with 1 Axes>"
            ]
          },
          "metadata": {
            "tags": [],
            "needs_background": "light"
          }
        },
        {
          "output_type": "stream",
          "text": [
            "studytime\n"
          ],
          "name": "stdout"
        },
        {
          "output_type": "display_data",
          "data": {
            "image/png": "[encoded data removed]",
            "text/plain": [
              "<Figure size 432x288 with 1 Axes>"
            ]
          },
          "metadata": {
            "tags": [],
            "needs_background": "light"
          }
        },
        {
          "output_type": "stream",
          "text": [
            "failures\n"
          ],
          "name": "stdout"
        },
        {
          "output_type": "display_data",
          "data": {
            "image/png": "[encoded data removed]",
            "text/plain": [
              "<Figure size 432x288 with 1 Axes>"
            ]
          },
          "metadata": {
            "tags": [],
            "needs_background": "light"
          }
        },
        {
          "output_type": "stream",
          "text": [
            "schoolsup\n"
          ],
          "name": "stdout"
        },
        {
          "output_type": "display_data",
          "data": {
            "image/png": "[encoded data removed]",
            "text/plain": [
              "<Figure size 432x288 with 1 Axes>"
            ]
          },
          "metadata": {
            "tags": [],
            "needs_background": "light"
          }
        },
        {
          "output_type": "stream",
          "text": [
            "famsup\n"
          ],
          "name": "stdout"
        },
        {
          "output_type": "display_data",
          "data": {
            "image/png": "[encoded data removed]",
            "text/plain": [
              "<Figure size 432x288 with 1 Axes>"
            ]
          },
          "metadata": {
            "tags": [],
            "needs_background": "light"
          }
        },
        {
          "output_type": "stream",
          "text": [
            "paid\n"
          ],
          "name": "stdout"
        },
        {
          "output_type": "display_data",
          "data": {
            "image/png": "[encoded data removed]",
            "text/plain": [
              "<Figure size 432x288 with 1 Axes>"
            ]
          },
          "metadata": {
            "tags": [],
            "needs_background": "light"
          }
        },
        {
          "output_type": "stream",
          "text": [
            "activities\n"
          ],
          "name": "stdout"
        },
        {
          "output_type": "display_data",
          "data": {
            "image/png": "[encoded data removed]",
            "text/plain": [
              "<Figure size 432x288 with 1 Axes>"
            ]
          },
          "metadata": {
            "tags": [],
            "needs_background": "light"
          }
        },
        {
          "output_type": "stream",
          "text": [
            "nursery\n"
          ],
          "name": "stdout"
        },
        {
          "output_type": "display_data",
          "data": {
            "image/png": "[encoded data removed]",
            "text/plain": [
              "<Figure size 432x288 with 1 Axes>"
            ]
          },
          "metadata": {
            "tags": [],
            "needs_background": "light"
          }
        },
        {
          "output_type": "stream",
          "text": [
            "higher\n"
          ],
          "name": "stdout"
        },
        {
          "output_type": "display_data",
          "data": {
            "image/png": "[encoded data removed]",
            "text/plain": [
              "<Figure size 432x288 with 1 Axes>"
            ]
          },
          "metadata": {
            "tags": [],
            "needs_background": "light"
          }
        },
        {
          "output_type": "stream",
          "text": [
            "internet\n"
          ],
          "name": "stdout"
        },
        {
          "output_type": "display_data",
          "data": {
            "image/png": "[encoded data removed]",
            "text/plain": [
              "<Figure size 432x288 with 1 Axes>"
            ]
          },
          "metadata": {
            "tags": [],
            "needs_background": "light"
          }
        },
        {
          "output_type": "stream",
          "text": [
            "romantic\n"
          ],
          "name": "stdout"
        },
        {
          "output_type": "display_data",
          "data": {
            "image/png": "[encoded data removed]",
            "text/plain": [
              "<Figure size 432x288 with 1 Axes>"
            ]
          },
          "metadata": {
            "tags": [],
            "needs_background": "light"
          }
        },
        {
          "output_type": "stream",
          "text": [
            "famrel\n"
          ],
          "name": "stdout"
        },
        {
          "output_type": "display_data",
          "data": {
            "image/png": "[encoded data removed]",
            "text/plain": [
              "<Figure size 432x288 with 1 Axes>"
            ]
          },
          "metadata": {
            "tags": [],
            "needs_background": "light"
          }
        },
        {
          "output_type": "stream",
          "text": [
            "freetime\n"
          ],
          "name": "stdout"
        },
        {
          "output_type": "display_data",
          "data": {
            "image/png": "[encoded data removed]",
            "text/plain": [
              "<Figure size 432x288 with 1 Axes>"
            ]
          },
          "metadata": {
            "tags": [],
            "needs_background": "light"
          }
        },
        {
          "output_type": "stream",
          "text": [
            "goout\n"
          ],
          "name": "stdout"
        },
        {
          "output_type": "display_data",
          "data": {
            "image/png": "[encoded data removed]",
            "text/plain": [
              "<Figure size 432x288 with 1 Axes>"
            ]
          },
          "metadata": {
            "tags": [],
            "needs_background": "light"
          }
        },
        {
          "output_type": "stream",
          "text": [
            "Dalc\n"
          ],
          "name": "stdout"
        },
        {
          "output_type": "display_data",
          "data": {
            "image/png": "[encoded data removed]",
            "text/plain": [
              "<Figure size 432x288 with 1 Axes>"
            ]
          },
          "metadata": {
            "tags": [],
            "needs_background": "light"
          }
        },
        {
          "output_type": "stream",
          "text": [
            "Walc\n"
          ],
          "name": "stdout"
        },
        {
          "output_type": "display_data",
          "data": {
            "image/png": "[encoded data removed]",
            "text/plain": [
              "<Figure size 432x288 with 1 Axes>"
            ]
          },
          "metadata": {
            "tags": [],
            "needs_background": "light"
          }
        },
        {
          "output_type": "stream",
          "text": [
            "health\n"
          ],
          "name": "stdout"
        },
        {
          "output_type": "display_data",
          "data": {
            "image/png": "[encoded data removed]",
            "text/plain": [
              "<Figure size 432x288 with 1 Axes>"
            ]
          },
          "metadata": {
            "tags": [],
            "needs_background": "light"
          }
        },
        {
          "output_type": "stream",
          "text": [
            "absences\n"
          ],
          "name": "stdout"
        },
        {
          "output_type": "display_data",
          "data": {
            "image/png": "[encoded data removed]",
            "text/plain": [
              "<Figure size 432x288 with 1 Axes>"
            ]
          },
          "metadata": {
            "tags": [],
            "needs_background": "light"
          }
        },
        {
          "output_type": "stream",
          "text": [
            "G1\n"
          ],
          "name": "stdout"
        },
        {
          "output_type": "display_data",
          "data": {
            "image/png": "[encoded data removed]",
            "text/plain": [
              "<Figure size 432x288 with 1 Axes>"
            ]
          },
          "metadata": {
            "tags": [],
            "needs_background": "light"
          }
        },
        {
          "output_type": "stream",
          "text": [
            "G2\n"
          ],
          "name": "stdout"
        },
        {
          "output_type": "display_data",
          "data": {
            "image/png": "[encoded data removed]",
            "text/plain": [
              "<Figure size 432x288 with 1 Axes>"
            ]
          },
          "metadata": {
            "tags": [],
            "needs_background": "light"
          }
        },
        {
          "output_type": "stream",
          "text": [
            "G3\n"
          ],
          "name": "stdout"
        },
        {
          "output_type": "display_data",
          "data": {
            "image/png": "[encoded data removed]",
            "text/plain": [
              "<Figure size 432x288 with 1 Axes>"
            ]
          },
          "metadata": {
            "tags": [],
            "needs_background": "light"
          }
        }
      ]
    },
    {
      "cell_type": "markdown",
      "metadata": {
        "id": "taRXfr-ri1V7",
        "colab_type": "text"
      },
      "source": [
        "из интересных фактов, которые мы узнали по ящикам с усами: \n",
        "в школе учится студет которому 22, но это скорее второгодник, \n",
        "чем вброс данных\n",
        "надо дропнуть айди"
      ]
    },
    {
      "cell_type": "code",
      "metadata": {
        "id": "X-oz3pVAPHSU",
        "colab_type": "code",
        "colab": {}
      },
      "source": [
        "data.drop(['ID'], axis='columns', inplace=True)"
      ],
      "execution_count": 0,
      "outputs": []
    },
    {
      "cell_type": "markdown",
      "metadata": {
        "id": "HVJCBwzki640",
        "colab_type": "text"
      },
      "source": [
        "### Нормализация данных\n",
        "Именно нормализация, а не стандартизация, так как нам необходимо уменьшить расстояние, и отрицательные значения тут не к месту"
      ]
    },
    {
      "cell_type": "markdown",
      "metadata": {
        "id": "kRm_2fQdi5LU",
        "colab_type": "text"
      },
      "source": [
        "сделаем нормализацию данных\n",
        "тут я поняла что в некоторых других столбцах есть некоректные данные\n",
        "так же объединим алкоголь в один столбец\n",
        "и создадим столбец благополучия в семье  \n",
        "так же оставим бинарным признакам их бинарность"
      ]
    },
    {
      "cell_type": "code",
      "metadata": {
        "id": "8TkgAuvEjMJ3",
        "colab_type": "code",
        "colab": {}
      },
      "source": [
        "def drop_bin(frame, norm):\n",
        "  for seria in frame.columns.tolist():\n",
        "    if (frame[seria].max() == 1) & (frame[seria].min() == 0):\n",
        "      norm.drop([seria], axis='columns', inplace=True)"
      ],
      "execution_count": 0,
      "outputs": []
    },
    {
      "cell_type": "code",
      "metadata": {
        "id": "nlKPg_pjUFtW",
        "colab_type": "code",
        "outputId": "d02846a8-b8d1-4754-bdad-a9aea49e8839",
        "colab": {
          "base_uri": "https://localhost:8080/",
          "height": 427
        }
      },
      "source": [
        "data_norm = pd.DataFrame(preprocessing.normalize(data), columns=list(data.columns))\n",
        "#scaler = preprocessing.StandardScaler()\n",
        "#scaler.fit(data)\n",
        "#data_norm = pd.DataFrame(scaler.transform(data), columns=list(data.columns))\n",
        "\n",
        "#data_norm['Alco'] = data_norm['Dalc'] + data_norm['Walc']\n",
        "#data_norm.drop(['Dalc'], axis='columns', inplace=True)\n",
        "#data_norm.drop(['Walc'], axis='columns', inplace=True)\n",
        "data_norm.drop(['G2'], axis='columns', inplace=True)\n",
        "\n",
        "#drop_bin(data, data_norm)\n",
        "\n",
        "data_norm"
      ],
      "execution_count": 215,
      "outputs": [
        {
          "output_type": "execute_result",
          "data": {
            "text/html": [
              "<div>\n",
              "<style scoped>\n",
              "    .dataframe tbody tr th:only-of-type {\n",
              "        vertical-align: middle;\n",
              "    }\n",
              "\n",
              "    .dataframe tbody tr th {\n",
              "        vertical-align: top;\n",
              "    }\n",
              "\n",
              "    .dataframe thead th {\n",
              "        text-align: right;\n",
              "    }\n",
              "</style>\n",
              "<table border=\"1\" class=\"dataframe\">\n",
              "  <thead>\n",
              "    <tr style=\"text-align: right;\">\n",
              "      <th></th>\n",
              "      <th>Subject</th>\n",
              "      <th>school</th>\n",
              "      <th>sex</th>\n",
              "      <th>age</th>\n",
              "      <th>address</th>\n",
              "      <th>famsize</th>\n",
              "      <th>Pstatus</th>\n",
              "      <th>Medu</th>\n",
              "      <th>Fedu</th>\n",
              "      <th>Mjob</th>\n",
              "      <th>Fjob</th>\n",
              "      <th>reason</th>\n",
              "      <th>guardian</th>\n",
              "      <th>traveltime</th>\n",
              "      <th>studytime</th>\n",
              "      <th>failures</th>\n",
              "      <th>schoolsup</th>\n",
              "      <th>famsup</th>\n",
              "      <th>paid</th>\n",
              "      <th>activities</th>\n",
              "      <th>nursery</th>\n",
              "      <th>higher</th>\n",
              "      <th>internet</th>\n",
              "      <th>romantic</th>\n",
              "      <th>famrel</th>\n",
              "      <th>freetime</th>\n",
              "      <th>goout</th>\n",
              "      <th>Dalc</th>\n",
              "      <th>Walc</th>\n",
              "      <th>health</th>\n",
              "      <th>absences</th>\n",
              "      <th>G1</th>\n",
              "      <th>G3</th>\n",
              "    </tr>\n",
              "  </thead>\n",
              "  <tbody>\n",
              "    <tr>\n",
              "      <th>0</th>\n",
              "      <td>0.030275</td>\n",
              "      <td>0.030275</td>\n",
              "      <td>0.030275</td>\n",
              "      <td>0.484404</td>\n",
              "      <td>0.030275</td>\n",
              "      <td>0.000000</td>\n",
              "      <td>0.000000</td>\n",
              "      <td>0.090826</td>\n",
              "      <td>0.121101</td>\n",
              "      <td>0.060550</td>\n",
              "      <td>0.000000</td>\n",
              "      <td>0.060550</td>\n",
              "      <td>0.030275</td>\n",
              "      <td>0.030275</td>\n",
              "      <td>0.030275</td>\n",
              "      <td>0.000000</td>\n",
              "      <td>0.0</td>\n",
              "      <td>0.000000</td>\n",
              "      <td>0.030275</td>\n",
              "      <td>0.000000</td>\n",
              "      <td>0.030275</td>\n",
              "      <td>0.030275</td>\n",
              "      <td>0.030275</td>\n",
              "      <td>0.030275</td>\n",
              "      <td>0.090826</td>\n",
              "      <td>0.060550</td>\n",
              "      <td>0.030275</td>\n",
              "      <td>0.030275</td>\n",
              "      <td>0.121101</td>\n",
              "      <td>0.151376</td>\n",
              "      <td>0.363303</td>\n",
              "      <td>0.454129</td>\n",
              "      <td>0.423853</td>\n",
              "    </tr>\n",
              "    <tr>\n",
              "      <th>1</th>\n",
              "      <td>0.027735</td>\n",
              "      <td>0.027735</td>\n",
              "      <td>0.027735</td>\n",
              "      <td>0.471495</td>\n",
              "      <td>0.027735</td>\n",
              "      <td>0.000000</td>\n",
              "      <td>0.027735</td>\n",
              "      <td>0.083205</td>\n",
              "      <td>0.055470</td>\n",
              "      <td>0.000000</td>\n",
              "      <td>0.000000</td>\n",
              "      <td>0.055470</td>\n",
              "      <td>0.055470</td>\n",
              "      <td>0.027735</td>\n",
              "      <td>0.055470</td>\n",
              "      <td>0.000000</td>\n",
              "      <td>0.0</td>\n",
              "      <td>0.000000</td>\n",
              "      <td>0.027735</td>\n",
              "      <td>0.027735</td>\n",
              "      <td>0.000000</td>\n",
              "      <td>0.027735</td>\n",
              "      <td>0.027735</td>\n",
              "      <td>0.027735</td>\n",
              "      <td>0.138675</td>\n",
              "      <td>0.083205</td>\n",
              "      <td>0.110940</td>\n",
              "      <td>0.027735</td>\n",
              "      <td>0.083205</td>\n",
              "      <td>0.083205</td>\n",
              "      <td>0.055470</td>\n",
              "      <td>0.471495</td>\n",
              "      <td>0.471495</td>\n",
              "    </tr>\n",
              "    <tr>\n",
              "      <th>2</th>\n",
              "      <td>0.039133</td>\n",
              "      <td>0.039133</td>\n",
              "      <td>0.000000</td>\n",
              "      <td>0.626128</td>\n",
              "      <td>0.039133</td>\n",
              "      <td>0.039133</td>\n",
              "      <td>0.039133</td>\n",
              "      <td>0.039133</td>\n",
              "      <td>0.078266</td>\n",
              "      <td>0.039133</td>\n",
              "      <td>0.078266</td>\n",
              "      <td>0.078266</td>\n",
              "      <td>0.078266</td>\n",
              "      <td>0.078266</td>\n",
              "      <td>0.039133</td>\n",
              "      <td>0.078266</td>\n",
              "      <td>0.0</td>\n",
              "      <td>0.000000</td>\n",
              "      <td>0.039133</td>\n",
              "      <td>0.000000</td>\n",
              "      <td>0.000000</td>\n",
              "      <td>0.039133</td>\n",
              "      <td>0.039133</td>\n",
              "      <td>0.039133</td>\n",
              "      <td>0.156532</td>\n",
              "      <td>0.156532</td>\n",
              "      <td>0.195665</td>\n",
              "      <td>0.117399</td>\n",
              "      <td>0.195665</td>\n",
              "      <td>0.195665</td>\n",
              "      <td>0.000000</td>\n",
              "      <td>0.352197</td>\n",
              "      <td>0.391330</td>\n",
              "    </tr>\n",
              "    <tr>\n",
              "      <th>3</th>\n",
              "      <td>0.030585</td>\n",
              "      <td>0.000000</td>\n",
              "      <td>0.000000</td>\n",
              "      <td>0.519948</td>\n",
              "      <td>0.030585</td>\n",
              "      <td>0.000000</td>\n",
              "      <td>0.030585</td>\n",
              "      <td>0.061170</td>\n",
              "      <td>0.091756</td>\n",
              "      <td>0.000000</td>\n",
              "      <td>0.061170</td>\n",
              "      <td>0.000000</td>\n",
              "      <td>0.030585</td>\n",
              "      <td>0.061170</td>\n",
              "      <td>0.061170</td>\n",
              "      <td>0.000000</td>\n",
              "      <td>0.0</td>\n",
              "      <td>0.000000</td>\n",
              "      <td>0.030585</td>\n",
              "      <td>0.030585</td>\n",
              "      <td>0.030585</td>\n",
              "      <td>0.030585</td>\n",
              "      <td>0.030585</td>\n",
              "      <td>0.030585</td>\n",
              "      <td>0.122341</td>\n",
              "      <td>0.122341</td>\n",
              "      <td>0.091756</td>\n",
              "      <td>0.030585</td>\n",
              "      <td>0.030585</td>\n",
              "      <td>0.091756</td>\n",
              "      <td>0.122341</td>\n",
              "      <td>0.428193</td>\n",
              "      <td>0.489363</td>\n",
              "    </tr>\n",
              "    <tr>\n",
              "      <th>4</th>\n",
              "      <td>0.034442</td>\n",
              "      <td>0.034442</td>\n",
              "      <td>0.034442</td>\n",
              "      <td>0.551069</td>\n",
              "      <td>0.034442</td>\n",
              "      <td>0.000000</td>\n",
              "      <td>0.034442</td>\n",
              "      <td>0.034442</td>\n",
              "      <td>0.034442</td>\n",
              "      <td>0.103325</td>\n",
              "      <td>0.000000</td>\n",
              "      <td>0.000000</td>\n",
              "      <td>0.068884</td>\n",
              "      <td>0.068884</td>\n",
              "      <td>0.034442</td>\n",
              "      <td>0.000000</td>\n",
              "      <td>0.0</td>\n",
              "      <td>0.034442</td>\n",
              "      <td>0.034442</td>\n",
              "      <td>0.000000</td>\n",
              "      <td>0.034442</td>\n",
              "      <td>0.034442</td>\n",
              "      <td>0.000000</td>\n",
              "      <td>0.034442</td>\n",
              "      <td>0.137767</td>\n",
              "      <td>0.103325</td>\n",
              "      <td>0.068884</td>\n",
              "      <td>0.034442</td>\n",
              "      <td>0.137767</td>\n",
              "      <td>0.172209</td>\n",
              "      <td>0.068884</td>\n",
              "      <td>0.413302</td>\n",
              "      <td>0.447744</td>\n",
              "    </tr>\n",
              "    <tr>\n",
              "      <th>...</th>\n",
              "      <td>...</td>\n",
              "      <td>...</td>\n",
              "      <td>...</td>\n",
              "      <td>...</td>\n",
              "      <td>...</td>\n",
              "      <td>...</td>\n",
              "      <td>...</td>\n",
              "      <td>...</td>\n",
              "      <td>...</td>\n",
              "      <td>...</td>\n",
              "      <td>...</td>\n",
              "      <td>...</td>\n",
              "      <td>...</td>\n",
              "      <td>...</td>\n",
              "      <td>...</td>\n",
              "      <td>...</td>\n",
              "      <td>...</td>\n",
              "      <td>...</td>\n",
              "      <td>...</td>\n",
              "      <td>...</td>\n",
              "      <td>...</td>\n",
              "      <td>...</td>\n",
              "      <td>...</td>\n",
              "      <td>...</td>\n",
              "      <td>...</td>\n",
              "      <td>...</td>\n",
              "      <td>...</td>\n",
              "      <td>...</td>\n",
              "      <td>...</td>\n",
              "      <td>...</td>\n",
              "      <td>...</td>\n",
              "      <td>...</td>\n",
              "      <td>...</td>\n",
              "    </tr>\n",
              "    <tr>\n",
              "      <th>1039</th>\n",
              "      <td>0.000000</td>\n",
              "      <td>0.038236</td>\n",
              "      <td>0.038236</td>\n",
              "      <td>0.573539</td>\n",
              "      <td>0.000000</td>\n",
              "      <td>0.000000</td>\n",
              "      <td>0.038236</td>\n",
              "      <td>0.114708</td>\n",
              "      <td>0.114708</td>\n",
              "      <td>0.076472</td>\n",
              "      <td>0.076472</td>\n",
              "      <td>0.038236</td>\n",
              "      <td>0.000000</td>\n",
              "      <td>0.076472</td>\n",
              "      <td>0.114708</td>\n",
              "      <td>0.076472</td>\n",
              "      <td>0.0</td>\n",
              "      <td>0.038236</td>\n",
              "      <td>0.000000</td>\n",
              "      <td>0.038236</td>\n",
              "      <td>0.038236</td>\n",
              "      <td>0.038236</td>\n",
              "      <td>0.038236</td>\n",
              "      <td>0.000000</td>\n",
              "      <td>0.152944</td>\n",
              "      <td>0.076472</td>\n",
              "      <td>0.038236</td>\n",
              "      <td>0.076472</td>\n",
              "      <td>0.114708</td>\n",
              "      <td>0.114708</td>\n",
              "      <td>0.305888</td>\n",
              "      <td>0.382360</td>\n",
              "      <td>0.382360</td>\n",
              "    </tr>\n",
              "    <tr>\n",
              "      <th>1040</th>\n",
              "      <td>0.040096</td>\n",
              "      <td>0.040096</td>\n",
              "      <td>0.000000</td>\n",
              "      <td>0.601445</td>\n",
              "      <td>0.000000</td>\n",
              "      <td>0.000000</td>\n",
              "      <td>0.040096</td>\n",
              "      <td>0.080193</td>\n",
              "      <td>0.040096</td>\n",
              "      <td>0.040096</td>\n",
              "      <td>0.080193</td>\n",
              "      <td>0.040096</td>\n",
              "      <td>0.080193</td>\n",
              "      <td>0.040096</td>\n",
              "      <td>0.080193</td>\n",
              "      <td>0.000000</td>\n",
              "      <td>0.0</td>\n",
              "      <td>0.000000</td>\n",
              "      <td>0.040096</td>\n",
              "      <td>0.040096</td>\n",
              "      <td>0.040096</td>\n",
              "      <td>0.040096</td>\n",
              "      <td>0.040096</td>\n",
              "      <td>0.000000</td>\n",
              "      <td>0.200482</td>\n",
              "      <td>0.160385</td>\n",
              "      <td>0.080193</td>\n",
              "      <td>0.040096</td>\n",
              "      <td>0.040096</td>\n",
              "      <td>0.200482</td>\n",
              "      <td>0.160385</td>\n",
              "      <td>0.400963</td>\n",
              "      <td>0.400963</td>\n",
              "    </tr>\n",
              "    <tr>\n",
              "      <th>1041</th>\n",
              "      <td>0.028820</td>\n",
              "      <td>0.000000</td>\n",
              "      <td>0.028820</td>\n",
              "      <td>0.461112</td>\n",
              "      <td>0.000000</td>\n",
              "      <td>0.028820</td>\n",
              "      <td>0.028820</td>\n",
              "      <td>0.028820</td>\n",
              "      <td>0.028820</td>\n",
              "      <td>0.086459</td>\n",
              "      <td>0.000000</td>\n",
              "      <td>0.057639</td>\n",
              "      <td>0.028820</td>\n",
              "      <td>0.086459</td>\n",
              "      <td>0.057639</td>\n",
              "      <td>0.000000</td>\n",
              "      <td>0.0</td>\n",
              "      <td>0.028820</td>\n",
              "      <td>0.028820</td>\n",
              "      <td>0.000000</td>\n",
              "      <td>0.028820</td>\n",
              "      <td>0.028820</td>\n",
              "      <td>0.000000</td>\n",
              "      <td>0.028820</td>\n",
              "      <td>0.144098</td>\n",
              "      <td>0.086459</td>\n",
              "      <td>0.057639</td>\n",
              "      <td>0.028820</td>\n",
              "      <td>0.028820</td>\n",
              "      <td>0.028820</td>\n",
              "      <td>0.000000</td>\n",
              "      <td>0.461112</td>\n",
              "      <td>0.518751</td>\n",
              "    </tr>\n",
              "    <tr>\n",
              "      <th>1042</th>\n",
              "      <td>0.040096</td>\n",
              "      <td>0.040096</td>\n",
              "      <td>0.000000</td>\n",
              "      <td>0.641542</td>\n",
              "      <td>0.040096</td>\n",
              "      <td>0.000000</td>\n",
              "      <td>0.040096</td>\n",
              "      <td>0.080193</td>\n",
              "      <td>0.040096</td>\n",
              "      <td>0.120289</td>\n",
              "      <td>0.000000</td>\n",
              "      <td>0.080193</td>\n",
              "      <td>0.080193</td>\n",
              "      <td>0.160385</td>\n",
              "      <td>0.040096</td>\n",
              "      <td>0.000000</td>\n",
              "      <td>0.0</td>\n",
              "      <td>0.000000</td>\n",
              "      <td>0.040096</td>\n",
              "      <td>0.000000</td>\n",
              "      <td>0.040096</td>\n",
              "      <td>0.040096</td>\n",
              "      <td>0.000000</td>\n",
              "      <td>0.040096</td>\n",
              "      <td>0.120289</td>\n",
              "      <td>0.080193</td>\n",
              "      <td>0.040096</td>\n",
              "      <td>0.040096</td>\n",
              "      <td>0.040096</td>\n",
              "      <td>0.080193</td>\n",
              "      <td>0.160385</td>\n",
              "      <td>0.360867</td>\n",
              "      <td>0.441060</td>\n",
              "    </tr>\n",
              "    <tr>\n",
              "      <th>1043</th>\n",
              "      <td>0.031435</td>\n",
              "      <td>0.031435</td>\n",
              "      <td>0.000000</td>\n",
              "      <td>0.534390</td>\n",
              "      <td>0.000000</td>\n",
              "      <td>0.000000</td>\n",
              "      <td>0.031435</td>\n",
              "      <td>0.031435</td>\n",
              "      <td>0.094304</td>\n",
              "      <td>0.000000</td>\n",
              "      <td>0.000000</td>\n",
              "      <td>0.062869</td>\n",
              "      <td>0.031435</td>\n",
              "      <td>0.094304</td>\n",
              "      <td>0.062869</td>\n",
              "      <td>0.031435</td>\n",
              "      <td>0.0</td>\n",
              "      <td>0.031435</td>\n",
              "      <td>0.031435</td>\n",
              "      <td>0.031435</td>\n",
              "      <td>0.031435</td>\n",
              "      <td>0.031435</td>\n",
              "      <td>0.031435</td>\n",
              "      <td>0.031435</td>\n",
              "      <td>0.157174</td>\n",
              "      <td>0.062869</td>\n",
              "      <td>0.125739</td>\n",
              "      <td>0.125739</td>\n",
              "      <td>0.125739</td>\n",
              "      <td>0.157174</td>\n",
              "      <td>0.440086</td>\n",
              "      <td>0.377217</td>\n",
              "      <td>0.345782</td>\n",
              "    </tr>\n",
              "  </tbody>\n",
              "</table>\n",
              "<p>1044 rows × 33 columns</p>\n",
              "</div>"
            ],
            "text/plain": [
              "       Subject    school       sex       age   address   famsize   Pstatus  \\\n",
              "0     0.030275  0.030275  0.030275  0.484404  0.030275  0.000000  0.000000   \n",
              "1     0.027735  0.027735  0.027735  0.471495  0.027735  0.000000  0.027735   \n",
              "2     0.039133  0.039133  0.000000  0.626128  0.039133  0.039133  0.039133   \n",
              "3     0.030585  0.000000  0.000000  0.519948  0.030585  0.000000  0.030585   \n",
              "4     0.034442  0.034442  0.034442  0.551069  0.034442  0.000000  0.034442   \n",
              "...        ...       ...       ...       ...       ...       ...       ...   \n",
              "1039  0.000000  0.038236  0.038236  0.573539  0.000000  0.000000  0.038236   \n",
              "1040  0.040096  0.040096  0.000000  0.601445  0.000000  0.000000  0.040096   \n",
              "1041  0.028820  0.000000  0.028820  0.461112  0.000000  0.028820  0.028820   \n",
              "1042  0.040096  0.040096  0.000000  0.641542  0.040096  0.000000  0.040096   \n",
              "1043  0.031435  0.031435  0.000000  0.534390  0.000000  0.000000  0.031435   \n",
              "\n",
              "          Medu      Fedu      Mjob      Fjob    reason  guardian  traveltime  \\\n",
              "0     0.090826  0.121101  0.060550  0.000000  0.060550  0.030275    0.030275   \n",
              "1     0.083205  0.055470  0.000000  0.000000  0.055470  0.055470    0.027735   \n",
              "2     0.039133  0.078266  0.039133  0.078266  0.078266  0.078266    0.078266   \n",
              "3     0.061170  0.091756  0.000000  0.061170  0.000000  0.030585    0.061170   \n",
              "4     0.034442  0.034442  0.103325  0.000000  0.000000  0.068884    0.068884   \n",
              "...        ...       ...       ...       ...       ...       ...         ...   \n",
              "1039  0.114708  0.114708  0.076472  0.076472  0.038236  0.000000    0.076472   \n",
              "1040  0.080193  0.040096  0.040096  0.080193  0.040096  0.080193    0.040096   \n",
              "1041  0.028820  0.028820  0.086459  0.000000  0.057639  0.028820    0.086459   \n",
              "1042  0.080193  0.040096  0.120289  0.000000  0.080193  0.080193    0.160385   \n",
              "1043  0.031435  0.094304  0.000000  0.000000  0.062869  0.031435    0.094304   \n",
              "\n",
              "      studytime  failures  schoolsup    famsup      paid  activities  \\\n",
              "0      0.030275  0.000000        0.0  0.000000  0.030275    0.000000   \n",
              "1      0.055470  0.000000        0.0  0.000000  0.027735    0.027735   \n",
              "2      0.039133  0.078266        0.0  0.000000  0.039133    0.000000   \n",
              "3      0.061170  0.000000        0.0  0.000000  0.030585    0.030585   \n",
              "4      0.034442  0.000000        0.0  0.034442  0.034442    0.000000   \n",
              "...         ...       ...        ...       ...       ...         ...   \n",
              "1039   0.114708  0.076472        0.0  0.038236  0.000000    0.038236   \n",
              "1040   0.080193  0.000000        0.0  0.000000  0.040096    0.040096   \n",
              "1041   0.057639  0.000000        0.0  0.028820  0.028820    0.000000   \n",
              "1042   0.040096  0.000000        0.0  0.000000  0.040096    0.000000   \n",
              "1043   0.062869  0.031435        0.0  0.031435  0.031435    0.031435   \n",
              "\n",
              "       nursery    higher  internet  romantic    famrel  freetime     goout  \\\n",
              "0     0.030275  0.030275  0.030275  0.030275  0.090826  0.060550  0.030275   \n",
              "1     0.000000  0.027735  0.027735  0.027735  0.138675  0.083205  0.110940   \n",
              "2     0.000000  0.039133  0.039133  0.039133  0.156532  0.156532  0.195665   \n",
              "3     0.030585  0.030585  0.030585  0.030585  0.122341  0.122341  0.091756   \n",
              "4     0.034442  0.034442  0.000000  0.034442  0.137767  0.103325  0.068884   \n",
              "...        ...       ...       ...       ...       ...       ...       ...   \n",
              "1039  0.038236  0.038236  0.038236  0.000000  0.152944  0.076472  0.038236   \n",
              "1040  0.040096  0.040096  0.040096  0.000000  0.200482  0.160385  0.080193   \n",
              "1041  0.028820  0.028820  0.000000  0.028820  0.144098  0.086459  0.057639   \n",
              "1042  0.040096  0.040096  0.000000  0.040096  0.120289  0.080193  0.040096   \n",
              "1043  0.031435  0.031435  0.031435  0.031435  0.157174  0.062869  0.125739   \n",
              "\n",
              "          Dalc      Walc    health  absences        G1        G3  \n",
              "0     0.030275  0.121101  0.151376  0.363303  0.454129  0.423853  \n",
              "1     0.027735  0.083205  0.083205  0.055470  0.471495  0.471495  \n",
              "2     0.117399  0.195665  0.195665  0.000000  0.352197  0.391330  \n",
              "3     0.030585  0.030585  0.091756  0.122341  0.428193  0.489363  \n",
              "4     0.034442  0.137767  0.172209  0.068884  0.413302  0.447744  \n",
              "...        ...       ...       ...       ...       ...       ...  \n",
              "1039  0.076472  0.114708  0.114708  0.305888  0.382360  0.382360  \n",
              "1040  0.040096  0.040096  0.200482  0.160385  0.400963  0.400963  \n",
              "1041  0.028820  0.028820  0.028820  0.000000  0.461112  0.518751  \n",
              "1042  0.040096  0.040096  0.080193  0.160385  0.360867  0.441060  \n",
              "1043  0.125739  0.125739  0.157174  0.440086  0.377217  0.345782  \n",
              "\n",
              "[1044 rows x 33 columns]"
            ]
          },
          "metadata": {
            "tags": []
          },
          "execution_count": 215
        }
      ]
    },
    {
      "cell_type": "markdown",
      "metadata": {
        "id": "QhMgC9B_jQmI",
        "colab_type": "text"
      },
      "source": [
        "### Корреляция"
      ]
    },
    {
      "cell_type": "markdown",
      "metadata": {
        "id": "OaL_qWqnjUhP",
        "colab_type": "text"
      },
      "source": [
        "теперь посмотрим корреляцию наших данных\n",
        "\n",
        "\n",
        "заменим малозначащие данные и данные между одинаковыми столбцами на один \n",
        "цвет, чтобы яркие зависимости были хорошо видны"
      ]
    },
    {
      "cell_type": "code",
      "metadata": {
        "id": "MQYDDPf3P7s1",
        "colab_type": "code",
        "outputId": "6f21db21-aefc-4c76-b77a-08874d1f274b",
        "colab": {
          "base_uri": "https://localhost:8080/",
          "height": 650
        }
      },
      "source": [
        "corr = data_norm.corr() \n",
        "fig, ax = plt.subplots(figsize=(10,10))    \n",
        "\n",
        "for i in corr.columns.tolist():\n",
        "  for j in corr.columns.tolist():\n",
        "    if (-0.2 < corr[i][j] < 0.2) | (corr[i][j] == 1):\n",
        "      corr[i][j] = 0.2\n",
        "sns.heatmap(corr, xticklabels=corr.columns.values, \n",
        "           yticklabels=corr.columns.values)"
      ],
      "execution_count": 19,
      "outputs": [
        {
          "output_type": "execute_result",
          "data": {
            "text/plain": [
              "<matplotlib.axes._subplots.AxesSubplot at 0x7fe27bdba048>"
            ]
          },
          "metadata": {
            "tags": []
          },
          "execution_count": 19
        },
        {
          "output_type": "display_data",
          "data": {
            "image/png": "[encoded data removed]",
            "text/plain": [
              "<Figure size 720x720 with 2 Axes>"
            ]
          },
          "metadata": {
            "tags": [],
            "needs_background": "light"
          }
        }
      ]
    },
    {
      "cell_type": "markdown",
      "metadata": {
        "id": "x7fSbaYKkoOr",
        "colab_type": "text"
      },
      "source": [
        "# Часть 2. Регрессия"
      ]
    },
    {
      "cell_type": "markdown",
      "metadata": {
        "id": "3yrYiTnskoOs",
        "colab_type": "text"
      },
      "source": [
        "* Решите задачу регрессии: постройте модель, предсказывающую итоговую оценку, которую получит студент по предмету (`G3`). При решении задачи **нельзя** использовать признак `G2`.  \n",
        "<br>  \n",
        "* При решении задачи используйте различные методы, которые рассматривались на занятиях:  \n",
        "  * Линейная регрессия + регуляризации;  \n",
        "  * Полиномиальная регрессия;  \n",
        "  * KNN и  Radius Neighbors;  \n",
        "  * Деревья решений.  \n",
        "  \n",
        "  На кросс-валидации подберите оптимальные значения гиперпараметров алгоритмов.  \n",
        "<br>    \n",
        "* Оцените качество каждой модели, используйте различные метрики. Сравните модели и сделайте вывод о качестве решения задачи.  \n",
        "<br>    \n",
        "* Задачу необходимо решить в двух вариантах: с использованием признака `G1`  и без него. Сравните качество решений в двух случаях.  \n",
        "<br>    \n",
        "* В регрессионных моделях попробуйте дать интерпретацию весам признаков. "
      ]
    },
    {
      "cell_type": "markdown",
      "metadata": {
        "id": "PtQ-f_XNNNhF",
        "colab_type": "text"
      },
      "source": [
        "1. Сравнить модели между собой\n",
        "2. Дать интерпретацию весам признаков?"
      ]
    },
    {
      "cell_type": "markdown",
      "metadata": {
        "id": "NvlBTvXaef6d",
        "colab_type": "text"
      },
      "source": [
        "### Подготовка"
      ]
    },
    {
      "cell_type": "markdown",
      "metadata": {
        "id": "K4I-Hi2UekyN",
        "colab_type": "text"
      },
      "source": [
        "Разделяем данные "
      ]
    },
    {
      "cell_type": "code",
      "metadata": {
        "id": "Tatfsb2PRvDl",
        "colab_type": "code",
        "colab": {
          "base_uri": "https://localhost:8080/",
          "height": 407
        },
        "outputId": "c661433e-c062-46fe-c4f6-2ec199f169b9"
      },
      "source": [
        "(trainD, testD, trainV, testV) = train_test_split(data_norm.drop('G3', axis=1),\n",
        "                                            data_norm['G3'],\n",
        "                                            test_size=0.3, \n",
        "                                            random_state=5)\n",
        "(trainD1, testD1, trainV1, testV1) = train_test_split(data_norm.drop('G3', axis=1).drop('G1', axis=1),\n",
        "                                            data_norm['G3'],\n",
        "                                            test_size=0.3, \n",
        "                                            random_state=5)\n",
        "trainD"
      ],
      "execution_count": 20,
      "outputs": [
        {
          "output_type": "execute_result",
          "data": {
            "text/html": [
              "<div>\n",
              "<style scoped>\n",
              "    .dataframe tbody tr th:only-of-type {\n",
              "        vertical-align: middle;\n",
              "    }\n",
              "\n",
              "    .dataframe tbody tr th {\n",
              "        vertical-align: top;\n",
              "    }\n",
              "\n",
              "    .dataframe thead th {\n",
              "        text-align: right;\n",
              "    }\n",
              "</style>\n",
              "<table border=\"1\" class=\"dataframe\">\n",
              "  <thead>\n",
              "    <tr style=\"text-align: right;\">\n",
              "      <th></th>\n",
              "      <th>age</th>\n",
              "      <th>Medu</th>\n",
              "      <th>Fedu</th>\n",
              "      <th>Mjob</th>\n",
              "      <th>Fjob</th>\n",
              "      <th>reason</th>\n",
              "      <th>guardian</th>\n",
              "      <th>traveltime</th>\n",
              "      <th>studytime</th>\n",
              "      <th>failures</th>\n",
              "      <th>famrel</th>\n",
              "      <th>freetime</th>\n",
              "      <th>goout</th>\n",
              "      <th>health</th>\n",
              "      <th>absences</th>\n",
              "      <th>G1</th>\n",
              "      <th>Alco</th>\n",
              "    </tr>\n",
              "  </thead>\n",
              "  <tbody>\n",
              "    <tr>\n",
              "      <th>842</th>\n",
              "      <td>0.693481</td>\n",
              "      <td>0.132092</td>\n",
              "      <td>0.132092</td>\n",
              "      <td>0.000000</td>\n",
              "      <td>0.000000</td>\n",
              "      <td>0.033023</td>\n",
              "      <td>0.000000</td>\n",
              "      <td>0.033023</td>\n",
              "      <td>0.099069</td>\n",
              "      <td>0.066046</td>\n",
              "      <td>0.099069</td>\n",
              "      <td>0.099069</td>\n",
              "      <td>0.066046</td>\n",
              "      <td>0.165115</td>\n",
              "      <td>0.000000</td>\n",
              "      <td>0.297206</td>\n",
              "      <td>0.066046</td>\n",
              "    </tr>\n",
              "    <tr>\n",
              "      <th>179</th>\n",
              "      <td>0.612223</td>\n",
              "      <td>0.076528</td>\n",
              "      <td>0.076528</td>\n",
              "      <td>0.000000</td>\n",
              "      <td>0.000000</td>\n",
              "      <td>0.076528</td>\n",
              "      <td>0.038264</td>\n",
              "      <td>0.038264</td>\n",
              "      <td>0.076528</td>\n",
              "      <td>0.000000</td>\n",
              "      <td>0.153056</td>\n",
              "      <td>0.114792</td>\n",
              "      <td>0.191320</td>\n",
              "      <td>0.153056</td>\n",
              "      <td>0.153056</td>\n",
              "      <td>0.382639</td>\n",
              "      <td>0.229584</td>\n",
              "    </tr>\n",
              "    <tr>\n",
              "      <th>880</th>\n",
              "      <td>0.500580</td>\n",
              "      <td>0.055620</td>\n",
              "      <td>0.055620</td>\n",
              "      <td>0.055620</td>\n",
              "      <td>0.000000</td>\n",
              "      <td>0.027810</td>\n",
              "      <td>0.055620</td>\n",
              "      <td>0.055620</td>\n",
              "      <td>0.055620</td>\n",
              "      <td>0.000000</td>\n",
              "      <td>0.111240</td>\n",
              "      <td>0.027810</td>\n",
              "      <td>0.111240</td>\n",
              "      <td>0.111240</td>\n",
              "      <td>0.278100</td>\n",
              "      <td>0.389340</td>\n",
              "      <td>0.111240</td>\n",
              "    </tr>\n",
              "    <tr>\n",
              "      <th>42</th>\n",
              "      <td>0.610257</td>\n",
              "      <td>0.033903</td>\n",
              "      <td>0.000000</td>\n",
              "      <td>0.101710</td>\n",
              "      <td>0.101710</td>\n",
              "      <td>0.067806</td>\n",
              "      <td>0.000000</td>\n",
              "      <td>0.101710</td>\n",
              "      <td>0.033903</td>\n",
              "      <td>0.033903</td>\n",
              "      <td>0.135613</td>\n",
              "      <td>0.101710</td>\n",
              "      <td>0.067806</td>\n",
              "      <td>0.135613</td>\n",
              "      <td>0.000000</td>\n",
              "      <td>0.406838</td>\n",
              "      <td>0.067806</td>\n",
              "    </tr>\n",
              "    <tr>\n",
              "      <th>540</th>\n",
              "      <td>0.543036</td>\n",
              "      <td>0.036202</td>\n",
              "      <td>0.036202</td>\n",
              "      <td>0.000000</td>\n",
              "      <td>0.000000</td>\n",
              "      <td>0.000000</td>\n",
              "      <td>0.036202</td>\n",
              "      <td>0.036202</td>\n",
              "      <td>0.072405</td>\n",
              "      <td>0.000000</td>\n",
              "      <td>0.144810</td>\n",
              "      <td>0.108607</td>\n",
              "      <td>0.072405</td>\n",
              "      <td>0.144810</td>\n",
              "      <td>0.072405</td>\n",
              "      <td>0.470632</td>\n",
              "      <td>0.181012</td>\n",
              "    </tr>\n",
              "    <tr>\n",
              "      <th>...</th>\n",
              "      <td>...</td>\n",
              "      <td>...</td>\n",
              "      <td>...</td>\n",
              "      <td>...</td>\n",
              "      <td>...</td>\n",
              "      <td>...</td>\n",
              "      <td>...</td>\n",
              "      <td>...</td>\n",
              "      <td>...</td>\n",
              "      <td>...</td>\n",
              "      <td>...</td>\n",
              "      <td>...</td>\n",
              "      <td>...</td>\n",
              "      <td>...</td>\n",
              "      <td>...</td>\n",
              "      <td>...</td>\n",
              "      <td>...</td>\n",
              "    </tr>\n",
              "    <tr>\n",
              "      <th>1032</th>\n",
              "      <td>0.531858</td>\n",
              "      <td>0.066482</td>\n",
              "      <td>0.066482</td>\n",
              "      <td>0.000000</td>\n",
              "      <td>0.099723</td>\n",
              "      <td>0.066482</td>\n",
              "      <td>0.033241</td>\n",
              "      <td>0.066482</td>\n",
              "      <td>0.066482</td>\n",
              "      <td>0.033241</td>\n",
              "      <td>0.132964</td>\n",
              "      <td>0.099723</td>\n",
              "      <td>0.099723</td>\n",
              "      <td>0.166206</td>\n",
              "      <td>0.465376</td>\n",
              "      <td>0.332411</td>\n",
              "      <td>0.132964</td>\n",
              "    </tr>\n",
              "    <tr>\n",
              "      <th>73</th>\n",
              "      <td>0.517477</td>\n",
              "      <td>0.097027</td>\n",
              "      <td>0.064685</td>\n",
              "      <td>0.000000</td>\n",
              "      <td>0.000000</td>\n",
              "      <td>0.032342</td>\n",
              "      <td>0.064685</td>\n",
              "      <td>0.032342</td>\n",
              "      <td>0.064685</td>\n",
              "      <td>0.000000</td>\n",
              "      <td>0.032342</td>\n",
              "      <td>0.064685</td>\n",
              "      <td>0.064685</td>\n",
              "      <td>0.032342</td>\n",
              "      <td>0.452792</td>\n",
              "      <td>0.388108</td>\n",
              "      <td>0.097027</td>\n",
              "    </tr>\n",
              "    <tr>\n",
              "      <th>998</th>\n",
              "      <td>0.466628</td>\n",
              "      <td>0.103695</td>\n",
              "      <td>0.103695</td>\n",
              "      <td>0.000000</td>\n",
              "      <td>0.000000</td>\n",
              "      <td>0.025924</td>\n",
              "      <td>0.051848</td>\n",
              "      <td>0.051848</td>\n",
              "      <td>0.077771</td>\n",
              "      <td>0.000000</td>\n",
              "      <td>0.129619</td>\n",
              "      <td>0.103695</td>\n",
              "      <td>0.103695</td>\n",
              "      <td>0.025924</td>\n",
              "      <td>0.000000</td>\n",
              "      <td>0.492552</td>\n",
              "      <td>0.051848</td>\n",
              "    </tr>\n",
              "    <tr>\n",
              "      <th>206</th>\n",
              "      <td>0.780013</td>\n",
              "      <td>0.045883</td>\n",
              "      <td>0.045883</td>\n",
              "      <td>0.137649</td>\n",
              "      <td>0.000000</td>\n",
              "      <td>0.091766</td>\n",
              "      <td>0.045883</td>\n",
              "      <td>0.045883</td>\n",
              "      <td>0.091766</td>\n",
              "      <td>0.000000</td>\n",
              "      <td>0.229416</td>\n",
              "      <td>0.137649</td>\n",
              "      <td>0.137649</td>\n",
              "      <td>0.137649</td>\n",
              "      <td>0.183533</td>\n",
              "      <td>0.229416</td>\n",
              "      <td>0.091766</td>\n",
              "    </tr>\n",
              "    <tr>\n",
              "      <th>867</th>\n",
              "      <td>0.537776</td>\n",
              "      <td>0.143407</td>\n",
              "      <td>0.143407</td>\n",
              "      <td>0.000000</td>\n",
              "      <td>0.071703</td>\n",
              "      <td>0.035852</td>\n",
              "      <td>0.071703</td>\n",
              "      <td>0.035852</td>\n",
              "      <td>0.143407</td>\n",
              "      <td>0.000000</td>\n",
              "      <td>0.035852</td>\n",
              "      <td>0.107555</td>\n",
              "      <td>0.107555</td>\n",
              "      <td>0.107555</td>\n",
              "      <td>0.000000</td>\n",
              "      <td>0.394369</td>\n",
              "      <td>0.358517</td>\n",
              "    </tr>\n",
              "  </tbody>\n",
              "</table>\n",
              "<p>730 rows × 17 columns</p>\n",
              "</div>"
            ],
            "text/plain": [
              "           age      Medu      Fedu      Mjob      Fjob    reason  guardian  \\\n",
              "842   0.693481  0.132092  0.132092  0.000000  0.000000  0.033023  0.000000   \n",
              "179   0.612223  0.076528  0.076528  0.000000  0.000000  0.076528  0.038264   \n",
              "880   0.500580  0.055620  0.055620  0.055620  0.000000  0.027810  0.055620   \n",
              "42    0.610257  0.033903  0.000000  0.101710  0.101710  0.067806  0.000000   \n",
              "540   0.543036  0.036202  0.036202  0.000000  0.000000  0.000000  0.036202   \n",
              "...        ...       ...       ...       ...       ...       ...       ...   \n",
              "1032  0.531858  0.066482  0.066482  0.000000  0.099723  0.066482  0.033241   \n",
              "73    0.517477  0.097027  0.064685  0.000000  0.000000  0.032342  0.064685   \n",
              "998   0.466628  0.103695  0.103695  0.000000  0.000000  0.025924  0.051848   \n",
              "206   0.780013  0.045883  0.045883  0.137649  0.000000  0.091766  0.045883   \n",
              "867   0.537776  0.143407  0.143407  0.000000  0.071703  0.035852  0.071703   \n",
              "\n",
              "      traveltime  studytime  failures    famrel  freetime     goout    health  \\\n",
              "842     0.033023   0.099069  0.066046  0.099069  0.099069  0.066046  0.165115   \n",
              "179     0.038264   0.076528  0.000000  0.153056  0.114792  0.191320  0.153056   \n",
              "880     0.055620   0.055620  0.000000  0.111240  0.027810  0.111240  0.111240   \n",
              "42      0.101710   0.033903  0.033903  0.135613  0.101710  0.067806  0.135613   \n",
              "540     0.036202   0.072405  0.000000  0.144810  0.108607  0.072405  0.144810   \n",
              "...          ...        ...       ...       ...       ...       ...       ...   \n",
              "1032    0.066482   0.066482  0.033241  0.132964  0.099723  0.099723  0.166206   \n",
              "73      0.032342   0.064685  0.000000  0.032342  0.064685  0.064685  0.032342   \n",
              "998     0.051848   0.077771  0.000000  0.129619  0.103695  0.103695  0.025924   \n",
              "206     0.045883   0.091766  0.000000  0.229416  0.137649  0.137649  0.137649   \n",
              "867     0.035852   0.143407  0.000000  0.035852  0.107555  0.107555  0.107555   \n",
              "\n",
              "      absences        G1      Alco  \n",
              "842   0.000000  0.297206  0.066046  \n",
              "179   0.153056  0.382639  0.229584  \n",
              "880   0.278100  0.389340  0.111240  \n",
              "42    0.000000  0.406838  0.067806  \n",
              "540   0.072405  0.470632  0.181012  \n",
              "...        ...       ...       ...  \n",
              "1032  0.465376  0.332411  0.132964  \n",
              "73    0.452792  0.388108  0.097027  \n",
              "998   0.000000  0.492552  0.051848  \n",
              "206   0.183533  0.229416  0.091766  \n",
              "867   0.000000  0.394369  0.358517  \n",
              "\n",
              "[730 rows x 17 columns]"
            ]
          },
          "metadata": {
            "tags": []
          },
          "execution_count": 20
        }
      ]
    },
    {
      "cell_type": "markdown",
      "metadata": {
        "id": "uT9plKKHeZwD",
        "colab_type": "text"
      },
      "source": [
        "напишем функцию считающую необходимые нам метрики "
      ]
    },
    {
      "cell_type": "code",
      "metadata": {
        "id": "qB6zX3aaR5nn",
        "colab_type": "code",
        "colab": {}
      },
      "source": [
        "def calc_metrics(true, pred):\n",
        "    mse = metrics.mean_squared_error(true, pred)\n",
        "    rmse = np.sqrt(mse)\n",
        "    mae = metrics.mean_absolute_error(true, pred)\n",
        "    medae = metrics.median_absolute_error(true, pred)\n",
        "    R2 = metrics.r2_score(true, pred)\n",
        "    print(\"MSE:   {}\\nRMSE:  {}\\nR2:    {}\\nMAE:   {}\\nMedAE: {}\".format(mse, rmse, R2, mae, medae))"
      ],
      "execution_count": 0,
      "outputs": []
    },
    {
      "cell_type": "markdown",
      "metadata": {
        "id": "UMx-U78GeuF0",
        "colab_type": "text"
      },
      "source": [
        "Напишем функцию выполняющую визуализацию"
      ]
    },
    {
      "cell_type": "code",
      "metadata": {
        "id": "jhIpFoHLe0UT",
        "colab_type": "code",
        "colab": {}
      },
      "source": [
        "def show_me(predictedV):\n",
        "  sns.distplot(trainV, bins=100, hist=False, label='train')\n",
        "  sns.distplot(testV, bins=100, hist=False, label='test')\n",
        "  sns.distplot(predictedV, bins=100, hist=False, label='pred')\n",
        "  plt.legend()\n",
        "  plt.show()\n",
        "def show_error(predictedV):\n",
        "  error = testV - predictedV\n",
        "  error = error.loc[error!=0]\n",
        "  sns.distplot(error, bins=100, kde=False)\n",
        "  plt.show()"
      ],
      "execution_count": 0,
      "outputs": []
    },
    {
      "cell_type": "markdown",
      "metadata": {
        "id": "5XrLBnZaCCIg",
        "colab_type": "text"
      },
      "source": [
        "## Линейная регрессия"
      ]
    },
    {
      "cell_type": "markdown",
      "metadata": {
        "id": "Rade-D1LSs2B",
        "colab_type": "text"
      },
      "source": [
        "Начнем с Гребневой регрессии"
      ]
    },
    {
      "cell_type": "code",
      "metadata": {
        "id": "hw6MnPuqSXta",
        "colab_type": "code",
        "colab": {}
      },
      "source": [
        "ridgeModel = linear_model.RidgeCV(alphas=np.arange(0, 100, 0.1), \n",
        "                                  cv=5,\n",
        "                                  scoring='neg_mean_squared_error')\n",
        "ridgeModel.fit(trainD, trainV)\n",
        "predictedV = ridgeModel.predict(testD)"
      ],
      "execution_count": 0,
      "outputs": []
    },
    {
      "cell_type": "markdown",
      "metadata": {
        "id": "f5iSDvavVOHB",
        "colab_type": "text"
      },
      "source": [
        "визуализируем предсказание"
      ]
    },
    {
      "cell_type": "code",
      "metadata": {
        "id": "5fzqmMiLVHVK",
        "colab_type": "code",
        "colab": {
          "base_uri": "https://localhost:8080/",
          "height": 0
        },
        "outputId": "e4dd3a1a-c525-4562-af01-404c9679992f"
      },
      "source": [
        "show_me(predictedV)"
      ],
      "execution_count": 24,
      "outputs": [
        {
          "output_type": "display_data",
          "data": {
            "image/png": "[encoded data removed]",
            "text/plain": [
              "<Figure size 432x288 with 1 Axes>"
            ]
          },
          "metadata": {
            "tags": [],
            "needs_background": "light"
          }
        }
      ]
    },
    {
      "cell_type": "markdown",
      "metadata": {
        "id": "P5Nqt9UDVTb_",
        "colab_type": "text"
      },
      "source": [
        "Визуализируем ошибку"
      ]
    },
    {
      "cell_type": "code",
      "metadata": {
        "id": "dIE-jhReVVn5",
        "colab_type": "code",
        "colab": {
          "base_uri": "https://localhost:8080/",
          "height": 0
        },
        "outputId": "f1dd2059-4f7b-4c24-cb4d-9cb4f1925225"
      },
      "source": [
        "show_error(predictedV)"
      ],
      "execution_count": 25,
      "outputs": [
        {
          "output_type": "display_data",
          "data": {
            "image/png": "[encoded data removed]",
            "text/plain": [
              "<Figure size 432x288 with 1 Axes>"
            ]
          },
          "metadata": {
            "tags": [],
            "needs_background": "light"
          }
        }
      ]
    },
    {
      "cell_type": "markdown",
      "metadata": {
        "id": "6WTLp17aVXAJ",
        "colab_type": "text"
      },
      "source": [
        "Выведем показатили тренировки и тестов"
      ]
    },
    {
      "cell_type": "code",
      "metadata": {
        "id": "J1d-ZWhWVatb",
        "colab_type": "code",
        "colab": {
          "base_uri": "https://localhost:8080/",
          "height": 0
        },
        "outputId": "b1889170-c0a0-4897-94f6-b8667de906c3"
      },
      "source": [
        "print('Testing')\n",
        "calc_metrics(testV, predictedV)\n",
        "print('Training')\n",
        "calc_metrics(trainV, ridgeModel.predict(trainD))"
      ],
      "execution_count": 26,
      "outputs": [
        {
          "output_type": "stream",
          "text": [
            "Testing\n",
            "MSE:   0.0051482951104008644\n",
            "RMSE:  0.07175162096009305\n",
            "R2:    0.5636864808223674\n",
            "MAE:   0.04450525113517925\n",
            "MedAE: 0.028894885541064008\n",
            "Training\n",
            "MSE:   0.005022924501513375\n",
            "RMSE:  0.07087259344424596\n",
            "R2:    0.5946200492536561\n",
            "MAE:   0.04427692192673649\n",
            "MedAE: 0.030183140247485446\n"
          ],
          "name": "stdout"
        }
      ]
    },
    {
      "cell_type": "markdown",
      "metadata": {
        "id": "cPKZHypRUV4n",
        "colab_type": "text"
      },
      "source": [
        "Лассо регрессия"
      ]
    },
    {
      "cell_type": "code",
      "metadata": {
        "id": "Q5G4XZme6y_m",
        "colab_type": "code",
        "outputId": "7dac14f0-602c-4b9e-c073-4e8483041cdb",
        "colab": {
          "base_uri": "https://localhost:8080/",
          "height": 0
        }
      },
      "source": [
        "lassoModel = linear_model.Lasso(alpha=0)\n",
        "lassoModel.fit(trainD, trainV)\n",
        "predictedV = lassoModel.predict(testD)"
      ],
      "execution_count": 27,
      "outputs": [
        {
          "output_type": "stream",
          "text": [
            "/usr/local/lib/python3.6/dist-packages/ipykernel_launcher.py:2: UserWarning: With alpha=0, this algorithm does not converge well. You are advised to use the LinearRegression estimator\n",
            "  \n",
            "/usr/local/lib/python3.6/dist-packages/sklearn/linear_model/_coordinate_descent.py:476: UserWarning: Coordinate descent with no regularization may lead to unexpected results and is discouraged.\n",
            "  positive)\n",
            "/usr/local/lib/python3.6/dist-packages/sklearn/linear_model/_coordinate_descent.py:476: ConvergenceWarning: Objective did not converge. You might want to increase the number of iterations. Duality gap: 1.8078956661725258, tolerance: 0.0009045180649299376\n",
            "  positive)\n"
          ],
          "name": "stderr"
        }
      ]
    },
    {
      "cell_type": "markdown",
      "metadata": {
        "id": "0m_X9XItV3Rp",
        "colab_type": "text"
      },
      "source": [
        "Визуализируем предсказание"
      ]
    },
    {
      "cell_type": "code",
      "metadata": {
        "id": "Y_pKbRDDV5IG",
        "colab_type": "code",
        "colab": {
          "base_uri": "https://localhost:8080/",
          "height": 0
        },
        "outputId": "f2505f0c-11d3-44d3-f577-86c490d25d21"
      },
      "source": [
        "show_me(predictedV)"
      ],
      "execution_count": 28,
      "outputs": [
        {
          "output_type": "display_data",
          "data": {
            "image/png": "[encoded data removed]",
            "text/plain": [
              "<Figure size 432x288 with 1 Axes>"
            ]
          },
          "metadata": {
            "tags": [],
            "needs_background": "light"
          }
        }
      ]
    },
    {
      "cell_type": "markdown",
      "metadata": {
        "id": "Hm9HLMozV_Ag",
        "colab_type": "text"
      },
      "source": [
        "Визуализируем ошибку"
      ]
    },
    {
      "cell_type": "code",
      "metadata": {
        "id": "syvMM2flWCxl",
        "colab_type": "code",
        "colab": {
          "base_uri": "https://localhost:8080/",
          "height": 0
        },
        "outputId": "c51366c6-44de-4af7-dd85-c3844de56b85"
      },
      "source": [
        "show_error(predictedV)"
      ],
      "execution_count": 29,
      "outputs": [
        {
          "output_type": "display_data",
          "data": {
            "image/png": "[encoded data removed]",
            "text/plain": [
              "<Figure size 432x288 with 1 Axes>"
            ]
          },
          "metadata": {
            "tags": [],
            "needs_background": "light"
          }
        }
      ]
    },
    {
      "cell_type": "markdown",
      "metadata": {
        "id": "SeE1mzHoVsQd",
        "colab_type": "text"
      },
      "source": [
        "Выведем показатили тренировки и тестов"
      ]
    },
    {
      "cell_type": "code",
      "metadata": {
        "id": "6y_pbHrlVu8-",
        "colab_type": "code",
        "colab": {
          "base_uri": "https://localhost:8080/",
          "height": 0
        },
        "outputId": "dd92067b-ceff-4db8-f02a-639516aca978"
      },
      "source": [
        "print('Testing')\n",
        "calc_metrics(testV, predictedV)\n",
        "print('Training')\n",
        "calc_metrics(trainV, ridgeModel.predict(trainD))"
      ],
      "execution_count": 30,
      "outputs": [
        {
          "output_type": "stream",
          "text": [
            "Testing\n",
            "MSE:   0.00514153834117471\n",
            "RMSE:  0.07170452106509541\n",
            "R2:    0.5642591111196048\n",
            "MAE:   0.04583626031739055\n",
            "MedAE: 0.03003458101492157\n",
            "Training\n",
            "MSE:   0.005022924501513375\n",
            "RMSE:  0.07087259344424596\n",
            "R2:    0.5946200492536561\n",
            "MAE:   0.04427692192673649\n",
            "MedAE: 0.030183140247485446\n"
          ],
          "name": "stdout"
        }
      ]
    },
    {
      "cell_type": "markdown",
      "metadata": {
        "id": "8EdWAGxSXL82",
        "colab_type": "text"
      },
      "source": [
        "Выводы:\n",
        "1. Обе регулиризации дали одинаковые результаты\n",
        "2. линейный алгоритм плохо определяет 0 результаты\n",
        "3. слишком равномерное предсказание\n",
        "4. результаты плохие, нет смысла проверять без G1 (самого коррелирующего фактора для G3)"
      ]
    },
    {
      "cell_type": "markdown",
      "metadata": {
        "id": "uir60pK9CO14",
        "colab_type": "text"
      },
      "source": [
        "## Полиномиальная регрессия"
      ]
    },
    {
      "cell_type": "markdown",
      "metadata": {
        "id": "bf0pnznea6-N",
        "colab_type": "text"
      },
      "source": [
        "Применим кросс валидацию для обнаружения лучшей степени \n",
        "\n",
        "\n",
        "\n",
        "Не будем брать слишком большую а то колаб ругается"
      ]
    },
    {
      "cell_type": "code",
      "metadata": {
        "id": "sSCliN7TF63o",
        "colab_type": "code",
        "colab": {
          "base_uri": "https://localhost:8080/",
          "height": 0
        },
        "outputId": "1f2a38d4-f689-49a9-af18-7e00b2427105"
      },
      "source": [
        "rmses = []\n",
        "degrees = np.arange(1, 6)\n",
        "min_rmse, min_deg = 1e10, 0\n",
        "\n",
        "for deg in degrees:\n",
        "\n",
        "    poly_features = PolynomialFeatures(degree=deg, include_bias=False)\n",
        "    d_poly_train = poly_features.fit_transform(trainD)\n",
        "\n",
        "    poly_reg = linear_model.LinearRegression()\n",
        "    poly_reg.fit(d_poly_train, trainV)\n",
        "\n",
        "    # Compare with test data\n",
        "    d_poly_test = poly_features.fit_transform(testD)\n",
        "    poly_predict = poly_reg.predict(d_poly_test)\n",
        "    poly_mse = mean_squared_error(testV, poly_predict)\n",
        "    poly_rmse = np.sqrt(poly_mse)\n",
        "    rmses.append(poly_rmse)\n",
        "\n",
        "    # Cross-validation of degree\n",
        "    if min_rmse > poly_rmse:\n",
        "        min_rmse = poly_rmse\n",
        "        min_deg = deg\n",
        "\n",
        "# Plot and present results\n",
        "print('Best degree {} with RMSE {}'.format(min_deg, min_rmse))\n"
      ],
      "execution_count": 31,
      "outputs": [
        {
          "output_type": "stream",
          "text": [
            "Best degree 2 with RMSE 0.04429528627154887\n"
          ],
          "name": "stdout"
        }
      ]
    },
    {
      "cell_type": "markdown",
      "metadata": {
        "id": "5PyqQa6qbfd9",
        "colab_type": "text"
      },
      "source": [
        "отразим результаты на графике"
      ]
    },
    {
      "cell_type": "code",
      "metadata": {
        "id": "Q6Al_ULEgz2m",
        "colab_type": "code",
        "colab": {
          "base_uri": "https://localhost:8080/",
          "height": 0
        },
        "outputId": "72b87b0f-38d3-42fc-813d-089b1f5d4105"
      },
      "source": [
        "fig = plt.figure()\n",
        "ax = fig.add_subplot(111)\n",
        "ax.plot(degrees, rmses)\n",
        "ax.set_yscale('log')\n",
        "ax.set_xlabel('Degree')\n",
        "ax.set_ylabel('RMSE')"
      ],
      "execution_count": 32,
      "outputs": [
        {
          "output_type": "execute_result",
          "data": {
            "text/plain": [
              "Text(0, 0.5, 'RMSE')"
            ]
          },
          "metadata": {
            "tags": []
          },
          "execution_count": 32
        },
        {
          "output_type": "display_data",
          "data": {
            "image/png": "[encoded data removed]",
            "text/plain": [
              "<Figure size 432x288 with 1 Axes>"
            ]
          },
          "metadata": {
            "tags": [],
            "needs_background": "light"
          }
        }
      ]
    },
    {
      "cell_type": "markdown",
      "metadata": {
        "id": "P8wsiy2TcHPn",
        "colab_type": "text"
      },
      "source": [
        "Рассчитаем показатели для степени 5"
      ]
    },
    {
      "cell_type": "code",
      "metadata": {
        "id": "7LN5kD23cMMb",
        "colab_type": "code",
        "colab": {
          "base_uri": "https://localhost:8080/",
          "height": 0
        },
        "outputId": "566aba4a-6474-4045-bc2b-ccb32f9fe970"
      },
      "source": [
        "poly_features = PolynomialFeatures(degree=5, include_bias=False)\n",
        "d_poly_train = poly_features.fit_transform(trainD)\n",
        "\n",
        "poly_reg = linear_model.LinearRegression()\n",
        "poly_reg.fit(d_poly_train, trainV)\n",
        "\n",
        "d_poly_test = poly_features.fit_transform(testD)\n",
        "poly_predict = poly_reg.predict(d_poly_test)\n",
        "\n",
        "print('Testing')\n",
        "calc_metrics(testV, poly_predict)"
      ],
      "execution_count": 33,
      "outputs": [
        {
          "output_type": "stream",
          "text": [
            "Testing\n",
            "MSE:   0.008839043631184533\n",
            "RMSE:  0.09401618813366416\n",
            "R2:    0.2508987635352403\n",
            "MAE:   0.05746802355503614\n",
            "MedAE: 0.035301905514955295\n"
          ],
          "name": "stdout"
        }
      ]
    },
    {
      "cell_type": "code",
      "metadata": {
        "id": "KlwBQuZHfW-g",
        "colab_type": "code",
        "colab": {
          "base_uri": "https://localhost:8080/",
          "height": 0
        },
        "outputId": "7673aecc-ad01-4346-a35d-e0a373bd7a1d"
      },
      "source": [
        "show_me(poly_predict)"
      ],
      "execution_count": 34,
      "outputs": [
        {
          "output_type": "display_data",
          "data": {
            "image/png": "[encoded data removed]",
            "text/plain": [
              "<Figure size 432x288 with 1 Axes>"
            ]
          },
          "metadata": {
            "tags": [],
            "needs_background": "light"
          }
        }
      ]
    },
    {
      "cell_type": "markdown",
      "metadata": {
        "id": "r7GC8LALc5ns",
        "colab_type": "text"
      },
      "source": [
        "И конечно же визуализируем ошибку"
      ]
    },
    {
      "cell_type": "code",
      "metadata": {
        "id": "wxKi4XRCc8wQ",
        "colab_type": "code",
        "colab": {
          "base_uri": "https://localhost:8080/",
          "height": 0
        },
        "outputId": "bddf7dfc-2207-4e1b-e0ff-f7130f14890a"
      },
      "source": [
        "show_error(poly_predict)"
      ],
      "execution_count": 35,
      "outputs": [
        {
          "output_type": "display_data",
          "data": {
            "image/png": "[encoded data removed]",
            "text/plain": [
              "<Figure size 432x288 with 1 Axes>"
            ]
          },
          "metadata": {
            "tags": [],
            "needs_background": "light"
          }
        }
      ]
    },
    {
      "cell_type": "markdown",
      "metadata": {
        "id": "I39G8450RFlA",
        "colab_type": "text"
      },
      "source": [
        "Как мы видим, в целом данные предсказываются довольно неплохо, \n",
        "Так что здесь уже представляет интерес проверить, как будет работать алгоритм на тренеровочных данных без G1"
      ]
    },
    {
      "cell_type": "code",
      "metadata": {
        "id": "qyRiqNNQRZxm",
        "colab_type": "code",
        "colab": {}
      },
      "source": [
        "poly_features = PolynomialFeatures(degree=5, include_bias=False)\n",
        "d_poly_train = poly_features.fit_transform(trainD1)\n",
        "\n",
        "poly_reg = linear_model.LinearRegression()\n",
        "poly_reg.fit(d_poly_train, trainV1)\n",
        "\n",
        "d_poly_test = poly_features.fit_transform(testD1)\n",
        "poly_predict = poly_reg.predict(d_poly_test)\n"
      ],
      "execution_count": 0,
      "outputs": []
    },
    {
      "cell_type": "code",
      "metadata": {
        "id": "CEpwJsnhRg7I",
        "colab_type": "code",
        "colab": {
          "base_uri": "https://localhost:8080/",
          "height": 0
        },
        "outputId": "2f004201-fcc7-4f29-8116-7cf8eac83ecb"
      },
      "source": [
        "show_me(poly_predict)"
      ],
      "execution_count": 37,
      "outputs": [
        {
          "output_type": "display_data",
          "data": {
            "image/png": "[encoded data removed]",
            "text/plain": [
              "<Figure size 432x288 with 1 Axes>"
            ]
          },
          "metadata": {
            "tags": [],
            "needs_background": "light"
          }
        }
      ]
    },
    {
      "cell_type": "code",
      "metadata": {
        "id": "8Gm2v6mqRorX",
        "colab_type": "code",
        "colab": {
          "base_uri": "https://localhost:8080/",
          "height": 0
        },
        "outputId": "7ac46145-a52c-412d-eec2-507821fc8c46"
      },
      "source": [
        "show_error(poly_predict)"
      ],
      "execution_count": 38,
      "outputs": [
        {
          "output_type": "display_data",
          "data": {
            "image/png": "[encoded data removed]",
            "text/plain": [
              "<Figure size 432x288 with 1 Axes>"
            ]
          },
          "metadata": {
            "tags": [],
            "needs_background": "light"
          }
        }
      ]
    },
    {
      "cell_type": "code",
      "metadata": {
        "id": "elSJhFKARkU3",
        "colab_type": "code",
        "colab": {
          "base_uri": "https://localhost:8080/",
          "height": 0
        },
        "outputId": "f67093fb-7687-4b48-9dbf-31e4b170e8cf"
      },
      "source": [
        "print('Testing')\n",
        "calc_metrics(testV1, poly_predict)"
      ],
      "execution_count": 39,
      "outputs": [
        {
          "output_type": "stream",
          "text": [
            "Testing\n",
            "MSE:   204461007806.6179\n",
            "RMSE:  452173.64784628694\n",
            "R2:    -17327892037595.252\n",
            "MAE:   263965.77363178146\n",
            "MedAE: 149938.71710394733\n"
          ],
          "name": "stdout"
        }
      ]
    },
    {
      "cell_type": "markdown",
      "metadata": {
        "id": "DcljCMByVAXT",
        "colab_type": "text"
      },
      "source": [
        "Получили вполне ожидаемые результаты:\n",
        "1. Полиномиальная регрессия большой степени предсказывает данные лучше, чем линейная\n",
        "2. Мы взяли степень недостаточно большую, чтобы модель переучивалась \n",
        "3. При исключении признака G1, ошибка предсказания возрастает\n",
        "4. Для Полиномиальной регрессии так же трудно определить кто завалил итоговый экзамен "
      ]
    },
    {
      "cell_type": "markdown",
      "metadata": {
        "id": "-YKQtStDCU9m",
        "colab_type": "text"
      },
      "source": [
        "## К соседей"
      ]
    },
    {
      "cell_type": "markdown",
      "metadata": {
        "id": "KMWRWAftcaFB",
        "colab_type": "text"
      },
      "source": [
        "### С G1"
      ]
    },
    {
      "cell_type": "markdown",
      "metadata": {
        "id": "JLhlTyCMb7z-",
        "colab_type": "text"
      },
      "source": [
        "Начнем кросс валидацию"
      ]
    },
    {
      "cell_type": "code",
      "metadata": {
        "id": "RFs7VHkhJdDn",
        "colab_type": "code",
        "colab": {
          "base_uri": "https://localhost:8080/",
          "height": 0
        },
        "outputId": "ad7363a4-a5b1-4ba0-f701-9afa47a6a978"
      },
      "source": [
        "knn2 = KNeighborsRegressor()\n",
        "\n",
        "param_grid = {'n_neighbors': np.arange(1, 25)}\n",
        "\n",
        "knn_gscv = GridSearchCV(knn2, param_grid, cv=5,scoring='explained_variance')\n",
        "\n",
        "knn_gscv.fit(trainD, trainV)\n",
        "knn_gscv.best_params_"
      ],
      "execution_count": 40,
      "outputs": [
        {
          "output_type": "execute_result",
          "data": {
            "text/plain": [
              "{'n_neighbors': 8}"
            ]
          },
          "metadata": {
            "tags": []
          },
          "execution_count": 40
        }
      ]
    },
    {
      "cell_type": "markdown",
      "metadata": {
        "id": "7o6ahQ9gdiF6",
        "colab_type": "text"
      },
      "source": [
        "вычислили лучшие параметры, теперь можно и посмотреть а что там с данными "
      ]
    },
    {
      "cell_type": "code",
      "metadata": {
        "id": "7mKpHgyPAsHC",
        "colab_type": "code",
        "colab": {}
      },
      "source": [
        "knn = KNeighborsRegressor(n_neighbors=8)\n",
        "knn.fit(trainD, trainV)\n",
        "predictedV = knn.predict(testD)"
      ],
      "execution_count": 0,
      "outputs": []
    },
    {
      "cell_type": "markdown",
      "metadata": {
        "id": "Wq1a98KmeTV5",
        "colab_type": "text"
      },
      "source": [
        "Визуализация!"
      ]
    },
    {
      "cell_type": "code",
      "metadata": {
        "id": "rzh1lalieVQB",
        "colab_type": "code",
        "colab": {
          "base_uri": "https://localhost:8080/",
          "height": 0
        },
        "outputId": "8b4fa858-8492-47d5-8d74-764e55bb5150"
      },
      "source": [
        "show_me(predictedV)"
      ],
      "execution_count": 42,
      "outputs": [
        {
          "output_type": "display_data",
          "data": {
            "image/png": "[encoded data removed]",
            "text/plain": [
              "<Figure size 432x288 with 1 Axes>"
            ]
          },
          "metadata": {
            "tags": [],
            "needs_background": "light"
          }
        }
      ]
    },
    {
      "cell_type": "code",
      "metadata": {
        "id": "u0gzcwQkfpkF",
        "colab_type": "code",
        "colab": {
          "base_uri": "https://localhost:8080/",
          "height": 0
        },
        "outputId": "23ed3a73-621e-40f7-dddc-5a5a53f581b3"
      },
      "source": [
        "show_error(predictedV)"
      ],
      "execution_count": 43,
      "outputs": [
        {
          "output_type": "display_data",
          "data": {
            "image/png": "[encoded data removed]",
            "text/plain": [
              "<Figure size 432x288 with 1 Axes>"
            ]
          },
          "metadata": {
            "tags": [],
            "needs_background": "light"
          }
        }
      ]
    },
    {
      "cell_type": "code",
      "metadata": {
        "id": "w_v86Agffy6O",
        "colab_type": "code",
        "colab": {
          "base_uri": "https://localhost:8080/",
          "height": 0
        },
        "outputId": "3f1842e8-e767-402d-d95e-c5abef5f83a2"
      },
      "source": [
        "print('Testing')\n",
        "calc_metrics(testV, predictedV)"
      ],
      "execution_count": 44,
      "outputs": [
        {
          "output_type": "stream",
          "text": [
            "Testing\n",
            "MSE:   0.002753240422277652\n",
            "RMSE:  0.05247132952649144\n",
            "R2:    0.7666652761689611\n",
            "MAE:   0.02976281857300427\n",
            "MedAE: 0.01905919738891078\n"
          ],
          "name": "stdout"
        }
      ]
    },
    {
      "cell_type": "markdown",
      "metadata": {
        "id": "SVuePLUFcd7X",
        "colab_type": "text"
      },
      "source": [
        "### Без G1"
      ]
    },
    {
      "cell_type": "code",
      "metadata": {
        "id": "314-IDRZcSgf",
        "colab_type": "code",
        "colab": {
          "base_uri": "https://localhost:8080/",
          "height": 0
        },
        "outputId": "8e24e6d5-d9d7-4211-ebe2-55ad8feaca84"
      },
      "source": [
        "knn2 = KNeighborsRegressor()\n",
        "\n",
        "param_grid = {'n_neighbors': np.arange(1, 25)}\n",
        "\n",
        "knn_gscv = GridSearchCV(knn2, param_grid, cv=5, scoring='explained_variance')\n",
        "\n",
        "knn_gscv.fit(trainD1, trainV1)\n",
        "knn_gscv.best_params_"
      ],
      "execution_count": 45,
      "outputs": [
        {
          "output_type": "execute_result",
          "data": {
            "text/plain": [
              "{'n_neighbors': 6}"
            ]
          },
          "metadata": {
            "tags": []
          },
          "execution_count": 45
        }
      ]
    },
    {
      "cell_type": "code",
      "metadata": {
        "id": "9mDPXDkceHst",
        "colab_type": "code",
        "colab": {}
      },
      "source": [
        "knn = KNeighborsRegressor(n_neighbors=2)\n",
        "knn.fit(trainD1, trainV1)\n",
        "predictedV = knn.predict(testD1)"
      ],
      "execution_count": 0,
      "outputs": []
    },
    {
      "cell_type": "code",
      "metadata": {
        "id": "W6S7vZZDeLrH",
        "colab_type": "code",
        "colab": {
          "base_uri": "https://localhost:8080/",
          "height": 0
        },
        "outputId": "5d80ec8a-10e4-4908-8e02-fe2796c4a111"
      },
      "source": [
        "show_me(predictedV)"
      ],
      "execution_count": 47,
      "outputs": [
        {
          "output_type": "display_data",
          "data": {
            "image/png": "[encoded data removed]",
            "text/plain": [
              "<Figure size 432x288 with 1 Axes>"
            ]
          },
          "metadata": {
            "tags": [],
            "needs_background": "light"
          }
        }
      ]
    },
    {
      "cell_type": "code",
      "metadata": {
        "id": "YOEdLFIPeNMW",
        "colab_type": "code",
        "colab": {
          "base_uri": "https://localhost:8080/",
          "height": 0
        },
        "outputId": "ba5aed33-4785-410b-a61a-0a8a1110ef91"
      },
      "source": [
        "show_error(predictedV)"
      ],
      "execution_count": 48,
      "outputs": [
        {
          "output_type": "display_data",
          "data": {
            "image/png": "[encoded data removed]",
            "text/plain": [
              "<Figure size 432x288 with 1 Axes>"
            ]
          },
          "metadata": {
            "tags": [],
            "needs_background": "light"
          }
        }
      ]
    },
    {
      "cell_type": "code",
      "metadata": {
        "id": "eP9ihZx3eOYn",
        "colab_type": "code",
        "colab": {
          "base_uri": "https://localhost:8080/",
          "height": 0
        },
        "outputId": "b98e5d8a-cf34-42b5-c7e5-a3ccd305e833"
      },
      "source": [
        "print('Testing')\n",
        "calc_metrics(testV, predictedV)"
      ],
      "execution_count": 49,
      "outputs": [
        {
          "output_type": "stream",
          "text": [
            "Testing\n",
            "MSE:   0.0026258355815493547\n",
            "RMSE:  0.051242907621927104\n",
            "R2:    0.7774627252713109\n",
            "MAE:   0.030471764609700493\n",
            "MedAE: 0.02039566852209518\n"
          ],
          "name": "stdout"
        }
      ]
    },
    {
      "cell_type": "markdown",
      "metadata": {
        "id": "pNB7H963YX2C",
        "colab_type": "text"
      },
      "source": [
        ""
      ]
    },
    {
      "cell_type": "markdown",
      "metadata": {
        "id": "zus-7kA_QofW",
        "colab_type": "text"
      },
      "source": [
        "## радиус"
      ]
    },
    {
      "cell_type": "markdown",
      "metadata": {
        "id": "hV6zLTA8MP9Q",
        "colab_type": "text"
      },
      "source": [
        "Кросс валидация"
      ]
    },
    {
      "cell_type": "code",
      "metadata": {
        "id": "GV5SF59DCmDQ",
        "colab_type": "code",
        "colab": {
          "base_uri": "https://localhost:8080/",
          "height": 0
        },
        "outputId": "b2ee12ab-c146-4331-a263-33be1a10ee60"
      },
      "source": [
        "rnr = RadiusNeighborsRegressor()\n",
        "param_grid = {'radius': np.arange(0.3,1.1, 0.01)}\n",
        "rnr_gscv = GridSearchCV(rnr, param_grid, cv=5)\n",
        "rnr_gscv.fit(trainD, trainV)\n",
        "rnr_gscv.best_params_"
      ],
      "execution_count": 50,
      "outputs": [
        {
          "output_type": "execute_result",
          "data": {
            "text/plain": [
              "{'radius': 0.3}"
            ]
          },
          "metadata": {
            "tags": []
          },
          "execution_count": 50
        }
      ]
    },
    {
      "cell_type": "markdown",
      "metadata": {
        "id": "_ILT8eMyMUIP",
        "colab_type": "text"
      },
      "source": [
        "Предсказание"
      ]
    },
    {
      "cell_type": "code",
      "metadata": {
        "id": "wRgMjhGRMVa3",
        "colab_type": "code",
        "colab": {}
      },
      "source": [
        "rnr = RadiusNeighborsRegressor(radius = rnr_gscv.best_params_['radius'])\n",
        "rnr.fit(trainD, trainV)\n",
        "predictedV = rnr.predict(testD)"
      ],
      "execution_count": 0,
      "outputs": []
    },
    {
      "cell_type": "markdown",
      "metadata": {
        "id": "6zxDkGe6MVmf",
        "colab_type": "text"
      },
      "source": [
        "Визуалия"
      ]
    },
    {
      "cell_type": "code",
      "metadata": {
        "id": "JOoqMP4jQdm6",
        "colab_type": "code",
        "colab": {
          "base_uri": "https://localhost:8080/",
          "height": 0
        },
        "outputId": "a2c730dd-ea35-44ff-a121-394a60cdaed5"
      },
      "source": [
        "show_me(predictedV)"
      ],
      "execution_count": 52,
      "outputs": [
        {
          "output_type": "display_data",
          "data": {
            "image/png": "[encoded data removed]",
            "text/plain": [
              "<Figure size 432x288 with 1 Axes>"
            ]
          },
          "metadata": {
            "tags": [],
            "needs_background": "light"
          }
        }
      ]
    },
    {
      "cell_type": "code",
      "metadata": {
        "id": "6bpoBajUQeFA",
        "colab_type": "code",
        "colab": {
          "base_uri": "https://localhost:8080/",
          "height": 0
        },
        "outputId": "03292d9f-8141-4f75-e341-68a4d88ad1eb"
      },
      "source": [
        "show_error(predictedV)"
      ],
      "execution_count": 53,
      "outputs": [
        {
          "output_type": "display_data",
          "data": {
            "image/png": "[encoded data removed]",
            "text/plain": [
              "<Figure size 432x288 with 1 Axes>"
            ]
          },
          "metadata": {
            "tags": [],
            "needs_background": "light"
          }
        }
      ]
    },
    {
      "cell_type": "code",
      "metadata": {
        "id": "EYjvxTejQjuE",
        "colab_type": "code",
        "colab": {
          "base_uri": "https://localhost:8080/",
          "height": 0
        },
        "outputId": "a9b4104a-95a6-4a5d-aa6c-cbf3c53d22d2"
      },
      "source": [
        "print('Testing')\n",
        "calc_metrics(testV, predictedV)"
      ],
      "execution_count": 54,
      "outputs": [
        {
          "output_type": "stream",
          "text": [
            "Testing\n",
            "MSE:   0.005933616162515881\n",
            "RMSE:  0.07702996924909085\n",
            "R2:    0.49713120677827627\n",
            "MAE:   0.04170501565390141\n",
            "MedAE: 0.02612221788506436\n"
          ],
          "name": "stdout"
        }
      ]
    },
    {
      "cell_type": "markdown",
      "metadata": {
        "id": "pRtgeteqb4tF",
        "colab_type": "text"
      },
      "source": [
        "Как видно невооруженным глазом, метрика просто ужасно предсказала значения\n",
        "\n",
        "\n",
        "Пробовать без G1 бессмысленно "
      ]
    },
    {
      "cell_type": "markdown",
      "metadata": {
        "id": "jFNqZaEZQ0V5",
        "colab_type": "text"
      },
      "source": [
        "## деревья решений"
      ]
    },
    {
      "cell_type": "markdown",
      "metadata": {
        "id": "uDI6nb3cjOra",
        "colab_type": "text"
      },
      "source": [
        "### C G1"
      ]
    },
    {
      "cell_type": "markdown",
      "metadata": {
        "id": "gVpMlUe8Mrvn",
        "colab_type": "text"
      },
      "source": [
        "Кросс валидация"
      ]
    },
    {
      "cell_type": "code",
      "metadata": {
        "id": "1NRhn3yHMwVe",
        "colab_type": "code",
        "colab": {
          "base_uri": "https://localhost:8080/",
          "height": 0
        },
        "outputId": "509e22c0-8885-4874-a39c-64aede807b2e"
      },
      "source": [
        "from sklearn.tree import DecisionTreeRegressor\n",
        "reg_tree = DecisionTreeRegressor()\n",
        "\n",
        "param_grid = {'max_depth': np.arange(1, 100)}\n",
        "\n",
        "reg_tree_gscv = GridSearchCV(reg_tree, param_grid, cv=5)\n",
        "\n",
        "reg_tree_gscv.fit(trainD, trainV)\n",
        "reg_tree_gscv.best_params_"
      ],
      "execution_count": 55,
      "outputs": [
        {
          "output_type": "execute_result",
          "data": {
            "text/plain": [
              "{'max_depth': 93}"
            ]
          },
          "metadata": {
            "tags": []
          },
          "execution_count": 55
        }
      ]
    },
    {
      "cell_type": "markdown",
      "metadata": {
        "id": "X82Y7X-QMuF3",
        "colab_type": "text"
      },
      "source": [
        "Предсказание"
      ]
    },
    {
      "cell_type": "code",
      "metadata": {
        "id": "5aAK7DFbMwtH",
        "colab_type": "code",
        "colab": {}
      },
      "source": [
        "reg_tree = DecisionTreeRegressor(max_depth = reg_tree_gscv.best_params_['max_depth'])\n",
        "reg_tree.fit(trainD, trainV)\n",
        "predictedV = reg_tree.predict(testD)"
      ],
      "execution_count": 0,
      "outputs": []
    },
    {
      "cell_type": "markdown",
      "metadata": {
        "id": "7Q70yqeSMvIR",
        "colab_type": "text"
      },
      "source": [
        "Визуал"
      ]
    },
    {
      "cell_type": "code",
      "metadata": {
        "id": "5EzZECIfMxOQ",
        "colab_type": "code",
        "colab": {
          "base_uri": "https://localhost:8080/",
          "height": 0
        },
        "outputId": "1f6ae1e8-09b6-4bc3-f952-37c0ca8467f4"
      },
      "source": [
        "show_me(predictedV)"
      ],
      "execution_count": 57,
      "outputs": [
        {
          "output_type": "display_data",
          "data": {
            "image/png": "[encoded data removed]",
            "text/plain": [
              "<Figure size 432x288 with 1 Axes>"
            ]
          },
          "metadata": {
            "tags": [],
            "needs_background": "light"
          }
        }
      ]
    },
    {
      "cell_type": "code",
      "metadata": {
        "id": "ixHe271fjkEF",
        "colab_type": "code",
        "colab": {
          "base_uri": "https://localhost:8080/",
          "height": 0
        },
        "outputId": "f745bc9a-0d6e-47c6-c80c-dfe6f3e3ec3a"
      },
      "source": [
        "show_error(predictedV)"
      ],
      "execution_count": 58,
      "outputs": [
        {
          "output_type": "display_data",
          "data": {
            "image/png": "[encoded data removed]",
            "text/plain": [
              "<Figure size 432x288 with 1 Axes>"
            ]
          },
          "metadata": {
            "tags": [],
            "needs_background": "light"
          }
        }
      ]
    },
    {
      "cell_type": "code",
      "metadata": {
        "id": "julglYE6jm5P",
        "colab_type": "code",
        "colab": {
          "base_uri": "https://localhost:8080/",
          "height": 0
        },
        "outputId": "cb690c12-89b6-4eba-8aa8-09a1a4f91110"
      },
      "source": [
        "print('Testing')\n",
        "calc_metrics(testV, predictedV)"
      ],
      "execution_count": 59,
      "outputs": [
        {
          "output_type": "stream",
          "text": [
            "Testing\n",
            "MSE:   0.003611392704789482\n",
            "RMSE:  0.060094864213087976\n",
            "R2:    0.6939376188875003\n",
            "MAE:   0.034198888453825\n",
            "MedAE: 0.02494768246111176\n"
          ],
          "name": "stdout"
        }
      ]
    },
    {
      "cell_type": "markdown",
      "metadata": {
        "id": "mrbcJdkjlC69",
        "colab_type": "text"
      },
      "source": [
        "### Без G1"
      ]
    },
    {
      "cell_type": "code",
      "metadata": {
        "id": "eZOUPwlWlKP9",
        "colab_type": "code",
        "colab": {
          "base_uri": "https://localhost:8080/",
          "height": 0
        },
        "outputId": "9c620ab9-35ba-4d88-ebc0-ccd48a75814a"
      },
      "source": [
        "from sklearn.tree import DecisionTreeRegressor\n",
        "reg_tree = DecisionTreeRegressor()\n",
        "\n",
        "param_grid = {'max_depth': np.arange(1, 100)}\n",
        "\n",
        "reg_tree_gscv = GridSearchCV(reg_tree, param_grid, cv=5)\n",
        "\n",
        "reg_tree_gscv.fit(trainD1, trainV1)\n",
        "reg_tree_gscv.best_params_"
      ],
      "execution_count": 60,
      "outputs": [
        {
          "output_type": "execute_result",
          "data": {
            "text/plain": [
              "{'max_depth': 57}"
            ]
          },
          "metadata": {
            "tags": []
          },
          "execution_count": 60
        }
      ]
    },
    {
      "cell_type": "code",
      "metadata": {
        "id": "a074fPALlVUt",
        "colab_type": "code",
        "colab": {}
      },
      "source": [
        "reg_tree = DecisionTreeRegressor(max_depth = reg_tree_gscv.best_params_['max_depth'])\n",
        "reg_tree.fit(trainD1, trainV1)\n",
        "predictedV = reg_tree.predict(testD1)"
      ],
      "execution_count": 0,
      "outputs": []
    },
    {
      "cell_type": "code",
      "metadata": {
        "id": "kehQtPSblYld",
        "colab_type": "code",
        "colab": {
          "base_uri": "https://localhost:8080/",
          "height": 0
        },
        "outputId": "0bb6f9b5-6086-42ec-c4d6-d5d22c734021"
      },
      "source": [
        "show_me(predictedV)"
      ],
      "execution_count": 62,
      "outputs": [
        {
          "output_type": "display_data",
          "data": {
            "image/png": "[encoded data removed]",
            "text/plain": [
              "<Figure size 432x288 with 1 Axes>"
            ]
          },
          "metadata": {
            "tags": [],
            "needs_background": "light"
          }
        }
      ]
    },
    {
      "cell_type": "code",
      "metadata": {
        "id": "LKRoST7PlbW1",
        "colab_type": "code",
        "colab": {
          "base_uri": "https://localhost:8080/",
          "height": 0
        },
        "outputId": "4c48771b-4fb7-49a5-964e-ffae3bafb9d4"
      },
      "source": [
        "show_error(predictedV)"
      ],
      "execution_count": 63,
      "outputs": [
        {
          "output_type": "display_data",
          "data": {
            "image/png": "[encoded data removed]",
            "text/plain": [
              "<Figure size 432x288 with 1 Axes>"
            ]
          },
          "metadata": {
            "tags": [],
            "needs_background": "light"
          }
        }
      ]
    },
    {
      "cell_type": "code",
      "metadata": {
        "id": "9J_ESA6_lcnl",
        "colab_type": "code",
        "colab": {
          "base_uri": "https://localhost:8080/",
          "height": 0
        },
        "outputId": "4f7d38df-7c24-4cbd-a565-1c7f33bff8a3"
      },
      "source": [
        "print('Testing')\n",
        "calc_metrics(testV, predictedV)"
      ],
      "execution_count": 64,
      "outputs": [
        {
          "output_type": "stream",
          "text": [
            "Testing\n",
            "MSE:   0.004160647988421889\n",
            "RMSE:  0.06450308510778294\n",
            "R2:    0.6473887127759576\n",
            "MAE:   0.036072792171096095\n",
            "MedAE: 0.02380180171051524\n"
          ],
          "name": "stdout"
        }
      ]
    },
    {
      "cell_type": "markdown",
      "metadata": {
        "id": "p1DQafmhjot-",
        "colab_type": "text"
      },
      "source": [
        "Выводы:\n",
        "1. Как же хорошо Деревья Решений апроксимируют значения!!!\n",
        "2. Конечно, камнем преткновения до сих пор остаются 0 \n",
        "3. Результат без G1 конечно хуже, но совсем ненамного!!!"
      ]
    },
    {
      "cell_type": "markdown",
      "metadata": {
        "id": "sMDzBYXXkoOs",
        "colab_type": "text"
      },
      "source": [
        "# Часть 3. Классификация"
      ]
    },
    {
      "cell_type": "markdown",
      "metadata": {
        "id": "UFmwao4jkoOt",
        "colab_type": "text"
      },
      "source": [
        "### Бинарная классификация\n",
        "  \n",
        "* Решите задачу бинарной классификации: постройте модель, предсказывающую, сдаст студент предмет (`G3` >= 8) или не сдаст (`G3` < 8). <br>При решении задачи **нельзя** использовать признаки `G1` и `G2`.  \n",
        "  \n",
        "\n",
        "* При решении задачи рассмотрите различные модели:  \n",
        "  * KNN и  Radius Neighbors;  \n",
        "  * Логистическая регрессия;  \n",
        "  * Деревья решений.  \n",
        "  \n",
        "  На кросс-валидации подберите оптимальные значения гиперпараметров алгоритмов.  \n",
        "\n",
        "\n",
        "* Оцените качество моделей, используйте различные подходы: confusion matrix и производные метрики, roc-кривая и roc auc. <br>Сделайте вывод о качестве решения задачи.  \n",
        "  \n",
        "  \n",
        "* Постройте дерево решений глубины 5 (остальные параметры по умолчанию), оцените качество на 5-fold валидации.\n",
        "  * Для одного из деревьев (т.е. обученного на одной из итераций кросс-валидации) выведите само дерево - постройте график или выведите в текстовом виде. По структуре дерева сформулируйте правила, по которым принимается решение.\n",
        "  * Сравните между собой деревья решений, полученные на различных итерациях 5-fold валидации. Сделайте вывод, насколько сильно они похожи или различаются между собой. \n"
      ]
    },
    {
      "cell_type": "markdown",
      "metadata": {
        "id": "arm-zkGvNYJB",
        "colab_type": "text"
      },
      "source": [
        "1. к каждой модели применить оценку\n",
        "2. сделать вывод на основании всех оценок\n",
        "3. сформулировать правило на основании которых принимается решение\n",
        "4. сравнить деревья на различных итерациях \n",
        "5. сделать выводы"
      ]
    },
    {
      "cell_type": "markdown",
      "metadata": {
        "id": "yY5hFmTfmX1h",
        "colab_type": "text"
      },
      "source": [
        "## Бинарная классификация"
      ]
    },
    {
      "cell_type": "markdown",
      "metadata": {
        "id": "qekdBL0x4pDb",
        "colab_type": "text"
      },
      "source": [
        "### Подготовка данных"
      ]
    },
    {
      "cell_type": "code",
      "metadata": {
        "id": "DGF4ljA-pXA6",
        "colab_type": "code",
        "colab": {}
      },
      "source": [
        "def leave_bin(frame, norm):\n",
        "  for seria in frame.columns.tolist():\n",
        "    if (frame[seria].max() == 1) & (frame[seria].min() == 0):\n",
        "      norm[seria] = frame[seria]"
      ],
      "execution_count": 0,
      "outputs": []
    },
    {
      "cell_type": "code",
      "metadata": {
        "id": "wEqRmS9o4sCB",
        "colab_type": "code",
        "colab": {
          "base_uri": "https://localhost:8080/",
          "height": 427
        },
        "outputId": "53f08402-c8e6-4636-e300-238a30142872"
      },
      "source": [
        "data_bin = data.copy()\n",
        "data_bin.drop(['G1'], axis='columns', inplace=True)\n",
        "data_bin.drop(['G2'], axis='columns', inplace=True)\n",
        "data_bin.drop(['G3'], axis='columns', inplace=True)\n",
        "data_bin['Pass'] = np.where((data['G3'] > 8),1,0)\n",
        "#leave_bin(data, data_bin)\n",
        "data_norm['is anybody home'] = np.where((data['Mjob'] == 3)|(data['Fjob'] == 3),1,0)\n",
        "data_bin"
      ],
      "execution_count": 234,
      "outputs": [
        {
          "output_type": "execute_result",
          "data": {
            "text/html": [
              "<div>\n",
              "<style scoped>\n",
              "    .dataframe tbody tr th:only-of-type {\n",
              "        vertical-align: middle;\n",
              "    }\n",
              "\n",
              "    .dataframe tbody tr th {\n",
              "        vertical-align: top;\n",
              "    }\n",
              "\n",
              "    .dataframe thead th {\n",
              "        text-align: right;\n",
              "    }\n",
              "</style>\n",
              "<table border=\"1\" class=\"dataframe\">\n",
              "  <thead>\n",
              "    <tr style=\"text-align: right;\">\n",
              "      <th></th>\n",
              "      <th>Subject</th>\n",
              "      <th>school</th>\n",
              "      <th>sex</th>\n",
              "      <th>age</th>\n",
              "      <th>address</th>\n",
              "      <th>famsize</th>\n",
              "      <th>Pstatus</th>\n",
              "      <th>Medu</th>\n",
              "      <th>Fedu</th>\n",
              "      <th>Mjob</th>\n",
              "      <th>Fjob</th>\n",
              "      <th>reason</th>\n",
              "      <th>guardian</th>\n",
              "      <th>traveltime</th>\n",
              "      <th>studytime</th>\n",
              "      <th>failures</th>\n",
              "      <th>schoolsup</th>\n",
              "      <th>famsup</th>\n",
              "      <th>paid</th>\n",
              "      <th>activities</th>\n",
              "      <th>nursery</th>\n",
              "      <th>higher</th>\n",
              "      <th>internet</th>\n",
              "      <th>romantic</th>\n",
              "      <th>famrel</th>\n",
              "      <th>freetime</th>\n",
              "      <th>goout</th>\n",
              "      <th>Dalc</th>\n",
              "      <th>Walc</th>\n",
              "      <th>health</th>\n",
              "      <th>absences</th>\n",
              "      <th>Pass</th>\n",
              "    </tr>\n",
              "  </thead>\n",
              "  <tbody>\n",
              "    <tr>\n",
              "      <th>0</th>\n",
              "      <td>1</td>\n",
              "      <td>1</td>\n",
              "      <td>1</td>\n",
              "      <td>16</td>\n",
              "      <td>1</td>\n",
              "      <td>0</td>\n",
              "      <td>0</td>\n",
              "      <td>3</td>\n",
              "      <td>4</td>\n",
              "      <td>2</td>\n",
              "      <td>0</td>\n",
              "      <td>2</td>\n",
              "      <td>1</td>\n",
              "      <td>1</td>\n",
              "      <td>1</td>\n",
              "      <td>0</td>\n",
              "      <td>0</td>\n",
              "      <td>0</td>\n",
              "      <td>1</td>\n",
              "      <td>0</td>\n",
              "      <td>1</td>\n",
              "      <td>1</td>\n",
              "      <td>1</td>\n",
              "      <td>1</td>\n",
              "      <td>3.0</td>\n",
              "      <td>2</td>\n",
              "      <td>1</td>\n",
              "      <td>1.0</td>\n",
              "      <td>4.0</td>\n",
              "      <td>5</td>\n",
              "      <td>12</td>\n",
              "      <td>1</td>\n",
              "    </tr>\n",
              "    <tr>\n",
              "      <th>1</th>\n",
              "      <td>1</td>\n",
              "      <td>1</td>\n",
              "      <td>1</td>\n",
              "      <td>17</td>\n",
              "      <td>1</td>\n",
              "      <td>0</td>\n",
              "      <td>1</td>\n",
              "      <td>3</td>\n",
              "      <td>2</td>\n",
              "      <td>0</td>\n",
              "      <td>0</td>\n",
              "      <td>2</td>\n",
              "      <td>2</td>\n",
              "      <td>1</td>\n",
              "      <td>2</td>\n",
              "      <td>0</td>\n",
              "      <td>0</td>\n",
              "      <td>0</td>\n",
              "      <td>1</td>\n",
              "      <td>1</td>\n",
              "      <td>0</td>\n",
              "      <td>1</td>\n",
              "      <td>1</td>\n",
              "      <td>1</td>\n",
              "      <td>5.0</td>\n",
              "      <td>3</td>\n",
              "      <td>4</td>\n",
              "      <td>1.0</td>\n",
              "      <td>3.0</td>\n",
              "      <td>3</td>\n",
              "      <td>2</td>\n",
              "      <td>1</td>\n",
              "    </tr>\n",
              "    <tr>\n",
              "      <th>2</th>\n",
              "      <td>1</td>\n",
              "      <td>1</td>\n",
              "      <td>0</td>\n",
              "      <td>16</td>\n",
              "      <td>1</td>\n",
              "      <td>1</td>\n",
              "      <td>1</td>\n",
              "      <td>1</td>\n",
              "      <td>2</td>\n",
              "      <td>1</td>\n",
              "      <td>2</td>\n",
              "      <td>2</td>\n",
              "      <td>2</td>\n",
              "      <td>2</td>\n",
              "      <td>1</td>\n",
              "      <td>2</td>\n",
              "      <td>0</td>\n",
              "      <td>0</td>\n",
              "      <td>1</td>\n",
              "      <td>0</td>\n",
              "      <td>0</td>\n",
              "      <td>1</td>\n",
              "      <td>1</td>\n",
              "      <td>1</td>\n",
              "      <td>4.0</td>\n",
              "      <td>4</td>\n",
              "      <td>5</td>\n",
              "      <td>3.0</td>\n",
              "      <td>5.0</td>\n",
              "      <td>5</td>\n",
              "      <td>0</td>\n",
              "      <td>1</td>\n",
              "    </tr>\n",
              "    <tr>\n",
              "      <th>3</th>\n",
              "      <td>1</td>\n",
              "      <td>0</td>\n",
              "      <td>0</td>\n",
              "      <td>17</td>\n",
              "      <td>1</td>\n",
              "      <td>0</td>\n",
              "      <td>1</td>\n",
              "      <td>2</td>\n",
              "      <td>3</td>\n",
              "      <td>0</td>\n",
              "      <td>2</td>\n",
              "      <td>0</td>\n",
              "      <td>1</td>\n",
              "      <td>2</td>\n",
              "      <td>2</td>\n",
              "      <td>0</td>\n",
              "      <td>0</td>\n",
              "      <td>0</td>\n",
              "      <td>1</td>\n",
              "      <td>1</td>\n",
              "      <td>1</td>\n",
              "      <td>1</td>\n",
              "      <td>1</td>\n",
              "      <td>1</td>\n",
              "      <td>4.0</td>\n",
              "      <td>4</td>\n",
              "      <td>3</td>\n",
              "      <td>1.0</td>\n",
              "      <td>1.0</td>\n",
              "      <td>3</td>\n",
              "      <td>4</td>\n",
              "      <td>1</td>\n",
              "    </tr>\n",
              "    <tr>\n",
              "      <th>4</th>\n",
              "      <td>1</td>\n",
              "      <td>1</td>\n",
              "      <td>1</td>\n",
              "      <td>16</td>\n",
              "      <td>1</td>\n",
              "      <td>0</td>\n",
              "      <td>1</td>\n",
              "      <td>1</td>\n",
              "      <td>1</td>\n",
              "      <td>3</td>\n",
              "      <td>0</td>\n",
              "      <td>0</td>\n",
              "      <td>2</td>\n",
              "      <td>2</td>\n",
              "      <td>1</td>\n",
              "      <td>0</td>\n",
              "      <td>0</td>\n",
              "      <td>1</td>\n",
              "      <td>1</td>\n",
              "      <td>0</td>\n",
              "      <td>1</td>\n",
              "      <td>1</td>\n",
              "      <td>0</td>\n",
              "      <td>1</td>\n",
              "      <td>4.0</td>\n",
              "      <td>3</td>\n",
              "      <td>2</td>\n",
              "      <td>1.0</td>\n",
              "      <td>4.0</td>\n",
              "      <td>5</td>\n",
              "      <td>2</td>\n",
              "      <td>1</td>\n",
              "    </tr>\n",
              "    <tr>\n",
              "      <th>...</th>\n",
              "      <td>...</td>\n",
              "      <td>...</td>\n",
              "      <td>...</td>\n",
              "      <td>...</td>\n",
              "      <td>...</td>\n",
              "      <td>...</td>\n",
              "      <td>...</td>\n",
              "      <td>...</td>\n",
              "      <td>...</td>\n",
              "      <td>...</td>\n",
              "      <td>...</td>\n",
              "      <td>...</td>\n",
              "      <td>...</td>\n",
              "      <td>...</td>\n",
              "      <td>...</td>\n",
              "      <td>...</td>\n",
              "      <td>...</td>\n",
              "      <td>...</td>\n",
              "      <td>...</td>\n",
              "      <td>...</td>\n",
              "      <td>...</td>\n",
              "      <td>...</td>\n",
              "      <td>...</td>\n",
              "      <td>...</td>\n",
              "      <td>...</td>\n",
              "      <td>...</td>\n",
              "      <td>...</td>\n",
              "      <td>...</td>\n",
              "      <td>...</td>\n",
              "      <td>...</td>\n",
              "      <td>...</td>\n",
              "      <td>...</td>\n",
              "    </tr>\n",
              "    <tr>\n",
              "      <th>1039</th>\n",
              "      <td>0</td>\n",
              "      <td>1</td>\n",
              "      <td>1</td>\n",
              "      <td>15</td>\n",
              "      <td>0</td>\n",
              "      <td>0</td>\n",
              "      <td>1</td>\n",
              "      <td>3</td>\n",
              "      <td>3</td>\n",
              "      <td>2</td>\n",
              "      <td>2</td>\n",
              "      <td>1</td>\n",
              "      <td>0</td>\n",
              "      <td>2</td>\n",
              "      <td>3</td>\n",
              "      <td>2</td>\n",
              "      <td>0</td>\n",
              "      <td>1</td>\n",
              "      <td>0</td>\n",
              "      <td>1</td>\n",
              "      <td>1</td>\n",
              "      <td>1</td>\n",
              "      <td>1</td>\n",
              "      <td>0</td>\n",
              "      <td>4.0</td>\n",
              "      <td>2</td>\n",
              "      <td>1</td>\n",
              "      <td>2.0</td>\n",
              "      <td>3.0</td>\n",
              "      <td>3</td>\n",
              "      <td>8</td>\n",
              "      <td>1</td>\n",
              "    </tr>\n",
              "    <tr>\n",
              "      <th>1040</th>\n",
              "      <td>1</td>\n",
              "      <td>1</td>\n",
              "      <td>0</td>\n",
              "      <td>15</td>\n",
              "      <td>0</td>\n",
              "      <td>0</td>\n",
              "      <td>1</td>\n",
              "      <td>2</td>\n",
              "      <td>1</td>\n",
              "      <td>1</td>\n",
              "      <td>2</td>\n",
              "      <td>1</td>\n",
              "      <td>2</td>\n",
              "      <td>1</td>\n",
              "      <td>2</td>\n",
              "      <td>0</td>\n",
              "      <td>0</td>\n",
              "      <td>0</td>\n",
              "      <td>1</td>\n",
              "      <td>1</td>\n",
              "      <td>1</td>\n",
              "      <td>1</td>\n",
              "      <td>1</td>\n",
              "      <td>0</td>\n",
              "      <td>5.0</td>\n",
              "      <td>4</td>\n",
              "      <td>2</td>\n",
              "      <td>1.0</td>\n",
              "      <td>1.0</td>\n",
              "      <td>5</td>\n",
              "      <td>4</td>\n",
              "      <td>1</td>\n",
              "    </tr>\n",
              "    <tr>\n",
              "      <th>1041</th>\n",
              "      <td>1</td>\n",
              "      <td>0</td>\n",
              "      <td>1</td>\n",
              "      <td>16</td>\n",
              "      <td>0</td>\n",
              "      <td>1</td>\n",
              "      <td>1</td>\n",
              "      <td>1</td>\n",
              "      <td>1</td>\n",
              "      <td>3</td>\n",
              "      <td>0</td>\n",
              "      <td>2</td>\n",
              "      <td>1</td>\n",
              "      <td>3</td>\n",
              "      <td>2</td>\n",
              "      <td>0</td>\n",
              "      <td>0</td>\n",
              "      <td>1</td>\n",
              "      <td>1</td>\n",
              "      <td>0</td>\n",
              "      <td>1</td>\n",
              "      <td>1</td>\n",
              "      <td>0</td>\n",
              "      <td>1</td>\n",
              "      <td>5.0</td>\n",
              "      <td>3</td>\n",
              "      <td>2</td>\n",
              "      <td>1.0</td>\n",
              "      <td>1.0</td>\n",
              "      <td>1</td>\n",
              "      <td>0</td>\n",
              "      <td>1</td>\n",
              "    </tr>\n",
              "    <tr>\n",
              "      <th>1042</th>\n",
              "      <td>1</td>\n",
              "      <td>1</td>\n",
              "      <td>0</td>\n",
              "      <td>16</td>\n",
              "      <td>1</td>\n",
              "      <td>0</td>\n",
              "      <td>1</td>\n",
              "      <td>2</td>\n",
              "      <td>1</td>\n",
              "      <td>3</td>\n",
              "      <td>0</td>\n",
              "      <td>2</td>\n",
              "      <td>2</td>\n",
              "      <td>4</td>\n",
              "      <td>1</td>\n",
              "      <td>0</td>\n",
              "      <td>0</td>\n",
              "      <td>0</td>\n",
              "      <td>1</td>\n",
              "      <td>0</td>\n",
              "      <td>1</td>\n",
              "      <td>1</td>\n",
              "      <td>0</td>\n",
              "      <td>1</td>\n",
              "      <td>3.0</td>\n",
              "      <td>2</td>\n",
              "      <td>1</td>\n",
              "      <td>1.0</td>\n",
              "      <td>1.0</td>\n",
              "      <td>2</td>\n",
              "      <td>4</td>\n",
              "      <td>1</td>\n",
              "    </tr>\n",
              "    <tr>\n",
              "      <th>1043</th>\n",
              "      <td>1</td>\n",
              "      <td>1</td>\n",
              "      <td>0</td>\n",
              "      <td>17</td>\n",
              "      <td>0</td>\n",
              "      <td>0</td>\n",
              "      <td>1</td>\n",
              "      <td>1</td>\n",
              "      <td>3</td>\n",
              "      <td>0</td>\n",
              "      <td>0</td>\n",
              "      <td>2</td>\n",
              "      <td>1</td>\n",
              "      <td>3</td>\n",
              "      <td>2</td>\n",
              "      <td>1</td>\n",
              "      <td>0</td>\n",
              "      <td>1</td>\n",
              "      <td>1</td>\n",
              "      <td>1</td>\n",
              "      <td>1</td>\n",
              "      <td>1</td>\n",
              "      <td>1</td>\n",
              "      <td>1</td>\n",
              "      <td>5.0</td>\n",
              "      <td>2</td>\n",
              "      <td>4</td>\n",
              "      <td>4.0</td>\n",
              "      <td>4.0</td>\n",
              "      <td>5</td>\n",
              "      <td>14</td>\n",
              "      <td>1</td>\n",
              "    </tr>\n",
              "  </tbody>\n",
              "</table>\n",
              "<p>1044 rows × 32 columns</p>\n",
              "</div>"
            ],
            "text/plain": [
              "      Subject  school  sex  age  address  famsize  Pstatus  Medu  Fedu  Mjob  \\\n",
              "0           1       1    1   16        1        0        0     3     4     2   \n",
              "1           1       1    1   17        1        0        1     3     2     0   \n",
              "2           1       1    0   16        1        1        1     1     2     1   \n",
              "3           1       0    0   17        1        0        1     2     3     0   \n",
              "4           1       1    1   16        1        0        1     1     1     3   \n",
              "...       ...     ...  ...  ...      ...      ...      ...   ...   ...   ...   \n",
              "1039        0       1    1   15        0        0        1     3     3     2   \n",
              "1040        1       1    0   15        0        0        1     2     1     1   \n",
              "1041        1       0    1   16        0        1        1     1     1     3   \n",
              "1042        1       1    0   16        1        0        1     2     1     3   \n",
              "1043        1       1    0   17        0        0        1     1     3     0   \n",
              "\n",
              "      Fjob  reason  guardian  traveltime  studytime  failures  schoolsup  \\\n",
              "0        0       2         1           1          1         0          0   \n",
              "1        0       2         2           1          2         0          0   \n",
              "2        2       2         2           2          1         2          0   \n",
              "3        2       0         1           2          2         0          0   \n",
              "4        0       0         2           2          1         0          0   \n",
              "...    ...     ...       ...         ...        ...       ...        ...   \n",
              "1039     2       1         0           2          3         2          0   \n",
              "1040     2       1         2           1          2         0          0   \n",
              "1041     0       2         1           3          2         0          0   \n",
              "1042     0       2         2           4          1         0          0   \n",
              "1043     0       2         1           3          2         1          0   \n",
              "\n",
              "      famsup  paid  activities  nursery  higher  internet  romantic  famrel  \\\n",
              "0          0     1           0        1       1         1         1     3.0   \n",
              "1          0     1           1        0       1         1         1     5.0   \n",
              "2          0     1           0        0       1         1         1     4.0   \n",
              "3          0     1           1        1       1         1         1     4.0   \n",
              "4          1     1           0        1       1         0         1     4.0   \n",
              "...      ...   ...         ...      ...     ...       ...       ...     ...   \n",
              "1039       1     0           1        1       1         1         0     4.0   \n",
              "1040       0     1           1        1       1         1         0     5.0   \n",
              "1041       1     1           0        1       1         0         1     5.0   \n",
              "1042       0     1           0        1       1         0         1     3.0   \n",
              "1043       1     1           1        1       1         1         1     5.0   \n",
              "\n",
              "      freetime  goout  Dalc  Walc  health  absences  Pass  \n",
              "0            2      1   1.0   4.0       5        12     1  \n",
              "1            3      4   1.0   3.0       3         2     1  \n",
              "2            4      5   3.0   5.0       5         0     1  \n",
              "3            4      3   1.0   1.0       3         4     1  \n",
              "4            3      2   1.0   4.0       5         2     1  \n",
              "...        ...    ...   ...   ...     ...       ...   ...  \n",
              "1039         2      1   2.0   3.0       3         8     1  \n",
              "1040         4      2   1.0   1.0       5         4     1  \n",
              "1041         3      2   1.0   1.0       1         0     1  \n",
              "1042         2      1   1.0   1.0       2         4     1  \n",
              "1043         2      4   4.0   4.0       5        14     1  \n",
              "\n",
              "[1044 rows x 32 columns]"
            ]
          },
          "metadata": {
            "tags": []
          },
          "execution_count": 234
        }
      ]
    },
    {
      "cell_type": "code",
      "metadata": {
        "id": "t0QOAO2E6iKC",
        "colab_type": "code",
        "colab": {}
      },
      "source": [
        "lab_enc = preprocessing.LabelEncoder()\n",
        "data_bin['Pass']=lab_enc.fit_transform(data_bin['Pass'])"
      ],
      "execution_count": 0,
      "outputs": []
    },
    {
      "cell_type": "code",
      "metadata": {
        "id": "ywX7q9hY7PtR",
        "colab_type": "code",
        "colab": {
          "base_uri": "https://localhost:8080/",
          "height": 650
        },
        "outputId": "1f857d14-1f99-4f2d-8df5-40fa3ab86834"
      },
      "source": [
        "corr = data_bin.corr() \n",
        "fig, ax = plt.subplots(figsize=(10,10))    \n",
        "\n",
        "for i in corr.columns.tolist():\n",
        "  for j in corr.columns.tolist():\n",
        "    if (-0.2 < corr[i][j] < 0.2) | (corr[i][j] == 1):\n",
        "      corr[i][j] = 0.2\n",
        "sns.heatmap(corr, xticklabels=corr.columns.values, \n",
        "           yticklabels=corr.columns.values)"
      ],
      "execution_count": 230,
      "outputs": [
        {
          "output_type": "execute_result",
          "data": {
            "text/plain": [
              "<matplotlib.axes._subplots.AxesSubplot at 0x7fe278171d68>"
            ]
          },
          "metadata": {
            "tags": []
          },
          "execution_count": 230
        },
        {
          "output_type": "display_data",
          "data": {
            "image/png": "[encoded data removed]",
            "text/plain": [
              "<Figure size 720x720 with 2 Axes>"
            ]
          },
          "metadata": {
            "tags": [],
            "needs_background": "light"
          }
        }
      ]
    },
    {
      "cell_type": "code",
      "metadata": {
        "id": "HXMRCg4LFUH6",
        "colab_type": "code",
        "colab": {}
      },
      "source": [
        "(trainD, testD, trainV, testV) = train_test_split(data_bin.drop('Pass', axis=1),\n",
        "                                            data_bin['Pass'],\n",
        "                                            test_size=0.3, \n",
        "                                            random_state=5)"
      ],
      "execution_count": 0,
      "outputs": []
    },
    {
      "cell_type": "code",
      "metadata": {
        "id": "1sneeC7rc6ev",
        "colab_type": "code",
        "colab": {}
      },
      "source": [
        "def show_class(data, cluster, x, y):\n",
        "  sns.pairplot(x_vars=x, \n",
        "             y_vars=y, \n",
        "             hue=cluster,\n",
        "             data=data, \n",
        "             size=6)\n",
        "  plt.gca().set(xlabel=x, ylabel=y)\n",
        "  plt.show()"
      ],
      "execution_count": 0,
      "outputs": []
    },
    {
      "cell_type": "code",
      "metadata": {
        "id": "-Mfgt6Mi427d",
        "colab_type": "code",
        "colab": {}
      },
      "source": [
        ""
      ],
      "execution_count": 0,
      "outputs": []
    },
    {
      "cell_type": "markdown",
      "metadata": {
        "id": "Zi1S-633mdT1",
        "colab_type": "text"
      },
      "source": [
        "### KNN "
      ]
    },
    {
      "cell_type": "markdown",
      "metadata": {
        "id": "1_hwCQG9MrHY",
        "colab_type": "text"
      },
      "source": [
        "Бежим кросс"
      ]
    },
    {
      "cell_type": "code",
      "metadata": {
        "id": "gZa1vKZymn21",
        "colab_type": "code",
        "colab": {
          "base_uri": "https://localhost:8080/",
          "height": 33
        },
        "outputId": "18d97210-16b9-4787-d4cd-4c6882ffcf82"
      },
      "source": [
        "from sklearn.neighbors import KNeighborsClassifier\n",
        "knn = KNeighborsClassifier()\n",
        "\n",
        "param_grid = {'n_neighbors': np.arange(1, 25)}\n",
        "\n",
        "knn_gscv = GridSearchCV(knn, param_grid, cv=5,scoring='explained_variance')\n",
        "\n",
        "knn_gscv.fit(trainD, trainV)\n",
        "knn_gscv.best_params_"
      ],
      "execution_count": 121,
      "outputs": [
        {
          "output_type": "execute_result",
          "data": {
            "text/plain": [
              "{'n_neighbors': 21}"
            ]
          },
          "metadata": {
            "tags": []
          },
          "execution_count": 121
        }
      ]
    },
    {
      "cell_type": "markdown",
      "metadata": {
        "id": "YPMPnmtxMtu3",
        "colab_type": "text"
      },
      "source": [
        "Тренируем"
      ]
    },
    {
      "cell_type": "code",
      "metadata": {
        "id": "AXPt-mtmMviU",
        "colab_type": "code",
        "colab": {}
      },
      "source": [
        "knn = KNeighborsClassifier(n_neighbors=knn_gscv.best_params_['n_neighbors']-5)\n",
        "knn.fit(trainD, trainV)\n",
        "predictedV = knn.predict(testD)\n",
        "testD['knn'] = predictedV"
      ],
      "execution_count": 0,
      "outputs": []
    },
    {
      "cell_type": "markdown",
      "metadata": {
        "id": "xg8D1wBAMwDN",
        "colab_type": "text"
      },
      "source": [
        "Визуализируем"
      ]
    },
    {
      "cell_type": "markdown",
      "metadata": {
        "id": "y_wmuquAmiPV",
        "colab_type": "text"
      },
      "source": [
        "### Radius Neighbors"
      ]
    },
    {
      "cell_type": "markdown",
      "metadata": {
        "id": "IsIwDb0-TOwD",
        "colab_type": "text"
      },
      "source": [
        "Кроссим"
      ]
    },
    {
      "cell_type": "code",
      "metadata": {
        "id": "PDD50lNTmotc",
        "colab_type": "code",
        "colab": {
          "base_uri": "https://localhost:8080/",
          "height": 33
        },
        "outputId": "6273d06c-9111-4a24-df18-80e49ee7c8dd"
      },
      "source": [
        "from sklearn.neighbors import RadiusNeighborsClassifier\n",
        "rnr = RadiusNeighborsClassifier()\n",
        "param_grid = {'radius': np.arange(2.1,3.0, 0.01)}\n",
        "rnr_gscv = GridSearchCV(rnr, param_grid, cv=5)\n",
        "rnr_gscv.fit(trainD, trainV)\n",
        "rnr_gscv.best_params_"
      ],
      "execution_count": 72,
      "outputs": [
        {
          "output_type": "execute_result",
          "data": {
            "text/plain": [
              "{'radius': 2.1}"
            ]
          },
          "metadata": {
            "tags": []
          },
          "execution_count": 72
        }
      ]
    },
    {
      "cell_type": "markdown",
      "metadata": {
        "id": "lP_SZKgDTUnW",
        "colab_type": "text"
      },
      "source": [
        "тестим"
      ]
    },
    {
      "cell_type": "code",
      "metadata": {
        "id": "MNykeoSL2f80",
        "colab_type": "code",
        "colab": {}
      },
      "source": [
        ""
      ],
      "execution_count": 0,
      "outputs": []
    },
    {
      "cell_type": "markdown",
      "metadata": {
        "id": "-VRphq3PTaac",
        "colab_type": "text"
      },
      "source": [
        "смотрим"
      ]
    },
    {
      "cell_type": "markdown",
      "metadata": {
        "id": "dt5wpdXYmqEF",
        "colab_type": "text"
      },
      "source": [
        "### Логистическая регрессия"
      ]
    },
    {
      "cell_type": "code",
      "metadata": {
        "id": "kL2Nmrmwmrdl",
        "colab_type": "code",
        "colab": {
          "base_uri": "https://localhost:8080/",
          "height": 267
        },
        "outputId": "ded82dd7-e5a7-4b94-bf57-7e989af88fd9"
      },
      "source": [
        "from sklearn.linear_model import LogisticRegression\n",
        "logistic = LogisticRegression()\n",
        "logistic.fit(trainD,trainV)\n",
        "predictedV = logistic.predict(testD)\n",
        "predictedV"
      ],
      "execution_count": 81,
      "outputs": [
        {
          "output_type": "execute_result",
          "data": {
            "text/plain": [
              "array([1, 1, 1, 1, 1, 1, 1, 1, 1, 1, 1, 1, 1, 1, 1, 1, 1, 1, 1, 1, 1, 1,\n",
              "       1, 1, 1, 1, 1, 1, 1, 1, 1, 1, 1, 0, 1, 1, 1, 0, 0, 1, 1, 1, 1, 1,\n",
              "       1, 1, 1, 0, 1, 1, 1, 1, 1, 1, 1, 1, 1, 1, 1, 1, 1, 1, 1, 1, 1, 1,\n",
              "       1, 1, 1, 1, 1, 1, 1, 1, 1, 1, 1, 1, 1, 1, 1, 1, 1, 1, 1, 1, 1, 1,\n",
              "       1, 1, 1, 1, 1, 1, 1, 1, 1, 1, 1, 1, 1, 1, 1, 1, 1, 0, 1, 1, 1, 1,\n",
              "       1, 1, 1, 1, 1, 1, 1, 1, 1, 1, 1, 1, 1, 1, 1, 1, 1, 1, 1, 1, 1, 1,\n",
              "       1, 1, 1, 1, 1, 1, 1, 1, 1, 1, 1, 1, 1, 1, 1, 1, 1, 1, 1, 1, 0, 1,\n",
              "       1, 1, 1, 1, 1, 1, 1, 1, 1, 1, 1, 1, 1, 1, 1, 1, 1, 1, 1, 1, 1, 1,\n",
              "       0, 1, 1, 1, 1, 1, 1, 1, 1, 1, 1, 1, 1, 1, 1, 1, 1, 1, 1, 1, 1, 1,\n",
              "       0, 1, 1, 1, 1, 1, 1, 1, 1, 1, 1, 1, 1, 1, 1, 1, 1, 1, 1, 1, 1, 1,\n",
              "       1, 1, 1, 1, 1, 1, 1, 1, 1, 1, 0, 1, 1, 1, 1, 1, 1, 1, 1, 1, 1, 1,\n",
              "       1, 1, 1, 1, 1, 1, 1, 1, 1, 1, 1, 1, 1, 1, 1, 1, 1, 1, 1, 1, 1, 1,\n",
              "       1, 1, 1, 1, 1, 1, 1, 1, 1, 1, 1, 1, 1, 1, 1, 1, 1, 1, 1, 1, 1, 1,\n",
              "       1, 1, 1, 1, 1, 1, 1, 1, 1, 0, 1, 1, 1, 1, 1, 1, 1, 1, 1, 0, 1, 1,\n",
              "       1, 1, 1, 1, 0, 1])"
            ]
          },
          "metadata": {
            "tags": []
          },
          "execution_count": 81
        }
      ]
    },
    {
      "cell_type": "markdown",
      "metadata": {
        "id": "ad00kUNCmt2d",
        "colab_type": "text"
      },
      "source": [
        "### Деревья решений"
      ]
    },
    {
      "cell_type": "markdown",
      "metadata": {
        "id": "wR6LsTTQ7L1x",
        "colab_type": "text"
      },
      "source": [
        "Валидация"
      ]
    },
    {
      "cell_type": "code",
      "metadata": {
        "id": "F4pzOGhUmvQO",
        "colab_type": "code",
        "colab": {
          "base_uri": "https://localhost:8080/",
          "height": 33
        },
        "outputId": "6633676e-df36-481c-a35b-be8578d1d744"
      },
      "source": [
        "from sklearn.tree import DecisionTreeClassifier\n",
        "reg_tree = DecisionTreeClassifier()\n",
        "\n",
        "param_grid = {'max_depth': np.arange(1, 100)}\n",
        "\n",
        "reg_tree_gscv = GridSearchCV(reg_tree, param_grid, cv=5)\n",
        "\n",
        "reg_tree_gscv.fit(trainD, trainV)\n",
        "reg_tree_gscv.best_params_"
      ],
      "execution_count": 82,
      "outputs": [
        {
          "output_type": "execute_result",
          "data": {
            "text/plain": [
              "{'max_depth': 90}"
            ]
          },
          "metadata": {
            "tags": []
          },
          "execution_count": 82
        }
      ]
    },
    {
      "cell_type": "markdown",
      "metadata": {
        "id": "3C0yEz4L7NcI",
        "colab_type": "text"
      },
      "source": [
        "Тренировка"
      ]
    },
    {
      "cell_type": "code",
      "metadata": {
        "id": "UkDylVoR7OUO",
        "colab_type": "code",
        "colab": {
          "base_uri": "https://localhost:8080/",
          "height": 267
        },
        "outputId": "a35e7d02-9fdb-4aba-eca0-03da0798aaaf"
      },
      "source": [
        "reg_tree = DecisionTreeClassifier(max_depth = reg_tree_gscv.best_params_['max_depth'])\n",
        "reg_tree.fit(trainD, trainV)\n",
        "predictedV = reg_tree.predict(testD)\n",
        "predictedV"
      ],
      "execution_count": 105,
      "outputs": [
        {
          "output_type": "execute_result",
          "data": {
            "text/plain": [
              "array([1, 1, 1, 1, 1, 1, 1, 1, 1, 1, 1, 1, 1, 1, 0, 1, 1, 1, 1, 1, 1, 1,\n",
              "       1, 1, 1, 1, 1, 1, 1, 0, 1, 1, 1, 0, 1, 0, 1, 1, 0, 0, 1, 1, 1, 1,\n",
              "       1, 1, 1, 0, 1, 0, 0, 1, 1, 1, 1, 1, 1, 1, 1, 1, 1, 1, 1, 1, 1, 1,\n",
              "       1, 0, 1, 0, 1, 1, 1, 1, 1, 1, 1, 1, 1, 1, 1, 0, 1, 1, 1, 1, 1, 1,\n",
              "       1, 1, 1, 1, 1, 1, 1, 1, 1, 1, 1, 1, 1, 1, 0, 1, 1, 0, 1, 1, 1, 1,\n",
              "       1, 1, 1, 1, 1, 1, 0, 1, 1, 1, 1, 1, 1, 1, 0, 1, 1, 1, 1, 1, 1, 1,\n",
              "       1, 1, 0, 1, 1, 1, 1, 1, 1, 1, 1, 1, 0, 1, 1, 1, 1, 1, 1, 1, 1, 1,\n",
              "       1, 1, 1, 1, 1, 1, 1, 1, 1, 1, 1, 1, 1, 0, 1, 1, 1, 1, 1, 1, 1, 1,\n",
              "       0, 1, 1, 1, 1, 1, 1, 0, 0, 1, 1, 1, 1, 1, 0, 1, 1, 1, 1, 1, 1, 0,\n",
              "       0, 1, 1, 1, 0, 1, 1, 1, 0, 1, 1, 1, 1, 1, 1, 0, 1, 1, 1, 1, 1, 1,\n",
              "       1, 1, 1, 1, 1, 0, 1, 1, 1, 1, 1, 1, 1, 1, 0, 1, 1, 1, 1, 1, 1, 1,\n",
              "       1, 1, 1, 1, 1, 1, 1, 1, 1, 1, 1, 1, 1, 1, 1, 1, 1, 1, 1, 1, 0, 0,\n",
              "       1, 1, 1, 1, 1, 1, 1, 0, 1, 1, 1, 1, 1, 1, 1, 1, 1, 1, 0, 1, 1, 1,\n",
              "       1, 1, 1, 1, 0, 1, 1, 1, 1, 0, 1, 1, 1, 1, 1, 1, 1, 1, 1, 0, 1, 1,\n",
              "       1, 1, 1, 0, 0, 1])"
            ]
          },
          "metadata": {
            "tags": []
          },
          "execution_count": 105
        }
      ]
    },
    {
      "cell_type": "markdown",
      "metadata": {
        "id": "D8UBhA4m3rEg",
        "colab_type": "text"
      },
      "source": [
        "### Построение дерева"
      ]
    },
    {
      "cell_type": "code",
      "metadata": {
        "id": "UYGWcWifbj5m",
        "colab_type": "code",
        "colab": {
          "base_uri": "https://localhost:8080/",
          "height": 517
        },
        "outputId": "7be96baa-6e58-498d-ed27-2d577e78d12c"
      },
      "source": [
        "from sklearn.model_selection import KFold\n",
        "from sklearn.tree import DecisionTreeClassifier\n",
        "kf = KFold(n_splits=5, shuffle=True, random_state=1)\n",
        "for train_index, test_index in kf.split(data_bin):\n",
        "  X_train, X_test = data_bin.drop('Pass', axis=1).iloc[train_index], data_bin.drop('Pass', axis=1).iloc[test_index]\n",
        "  y_train, y_test = data_bin['Pass'][train_index], data_bin['Pass'][test_index]\n",
        "  reg_tree = DecisionTreeClassifier(max_depth=5)\n",
        "  reg_tree.fit(X_train, y_train)\n",
        "  predictedV = reg_tree.predict(X_test)\n",
        "  print(predictedV)"
      ],
      "execution_count": 236,
      "outputs": [
        {
          "output_type": "stream",
          "text": [
            "[1 1 1 1 1 1 1 1 0 1 0 1 0 0 1 0 1 1 1 1 1 1 1 1 1 1 1 1 1 1 1 1 1 1 1 1 0\n",
            " 1 1 1 1 1 1 0 1 1 1 1 0 1 1 1 1 1 1 1 0 1 1 1 0 1 1 1 1 1 1 1 0 1 1 1 1 0\n",
            " 1 0 1 1 1 1 1 1 1 1 1 1 1 1 1 1 1 1 1 1 1 1 1 1 1 1 1 1 1 0 1 1 0 1 1 1 0\n",
            " 1 0 1 1 1 1 1 1 1 1 1 1 1 1 1 0 1 1 1 1 1 0 1 1 1 1 1 1 1 1 1 1 1 1 1 1 1\n",
            " 1 1 1 1 0 1 0 1 1 1 1 1 1 1 0 1 1 1 1 1 0 1 1 1 0 1 0 1 1 0 1 1 1 1 1 1 1\n",
            " 1 1 1 0 1 1 1 0 1 1 1 1 1 1 1 1 1 1 1 1 1 1 1 1]\n",
            "[1 1 0 0 1 1 1 1 1 1 1 1 1 1 1 1 1 1 1 0 1 1 1 0 1 1 1 1 1 1 1 1 1 1 0 1 1\n",
            " 1 1 1 1 1 1 1 1 1 1 1 1 0 1 1 1 1 1 1 1 1 1 1 1 1 1 1 0 1 1 1 1 1 1 1 1 0\n",
            " 1 1 1 1 1 1 1 0 1 1 1 1 1 1 1 1 1 1 1 1 1 0 1 1 1 1 1 1 1 1 1 1 1 1 1 1 0\n",
            " 1 1 1 1 0 1 0 1 1 1 1 1 1 1 1 1 1 1 1 1 1 1 1 1 1 1 1 1 1 0 1 1 1 0 1 0 1\n",
            " 0 0 1 1 1 1 1 1 0 1 1 1 1 1 1 1 1 1 1 0 1 1 1 1 1 1 1 1 1 1 1 1 0 0 1 0 1\n",
            " 1 1 1 1 1 1 1 1 1 1 1 1 1 1 1 1 1 1 1 1 1 1 1 1]\n",
            "[1 1 1 1 1 1 1 1 1 1 0 1 1 1 1 1 1 1 1 1 1 1 1 1 1 1 1 1 1 1 1 1 1 1 1 0 1\n",
            " 0 1 1 1 1 0 0 1 1 1 1 1 1 1 1 0 1 0 1 1 1 1 1 1 1 1 1 0 1 1 1 1 1 1 1 1 1\n",
            " 1 1 1 1 1 1 1 1 0 1 1 1 0 0 1 0 1 1 1 1 1 1 1 1 1 1 1 1 1 1 1 1 1 1 1 1 1\n",
            " 1 1 1 1 0 1 1 0 1 1 1 1 1 1 1 0 0 1 1 1 1 0 1 1 1 1 1 1 1 1 1 1 1 1 1 1 1\n",
            " 1 1 0 1 1 1 1 1 1 0 1 1 1 1 1 1 1 1 1 1 0 1 1 1 1 1 1 0 1 1 1 0 1 1 1 1 1\n",
            " 1 1 1 1 1 1 1 1 1 0 1 1 1 1 1 1 1 1 1 1 1 1 0 1]\n",
            "[1 1 1 1 1 1 1 1 1 1 1 1 1 1 1 1 1 1 1 1 1 1 0 1 1 1 1 1 1 0 1 1 1 1 1 1 1\n",
            " 1 0 1 1 1 1 1 0 1 0 1 0 1 1 1 0 1 1 1 1 1 1 1 1 1 1 1 1 1 1 1 1 1 1 1 1 1\n",
            " 1 1 1 1 1 1 1 1 1 1 1 1 1 1 1 1 1 1 1 1 1 1 1 1 1 1 0 1 1 1 1 1 1 1 1 1 1\n",
            " 1 0 1 1 1 1 0 1 1 1 0 1 1 1 1 1 1 1 0 1 1 1 1 1 1 1 1 1 1 1 1 1 1 1 1 1 1\n",
            " 0 1 1 1 1 1 1 1 1 1 1 0 1 1 1 1 1 1 1 0 1 1 1 1 1 1 1 1 0 0 1 1 1 1 1 1 1\n",
            " 0 1 0 1 1 1 1 1 1 1 1 1 0 1 1 1 1 0 1 1 1 1 1 0]\n",
            "[1 1 1 1 1 1 1 1 1 1 1 1 1 1 1 1 1 1 0 1 1 1 1 1 0 1 1 1 1 1 1 1 1 1 0 1 1\n",
            " 1 1 1 1 1 0 1 1 1 1 1 1 1 1 1 1 1 1 1 1 1 1 1 1 1 1 1 1 0 1 1 1 1 1 1 1 1\n",
            " 1 1 1 1 1 1 1 1 1 1 1 1 1 1 1 1 1 1 1 0 1 0 1 1 1 1 1 0 0 1 1 1 1 1 1 1 1\n",
            " 1 1 1 1 1 1 1 1 1 1 1 1 1 1 1 0 1 1 1 1 1 1 1 1 1 1 1 1 1 1 1 1 1 1 1 1 1\n",
            " 1 1 1 1 1 1 1 1 1 1 1 1 1 1 1 1 1 1 1 1 0 1 1 1 1 1 1 1 1 1 1 1 1 1 1 0 1\n",
            " 1 1 0 1 0 1 1 1 1 1 1 1 1 1 1 1 1 1 1 1 1 1 1]\n"
          ],
          "name": "stdout"
        }
      ]
    },
    {
      "cell_type": "code",
      "metadata": {
        "id": "hfO9Cm8W0IQ1",
        "colab_type": "code",
        "colab": {
          "base_uri": "https://localhost:8080/",
          "height": 936
        },
        "outputId": "fa69b0cf-a4a9-4a8c-a64a-d7e25e40cfd5"
      },
      "source": [
        "import graphviz\n",
        "from sklearn import tree\n",
        "dot_data = tree.export_graphviz(reg_tree, feature_names=list(trainD.columns), class_names=['сдал ','не сдал'],  \n",
        "                  filled=True, rounded=True,  \n",
        "                  special_characters=True,\n",
        "                   out_file=None,)\n",
        "graph = graphviz.Source(dot_data)\n",
        "graph"
      ],
      "execution_count": 237,
      "outputs": [
        {
          "output_type": "execute_result",
          "data": {
            "text/plain": [
              "<graphviz.files.Source at 0x7fe27be87cf8>"
            ],
            "image/svg+xml": "<?xml version=\"1.0\" encoding=\"UTF-8\" standalone=\"no\"?>\n<!DOCTYPE svg PUBLIC \"-//W3C//DTD SVG 1.1//EN\"\n \"http://www.w3.org/Graphics/SVG/1.1/DTD/svg11.dtd\">\n<!-- Generated by graphviz version 2.40.1 (20161225.0304)\n -->\n<!-- Title: Tree Pages: 1 -->\n<svg width=\"3420pt\" height=\"671pt\"\n viewBox=\"0.00 0.00 3419.50 671.00\" xmlns=\"http://www.w3.org/2000/svg\" xmlns:xlink=\"http://www.w3.org/1999/xlink\">\n<g id=\"graph0\" class=\"graph\" transform=\"scale(1 1) rotate(0) translate(4 667)\">\n<title>Tree</title>\n<polygon fill=\"#ffffff\" stroke=\"transparent\" points=\"-4,4 -4,-667 3415.5,-667 3415.5,4 -4,4\"/>\n<!-- 0 -->\n<g id=\"node1\" class=\"node\">\n<title>0</title>\n<path fill=\"#5eb0ea\" stroke=\"#000000\" d=\"M2016,-663C2016,-663 1908,-663 1908,-663 1902,-663 1896,-657 1896,-651 1896,-651 1896,-592 1896,-592 1896,-586 1902,-580 1908,-580 1908,-580 2016,-580 2016,-580 2022,-580 2028,-586 2028,-592 2028,-592 2028,-651 2028,-651 2028,-657 2022,-663 2016,-663\"/>\n<text text-anchor=\"start\" x=\"1921\" y=\"-647.8\" font-family=\"Helvetica,sans-Serif\" font-size=\"14.00\" fill=\"#000000\">failures ≤ 0.5</text>\n<text text-anchor=\"start\" x=\"1924\" y=\"-632.8\" font-family=\"Helvetica,sans-Serif\" font-size=\"14.00\" fill=\"#000000\">gini = 0.268</text>\n<text text-anchor=\"start\" x=\"1914\" y=\"-617.8\" font-family=\"Helvetica,sans-Serif\" font-size=\"14.00\" fill=\"#000000\">samples = 836</text>\n<text text-anchor=\"start\" x=\"1904\" y=\"-602.8\" font-family=\"Helvetica,sans-Serif\" font-size=\"14.00\" fill=\"#000000\">value = [133, 703]</text>\n<text text-anchor=\"start\" x=\"1910.5\" y=\"-587.8\" font-family=\"Helvetica,sans-Serif\" font-size=\"14.00\" fill=\"#000000\">class = не сдал</text>\n</g>\n<!-- 1 -->\n<g id=\"node2\" class=\"node\">\n<title>1</title>\n<path fill=\"#4fa8e8\" stroke=\"#000000\" d=\"M1424,-544C1424,-544 1324,-544 1324,-544 1318,-544 1312,-538 1312,-532 1312,-532 1312,-473 1312,-473 1312,-467 1318,-461 1324,-461 1324,-461 1424,-461 1424,-461 1430,-461 1436,-467 1436,-473 1436,-473 1436,-532 1436,-532 1436,-538 1430,-544 1424,-544\"/>\n<text text-anchor=\"start\" x=\"1331.5\" y=\"-528.8\" font-family=\"Helvetica,sans-Serif\" font-size=\"14.00\" fill=\"#000000\">Subject ≤ 0.5</text>\n<text text-anchor=\"start\" x=\"1336\" y=\"-513.8\" font-family=\"Helvetica,sans-Serif\" font-size=\"14.00\" fill=\"#000000\">gini = 0.177</text>\n<text text-anchor=\"start\" x=\"1326\" y=\"-498.8\" font-family=\"Helvetica,sans-Serif\" font-size=\"14.00\" fill=\"#000000\">samples = 692</text>\n<text text-anchor=\"start\" x=\"1320\" y=\"-483.8\" font-family=\"Helvetica,sans-Serif\" font-size=\"14.00\" fill=\"#000000\">value = [68, 624]</text>\n<text text-anchor=\"start\" x=\"1322.5\" y=\"-468.8\" font-family=\"Helvetica,sans-Serif\" font-size=\"14.00\" fill=\"#000000\">class = не сдал</text>\n</g>\n<!-- 0&#45;&gt;1 -->\n<g id=\"edge1\" class=\"edge\">\n<title>0&#45;&gt;1</title>\n<path fill=\"none\" stroke=\"#000000\" d=\"M1895.9764,-608.1381C1784.8743,-585.6531 1561.4204,-540.4303 1446.2626,-517.1246\"/>\n<polygon fill=\"#000000\" stroke=\"#000000\" points=\"1446.6334,-513.6287 1436.1378,-515.0755 1445.2448,-520.4896 1446.6334,-513.6287\"/>\n<text text-anchor=\"middle\" x=\"1449.9577\" y=\"-532.2084\" font-family=\"Helvetica,sans-Serif\" font-size=\"14.00\" fill=\"#000000\">True</text>\n</g>\n<!-- 30 -->\n<g id=\"node31\" class=\"node\">\n<title>30</title>\n<path fill=\"#dceefa\" stroke=\"#000000\" d=\"M2273.5,-544C2273.5,-544 2178.5,-544 2178.5,-544 2172.5,-544 2166.5,-538 2166.5,-532 2166.5,-532 2166.5,-473 2166.5,-473 2166.5,-467 2172.5,-461 2178.5,-461 2178.5,-461 2273.5,-461 2273.5,-461 2279.5,-461 2285.5,-467 2285.5,-473 2285.5,-473 2285.5,-532 2285.5,-532 2285.5,-538 2279.5,-544 2273.5,-544\"/>\n<text text-anchor=\"start\" x=\"2179.5\" y=\"-528.8\" font-family=\"Helvetica,sans-Serif\" font-size=\"14.00\" fill=\"#000000\">guardian ≤ 0.5</text>\n<text text-anchor=\"start\" x=\"2188\" y=\"-513.8\" font-family=\"Helvetica,sans-Serif\" font-size=\"14.00\" fill=\"#000000\">gini = 0.495</text>\n<text text-anchor=\"start\" x=\"2178\" y=\"-498.8\" font-family=\"Helvetica,sans-Serif\" font-size=\"14.00\" fill=\"#000000\">samples = 144</text>\n<text text-anchor=\"start\" x=\"2176\" y=\"-483.8\" font-family=\"Helvetica,sans-Serif\" font-size=\"14.00\" fill=\"#000000\">value = [65, 79]</text>\n<text text-anchor=\"start\" x=\"2174.5\" y=\"-468.8\" font-family=\"Helvetica,sans-Serif\" font-size=\"14.00\" fill=\"#000000\">class = не сдал</text>\n</g>\n<!-- 0&#45;&gt;30 -->\n<g id=\"edge30\" class=\"edge\">\n<title>0&#45;&gt;30</title>\n<path fill=\"none\" stroke=\"#000000\" d=\"M2028.2776,-591.6249C2067.5874,-573.9057 2117.3374,-551.4805 2157.099,-533.5576\"/>\n<polygon fill=\"#000000\" stroke=\"#000000\" points=\"2158.7805,-536.6389 2166.4588,-529.3386 2155.9039,-530.2573 2158.7805,-536.6389\"/>\n<text text-anchor=\"middle\" x=\"2157.6072\" y=\"-549.0192\" font-family=\"Helvetica,sans-Serif\" font-size=\"14.00\" fill=\"#000000\">False</text>\n</g>\n<!-- 2 -->\n<g id=\"node3\" class=\"node\">\n<title>2</title>\n<path fill=\"#68b4eb\" stroke=\"#000000\" d=\"M635,-425C635,-425 535,-425 535,-425 529,-425 523,-419 523,-413 523,-413 523,-354 523,-354 523,-348 529,-342 535,-342 535,-342 635,-342 635,-342 641,-342 647,-348 647,-354 647,-354 647,-413 647,-413 647,-419 641,-425 635,-425\"/>\n<text text-anchor=\"start\" x=\"533.5\" y=\"-409.8\" font-family=\"Helvetica,sans-Serif\" font-size=\"14.00\" fill=\"#000000\">schoolsup ≤ 0.5</text>\n<text text-anchor=\"start\" x=\"547\" y=\"-394.8\" font-family=\"Helvetica,sans-Serif\" font-size=\"14.00\" fill=\"#000000\">gini = 0.308</text>\n<text text-anchor=\"start\" x=\"537\" y=\"-379.8\" font-family=\"Helvetica,sans-Serif\" font-size=\"14.00\" fill=\"#000000\">samples = 252</text>\n<text text-anchor=\"start\" x=\"531\" y=\"-364.8\" font-family=\"Helvetica,sans-Serif\" font-size=\"14.00\" fill=\"#000000\">value = [48, 204]</text>\n<text text-anchor=\"start\" x=\"533.5\" y=\"-349.8\" font-family=\"Helvetica,sans-Serif\" font-size=\"14.00\" fill=\"#000000\">class = не сдал</text>\n</g>\n<!-- 1&#45;&gt;2 -->\n<g id=\"edge2\" class=\"edge\">\n<title>1&#45;&gt;2</title>\n<path fill=\"none\" stroke=\"#000000\" d=\"M1311.7591,-493.1126C1167.5189,-471.3577 811.0085,-417.5875 657.3647,-394.4143\"/>\n<polygon fill=\"#000000\" stroke=\"#000000\" points=\"657.5104,-390.8968 647.1002,-392.8662 656.4664,-397.8185 657.5104,-390.8968\"/>\n</g>\n<!-- 15 -->\n<g id=\"node16\" class=\"node\">\n<title>15</title>\n<path fill=\"#42a2e6\" stroke=\"#000000\" d=\"M1424,-425C1424,-425 1324,-425 1324,-425 1318,-425 1312,-419 1312,-413 1312,-413 1312,-354 1312,-354 1312,-348 1318,-342 1324,-342 1324,-342 1424,-342 1424,-342 1430,-342 1436,-348 1436,-354 1436,-354 1436,-413 1436,-413 1436,-419 1430,-425 1424,-425\"/>\n<text text-anchor=\"start\" x=\"1336\" y=\"-409.8\" font-family=\"Helvetica,sans-Serif\" font-size=\"14.00\" fill=\"#000000\">famrel ≤ 4.5</text>\n<text text-anchor=\"start\" x=\"1336\" y=\"-394.8\" font-family=\"Helvetica,sans-Serif\" font-size=\"14.00\" fill=\"#000000\">gini = 0.087</text>\n<text text-anchor=\"start\" x=\"1326\" y=\"-379.8\" font-family=\"Helvetica,sans-Serif\" font-size=\"14.00\" fill=\"#000000\">samples = 440</text>\n<text text-anchor=\"start\" x=\"1320\" y=\"-364.8\" font-family=\"Helvetica,sans-Serif\" font-size=\"14.00\" fill=\"#000000\">value = [20, 420]</text>\n<text text-anchor=\"start\" x=\"1322.5\" y=\"-349.8\" font-family=\"Helvetica,sans-Serif\" font-size=\"14.00\" fill=\"#000000\">class = не сдал</text>\n</g>\n<!-- 1&#45;&gt;15 -->\n<g id=\"edge15\" class=\"edge\">\n<title>1&#45;&gt;15</title>\n<path fill=\"none\" stroke=\"#000000\" d=\"M1374,-460.8796C1374,-452.6838 1374,-443.9891 1374,-435.5013\"/>\n<polygon fill=\"#000000\" stroke=\"#000000\" points=\"1377.5001,-435.298 1374,-425.2981 1370.5001,-435.2981 1377.5001,-435.298\"/>\n</g>\n<!-- 3 -->\n<g id=\"node4\" class=\"node\">\n<title>3</title>\n<path fill=\"#60b0ea\" stroke=\"#000000\" d=\"M435,-306C435,-306 335,-306 335,-306 329,-306 323,-300 323,-294 323,-294 323,-235 323,-235 323,-229 329,-223 335,-223 335,-223 435,-223 435,-223 441,-223 447,-229 447,-235 447,-235 447,-294 447,-294 447,-300 441,-306 435,-306\"/>\n<text text-anchor=\"start\" x=\"338.5\" y=\"-290.8\" font-family=\"Helvetica,sans-Serif\" font-size=\"14.00\" fill=\"#000000\">guardian ≤ 0.5</text>\n<text text-anchor=\"start\" x=\"347\" y=\"-275.8\" font-family=\"Helvetica,sans-Serif\" font-size=\"14.00\" fill=\"#000000\">gini = 0.273</text>\n<text text-anchor=\"start\" x=\"337\" y=\"-260.8\" font-family=\"Helvetica,sans-Serif\" font-size=\"14.00\" fill=\"#000000\">samples = 221</text>\n<text text-anchor=\"start\" x=\"331\" y=\"-245.8\" font-family=\"Helvetica,sans-Serif\" font-size=\"14.00\" fill=\"#000000\">value = [36, 185]</text>\n<text text-anchor=\"start\" x=\"333.5\" y=\"-230.8\" font-family=\"Helvetica,sans-Serif\" font-size=\"14.00\" fill=\"#000000\">class = не сдал</text>\n</g>\n<!-- 2&#45;&gt;3 -->\n<g id=\"edge3\" class=\"edge\">\n<title>2&#45;&gt;3</title>\n<path fill=\"none\" stroke=\"#000000\" d=\"M522.8151,-346.5C501.5565,-333.8511 477.6241,-319.6114 455.7414,-306.5911\"/>\n<polygon fill=\"#000000\" stroke=\"#000000\" points=\"457.53,-303.5827 447.1465,-301.4772 453.9506,-309.5984 457.53,-303.5827\"/>\n</g>\n<!-- 10 -->\n<g id=\"node11\" class=\"node\">\n<title>10</title>\n<path fill=\"#b6dbf5\" stroke=\"#000000\" d=\"M632.5,-306C632.5,-306 537.5,-306 537.5,-306 531.5,-306 525.5,-300 525.5,-294 525.5,-294 525.5,-235 525.5,-235 525.5,-229 531.5,-223 537.5,-223 537.5,-223 632.5,-223 632.5,-223 638.5,-223 644.5,-229 644.5,-235 644.5,-235 644.5,-294 644.5,-294 644.5,-300 638.5,-306 632.5,-306\"/>\n<text text-anchor=\"start\" x=\"541\" y=\"-290.8\" font-family=\"Helvetica,sans-Serif\" font-size=\"14.00\" fill=\"#000000\">freetime ≤ 1.5</text>\n<text text-anchor=\"start\" x=\"547\" y=\"-275.8\" font-family=\"Helvetica,sans-Serif\" font-size=\"14.00\" fill=\"#000000\">gini = 0.475</text>\n<text text-anchor=\"start\" x=\"541\" y=\"-260.8\" font-family=\"Helvetica,sans-Serif\" font-size=\"14.00\" fill=\"#000000\">samples = 31</text>\n<text text-anchor=\"start\" x=\"535\" y=\"-245.8\" font-family=\"Helvetica,sans-Serif\" font-size=\"14.00\" fill=\"#000000\">value = [12, 19]</text>\n<text text-anchor=\"start\" x=\"533.5\" y=\"-230.8\" font-family=\"Helvetica,sans-Serif\" font-size=\"14.00\" fill=\"#000000\">class = не сдал</text>\n</g>\n<!-- 2&#45;&gt;10 -->\n<g id=\"edge10\" class=\"edge\">\n<title>2&#45;&gt;10</title>\n<path fill=\"none\" stroke=\"#000000\" d=\"M585,-341.8796C585,-333.6838 585,-324.9891 585,-316.5013\"/>\n<polygon fill=\"#000000\" stroke=\"#000000\" points=\"588.5001,-316.298 585,-306.2981 581.5001,-316.2981 588.5001,-316.298\"/>\n</g>\n<!-- 4 -->\n<g id=\"node5\" class=\"node\">\n<title>4</title>\n<path fill=\"#f8e0ce\" stroke=\"#000000\" d=\"M219,-187C219,-187 141,-187 141,-187 135,-187 129,-181 129,-175 129,-175 129,-116 129,-116 129,-110 135,-104 141,-104 141,-104 219,-104 219,-104 225,-104 231,-110 231,-116 231,-116 231,-175 231,-175 231,-181 225,-187 219,-187\"/>\n<text text-anchor=\"start\" x=\"148\" y=\"-171.8\" font-family=\"Helvetica,sans-Serif\" font-size=\"14.00\" fill=\"#000000\">paid ≤ 0.5</text>\n<text text-anchor=\"start\" x=\"146.5\" y=\"-156.8\" font-family=\"Helvetica,sans-Serif\" font-size=\"14.00\" fill=\"#000000\">gini = 0.49</text>\n<text text-anchor=\"start\" x=\"140.5\" y=\"-141.8\" font-family=\"Helvetica,sans-Serif\" font-size=\"14.00\" fill=\"#000000\">samples = 7</text>\n<text text-anchor=\"start\" x=\"138.5\" y=\"-126.8\" font-family=\"Helvetica,sans-Serif\" font-size=\"14.00\" fill=\"#000000\">value = [4, 3]</text>\n<text text-anchor=\"start\" x=\"137\" y=\"-111.8\" font-family=\"Helvetica,sans-Serif\" font-size=\"14.00\" fill=\"#000000\">class = сдал </text>\n</g>\n<!-- 3&#45;&gt;4 -->\n<g id=\"edge4\" class=\"edge\">\n<title>3&#45;&gt;4</title>\n<path fill=\"none\" stroke=\"#000000\" d=\"M322.9369,-228.4731C296.5736,-213.1696 265.96,-195.3987 239.8434,-180.2383\"/>\n<polygon fill=\"#000000\" stroke=\"#000000\" points=\"241.5771,-177.1978 231.1714,-175.2044 238.0628,-183.2518 241.5771,-177.1978\"/>\n</g>\n<!-- 7 -->\n<g id=\"node8\" class=\"node\">\n<title>7</title>\n<path fill=\"#5caeea\" stroke=\"#000000\" d=\"M435,-187C435,-187 335,-187 335,-187 329,-187 323,-181 323,-175 323,-175 323,-116 323,-116 323,-110 329,-104 335,-104 335,-104 435,-104 435,-104 441,-104 447,-110 447,-116 447,-116 447,-175 447,-175 447,-181 441,-187 435,-187\"/>\n<text text-anchor=\"start\" x=\"331\" y=\"-171.8\" font-family=\"Helvetica,sans-Serif\" font-size=\"14.00\" fill=\"#000000\">absences ≤ 17.5</text>\n<text text-anchor=\"start\" x=\"347\" y=\"-156.8\" font-family=\"Helvetica,sans-Serif\" font-size=\"14.00\" fill=\"#000000\">gini = 0.254</text>\n<text text-anchor=\"start\" x=\"337\" y=\"-141.8\" font-family=\"Helvetica,sans-Serif\" font-size=\"14.00\" fill=\"#000000\">samples = 214</text>\n<text text-anchor=\"start\" x=\"331\" y=\"-126.8\" font-family=\"Helvetica,sans-Serif\" font-size=\"14.00\" fill=\"#000000\">value = [32, 182]</text>\n<text text-anchor=\"start\" x=\"333.5\" y=\"-111.8\" font-family=\"Helvetica,sans-Serif\" font-size=\"14.00\" fill=\"#000000\">class = не сдал</text>\n</g>\n<!-- 3&#45;&gt;7 -->\n<g id=\"edge7\" class=\"edge\">\n<title>3&#45;&gt;7</title>\n<path fill=\"none\" stroke=\"#000000\" d=\"M385,-222.8796C385,-214.6838 385,-205.9891 385,-197.5013\"/>\n<polygon fill=\"#000000\" stroke=\"#000000\" points=\"388.5001,-197.298 385,-187.2981 381.5001,-197.2981 388.5001,-197.298\"/>\n</g>\n<!-- 5 -->\n<g id=\"node6\" class=\"node\">\n<title>5</title>\n<path fill=\"#e58139\" stroke=\"#000000\" d=\"M90,-68C90,-68 12,-68 12,-68 6,-68 0,-62 0,-56 0,-56 0,-12 0,-12 0,-6 6,0 12,0 12,0 90,0 90,0 96,0 102,-6 102,-12 102,-12 102,-56 102,-56 102,-62 96,-68 90,-68\"/>\n<text text-anchor=\"start\" x=\"21.5\" y=\"-52.8\" font-family=\"Helvetica,sans-Serif\" font-size=\"14.00\" fill=\"#000000\">gini = 0.0</text>\n<text text-anchor=\"start\" x=\"11.5\" y=\"-37.8\" font-family=\"Helvetica,sans-Serif\" font-size=\"14.00\" fill=\"#000000\">samples = 4</text>\n<text text-anchor=\"start\" x=\"9.5\" y=\"-22.8\" font-family=\"Helvetica,sans-Serif\" font-size=\"14.00\" fill=\"#000000\">value = [4, 0]</text>\n<text text-anchor=\"start\" x=\"8\" y=\"-7.8\" font-family=\"Helvetica,sans-Serif\" font-size=\"14.00\" fill=\"#000000\">class = сдал </text>\n</g>\n<!-- 4&#45;&gt;5 -->\n<g id=\"edge5\" class=\"edge\">\n<title>4&#45;&gt;5</title>\n<path fill=\"none\" stroke=\"#000000\" d=\"M131.9652,-103.9815C121.013,-94.5151 109.3821,-84.462 98.4544,-75.0168\"/>\n<polygon fill=\"#000000\" stroke=\"#000000\" points=\"100.4957,-72.155 90.6414,-68.2637 95.9182,-77.4509 100.4957,-72.155\"/>\n</g>\n<!-- 6 -->\n<g id=\"node7\" class=\"node\">\n<title>6</title>\n<path fill=\"#399de5\" stroke=\"#000000\" d=\"M227.5,-68C227.5,-68 132.5,-68 132.5,-68 126.5,-68 120.5,-62 120.5,-56 120.5,-56 120.5,-12 120.5,-12 120.5,-6 126.5,0 132.5,0 132.5,0 227.5,0 227.5,0 233.5,0 239.5,-6 239.5,-12 239.5,-12 239.5,-56 239.5,-56 239.5,-62 233.5,-68 227.5,-68\"/>\n<text text-anchor=\"start\" x=\"150.5\" y=\"-52.8\" font-family=\"Helvetica,sans-Serif\" font-size=\"14.00\" fill=\"#000000\">gini = 0.0</text>\n<text text-anchor=\"start\" x=\"140.5\" y=\"-37.8\" font-family=\"Helvetica,sans-Serif\" font-size=\"14.00\" fill=\"#000000\">samples = 3</text>\n<text text-anchor=\"start\" x=\"138.5\" y=\"-22.8\" font-family=\"Helvetica,sans-Serif\" font-size=\"14.00\" fill=\"#000000\">value = [0, 3]</text>\n<text text-anchor=\"start\" x=\"128.5\" y=\"-7.8\" font-family=\"Helvetica,sans-Serif\" font-size=\"14.00\" fill=\"#000000\">class = не сдал</text>\n</g>\n<!-- 4&#45;&gt;6 -->\n<g id=\"edge6\" class=\"edge\">\n<title>4&#45;&gt;6</title>\n<path fill=\"none\" stroke=\"#000000\" d=\"M180,-103.9815C180,-95.618 180,-86.7965 180,-78.3409\"/>\n<polygon fill=\"#000000\" stroke=\"#000000\" points=\"183.5001,-78.2636 180,-68.2637 176.5001,-78.2637 183.5001,-78.2636\"/>\n</g>\n<!-- 8 -->\n<g id=\"node9\" class=\"node\">\n<title>8</title>\n<path fill=\"#57ace9\" stroke=\"#000000\" d=\"M370,-68C370,-68 270,-68 270,-68 264,-68 258,-62 258,-56 258,-56 258,-12 258,-12 258,-6 264,0 270,0 270,0 370,0 370,0 376,0 382,-6 382,-12 382,-12 382,-56 382,-56 382,-62 376,-68 370,-68\"/>\n<text text-anchor=\"start\" x=\"286.5\" y=\"-52.8\" font-family=\"Helvetica,sans-Serif\" font-size=\"14.00\" fill=\"#000000\">gini = 0.23</text>\n<text text-anchor=\"start\" x=\"272\" y=\"-37.8\" font-family=\"Helvetica,sans-Serif\" font-size=\"14.00\" fill=\"#000000\">samples = 204</text>\n<text text-anchor=\"start\" x=\"266\" y=\"-22.8\" font-family=\"Helvetica,sans-Serif\" font-size=\"14.00\" fill=\"#000000\">value = [27, 177]</text>\n<text text-anchor=\"start\" x=\"268.5\" y=\"-7.8\" font-family=\"Helvetica,sans-Serif\" font-size=\"14.00\" fill=\"#000000\">class = не сдал</text>\n</g>\n<!-- 7&#45;&gt;8 -->\n<g id=\"edge8\" class=\"edge\">\n<title>7&#45;&gt;8</title>\n<path fill=\"none\" stroke=\"#000000\" d=\"M360.7964,-103.9815C355.6529,-95.1585 350.2123,-85.8258 345.0384,-76.9506\"/>\n<polygon fill=\"#000000\" stroke=\"#000000\" points=\"348.0344,-75.1402 339.9743,-68.2637 341.987,-78.6656 348.0344,-75.1402\"/>\n</g>\n<!-- 9 -->\n<g id=\"node10\" class=\"node\">\n<title>9</title>\n<path fill=\"#ffffff\" stroke=\"#000000\" d=\"M492,-68C492,-68 412,-68 412,-68 406,-68 400,-62 400,-56 400,-56 400,-12 400,-12 400,-6 406,0 412,0 412,0 492,0 492,0 498,0 504,-6 504,-12 504,-12 504,-56 504,-56 504,-62 498,-68 492,-68\"/>\n<text text-anchor=\"start\" x=\"422.5\" y=\"-52.8\" font-family=\"Helvetica,sans-Serif\" font-size=\"14.00\" fill=\"#000000\">gini = 0.5</text>\n<text text-anchor=\"start\" x=\"408\" y=\"-37.8\" font-family=\"Helvetica,sans-Serif\" font-size=\"14.00\" fill=\"#000000\">samples = 10</text>\n<text text-anchor=\"start\" x=\"410.5\" y=\"-22.8\" font-family=\"Helvetica,sans-Serif\" font-size=\"14.00\" fill=\"#000000\">value = [5, 5]</text>\n<text text-anchor=\"start\" x=\"409\" y=\"-7.8\" font-family=\"Helvetica,sans-Serif\" font-size=\"14.00\" fill=\"#000000\">class = сдал </text>\n</g>\n<!-- 7&#45;&gt;9 -->\n<g id=\"edge9\" class=\"edge\">\n<title>7&#45;&gt;9</title>\n<path fill=\"none\" stroke=\"#000000\" d=\"M409.9483,-103.9815C415.2501,-95.1585 420.8581,-85.8258 426.1911,-76.9506\"/>\n<polygon fill=\"#000000\" stroke=\"#000000\" points=\"429.2605,-78.638 431.4111,-68.2637 423.2604,-75.0325 429.2605,-78.638\"/>\n</g>\n<!-- 11 -->\n<g id=\"node12\" class=\"node\">\n<title>11</title>\n<path fill=\"#e58139\" stroke=\"#000000\" d=\"M556,-179.5C556,-179.5 478,-179.5 478,-179.5 472,-179.5 466,-173.5 466,-167.5 466,-167.5 466,-123.5 466,-123.5 466,-117.5 472,-111.5 478,-111.5 478,-111.5 556,-111.5 556,-111.5 562,-111.5 568,-117.5 568,-123.5 568,-123.5 568,-167.5 568,-167.5 568,-173.5 562,-179.5 556,-179.5\"/>\n<text text-anchor=\"start\" x=\"487.5\" y=\"-164.3\" font-family=\"Helvetica,sans-Serif\" font-size=\"14.00\" fill=\"#000000\">gini = 0.0</text>\n<text text-anchor=\"start\" x=\"477.5\" y=\"-149.3\" font-family=\"Helvetica,sans-Serif\" font-size=\"14.00\" fill=\"#000000\">samples = 3</text>\n<text text-anchor=\"start\" x=\"475.5\" y=\"-134.3\" font-family=\"Helvetica,sans-Serif\" font-size=\"14.00\" fill=\"#000000\">value = [3, 0]</text>\n<text text-anchor=\"start\" x=\"474\" y=\"-119.3\" font-family=\"Helvetica,sans-Serif\" font-size=\"14.00\" fill=\"#000000\">class = сдал </text>\n</g>\n<!-- 10&#45;&gt;11 -->\n<g id=\"edge11\" class=\"edge\">\n<title>10&#45;&gt;11</title>\n<path fill=\"none\" stroke=\"#000000\" d=\"M561.2169,-222.8796C554.8706,-211.7735 548.0007,-199.7513 541.6109,-188.5691\"/>\n<polygon fill=\"#000000\" stroke=\"#000000\" points=\"544.6088,-186.7609 536.6085,-179.8149 538.5311,-190.2339 544.6088,-186.7609\"/>\n</g>\n<!-- 12 -->\n<g id=\"node13\" class=\"node\">\n<title>12</title>\n<path fill=\"#97cbf1\" stroke=\"#000000\" d=\"M693.5,-187C693.5,-187 598.5,-187 598.5,-187 592.5,-187 586.5,-181 586.5,-175 586.5,-175 586.5,-116 586.5,-116 586.5,-110 592.5,-104 598.5,-104 598.5,-104 693.5,-104 693.5,-104 699.5,-104 705.5,-110 705.5,-116 705.5,-116 705.5,-175 705.5,-175 705.5,-181 699.5,-187 693.5,-187\"/>\n<text text-anchor=\"start\" x=\"597\" y=\"-171.8\" font-family=\"Helvetica,sans-Serif\" font-size=\"14.00\" fill=\"#000000\">studytime ≤ 3.5</text>\n<text text-anchor=\"start\" x=\"608\" y=\"-156.8\" font-family=\"Helvetica,sans-Serif\" font-size=\"14.00\" fill=\"#000000\">gini = 0.436</text>\n<text text-anchor=\"start\" x=\"602\" y=\"-141.8\" font-family=\"Helvetica,sans-Serif\" font-size=\"14.00\" fill=\"#000000\">samples = 28</text>\n<text text-anchor=\"start\" x=\"600.5\" y=\"-126.8\" font-family=\"Helvetica,sans-Serif\" font-size=\"14.00\" fill=\"#000000\">value = [9, 19]</text>\n<text text-anchor=\"start\" x=\"594.5\" y=\"-111.8\" font-family=\"Helvetica,sans-Serif\" font-size=\"14.00\" fill=\"#000000\">class = не сдал</text>\n</g>\n<!-- 10&#45;&gt;12 -->\n<g id=\"edge12\" class=\"edge\">\n<title>10&#45;&gt;12</title>\n<path fill=\"none\" stroke=\"#000000\" d=\"M606.3348,-222.8796C610.7207,-214.3236 615.3853,-205.2238 619.917,-196.3833\"/>\n<polygon fill=\"#000000\" stroke=\"#000000\" points=\"623.127,-197.7936 624.5741,-187.2981 616.8978,-194.6004 623.127,-197.7936\"/>\n</g>\n<!-- 13 -->\n<g id=\"node14\" class=\"node\">\n<title>13</title>\n<path fill=\"#82c1ef\" stroke=\"#000000\" d=\"M629.5,-68C629.5,-68 534.5,-68 534.5,-68 528.5,-68 522.5,-62 522.5,-56 522.5,-56 522.5,-12 522.5,-12 522.5,-6 528.5,0 534.5,0 534.5,0 629.5,0 629.5,0 635.5,0 641.5,-6 641.5,-12 641.5,-12 641.5,-56 641.5,-56 641.5,-62 635.5,-68 629.5,-68\"/>\n<text text-anchor=\"start\" x=\"544\" y=\"-52.8\" font-family=\"Helvetica,sans-Serif\" font-size=\"14.00\" fill=\"#000000\">gini = 0.393</text>\n<text text-anchor=\"start\" x=\"538\" y=\"-37.8\" font-family=\"Helvetica,sans-Serif\" font-size=\"14.00\" fill=\"#000000\">samples = 26</text>\n<text text-anchor=\"start\" x=\"536.5\" y=\"-22.8\" font-family=\"Helvetica,sans-Serif\" font-size=\"14.00\" fill=\"#000000\">value = [7, 19]</text>\n<text text-anchor=\"start\" x=\"530.5\" y=\"-7.8\" font-family=\"Helvetica,sans-Serif\" font-size=\"14.00\" fill=\"#000000\">class = не сдал</text>\n</g>\n<!-- 12&#45;&gt;13 -->\n<g id=\"edge13\" class=\"edge\">\n<title>12&#45;&gt;13</title>\n<path fill=\"none\" stroke=\"#000000\" d=\"M622.1688,-103.9815C617.1044,-95.1585 611.7475,-85.8258 606.6532,-76.9506\"/>\n<polygon fill=\"#000000\" stroke=\"#000000\" points=\"609.6807,-75.1942 601.667,-68.2637 603.6097,-78.6789 609.6807,-75.1942\"/>\n</g>\n<!-- 14 -->\n<g id=\"node15\" class=\"node\">\n<title>14</title>\n<path fill=\"#e58139\" stroke=\"#000000\" d=\"M750,-68C750,-68 672,-68 672,-68 666,-68 660,-62 660,-56 660,-56 660,-12 660,-12 660,-6 666,0 672,0 672,0 750,0 750,0 756,0 762,-6 762,-12 762,-12 762,-56 762,-56 762,-62 756,-68 750,-68\"/>\n<text text-anchor=\"start\" x=\"681.5\" y=\"-52.8\" font-family=\"Helvetica,sans-Serif\" font-size=\"14.00\" fill=\"#000000\">gini = 0.0</text>\n<text text-anchor=\"start\" x=\"671.5\" y=\"-37.8\" font-family=\"Helvetica,sans-Serif\" font-size=\"14.00\" fill=\"#000000\">samples = 2</text>\n<text text-anchor=\"start\" x=\"669.5\" y=\"-22.8\" font-family=\"Helvetica,sans-Serif\" font-size=\"14.00\" fill=\"#000000\">value = [2, 0]</text>\n<text text-anchor=\"start\" x=\"668\" y=\"-7.8\" font-family=\"Helvetica,sans-Serif\" font-size=\"14.00\" fill=\"#000000\">class = сдал </text>\n</g>\n<!-- 12&#45;&gt;14 -->\n<g id=\"edge14\" class=\"edge\">\n<title>12&#45;&gt;14</title>\n<path fill=\"none\" stroke=\"#000000\" d=\"M670.2036,-103.9815C675.3471,-95.1585 680.7877,-85.8258 685.9616,-76.9506\"/>\n<polygon fill=\"#000000\" stroke=\"#000000\" points=\"689.013,-78.6656 691.0257,-68.2637 682.9656,-75.1402 689.013,-78.6656\"/>\n</g>\n<!-- 16 -->\n<g id=\"node17\" class=\"node\">\n<title>16</title>\n<path fill=\"#3fa0e6\" stroke=\"#000000\" d=\"M1228,-306C1228,-306 1128,-306 1128,-306 1122,-306 1116,-300 1116,-294 1116,-294 1116,-235 1116,-235 1116,-229 1122,-223 1128,-223 1128,-223 1228,-223 1228,-223 1234,-223 1240,-229 1240,-235 1240,-235 1240,-294 1240,-294 1240,-300 1234,-306 1228,-306\"/>\n<text text-anchor=\"start\" x=\"1124\" y=\"-290.8\" font-family=\"Helvetica,sans-Serif\" font-size=\"14.00\" fill=\"#000000\">absences ≤ 11.5</text>\n<text text-anchor=\"start\" x=\"1140\" y=\"-275.8\" font-family=\"Helvetica,sans-Serif\" font-size=\"14.00\" fill=\"#000000\">gini = 0.054</text>\n<text text-anchor=\"start\" x=\"1130\" y=\"-260.8\" font-family=\"Helvetica,sans-Serif\" font-size=\"14.00\" fill=\"#000000\">samples = 323</text>\n<text text-anchor=\"start\" x=\"1128\" y=\"-245.8\" font-family=\"Helvetica,sans-Serif\" font-size=\"14.00\" fill=\"#000000\">value = [9, 314]</text>\n<text text-anchor=\"start\" x=\"1126.5\" y=\"-230.8\" font-family=\"Helvetica,sans-Serif\" font-size=\"14.00\" fill=\"#000000\">class = не сдал</text>\n</g>\n<!-- 15&#45;&gt;16 -->\n<g id=\"edge16\" class=\"edge\">\n<title>15&#45;&gt;16</title>\n<path fill=\"none\" stroke=\"#000000\" d=\"M1311.9844,-345.8477C1291.9652,-333.6932 1269.6196,-320.1262 1249.003,-307.6089\"/>\n<polygon fill=\"#000000\" stroke=\"#000000\" points=\"1250.6493,-304.5139 1240.2849,-302.3159 1247.0164,-310.4974 1250.6493,-304.5139\"/>\n</g>\n<!-- 23 -->\n<g id=\"node24\" class=\"node\">\n<title>23</title>\n<path fill=\"#4ea7e8\" stroke=\"#000000\" d=\"M1490,-306C1490,-306 1390,-306 1390,-306 1384,-306 1378,-300 1378,-294 1378,-294 1378,-235 1378,-235 1378,-229 1384,-223 1390,-223 1390,-223 1490,-223 1490,-223 1496,-223 1502,-229 1502,-235 1502,-235 1502,-294 1502,-294 1502,-300 1496,-306 1490,-306\"/>\n<text text-anchor=\"start\" x=\"1396\" y=\"-290.8\" font-family=\"Helvetica,sans-Serif\" font-size=\"14.00\" fill=\"#000000\">address ≤ 0.5</text>\n<text text-anchor=\"start\" x=\"1406.5\" y=\"-275.8\" font-family=\"Helvetica,sans-Serif\" font-size=\"14.00\" fill=\"#000000\">gini = 0.17</text>\n<text text-anchor=\"start\" x=\"1392\" y=\"-260.8\" font-family=\"Helvetica,sans-Serif\" font-size=\"14.00\" fill=\"#000000\">samples = 117</text>\n<text text-anchor=\"start\" x=\"1386\" y=\"-245.8\" font-family=\"Helvetica,sans-Serif\" font-size=\"14.00\" fill=\"#000000\">value = [11, 106]</text>\n<text text-anchor=\"start\" x=\"1388.5\" y=\"-230.8\" font-family=\"Helvetica,sans-Serif\" font-size=\"14.00\" fill=\"#000000\">class = не сдал</text>\n</g>\n<!-- 15&#45;&gt;23 -->\n<g id=\"edge23\" class=\"edge\">\n<title>15&#45;&gt;23</title>\n<path fill=\"none\" stroke=\"#000000\" d=\"M1397.0836,-341.8796C1401.8789,-333.2335 1406.9822,-324.0322 1411.9338,-315.1042\"/>\n<polygon fill=\"#000000\" stroke=\"#000000\" points=\"1415.0284,-316.7407 1416.8179,-306.2981 1408.9069,-313.3455 1415.0284,-316.7407\"/>\n</g>\n<!-- 17 -->\n<g id=\"node18\" class=\"node\">\n<title>17</title>\n<path fill=\"#3e9fe6\" stroke=\"#000000\" d=\"M1024.5,-187C1024.5,-187 929.5,-187 929.5,-187 923.5,-187 917.5,-181 917.5,-175 917.5,-175 917.5,-116 917.5,-116 917.5,-110 923.5,-104 929.5,-104 929.5,-104 1024.5,-104 1024.5,-104 1030.5,-104 1036.5,-110 1036.5,-116 1036.5,-116 1036.5,-175 1036.5,-175 1036.5,-181 1030.5,-187 1024.5,-187\"/>\n<text text-anchor=\"start\" x=\"937.5\" y=\"-171.8\" font-family=\"Helvetica,sans-Serif\" font-size=\"14.00\" fill=\"#000000\">school ≤ 0.5</text>\n<text text-anchor=\"start\" x=\"939\" y=\"-156.8\" font-family=\"Helvetica,sans-Serif\" font-size=\"14.00\" fill=\"#000000\">gini = 0.045</text>\n<text text-anchor=\"start\" x=\"929\" y=\"-141.8\" font-family=\"Helvetica,sans-Serif\" font-size=\"14.00\" fill=\"#000000\">samples = 306</text>\n<text text-anchor=\"start\" x=\"927\" y=\"-126.8\" font-family=\"Helvetica,sans-Serif\" font-size=\"14.00\" fill=\"#000000\">value = [7, 299]</text>\n<text text-anchor=\"start\" x=\"925.5\" y=\"-111.8\" font-family=\"Helvetica,sans-Serif\" font-size=\"14.00\" fill=\"#000000\">class = не сдал</text>\n</g>\n<!-- 16&#45;&gt;17 -->\n<g id=\"edge17\" class=\"edge\">\n<title>16&#45;&gt;17</title>\n<path fill=\"none\" stroke=\"#000000\" d=\"M1115.7789,-227.6626C1093.3893,-214.4071 1068.0198,-199.3873 1045.1516,-185.8485\"/>\n<polygon fill=\"#000000\" stroke=\"#000000\" points=\"1046.9091,-182.8216 1036.521,-180.7388 1043.3429,-188.8451 1046.9091,-182.8216\"/>\n</g>\n<!-- 20 -->\n<g id=\"node21\" class=\"node\">\n<title>20</title>\n<path fill=\"#53aae8\" stroke=\"#000000\" d=\"M1225.5,-187C1225.5,-187 1130.5,-187 1130.5,-187 1124.5,-187 1118.5,-181 1118.5,-175 1118.5,-175 1118.5,-116 1118.5,-116 1118.5,-110 1124.5,-104 1130.5,-104 1130.5,-104 1225.5,-104 1225.5,-104 1231.5,-104 1237.5,-110 1237.5,-116 1237.5,-116 1237.5,-175 1237.5,-175 1237.5,-181 1231.5,-187 1225.5,-187\"/>\n<text text-anchor=\"start\" x=\"1145.5\" y=\"-171.8\" font-family=\"Helvetica,sans-Serif\" font-size=\"14.00\" fill=\"#000000\">Dalc ≤ 4.5</text>\n<text text-anchor=\"start\" x=\"1140\" y=\"-156.8\" font-family=\"Helvetica,sans-Serif\" font-size=\"14.00\" fill=\"#000000\">gini = 0.208</text>\n<text text-anchor=\"start\" x=\"1134\" y=\"-141.8\" font-family=\"Helvetica,sans-Serif\" font-size=\"14.00\" fill=\"#000000\">samples = 17</text>\n<text text-anchor=\"start\" x=\"1132.5\" y=\"-126.8\" font-family=\"Helvetica,sans-Serif\" font-size=\"14.00\" fill=\"#000000\">value = [2, 15]</text>\n<text text-anchor=\"start\" x=\"1126.5\" y=\"-111.8\" font-family=\"Helvetica,sans-Serif\" font-size=\"14.00\" fill=\"#000000\">class = не сдал</text>\n</g>\n<!-- 16&#45;&gt;20 -->\n<g id=\"edge20\" class=\"edge\">\n<title>16&#45;&gt;20</title>\n<path fill=\"none\" stroke=\"#000000\" d=\"M1178,-222.8796C1178,-214.6838 1178,-205.9891 1178,-197.5013\"/>\n<polygon fill=\"#000000\" stroke=\"#000000\" points=\"1181.5001,-197.298 1178,-187.2981 1174.5001,-197.2981 1181.5001,-197.298\"/>\n</g>\n<!-- 18 -->\n<g id=\"node19\" class=\"node\">\n<title>18</title>\n<path fill=\"#44a3e6\" stroke=\"#000000\" d=\"M887.5,-68C887.5,-68 792.5,-68 792.5,-68 786.5,-68 780.5,-62 780.5,-56 780.5,-56 780.5,-12 780.5,-12 780.5,-6 786.5,0 792.5,0 792.5,0 887.5,0 887.5,0 893.5,0 899.5,-6 899.5,-12 899.5,-12 899.5,-56 899.5,-56 899.5,-62 893.5,-68 887.5,-68\"/>\n<text text-anchor=\"start\" x=\"802\" y=\"-52.8\" font-family=\"Helvetica,sans-Serif\" font-size=\"14.00\" fill=\"#000000\">gini = 0.101</text>\n<text text-anchor=\"start\" x=\"796\" y=\"-37.8\" font-family=\"Helvetica,sans-Serif\" font-size=\"14.00\" fill=\"#000000\">samples = 94</text>\n<text text-anchor=\"start\" x=\"794.5\" y=\"-22.8\" font-family=\"Helvetica,sans-Serif\" font-size=\"14.00\" fill=\"#000000\">value = [5, 89]</text>\n<text text-anchor=\"start\" x=\"788.5\" y=\"-7.8\" font-family=\"Helvetica,sans-Serif\" font-size=\"14.00\" fill=\"#000000\">class = не сдал</text>\n</g>\n<!-- 17&#45;&gt;18 -->\n<g id=\"edge18\" class=\"edge\">\n<title>17&#45;&gt;18</title>\n<path fill=\"none\" stroke=\"#000000\" d=\"M925.9863,-103.9815C914.242,-94.4232 901.7628,-84.2668 890.0595,-74.7419\"/>\n<polygon fill=\"#000000\" stroke=\"#000000\" points=\"892.065,-71.8614 882.0998,-68.2637 887.6464,-77.2906 892.065,-71.8614\"/>\n</g>\n<!-- 19 -->\n<g id=\"node20\" class=\"node\">\n<title>19</title>\n<path fill=\"#3b9ee5\" stroke=\"#000000\" d=\"M1024.5,-68C1024.5,-68 929.5,-68 929.5,-68 923.5,-68 917.5,-62 917.5,-56 917.5,-56 917.5,-12 917.5,-12 917.5,-6 923.5,0 929.5,0 929.5,0 1024.5,0 1024.5,0 1030.5,0 1036.5,-6 1036.5,-12 1036.5,-12 1036.5,-56 1036.5,-56 1036.5,-62 1030.5,-68 1024.5,-68\"/>\n<text text-anchor=\"start\" x=\"939\" y=\"-52.8\" font-family=\"Helvetica,sans-Serif\" font-size=\"14.00\" fill=\"#000000\">gini = 0.019</text>\n<text text-anchor=\"start\" x=\"929\" y=\"-37.8\" font-family=\"Helvetica,sans-Serif\" font-size=\"14.00\" fill=\"#000000\">samples = 212</text>\n<text text-anchor=\"start\" x=\"927\" y=\"-22.8\" font-family=\"Helvetica,sans-Serif\" font-size=\"14.00\" fill=\"#000000\">value = [2, 210]</text>\n<text text-anchor=\"start\" x=\"925.5\" y=\"-7.8\" font-family=\"Helvetica,sans-Serif\" font-size=\"14.00\" fill=\"#000000\">class = не сдал</text>\n</g>\n<!-- 17&#45;&gt;19 -->\n<g id=\"edge19\" class=\"edge\">\n<title>17&#45;&gt;19</title>\n<path fill=\"none\" stroke=\"#000000\" d=\"M977,-103.9815C977,-95.618 977,-86.7965 977,-78.3409\"/>\n<polygon fill=\"#000000\" stroke=\"#000000\" points=\"980.5001,-78.2636 977,-68.2637 973.5001,-78.2637 980.5001,-78.2636\"/>\n</g>\n<!-- 21 -->\n<g id=\"node22\" class=\"node\">\n<title>21</title>\n<path fill=\"#46a4e7\" stroke=\"#000000\" d=\"M1161.5,-68C1161.5,-68 1066.5,-68 1066.5,-68 1060.5,-68 1054.5,-62 1054.5,-56 1054.5,-56 1054.5,-12 1054.5,-12 1054.5,-6 1060.5,0 1066.5,0 1066.5,0 1161.5,0 1161.5,0 1167.5,0 1173.5,-6 1173.5,-12 1173.5,-12 1173.5,-56 1173.5,-56 1173.5,-62 1167.5,-68 1161.5,-68\"/>\n<text text-anchor=\"start\" x=\"1076\" y=\"-52.8\" font-family=\"Helvetica,sans-Serif\" font-size=\"14.00\" fill=\"#000000\">gini = 0.117</text>\n<text text-anchor=\"start\" x=\"1070\" y=\"-37.8\" font-family=\"Helvetica,sans-Serif\" font-size=\"14.00\" fill=\"#000000\">samples = 16</text>\n<text text-anchor=\"start\" x=\"1068.5\" y=\"-22.8\" font-family=\"Helvetica,sans-Serif\" font-size=\"14.00\" fill=\"#000000\">value = [1, 15]</text>\n<text text-anchor=\"start\" x=\"1062.5\" y=\"-7.8\" font-family=\"Helvetica,sans-Serif\" font-size=\"14.00\" fill=\"#000000\">class = не сдал</text>\n</g>\n<!-- 20&#45;&gt;21 -->\n<g id=\"edge21\" class=\"edge\">\n<title>20&#45;&gt;21</title>\n<path fill=\"none\" stroke=\"#000000\" d=\"M1154.1688,-103.9815C1149.1044,-95.1585 1143.7475,-85.8258 1138.6532,-76.9506\"/>\n<polygon fill=\"#000000\" stroke=\"#000000\" points=\"1141.6807,-75.1942 1133.667,-68.2637 1135.6097,-78.6789 1141.6807,-75.1942\"/>\n</g>\n<!-- 22 -->\n<g id=\"node23\" class=\"node\">\n<title>22</title>\n<path fill=\"#e58139\" stroke=\"#000000\" d=\"M1282,-68C1282,-68 1204,-68 1204,-68 1198,-68 1192,-62 1192,-56 1192,-56 1192,-12 1192,-12 1192,-6 1198,0 1204,0 1204,0 1282,0 1282,0 1288,0 1294,-6 1294,-12 1294,-12 1294,-56 1294,-56 1294,-62 1288,-68 1282,-68\"/>\n<text text-anchor=\"start\" x=\"1213.5\" y=\"-52.8\" font-family=\"Helvetica,sans-Serif\" font-size=\"14.00\" fill=\"#000000\">gini = 0.0</text>\n<text text-anchor=\"start\" x=\"1203.5\" y=\"-37.8\" font-family=\"Helvetica,sans-Serif\" font-size=\"14.00\" fill=\"#000000\">samples = 1</text>\n<text text-anchor=\"start\" x=\"1201.5\" y=\"-22.8\" font-family=\"Helvetica,sans-Serif\" font-size=\"14.00\" fill=\"#000000\">value = [1, 0]</text>\n<text text-anchor=\"start\" x=\"1200\" y=\"-7.8\" font-family=\"Helvetica,sans-Serif\" font-size=\"14.00\" fill=\"#000000\">class = сдал </text>\n</g>\n<!-- 20&#45;&gt;22 -->\n<g id=\"edge22\" class=\"edge\">\n<title>20&#45;&gt;22</title>\n<path fill=\"none\" stroke=\"#000000\" d=\"M1202.2036,-103.9815C1207.3471,-95.1585 1212.7877,-85.8258 1217.9616,-76.9506\"/>\n<polygon fill=\"#000000\" stroke=\"#000000\" points=\"1221.013,-78.6656 1223.0257,-68.2637 1214.9656,-75.1402 1221.013,-78.6656\"/>\n</g>\n<!-- 24 -->\n<g id=\"node25\" class=\"node\">\n<title>24</title>\n<path fill=\"#70b8ec\" stroke=\"#000000\" d=\"M1487.5,-187C1487.5,-187 1392.5,-187 1392.5,-187 1386.5,-187 1380.5,-181 1380.5,-175 1380.5,-175 1380.5,-116 1380.5,-116 1380.5,-110 1386.5,-104 1392.5,-104 1392.5,-104 1487.5,-104 1487.5,-104 1493.5,-104 1499.5,-110 1499.5,-116 1499.5,-116 1499.5,-175 1499.5,-175 1499.5,-181 1493.5,-187 1487.5,-187\"/>\n<text text-anchor=\"start\" x=\"1394.5\" y=\"-171.8\" font-family=\"Helvetica,sans-Serif\" font-size=\"14.00\" fill=\"#000000\">activities ≤ 0.5</text>\n<text text-anchor=\"start\" x=\"1402\" y=\"-156.8\" font-family=\"Helvetica,sans-Serif\" font-size=\"14.00\" fill=\"#000000\">gini = 0.339</text>\n<text text-anchor=\"start\" x=\"1396\" y=\"-141.8\" font-family=\"Helvetica,sans-Serif\" font-size=\"14.00\" fill=\"#000000\">samples = 37</text>\n<text text-anchor=\"start\" x=\"1394.5\" y=\"-126.8\" font-family=\"Helvetica,sans-Serif\" font-size=\"14.00\" fill=\"#000000\">value = [8, 29]</text>\n<text text-anchor=\"start\" x=\"1388.5\" y=\"-111.8\" font-family=\"Helvetica,sans-Serif\" font-size=\"14.00\" fill=\"#000000\">class = не сдал</text>\n</g>\n<!-- 23&#45;&gt;24 -->\n<g id=\"edge24\" class=\"edge\">\n<title>23&#45;&gt;24</title>\n<path fill=\"none\" stroke=\"#000000\" d=\"M1440,-222.8796C1440,-214.6838 1440,-205.9891 1440,-197.5013\"/>\n<polygon fill=\"#000000\" stroke=\"#000000\" points=\"1443.5001,-197.298 1440,-187.2981 1436.5001,-197.2981 1443.5001,-197.298\"/>\n</g>\n<!-- 27 -->\n<g id=\"node28\" class=\"node\">\n<title>27</title>\n<path fill=\"#41a1e6\" stroke=\"#000000\" d=\"M1696,-187C1696,-187 1596,-187 1596,-187 1590,-187 1584,-181 1584,-175 1584,-175 1584,-116 1584,-116 1584,-110 1590,-104 1596,-104 1596,-104 1696,-104 1696,-104 1702,-104 1708,-110 1708,-116 1708,-116 1708,-175 1708,-175 1708,-181 1702,-187 1696,-187\"/>\n<text text-anchor=\"start\" x=\"1592\" y=\"-171.8\" font-family=\"Helvetica,sans-Serif\" font-size=\"14.00\" fill=\"#000000\">absences ≤ 18.5</text>\n<text text-anchor=\"start\" x=\"1608\" y=\"-156.8\" font-family=\"Helvetica,sans-Serif\" font-size=\"14.00\" fill=\"#000000\">gini = 0.072</text>\n<text text-anchor=\"start\" x=\"1602\" y=\"-141.8\" font-family=\"Helvetica,sans-Serif\" font-size=\"14.00\" fill=\"#000000\">samples = 80</text>\n<text text-anchor=\"start\" x=\"1600.5\" y=\"-126.8\" font-family=\"Helvetica,sans-Serif\" font-size=\"14.00\" fill=\"#000000\">value = [3, 77]</text>\n<text text-anchor=\"start\" x=\"1594.5\" y=\"-111.8\" font-family=\"Helvetica,sans-Serif\" font-size=\"14.00\" fill=\"#000000\">class = не сдал</text>\n</g>\n<!-- 23&#45;&gt;27 -->\n<g id=\"edge27\" class=\"edge\">\n<title>23&#45;&gt;27</title>\n<path fill=\"none\" stroke=\"#000000\" d=\"M1502.0861,-228.6347C1524.9864,-215.4059 1551.1086,-200.3159 1574.7557,-186.6557\"/>\n<polygon fill=\"#000000\" stroke=\"#000000\" points=\"1576.7772,-189.53 1583.6855,-181.4972 1573.2757,-183.4686 1576.7772,-189.53\"/>\n</g>\n<!-- 25 -->\n<g id=\"node26\" class=\"node\">\n<title>25</title>\n<path fill=\"#44a2e6\" stroke=\"#000000\" d=\"M1419.5,-68C1419.5,-68 1324.5,-68 1324.5,-68 1318.5,-68 1312.5,-62 1312.5,-56 1312.5,-56 1312.5,-12 1312.5,-12 1312.5,-6 1318.5,0 1324.5,0 1324.5,0 1419.5,0 1419.5,0 1425.5,0 1431.5,-6 1431.5,-12 1431.5,-12 1431.5,-56 1431.5,-56 1431.5,-62 1425.5,-68 1419.5,-68\"/>\n<text text-anchor=\"start\" x=\"1342.5\" y=\"-52.8\" font-family=\"Helvetica,sans-Serif\" font-size=\"14.00\" fill=\"#000000\">gini = 0.1</text>\n<text text-anchor=\"start\" x=\"1328\" y=\"-37.8\" font-family=\"Helvetica,sans-Serif\" font-size=\"14.00\" fill=\"#000000\">samples = 19</text>\n<text text-anchor=\"start\" x=\"1326.5\" y=\"-22.8\" font-family=\"Helvetica,sans-Serif\" font-size=\"14.00\" fill=\"#000000\">value = [1, 18]</text>\n<text text-anchor=\"start\" x=\"1320.5\" y=\"-7.8\" font-family=\"Helvetica,sans-Serif\" font-size=\"14.00\" fill=\"#000000\">class = не сдал</text>\n</g>\n<!-- 24&#45;&gt;25 -->\n<g id=\"edge25\" class=\"edge\">\n<title>24&#45;&gt;25</title>\n<path fill=\"none\" stroke=\"#000000\" d=\"M1414.6793,-103.9815C1409.2984,-95.1585 1403.6068,-85.8258 1398.1941,-76.9506\"/>\n<polygon fill=\"#000000\" stroke=\"#000000\" points=\"1401.0912,-74.9789 1392.8962,-68.2637 1395.1149,-78.6236 1401.0912,-74.9789\"/>\n</g>\n<!-- 26 -->\n<g id=\"node27\" class=\"node\">\n<title>26</title>\n<path fill=\"#b7dbf6\" stroke=\"#000000\" d=\"M1556.5,-68C1556.5,-68 1461.5,-68 1461.5,-68 1455.5,-68 1449.5,-62 1449.5,-56 1449.5,-56 1449.5,-12 1449.5,-12 1449.5,-6 1455.5,0 1461.5,0 1461.5,0 1556.5,0 1556.5,0 1562.5,0 1568.5,-6 1568.5,-12 1568.5,-12 1568.5,-56 1568.5,-56 1568.5,-62 1562.5,-68 1556.5,-68\"/>\n<text text-anchor=\"start\" x=\"1471\" y=\"-52.8\" font-family=\"Helvetica,sans-Serif\" font-size=\"14.00\" fill=\"#000000\">gini = 0.475</text>\n<text text-anchor=\"start\" x=\"1465\" y=\"-37.8\" font-family=\"Helvetica,sans-Serif\" font-size=\"14.00\" fill=\"#000000\">samples = 18</text>\n<text text-anchor=\"start\" x=\"1463.5\" y=\"-22.8\" font-family=\"Helvetica,sans-Serif\" font-size=\"14.00\" fill=\"#000000\">value = [7, 11]</text>\n<text text-anchor=\"start\" x=\"1457.5\" y=\"-7.8\" font-family=\"Helvetica,sans-Serif\" font-size=\"14.00\" fill=\"#000000\">class = не сдал</text>\n</g>\n<!-- 24&#45;&gt;26 -->\n<g id=\"edge26\" class=\"edge\">\n<title>24&#45;&gt;26</title>\n<path fill=\"none\" stroke=\"#000000\" d=\"M1465.6931,-103.9815C1471.1531,-95.1585 1476.9284,-85.8258 1482.4207,-76.9506\"/>\n<polygon fill=\"#000000\" stroke=\"#000000\" points=\"1485.5104,-78.609 1487.7965,-68.2637 1479.558,-74.9254 1485.5104,-78.609\"/>\n</g>\n<!-- 28 -->\n<g id=\"node29\" class=\"node\">\n<title>28</title>\n<path fill=\"#3ea0e6\" stroke=\"#000000\" d=\"M1693.5,-68C1693.5,-68 1598.5,-68 1598.5,-68 1592.5,-68 1586.5,-62 1586.5,-56 1586.5,-56 1586.5,-12 1586.5,-12 1586.5,-6 1592.5,0 1598.5,0 1598.5,0 1693.5,0 1693.5,0 1699.5,0 1705.5,-6 1705.5,-12 1705.5,-12 1705.5,-56 1705.5,-56 1705.5,-62 1699.5,-68 1693.5,-68\"/>\n<text text-anchor=\"start\" x=\"1612.5\" y=\"-52.8\" font-family=\"Helvetica,sans-Serif\" font-size=\"14.00\" fill=\"#000000\">gini = 0.05</text>\n<text text-anchor=\"start\" x=\"1602\" y=\"-37.8\" font-family=\"Helvetica,sans-Serif\" font-size=\"14.00\" fill=\"#000000\">samples = 78</text>\n<text text-anchor=\"start\" x=\"1600.5\" y=\"-22.8\" font-family=\"Helvetica,sans-Serif\" font-size=\"14.00\" fill=\"#000000\">value = [2, 76]</text>\n<text text-anchor=\"start\" x=\"1594.5\" y=\"-7.8\" font-family=\"Helvetica,sans-Serif\" font-size=\"14.00\" fill=\"#000000\">class = не сдал</text>\n</g>\n<!-- 27&#45;&gt;28 -->\n<g id=\"edge28\" class=\"edge\">\n<title>27&#45;&gt;28</title>\n<path fill=\"none\" stroke=\"#000000\" d=\"M1646,-103.9815C1646,-95.618 1646,-86.7965 1646,-78.3409\"/>\n<polygon fill=\"#000000\" stroke=\"#000000\" points=\"1649.5001,-78.2636 1646,-68.2637 1642.5001,-78.2637 1649.5001,-78.2636\"/>\n</g>\n<!-- 29 -->\n<g id=\"node30\" class=\"node\">\n<title>29</title>\n<path fill=\"#ffffff\" stroke=\"#000000\" d=\"M1814,-68C1814,-68 1736,-68 1736,-68 1730,-68 1724,-62 1724,-56 1724,-56 1724,-12 1724,-12 1724,-6 1730,0 1736,0 1736,0 1814,0 1814,0 1820,0 1826,-6 1826,-12 1826,-12 1826,-56 1826,-56 1826,-62 1820,-68 1814,-68\"/>\n<text text-anchor=\"start\" x=\"1745.5\" y=\"-52.8\" font-family=\"Helvetica,sans-Serif\" font-size=\"14.00\" fill=\"#000000\">gini = 0.5</text>\n<text text-anchor=\"start\" x=\"1735.5\" y=\"-37.8\" font-family=\"Helvetica,sans-Serif\" font-size=\"14.00\" fill=\"#000000\">samples = 2</text>\n<text text-anchor=\"start\" x=\"1733.5\" y=\"-22.8\" font-family=\"Helvetica,sans-Serif\" font-size=\"14.00\" fill=\"#000000\">value = [1, 1]</text>\n<text text-anchor=\"start\" x=\"1732\" y=\"-7.8\" font-family=\"Helvetica,sans-Serif\" font-size=\"14.00\" fill=\"#000000\">class = сдал </text>\n</g>\n<!-- 27&#45;&gt;29 -->\n<g id=\"edge29\" class=\"edge\">\n<title>27&#45;&gt;29</title>\n<path fill=\"none\" stroke=\"#000000\" d=\"M1694.0348,-103.9815C1704.987,-94.5151 1716.6179,-84.462 1727.5456,-75.0168\"/>\n<polygon fill=\"#000000\" stroke=\"#000000\" points=\"1730.0818,-77.4509 1735.3586,-68.2637 1725.5043,-72.155 1730.0818,-77.4509\"/>\n</g>\n<!-- 31 -->\n<g id=\"node32\" class=\"node\">\n<title>31</title>\n<path fill=\"#78bced\" stroke=\"#000000\" d=\"M2273.5,-425C2273.5,-425 2178.5,-425 2178.5,-425 2172.5,-425 2166.5,-419 2166.5,-413 2166.5,-413 2166.5,-354 2166.5,-354 2166.5,-348 2172.5,-342 2178.5,-342 2178.5,-342 2273.5,-342 2273.5,-342 2279.5,-342 2285.5,-348 2285.5,-354 2285.5,-354 2285.5,-413 2285.5,-413 2285.5,-419 2279.5,-425 2273.5,-425\"/>\n<text text-anchor=\"start\" x=\"2185\" y=\"-409.8\" font-family=\"Helvetica,sans-Serif\" font-size=\"14.00\" fill=\"#000000\">failures ≤ 2.5</text>\n<text text-anchor=\"start\" x=\"2188\" y=\"-394.8\" font-family=\"Helvetica,sans-Serif\" font-size=\"14.00\" fill=\"#000000\">gini = 0.367</text>\n<text text-anchor=\"start\" x=\"2182\" y=\"-379.8\" font-family=\"Helvetica,sans-Serif\" font-size=\"14.00\" fill=\"#000000\">samples = 33</text>\n<text text-anchor=\"start\" x=\"2180.5\" y=\"-364.8\" font-family=\"Helvetica,sans-Serif\" font-size=\"14.00\" fill=\"#000000\">value = [8, 25]</text>\n<text text-anchor=\"start\" x=\"2174.5\" y=\"-349.8\" font-family=\"Helvetica,sans-Serif\" font-size=\"14.00\" fill=\"#000000\">class = не сдал</text>\n</g>\n<!-- 30&#45;&gt;31 -->\n<g id=\"edge31\" class=\"edge\">\n<title>30&#45;&gt;31</title>\n<path fill=\"none\" stroke=\"#000000\" d=\"M2226,-460.8796C2226,-452.6838 2226,-443.9891 2226,-435.5013\"/>\n<polygon fill=\"#000000\" stroke=\"#000000\" points=\"2229.5001,-435.298 2226,-425.2981 2222.5001,-435.2981 2229.5001,-435.298\"/>\n</g>\n<!-- 42 -->\n<g id=\"node43\" class=\"node\">\n<title>42</title>\n<path fill=\"#fef8f5\" stroke=\"#000000\" d=\"M2670,-425C2670,-425 2578,-425 2578,-425 2572,-425 2566,-419 2566,-413 2566,-413 2566,-354 2566,-354 2566,-348 2572,-342 2578,-342 2578,-342 2670,-342 2670,-342 2676,-342 2682,-348 2682,-354 2682,-354 2682,-413 2682,-413 2682,-419 2676,-425 2670,-425\"/>\n<text text-anchor=\"start\" x=\"2575\" y=\"-409.8\" font-family=\"Helvetica,sans-Serif\" font-size=\"14.00\" fill=\"#000000\">traveltime ≤ 1.5</text>\n<text text-anchor=\"start\" x=\"2594.5\" y=\"-394.8\" font-family=\"Helvetica,sans-Serif\" font-size=\"14.00\" fill=\"#000000\">gini = 0.5</text>\n<text text-anchor=\"start\" x=\"2576\" y=\"-379.8\" font-family=\"Helvetica,sans-Serif\" font-size=\"14.00\" fill=\"#000000\">samples = 111</text>\n<text text-anchor=\"start\" x=\"2574\" y=\"-364.8\" font-family=\"Helvetica,sans-Serif\" font-size=\"14.00\" fill=\"#000000\">value = [57, 54]</text>\n<text text-anchor=\"start\" x=\"2581\" y=\"-349.8\" font-family=\"Helvetica,sans-Serif\" font-size=\"14.00\" fill=\"#000000\">class = сдал </text>\n</g>\n<!-- 30&#45;&gt;42 -->\n<g id=\"edge42\" class=\"edge\">\n<title>30&#45;&gt;42</title>\n<path fill=\"none\" stroke=\"#000000\" d=\"M2285.5846,-484.6845C2358.0143,-463.0284 2479.9616,-426.5667 2555.9974,-403.8324\"/>\n<polygon fill=\"#000000\" stroke=\"#000000\" points=\"2557.3744,-407.0739 2565.9527,-400.8559 2555.3691,-400.3672 2557.3744,-407.0739\"/>\n</g>\n<!-- 32 -->\n<g id=\"node33\" class=\"node\">\n<title>32</title>\n<path fill=\"#64b2eb\" stroke=\"#000000\" d=\"M2208.5,-306C2208.5,-306 2113.5,-306 2113.5,-306 2107.5,-306 2101.5,-300 2101.5,-294 2101.5,-294 2101.5,-235 2101.5,-235 2101.5,-229 2107.5,-223 2113.5,-223 2113.5,-223 2208.5,-223 2208.5,-223 2214.5,-223 2220.5,-229 2220.5,-235 2220.5,-235 2220.5,-294 2220.5,-294 2220.5,-300 2214.5,-306 2208.5,-306\"/>\n<text text-anchor=\"start\" x=\"2112\" y=\"-290.8\" font-family=\"Helvetica,sans-Serif\" font-size=\"14.00\" fill=\"#000000\">studytime ≤ 1.5</text>\n<text text-anchor=\"start\" x=\"2123\" y=\"-275.8\" font-family=\"Helvetica,sans-Serif\" font-size=\"14.00\" fill=\"#000000\">gini = 0.293</text>\n<text text-anchor=\"start\" x=\"2117\" y=\"-260.8\" font-family=\"Helvetica,sans-Serif\" font-size=\"14.00\" fill=\"#000000\">samples = 28</text>\n<text text-anchor=\"start\" x=\"2115.5\" y=\"-245.8\" font-family=\"Helvetica,sans-Serif\" font-size=\"14.00\" fill=\"#000000\">value = [5, 23]</text>\n<text text-anchor=\"start\" x=\"2109.5\" y=\"-230.8\" font-family=\"Helvetica,sans-Serif\" font-size=\"14.00\" fill=\"#000000\">class = не сдал</text>\n</g>\n<!-- 31&#45;&gt;32 -->\n<g id=\"edge32\" class=\"edge\">\n<title>31&#45;&gt;32</title>\n<path fill=\"none\" stroke=\"#000000\" d=\"M2203.2662,-341.8796C2198.5435,-333.2335 2193.5176,-324.0322 2188.641,-315.1042\"/>\n<polygon fill=\"#000000\" stroke=\"#000000\" points=\"2191.6963,-313.3964 2183.8309,-306.2981 2185.553,-316.752 2191.6963,-313.3964\"/>\n</g>\n<!-- 39 -->\n<g id=\"node40\" class=\"node\">\n<title>39</title>\n<path fill=\"#f6d5bd\" stroke=\"#000000\" d=\"M2329,-306C2329,-306 2251,-306 2251,-306 2245,-306 2239,-300 2239,-294 2239,-294 2239,-235 2239,-235 2239,-229 2245,-223 2251,-223 2251,-223 2329,-223 2329,-223 2335,-223 2341,-229 2341,-235 2341,-235 2341,-294 2341,-294 2341,-300 2335,-306 2329,-306\"/>\n<text text-anchor=\"start\" x=\"2252\" y=\"-290.8\" font-family=\"Helvetica,sans-Serif\" font-size=\"14.00\" fill=\"#000000\">health ≤ 4.0</text>\n<text text-anchor=\"start\" x=\"2256.5\" y=\"-275.8\" font-family=\"Helvetica,sans-Serif\" font-size=\"14.00\" fill=\"#000000\">gini = 0.48</text>\n<text text-anchor=\"start\" x=\"2250.5\" y=\"-260.8\" font-family=\"Helvetica,sans-Serif\" font-size=\"14.00\" fill=\"#000000\">samples = 5</text>\n<text text-anchor=\"start\" x=\"2248.5\" y=\"-245.8\" font-family=\"Helvetica,sans-Serif\" font-size=\"14.00\" fill=\"#000000\">value = [3, 2]</text>\n<text text-anchor=\"start\" x=\"2247\" y=\"-230.8\" font-family=\"Helvetica,sans-Serif\" font-size=\"14.00\" fill=\"#000000\">class = сдал </text>\n</g>\n<!-- 31&#45;&gt;39 -->\n<g id=\"edge39\" class=\"edge\">\n<title>31&#45;&gt;39</title>\n<path fill=\"none\" stroke=\"#000000\" d=\"M2248.3841,-341.8796C2252.9856,-333.3236 2257.8796,-324.2238 2262.6342,-315.3833\"/>\n<polygon fill=\"#000000\" stroke=\"#000000\" points=\"2265.8662,-316.763 2267.5204,-306.2981 2259.7012,-313.4473 2265.8662,-316.763\"/>\n</g>\n<!-- 33 -->\n<g id=\"node34\" class=\"node\">\n<title>33</title>\n<path fill=\"#d7ebfa\" stroke=\"#000000\" d=\"M2071.5,-187C2071.5,-187 1976.5,-187 1976.5,-187 1970.5,-187 1964.5,-181 1964.5,-175 1964.5,-175 1964.5,-116 1964.5,-116 1964.5,-110 1970.5,-104 1976.5,-104 1976.5,-104 2071.5,-104 2071.5,-104 2077.5,-104 2083.5,-110 2083.5,-116 2083.5,-116 2083.5,-175 2083.5,-175 2083.5,-181 2077.5,-187 2071.5,-187\"/>\n<text text-anchor=\"start\" x=\"1981.5\" y=\"-171.8\" font-family=\"Helvetica,sans-Serif\" font-size=\"14.00\" fill=\"#000000\">Subject ≤ 0.5</text>\n<text text-anchor=\"start\" x=\"1986\" y=\"-156.8\" font-family=\"Helvetica,sans-Serif\" font-size=\"14.00\" fill=\"#000000\">gini = 0.494</text>\n<text text-anchor=\"start\" x=\"1984.5\" y=\"-141.8\" font-family=\"Helvetica,sans-Serif\" font-size=\"14.00\" fill=\"#000000\">samples = 9</text>\n<text text-anchor=\"start\" x=\"1982.5\" y=\"-126.8\" font-family=\"Helvetica,sans-Serif\" font-size=\"14.00\" fill=\"#000000\">value = [4, 5]</text>\n<text text-anchor=\"start\" x=\"1972.5\" y=\"-111.8\" font-family=\"Helvetica,sans-Serif\" font-size=\"14.00\" fill=\"#000000\">class = не сдал</text>\n</g>\n<!-- 32&#45;&gt;33 -->\n<g id=\"edge33\" class=\"edge\">\n<title>32&#45;&gt;33</title>\n<path fill=\"none\" stroke=\"#000000\" d=\"M2113.084,-222.8796C2102.3007,-213.513 2090.7671,-203.4948 2079.6961,-193.8784\"/>\n<polygon fill=\"#000000\" stroke=\"#000000\" points=\"2081.9653,-191.2134 2072.1205,-187.2981 2077.3749,-196.4982 2081.9653,-191.2134\"/>\n</g>\n<!-- 36 -->\n<g id=\"node37\" class=\"node\">\n<title>36</title>\n<path fill=\"#44a2e6\" stroke=\"#000000\" d=\"M2208.5,-187C2208.5,-187 2113.5,-187 2113.5,-187 2107.5,-187 2101.5,-181 2101.5,-175 2101.5,-175 2101.5,-116 2101.5,-116 2101.5,-110 2107.5,-104 2113.5,-104 2113.5,-104 2208.5,-104 2208.5,-104 2214.5,-104 2220.5,-110 2220.5,-116 2220.5,-116 2220.5,-175 2220.5,-175 2220.5,-181 2214.5,-187 2208.5,-187\"/>\n<text text-anchor=\"start\" x=\"2111\" y=\"-171.8\" font-family=\"Helvetica,sans-Serif\" font-size=\"14.00\" fill=\"#000000\">absences ≤ 1.0</text>\n<text text-anchor=\"start\" x=\"2131.5\" y=\"-156.8\" font-family=\"Helvetica,sans-Serif\" font-size=\"14.00\" fill=\"#000000\">gini = 0.1</text>\n<text text-anchor=\"start\" x=\"2117\" y=\"-141.8\" font-family=\"Helvetica,sans-Serif\" font-size=\"14.00\" fill=\"#000000\">samples = 19</text>\n<text text-anchor=\"start\" x=\"2115.5\" y=\"-126.8\" font-family=\"Helvetica,sans-Serif\" font-size=\"14.00\" fill=\"#000000\">value = [1, 18]</text>\n<text text-anchor=\"start\" x=\"2109.5\" y=\"-111.8\" font-family=\"Helvetica,sans-Serif\" font-size=\"14.00\" fill=\"#000000\">class = не сдал</text>\n</g>\n<!-- 32&#45;&gt;36 -->\n<g id=\"edge36\" class=\"edge\">\n<title>32&#45;&gt;36</title>\n<path fill=\"none\" stroke=\"#000000\" d=\"M2161,-222.8796C2161,-214.6838 2161,-205.9891 2161,-197.5013\"/>\n<polygon fill=\"#000000\" stroke=\"#000000\" points=\"2164.5001,-197.298 2161,-187.2981 2157.5001,-197.2981 2164.5001,-197.298\"/>\n</g>\n<!-- 34 -->\n<g id=\"node35\" class=\"node\">\n<title>34</title>\n<path fill=\"#e58139\" stroke=\"#000000\" d=\"M1934,-68C1934,-68 1856,-68 1856,-68 1850,-68 1844,-62 1844,-56 1844,-56 1844,-12 1844,-12 1844,-6 1850,0 1856,0 1856,0 1934,0 1934,0 1940,0 1946,-6 1946,-12 1946,-12 1946,-56 1946,-56 1946,-62 1940,-68 1934,-68\"/>\n<text text-anchor=\"start\" x=\"1865.5\" y=\"-52.8\" font-family=\"Helvetica,sans-Serif\" font-size=\"14.00\" fill=\"#000000\">gini = 0.0</text>\n<text text-anchor=\"start\" x=\"1855.5\" y=\"-37.8\" font-family=\"Helvetica,sans-Serif\" font-size=\"14.00\" fill=\"#000000\">samples = 3</text>\n<text text-anchor=\"start\" x=\"1853.5\" y=\"-22.8\" font-family=\"Helvetica,sans-Serif\" font-size=\"14.00\" fill=\"#000000\">value = [3, 0]</text>\n<text text-anchor=\"start\" x=\"1852\" y=\"-7.8\" font-family=\"Helvetica,sans-Serif\" font-size=\"14.00\" fill=\"#000000\">class = сдал </text>\n</g>\n<!-- 33&#45;&gt;34 -->\n<g id=\"edge34\" class=\"edge\">\n<title>33&#45;&gt;34</title>\n<path fill=\"none\" stroke=\"#000000\" d=\"M1975.9652,-103.9815C1965.013,-94.5151 1953.3821,-84.462 1942.4544,-75.0168\"/>\n<polygon fill=\"#000000\" stroke=\"#000000\" points=\"1944.4957,-72.155 1934.6414,-68.2637 1939.9182,-77.4509 1944.4957,-72.155\"/>\n</g>\n<!-- 35 -->\n<g id=\"node36\" class=\"node\">\n<title>35</title>\n<path fill=\"#61b1ea\" stroke=\"#000000\" d=\"M2071.5,-68C2071.5,-68 1976.5,-68 1976.5,-68 1970.5,-68 1964.5,-62 1964.5,-56 1964.5,-56 1964.5,-12 1964.5,-12 1964.5,-6 1970.5,0 1976.5,0 1976.5,0 2071.5,0 2071.5,0 2077.5,0 2083.5,-6 2083.5,-12 2083.5,-12 2083.5,-56 2083.5,-56 2083.5,-62 2077.5,-68 2071.5,-68\"/>\n<text text-anchor=\"start\" x=\"1986\" y=\"-52.8\" font-family=\"Helvetica,sans-Serif\" font-size=\"14.00\" fill=\"#000000\">gini = 0.278</text>\n<text text-anchor=\"start\" x=\"1984.5\" y=\"-37.8\" font-family=\"Helvetica,sans-Serif\" font-size=\"14.00\" fill=\"#000000\">samples = 6</text>\n<text text-anchor=\"start\" x=\"1982.5\" y=\"-22.8\" font-family=\"Helvetica,sans-Serif\" font-size=\"14.00\" fill=\"#000000\">value = [1, 5]</text>\n<text text-anchor=\"start\" x=\"1972.5\" y=\"-7.8\" font-family=\"Helvetica,sans-Serif\" font-size=\"14.00\" fill=\"#000000\">class = не сдал</text>\n</g>\n<!-- 33&#45;&gt;35 -->\n<g id=\"edge35\" class=\"edge\">\n<title>33&#45;&gt;35</title>\n<path fill=\"none\" stroke=\"#000000\" d=\"M2024,-103.9815C2024,-95.618 2024,-86.7965 2024,-78.3409\"/>\n<polygon fill=\"#000000\" stroke=\"#000000\" points=\"2027.5001,-78.2636 2024,-68.2637 2020.5001,-78.2637 2027.5001,-78.2636\"/>\n</g>\n<!-- 37 -->\n<g id=\"node38\" class=\"node\">\n<title>37</title>\n<path fill=\"#9ccef2\" stroke=\"#000000\" d=\"M2208.5,-68C2208.5,-68 2113.5,-68 2113.5,-68 2107.5,-68 2101.5,-62 2101.5,-56 2101.5,-56 2101.5,-12 2101.5,-12 2101.5,-6 2107.5,0 2113.5,0 2113.5,0 2208.5,0 2208.5,0 2214.5,0 2220.5,-6 2220.5,-12 2220.5,-12 2220.5,-56 2220.5,-56 2220.5,-62 2214.5,-68 2208.5,-68\"/>\n<text text-anchor=\"start\" x=\"2123\" y=\"-52.8\" font-family=\"Helvetica,sans-Serif\" font-size=\"14.00\" fill=\"#000000\">gini = 0.444</text>\n<text text-anchor=\"start\" x=\"2121.5\" y=\"-37.8\" font-family=\"Helvetica,sans-Serif\" font-size=\"14.00\" fill=\"#000000\">samples = 3</text>\n<text text-anchor=\"start\" x=\"2119.5\" y=\"-22.8\" font-family=\"Helvetica,sans-Serif\" font-size=\"14.00\" fill=\"#000000\">value = [1, 2]</text>\n<text text-anchor=\"start\" x=\"2109.5\" y=\"-7.8\" font-family=\"Helvetica,sans-Serif\" font-size=\"14.00\" fill=\"#000000\">class = не сдал</text>\n</g>\n<!-- 36&#45;&gt;37 -->\n<g id=\"edge37\" class=\"edge\">\n<title>36&#45;&gt;37</title>\n<path fill=\"none\" stroke=\"#000000\" d=\"M2161,-103.9815C2161,-95.618 2161,-86.7965 2161,-78.3409\"/>\n<polygon fill=\"#000000\" stroke=\"#000000\" points=\"2164.5001,-78.2636 2161,-68.2637 2157.5001,-78.2637 2164.5001,-78.2636\"/>\n</g>\n<!-- 38 -->\n<g id=\"node39\" class=\"node\">\n<title>38</title>\n<path fill=\"#399de5\" stroke=\"#000000\" d=\"M2345.5,-68C2345.5,-68 2250.5,-68 2250.5,-68 2244.5,-68 2238.5,-62 2238.5,-56 2238.5,-56 2238.5,-12 2238.5,-12 2238.5,-6 2244.5,0 2250.5,0 2250.5,0 2345.5,0 2345.5,0 2351.5,0 2357.5,-6 2357.5,-12 2357.5,-12 2357.5,-56 2357.5,-56 2357.5,-62 2351.5,-68 2345.5,-68\"/>\n<text text-anchor=\"start\" x=\"2268.5\" y=\"-52.8\" font-family=\"Helvetica,sans-Serif\" font-size=\"14.00\" fill=\"#000000\">gini = 0.0</text>\n<text text-anchor=\"start\" x=\"2254\" y=\"-37.8\" font-family=\"Helvetica,sans-Serif\" font-size=\"14.00\" fill=\"#000000\">samples = 16</text>\n<text text-anchor=\"start\" x=\"2252.5\" y=\"-22.8\" font-family=\"Helvetica,sans-Serif\" font-size=\"14.00\" fill=\"#000000\">value = [0, 16]</text>\n<text text-anchor=\"start\" x=\"2246.5\" y=\"-7.8\" font-family=\"Helvetica,sans-Serif\" font-size=\"14.00\" fill=\"#000000\">class = не сдал</text>\n</g>\n<!-- 36&#45;&gt;38 -->\n<g id=\"edge38\" class=\"edge\">\n<title>36&#45;&gt;38</title>\n<path fill=\"none\" stroke=\"#000000\" d=\"M2212.0137,-103.9815C2223.758,-94.4232 2236.2372,-84.2668 2247.9405,-74.7419\"/>\n<polygon fill=\"#000000\" stroke=\"#000000\" points=\"2250.3536,-77.2906 2255.9002,-68.2637 2245.935,-71.8614 2250.3536,-77.2906\"/>\n</g>\n<!-- 40 -->\n<g id=\"node41\" class=\"node\">\n<title>40</title>\n<path fill=\"#e58139\" stroke=\"#000000\" d=\"M2329,-179.5C2329,-179.5 2251,-179.5 2251,-179.5 2245,-179.5 2239,-173.5 2239,-167.5 2239,-167.5 2239,-123.5 2239,-123.5 2239,-117.5 2245,-111.5 2251,-111.5 2251,-111.5 2329,-111.5 2329,-111.5 2335,-111.5 2341,-117.5 2341,-123.5 2341,-123.5 2341,-167.5 2341,-167.5 2341,-173.5 2335,-179.5 2329,-179.5\"/>\n<text text-anchor=\"start\" x=\"2260.5\" y=\"-164.3\" font-family=\"Helvetica,sans-Serif\" font-size=\"14.00\" fill=\"#000000\">gini = 0.0</text>\n<text text-anchor=\"start\" x=\"2250.5\" y=\"-149.3\" font-family=\"Helvetica,sans-Serif\" font-size=\"14.00\" fill=\"#000000\">samples = 3</text>\n<text text-anchor=\"start\" x=\"2248.5\" y=\"-134.3\" font-family=\"Helvetica,sans-Serif\" font-size=\"14.00\" fill=\"#000000\">value = [3, 0]</text>\n<text text-anchor=\"start\" x=\"2247\" y=\"-119.3\" font-family=\"Helvetica,sans-Serif\" font-size=\"14.00\" fill=\"#000000\">class = сдал </text>\n</g>\n<!-- 39&#45;&gt;40 -->\n<g id=\"edge40\" class=\"edge\">\n<title>39&#45;&gt;40</title>\n<path fill=\"none\" stroke=\"#000000\" d=\"M2290,-222.8796C2290,-212.2134 2290,-200.7021 2290,-189.9015\"/>\n<polygon fill=\"#000000\" stroke=\"#000000\" points=\"2293.5001,-189.8149 2290,-179.8149 2286.5001,-189.815 2293.5001,-189.8149\"/>\n</g>\n<!-- 41 -->\n<g id=\"node42\" class=\"node\">\n<title>41</title>\n<path fill=\"#399de5\" stroke=\"#000000\" d=\"M2466.5,-179.5C2466.5,-179.5 2371.5,-179.5 2371.5,-179.5 2365.5,-179.5 2359.5,-173.5 2359.5,-167.5 2359.5,-167.5 2359.5,-123.5 2359.5,-123.5 2359.5,-117.5 2365.5,-111.5 2371.5,-111.5 2371.5,-111.5 2466.5,-111.5 2466.5,-111.5 2472.5,-111.5 2478.5,-117.5 2478.5,-123.5 2478.5,-123.5 2478.5,-167.5 2478.5,-167.5 2478.5,-173.5 2472.5,-179.5 2466.5,-179.5\"/>\n<text text-anchor=\"start\" x=\"2389.5\" y=\"-164.3\" font-family=\"Helvetica,sans-Serif\" font-size=\"14.00\" fill=\"#000000\">gini = 0.0</text>\n<text text-anchor=\"start\" x=\"2379.5\" y=\"-149.3\" font-family=\"Helvetica,sans-Serif\" font-size=\"14.00\" fill=\"#000000\">samples = 2</text>\n<text text-anchor=\"start\" x=\"2377.5\" y=\"-134.3\" font-family=\"Helvetica,sans-Serif\" font-size=\"14.00\" fill=\"#000000\">value = [0, 2]</text>\n<text text-anchor=\"start\" x=\"2367.5\" y=\"-119.3\" font-family=\"Helvetica,sans-Serif\" font-size=\"14.00\" fill=\"#000000\">class = не сдал</text>\n</g>\n<!-- 39&#45;&gt;41 -->\n<g id=\"edge41\" class=\"edge\">\n<title>39&#45;&gt;41</title>\n<path fill=\"none\" stroke=\"#000000\" d=\"M2335.1179,-222.8796C2347.7533,-211.2237 2361.4826,-198.5587 2374.105,-186.9148\"/>\n<polygon fill=\"#000000\" stroke=\"#000000\" points=\"2376.8244,-189.168 2381.8015,-179.8149 2372.078,-184.0228 2376.8244,-189.168\"/>\n</g>\n<!-- 43 -->\n<g id=\"node44\" class=\"node\">\n<title>43</title>\n<path fill=\"#f3c5a4\" stroke=\"#000000\" d=\"M2670,-306C2670,-306 2578,-306 2578,-306 2572,-306 2566,-300 2566,-294 2566,-294 2566,-235 2566,-235 2566,-229 2572,-223 2578,-223 2578,-223 2670,-223 2670,-223 2676,-223 2682,-229 2682,-235 2682,-235 2682,-294 2682,-294 2682,-300 2676,-306 2670,-306\"/>\n<text text-anchor=\"start\" x=\"2589.5\" y=\"-290.8\" font-family=\"Helvetica,sans-Serif\" font-size=\"14.00\" fill=\"#000000\">age ≤ 16.5</text>\n<text text-anchor=\"start\" x=\"2586\" y=\"-275.8\" font-family=\"Helvetica,sans-Serif\" font-size=\"14.00\" fill=\"#000000\">gini = 0.456</text>\n<text text-anchor=\"start\" x=\"2580\" y=\"-260.8\" font-family=\"Helvetica,sans-Serif\" font-size=\"14.00\" fill=\"#000000\">samples = 57</text>\n<text text-anchor=\"start\" x=\"2574\" y=\"-245.8\" font-family=\"Helvetica,sans-Serif\" font-size=\"14.00\" fill=\"#000000\">value = [37, 20]</text>\n<text text-anchor=\"start\" x=\"2581\" y=\"-230.8\" font-family=\"Helvetica,sans-Serif\" font-size=\"14.00\" fill=\"#000000\">class = сдал </text>\n</g>\n<!-- 42&#45;&gt;43 -->\n<g id=\"edge43\" class=\"edge\">\n<title>42&#45;&gt;43</title>\n<path fill=\"none\" stroke=\"#000000\" d=\"M2624,-341.8796C2624,-333.6838 2624,-324.9891 2624,-316.5013\"/>\n<polygon fill=\"#000000\" stroke=\"#000000\" points=\"2627.5001,-316.298 2624,-306.2981 2620.5001,-316.2981 2627.5001,-316.298\"/>\n</g>\n<!-- 50 -->\n<g id=\"node51\" class=\"node\">\n<title>50</title>\n<path fill=\"#add7f4\" stroke=\"#000000\" d=\"M3059.5,-306C3059.5,-306 2964.5,-306 2964.5,-306 2958.5,-306 2952.5,-300 2952.5,-294 2952.5,-294 2952.5,-235 2952.5,-235 2952.5,-229 2958.5,-223 2964.5,-223 2964.5,-223 3059.5,-223 3059.5,-223 3065.5,-223 3071.5,-229 3071.5,-235 3071.5,-235 3071.5,-294 3071.5,-294 3071.5,-300 3065.5,-306 3059.5,-306\"/>\n<text text-anchor=\"start\" x=\"2962\" y=\"-290.8\" font-family=\"Helvetica,sans-Serif\" font-size=\"14.00\" fill=\"#000000\">absences ≤ 1.0</text>\n<text text-anchor=\"start\" x=\"2974\" y=\"-275.8\" font-family=\"Helvetica,sans-Serif\" font-size=\"14.00\" fill=\"#000000\">gini = 0.466</text>\n<text text-anchor=\"start\" x=\"2968\" y=\"-260.8\" font-family=\"Helvetica,sans-Serif\" font-size=\"14.00\" fill=\"#000000\">samples = 54</text>\n<text text-anchor=\"start\" x=\"2962\" y=\"-245.8\" font-family=\"Helvetica,sans-Serif\" font-size=\"14.00\" fill=\"#000000\">value = [20, 34]</text>\n<text text-anchor=\"start\" x=\"2960.5\" y=\"-230.8\" font-family=\"Helvetica,sans-Serif\" font-size=\"14.00\" fill=\"#000000\">class = не сдал</text>\n</g>\n<!-- 42&#45;&gt;50 -->\n<g id=\"edge50\" class=\"edge\">\n<title>42&#45;&gt;50</title>\n<path fill=\"none\" stroke=\"#000000\" d=\"M2682.0875,-365.6845C2751.6858,-344.3386 2868.1842,-308.6085 2942.4928,-285.8179\"/>\n<polygon fill=\"#000000\" stroke=\"#000000\" points=\"2943.7044,-289.1073 2952.2386,-282.8289 2941.6518,-282.415 2943.7044,-289.1073\"/>\n</g>\n<!-- 44 -->\n<g id=\"node45\" class=\"node\">\n<title>44</title>\n<path fill=\"#c4e2f7\" stroke=\"#000000\" d=\"M2603.5,-187C2603.5,-187 2508.5,-187 2508.5,-187 2502.5,-187 2496.5,-181 2496.5,-175 2496.5,-175 2496.5,-116 2496.5,-116 2496.5,-110 2502.5,-104 2508.5,-104 2508.5,-104 2603.5,-104 2603.5,-104 2609.5,-104 2615.5,-110 2615.5,-116 2615.5,-116 2615.5,-175 2615.5,-175 2615.5,-181 2609.5,-187 2603.5,-187\"/>\n<text text-anchor=\"start\" x=\"2518\" y=\"-171.8\" font-family=\"Helvetica,sans-Serif\" font-size=\"14.00\" fill=\"#000000\">famrel ≤ 2.5</text>\n<text text-anchor=\"start\" x=\"2518\" y=\"-156.8\" font-family=\"Helvetica,sans-Serif\" font-size=\"14.00\" fill=\"#000000\">gini = 0.484</text>\n<text text-anchor=\"start\" x=\"2512\" y=\"-141.8\" font-family=\"Helvetica,sans-Serif\" font-size=\"14.00\" fill=\"#000000\">samples = 17</text>\n<text text-anchor=\"start\" x=\"2510.5\" y=\"-126.8\" font-family=\"Helvetica,sans-Serif\" font-size=\"14.00\" fill=\"#000000\">value = [7, 10]</text>\n<text text-anchor=\"start\" x=\"2504.5\" y=\"-111.8\" font-family=\"Helvetica,sans-Serif\" font-size=\"14.00\" fill=\"#000000\">class = не сдал</text>\n</g>\n<!-- 43&#45;&gt;44 -->\n<g id=\"edge44\" class=\"edge\">\n<title>43&#45;&gt;44</title>\n<path fill=\"none\" stroke=\"#000000\" d=\"M2600.2169,-222.8796C2595.2763,-214.2335 2590.0184,-205.0322 2584.9167,-196.1042\"/>\n<polygon fill=\"#000000\" stroke=\"#000000\" points=\"2587.8849,-194.244 2579.8846,-187.2981 2581.8072,-197.717 2587.8849,-194.244\"/>\n</g>\n<!-- 47 -->\n<g id=\"node48\" class=\"node\">\n<title>47</title>\n<path fill=\"#eeab7b\" stroke=\"#000000\" d=\"M2738,-187C2738,-187 2646,-187 2646,-187 2640,-187 2634,-181 2634,-175 2634,-175 2634,-116 2634,-116 2634,-110 2640,-104 2646,-104 2646,-104 2738,-104 2738,-104 2744,-104 2750,-110 2750,-116 2750,-116 2750,-175 2750,-175 2750,-181 2744,-187 2738,-187\"/>\n<text text-anchor=\"start\" x=\"2655.5\" y=\"-171.8\" font-family=\"Helvetica,sans-Serif\" font-size=\"14.00\" fill=\"#000000\">goout ≤ 4.5</text>\n<text text-anchor=\"start\" x=\"2654\" y=\"-156.8\" font-family=\"Helvetica,sans-Serif\" font-size=\"14.00\" fill=\"#000000\">gini = 0.375</text>\n<text text-anchor=\"start\" x=\"2648\" y=\"-141.8\" font-family=\"Helvetica,sans-Serif\" font-size=\"14.00\" fill=\"#000000\">samples = 40</text>\n<text text-anchor=\"start\" x=\"2642\" y=\"-126.8\" font-family=\"Helvetica,sans-Serif\" font-size=\"14.00\" fill=\"#000000\">value = [30, 10]</text>\n<text text-anchor=\"start\" x=\"2649\" y=\"-111.8\" font-family=\"Helvetica,sans-Serif\" font-size=\"14.00\" fill=\"#000000\">class = сдал </text>\n</g>\n<!-- 43&#45;&gt;47 -->\n<g id=\"edge47\" class=\"edge\">\n<title>43&#45;&gt;47</title>\n<path fill=\"none\" stroke=\"#000000\" d=\"M2647.7831,-222.8796C2652.7237,-214.2335 2657.9816,-205.0322 2663.0833,-196.1042\"/>\n<polygon fill=\"#000000\" stroke=\"#000000\" points=\"2666.1928,-197.717 2668.1154,-187.2981 2660.1151,-194.244 2666.1928,-197.717\"/>\n</g>\n<!-- 45 -->\n<g id=\"node46\" class=\"node\">\n<title>45</title>\n<path fill=\"#e58139\" stroke=\"#000000\" d=\"M2466,-68C2466,-68 2388,-68 2388,-68 2382,-68 2376,-62 2376,-56 2376,-56 2376,-12 2376,-12 2376,-6 2382,0 2388,0 2388,0 2466,0 2466,0 2472,0 2478,-6 2478,-12 2478,-12 2478,-56 2478,-56 2478,-62 2472,-68 2466,-68\"/>\n<text text-anchor=\"start\" x=\"2397.5\" y=\"-52.8\" font-family=\"Helvetica,sans-Serif\" font-size=\"14.00\" fill=\"#000000\">gini = 0.0</text>\n<text text-anchor=\"start\" x=\"2387.5\" y=\"-37.8\" font-family=\"Helvetica,sans-Serif\" font-size=\"14.00\" fill=\"#000000\">samples = 4</text>\n<text text-anchor=\"start\" x=\"2385.5\" y=\"-22.8\" font-family=\"Helvetica,sans-Serif\" font-size=\"14.00\" fill=\"#000000\">value = [4, 0]</text>\n<text text-anchor=\"start\" x=\"2384\" y=\"-7.8\" font-family=\"Helvetica,sans-Serif\" font-size=\"14.00\" fill=\"#000000\">class = сдал </text>\n</g>\n<!-- 44&#45;&gt;45 -->\n<g id=\"edge45\" class=\"edge\">\n<title>44&#45;&gt;45</title>\n<path fill=\"none\" stroke=\"#000000\" d=\"M2507.9652,-103.9815C2497.013,-94.5151 2485.3821,-84.462 2474.4544,-75.0168\"/>\n<polygon fill=\"#000000\" stroke=\"#000000\" points=\"2476.4957,-72.155 2466.6414,-68.2637 2471.9182,-77.4509 2476.4957,-72.155\"/>\n</g>\n<!-- 46 -->\n<g id=\"node47\" class=\"node\">\n<title>46</title>\n<path fill=\"#74baed\" stroke=\"#000000\" d=\"M2603.5,-68C2603.5,-68 2508.5,-68 2508.5,-68 2502.5,-68 2496.5,-62 2496.5,-56 2496.5,-56 2496.5,-12 2496.5,-12 2496.5,-6 2502.5,0 2508.5,0 2508.5,0 2603.5,0 2603.5,0 2609.5,0 2615.5,-6 2615.5,-12 2615.5,-12 2615.5,-56 2615.5,-56 2615.5,-62 2609.5,-68 2603.5,-68\"/>\n<text text-anchor=\"start\" x=\"2518\" y=\"-52.8\" font-family=\"Helvetica,sans-Serif\" font-size=\"14.00\" fill=\"#000000\">gini = 0.355</text>\n<text text-anchor=\"start\" x=\"2512\" y=\"-37.8\" font-family=\"Helvetica,sans-Serif\" font-size=\"14.00\" fill=\"#000000\">samples = 13</text>\n<text text-anchor=\"start\" x=\"2510.5\" y=\"-22.8\" font-family=\"Helvetica,sans-Serif\" font-size=\"14.00\" fill=\"#000000\">value = [3, 10]</text>\n<text text-anchor=\"start\" x=\"2504.5\" y=\"-7.8\" font-family=\"Helvetica,sans-Serif\" font-size=\"14.00\" fill=\"#000000\">class = не сдал</text>\n</g>\n<!-- 44&#45;&gt;46 -->\n<g id=\"edge46\" class=\"edge\">\n<title>44&#45;&gt;46</title>\n<path fill=\"none\" stroke=\"#000000\" d=\"M2556,-103.9815C2556,-95.618 2556,-86.7965 2556,-78.3409\"/>\n<polygon fill=\"#000000\" stroke=\"#000000\" points=\"2559.5001,-78.2636 2556,-68.2637 2552.5001,-78.2637 2559.5001,-78.2636\"/>\n</g>\n<!-- 48 -->\n<g id=\"node49\" class=\"node\">\n<title>48</title>\n<path fill=\"#f3c3a1\" stroke=\"#000000\" d=\"M2738,-68C2738,-68 2646,-68 2646,-68 2640,-68 2634,-62 2634,-56 2634,-56 2634,-12 2634,-12 2634,-6 2640,0 2646,0 2646,0 2738,0 2738,0 2744,0 2750,-6 2750,-12 2750,-12 2750,-56 2750,-56 2750,-62 2744,-68 2738,-68\"/>\n<text text-anchor=\"start\" x=\"2654\" y=\"-52.8\" font-family=\"Helvetica,sans-Serif\" font-size=\"14.00\" fill=\"#000000\">gini = 0.452</text>\n<text text-anchor=\"start\" x=\"2648\" y=\"-37.8\" font-family=\"Helvetica,sans-Serif\" font-size=\"14.00\" fill=\"#000000\">samples = 29</text>\n<text text-anchor=\"start\" x=\"2642\" y=\"-22.8\" font-family=\"Helvetica,sans-Serif\" font-size=\"14.00\" fill=\"#000000\">value = [19, 10]</text>\n<text text-anchor=\"start\" x=\"2649\" y=\"-7.8\" font-family=\"Helvetica,sans-Serif\" font-size=\"14.00\" fill=\"#000000\">class = сдал </text>\n</g>\n<!-- 47&#45;&gt;48 -->\n<g id=\"edge48\" class=\"edge\">\n<title>47&#45;&gt;48</title>\n<path fill=\"none\" stroke=\"#000000\" d=\"M2692,-103.9815C2692,-95.618 2692,-86.7965 2692,-78.3409\"/>\n<polygon fill=\"#000000\" stroke=\"#000000\" points=\"2695.5001,-78.2636 2692,-68.2637 2688.5001,-78.2637 2695.5001,-78.2636\"/>\n</g>\n<!-- 49 -->\n<g id=\"node50\" class=\"node\">\n<title>49</title>\n<path fill=\"#e58139\" stroke=\"#000000\" d=\"M2863.5,-68C2863.5,-68 2780.5,-68 2780.5,-68 2774.5,-68 2768.5,-62 2768.5,-56 2768.5,-56 2768.5,-12 2768.5,-12 2768.5,-6 2774.5,0 2780.5,0 2780.5,0 2863.5,0 2863.5,0 2869.5,0 2875.5,-6 2875.5,-12 2875.5,-12 2875.5,-56 2875.5,-56 2875.5,-62 2869.5,-68 2863.5,-68\"/>\n<text text-anchor=\"start\" x=\"2792.5\" y=\"-52.8\" font-family=\"Helvetica,sans-Serif\" font-size=\"14.00\" fill=\"#000000\">gini = 0.0</text>\n<text text-anchor=\"start\" x=\"2778\" y=\"-37.8\" font-family=\"Helvetica,sans-Serif\" font-size=\"14.00\" fill=\"#000000\">samples = 11</text>\n<text text-anchor=\"start\" x=\"2776.5\" y=\"-22.8\" font-family=\"Helvetica,sans-Serif\" font-size=\"14.00\" fill=\"#000000\">value = [11, 0]</text>\n<text text-anchor=\"start\" x=\"2779\" y=\"-7.8\" font-family=\"Helvetica,sans-Serif\" font-size=\"14.00\" fill=\"#000000\">class = сдал </text>\n</g>\n<!-- 47&#45;&gt;49 -->\n<g id=\"edge49\" class=\"edge\">\n<title>47&#45;&gt;49</title>\n<path fill=\"none\" stroke=\"#000000\" d=\"M2740.4072,-103.9815C2751.4442,-94.5151 2763.1653,-84.462 2774.1777,-75.0168\"/>\n<polygon fill=\"#000000\" stroke=\"#000000\" points=\"2776.7394,-77.4307 2782.0513,-68.2637 2772.1822,-72.1173 2776.7394,-77.4307\"/>\n</g>\n<!-- 51 -->\n<g id=\"node52\" class=\"node\">\n<title>51</title>\n<path fill=\"#f5cfb3\" stroke=\"#000000\" d=\"M3053.5,-187C3053.5,-187 2970.5,-187 2970.5,-187 2964.5,-187 2958.5,-181 2958.5,-175 2958.5,-175 2958.5,-116 2958.5,-116 2958.5,-110 2964.5,-104 2970.5,-104 2970.5,-104 3053.5,-104 3053.5,-104 3059.5,-104 3065.5,-110 3065.5,-116 3065.5,-116 3065.5,-175 3065.5,-175 3065.5,-181 3059.5,-187 3053.5,-187\"/>\n<text text-anchor=\"start\" x=\"2979.5\" y=\"-171.8\" font-family=\"Helvetica,sans-Serif\" font-size=\"14.00\" fill=\"#000000\">Dalc ≤ 2.5</text>\n<text text-anchor=\"start\" x=\"2974\" y=\"-156.8\" font-family=\"Helvetica,sans-Serif\" font-size=\"14.00\" fill=\"#000000\">gini = 0.472</text>\n<text text-anchor=\"start\" x=\"2968\" y=\"-141.8\" font-family=\"Helvetica,sans-Serif\" font-size=\"14.00\" fill=\"#000000\">samples = 21</text>\n<text text-anchor=\"start\" x=\"2966.5\" y=\"-126.8\" font-family=\"Helvetica,sans-Serif\" font-size=\"14.00\" fill=\"#000000\">value = [13, 8]</text>\n<text text-anchor=\"start\" x=\"2969\" y=\"-111.8\" font-family=\"Helvetica,sans-Serif\" font-size=\"14.00\" fill=\"#000000\">class = сдал </text>\n</g>\n<!-- 50&#45;&gt;51 -->\n<g id=\"edge51\" class=\"edge\">\n<title>50&#45;&gt;51</title>\n<path fill=\"none\" stroke=\"#000000\" d=\"M3012,-222.8796C3012,-214.6838 3012,-205.9891 3012,-197.5013\"/>\n<polygon fill=\"#000000\" stroke=\"#000000\" points=\"3015.5001,-197.298 3012,-187.2981 3008.5001,-197.2981 3015.5001,-197.298\"/>\n</g>\n<!-- 54 -->\n<g id=\"node55\" class=\"node\">\n<title>54</title>\n<path fill=\"#6eb7ec\" stroke=\"#000000\" d=\"M3262.5,-187C3262.5,-187 3167.5,-187 3167.5,-187 3161.5,-187 3155.5,-181 3155.5,-175 3155.5,-175 3155.5,-116 3155.5,-116 3155.5,-110 3161.5,-104 3167.5,-104 3167.5,-104 3262.5,-104 3262.5,-104 3268.5,-104 3274.5,-110 3274.5,-116 3274.5,-116 3274.5,-175 3274.5,-175 3274.5,-181 3268.5,-187 3262.5,-187\"/>\n<text text-anchor=\"start\" x=\"3182.5\" y=\"-171.8\" font-family=\"Helvetica,sans-Serif\" font-size=\"14.00\" fill=\"#000000\">Dalc ≤ 1.5</text>\n<text text-anchor=\"start\" x=\"3177\" y=\"-156.8\" font-family=\"Helvetica,sans-Serif\" font-size=\"14.00\" fill=\"#000000\">gini = 0.334</text>\n<text text-anchor=\"start\" x=\"3171\" y=\"-141.8\" font-family=\"Helvetica,sans-Serif\" font-size=\"14.00\" fill=\"#000000\">samples = 33</text>\n<text text-anchor=\"start\" x=\"3169.5\" y=\"-126.8\" font-family=\"Helvetica,sans-Serif\" font-size=\"14.00\" fill=\"#000000\">value = [7, 26]</text>\n<text text-anchor=\"start\" x=\"3163.5\" y=\"-111.8\" font-family=\"Helvetica,sans-Serif\" font-size=\"14.00\" fill=\"#000000\">class = не сдал</text>\n</g>\n<!-- 50&#45;&gt;54 -->\n<g id=\"edge54\" class=\"edge\">\n<title>50&#45;&gt;54</title>\n<path fill=\"none\" stroke=\"#000000\" d=\"M3071.5351,-229.6001C3095.0832,-215.7961 3122.2889,-199.8479 3146.637,-185.5749\"/>\n<polygon fill=\"#000000\" stroke=\"#000000\" points=\"3148.609,-188.4759 3155.466,-180.3992 3145.069,-182.437 3148.609,-188.4759\"/>\n</g>\n<!-- 52 -->\n<g id=\"node53\" class=\"node\">\n<title>52</title>\n<path fill=\"#efb185\" stroke=\"#000000\" d=\"M2988.5,-68C2988.5,-68 2905.5,-68 2905.5,-68 2899.5,-68 2893.5,-62 2893.5,-56 2893.5,-56 2893.5,-12 2893.5,-12 2893.5,-6 2899.5,0 2905.5,0 2905.5,0 2988.5,0 2988.5,0 2994.5,0 3000.5,-6 3000.5,-12 3000.5,-12 3000.5,-56 3000.5,-56 3000.5,-62 2994.5,-68 2988.5,-68\"/>\n<text text-anchor=\"start\" x=\"2909\" y=\"-52.8\" font-family=\"Helvetica,sans-Serif\" font-size=\"14.00\" fill=\"#000000\">gini = 0.401</text>\n<text text-anchor=\"start\" x=\"2903\" y=\"-37.8\" font-family=\"Helvetica,sans-Serif\" font-size=\"14.00\" fill=\"#000000\">samples = 18</text>\n<text text-anchor=\"start\" x=\"2901.5\" y=\"-22.8\" font-family=\"Helvetica,sans-Serif\" font-size=\"14.00\" fill=\"#000000\">value = [13, 5]</text>\n<text text-anchor=\"start\" x=\"2904\" y=\"-7.8\" font-family=\"Helvetica,sans-Serif\" font-size=\"14.00\" fill=\"#000000\">class = сдал </text>\n</g>\n<!-- 51&#45;&gt;52 -->\n<g id=\"edge52\" class=\"edge\">\n<title>51&#45;&gt;52</title>\n<path fill=\"none\" stroke=\"#000000\" d=\"M2987.7964,-103.9815C2982.6529,-95.1585 2977.2123,-85.8258 2972.0384,-76.9506\"/>\n<polygon fill=\"#000000\" stroke=\"#000000\" points=\"2975.0344,-75.1402 2966.9743,-68.2637 2968.987,-78.6656 2975.0344,-75.1402\"/>\n</g>\n<!-- 53 -->\n<g id=\"node54\" class=\"node\">\n<title>53</title>\n<path fill=\"#399de5\" stroke=\"#000000\" d=\"M3125.5,-68C3125.5,-68 3030.5,-68 3030.5,-68 3024.5,-68 3018.5,-62 3018.5,-56 3018.5,-56 3018.5,-12 3018.5,-12 3018.5,-6 3024.5,0 3030.5,0 3030.5,0 3125.5,0 3125.5,0 3131.5,0 3137.5,-6 3137.5,-12 3137.5,-12 3137.5,-56 3137.5,-56 3137.5,-62 3131.5,-68 3125.5,-68\"/>\n<text text-anchor=\"start\" x=\"3048.5\" y=\"-52.8\" font-family=\"Helvetica,sans-Serif\" font-size=\"14.00\" fill=\"#000000\">gini = 0.0</text>\n<text text-anchor=\"start\" x=\"3038.5\" y=\"-37.8\" font-family=\"Helvetica,sans-Serif\" font-size=\"14.00\" fill=\"#000000\">samples = 3</text>\n<text text-anchor=\"start\" x=\"3036.5\" y=\"-22.8\" font-family=\"Helvetica,sans-Serif\" font-size=\"14.00\" fill=\"#000000\">value = [0, 3]</text>\n<text text-anchor=\"start\" x=\"3026.5\" y=\"-7.8\" font-family=\"Helvetica,sans-Serif\" font-size=\"14.00\" fill=\"#000000\">class = не сдал</text>\n</g>\n<!-- 51&#45;&gt;53 -->\n<g id=\"edge53\" class=\"edge\">\n<title>51&#45;&gt;53</title>\n<path fill=\"none\" stroke=\"#000000\" d=\"M3036.576,-103.9815C3041.7986,-95.1585 3047.3229,-85.8258 3052.5763,-76.9506\"/>\n<polygon fill=\"#000000\" stroke=\"#000000\" points=\"3055.6364,-78.652 3057.7184,-68.2637 3049.6126,-75.0863 3055.6364,-78.652\"/>\n</g>\n<!-- 55 -->\n<g id=\"node56\" class=\"node\">\n<title>55</title>\n<path fill=\"#c4e2f7\" stroke=\"#000000\" d=\"M3262.5,-68C3262.5,-68 3167.5,-68 3167.5,-68 3161.5,-68 3155.5,-62 3155.5,-56 3155.5,-56 3155.5,-12 3155.5,-12 3155.5,-6 3161.5,0 3167.5,0 3167.5,0 3262.5,0 3262.5,0 3268.5,0 3274.5,-6 3274.5,-12 3274.5,-12 3274.5,-56 3274.5,-56 3274.5,-62 3268.5,-68 3262.5,-68\"/>\n<text text-anchor=\"start\" x=\"3177\" y=\"-52.8\" font-family=\"Helvetica,sans-Serif\" font-size=\"14.00\" fill=\"#000000\">gini = 0.484</text>\n<text text-anchor=\"start\" x=\"3171\" y=\"-37.8\" font-family=\"Helvetica,sans-Serif\" font-size=\"14.00\" fill=\"#000000\">samples = 17</text>\n<text text-anchor=\"start\" x=\"3169.5\" y=\"-22.8\" font-family=\"Helvetica,sans-Serif\" font-size=\"14.00\" fill=\"#000000\">value = [7, 10]</text>\n<text text-anchor=\"start\" x=\"3163.5\" y=\"-7.8\" font-family=\"Helvetica,sans-Serif\" font-size=\"14.00\" fill=\"#000000\">class = не сдал</text>\n</g>\n<!-- 54&#45;&gt;55 -->\n<g id=\"edge55\" class=\"edge\">\n<title>54&#45;&gt;55</title>\n<path fill=\"none\" stroke=\"#000000\" d=\"M3215,-103.9815C3215,-95.618 3215,-86.7965 3215,-78.3409\"/>\n<polygon fill=\"#000000\" stroke=\"#000000\" points=\"3218.5001,-78.2636 3215,-68.2637 3211.5001,-78.2637 3218.5001,-78.2636\"/>\n</g>\n<!-- 56 -->\n<g id=\"node57\" class=\"node\">\n<title>56</title>\n<path fill=\"#399de5\" stroke=\"#000000\" d=\"M3399.5,-68C3399.5,-68 3304.5,-68 3304.5,-68 3298.5,-68 3292.5,-62 3292.5,-56 3292.5,-56 3292.5,-12 3292.5,-12 3292.5,-6 3298.5,0 3304.5,0 3304.5,0 3399.5,0 3399.5,0 3405.5,0 3411.5,-6 3411.5,-12 3411.5,-12 3411.5,-56 3411.5,-56 3411.5,-62 3405.5,-68 3399.5,-68\"/>\n<text text-anchor=\"start\" x=\"3322.5\" y=\"-52.8\" font-family=\"Helvetica,sans-Serif\" font-size=\"14.00\" fill=\"#000000\">gini = 0.0</text>\n<text text-anchor=\"start\" x=\"3308\" y=\"-37.8\" font-family=\"Helvetica,sans-Serif\" font-size=\"14.00\" fill=\"#000000\">samples = 16</text>\n<text text-anchor=\"start\" x=\"3306.5\" y=\"-22.8\" font-family=\"Helvetica,sans-Serif\" font-size=\"14.00\" fill=\"#000000\">value = [0, 16]</text>\n<text text-anchor=\"start\" x=\"3300.5\" y=\"-7.8\" font-family=\"Helvetica,sans-Serif\" font-size=\"14.00\" fill=\"#000000\">class = не сдал</text>\n</g>\n<!-- 54&#45;&gt;56 -->\n<g id=\"edge56\" class=\"edge\">\n<title>54&#45;&gt;56</title>\n<path fill=\"none\" stroke=\"#000000\" d=\"M3266.0137,-103.9815C3277.758,-94.4232 3290.2372,-84.2668 3301.9405,-74.7419\"/>\n<polygon fill=\"#000000\" stroke=\"#000000\" points=\"3304.3536,-77.2906 3309.9002,-68.2637 3299.935,-71.8614 3304.3536,-77.2906\"/>\n</g>\n</g>\n</svg>\n"
          },
          "metadata": {
            "tags": []
          },
          "execution_count": 237
        }
      ]
    },
    {
      "cell_type": "markdown",
      "metadata": {
        "id": "QcbXkiHp8dFL",
        "colab_type": "text"
      },
      "source": [
        "age \n",
        "reason \n",
        "absences \n",
        "Medu \n",
        "failures \n",
        "guardian \n",
        "internet \n",
        "Fedu \n",
        "\n",
        "Walc \n"
      ]
    },
    {
      "cell_type": "markdown",
      "metadata": {
        "id": "vpV4v4-VkoOt",
        "colab_type": "text"
      },
      "source": [
        "## Многоклассовая классификация\n",
        "  \n",
        "* Решите задачу многоклассовой классификации: постройте модель, пресдказывающую оценку студента по предмету по 4 балльной шкале\n",
        "    - Отлично: 18 <= `G3` <= 20\n",
        "    - Хорошо: 14 <= `G3` <= 17\n",
        "    - Удовлетворительно: 8 <= `G3` <= 13\n",
        "    - Неудовлетворительно: `G3` < 8  \n",
        "  \n",
        "  При решении задачи **нельзя** использовать признаки `G1` и `G2`.  \n",
        "  \n",
        "  \n",
        "* При решении задачи рассмотрите различные модели:  \n",
        "  * KNN и  Radius Neighbors;  \n",
        "  * Логистическая регрессия;  \n",
        "  * Деревья решений.  \n",
        "  \n",
        "  На кросс-валидации подберите оптимальные значения гиперпараметров алгоритмов.  \n",
        "  \n",
        "  \n",
        "* Оцените качество моделей, сделайте вывод.  \n",
        "  \n",
        "\n",
        "* На кросс-валидации оцените, как зависит качество прогноза Дерева решений от максимальной глубины дерева. Результаты провизуализируйте, дайте содержательный комментарий.  "
      ]
    },
    {
      "cell_type": "markdown",
      "metadata": {
        "id": "XkBc2VxoP28y",
        "colab_type": "text"
      },
      "source": [
        "1. оценить качества моделей\n",
        "2. сделать выводы по моделям\n",
        "3. оценить качество прогрноза от глубины дерева"
      ]
    },
    {
      "cell_type": "markdown",
      "metadata": {
        "id": "JU7pdSLIv_2s",
        "colab_type": "text"
      },
      "source": [
        "### Подготовка данных"
      ]
    },
    {
      "cell_type": "markdown",
      "metadata": {
        "id": "Q47iAqAWy2pV",
        "colab_type": "text"
      },
      "source": [
        "Создание датасета"
      ]
    },
    {
      "cell_type": "code",
      "metadata": {
        "id": "SLUKJkHqx7EP",
        "colab_type": "code",
        "colab": {}
      },
      "source": [
        "def rule(g):\n",
        "  if 18 <= g <= 20 :\n",
        "    return 5\n",
        "  elif 14 <= g <= 17:\n",
        "    return 4\n",
        "  elif 8 <= g <= 13:\n",
        "    return 3\n",
        "  else:\n",
        "    return 2"
      ],
      "execution_count": 0,
      "outputs": []
    },
    {
      "cell_type": "code",
      "metadata": {
        "id": "1mpfQf00wDgl",
        "colab_type": "code",
        "colab": {}
      },
      "source": [
        "data_mark = data_bin.copy()\n",
        "data_mark.drop(['Pass'], axis='columns', inplace=True)\n",
        "data_mark['Mark'] = data.apply(lambda x: rule(x['G3']), axis =  1)\n",
        "data_mark['Mark'].describe()"
      ],
      "execution_count": 0,
      "outputs": []
    },
    {
      "cell_type": "markdown",
      "metadata": {
        "id": "XHI2RWLmy7A_",
        "colab_type": "text"
      },
      "source": [
        "Разделение данных"
      ]
    },
    {
      "cell_type": "code",
      "metadata": {
        "id": "OqXVezXsywNv",
        "colab_type": "code",
        "colab": {}
      },
      "source": [
        "(trainD, testD, trainV, testV) = train_test_split(data_mark.drop('Mark', axis=1),\n",
        "                                            data_mark['Mark'],\n",
        "                                            test_size=0.3, \n",
        "                                            random_state=5)"
      ],
      "execution_count": 0,
      "outputs": []
    },
    {
      "cell_type": "code",
      "metadata": {
        "id": "FMI_bkfvKuG4",
        "colab_type": "code",
        "colab": {}
      },
      "source": [
        "#!pip install scikit-plot\n",
        "from sklearn.metrics import confusion_matrix\n",
        "from sklearn.metrics import classification_report\n",
        "from sklearn.metrics import roc_auc_score\n",
        "from scikitplot.metrics import plot_roc_curve\n",
        "\n",
        "def print_ac(y_test, y_pred):\n",
        "  print('\\t\\tconfusion_matrix')\n",
        "  print(confusion_matrix(y_test, y_pred))\n",
        "  print('\\t\\tclassification_report')\n",
        "  print(classification_report(y_test, y_pred))\n",
        "  print('\\t\\roc_auc_score')\n",
        "  print(roc_auc_score(y_test, y_pred, average='micro', sample_weight=None, max_fpr=None))\n",
        "\n",
        "def roc_cr(y_true, y_probas):\n",
        "  metrics.plot_roc_curve(y_true, y_probas)\n",
        "  plt.show()"
      ],
      "execution_count": 0,
      "outputs": []
    },
    {
      "cell_type": "markdown",
      "metadata": {
        "id": "coK5CqtN4XM2",
        "colab_type": "text"
      },
      "source": [
        "### KNN "
      ]
    },
    {
      "cell_type": "markdown",
      "metadata": {
        "id": "lMGgDlPPL1Ib",
        "colab_type": "text"
      },
      "source": [
        "Кросс"
      ]
    },
    {
      "cell_type": "code",
      "metadata": {
        "id": "xQQ0MdmC4UlO",
        "colab_type": "code",
        "colab": {
          "base_uri": "https://localhost:8080/",
          "height": 33
        },
        "outputId": "563ab908-237b-4825-997c-2331f961c5f0"
      },
      "source": [
        "from sklearn.neighbors import KNeighborsClassifier\n",
        "knn = KNeighborsClassifier()\n",
        "\n",
        "param_grid = {'n_neighbors': np.arange(1, 25)}\n",
        "\n",
        "knn_gscv = GridSearchCV(knn, param_grid, cv=5,scoring='explained_variance')\n",
        "\n",
        "knn_gscv.fit(trainD, trainV)\n",
        "knn_gscv.best_params_"
      ],
      "execution_count": 238,
      "outputs": [
        {
          "output_type": "execute_result",
          "data": {
            "text/plain": [
              "{'n_neighbors': 19}"
            ]
          },
          "metadata": {
            "tags": []
          },
          "execution_count": 238
        }
      ]
    },
    {
      "cell_type": "code",
      "metadata": {
        "id": "khGtYvwRMBBo",
        "colab_type": "code",
        "colab": {
          "base_uri": "https://localhost:8080/",
          "height": 267
        },
        "outputId": "5afa7336-5e0e-4c68-9ddd-718f53c7632a"
      },
      "source": [
        "knn = KNeighborsClassifier(n_neighbors=knn_gscv.best_params_['n_neighbors'])\n",
        "knn.fit(trainD, trainV)\n",
        "predictedV = knn.predict(testD)\n",
        "predictedV"
      ],
      "execution_count": 253,
      "outputs": [
        {
          "output_type": "execute_result",
          "data": {
            "text/plain": [
              "array([1, 1, 1, 1, 1, 1, 1, 1, 1, 1, 1, 1, 1, 1, 1, 1, 1, 1, 1, 1, 1, 1,\n",
              "       1, 1, 1, 1, 1, 1, 1, 1, 1, 1, 1, 1, 1, 1, 1, 1, 1, 1, 1, 1, 1, 1,\n",
              "       1, 1, 1, 1, 1, 1, 1, 1, 1, 1, 1, 1, 1, 1, 1, 1, 1, 1, 1, 1, 1, 1,\n",
              "       1, 1, 1, 1, 1, 1, 1, 1, 1, 1, 1, 1, 1, 1, 1, 1, 1, 1, 1, 1, 1, 1,\n",
              "       1, 1, 1, 1, 1, 1, 1, 1, 1, 1, 1, 1, 1, 1, 0, 1, 1, 1, 1, 1, 1, 1,\n",
              "       1, 1, 1, 1, 1, 1, 1, 1, 1, 1, 1, 1, 1, 1, 1, 1, 1, 1, 1, 1, 1, 1,\n",
              "       1, 1, 1, 1, 1, 1, 1, 1, 1, 1, 1, 1, 1, 1, 1, 1, 1, 1, 1, 1, 1, 1,\n",
              "       1, 1, 1, 1, 1, 1, 1, 1, 1, 1, 1, 1, 1, 1, 1, 1, 1, 1, 1, 1, 1, 1,\n",
              "       1, 1, 1, 1, 1, 1, 1, 1, 1, 1, 1, 1, 1, 1, 1, 1, 1, 1, 1, 1, 1, 1,\n",
              "       1, 1, 1, 1, 1, 1, 1, 1, 1, 1, 1, 1, 1, 1, 1, 1, 1, 1, 1, 1, 1, 1,\n",
              "       1, 1, 1, 1, 1, 1, 1, 1, 1, 1, 1, 1, 1, 1, 1, 1, 1, 1, 1, 1, 1, 1,\n",
              "       1, 1, 1, 1, 1, 1, 1, 1, 1, 1, 1, 1, 1, 1, 1, 1, 1, 1, 1, 1, 1, 1,\n",
              "       1, 1, 1, 1, 1, 1, 1, 1, 1, 1, 1, 1, 1, 1, 1, 1, 1, 1, 1, 1, 1, 1,\n",
              "       1, 1, 1, 1, 1, 1, 1, 1, 1, 1, 1, 1, 1, 1, 1, 1, 1, 1, 1, 1, 1, 1,\n",
              "       1, 1, 1, 1, 1, 1])"
            ]
          },
          "metadata": {
            "tags": []
          },
          "execution_count": 253
        }
      ]
    },
    {
      "cell_type": "code",
      "metadata": {
        "id": "6mblGxcTMHDg",
        "colab_type": "code",
        "colab": {
          "base_uri": "https://localhost:8080/",
          "height": 233
        },
        "outputId": "d8042ce5-b3a8-4d06-f4b4-70dbb104b497"
      },
      "source": [
        "print_ac(testV, predictedV)"
      ],
      "execution_count": 255,
      "outputs": [
        {
          "output_type": "stream",
          "text": [
            "\t\tconfusion_matrix\n",
            "[[  1  45]\n",
            " [  0 268]]\n",
            "\t\tclassification_report\n",
            "              precision    recall  f1-score   support\n",
            "\n",
            "           0       1.00      0.02      0.04        46\n",
            "           1       0.86      1.00      0.92       268\n",
            "\n",
            "    accuracy                           0.86       314\n",
            "   macro avg       0.93      0.51      0.48       314\n",
            "weighted avg       0.88      0.86      0.79       314\n",
            "\n"
          ],
          "name": "stdout"
        }
      ]
    },
    {
      "cell_type": "markdown",
      "metadata": {
        "id": "lvy95H9dL27v",
        "colab_type": "text"
      },
      "source": [
        "Предсказание"
      ]
    },
    {
      "cell_type": "code",
      "metadata": {
        "id": "zn4tXW04L0mO",
        "colab_type": "code",
        "colab": {}
      },
      "source": [
        ""
      ],
      "execution_count": 0,
      "outputs": []
    },
    {
      "cell_type": "markdown",
      "metadata": {
        "id": "ncYuXcC64Yhf",
        "colab_type": "text"
      },
      "source": [
        "### Radius Neighbors"
      ]
    },
    {
      "cell_type": "markdown",
      "metadata": {
        "id": "XmNZ1QHrMV9T",
        "colab_type": "text"
      },
      "source": [
        "Кр кр кросс"
      ]
    },
    {
      "cell_type": "code",
      "metadata": {
        "id": "GxdLVcbA4aeZ",
        "colab_type": "code",
        "colab": {
          "base_uri": "https://localhost:8080/",
          "height": 33
        },
        "outputId": "ba1c3c79-2a36-4b77-c410-899fe3327bec"
      },
      "source": [
        "from sklearn.neighbors import RadiusNeighborsClassifier\n",
        "rnr = RadiusNeighborsClassifier()\n",
        "param_grid = {'radius': np.arange(2.1,3.0, 0.01)}\n",
        "rnr_gscv = GridSearchCV(rnr, param_grid, cv=5)\n",
        "rnr_gscv.fit(trainD, trainV)\n",
        "rnr_gscv.best_params_"
      ],
      "execution_count": 128,
      "outputs": [
        {
          "output_type": "execute_result",
          "data": {
            "text/plain": [
              "{'radius': 2.1}"
            ]
          },
          "metadata": {
            "tags": []
          },
          "execution_count": 128
        }
      ]
    },
    {
      "cell_type": "markdown",
      "metadata": {
        "id": "vHCBncqWMa91",
        "colab_type": "text"
      },
      "source": [
        "Магия"
      ]
    },
    {
      "cell_type": "code",
      "metadata": {
        "id": "asCUxTVGMb09",
        "colab_type": "code",
        "colab": {
          "base_uri": "https://localhost:8080/",
          "height": 267
        },
        "outputId": "3c823d71-f472-4399-e09b-6ae5214d0317"
      },
      "source": [
        "rnr = RadiusNeighborsClassifier(radius=rnr_gscv.best_params_['radius'])\n",
        "rnr.fit(trainD, trainV)\n",
        "predictedV = rnr.predict(testD)\n",
        "predictedV"
      ],
      "execution_count": 132,
      "outputs": [
        {
          "output_type": "execute_result",
          "data": {
            "text/plain": [
              "array([3, 3, 3, 3, 3, 3, 3, 3, 3, 3, 3, 3, 3, 3, 3, 3, 3, 3, 3, 3, 3, 3,\n",
              "       3, 3, 3, 3, 3, 3, 3, 3, 3, 3, 3, 3, 3, 3, 3, 3, 3, 3, 3, 3, 3, 3,\n",
              "       3, 3, 3, 3, 3, 3, 3, 3, 3, 3, 3, 3, 3, 3, 3, 3, 3, 3, 3, 3, 3, 3,\n",
              "       3, 3, 3, 3, 3, 3, 3, 3, 3, 3, 3, 3, 3, 3, 3, 3, 3, 3, 3, 3, 3, 3,\n",
              "       3, 3, 3, 3, 3, 3, 3, 3, 3, 3, 3, 3, 3, 3, 3, 3, 3, 3, 3, 3, 3, 3,\n",
              "       3, 3, 3, 3, 3, 3, 3, 3, 3, 3, 3, 3, 3, 3, 3, 3, 3, 3, 3, 3, 3, 3,\n",
              "       3, 3, 3, 3, 3, 3, 3, 3, 3, 3, 3, 3, 3, 3, 3, 3, 3, 3, 3, 3, 3, 3,\n",
              "       3, 3, 3, 3, 3, 3, 3, 3, 3, 3, 3, 3, 3, 3, 3, 3, 3, 3, 3, 3, 3, 3,\n",
              "       3, 3, 3, 3, 3, 3, 3, 3, 3, 3, 3, 3, 3, 3, 3, 3, 3, 3, 3, 3, 3, 3,\n",
              "       3, 3, 3, 3, 3, 3, 3, 3, 3, 3, 3, 3, 3, 3, 3, 3, 3, 3, 3, 3, 3, 3,\n",
              "       3, 3, 3, 3, 3, 3, 3, 3, 3, 3, 3, 3, 3, 3, 3, 3, 3, 3, 3, 3, 3, 3,\n",
              "       3, 3, 3, 3, 3, 3, 3, 3, 3, 3, 3, 3, 3, 3, 3, 3, 3, 3, 3, 3, 3, 3,\n",
              "       3, 3, 3, 3, 3, 3, 3, 3, 3, 3, 3, 3, 3, 3, 3, 3, 3, 3, 3, 3, 3, 3,\n",
              "       3, 3, 3, 3, 3, 3, 3, 3, 3, 3, 3, 3, 3, 3, 3, 3, 3, 3, 3, 3, 3, 3,\n",
              "       3, 3, 3, 3, 3, 3])"
            ]
          },
          "metadata": {
            "tags": []
          },
          "execution_count": 132
        }
      ]
    },
    {
      "cell_type": "markdown",
      "metadata": {
        "id": "aTAB7k2o4eIR",
        "colab_type": "text"
      },
      "source": [
        "### Логистическая регрессия"
      ]
    },
    {
      "cell_type": "code",
      "metadata": {
        "id": "FoXuRYsS4eri",
        "colab_type": "code",
        "colab": {
          "base_uri": "https://localhost:8080/",
          "height": 400
        },
        "outputId": "86d5cde3-533b-415c-8ac2-7b1ad0b9eb00"
      },
      "source": [
        "from sklearn.linear_model import LogisticRegression\n",
        "logistic = LogisticRegression()\n",
        "logistic.fit(trainD,trainV)\n",
        "predictedV = logistic.predict(testD)\n",
        "predictedV"
      ],
      "execution_count": 133,
      "outputs": [
        {
          "output_type": "stream",
          "text": [
            "/usr/local/lib/python3.6/dist-packages/sklearn/linear_model/_logistic.py:940: ConvergenceWarning: lbfgs failed to converge (status=1):\n",
            "STOP: TOTAL NO. of ITERATIONS REACHED LIMIT.\n",
            "\n",
            "Increase the number of iterations (max_iter) or scale the data as shown in:\n",
            "    https://scikit-learn.org/stable/modules/preprocessing.html\n",
            "Please also refer to the documentation for alternative solver options:\n",
            "    https://scikit-learn.org/stable/modules/linear_model.html#logistic-regression\n",
            "  extra_warning_msg=_LOGISTIC_SOLVER_CONVERGENCE_MSG)\n"
          ],
          "name": "stderr"
        },
        {
          "output_type": "execute_result",
          "data": {
            "text/plain": [
              "array([3, 3, 4, 3, 3, 3, 3, 3, 3, 4, 3, 3, 3, 3, 3, 3, 3, 3, 3, 3, 4, 3,\n",
              "       3, 3, 3, 4, 3, 3, 4, 3, 4, 3, 3, 3, 3, 3, 3, 3, 3, 3, 3, 3, 3, 3,\n",
              "       4, 3, 3, 2, 3, 3, 3, 3, 3, 4, 3, 3, 3, 3, 3, 4, 3, 4, 3, 3, 3, 3,\n",
              "       3, 3, 3, 3, 3, 4, 4, 3, 3, 4, 4, 3, 3, 4, 3, 3, 3, 3, 3, 3, 3, 4,\n",
              "       4, 3, 3, 3, 3, 3, 3, 3, 4, 3, 4, 4, 3, 3, 3, 4, 3, 3, 3, 3, 4, 3,\n",
              "       3, 3, 3, 3, 3, 4, 3, 4, 3, 3, 3, 4, 3, 3, 3, 3, 3, 4, 3, 3, 3, 3,\n",
              "       3, 4, 3, 3, 3, 3, 3, 3, 4, 3, 3, 3, 3, 3, 3, 3, 3, 4, 3, 4, 3, 3,\n",
              "       3, 4, 3, 3, 3, 3, 3, 3, 3, 3, 3, 3, 3, 3, 3, 3, 3, 3, 4, 3, 3, 3,\n",
              "       2, 3, 3, 3, 3, 3, 4, 3, 3, 3, 3, 3, 3, 4, 3, 3, 4, 3, 4, 3, 3, 3,\n",
              "       3, 3, 3, 3, 3, 3, 3, 3, 3, 3, 3, 3, 4, 3, 3, 3, 3, 3, 3, 3, 3, 3,\n",
              "       3, 3, 3, 3, 3, 3, 4, 3, 3, 3, 2, 3, 3, 3, 2, 3, 3, 4, 3, 3, 3, 3,\n",
              "       3, 4, 3, 3, 4, 3, 3, 3, 3, 3, 3, 4, 3, 3, 3, 3, 3, 3, 3, 3, 3, 3,\n",
              "       3, 3, 4, 3, 3, 3, 4, 3, 3, 3, 3, 3, 3, 3, 4, 3, 4, 3, 3, 3, 4, 3,\n",
              "       4, 4, 3, 4, 3, 3, 3, 4, 3, 3, 3, 4, 3, 3, 3, 4, 3, 3, 3, 2, 3, 3,\n",
              "       3, 3, 4, 3, 2, 3])"
            ]
          },
          "metadata": {
            "tags": []
          },
          "execution_count": 133
        }
      ]
    },
    {
      "cell_type": "markdown",
      "metadata": {
        "id": "d1MrXcsI4kZf",
        "colab_type": "text"
      },
      "source": [
        "### Деревья решений"
      ]
    },
    {
      "cell_type": "code",
      "metadata": {
        "id": "rj8F1n6S4k9T",
        "colab_type": "code",
        "colab": {
          "base_uri": "https://localhost:8080/",
          "height": 33
        },
        "outputId": "11d78f21-e93a-4ef7-e1c2-b95ac17fdebc"
      },
      "source": [
        "from sklearn.tree import DecisionTreeClassifier\n",
        "reg_tree = DecisionTreeClassifier()\n",
        "\n",
        "param_grid = {'max_depth': np.arange(1, 100)}\n",
        "\n",
        "reg_tree_gscv = GridSearchCV(reg_tree, param_grid, cv=5)\n",
        "\n",
        "reg_tree_gscv.fit(trainD, trainV)\n",
        "reg_tree_gscv.best_params_"
      ],
      "execution_count": 134,
      "outputs": [
        {
          "output_type": "execute_result",
          "data": {
            "text/plain": [
              "{'max_depth': 3}"
            ]
          },
          "metadata": {
            "tags": []
          },
          "execution_count": 134
        }
      ]
    },
    {
      "cell_type": "code",
      "metadata": {
        "id": "2Q63y2kxPoey",
        "colab_type": "code",
        "colab": {
          "base_uri": "https://localhost:8080/",
          "height": 460
        },
        "outputId": "56bd772f-4f0a-4503-98e7-759486103448"
      },
      "source": [
        "reg_tree = DecisionTreeClassifier(max_depth = reg_tree_gscv.best_params_['max_depth'])\n",
        "reg_tree.fit(trainD, trainV)\n",
        "predictedV = reg_tree.predict(testD)\n",
        "data_mark.loc[data_mark['Mark'] == 2]"
      ],
      "execution_count": 137,
      "outputs": [
        {
          "output_type": "execute_result",
          "data": {
            "text/html": [
              "<div>\n",
              "<style scoped>\n",
              "    .dataframe tbody tr th:only-of-type {\n",
              "        vertical-align: middle;\n",
              "    }\n",
              "\n",
              "    .dataframe tbody tr th {\n",
              "        vertical-align: top;\n",
              "    }\n",
              "\n",
              "    .dataframe thead th {\n",
              "        text-align: right;\n",
              "    }\n",
              "</style>\n",
              "<table border=\"1\" class=\"dataframe\">\n",
              "  <thead>\n",
              "    <tr style=\"text-align: right;\">\n",
              "      <th></th>\n",
              "      <th>age</th>\n",
              "      <th>Medu</th>\n",
              "      <th>Fedu</th>\n",
              "      <th>Mjob</th>\n",
              "      <th>Fjob</th>\n",
              "      <th>reason</th>\n",
              "      <th>guardian</th>\n",
              "      <th>traveltime</th>\n",
              "      <th>studytime</th>\n",
              "      <th>failures</th>\n",
              "      <th>famrel</th>\n",
              "      <th>freetime</th>\n",
              "      <th>goout</th>\n",
              "      <th>health</th>\n",
              "      <th>absences</th>\n",
              "      <th>Alco</th>\n",
              "      <th>is anybody home</th>\n",
              "      <th>Subject</th>\n",
              "      <th>school</th>\n",
              "      <th>sex</th>\n",
              "      <th>address</th>\n",
              "      <th>famsize</th>\n",
              "      <th>Pstatus</th>\n",
              "      <th>schoolsup</th>\n",
              "      <th>famsup</th>\n",
              "      <th>paid</th>\n",
              "      <th>activities</th>\n",
              "      <th>nursery</th>\n",
              "      <th>higher</th>\n",
              "      <th>internet</th>\n",
              "      <th>romantic</th>\n",
              "      <th>Mark</th>\n",
              "    </tr>\n",
              "  </thead>\n",
              "  <tbody>\n",
              "    <tr>\n",
              "      <th>8</th>\n",
              "      <td>0.635001</td>\n",
              "      <td>0.127000</td>\n",
              "      <td>0.084667</td>\n",
              "      <td>0.084667</td>\n",
              "      <td>0.000000</td>\n",
              "      <td>0.042333</td>\n",
              "      <td>0.084667</td>\n",
              "      <td>0.042333</td>\n",
              "      <td>0.084667</td>\n",
              "      <td>0.000000</td>\n",
              "      <td>0.169334</td>\n",
              "      <td>0.169334</td>\n",
              "      <td>0.169334</td>\n",
              "      <td>0.211667</td>\n",
              "      <td>0.423334</td>\n",
              "      <td>0.084667</td>\n",
              "      <td>0</td>\n",
              "      <td>0</td>\n",
              "      <td>1</td>\n",
              "      <td>1</td>\n",
              "      <td>1</td>\n",
              "      <td>1</td>\n",
              "      <td>1</td>\n",
              "      <td>0</td>\n",
              "      <td>1</td>\n",
              "      <td>0</td>\n",
              "      <td>0</td>\n",
              "      <td>1</td>\n",
              "      <td>1</td>\n",
              "      <td>1</td>\n",
              "      <td>1</td>\n",
              "      <td>2</td>\n",
              "    </tr>\n",
              "    <tr>\n",
              "      <th>12</th>\n",
              "      <td>0.721155</td>\n",
              "      <td>0.160257</td>\n",
              "      <td>0.160257</td>\n",
              "      <td>0.160257</td>\n",
              "      <td>0.120192</td>\n",
              "      <td>0.040064</td>\n",
              "      <td>0.080128</td>\n",
              "      <td>0.120192</td>\n",
              "      <td>0.040064</td>\n",
              "      <td>0.000000</td>\n",
              "      <td>0.160257</td>\n",
              "      <td>0.160257</td>\n",
              "      <td>0.120192</td>\n",
              "      <td>0.200321</td>\n",
              "      <td>0.280449</td>\n",
              "      <td>0.160257</td>\n",
              "      <td>1</td>\n",
              "      <td>0</td>\n",
              "      <td>0</td>\n",
              "      <td>1</td>\n",
              "      <td>0</td>\n",
              "      <td>0</td>\n",
              "      <td>1</td>\n",
              "      <td>0</td>\n",
              "      <td>1</td>\n",
              "      <td>0</td>\n",
              "      <td>1</td>\n",
              "      <td>1</td>\n",
              "      <td>1</td>\n",
              "      <td>1</td>\n",
              "      <td>0</td>\n",
              "      <td>2</td>\n",
              "    </tr>\n",
              "    <tr>\n",
              "      <th>14</th>\n",
              "      <td>0.707798</td>\n",
              "      <td>0.088475</td>\n",
              "      <td>0.088475</td>\n",
              "      <td>0.132712</td>\n",
              "      <td>0.000000</td>\n",
              "      <td>0.088475</td>\n",
              "      <td>0.088475</td>\n",
              "      <td>0.044237</td>\n",
              "      <td>0.088475</td>\n",
              "      <td>0.000000</td>\n",
              "      <td>0.176950</td>\n",
              "      <td>0.132712</td>\n",
              "      <td>0.176950</td>\n",
              "      <td>0.088475</td>\n",
              "      <td>0.176950</td>\n",
              "      <td>0.132712</td>\n",
              "      <td>1</td>\n",
              "      <td>0</td>\n",
              "      <td>1</td>\n",
              "      <td>1</td>\n",
              "      <td>1</td>\n",
              "      <td>1</td>\n",
              "      <td>1</td>\n",
              "      <td>0</td>\n",
              "      <td>1</td>\n",
              "      <td>1</td>\n",
              "      <td>0</td>\n",
              "      <td>1</td>\n",
              "      <td>1</td>\n",
              "      <td>0</td>\n",
              "      <td>1</td>\n",
              "      <td>2</td>\n",
              "    </tr>\n",
              "    <tr>\n",
              "      <th>71</th>\n",
              "      <td>0.776035</td>\n",
              "      <td>0.172452</td>\n",
              "      <td>0.086226</td>\n",
              "      <td>0.000000</td>\n",
              "      <td>0.000000</td>\n",
              "      <td>0.000000</td>\n",
              "      <td>0.043113</td>\n",
              "      <td>0.086226</td>\n",
              "      <td>0.043113</td>\n",
              "      <td>0.043113</td>\n",
              "      <td>0.215565</td>\n",
              "      <td>0.172452</td>\n",
              "      <td>0.129339</td>\n",
              "      <td>0.129339</td>\n",
              "      <td>0.000000</td>\n",
              "      <td>0.301791</td>\n",
              "      <td>0</td>\n",
              "      <td>1</td>\n",
              "      <td>0</td>\n",
              "      <td>0</td>\n",
              "      <td>0</td>\n",
              "      <td>0</td>\n",
              "      <td>1</td>\n",
              "      <td>0</td>\n",
              "      <td>0</td>\n",
              "      <td>0</td>\n",
              "      <td>0</td>\n",
              "      <td>1</td>\n",
              "      <td>1</td>\n",
              "      <td>0</td>\n",
              "      <td>1</td>\n",
              "      <td>2</td>\n",
              "    </tr>\n",
              "    <tr>\n",
              "      <th>74</th>\n",
              "      <td>0.659728</td>\n",
              "      <td>0.038808</td>\n",
              "      <td>0.077615</td>\n",
              "      <td>0.000000</td>\n",
              "      <td>0.000000</td>\n",
              "      <td>0.077615</td>\n",
              "      <td>0.077615</td>\n",
              "      <td>0.038808</td>\n",
              "      <td>0.038808</td>\n",
              "      <td>0.000000</td>\n",
              "      <td>0.116423</td>\n",
              "      <td>0.194038</td>\n",
              "      <td>0.194038</td>\n",
              "      <td>0.038808</td>\n",
              "      <td>0.543305</td>\n",
              "      <td>0.155230</td>\n",
              "      <td>0</td>\n",
              "      <td>0</td>\n",
              "      <td>0</td>\n",
              "      <td>1</td>\n",
              "      <td>0</td>\n",
              "      <td>0</td>\n",
              "      <td>1</td>\n",
              "      <td>0</td>\n",
              "      <td>0</td>\n",
              "      <td>1</td>\n",
              "      <td>1</td>\n",
              "      <td>1</td>\n",
              "      <td>1</td>\n",
              "      <td>1</td>\n",
              "      <td>1</td>\n",
              "      <td>2</td>\n",
              "    </tr>\n",
              "    <tr>\n",
              "      <th>...</th>\n",
              "      <td>...</td>\n",
              "      <td>...</td>\n",
              "      <td>...</td>\n",
              "      <td>...</td>\n",
              "      <td>...</td>\n",
              "      <td>...</td>\n",
              "      <td>...</td>\n",
              "      <td>...</td>\n",
              "      <td>...</td>\n",
              "      <td>...</td>\n",
              "      <td>...</td>\n",
              "      <td>...</td>\n",
              "      <td>...</td>\n",
              "      <td>...</td>\n",
              "      <td>...</td>\n",
              "      <td>...</td>\n",
              "      <td>...</td>\n",
              "      <td>...</td>\n",
              "      <td>...</td>\n",
              "      <td>...</td>\n",
              "      <td>...</td>\n",
              "      <td>...</td>\n",
              "      <td>...</td>\n",
              "      <td>...</td>\n",
              "      <td>...</td>\n",
              "      <td>...</td>\n",
              "      <td>...</td>\n",
              "      <td>...</td>\n",
              "      <td>...</td>\n",
              "      <td>...</td>\n",
              "      <td>...</td>\n",
              "      <td>...</td>\n",
              "    </tr>\n",
              "    <tr>\n",
              "      <th>1019</th>\n",
              "      <td>0.793946</td>\n",
              "      <td>0.088216</td>\n",
              "      <td>0.088216</td>\n",
              "      <td>0.000000</td>\n",
              "      <td>0.000000</td>\n",
              "      <td>0.000000</td>\n",
              "      <td>0.000000</td>\n",
              "      <td>0.044108</td>\n",
              "      <td>0.088216</td>\n",
              "      <td>0.000000</td>\n",
              "      <td>0.176432</td>\n",
              "      <td>0.132324</td>\n",
              "      <td>0.132324</td>\n",
              "      <td>0.088216</td>\n",
              "      <td>0.000000</td>\n",
              "      <td>0.088216</td>\n",
              "      <td>0</td>\n",
              "      <td>0</td>\n",
              "      <td>1</td>\n",
              "      <td>1</td>\n",
              "      <td>1</td>\n",
              "      <td>1</td>\n",
              "      <td>1</td>\n",
              "      <td>0</td>\n",
              "      <td>0</td>\n",
              "      <td>1</td>\n",
              "      <td>1</td>\n",
              "      <td>0</td>\n",
              "      <td>1</td>\n",
              "      <td>1</td>\n",
              "      <td>0</td>\n",
              "      <td>2</td>\n",
              "    </tr>\n",
              "    <tr>\n",
              "      <th>1022</th>\n",
              "      <td>0.812291</td>\n",
              "      <td>0.047782</td>\n",
              "      <td>0.047782</td>\n",
              "      <td>0.000000</td>\n",
              "      <td>0.095564</td>\n",
              "      <td>0.047782</td>\n",
              "      <td>0.095564</td>\n",
              "      <td>0.143346</td>\n",
              "      <td>0.047782</td>\n",
              "      <td>0.047782</td>\n",
              "      <td>0.238909</td>\n",
              "      <td>0.095564</td>\n",
              "      <td>0.047782</td>\n",
              "      <td>0.047782</td>\n",
              "      <td>0.000000</td>\n",
              "      <td>0.143346</td>\n",
              "      <td>0</td>\n",
              "      <td>0</td>\n",
              "      <td>0</td>\n",
              "      <td>1</td>\n",
              "      <td>0</td>\n",
              "      <td>0</td>\n",
              "      <td>1</td>\n",
              "      <td>0</td>\n",
              "      <td>1</td>\n",
              "      <td>0</td>\n",
              "      <td>0</td>\n",
              "      <td>1</td>\n",
              "      <td>1</td>\n",
              "      <td>1</td>\n",
              "      <td>0</td>\n",
              "      <td>2</td>\n",
              "    </tr>\n",
              "    <tr>\n",
              "      <th>1023</th>\n",
              "      <td>0.557048</td>\n",
              "      <td>0.034816</td>\n",
              "      <td>0.034816</td>\n",
              "      <td>0.000000</td>\n",
              "      <td>0.000000</td>\n",
              "      <td>0.000000</td>\n",
              "      <td>0.069631</td>\n",
              "      <td>0.069631</td>\n",
              "      <td>0.069631</td>\n",
              "      <td>0.000000</td>\n",
              "      <td>0.104447</td>\n",
              "      <td>0.139262</td>\n",
              "      <td>0.069631</td>\n",
              "      <td>0.174078</td>\n",
              "      <td>0.626680</td>\n",
              "      <td>0.069631</td>\n",
              "      <td>0</td>\n",
              "      <td>0</td>\n",
              "      <td>1</td>\n",
              "      <td>0</td>\n",
              "      <td>1</td>\n",
              "      <td>1</td>\n",
              "      <td>1</td>\n",
              "      <td>0</td>\n",
              "      <td>1</td>\n",
              "      <td>0</td>\n",
              "      <td>0</td>\n",
              "      <td>1</td>\n",
              "      <td>1</td>\n",
              "      <td>1</td>\n",
              "      <td>1</td>\n",
              "      <td>2</td>\n",
              "    </tr>\n",
              "    <tr>\n",
              "      <th>1026</th>\n",
              "      <td>0.843820</td>\n",
              "      <td>0.044412</td>\n",
              "      <td>0.044412</td>\n",
              "      <td>0.133235</td>\n",
              "      <td>0.088823</td>\n",
              "      <td>0.000000</td>\n",
              "      <td>0.044412</td>\n",
              "      <td>0.088823</td>\n",
              "      <td>0.044412</td>\n",
              "      <td>0.044412</td>\n",
              "      <td>0.222058</td>\n",
              "      <td>0.222058</td>\n",
              "      <td>0.222058</td>\n",
              "      <td>0.088823</td>\n",
              "      <td>0.000000</td>\n",
              "      <td>0.222058</td>\n",
              "      <td>1</td>\n",
              "      <td>1</td>\n",
              "      <td>0</td>\n",
              "      <td>1</td>\n",
              "      <td>1</td>\n",
              "      <td>0</td>\n",
              "      <td>1</td>\n",
              "      <td>0</td>\n",
              "      <td>0</td>\n",
              "      <td>1</td>\n",
              "      <td>0</td>\n",
              "      <td>1</td>\n",
              "      <td>0</td>\n",
              "      <td>0</td>\n",
              "      <td>1</td>\n",
              "      <td>2</td>\n",
              "    </tr>\n",
              "    <tr>\n",
              "      <th>1027</th>\n",
              "      <td>0.715436</td>\n",
              "      <td>0.039746</td>\n",
              "      <td>0.039746</td>\n",
              "      <td>0.000000</td>\n",
              "      <td>0.000000</td>\n",
              "      <td>0.079493</td>\n",
              "      <td>0.079493</td>\n",
              "      <td>0.039746</td>\n",
              "      <td>0.039746</td>\n",
              "      <td>0.079493</td>\n",
              "      <td>0.079493</td>\n",
              "      <td>0.119239</td>\n",
              "      <td>0.198732</td>\n",
              "      <td>0.158986</td>\n",
              "      <td>0.000000</td>\n",
              "      <td>0.278225</td>\n",
              "      <td>0</td>\n",
              "      <td>1</td>\n",
              "      <td>1</td>\n",
              "      <td>0</td>\n",
              "      <td>1</td>\n",
              "      <td>1</td>\n",
              "      <td>1</td>\n",
              "      <td>0</td>\n",
              "      <td>0</td>\n",
              "      <td>1</td>\n",
              "      <td>0</td>\n",
              "      <td>1</td>\n",
              "      <td>0</td>\n",
              "      <td>1</td>\n",
              "      <td>0</td>\n",
              "      <td>2</td>\n",
              "    </tr>\n",
              "  </tbody>\n",
              "</table>\n",
              "<p>100 rows × 32 columns</p>\n",
              "</div>"
            ],
            "text/plain": [
              "           age      Medu      Fedu      Mjob      Fjob    reason  guardian  \\\n",
              "8     0.635001  0.127000  0.084667  0.084667  0.000000  0.042333  0.084667   \n",
              "12    0.721155  0.160257  0.160257  0.160257  0.120192  0.040064  0.080128   \n",
              "14    0.707798  0.088475  0.088475  0.132712  0.000000  0.088475  0.088475   \n",
              "71    0.776035  0.172452  0.086226  0.000000  0.000000  0.000000  0.043113   \n",
              "74    0.659728  0.038808  0.077615  0.000000  0.000000  0.077615  0.077615   \n",
              "...        ...       ...       ...       ...       ...       ...       ...   \n",
              "1019  0.793946  0.088216  0.088216  0.000000  0.000000  0.000000  0.000000   \n",
              "1022  0.812291  0.047782  0.047782  0.000000  0.095564  0.047782  0.095564   \n",
              "1023  0.557048  0.034816  0.034816  0.000000  0.000000  0.000000  0.069631   \n",
              "1026  0.843820  0.044412  0.044412  0.133235  0.088823  0.000000  0.044412   \n",
              "1027  0.715436  0.039746  0.039746  0.000000  0.000000  0.079493  0.079493   \n",
              "\n",
              "      traveltime  studytime  failures    famrel  freetime     goout    health  \\\n",
              "8       0.042333   0.084667  0.000000  0.169334  0.169334  0.169334  0.211667   \n",
              "12      0.120192   0.040064  0.000000  0.160257  0.160257  0.120192  0.200321   \n",
              "14      0.044237   0.088475  0.000000  0.176950  0.132712  0.176950  0.088475   \n",
              "71      0.086226   0.043113  0.043113  0.215565  0.172452  0.129339  0.129339   \n",
              "74      0.038808   0.038808  0.000000  0.116423  0.194038  0.194038  0.038808   \n",
              "...          ...        ...       ...       ...       ...       ...       ...   \n",
              "1019    0.044108   0.088216  0.000000  0.176432  0.132324  0.132324  0.088216   \n",
              "1022    0.143346   0.047782  0.047782  0.238909  0.095564  0.047782  0.047782   \n",
              "1023    0.069631   0.069631  0.000000  0.104447  0.139262  0.069631  0.174078   \n",
              "1026    0.088823   0.044412  0.044412  0.222058  0.222058  0.222058  0.088823   \n",
              "1027    0.039746   0.039746  0.079493  0.079493  0.119239  0.198732  0.158986   \n",
              "\n",
              "      absences      Alco  is anybody home  Subject  school  sex  address  \\\n",
              "8     0.423334  0.084667                0        0       1    1        1   \n",
              "12    0.280449  0.160257                1        0       0    1        0   \n",
              "14    0.176950  0.132712                1        0       1    1        1   \n",
              "71    0.000000  0.301791                0        1       0    0        0   \n",
              "74    0.543305  0.155230                0        0       0    1        0   \n",
              "...        ...       ...              ...      ...     ...  ...      ...   \n",
              "1019  0.000000  0.088216                0        0       1    1        1   \n",
              "1022  0.000000  0.143346                0        0       0    1        0   \n",
              "1023  0.626680  0.069631                0        0       1    0        1   \n",
              "1026  0.000000  0.222058                1        1       0    1        1   \n",
              "1027  0.000000  0.278225                0        1       1    0        1   \n",
              "\n",
              "      famsize  Pstatus  schoolsup  famsup  paid  activities  nursery  higher  \\\n",
              "8           1        1          0       1     0           0        1       1   \n",
              "12          0        1          0       1     0           1        1       1   \n",
              "14          1        1          0       1     1           0        1       1   \n",
              "71          0        1          0       0     0           0        1       1   \n",
              "74          0        1          0       0     1           1        1       1   \n",
              "...       ...      ...        ...     ...   ...         ...      ...     ...   \n",
              "1019        1        1          0       0     1           1        0       1   \n",
              "1022        0        1          0       1     0           0        1       1   \n",
              "1023        1        1          0       1     0           0        1       1   \n",
              "1026        0        1          0       0     1           0        1       0   \n",
              "1027        1        1          0       0     1           0        1       0   \n",
              "\n",
              "      internet  romantic  Mark  \n",
              "8            1         1     2  \n",
              "12           1         0     2  \n",
              "14           0         1     2  \n",
              "71           0         1     2  \n",
              "74           1         1     2  \n",
              "...        ...       ...   ...  \n",
              "1019         1         0     2  \n",
              "1022         1         0     2  \n",
              "1023         1         1     2  \n",
              "1026         0         1     2  \n",
              "1027         1         0     2  \n",
              "\n",
              "[100 rows x 32 columns]"
            ]
          },
          "metadata": {
            "tags": []
          },
          "execution_count": 137
        }
      ]
    },
    {
      "cell_type": "markdown",
      "metadata": {
        "id": "AAD1OjMskoOu",
        "colab_type": "text"
      },
      "source": [
        "## Notes  \n",
        "  \n",
        "* Для оценки качества моделей используйте соответствующие задаче метрики, которые рассматривались на занятиях. Для кросс-валидации выберите ту метрику, которая кажется вам наиболее подходящей и аргументируйте свой выбор.  \n",
        "  \n",
        "  \n",
        "* __Tip:__ Возможно, будет полезно решать задачи и строить модели отдельно для каждого предмета, а не для целого датасета.  \n",
        "  \n",
        "  \n",
        "* __Бонусное задание:__ Попробуйте применить другие модели для решения задачи регресии или классификации. Например, Random Forest."
      ]
    }
  ]
}